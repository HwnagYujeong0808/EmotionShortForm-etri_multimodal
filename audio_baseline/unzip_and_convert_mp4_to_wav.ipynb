{
 "cells": [
  {
   "cell_type": "code",
   "execution_count": 1,
   "metadata": {},
   "outputs": [
    {
     "name": "stdout",
     "output_type": "stream",
     "text": [
      "/workspace/EmotionShortForm/audio_baseline\r\n"
     ]
    }
   ],
   "source": [
    "!pwd"
   ]
  },
  {
   "cell_type": "code",
   "execution_count": 2,
   "metadata": {},
   "outputs": [],
   "source": [
    "import os\n",
    "import shutil\n",
    "from moviepy.video.io.VideoFileClip import VideoFileClip\n",
    "\n",
    "# 압축 파일 압축 해제\n",
    "# zip_file_path = \"./aihub/2.Validation/Video_data/VS_유튜브_04.zip\"\n",
    "# output_dir_path = \"./aihub/2.Validation/Video_data/VS_유튜브_04\"\n",
    "# shutil.unpack_archive(zip_file_path, output_dir_path)"
   ]
  },
  {
   "cell_type": "code",
   "execution_count": 5,
   "metadata": {},
   "outputs": [
    {
     "name": "stdout",
     "output_type": "stream",
     "text": [
      "MoviePy - Writing audio in ../data_AIHub/2.Validation/Audio_data/VS_유튜브_01/유튜브_여행_7640.wav\n"
     ]
    },
    {
     "name": "stderr",
     "output_type": "stream",
     "text": [
      "                                                                        \r"
     ]
    },
    {
     "name": "stdout",
     "output_type": "stream",
     "text": [
      "MoviePy - Done.\n",
      "MoviePy - Writing audio in ../data_AIHub/2.Validation/Audio_data/VS_유튜브_01/유튜브_스포츠_4174.wav\n"
     ]
    },
    {
     "name": "stderr",
     "output_type": "stream",
     "text": [
      "                                                                        \r"
     ]
    },
    {
     "name": "stdout",
     "output_type": "stream",
     "text": [
      "MoviePy - Done.\n",
      "MoviePy - Writing audio in ../data_AIHub/2.Validation/Audio_data/VS_유튜브_01/유튜브_기타_19843.wav\n"
     ]
    },
    {
     "name": "stderr",
     "output_type": "stream",
     "text": [
      "                                                                        \r"
     ]
    },
    {
     "name": "stdout",
     "output_type": "stream",
     "text": [
      "MoviePy - Done.\n",
      "MoviePy - Writing audio in ../data_AIHub/2.Validation/Audio_data/VS_유튜브_01/유튜브_일상_10479.wav\n"
     ]
    },
    {
     "name": "stderr",
     "output_type": "stream",
     "text": [
      "                                                                        \r"
     ]
    },
    {
     "name": "stdout",
     "output_type": "stream",
     "text": [
      "MoviePy - Done.\n",
      "MoviePy - Writing audio in ../data_AIHub/2.Validation/Audio_data/VS_유튜브_01/유튜브_스타일링및뷰티_14630.wav\n"
     ]
    },
    {
     "name": "stderr",
     "output_type": "stream",
     "text": [
      "                                                                       \r"
     ]
    },
    {
     "name": "stdout",
     "output_type": "stream",
     "text": [
      "MoviePy - Done.\n",
      "MoviePy - Writing audio in ../data_AIHub/2.Validation/Audio_data/VS_유튜브_01/유튜브_자동차_0094.wav\n"
     ]
    },
    {
     "name": "stderr",
     "output_type": "stream",
     "text": [
      "                                                                        \r"
     ]
    },
    {
     "name": "stdout",
     "output_type": "stream",
     "text": [
      "MoviePy - Done.\n",
      "MoviePy - Writing audio in ../data_AIHub/2.Validation/Audio_data/VS_유튜브_01/유튜브_반려동물및동물_2153.wav\n"
     ]
    },
    {
     "name": "stderr",
     "output_type": "stream",
     "text": [
      "                                                                        \r"
     ]
    },
    {
     "name": "stdout",
     "output_type": "stream",
     "text": [
      "MoviePy - Done.\n",
      "MoviePy - Writing audio in ../data_AIHub/2.Validation/Audio_data/VS_유튜브_01/유튜브_음식_17341.wav\n"
     ]
    },
    {
     "name": "stderr",
     "output_type": "stream",
     "text": [
      "                                                                        "
     ]
    },
    {
     "name": "stdout",
     "output_type": "stream",
     "text": [
      "MoviePy - Done.\n"
     ]
    },
    {
     "name": "stderr",
     "output_type": "stream",
     "text": [
      "\r"
     ]
    }
   ],
   "source": [
    "# mp4 파일이 있는 디렉토리 경로\n",
    "mp4_dir = \"../data_AIHub/2.Validation/Video_data/VS_유튜브_01\"\n",
    "\n",
    "# wav 파일을 저장할 디렉토리 경로\n",
    "wav_dir = \"../data_AIHub/2.Validation/Audio_data/VS_유튜브_01\"\n",
    "\n",
    "# 디렉토리가 없으면 생성\n",
    "os.makedirs(wav_dir, exist_ok=True)\n",
    "\n",
    "# 디렉토리 안에 있는 모든 mp4 파일을 wav 파일로 변환\n",
    "for mp4_file in os.listdir(mp4_dir):\n",
    "    if mp4_file.endswith(\".mp4\"):\n",
    "        # wav 파일 경로 생성\n",
    "        wav_file = os.path.join(wav_dir, mp4_file.replace(\".mp4\", \".wav\"))\n",
    "        \n",
    "        # 비디오 파일을 불러옴\n",
    "        video_clip = VideoFileClip(os.path.join(mp4_dir, mp4_file))\n",
    "        \n",
    "        # 오디오 부분만 추출하여 wav 파일로 저장\n",
    "        audio_clip = video_clip.audio\n",
    "        audio_clip.write_audiofile(wav_file)\n",
    "        \n",
    "        # 파일 닫기\n",
    "        video_clip.close()\n",
    "        audio_clip.close()"
   ]
  },
  {
   "cell_type": "code",
   "execution_count": null,
   "metadata": {},
   "outputs": [],
   "source": []
  }
 ],
 "metadata": {
  "kernelspec": {
   "display_name": "Python 3",
   "language": "python",
   "name": "python3"
  },
  "language_info": {
   "codemirror_mode": {
    "name": "ipython",
    "version": 3
   },
   "file_extension": ".py",
   "mimetype": "text/x-python",
   "name": "python",
   "nbconvert_exporter": "python",
   "pygments_lexer": "ipython3",
   "version": "3.8.5"
  }
 },
 "nbformat": 4,
 "nbformat_minor": 4
}
