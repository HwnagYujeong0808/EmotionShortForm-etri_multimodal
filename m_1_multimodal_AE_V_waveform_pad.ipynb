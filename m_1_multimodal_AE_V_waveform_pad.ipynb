{
 "cells": [
  {
   "cell_type": "code",
   "execution_count": 3,
   "metadata": {},
   "outputs": [],
   "source": [
    "import os\n",
    "\n",
    "import numpy as np\n",
    "import pandas as pd\n",
    "import torch"
   ]
  },
  {
   "cell_type": "code",
   "execution_count": 4,
   "metadata": {},
   "outputs": [],
   "source": [
    "import pickle\n",
    "\n",
    "# === Load Pickle Files ===\n",
    "def load_pickle(path):\n",
    "    with open(path, 'rb') as f:\n",
    "        return pickle.load(f)\n",
    "\n",
    "concatenate_vit_features =  load_pickle('Features/vit_features_av_train.pkl')\n",
    "concatenate_audio_features = np.load('Features/concatenate/concatenate_waveform_av_train.npy', allow_pickle=True)\n",
    "labels = np.load('Features/labels_av_train.npy', allow_pickle=True)\n",
    "\n",
    "concatenate_vit_features_val = load_pickle('Features/vit_features_av_val.pkl')\n",
    "concatenate_audio_features_val = np.load('Features/concatenate/concatenate_waveform_av_test.npy', allow_pickle=True)\n",
    "labels_val = np.load('Features/labels_av_val.npy', allow_pickle=True)\n",
    "\n",
    "concatenate_vit_features_test = load_pickle('Features/vit_features_mul_test.pkl')\n",
    "concatenate_audio_features_test = np.load('Features/concatenate/concatenate_waveform_mul_test.npy', allow_pickle=True)\n",
    "labels_test = np.load('Features/labels_mul_test.npy', allow_pickle=True)"
   ]
  },
  {
   "cell_type": "code",
   "execution_count": 5,
   "metadata": {},
   "outputs": [
    {
     "data": {
      "text/plain": [
       "(torch.Size([102, 768]), (246, 1024))"
      ]
     },
     "execution_count": 5,
     "metadata": {},
     "output_type": "execute_result"
    }
   ],
   "source": [
    "concatenate_vit_features[2].shape, concatenate_audio_features[2].shape"
   ]
  },
  {
   "cell_type": "code",
   "execution_count": 6,
   "metadata": {},
   "outputs": [
    {
     "data": {
      "text/plain": [
       "(250,)"
      ]
     },
     "execution_count": 6,
     "metadata": {},
     "output_type": "execute_result"
    }
   ],
   "source": [
    "labels[1].shape"
   ]
  },
  {
   "cell_type": "markdown",
   "metadata": {},
   "source": [
    "# Train"
   ]
  },
  {
   "cell_type": "code",
   "execution_count": 7,
   "metadata": {
    "scrolled": true
   },
   "outputs": [
    {
     "name": "stdout",
     "output_type": "stream",
     "text": [
      "check1: padded vit_features to torch.Size([250, 768])\n",
      "check1: padded vit_features to torch.Size([250, 768])\n",
      "check1: padded vit_features to torch.Size([250, 768])\n",
      "check2: padded audio_features to torch.Size([250, 1024])\n",
      "check1: padded vit_features to torch.Size([250, 768])\n",
      "check1: padded vit_features to torch.Size([250, 768])\n",
      "check1: padded vit_features to torch.Size([250, 768])\n",
      "check2: padded audio_features to torch.Size([250, 1024])\n",
      "check1: padded vit_features to torch.Size([250, 768])\n",
      "check2: padded audio_features to torch.Size([250, 1024])\n",
      "check1: padded vit_features to torch.Size([250, 768])\n",
      "check1: padded vit_features to torch.Size([250, 768])\n",
      "check1: padded vit_features to torch.Size([250, 768])\n",
      "check1: padded vit_features to torch.Size([250, 768])\n",
      "check2: padded audio_features to torch.Size([250, 1024])\n",
      "check2: padded audio_features to torch.Size([250, 1024])\n",
      "check1: padded vit_features to torch.Size([250, 768])\n",
      "check1: padded vit_features to torch.Size([250, 768])\n",
      "check1: padded vit_features to torch.Size([250, 768])\n",
      "check2: padded audio_features to torch.Size([250, 1024])\n",
      "check1: padded vit_features to torch.Size([250, 768])\n",
      "check1: padded vit_features to torch.Size([250, 768])\n",
      "check1: padded vit_features to torch.Size([250, 768])\n",
      "check1: padded vit_features to torch.Size([250, 768])\n",
      "check1: padded vit_features to torch.Size([250, 768])\n",
      "check1: padded vit_features to torch.Size([250, 768])\n",
      "check1: padded vit_features to torch.Size([250, 768])\n",
      "check2: padded audio_features to torch.Size([250, 1024])\n",
      "check1: padded vit_features to torch.Size([250, 768])\n",
      "check2: padded audio_features to torch.Size([250, 1024])\n",
      "check1: padded vit_features to torch.Size([250, 768])\n",
      "check2: padded audio_features to torch.Size([250, 1024])\n",
      "check1: padded vit_features to torch.Size([250, 768])\n",
      "check2: padded audio_features to torch.Size([250, 1024])\n",
      "check2: padded audio_features to torch.Size([250, 1024])\n",
      "check1: padded vit_features to torch.Size([250, 768])\n",
      "check2: padded audio_features to torch.Size([250, 1024])\n",
      "check1: padded vit_features to torch.Size([250, 768])\n",
      "check1: padded vit_features to torch.Size([250, 768])\n",
      "check2: padded audio_features to torch.Size([250, 1024])\n",
      "check1: padded vit_features to torch.Size([250, 768])\n",
      "check1: padded vit_features to torch.Size([250, 768])\n",
      "check2: padded audio_features to torch.Size([250, 1024])\n",
      "check1: padded vit_features to torch.Size([250, 768])\n",
      "check1: padded vit_features to torch.Size([250, 768])\n",
      "check1: padded vit_features to torch.Size([250, 768])\n",
      "check1: padded vit_features to torch.Size([250, 768])\n",
      "check1: padded vit_features to torch.Size([250, 768])\n",
      "check2: padded audio_features to torch.Size([250, 1024])\n",
      "check1: padded vit_features to torch.Size([250, 768])\n",
      "check1: padded vit_features to torch.Size([250, 768])\n",
      "check1: padded vit_features to torch.Size([250, 768])\n",
      "check1: padded vit_features to torch.Size([250, 768])\n",
      "check1: padded vit_features to torch.Size([250, 768])\n",
      "check2: padded audio_features to torch.Size([250, 1024])\n",
      "check1: padded vit_features to torch.Size([250, 768])\n",
      "check1: padded vit_features to torch.Size([250, 768])\n",
      "check1: padded vit_features to torch.Size([250, 768])\n",
      "check2: padded audio_features to torch.Size([250, 1024])\n",
      "check1: padded vit_features to torch.Size([250, 768])\n",
      "check2: padded audio_features to torch.Size([250, 1024])\n",
      "check1: padded vit_features to torch.Size([250, 768])\n",
      "check1: padded vit_features to torch.Size([250, 768])\n",
      "check2: padded audio_features to torch.Size([250, 1024])\n",
      "check2: padded audio_features to torch.Size([250, 1024])\n",
      "check1: padded vit_features to torch.Size([250, 768])\n",
      "check2: padded audio_features to torch.Size([250, 1024])\n",
      "check1: padded vit_features to torch.Size([250, 768])\n",
      "check2: padded audio_features to torch.Size([250, 1024])\n",
      "check1: padded vit_features to torch.Size([250, 768])\n",
      "check2: padded audio_features to torch.Size([250, 1024])\n",
      "check1: padded vit_features to torch.Size([250, 768])\n",
      "check2: padded audio_features to torch.Size([250, 1024])\n",
      "check1: padded vit_features to torch.Size([250, 768])\n",
      "check2: padded audio_features to torch.Size([250, 1024])\n",
      "check1: padded vit_features to torch.Size([250, 768])\n",
      "check1: padded vit_features to torch.Size([250, 768])\n",
      "check2: padded audio_features to torch.Size([250, 1024])\n",
      "check2: padded audio_features to torch.Size([250, 1024])\n",
      "check1: padded vit_features to torch.Size([250, 768])\n",
      "check1: padded vit_features to torch.Size([250, 768])\n",
      "check2: padded audio_features to torch.Size([250, 1024])\n",
      "check1: padded vit_features to torch.Size([250, 768])\n",
      "check2: padded audio_features to torch.Size([250, 1024])\n",
      "check1: padded vit_features to torch.Size([250, 768])\n",
      "check2: padded audio_features to torch.Size([250, 1024])\n",
      "check1: padded vit_features to torch.Size([250, 768])\n",
      "check2: padded audio_features to torch.Size([250, 1024])\n",
      "check1: padded vit_features to torch.Size([250, 768])\n",
      "check2: padded audio_features to torch.Size([250, 1024])\n",
      "check1: padded vit_features to torch.Size([250, 768])\n",
      "check2: padded audio_features to torch.Size([250, 1024])\n",
      "check1: padded vit_features to torch.Size([250, 768])\n",
      "check1: padded vit_features to torch.Size([250, 768])\n",
      "check1: padded vit_features to torch.Size([250, 768])\n",
      "check2: padded audio_features to torch.Size([250, 1024])\n",
      "check1: padded vit_features to torch.Size([250, 768])\n",
      "check2: padded audio_features to torch.Size([250, 1024])\n",
      "check1: padded vit_features to torch.Size([250, 768])\n",
      "check2: padded audio_features to torch.Size([250, 1024])\n",
      "check1: padded vit_features to torch.Size([250, 768])\n",
      "check2: padded audio_features to torch.Size([250, 1024])\n",
      "check1: padded vit_features to torch.Size([250, 768])\n",
      "check1: padded vit_features to torch.Size([250, 768])\n",
      "check1: padded vit_features to torch.Size([250, 768])\n",
      "check2: padded audio_features to torch.Size([250, 1024])\n",
      "check1: padded vit_features to torch.Size([250, 768])\n",
      "check1: padded vit_features to torch.Size([250, 768])\n",
      "check1: padded vit_features to torch.Size([250, 768])\n",
      "check2: padded audio_features to torch.Size([250, 1024])\n",
      "check1: padded vit_features to torch.Size([250, 768])\n",
      "check2: padded audio_features to torch.Size([250, 1024])\n",
      "check1: padded vit_features to torch.Size([250, 768])\n",
      "check2: padded audio_features to torch.Size([250, 1024])\n",
      "check2: padded audio_features to torch.Size([250, 1024])\n",
      "check1: padded vit_features to torch.Size([250, 768])\n",
      "check2: padded audio_features to torch.Size([250, 1024])\n",
      "check2: padded audio_features to torch.Size([250, 1024])\n",
      "check1: padded vit_features to torch.Size([250, 768])\n",
      "check1: padded vit_features to torch.Size([250, 768])\n",
      "check2: padded audio_features to torch.Size([250, 1024])\n",
      "check1: padded vit_features to torch.Size([250, 768])\n",
      "check2: padded audio_features to torch.Size([250, 1024])\n",
      "check1: padded vit_features to torch.Size([250, 768])\n",
      "check2: padded audio_features to torch.Size([250, 1024])\n",
      "check2: padded audio_features to torch.Size([250, 1024])\n",
      "check2: padded audio_features to torch.Size([250, 1024])\n",
      "check1: padded vit_features to torch.Size([250, 768])\n",
      "check1: padded vit_features to torch.Size([250, 768])\n",
      "check2: padded audio_features to torch.Size([250, 1024])\n",
      "check2: padded audio_features to torch.Size([250, 1024])\n",
      "check2: padded audio_features to torch.Size([250, 1024])\n",
      "check2: padded audio_features to torch.Size([250, 1024])\n",
      "check1: padded vit_features to torch.Size([250, 768])\n",
      "check2: padded audio_features to torch.Size([250, 1024])\n",
      "check2: padded audio_features to torch.Size([250, 1024])\n",
      "check1: padded vit_features to torch.Size([250, 768])\n",
      "check1: padded vit_features to torch.Size([250, 768])\n",
      "check1: padded vit_features to torch.Size([250, 768])\n",
      "check1: padded vit_features to torch.Size([250, 768])\n",
      "check2: padded audio_features to torch.Size([250, 1024])\n",
      "check1: padded vit_features to torch.Size([250, 768])\n",
      "check2: padded audio_features to torch.Size([250, 1024])\n",
      "check2: padded audio_features to torch.Size([250, 1024])\n",
      "check1: padded vit_features to torch.Size([250, 768])\n",
      "check2: padded audio_features to torch.Size([250, 1024])\n",
      "check2: padded audio_features to torch.Size([250, 1024])\n",
      "check1: padded vit_features to torch.Size([250, 768])\n",
      "check2: padded audio_features to torch.Size([250, 1024])\n",
      "check1: padded vit_features to torch.Size([250, 768])\n",
      "check1: padded vit_features to torch.Size([250, 768])\n",
      "check2: padded audio_features to torch.Size([250, 1024])\n",
      "check2: padded audio_features to torch.Size([250, 1024])\n",
      "check1: padded vit_features to torch.Size([250, 768])\n",
      "check2: padded audio_features to torch.Size([250, 1024])\n",
      "check1: padded vit_features to torch.Size([250, 768])\n",
      "check2: padded audio_features to torch.Size([250, 1024])\n",
      "check2: padded audio_features to torch.Size([250, 1024])\n",
      "check1: padded vit_features to torch.Size([250, 768])\n",
      "check2: padded audio_features to torch.Size([250, 1024])\n",
      "check2: padded audio_features to torch.Size([250, 1024])\n",
      "check1: padded vit_features to torch.Size([250, 768])\n",
      "check2: padded audio_features to torch.Size([250, 1024])\n",
      "check2: padded audio_features to torch.Size([250, 1024])\n",
      "check1: padded vit_features to torch.Size([250, 768])\n",
      "check2: padded audio_features to torch.Size([250, 1024])\n",
      "check2: padded audio_features to torch.Size([250, 1024])\n",
      "check2: padded audio_features to torch.Size([250, 1024])\n",
      "check1: padded vit_features to torch.Size([250, 768])\n",
      "check2: padded audio_features to torch.Size([250, 1024])\n",
      "check2: padded audio_features to torch.Size([250, 1024])\n",
      "check2: padded audio_features to torch.Size([250, 1024])\n",
      "check1: padded vit_features to torch.Size([250, 768])\n",
      "check2: padded audio_features to torch.Size([250, 1024])\n",
      "check1: padded vit_features to torch.Size([250, 768])\n",
      "check1: padded vit_features to torch.Size([250, 768])\n",
      "check2: padded audio_features to torch.Size([250, 1024])\n",
      "check1: padded vit_features to torch.Size([250, 768])\n",
      "check1: padded vit_features to torch.Size([250, 768])\n",
      "check2: padded audio_features to torch.Size([250, 1024])\n",
      "check2: padded audio_features to torch.Size([250, 1024])\n",
      "check2: padded audio_features to torch.Size([250, 1024])\n",
      "check1: padded vit_features to torch.Size([250, 768])\n",
      "check1: padded vit_features to torch.Size([250, 768])\n",
      "check2: padded audio_features to torch.Size([250, 1024])\n",
      "check2: padded audio_features to torch.Size([250, 1024])\n",
      "check2: padded audio_features to torch.Size([250, 1024])\n",
      "check1: padded vit_features to torch.Size([250, 768])\n",
      "check2: padded audio_features to torch.Size([250, 1024])\n",
      "check1: padded vit_features to torch.Size([250, 768])\n",
      "check2: padded audio_features to torch.Size([250, 1024])\n",
      "check2: padded audio_features to torch.Size([250, 1024])\n",
      "check1: padded vit_features to torch.Size([250, 768])\n",
      "check2: padded audio_features to torch.Size([250, 1024])\n",
      "check1: padded vit_features to torch.Size([250, 768])\n",
      "check2: padded audio_features to torch.Size([250, 1024])\n",
      "check1: padded vit_features to torch.Size([250, 768])\n",
      "check2: padded audio_features to torch.Size([250, 1024])\n",
      "check1: padded vit_features to torch.Size([250, 768])\n",
      "check2: padded audio_features to torch.Size([250, 1024])\n",
      "check1: padded vit_features to torch.Size([250, 768])\n",
      "check2: padded audio_features to torch.Size([250, 1024])\n",
      "check1: padded vit_features to torch.Size([250, 768])\n",
      "check2: padded audio_features to torch.Size([250, 1024])\n",
      "check2: padded audio_features to torch.Size([250, 1024])\n",
      "check2: padded audio_features to torch.Size([250, 1024])\n",
      "check1: padded vit_features to torch.Size([250, 768])\n",
      "check1: padded vit_features to torch.Size([250, 768])\n",
      "check2: padded audio_features to torch.Size([250, 1024])\n",
      "check2: padded audio_features to torch.Size([250, 1024])\n",
      "check2: padded audio_features to torch.Size([250, 1024])\n",
      "check1: padded vit_features to torch.Size([250, 768])\n",
      "check2: padded audio_features to torch.Size([250, 1024])\n",
      "check1: padded vit_features to torch.Size([250, 768])\n",
      "check1: padded vit_features to torch.Size([250, 768])\n",
      "check2: padded audio_features to torch.Size([250, 1024])\n",
      "check1: padded vit_features to torch.Size([250, 768])\n",
      "check2: padded audio_features to torch.Size([250, 1024])\n",
      "check1: padded vit_features to torch.Size([250, 768])\n",
      "check2: padded audio_features to torch.Size([250, 1024])\n",
      "check2: padded audio_features to torch.Size([250, 1024])\n",
      "check2: padded audio_features to torch.Size([250, 1024])\n",
      "check2: padded audio_features to torch.Size([250, 1024])\n",
      "check2: padded audio_features to torch.Size([250, 1024])\n",
      "check1: padded vit_features to torch.Size([250, 768])\n",
      "check1: padded vit_features to torch.Size([250, 768])\n",
      "check2: padded audio_features to torch.Size([250, 1024])\n",
      "check2: padded audio_features to torch.Size([250, 1024])\n",
      "check1: padded vit_features to torch.Size([250, 768])\n",
      "check2: padded audio_features to torch.Size([250, 1024])\n",
      "check2: padded audio_features to torch.Size([250, 1024])\n",
      "check1: padded vit_features to torch.Size([250, 768])\n",
      "check2: padded audio_features to torch.Size([250, 1024])\n",
      "check1: padded vit_features to torch.Size([250, 768])\n",
      "check1: padded vit_features to torch.Size([250, 768])\n",
      "check1: padded vit_features to torch.Size([250, 768])\n",
      "check2: padded audio_features to torch.Size([250, 1024])\n",
      "check1: padded vit_features to torch.Size([250, 768])\n",
      "check2: padded audio_features to torch.Size([250, 1024])\n",
      "check2: padded audio_features to torch.Size([250, 1024])\n",
      "check2: padded audio_features to torch.Size([250, 1024])\n",
      "check1: padded vit_features to torch.Size([250, 768])\n",
      "check2: padded audio_features to torch.Size([250, 1024])\n",
      "check1: padded vit_features to torch.Size([250, 768])\n",
      "check1: padded vit_features to torch.Size([250, 768])\n",
      "check2: padded audio_features to torch.Size([250, 1024])\n",
      "check1: padded vit_features to torch.Size([250, 768])\n",
      "check2: padded audio_features to torch.Size([250, 1024])\n",
      "check2: padded audio_features to torch.Size([250, 1024])\n",
      "check1: padded vit_features to torch.Size([250, 768])\n",
      "check2: padded audio_features to torch.Size([250, 1024])\n",
      "check2: padded audio_features to torch.Size([250, 1024])\n",
      "check1: padded vit_features to torch.Size([250, 768])\n",
      "check2: padded audio_features to torch.Size([250, 1024])\n",
      "check1: padded vit_features to torch.Size([250, 768])\n",
      "check2: padded audio_features to torch.Size([250, 1024])\n",
      "check1: padded vit_features to torch.Size([250, 768])\n",
      "check2: padded audio_features to torch.Size([250, 1024])\n",
      "check2: padded audio_features to torch.Size([250, 1024])\n",
      "check2: padded audio_features to torch.Size([250, 1024])\n",
      "check1: padded vit_features to torch.Size([250, 768])\n",
      "check2: padded audio_features to torch.Size([250, 1024])\n",
      "check2: padded audio_features to torch.Size([250, 1024])\n",
      "check2: padded audio_features to torch.Size([250, 1024])\n",
      "check1: padded vit_features to torch.Size([250, 768])\n",
      "check2: padded audio_features to torch.Size([250, 1024])\n",
      "check2: padded audio_features to torch.Size([250, 1024])\n",
      "check1: padded vit_features to torch.Size([250, 768])\n",
      "check1: padded vit_features to torch.Size([250, 768])\n",
      "check1: padded vit_features to torch.Size([250, 768])\n",
      "check2: padded audio_features to torch.Size([250, 1024])\n",
      "check1: padded vit_features to torch.Size([250, 768])\n",
      "check2: padded audio_features to torch.Size([250, 1024])\n",
      "check2: padded audio_features to torch.Size([250, 1024])\n",
      "check1: padded vit_features to torch.Size([250, 768])\n",
      "check2: padded audio_features to torch.Size([250, 1024])\n",
      "check1: padded vit_features to torch.Size([250, 768])\n",
      "check2: padded audio_features to torch.Size([250, 1024])\n",
      "check2: padded audio_features to torch.Size([250, 1024])\n",
      "check1: padded vit_features to torch.Size([250, 768])\n",
      "check2: padded audio_features to torch.Size([250, 1024])\n",
      "check2: padded audio_features to torch.Size([250, 1024])\n",
      "check1: padded vit_features to torch.Size([250, 768])\n",
      "check1: padded vit_features to torch.Size([250, 768])\n",
      "check2: padded audio_features to torch.Size([250, 1024])\n",
      "check1: padded vit_features to torch.Size([250, 768])\n",
      "check2: padded audio_features to torch.Size([250, 1024])\n",
      "check1: padded vit_features to torch.Size([250, 768])\n",
      "check2: padded audio_features to torch.Size([250, 1024])\n",
      "check2: padded audio_features to torch.Size([250, 1024])\n",
      "check1: padded vit_features to torch.Size([250, 768])\n",
      "check2: padded audio_features to torch.Size([250, 1024])\n",
      "check2: padded audio_features to torch.Size([250, 1024])\n",
      "check1: padded vit_features to torch.Size([250, 768])\n",
      "check2: padded audio_features to torch.Size([250, 1024])\n",
      "check2: padded audio_features to torch.Size([250, 1024])\n",
      "check1: padded vit_features to torch.Size([250, 768])\n",
      "check2: padded audio_features to torch.Size([250, 1024])\n",
      "check1: padded vit_features to torch.Size([250, 768])\n",
      "check2: padded audio_features to torch.Size([250, 1024])\n",
      "check1: padded vit_features to torch.Size([250, 768])\n",
      "check2: padded audio_features to torch.Size([250, 1024])\n",
      "check1: padded vit_features to torch.Size([250, 768])\n",
      "check2: padded audio_features to torch.Size([250, 1024])\n",
      "check1: padded vit_features to torch.Size([250, 768])\n",
      "check2: padded audio_features to torch.Size([250, 1024])\n",
      "check1: padded vit_features to torch.Size([250, 768])\n",
      "check2: padded audio_features to torch.Size([250, 1024])\n",
      "check2: padded audio_features to torch.Size([250, 1024])\n",
      "check1: padded vit_features to torch.Size([250, 768])\n",
      "check2: padded audio_features to torch.Size([250, 1024])\n",
      "check1: padded vit_features to torch.Size([250, 768])\n",
      "check2: padded audio_features to torch.Size([250, 1024])\n",
      "check2: padded audio_features to torch.Size([250, 1024])\n",
      "check1: padded vit_features to torch.Size([250, 768])\n",
      "check2: padded audio_features to torch.Size([250, 1024])\n",
      "check1: padded vit_features to torch.Size([250, 768])\n",
      "check2: padded audio_features to torch.Size([250, 1024])\n",
      "check1: padded vit_features to torch.Size([250, 768])\n",
      "check2: padded audio_features to torch.Size([250, 1024])\n"
     ]
    }
   ],
   "source": [
    "features_concatenate_list = []\n",
    "cnt = 0\n",
    "TARGET_LENGTH = 250\n",
    "\n",
    "for vit_features, audio_features in zip(concatenate_vit_features, concatenate_audio_features):\n",
    "    audio_features = torch.tensor(audio_features).cuda()\n",
    "    vit_features = vit_features.cuda()  # Move to cuda once to avoid repeated calls\n",
    "\n",
    "    # vit_features to 250 length\n",
    "    if len(vit_features) < TARGET_LENGTH:\n",
    "        padding = torch.zeros(TARGET_LENGTH - len(vit_features), vit_features.shape[1], device=vit_features.device)\n",
    "        vit_features = torch.cat([vit_features, padding], dim=0)\n",
    "        print(f'check1: padded vit_features to {vit_features.shape}')\n",
    "    \n",
    "    # audio_features to 250 length\n",
    "    if len(audio_features) < TARGET_LENGTH:\n",
    "        padding = torch.zeros(TARGET_LENGTH - len(audio_features), audio_features.shape[1], device=audio_features.device)\n",
    "        audio_features = torch.cat([audio_features, padding], dim=0)\n",
    "        print(f'check2: padded audio_features to {audio_features.shape}')\n",
    "\n",
    "    concated_feature = torch.cat((vit_features, audio_features), dim=1)\n",
    "    features_concatenate_list.append(concated_feature)\n"
   ]
  },
  {
   "cell_type": "code",
   "execution_count": 8,
   "metadata": {},
   "outputs": [
    {
     "data": {
      "text/plain": [
       "(401, torch.Size([250, 1792]))"
      ]
     },
     "execution_count": 8,
     "metadata": {},
     "output_type": "execute_result"
    }
   ],
   "source": [
    "len(features_concatenate_list), features_concatenate_list[0].shape"
   ]
  },
  {
   "cell_type": "code",
   "execution_count": 9,
   "metadata": {
    "scrolled": true
   },
   "outputs": [
    {
     "data": {
      "application/vnd.jupyter.widget-view+json": {
       "model_id": "234e900c94a9455f9f9422061f9b27d4",
       "version_major": 2,
       "version_minor": 0
      },
      "text/plain": [
       "Processing:   0%|          | 0/401 [00:00<?, ?it/s]"
      ]
     },
     "metadata": {},
     "output_type": "display_data"
    },
    {
     "name": "stderr",
     "output_type": "stream",
     "text": [
      "/tmp/ipykernel_15651/579627365.py:22: DeprecationWarning: The 'warn' function is deprecated, use 'warning' instead\n",
      "  logging.warn(f'{concat.shape}, {label.shape}')\n",
      "WARNING:root:torch.Size([250, 1792]), torch.Size([250])\n",
      "WARNING:root:torch.Size([250, 1792]), torch.Size([250])\n",
      "WARNING:root:torch.Size([250, 1792]), torch.Size([250])\n",
      "WARNING:root:torch.Size([250, 1792]), torch.Size([250])\n",
      "WARNING:root:torch.Size([250, 1792]), torch.Size([250])\n",
      "WARNING:root:torch.Size([250, 1792]), torch.Size([250])\n",
      "WARNING:root:torch.Size([250, 1792]), torch.Size([250])\n",
      "WARNING:root:torch.Size([250, 1792]), torch.Size([250])\n",
      "WARNING:root:torch.Size([250, 1792]), torch.Size([250])\n",
      "WARNING:root:torch.Size([250, 1792]), torch.Size([250])\n",
      "WARNING:root:torch.Size([250, 1792]), torch.Size([250])\n",
      "WARNING:root:torch.Size([250, 1792]), torch.Size([250])\n",
      "WARNING:root:torch.Size([250, 1792]), torch.Size([250])\n",
      "WARNING:root:torch.Size([250, 1792]), torch.Size([250])\n",
      "WARNING:root:torch.Size([250, 1792]), torch.Size([250])\n",
      "WARNING:root:torch.Size([250, 1792]), torch.Size([250])\n",
      "WARNING:root:torch.Size([250, 1792]), torch.Size([250])\n",
      "WARNING:root:torch.Size([250, 1792]), torch.Size([250])\n",
      "WARNING:root:torch.Size([250, 1792]), torch.Size([250])\n",
      "WARNING:root:torch.Size([250, 1792]), torch.Size([250])\n",
      "WARNING:root:torch.Size([250, 1792]), torch.Size([250])\n",
      "WARNING:root:torch.Size([250, 1792]), torch.Size([250])\n",
      "WARNING:root:torch.Size([250, 1792]), torch.Size([250])\n",
      "WARNING:root:torch.Size([250, 1792]), torch.Size([250])\n",
      "WARNING:root:torch.Size([250, 1792]), torch.Size([250])\n",
      "WARNING:root:torch.Size([250, 1792]), torch.Size([250])\n",
      "WARNING:root:torch.Size([250, 1792]), torch.Size([250])\n",
      "WARNING:root:torch.Size([250, 1792]), torch.Size([250])\n",
      "WARNING:root:torch.Size([250, 1792]), torch.Size([250])\n",
      "WARNING:root:torch.Size([250, 1792]), torch.Size([250])\n",
      "WARNING:root:torch.Size([250, 1792]), torch.Size([250])\n",
      "WARNING:root:torch.Size([250, 1792]), torch.Size([250])\n",
      "WARNING:root:torch.Size([250, 1792]), torch.Size([250])\n",
      "WARNING:root:torch.Size([250, 1792]), torch.Size([250])\n",
      "WARNING:root:torch.Size([250, 1792]), torch.Size([250])\n",
      "WARNING:root:torch.Size([250, 1792]), torch.Size([250])\n",
      "WARNING:root:torch.Size([250, 1792]), torch.Size([250])\n",
      "WARNING:root:torch.Size([250, 1792]), torch.Size([250])\n",
      "WARNING:root:torch.Size([250, 1792]), torch.Size([250])\n",
      "WARNING:root:torch.Size([250, 1792]), torch.Size([250])\n",
      "WARNING:root:torch.Size([250, 1792]), torch.Size([250])\n",
      "WARNING:root:torch.Size([250, 1792]), torch.Size([250])\n",
      "WARNING:root:torch.Size([250, 1792]), torch.Size([250])\n",
      "WARNING:root:torch.Size([250, 1792]), torch.Size([250])\n",
      "WARNING:root:torch.Size([250, 1792]), torch.Size([250])\n",
      "WARNING:root:torch.Size([250, 1792]), torch.Size([250])\n",
      "WARNING:root:torch.Size([250, 1792]), torch.Size([250])\n",
      "WARNING:root:torch.Size([250, 1792]), torch.Size([250])\n",
      "WARNING:root:torch.Size([250, 1792]), torch.Size([250])\n",
      "WARNING:root:torch.Size([250, 1792]), torch.Size([250])\n",
      "WARNING:root:torch.Size([250, 1792]), torch.Size([250])\n",
      "WARNING:root:torch.Size([250, 1792]), torch.Size([250])\n",
      "WARNING:root:torch.Size([250, 1792]), torch.Size([250])\n",
      "WARNING:root:torch.Size([250, 1792]), torch.Size([250])\n",
      "WARNING:root:torch.Size([250, 1792]), torch.Size([250])\n",
      "WARNING:root:torch.Size([250, 1792]), torch.Size([250])\n",
      "WARNING:root:torch.Size([250, 1792]), torch.Size([250])\n",
      "WARNING:root:torch.Size([250, 1792]), torch.Size([250])\n",
      "WARNING:root:torch.Size([250, 1792]), torch.Size([250])\n",
      "WARNING:root:torch.Size([250, 1792]), torch.Size([250])\n",
      "WARNING:root:torch.Size([250, 1792]), torch.Size([250])\n",
      "WARNING:root:torch.Size([250, 1792]), torch.Size([250])\n",
      "WARNING:root:torch.Size([250, 1792]), torch.Size([250])\n",
      "WARNING:root:torch.Size([250, 1792]), torch.Size([250])\n",
      "WARNING:root:torch.Size([250, 1792]), torch.Size([250])\n",
      "WARNING:root:torch.Size([250, 1792]), torch.Size([250])\n",
      "WARNING:root:torch.Size([250, 1792]), torch.Size([250])\n",
      "WARNING:root:torch.Size([250, 1792]), torch.Size([250])\n",
      "WARNING:root:torch.Size([250, 1792]), torch.Size([250])\n",
      "WARNING:root:torch.Size([250, 1792]), torch.Size([250])\n",
      "WARNING:root:torch.Size([250, 1792]), torch.Size([250])\n",
      "WARNING:root:torch.Size([250, 1792]), torch.Size([250])\n",
      "WARNING:root:torch.Size([250, 1792]), torch.Size([250])\n",
      "WARNING:root:torch.Size([250, 1792]), torch.Size([250])\n",
      "WARNING:root:torch.Size([250, 1792]), torch.Size([250])\n",
      "WARNING:root:torch.Size([250, 1792]), torch.Size([250])\n",
      "WARNING:root:torch.Size([250, 1792]), torch.Size([250])\n",
      "WARNING:root:torch.Size([250, 1792]), torch.Size([250])\n",
      "WARNING:root:torch.Size([250, 1792]), torch.Size([250])\n",
      "WARNING:root:torch.Size([250, 1792]), torch.Size([250])\n",
      "WARNING:root:torch.Size([250, 1792]), torch.Size([250])\n",
      "WARNING:root:torch.Size([250, 1792]), torch.Size([250])\n",
      "WARNING:root:torch.Size([250, 1792]), torch.Size([250])\n",
      "WARNING:root:torch.Size([250, 1792]), torch.Size([250])\n",
      "WARNING:root:torch.Size([250, 1792]), torch.Size([250])\n",
      "WARNING:root:torch.Size([250, 1792]), torch.Size([250])\n",
      "WARNING:root:torch.Size([250, 1792]), torch.Size([250])\n",
      "WARNING:root:torch.Size([250, 1792]), torch.Size([250])\n",
      "WARNING:root:torch.Size([250, 1792]), torch.Size([250])\n",
      "WARNING:root:torch.Size([250, 1792]), torch.Size([250])\n",
      "WARNING:root:torch.Size([250, 1792]), torch.Size([250])\n",
      "WARNING:root:torch.Size([250, 1792]), torch.Size([250])\n",
      "WARNING:root:torch.Size([250, 1792]), torch.Size([250])\n",
      "WARNING:root:torch.Size([250, 1792]), torch.Size([250])\n",
      "WARNING:root:torch.Size([250, 1792]), torch.Size([250])\n",
      "WARNING:root:torch.Size([250, 1792]), torch.Size([250])\n",
      "WARNING:root:torch.Size([250, 1792]), torch.Size([250])\n",
      "WARNING:root:torch.Size([250, 1792]), torch.Size([250])\n",
      "WARNING:root:torch.Size([250, 1792]), torch.Size([250])\n",
      "WARNING:root:torch.Size([250, 1792]), torch.Size([250])\n",
      "WARNING:root:torch.Size([250, 1792]), torch.Size([250])\n",
      "WARNING:root:torch.Size([250, 1792]), torch.Size([250])\n",
      "WARNING:root:torch.Size([250, 1792]), torch.Size([250])\n",
      "WARNING:root:torch.Size([250, 1792]), torch.Size([250])\n",
      "WARNING:root:torch.Size([250, 1792]), torch.Size([250])\n",
      "WARNING:root:torch.Size([250, 1792]), torch.Size([250])\n",
      "WARNING:root:torch.Size([250, 1792]), torch.Size([250])\n",
      "WARNING:root:torch.Size([250, 1792]), torch.Size([250])\n",
      "WARNING:root:torch.Size([250, 1792]), torch.Size([250])\n",
      "WARNING:root:torch.Size([250, 1792]), torch.Size([250])\n",
      "WARNING:root:torch.Size([250, 1792]), torch.Size([250])\n",
      "WARNING:root:torch.Size([250, 1792]), torch.Size([250])\n",
      "WARNING:root:torch.Size([250, 1792]), torch.Size([250])\n",
      "WARNING:root:torch.Size([250, 1792]), torch.Size([250])\n",
      "WARNING:root:torch.Size([250, 1792]), torch.Size([250])\n",
      "WARNING:root:torch.Size([250, 1792]), torch.Size([250])\n",
      "WARNING:root:torch.Size([250, 1792]), torch.Size([250])\n",
      "WARNING:root:torch.Size([250, 1792]), torch.Size([250])\n",
      "WARNING:root:torch.Size([250, 1792]), torch.Size([250])\n",
      "WARNING:root:torch.Size([250, 1792]), torch.Size([250])\n",
      "WARNING:root:torch.Size([250, 1792]), torch.Size([250])\n",
      "WARNING:root:torch.Size([250, 1792]), torch.Size([250])\n",
      "WARNING:root:torch.Size([250, 1792]), torch.Size([250])\n",
      "WARNING:root:torch.Size([250, 1792]), torch.Size([250])\n",
      "WARNING:root:torch.Size([250, 1792]), torch.Size([250])\n",
      "WARNING:root:torch.Size([250, 1792]), torch.Size([250])\n",
      "WARNING:root:torch.Size([250, 1792]), torch.Size([250])\n",
      "WARNING:root:torch.Size([250, 1792]), torch.Size([250])\n",
      "WARNING:root:torch.Size([250, 1792]), torch.Size([250])\n",
      "WARNING:root:torch.Size([250, 1792]), torch.Size([250])\n",
      "WARNING:root:torch.Size([250, 1792]), torch.Size([250])\n",
      "WARNING:root:torch.Size([250, 1792]), torch.Size([250])\n",
      "WARNING:root:torch.Size([250, 1792]), torch.Size([250])\n",
      "WARNING:root:torch.Size([250, 1792]), torch.Size([250])\n",
      "WARNING:root:torch.Size([250, 1792]), torch.Size([250])\n",
      "WARNING:root:torch.Size([250, 1792]), torch.Size([250])\n",
      "WARNING:root:torch.Size([250, 1792]), torch.Size([250])\n",
      "WARNING:root:torch.Size([250, 1792]), torch.Size([250])\n",
      "WARNING:root:torch.Size([250, 1792]), torch.Size([250])\n",
      "WARNING:root:torch.Size([250, 1792]), torch.Size([250])\n",
      "WARNING:root:torch.Size([250, 1792]), torch.Size([250])\n",
      "WARNING:root:torch.Size([250, 1792]), torch.Size([250])\n",
      "WARNING:root:torch.Size([250, 1792]), torch.Size([250])\n",
      "WARNING:root:torch.Size([250, 1792]), torch.Size([250])\n",
      "WARNING:root:torch.Size([250, 1792]), torch.Size([250])\n",
      "WARNING:root:torch.Size([250, 1792]), torch.Size([250])\n",
      "WARNING:root:torch.Size([250, 1792]), torch.Size([250])\n",
      "WARNING:root:torch.Size([250, 1792]), torch.Size([250])\n",
      "WARNING:root:torch.Size([250, 1792]), torch.Size([250])\n",
      "WARNING:root:torch.Size([250, 1792]), torch.Size([250])\n",
      "WARNING:root:torch.Size([250, 1792]), torch.Size([250])\n",
      "WARNING:root:torch.Size([250, 1792]), torch.Size([250])\n",
      "WARNING:root:torch.Size([250, 1792]), torch.Size([250])\n",
      "WARNING:root:torch.Size([250, 1792]), torch.Size([250])\n",
      "WARNING:root:torch.Size([250, 1792]), torch.Size([250])\n",
      "WARNING:root:torch.Size([250, 1792]), torch.Size([250])\n",
      "WARNING:root:torch.Size([250, 1792]), torch.Size([250])\n",
      "WARNING:root:torch.Size([250, 1792]), torch.Size([250])\n",
      "WARNING:root:torch.Size([250, 1792]), torch.Size([250])\n",
      "WARNING:root:torch.Size([250, 1792]), torch.Size([250])\n",
      "WARNING:root:torch.Size([250, 1792]), torch.Size([250])\n",
      "WARNING:root:torch.Size([250, 1792]), torch.Size([250])\n",
      "WARNING:root:torch.Size([250, 1792]), torch.Size([250])\n",
      "WARNING:root:torch.Size([250, 1792]), torch.Size([250])\n",
      "WARNING:root:torch.Size([250, 1792]), torch.Size([250])\n",
      "WARNING:root:torch.Size([250, 1792]), torch.Size([250])\n",
      "WARNING:root:torch.Size([250, 1792]), torch.Size([250])\n",
      "WARNING:root:torch.Size([250, 1792]), torch.Size([250])\n",
      "WARNING:root:torch.Size([250, 1792]), torch.Size([250])\n",
      "WARNING:root:torch.Size([250, 1792]), torch.Size([250])\n",
      "WARNING:root:torch.Size([250, 1792]), torch.Size([250])\n",
      "WARNING:root:torch.Size([250, 1792]), torch.Size([250])\n",
      "WARNING:root:torch.Size([250, 1792]), torch.Size([250])\n",
      "WARNING:root:torch.Size([250, 1792]), torch.Size([250])\n",
      "WARNING:root:torch.Size([250, 1792]), torch.Size([250])\n",
      "WARNING:root:torch.Size([250, 1792]), torch.Size([250])\n",
      "WARNING:root:torch.Size([250, 1792]), torch.Size([250])\n",
      "WARNING:root:torch.Size([250, 1792]), torch.Size([250])\n",
      "WARNING:root:torch.Size([250, 1792]), torch.Size([250])\n",
      "WARNING:root:torch.Size([250, 1792]), torch.Size([250])\n",
      "WARNING:root:torch.Size([250, 1792]), torch.Size([250])\n",
      "WARNING:root:torch.Size([250, 1792]), torch.Size([250])\n",
      "WARNING:root:torch.Size([250, 1792]), torch.Size([250])\n",
      "WARNING:root:torch.Size([250, 1792]), torch.Size([250])\n",
      "WARNING:root:torch.Size([250, 1792]), torch.Size([250])\n",
      "WARNING:root:torch.Size([250, 1792]), torch.Size([250])\n",
      "WARNING:root:torch.Size([250, 1792]), torch.Size([250])\n",
      "WARNING:root:torch.Size([250, 1792]), torch.Size([250])\n",
      "WARNING:root:torch.Size([250, 1792]), torch.Size([250])\n",
      "WARNING:root:torch.Size([250, 1792]), torch.Size([250])\n",
      "WARNING:root:torch.Size([250, 1792]), torch.Size([250])\n",
      "WARNING:root:torch.Size([250, 1792]), torch.Size([250])\n",
      "WARNING:root:torch.Size([250, 1792]), torch.Size([250])\n",
      "WARNING:root:torch.Size([250, 1792]), torch.Size([250])\n",
      "WARNING:root:torch.Size([250, 1792]), torch.Size([250])\n",
      "WARNING:root:torch.Size([250, 1792]), torch.Size([250])\n",
      "WARNING:root:torch.Size([250, 1792]), torch.Size([250])\n",
      "WARNING:root:torch.Size([250, 1792]), torch.Size([250])\n",
      "WARNING:root:torch.Size([250, 1792]), torch.Size([250])\n",
      "WARNING:root:torch.Size([250, 1792]), torch.Size([250])\n",
      "WARNING:root:torch.Size([250, 1792]), torch.Size([250])\n",
      "WARNING:root:torch.Size([250, 1792]), torch.Size([250])\n",
      "WARNING:root:torch.Size([250, 1792]), torch.Size([250])\n",
      "WARNING:root:torch.Size([250, 1792]), torch.Size([250])\n",
      "WARNING:root:torch.Size([250, 1792]), torch.Size([250])\n",
      "WARNING:root:torch.Size([250, 1792]), torch.Size([250])\n",
      "WARNING:root:torch.Size([250, 1792]), torch.Size([250])\n",
      "WARNING:root:torch.Size([250, 1792]), torch.Size([250])\n",
      "WARNING:root:torch.Size([250, 1792]), torch.Size([250])\n",
      "WARNING:root:torch.Size([250, 1792]), torch.Size([250])\n",
      "WARNING:root:torch.Size([250, 1792]), torch.Size([250])\n",
      "WARNING:root:torch.Size([250, 1792]), torch.Size([250])\n",
      "WARNING:root:torch.Size([250, 1792]), torch.Size([250])\n",
      "WARNING:root:torch.Size([250, 1792]), torch.Size([250])\n",
      "WARNING:root:torch.Size([250, 1792]), torch.Size([250])\n",
      "WARNING:root:torch.Size([250, 1792]), torch.Size([250])\n",
      "WARNING:root:torch.Size([250, 1792]), torch.Size([250])\n",
      "WARNING:root:torch.Size([250, 1792]), torch.Size([250])\n",
      "WARNING:root:torch.Size([250, 1792]), torch.Size([250])\n",
      "WARNING:root:torch.Size([250, 1792]), torch.Size([250])\n",
      "WARNING:root:torch.Size([250, 1792]), torch.Size([250])\n",
      "WARNING:root:torch.Size([250, 1792]), torch.Size([250])\n",
      "WARNING:root:torch.Size([250, 1792]), torch.Size([250])\n",
      "WARNING:root:torch.Size([250, 1792]), torch.Size([250])\n",
      "WARNING:root:torch.Size([250, 1792]), torch.Size([250])\n",
      "WARNING:root:torch.Size([250, 1792]), torch.Size([250])\n",
      "WARNING:root:torch.Size([250, 1792]), torch.Size([250])\n",
      "WARNING:root:torch.Size([250, 1792]), torch.Size([250])\n",
      "WARNING:root:torch.Size([250, 1792]), torch.Size([250])\n",
      "WARNING:root:torch.Size([250, 1792]), torch.Size([250])\n",
      "WARNING:root:torch.Size([250, 1792]), torch.Size([250])\n",
      "WARNING:root:torch.Size([250, 1792]), torch.Size([250])\n",
      "WARNING:root:torch.Size([250, 1792]), torch.Size([250])\n",
      "WARNING:root:torch.Size([250, 1792]), torch.Size([250])\n",
      "WARNING:root:torch.Size([250, 1792]), torch.Size([250])\n",
      "WARNING:root:torch.Size([250, 1792]), torch.Size([250])\n",
      "WARNING:root:torch.Size([250, 1792]), torch.Size([250])\n",
      "WARNING:root:torch.Size([250, 1792]), torch.Size([250])\n",
      "WARNING:root:torch.Size([250, 1792]), torch.Size([250])\n",
      "WARNING:root:torch.Size([250, 1792]), torch.Size([250])\n",
      "WARNING:root:torch.Size([250, 1792]), torch.Size([250])\n",
      "WARNING:root:torch.Size([250, 1792]), torch.Size([250])\n",
      "WARNING:root:torch.Size([250, 1792]), torch.Size([250])\n",
      "WARNING:root:torch.Size([250, 1792]), torch.Size([250])\n",
      "WARNING:root:torch.Size([250, 1792]), torch.Size([250])\n",
      "WARNING:root:torch.Size([250, 1792]), torch.Size([250])\n",
      "WARNING:root:torch.Size([250, 1792]), torch.Size([250])\n",
      "WARNING:root:torch.Size([250, 1792]), torch.Size([250])\n",
      "WARNING:root:torch.Size([250, 1792]), torch.Size([250])\n",
      "WARNING:root:torch.Size([250, 1792]), torch.Size([250])\n",
      "WARNING:root:torch.Size([250, 1792]), torch.Size([250])\n",
      "WARNING:root:torch.Size([250, 1792]), torch.Size([250])\n",
      "WARNING:root:torch.Size([250, 1792]), torch.Size([250])\n",
      "WARNING:root:torch.Size([250, 1792]), torch.Size([250])\n",
      "WARNING:root:torch.Size([250, 1792]), torch.Size([250])\n",
      "WARNING:root:torch.Size([250, 1792]), torch.Size([250])\n",
      "WARNING:root:torch.Size([250, 1792]), torch.Size([250])\n",
      "WARNING:root:torch.Size([250, 1792]), torch.Size([250])\n",
      "WARNING:root:torch.Size([250, 1792]), torch.Size([250])\n",
      "WARNING:root:torch.Size([250, 1792]), torch.Size([250])\n",
      "WARNING:root:torch.Size([250, 1792]), torch.Size([250])\n",
      "WARNING:root:torch.Size([250, 1792]), torch.Size([250])\n",
      "WARNING:root:torch.Size([250, 1792]), torch.Size([250])\n",
      "WARNING:root:torch.Size([250, 1792]), torch.Size([250])\n",
      "WARNING:root:torch.Size([250, 1792]), torch.Size([250])\n",
      "WARNING:root:torch.Size([250, 1792]), torch.Size([250])\n",
      "WARNING:root:torch.Size([250, 1792]), torch.Size([250])\n",
      "WARNING:root:torch.Size([250, 1792]), torch.Size([250])\n",
      "WARNING:root:torch.Size([250, 1792]), torch.Size([250])\n",
      "WARNING:root:torch.Size([250, 1792]), torch.Size([250])\n",
      "WARNING:root:torch.Size([250, 1792]), torch.Size([250])\n",
      "WARNING:root:torch.Size([250, 1792]), torch.Size([250])\n",
      "WARNING:root:torch.Size([250, 1792]), torch.Size([250])\n",
      "WARNING:root:torch.Size([250, 1792]), torch.Size([250])\n",
      "WARNING:root:torch.Size([250, 1792]), torch.Size([250])\n",
      "WARNING:root:torch.Size([250, 1792]), torch.Size([250])\n",
      "WARNING:root:torch.Size([250, 1792]), torch.Size([250])\n",
      "WARNING:root:torch.Size([250, 1792]), torch.Size([250])\n",
      "WARNING:root:torch.Size([250, 1792]), torch.Size([250])\n",
      "WARNING:root:torch.Size([250, 1792]), torch.Size([250])\n",
      "WARNING:root:torch.Size([250, 1792]), torch.Size([250])\n",
      "WARNING:root:torch.Size([250, 1792]), torch.Size([250])\n",
      "WARNING:root:torch.Size([250, 1792]), torch.Size([250])\n",
      "WARNING:root:torch.Size([250, 1792]), torch.Size([250])\n",
      "WARNING:root:torch.Size([250, 1792]), torch.Size([250])\n",
      "WARNING:root:torch.Size([250, 1792]), torch.Size([250])\n",
      "WARNING:root:torch.Size([250, 1792]), torch.Size([250])\n",
      "WARNING:root:torch.Size([250, 1792]), torch.Size([250])\n",
      "WARNING:root:torch.Size([250, 1792]), torch.Size([250])\n",
      "WARNING:root:torch.Size([250, 1792]), torch.Size([250])\n",
      "WARNING:root:torch.Size([250, 1792]), torch.Size([250])\n",
      "WARNING:root:torch.Size([250, 1792]), torch.Size([250])\n",
      "WARNING:root:torch.Size([250, 1792]), torch.Size([250])\n",
      "WARNING:root:torch.Size([250, 1792]), torch.Size([250])\n",
      "WARNING:root:torch.Size([250, 1792]), torch.Size([250])\n",
      "WARNING:root:torch.Size([250, 1792]), torch.Size([250])\n",
      "WARNING:root:torch.Size([250, 1792]), torch.Size([250])\n",
      "WARNING:root:torch.Size([250, 1792]), torch.Size([250])\n",
      "WARNING:root:torch.Size([250, 1792]), torch.Size([250])\n",
      "WARNING:root:torch.Size([250, 1792]), torch.Size([250])\n",
      "WARNING:root:torch.Size([250, 1792]), torch.Size([250])\n",
      "WARNING:root:torch.Size([250, 1792]), torch.Size([250])\n",
      "WARNING:root:torch.Size([250, 1792]), torch.Size([250])\n",
      "WARNING:root:torch.Size([250, 1792]), torch.Size([250])\n",
      "WARNING:root:torch.Size([250, 1792]), torch.Size([250])\n",
      "WARNING:root:torch.Size([250, 1792]), torch.Size([250])\n",
      "WARNING:root:torch.Size([250, 1792]), torch.Size([250])\n",
      "WARNING:root:torch.Size([250, 1792]), torch.Size([250])\n",
      "WARNING:root:torch.Size([250, 1792]), torch.Size([250])\n",
      "WARNING:root:torch.Size([250, 1792]), torch.Size([250])\n",
      "WARNING:root:torch.Size([250, 1792]), torch.Size([250])\n",
      "WARNING:root:torch.Size([250, 1792]), torch.Size([250])\n",
      "WARNING:root:torch.Size([250, 1792]), torch.Size([250])\n",
      "WARNING:root:torch.Size([250, 1792]), torch.Size([250])\n",
      "WARNING:root:torch.Size([250, 1792]), torch.Size([250])\n",
      "WARNING:root:torch.Size([250, 1792]), torch.Size([250])\n",
      "WARNING:root:torch.Size([250, 1792]), torch.Size([250])\n",
      "WARNING:root:torch.Size([250, 1792]), torch.Size([250])\n",
      "WARNING:root:torch.Size([250, 1792]), torch.Size([250])\n",
      "WARNING:root:torch.Size([250, 1792]), torch.Size([250])\n",
      "WARNING:root:torch.Size([250, 1792]), torch.Size([250])\n",
      "WARNING:root:torch.Size([250, 1792]), torch.Size([250])\n",
      "WARNING:root:torch.Size([250, 1792]), torch.Size([250])\n",
      "WARNING:root:torch.Size([250, 1792]), torch.Size([250])\n",
      "WARNING:root:torch.Size([250, 1792]), torch.Size([250])\n",
      "WARNING:root:torch.Size([250, 1792]), torch.Size([250])\n",
      "WARNING:root:torch.Size([250, 1792]), torch.Size([250])\n",
      "WARNING:root:torch.Size([250, 1792]), torch.Size([250])\n",
      "WARNING:root:torch.Size([250, 1792]), torch.Size([250])\n",
      "WARNING:root:torch.Size([250, 1792]), torch.Size([250])\n",
      "WARNING:root:torch.Size([250, 1792]), torch.Size([250])\n",
      "WARNING:root:torch.Size([250, 1792]), torch.Size([250])\n",
      "WARNING:root:torch.Size([250, 1792]), torch.Size([250])\n",
      "WARNING:root:torch.Size([250, 1792]), torch.Size([250])\n",
      "WARNING:root:torch.Size([250, 1792]), torch.Size([250])\n",
      "WARNING:root:torch.Size([250, 1792]), torch.Size([250])\n",
      "WARNING:root:torch.Size([250, 1792]), torch.Size([250])\n",
      "WARNING:root:torch.Size([250, 1792]), torch.Size([250])\n",
      "WARNING:root:torch.Size([250, 1792]), torch.Size([250])\n",
      "WARNING:root:torch.Size([250, 1792]), torch.Size([250])\n",
      "WARNING:root:torch.Size([250, 1792]), torch.Size([250])\n",
      "WARNING:root:torch.Size([250, 1792]), torch.Size([250])\n",
      "WARNING:root:torch.Size([250, 1792]), torch.Size([250])\n",
      "WARNING:root:torch.Size([250, 1792]), torch.Size([250])\n",
      "WARNING:root:torch.Size([250, 1792]), torch.Size([250])\n",
      "WARNING:root:torch.Size([250, 1792]), torch.Size([250])\n",
      "WARNING:root:torch.Size([250, 1792]), torch.Size([250])\n",
      "WARNING:root:torch.Size([250, 1792]), torch.Size([250])\n",
      "WARNING:root:torch.Size([250, 1792]), torch.Size([250])\n",
      "WARNING:root:torch.Size([250, 1792]), torch.Size([250])\n",
      "WARNING:root:torch.Size([250, 1792]), torch.Size([250])\n",
      "WARNING:root:torch.Size([250, 1792]), torch.Size([250])\n",
      "WARNING:root:torch.Size([250, 1792]), torch.Size([250])\n",
      "WARNING:root:torch.Size([250, 1792]), torch.Size([250])\n",
      "WARNING:root:torch.Size([250, 1792]), torch.Size([250])\n",
      "WARNING:root:torch.Size([250, 1792]), torch.Size([250])\n",
      "WARNING:root:torch.Size([250, 1792]), torch.Size([250])\n",
      "WARNING:root:torch.Size([250, 1792]), torch.Size([250])\n",
      "WARNING:root:torch.Size([250, 1792]), torch.Size([250])\n",
      "WARNING:root:torch.Size([250, 1792]), torch.Size([250])\n",
      "WARNING:root:torch.Size([250, 1792]), torch.Size([250])\n",
      "WARNING:root:torch.Size([250, 1792]), torch.Size([250])\n",
      "WARNING:root:torch.Size([250, 1792]), torch.Size([250])\n",
      "WARNING:root:torch.Size([250, 1792]), torch.Size([250])\n",
      "WARNING:root:torch.Size([250, 1792]), torch.Size([250])\n",
      "WARNING:root:torch.Size([250, 1792]), torch.Size([250])\n",
      "WARNING:root:torch.Size([250, 1792]), torch.Size([250])\n",
      "WARNING:root:torch.Size([250, 1792]), torch.Size([250])\n",
      "WARNING:root:torch.Size([250, 1792]), torch.Size([250])\n",
      "WARNING:root:torch.Size([250, 1792]), torch.Size([250])\n",
      "WARNING:root:torch.Size([250, 1792]), torch.Size([250])\n",
      "WARNING:root:torch.Size([250, 1792]), torch.Size([250])\n",
      "WARNING:root:torch.Size([250, 1792]), torch.Size([250])\n",
      "WARNING:root:torch.Size([250, 1792]), torch.Size([250])\n",
      "WARNING:root:torch.Size([250, 1792]), torch.Size([250])\n",
      "WARNING:root:torch.Size([250, 1792]), torch.Size([250])\n",
      "WARNING:root:torch.Size([250, 1792]), torch.Size([250])\n",
      "WARNING:root:torch.Size([250, 1792]), torch.Size([250])\n",
      "WARNING:root:torch.Size([250, 1792]), torch.Size([250])\n",
      "WARNING:root:torch.Size([250, 1792]), torch.Size([250])\n",
      "WARNING:root:torch.Size([250, 1792]), torch.Size([250])\n",
      "WARNING:root:torch.Size([250, 1792]), torch.Size([250])\n",
      "WARNING:root:torch.Size([250, 1792]), torch.Size([250])\n",
      "WARNING:root:torch.Size([250, 1792]), torch.Size([250])\n",
      "WARNING:root:torch.Size([250, 1792]), torch.Size([250])\n",
      "WARNING:root:torch.Size([250, 1792]), torch.Size([250])\n",
      "WARNING:root:torch.Size([250, 1792]), torch.Size([250])\n",
      "WARNING:root:torch.Size([250, 1792]), torch.Size([250])\n",
      "WARNING:root:torch.Size([250, 1792]), torch.Size([250])\n",
      "WARNING:root:torch.Size([250, 1792]), torch.Size([250])\n",
      "WARNING:root:torch.Size([250, 1792]), torch.Size([250])\n",
      "WARNING:root:torch.Size([250, 1792]), torch.Size([250])\n",
      "WARNING:root:torch.Size([250, 1792]), torch.Size([250])\n",
      "WARNING:root:torch.Size([250, 1792]), torch.Size([250])\n",
      "WARNING:root:torch.Size([250, 1792]), torch.Size([250])\n",
      "WARNING:root:torch.Size([250, 1792]), torch.Size([250])\n",
      "WARNING:root:torch.Size([250, 1792]), torch.Size([250])\n",
      "WARNING:root:torch.Size([250, 1792]), torch.Size([250])\n",
      "WARNING:root:torch.Size([250, 1792]), torch.Size([250])\n",
      "WARNING:root:torch.Size([250, 1792]), torch.Size([250])\n",
      "WARNING:root:torch.Size([250, 1792]), torch.Size([250])\n"
     ]
    }
   ],
   "source": [
    "from tqdm.notebook import tqdm\n",
    "import logging\n",
    "TARGET_LENGTH = 250\n",
    "\n",
    "new_features_concatenate_list = []\n",
    "new_labels = []\n",
    "\n",
    "for concat, label in tqdm(zip(features_concatenate_list, labels), total=len(labels), desc=\"Processing\"):\n",
    "    # concat의 길이를 250으로 조절\n",
    "    if concat.shape[0] < TARGET_LENGTH:\n",
    "        padding = torch.zeros((TARGET_LENGTH - concat.shape[0], concat.shape[1]), device=concat.device)\n",
    "        concat = torch.cat([concat, padding], dim=0)\n",
    "    # label을 250의 길이로 조절. label이 numpy 배열인 경우 텐서로 변환 후 조절\n",
    "    if isinstance(label, np.ndarray):\n",
    "        label = torch.from_numpy(label).to(concat.device)\n",
    "    if len(label) < TARGET_LENGTH:\n",
    "        padding = torch.zeros(TARGET_LENGTH - len(label), device=concat.device)\n",
    "        label = torch.cat([label, padding], dim=0)\n",
    "    \n",
    "    new_features_concatenate_list.append(concat)\n",
    "    new_labels.append(label)\n",
    "    logging.warn(f'{concat.shape}, {label.shape}')\n"
   ]
  },
  {
   "cell_type": "code",
   "execution_count": 10,
   "metadata": {},
   "outputs": [],
   "source": [
    "labels_train = np.stack([i.cpu().numpy() for i in new_labels])\n",
    "features_concatenate_list_train = new_features_concatenate_list"
   ]
  },
  {
   "cell_type": "code",
   "execution_count": 11,
   "metadata": {},
   "outputs": [
    {
     "data": {
      "text/plain": [
       "(401, 401)"
      ]
     },
     "execution_count": 11,
     "metadata": {},
     "output_type": "execute_result"
    }
   ],
   "source": [
    "len(labels_train), len(features_concatenate_list_train),"
   ]
  },
  {
   "cell_type": "markdown",
   "metadata": {},
   "source": [
    "# Validation"
   ]
  },
  {
   "cell_type": "code",
   "execution_count": 12,
   "metadata": {
    "scrolled": true
   },
   "outputs": [
    {
     "name": "stderr",
     "output_type": "stream",
     "text": [
      "/tmp/ipykernel_15651/302546984.py:13: DeprecationWarning: The 'warn' function is deprecated, use 'warning' instead\n",
      "  logging.warn(f'check1: padded vit_features to {vit_features.shape}')\n",
      "WARNING:root:check1: padded vit_features to torch.Size([250, 768])\n",
      "/tmp/ipykernel_15651/302546984.py:19: DeprecationWarning: The 'warn' function is deprecated, use 'warning' instead\n",
      "  logging.warn(f'check2: padded audio_features to {audio_features.shape}')\n",
      "WARNING:root:check2: padded audio_features to torch.Size([250, 1024])\n",
      "WARNING:root:check1: padded vit_features to torch.Size([250, 768])\n",
      "WARNING:root:check2: padded audio_features to torch.Size([250, 1024])\n",
      "WARNING:root:check1: padded vit_features to torch.Size([250, 768])\n",
      "WARNING:root:check2: padded audio_features to torch.Size([250, 1024])\n",
      "WARNING:root:check1: padded vit_features to torch.Size([250, 768])\n",
      "WARNING:root:check2: padded audio_features to torch.Size([250, 1024])\n",
      "WARNING:root:check1: padded vit_features to torch.Size([250, 768])\n",
      "WARNING:root:check2: padded audio_features to torch.Size([250, 1024])\n",
      "WARNING:root:check1: padded vit_features to torch.Size([250, 768])\n",
      "WARNING:root:check2: padded audio_features to torch.Size([250, 1024])\n",
      "WARNING:root:check1: padded vit_features to torch.Size([250, 768])\n",
      "WARNING:root:check1: padded vit_features to torch.Size([250, 768])\n",
      "WARNING:root:check2: padded audio_features to torch.Size([250, 1024])\n",
      "WARNING:root:check1: padded vit_features to torch.Size([250, 768])\n",
      "WARNING:root:check2: padded audio_features to torch.Size([250, 1024])\n",
      "WARNING:root:check1: padded vit_features to torch.Size([250, 768])\n",
      "WARNING:root:check2: padded audio_features to torch.Size([250, 1024])\n",
      "WARNING:root:check1: padded vit_features to torch.Size([250, 768])\n",
      "WARNING:root:check2: padded audio_features to torch.Size([250, 1024])\n",
      "WARNING:root:check2: padded audio_features to torch.Size([250, 1024])\n",
      "WARNING:root:check1: padded vit_features to torch.Size([250, 768])\n",
      "WARNING:root:check2: padded audio_features to torch.Size([250, 1024])\n",
      "WARNING:root:check1: padded vit_features to torch.Size([250, 768])\n",
      "WARNING:root:check2: padded audio_features to torch.Size([250, 1024])\n",
      "WARNING:root:check1: padded vit_features to torch.Size([250, 768])\n",
      "WARNING:root:check2: padded audio_features to torch.Size([250, 1024])\n",
      "WARNING:root:check1: padded vit_features to torch.Size([250, 768])\n",
      "WARNING:root:check1: padded vit_features to torch.Size([250, 768])\n",
      "WARNING:root:check2: padded audio_features to torch.Size([250, 1024])\n",
      "WARNING:root:check1: padded vit_features to torch.Size([250, 768])\n",
      "WARNING:root:check2: padded audio_features to torch.Size([250, 1024])\n",
      "WARNING:root:check1: padded vit_features to torch.Size([250, 768])\n",
      "WARNING:root:check2: padded audio_features to torch.Size([250, 1024])\n",
      "WARNING:root:check1: padded vit_features to torch.Size([250, 768])\n",
      "WARNING:root:check1: padded vit_features to torch.Size([250, 768])\n",
      "WARNING:root:check2: padded audio_features to torch.Size([250, 1024])\n",
      "WARNING:root:check1: padded vit_features to torch.Size([250, 768])\n",
      "WARNING:root:check1: padded vit_features to torch.Size([250, 768])\n",
      "WARNING:root:check2: padded audio_features to torch.Size([250, 1024])\n",
      "WARNING:root:check2: padded audio_features to torch.Size([250, 1024])\n",
      "WARNING:root:check1: padded vit_features to torch.Size([250, 768])\n",
      "WARNING:root:check1: padded vit_features to torch.Size([250, 768])\n",
      "WARNING:root:check2: padded audio_features to torch.Size([250, 1024])\n",
      "WARNING:root:check2: padded audio_features to torch.Size([250, 1024])\n",
      "WARNING:root:check1: padded vit_features to torch.Size([250, 768])\n",
      "WARNING:root:check2: padded audio_features to torch.Size([250, 1024])\n",
      "WARNING:root:check1: padded vit_features to torch.Size([250, 768])\n",
      "WARNING:root:check2: padded audio_features to torch.Size([250, 1024])\n",
      "WARNING:root:check1: padded vit_features to torch.Size([250, 768])\n",
      "WARNING:root:check2: padded audio_features to torch.Size([250, 1024])\n",
      "WARNING:root:check2: padded audio_features to torch.Size([250, 1024])\n",
      "WARNING:root:check1: padded vit_features to torch.Size([250, 768])\n",
      "WARNING:root:check2: padded audio_features to torch.Size([250, 1024])\n",
      "WARNING:root:check1: padded vit_features to torch.Size([250, 768])\n",
      "WARNING:root:check2: padded audio_features to torch.Size([250, 1024])\n",
      "WARNING:root:check1: padded vit_features to torch.Size([250, 768])\n",
      "WARNING:root:check2: padded audio_features to torch.Size([250, 1024])\n",
      "WARNING:root:check1: padded vit_features to torch.Size([250, 768])\n",
      "WARNING:root:check2: padded audio_features to torch.Size([250, 1024])\n",
      "WARNING:root:check1: padded vit_features to torch.Size([250, 768])\n",
      "WARNING:root:check2: padded audio_features to torch.Size([250, 1024])\n",
      "WARNING:root:check1: padded vit_features to torch.Size([250, 768])\n",
      "WARNING:root:check2: padded audio_features to torch.Size([250, 1024])\n",
      "WARNING:root:check1: padded vit_features to torch.Size([250, 768])\n",
      "WARNING:root:check1: padded vit_features to torch.Size([250, 768])\n",
      "WARNING:root:check1: padded vit_features to torch.Size([250, 768])\n",
      "WARNING:root:check1: padded vit_features to torch.Size([250, 768])\n",
      "WARNING:root:check2: padded audio_features to torch.Size([250, 1024])\n",
      "WARNING:root:check1: padded vit_features to torch.Size([250, 768])\n",
      "WARNING:root:check1: padded vit_features to torch.Size([250, 768])\n",
      "WARNING:root:check2: padded audio_features to torch.Size([250, 1024])\n",
      "WARNING:root:check1: padded vit_features to torch.Size([250, 768])\n",
      "WARNING:root:check1: padded vit_features to torch.Size([250, 768])\n",
      "WARNING:root:check1: padded vit_features to torch.Size([250, 768])\n",
      "WARNING:root:check1: padded vit_features to torch.Size([250, 768])\n",
      "WARNING:root:check2: padded audio_features to torch.Size([250, 1024])\n",
      "WARNING:root:check1: padded vit_features to torch.Size([250, 768])\n",
      "WARNING:root:check1: padded vit_features to torch.Size([250, 768])\n",
      "WARNING:root:check2: padded audio_features to torch.Size([250, 1024])\n",
      "WARNING:root:check1: padded vit_features to torch.Size([250, 768])\n",
      "WARNING:root:check1: padded vit_features to torch.Size([250, 768])\n",
      "WARNING:root:check2: padded audio_features to torch.Size([250, 1024])\n",
      "WARNING:root:check1: padded vit_features to torch.Size([250, 768])\n",
      "WARNING:root:check1: padded vit_features to torch.Size([250, 768])\n",
      "WARNING:root:check2: padded audio_features to torch.Size([250, 1024])\n",
      "WARNING:root:check1: padded vit_features to torch.Size([250, 768])\n",
      "WARNING:root:check1: padded vit_features to torch.Size([250, 768])\n",
      "WARNING:root:check2: padded audio_features to torch.Size([250, 1024])\n",
      "WARNING:root:check1: padded vit_features to torch.Size([250, 768])\n",
      "WARNING:root:check2: padded audio_features to torch.Size([250, 1024])\n",
      "WARNING:root:check1: padded vit_features to torch.Size([250, 768])\n",
      "WARNING:root:check1: padded vit_features to torch.Size([250, 768])\n",
      "WARNING:root:check1: padded vit_features to torch.Size([250, 768])\n",
      "WARNING:root:check2: padded audio_features to torch.Size([250, 1024])\n",
      "WARNING:root:check1: padded vit_features to torch.Size([250, 768])\n",
      "WARNING:root:check2: padded audio_features to torch.Size([250, 1024])\n",
      "WARNING:root:check1: padded vit_features to torch.Size([250, 768])\n",
      "WARNING:root:check1: padded vit_features to torch.Size([250, 768])\n",
      "WARNING:root:check2: padded audio_features to torch.Size([250, 1024])\n",
      "WARNING:root:check1: padded vit_features to torch.Size([250, 768])\n",
      "WARNING:root:check1: padded vit_features to torch.Size([250, 768])\n",
      "WARNING:root:check1: padded vit_features to torch.Size([250, 768])\n",
      "WARNING:root:check2: padded audio_features to torch.Size([250, 1024])\n",
      "WARNING:root:check1: padded vit_features to torch.Size([250, 768])\n",
      "WARNING:root:check1: padded vit_features to torch.Size([250, 768])\n",
      "WARNING:root:check2: padded audio_features to torch.Size([250, 1024])\n",
      "WARNING:root:check1: padded vit_features to torch.Size([250, 768])\n",
      "WARNING:root:check2: padded audio_features to torch.Size([250, 1024])\n",
      "WARNING:root:check1: padded vit_features to torch.Size([250, 768])\n",
      "WARNING:root:check2: padded audio_features to torch.Size([250, 1024])\n",
      "WARNING:root:check1: padded vit_features to torch.Size([250, 768])\n",
      "WARNING:root:check2: padded audio_features to torch.Size([250, 1024])\n",
      "WARNING:root:check1: padded vit_features to torch.Size([250, 768])\n",
      "WARNING:root:check2: padded audio_features to torch.Size([250, 1024])\n",
      "WARNING:root:check1: padded vit_features to torch.Size([250, 768])\n",
      "WARNING:root:check1: padded vit_features to torch.Size([250, 768])\n",
      "WARNING:root:check2: padded audio_features to torch.Size([250, 1024])\n",
      "WARNING:root:check1: padded vit_features to torch.Size([250, 768])\n",
      "WARNING:root:check2: padded audio_features to torch.Size([250, 1024])\n",
      "WARNING:root:check1: padded vit_features to torch.Size([250, 768])\n",
      "WARNING:root:check1: padded vit_features to torch.Size([250, 768])\n",
      "WARNING:root:check1: padded vit_features to torch.Size([250, 768])\n",
      "WARNING:root:check2: padded audio_features to torch.Size([250, 1024])\n",
      "WARNING:root:check1: padded vit_features to torch.Size([250, 768])\n",
      "WARNING:root:check2: padded audio_features to torch.Size([250, 1024])\n",
      "WARNING:root:check1: padded vit_features to torch.Size([250, 768])\n",
      "WARNING:root:check1: padded vit_features to torch.Size([250, 768])\n",
      "WARNING:root:check1: padded vit_features to torch.Size([250, 768])\n",
      "WARNING:root:check2: padded audio_features to torch.Size([250, 1024])\n",
      "WARNING:root:check1: padded vit_features to torch.Size([250, 768])\n",
      "WARNING:root:check2: padded audio_features to torch.Size([250, 1024])\n",
      "WARNING:root:check1: padded vit_features to torch.Size([250, 768])\n",
      "WARNING:root:check2: padded audio_features to torch.Size([250, 1024])\n",
      "WARNING:root:check1: padded vit_features to torch.Size([250, 768])\n",
      "WARNING:root:check2: padded audio_features to torch.Size([250, 1024])\n",
      "WARNING:root:check1: padded vit_features to torch.Size([250, 768])\n",
      "WARNING:root:check2: padded audio_features to torch.Size([250, 1024])\n",
      "WARNING:root:check2: padded audio_features to torch.Size([250, 1024])\n",
      "WARNING:root:check1: padded vit_features to torch.Size([250, 768])\n",
      "WARNING:root:check2: padded audio_features to torch.Size([250, 1024])\n",
      "WARNING:root:check1: padded vit_features to torch.Size([250, 768])\n",
      "WARNING:root:check1: padded vit_features to torch.Size([250, 768])\n",
      "WARNING:root:check2: padded audio_features to torch.Size([250, 1024])\n",
      "WARNING:root:check1: padded vit_features to torch.Size([250, 768])\n",
      "WARNING:root:check1: padded vit_features to torch.Size([250, 768])\n",
      "WARNING:root:check1: padded vit_features to torch.Size([250, 768])\n",
      "WARNING:root:check2: padded audio_features to torch.Size([250, 1024])\n",
      "WARNING:root:check1: padded vit_features to torch.Size([250, 768])\n",
      "WARNING:root:check1: padded vit_features to torch.Size([250, 768])\n",
      "WARNING:root:check1: padded vit_features to torch.Size([250, 768])\n",
      "WARNING:root:check2: padded audio_features to torch.Size([250, 1024])\n",
      "WARNING:root:check1: padded vit_features to torch.Size([250, 768])\n",
      "WARNING:root:check1: padded vit_features to torch.Size([250, 768])\n",
      "WARNING:root:check2: padded audio_features to torch.Size([250, 1024])\n"
     ]
    }
   ],
   "source": [
    "features_concatenate_list_val = []\n",
    "cnt = 0\n",
    "TARGET_LENGTH = 250\n",
    "import logging\n",
    "for vit_features, audio_features in zip(concatenate_vit_features_val, concatenate_audio_features_val):\n",
    "    audio_features = torch.tensor(audio_features).cuda()\n",
    "    vit_features = vit_features.cuda()  # Move to cuda once to avoid repeated calls\n",
    "\n",
    "    # vit_features to 250 length\n",
    "    if len(vit_features) < TARGET_LENGTH:\n",
    "        padding = torch.zeros(TARGET_LENGTH - len(vit_features), vit_features.shape[1], device=vit_features.device)\n",
    "        vit_features = torch.cat([vit_features, padding], dim=0)\n",
    "        logging.warn(f'check1: padded vit_features to {vit_features.shape}')\n",
    "    \n",
    "    # audio_features to 250 length\n",
    "    if len(audio_features) < TARGET_LENGTH:\n",
    "        padding = torch.zeros(TARGET_LENGTH - len(audio_features), audio_features.shape[1], device=audio_features.device)\n",
    "        audio_features = torch.cat([audio_features, padding], dim=0)\n",
    "        logging.warn(f'check2: padded audio_features to {audio_features.shape}')\n",
    "\n",
    "    concated_feature = torch.cat((vit_features, audio_features), dim=1)\n",
    "    features_concatenate_list_val.append(concated_feature)"
   ]
  },
  {
   "cell_type": "code",
   "execution_count": 13,
   "metadata": {
    "scrolled": true
   },
   "outputs": [
    {
     "data": {
      "application/vnd.jupyter.widget-view+json": {
       "model_id": "32586fd3ca6848c99960762ade2383c5",
       "version_major": 2,
       "version_minor": 0
      },
      "text/plain": [
       "Processing:   0%|          | 0/140 [00:00<?, ?it/s]"
      ]
     },
     "metadata": {},
     "output_type": "display_data"
    },
    {
     "name": "stderr",
     "output_type": "stream",
     "text": [
      "/tmp/ipykernel_15651/2509942390.py:23: DeprecationWarning: The 'warn' function is deprecated, use 'warning' instead\n",
      "  logging.warn(f'{concat.shape}, {label.shape}')\n",
      "WARNING:root:torch.Size([250, 1792]), torch.Size([250])\n",
      "WARNING:root:torch.Size([250, 1792]), torch.Size([250])\n",
      "WARNING:root:torch.Size([250, 1792]), torch.Size([250])\n",
      "WARNING:root:torch.Size([250, 1792]), torch.Size([250])\n",
      "WARNING:root:torch.Size([250, 1792]), torch.Size([250])\n",
      "WARNING:root:torch.Size([250, 1792]), torch.Size([250])\n",
      "WARNING:root:torch.Size([250, 1792]), torch.Size([250])\n",
      "WARNING:root:torch.Size([250, 1792]), torch.Size([250])\n",
      "WARNING:root:torch.Size([250, 1792]), torch.Size([250])\n",
      "WARNING:root:torch.Size([250, 1792]), torch.Size([250])\n",
      "WARNING:root:torch.Size([250, 1792]), torch.Size([250])\n",
      "WARNING:root:torch.Size([250, 1792]), torch.Size([250])\n",
      "WARNING:root:torch.Size([250, 1792]), torch.Size([250])\n",
      "WARNING:root:torch.Size([250, 1792]), torch.Size([250])\n",
      "WARNING:root:torch.Size([250, 1792]), torch.Size([250])\n",
      "WARNING:root:torch.Size([250, 1792]), torch.Size([250])\n",
      "WARNING:root:torch.Size([250, 1792]), torch.Size([250])\n",
      "WARNING:root:torch.Size([250, 1792]), torch.Size([250])\n",
      "WARNING:root:torch.Size([250, 1792]), torch.Size([250])\n",
      "WARNING:root:torch.Size([250, 1792]), torch.Size([250])\n",
      "WARNING:root:torch.Size([250, 1792]), torch.Size([250])\n",
      "WARNING:root:torch.Size([250, 1792]), torch.Size([250])\n",
      "WARNING:root:torch.Size([250, 1792]), torch.Size([250])\n",
      "WARNING:root:torch.Size([250, 1792]), torch.Size([250])\n",
      "WARNING:root:torch.Size([250, 1792]), torch.Size([250])\n",
      "WARNING:root:torch.Size([250, 1792]), torch.Size([250])\n",
      "WARNING:root:torch.Size([250, 1792]), torch.Size([250])\n",
      "WARNING:root:torch.Size([250, 1792]), torch.Size([250])\n",
      "WARNING:root:torch.Size([250, 1792]), torch.Size([250])\n",
      "WARNING:root:torch.Size([250, 1792]), torch.Size([250])\n",
      "WARNING:root:torch.Size([250, 1792]), torch.Size([250])\n",
      "WARNING:root:torch.Size([250, 1792]), torch.Size([250])\n",
      "WARNING:root:torch.Size([250, 1792]), torch.Size([250])\n",
      "WARNING:root:torch.Size([250, 1792]), torch.Size([250])\n",
      "WARNING:root:torch.Size([250, 1792]), torch.Size([250])\n",
      "WARNING:root:torch.Size([250, 1792]), torch.Size([250])\n",
      "WARNING:root:torch.Size([250, 1792]), torch.Size([250])\n",
      "WARNING:root:torch.Size([250, 1792]), torch.Size([250])\n",
      "WARNING:root:torch.Size([250, 1792]), torch.Size([250])\n",
      "WARNING:root:torch.Size([250, 1792]), torch.Size([250])\n",
      "WARNING:root:torch.Size([250, 1792]), torch.Size([250])\n",
      "WARNING:root:torch.Size([250, 1792]), torch.Size([250])\n",
      "WARNING:root:torch.Size([250, 1792]), torch.Size([250])\n",
      "WARNING:root:torch.Size([250, 1792]), torch.Size([250])\n",
      "WARNING:root:torch.Size([250, 1792]), torch.Size([250])\n",
      "WARNING:root:torch.Size([250, 1792]), torch.Size([250])\n",
      "WARNING:root:torch.Size([250, 1792]), torch.Size([250])\n",
      "WARNING:root:torch.Size([250, 1792]), torch.Size([250])\n",
      "WARNING:root:torch.Size([250, 1792]), torch.Size([250])\n",
      "WARNING:root:torch.Size([250, 1792]), torch.Size([250])\n",
      "WARNING:root:torch.Size([250, 1792]), torch.Size([250])\n",
      "WARNING:root:torch.Size([250, 1792]), torch.Size([250])\n",
      "WARNING:root:torch.Size([250, 1792]), torch.Size([250])\n",
      "WARNING:root:torch.Size([250, 1792]), torch.Size([250])\n",
      "WARNING:root:torch.Size([250, 1792]), torch.Size([250])\n",
      "WARNING:root:torch.Size([250, 1792]), torch.Size([250])\n",
      "WARNING:root:torch.Size([250, 1792]), torch.Size([250])\n",
      "WARNING:root:torch.Size([250, 1792]), torch.Size([250])\n",
      "WARNING:root:torch.Size([250, 1792]), torch.Size([250])\n",
      "WARNING:root:torch.Size([250, 1792]), torch.Size([250])\n",
      "WARNING:root:torch.Size([250, 1792]), torch.Size([250])\n",
      "WARNING:root:torch.Size([250, 1792]), torch.Size([250])\n",
      "WARNING:root:torch.Size([250, 1792]), torch.Size([250])\n",
      "WARNING:root:torch.Size([250, 1792]), torch.Size([250])\n",
      "WARNING:root:torch.Size([250, 1792]), torch.Size([250])\n",
      "WARNING:root:torch.Size([250, 1792]), torch.Size([250])\n",
      "WARNING:root:torch.Size([250, 1792]), torch.Size([250])\n",
      "WARNING:root:torch.Size([250, 1792]), torch.Size([250])\n",
      "WARNING:root:torch.Size([250, 1792]), torch.Size([250])\n",
      "WARNING:root:torch.Size([250, 1792]), torch.Size([250])\n",
      "WARNING:root:torch.Size([250, 1792]), torch.Size([250])\n",
      "WARNING:root:torch.Size([250, 1792]), torch.Size([250])\n",
      "WARNING:root:torch.Size([250, 1792]), torch.Size([250])\n",
      "WARNING:root:torch.Size([250, 1792]), torch.Size([250])\n",
      "WARNING:root:torch.Size([250, 1792]), torch.Size([250])\n",
      "WARNING:root:torch.Size([250, 1792]), torch.Size([250])\n",
      "WARNING:root:torch.Size([250, 1792]), torch.Size([250])\n",
      "WARNING:root:torch.Size([250, 1792]), torch.Size([250])\n",
      "WARNING:root:torch.Size([250, 1792]), torch.Size([250])\n",
      "WARNING:root:torch.Size([250, 1792]), torch.Size([250])\n",
      "WARNING:root:torch.Size([250, 1792]), torch.Size([250])\n",
      "WARNING:root:torch.Size([250, 1792]), torch.Size([250])\n",
      "WARNING:root:torch.Size([250, 1792]), torch.Size([250])\n",
      "WARNING:root:torch.Size([250, 1792]), torch.Size([250])\n",
      "WARNING:root:torch.Size([250, 1792]), torch.Size([250])\n",
      "WARNING:root:torch.Size([250, 1792]), torch.Size([250])\n",
      "WARNING:root:torch.Size([250, 1792]), torch.Size([250])\n",
      "WARNING:root:torch.Size([250, 1792]), torch.Size([250])\n",
      "WARNING:root:torch.Size([250, 1792]), torch.Size([250])\n",
      "WARNING:root:torch.Size([250, 1792]), torch.Size([250])\n",
      "WARNING:root:torch.Size([250, 1792]), torch.Size([250])\n",
      "WARNING:root:torch.Size([250, 1792]), torch.Size([250])\n",
      "WARNING:root:torch.Size([250, 1792]), torch.Size([250])\n",
      "WARNING:root:torch.Size([250, 1792]), torch.Size([250])\n",
      "WARNING:root:torch.Size([250, 1792]), torch.Size([250])\n",
      "WARNING:root:torch.Size([250, 1792]), torch.Size([250])\n",
      "WARNING:root:torch.Size([250, 1792]), torch.Size([250])\n",
      "WARNING:root:torch.Size([250, 1792]), torch.Size([250])\n",
      "WARNING:root:torch.Size([250, 1792]), torch.Size([250])\n",
      "WARNING:root:torch.Size([250, 1792]), torch.Size([250])\n",
      "WARNING:root:torch.Size([250, 1792]), torch.Size([250])\n",
      "WARNING:root:torch.Size([250, 1792]), torch.Size([250])\n",
      "WARNING:root:torch.Size([250, 1792]), torch.Size([250])\n",
      "WARNING:root:torch.Size([250, 1792]), torch.Size([250])\n",
      "WARNING:root:torch.Size([250, 1792]), torch.Size([250])\n",
      "WARNING:root:torch.Size([250, 1792]), torch.Size([250])\n",
      "WARNING:root:torch.Size([250, 1792]), torch.Size([250])\n",
      "WARNING:root:torch.Size([250, 1792]), torch.Size([250])\n",
      "WARNING:root:torch.Size([250, 1792]), torch.Size([250])\n",
      "WARNING:root:torch.Size([250, 1792]), torch.Size([250])\n",
      "WARNING:root:torch.Size([250, 1792]), torch.Size([250])\n",
      "WARNING:root:torch.Size([250, 1792]), torch.Size([250])\n",
      "WARNING:root:torch.Size([250, 1792]), torch.Size([250])\n",
      "WARNING:root:torch.Size([250, 1792]), torch.Size([250])\n",
      "WARNING:root:torch.Size([250, 1792]), torch.Size([250])\n",
      "WARNING:root:torch.Size([250, 1792]), torch.Size([250])\n",
      "WARNING:root:torch.Size([250, 1792]), torch.Size([250])\n",
      "WARNING:root:torch.Size([250, 1792]), torch.Size([250])\n",
      "WARNING:root:torch.Size([250, 1792]), torch.Size([250])\n",
      "WARNING:root:torch.Size([250, 1792]), torch.Size([250])\n",
      "WARNING:root:torch.Size([250, 1792]), torch.Size([250])\n",
      "WARNING:root:torch.Size([250, 1792]), torch.Size([250])\n",
      "WARNING:root:torch.Size([250, 1792]), torch.Size([250])\n",
      "WARNING:root:torch.Size([250, 1792]), torch.Size([250])\n",
      "WARNING:root:torch.Size([250, 1792]), torch.Size([250])\n",
      "WARNING:root:torch.Size([250, 1792]), torch.Size([250])\n",
      "WARNING:root:torch.Size([250, 1792]), torch.Size([250])\n",
      "WARNING:root:torch.Size([250, 1792]), torch.Size([250])\n",
      "WARNING:root:torch.Size([250, 1792]), torch.Size([250])\n",
      "WARNING:root:torch.Size([250, 1792]), torch.Size([250])\n",
      "WARNING:root:torch.Size([250, 1792]), torch.Size([250])\n",
      "WARNING:root:torch.Size([250, 1792]), torch.Size([250])\n",
      "WARNING:root:torch.Size([250, 1792]), torch.Size([250])\n",
      "WARNING:root:torch.Size([250, 1792]), torch.Size([250])\n",
      "WARNING:root:torch.Size([250, 1792]), torch.Size([250])\n",
      "WARNING:root:torch.Size([250, 1792]), torch.Size([250])\n",
      "WARNING:root:torch.Size([250, 1792]), torch.Size([250])\n",
      "WARNING:root:torch.Size([250, 1792]), torch.Size([250])\n",
      "WARNING:root:torch.Size([250, 1792]), torch.Size([250])\n",
      "WARNING:root:torch.Size([250, 1792]), torch.Size([250])\n"
     ]
    }
   ],
   "source": [
    "from tqdm.notebook import tqdm\n",
    "import logging\n",
    "\n",
    "TARGET_LENGTH = 250\n",
    "\n",
    "new_features_concatenate_list_val = []\n",
    "new_labels_val = []\n",
    "\n",
    "for concat, label in tqdm(zip(features_concatenate_list_val, labels_val), total=len(labels_val), desc=\"Processing\"):\n",
    "    # concat의 길이를 250으로 조절\n",
    "    if concat.shape[0] < TARGET_LENGTH:\n",
    "        padding = torch.zeros((TARGET_LENGTH - concat.shape[0], concat.shape[1]), device=concat.device)\n",
    "        concat = torch.cat([concat, padding], dim=0)\n",
    "    # label을 250의 길이로 조절. label이 numpy 배열인 경우 텐서로 변환 후 조절\n",
    "    if isinstance(label, np.ndarray):\n",
    "        label = torch.from_numpy(label).to(concat.device)\n",
    "    if len(label) < TARGET_LENGTH:\n",
    "        padding = torch.zeros(TARGET_LENGTH - len(label), device=concat.device)\n",
    "        label = torch.cat([label, padding], dim=0)\n",
    "    \n",
    "    new_features_concatenate_list_val.append(concat)\n",
    "    new_labels_val.append(label)\n",
    "    logging.warn(f'{concat.shape}, {label.shape}')\n"
   ]
  },
  {
   "cell_type": "code",
   "execution_count": 14,
   "metadata": {},
   "outputs": [],
   "source": [
    "labels_val = np.stack([i.cpu() for i in new_labels_val])\n",
    "features_concatenate_list_val = new_features_concatenate_list_val"
   ]
  },
  {
   "cell_type": "code",
   "execution_count": 15,
   "metadata": {},
   "outputs": [
    {
     "data": {
      "text/plain": [
       "(140, 140)"
      ]
     },
     "execution_count": 15,
     "metadata": {},
     "output_type": "execute_result"
    }
   ],
   "source": [
    "len(labels_val), len(features_concatenate_list_val)"
   ]
  },
  {
   "cell_type": "markdown",
   "metadata": {},
   "source": [
    "# Test"
   ]
  },
  {
   "cell_type": "code",
   "execution_count": 17,
   "metadata": {},
   "outputs": [],
   "source": [
    "import torch\n",
    "\n",
    "TARGET_LENGTH = 250\n",
    "features_concatenate_list_test = []\n",
    "\n",
    "for vit_features, audio_features in zip(concatenate_vit_features_test, concatenate_audio_features_test):\n",
    "    audio_features = torch.tensor(audio_features, dtype=torch.float32)  # ← numpy → torch 변환\n",
    "    vit_features = vit_features.cuda()  # assume vit_features is already a tensor on GPU\n",
    "\n",
    "    # Adjust vit_features length\n",
    "    if len(vit_features) < TARGET_LENGTH:\n",
    "        padding = torch.zeros((TARGET_LENGTH - len(vit_features), vit_features.shape[1]), device=vit_features.device)\n",
    "        vit_features = torch.cat([vit_features, padding], dim=0)\n",
    "    elif len(vit_features) > TARGET_LENGTH:\n",
    "        vit_features = vit_features[:TARGET_LENGTH]\n",
    "\n",
    "    # Adjust audio_features length (on CPU)\n",
    "    if len(audio_features) < TARGET_LENGTH:\n",
    "        padding = torch.zeros((TARGET_LENGTH - len(audio_features), audio_features.shape[1]))  # ← 수정!\n",
    "        audio_features = torch.cat([audio_features, padding], dim=0)\n",
    "    elif len(audio_features) > TARGET_LENGTH:\n",
    "        audio_features = audio_features[:TARGET_LENGTH]\n",
    "\n",
    "    # Concat: move audio to same device as vit_features\n",
    "    concated_feature = torch.cat((vit_features, audio_features.to(vit_features.device)), dim=1)\n",
    "    features_concatenate_list_test.append(concated_feature)\n"
   ]
  },
  {
   "cell_type": "code",
   "execution_count": 18,
   "metadata": {
    "scrolled": true
   },
   "outputs": [
    {
     "data": {
      "application/vnd.jupyter.widget-view+json": {
       "model_id": "d0084454e540482687d18e392934da6d",
       "version_major": 2,
       "version_minor": 0
      },
      "text/plain": [
       "Processing:   0%|          | 0/163 [00:00<?, ?it/s]"
      ]
     },
     "metadata": {},
     "output_type": "display_data"
    },
    {
     "name": "stderr",
     "output_type": "stream",
     "text": [
      "/tmp/ipykernel_15651/51723338.py:23: DeprecationWarning: The 'warn' function is deprecated, use 'warning' instead\n",
      "  logging.warn(f'{concat.shape}, {label.shape}')\n",
      "WARNING:root:torch.Size([250, 1792]), torch.Size([250])\n",
      "WARNING:root:torch.Size([250, 1792]), torch.Size([250])\n",
      "WARNING:root:torch.Size([250, 1792]), torch.Size([250])\n",
      "WARNING:root:torch.Size([250, 1792]), torch.Size([250])\n",
      "WARNING:root:torch.Size([250, 1792]), torch.Size([250])\n",
      "WARNING:root:torch.Size([250, 1792]), torch.Size([250])\n",
      "WARNING:root:torch.Size([250, 1792]), torch.Size([250])\n",
      "WARNING:root:torch.Size([250, 1792]), torch.Size([250])\n",
      "WARNING:root:torch.Size([250, 1792]), torch.Size([250])\n",
      "WARNING:root:torch.Size([250, 1792]), torch.Size([250])\n",
      "WARNING:root:torch.Size([250, 1792]), torch.Size([250])\n",
      "WARNING:root:torch.Size([250, 1792]), torch.Size([250])\n",
      "WARNING:root:torch.Size([250, 1792]), torch.Size([250])\n",
      "WARNING:root:torch.Size([250, 1792]), torch.Size([250])\n",
      "WARNING:root:torch.Size([250, 1792]), torch.Size([250])\n",
      "WARNING:root:torch.Size([250, 1792]), torch.Size([250])\n",
      "WARNING:root:torch.Size([250, 1792]), torch.Size([250])\n",
      "WARNING:root:torch.Size([250, 1792]), torch.Size([250])\n",
      "WARNING:root:torch.Size([250, 1792]), torch.Size([250])\n",
      "WARNING:root:torch.Size([250, 1792]), torch.Size([250])\n",
      "WARNING:root:torch.Size([250, 1792]), torch.Size([250])\n",
      "WARNING:root:torch.Size([250, 1792]), torch.Size([250])\n",
      "WARNING:root:torch.Size([250, 1792]), torch.Size([250])\n",
      "WARNING:root:torch.Size([250, 1792]), torch.Size([250])\n",
      "WARNING:root:torch.Size([250, 1792]), torch.Size([250])\n",
      "WARNING:root:torch.Size([250, 1792]), torch.Size([250])\n",
      "WARNING:root:torch.Size([250, 1792]), torch.Size([250])\n",
      "WARNING:root:torch.Size([250, 1792]), torch.Size([250])\n",
      "WARNING:root:torch.Size([250, 1792]), torch.Size([250])\n",
      "WARNING:root:torch.Size([250, 1792]), torch.Size([250])\n",
      "WARNING:root:torch.Size([250, 1792]), torch.Size([250])\n",
      "WARNING:root:torch.Size([250, 1792]), torch.Size([250])\n",
      "WARNING:root:torch.Size([250, 1792]), torch.Size([250])\n",
      "WARNING:root:torch.Size([250, 1792]), torch.Size([250])\n",
      "WARNING:root:torch.Size([250, 1792]), torch.Size([250])\n",
      "WARNING:root:torch.Size([250, 1792]), torch.Size([250])\n",
      "WARNING:root:torch.Size([250, 1792]), torch.Size([250])\n",
      "WARNING:root:torch.Size([250, 1792]), torch.Size([250])\n",
      "WARNING:root:torch.Size([250, 1792]), torch.Size([250])\n",
      "WARNING:root:torch.Size([250, 1792]), torch.Size([250])\n",
      "WARNING:root:torch.Size([250, 1792]), torch.Size([250])\n",
      "WARNING:root:torch.Size([250, 1792]), torch.Size([250])\n",
      "WARNING:root:torch.Size([250, 1792]), torch.Size([250])\n",
      "WARNING:root:torch.Size([250, 1792]), torch.Size([250])\n",
      "WARNING:root:torch.Size([250, 1792]), torch.Size([250])\n",
      "WARNING:root:torch.Size([250, 1792]), torch.Size([250])\n",
      "WARNING:root:torch.Size([250, 1792]), torch.Size([250])\n",
      "WARNING:root:torch.Size([250, 1792]), torch.Size([250])\n",
      "WARNING:root:torch.Size([250, 1792]), torch.Size([250])\n",
      "WARNING:root:torch.Size([250, 1792]), torch.Size([250])\n",
      "WARNING:root:torch.Size([250, 1792]), torch.Size([250])\n",
      "WARNING:root:torch.Size([250, 1792]), torch.Size([250])\n",
      "WARNING:root:torch.Size([250, 1792]), torch.Size([250])\n",
      "WARNING:root:torch.Size([250, 1792]), torch.Size([250])\n",
      "WARNING:root:torch.Size([250, 1792]), torch.Size([250])\n",
      "WARNING:root:torch.Size([250, 1792]), torch.Size([250])\n",
      "WARNING:root:torch.Size([250, 1792]), torch.Size([250])\n",
      "WARNING:root:torch.Size([250, 1792]), torch.Size([250])\n",
      "WARNING:root:torch.Size([250, 1792]), torch.Size([250])\n",
      "WARNING:root:torch.Size([250, 1792]), torch.Size([250])\n",
      "WARNING:root:torch.Size([250, 1792]), torch.Size([250])\n",
      "WARNING:root:torch.Size([250, 1792]), torch.Size([250])\n",
      "WARNING:root:torch.Size([250, 1792]), torch.Size([250])\n",
      "WARNING:root:torch.Size([250, 1792]), torch.Size([250])\n",
      "WARNING:root:torch.Size([250, 1792]), torch.Size([250])\n",
      "WARNING:root:torch.Size([250, 1792]), torch.Size([250])\n",
      "WARNING:root:torch.Size([250, 1792]), torch.Size([250])\n",
      "WARNING:root:torch.Size([250, 1792]), torch.Size([250])\n",
      "WARNING:root:torch.Size([250, 1792]), torch.Size([250])\n",
      "WARNING:root:torch.Size([250, 1792]), torch.Size([250])\n",
      "WARNING:root:torch.Size([250, 1792]), torch.Size([250])\n",
      "WARNING:root:torch.Size([250, 1792]), torch.Size([250])\n",
      "WARNING:root:torch.Size([250, 1792]), torch.Size([250])\n",
      "WARNING:root:torch.Size([250, 1792]), torch.Size([250])\n",
      "WARNING:root:torch.Size([250, 1792]), torch.Size([250])\n",
      "WARNING:root:torch.Size([250, 1792]), torch.Size([250])\n",
      "WARNING:root:torch.Size([250, 1792]), torch.Size([250])\n",
      "WARNING:root:torch.Size([250, 1792]), torch.Size([250])\n",
      "WARNING:root:torch.Size([250, 1792]), torch.Size([250])\n",
      "WARNING:root:torch.Size([250, 1792]), torch.Size([250])\n",
      "WARNING:root:torch.Size([250, 1792]), torch.Size([250])\n",
      "WARNING:root:torch.Size([250, 1792]), torch.Size([250])\n",
      "WARNING:root:torch.Size([250, 1792]), torch.Size([250])\n",
      "WARNING:root:torch.Size([250, 1792]), torch.Size([250])\n",
      "WARNING:root:torch.Size([250, 1792]), torch.Size([250])\n",
      "WARNING:root:torch.Size([250, 1792]), torch.Size([250])\n",
      "WARNING:root:torch.Size([250, 1792]), torch.Size([250])\n",
      "WARNING:root:torch.Size([250, 1792]), torch.Size([250])\n",
      "WARNING:root:torch.Size([250, 1792]), torch.Size([250])\n",
      "WARNING:root:torch.Size([250, 1792]), torch.Size([250])\n",
      "WARNING:root:torch.Size([250, 1792]), torch.Size([250])\n",
      "WARNING:root:torch.Size([250, 1792]), torch.Size([250])\n",
      "WARNING:root:torch.Size([250, 1792]), torch.Size([250])\n",
      "WARNING:root:torch.Size([250, 1792]), torch.Size([250])\n",
      "WARNING:root:torch.Size([250, 1792]), torch.Size([250])\n",
      "WARNING:root:torch.Size([250, 1792]), torch.Size([250])\n",
      "WARNING:root:torch.Size([250, 1792]), torch.Size([250])\n",
      "WARNING:root:torch.Size([250, 1792]), torch.Size([250])\n",
      "WARNING:root:torch.Size([250, 1792]), torch.Size([250])\n",
      "WARNING:root:torch.Size([250, 1792]), torch.Size([250])\n",
      "WARNING:root:torch.Size([250, 1792]), torch.Size([250])\n",
      "WARNING:root:torch.Size([250, 1792]), torch.Size([250])\n",
      "WARNING:root:torch.Size([250, 1792]), torch.Size([250])\n",
      "WARNING:root:torch.Size([250, 1792]), torch.Size([250])\n",
      "WARNING:root:torch.Size([250, 1792]), torch.Size([250])\n",
      "WARNING:root:torch.Size([250, 1792]), torch.Size([250])\n",
      "WARNING:root:torch.Size([250, 1792]), torch.Size([250])\n",
      "WARNING:root:torch.Size([250, 1792]), torch.Size([250])\n",
      "WARNING:root:torch.Size([250, 1792]), torch.Size([250])\n",
      "WARNING:root:torch.Size([250, 1792]), torch.Size([250])\n",
      "WARNING:root:torch.Size([250, 1792]), torch.Size([250])\n",
      "WARNING:root:torch.Size([250, 1792]), torch.Size([250])\n",
      "WARNING:root:torch.Size([250, 1792]), torch.Size([250])\n",
      "WARNING:root:torch.Size([250, 1792]), torch.Size([250])\n",
      "WARNING:root:torch.Size([250, 1792]), torch.Size([250])\n",
      "WARNING:root:torch.Size([250, 1792]), torch.Size([250])\n",
      "WARNING:root:torch.Size([250, 1792]), torch.Size([250])\n",
      "WARNING:root:torch.Size([250, 1792]), torch.Size([250])\n",
      "WARNING:root:torch.Size([250, 1792]), torch.Size([250])\n",
      "WARNING:root:torch.Size([250, 1792]), torch.Size([250])\n",
      "WARNING:root:torch.Size([250, 1792]), torch.Size([250])\n",
      "WARNING:root:torch.Size([250, 1792]), torch.Size([250])\n",
      "WARNING:root:torch.Size([250, 1792]), torch.Size([250])\n",
      "WARNING:root:torch.Size([250, 1792]), torch.Size([250])\n",
      "WARNING:root:torch.Size([250, 1792]), torch.Size([250])\n",
      "WARNING:root:torch.Size([250, 1792]), torch.Size([250])\n",
      "WARNING:root:torch.Size([250, 1792]), torch.Size([250])\n",
      "WARNING:root:torch.Size([250, 1792]), torch.Size([250])\n",
      "WARNING:root:torch.Size([250, 1792]), torch.Size([250])\n",
      "WARNING:root:torch.Size([250, 1792]), torch.Size([250])\n",
      "WARNING:root:torch.Size([250, 1792]), torch.Size([250])\n",
      "WARNING:root:torch.Size([250, 1792]), torch.Size([250])\n",
      "WARNING:root:torch.Size([250, 1792]), torch.Size([250])\n",
      "WARNING:root:torch.Size([250, 1792]), torch.Size([250])\n",
      "WARNING:root:torch.Size([250, 1792]), torch.Size([250])\n",
      "WARNING:root:torch.Size([250, 1792]), torch.Size([250])\n",
      "WARNING:root:torch.Size([250, 1792]), torch.Size([250])\n",
      "WARNING:root:torch.Size([250, 1792]), torch.Size([250])\n",
      "WARNING:root:torch.Size([250, 1792]), torch.Size([250])\n",
      "WARNING:root:torch.Size([250, 1792]), torch.Size([250])\n",
      "WARNING:root:torch.Size([250, 1792]), torch.Size([250])\n",
      "WARNING:root:torch.Size([250, 1792]), torch.Size([250])\n",
      "WARNING:root:torch.Size([250, 1792]), torch.Size([250])\n",
      "WARNING:root:torch.Size([250, 1792]), torch.Size([250])\n",
      "WARNING:root:torch.Size([250, 1792]), torch.Size([250])\n",
      "WARNING:root:torch.Size([250, 1792]), torch.Size([250])\n",
      "WARNING:root:torch.Size([250, 1792]), torch.Size([250])\n",
      "WARNING:root:torch.Size([250, 1792]), torch.Size([250])\n",
      "WARNING:root:torch.Size([250, 1792]), torch.Size([250])\n",
      "WARNING:root:torch.Size([250, 1792]), torch.Size([250])\n",
      "WARNING:root:torch.Size([250, 1792]), torch.Size([250])\n",
      "WARNING:root:torch.Size([250, 1792]), torch.Size([250])\n",
      "WARNING:root:torch.Size([250, 1792]), torch.Size([250])\n",
      "WARNING:root:torch.Size([250, 1792]), torch.Size([250])\n",
      "WARNING:root:torch.Size([250, 1792]), torch.Size([250])\n",
      "WARNING:root:torch.Size([250, 1792]), torch.Size([250])\n",
      "WARNING:root:torch.Size([250, 1792]), torch.Size([250])\n",
      "WARNING:root:torch.Size([250, 1792]), torch.Size([250])\n",
      "WARNING:root:torch.Size([250, 1792]), torch.Size([250])\n",
      "WARNING:root:torch.Size([250, 1792]), torch.Size([250])\n",
      "WARNING:root:torch.Size([250, 1792]), torch.Size([250])\n",
      "WARNING:root:torch.Size([250, 1792]), torch.Size([250])\n",
      "WARNING:root:torch.Size([250, 1792]), torch.Size([250])\n"
     ]
    }
   ],
   "source": [
    "from tqdm.notebook import tqdm\n",
    "import logging\n",
    "\n",
    "TARGET_LENGTH = 250\n",
    "\n",
    "new_features_concatenate_list_test = []\n",
    "new_labels_test = []\n",
    "\n",
    "for concat, label in tqdm(zip(features_concatenate_list_test, labels_test), total=len(labels_test), desc=\"Processing\"):\n",
    "    # concat의 길이를 250으로 조절\n",
    "    if concat.shape[0] < TARGET_LENGTH:\n",
    "        padding = torch.zeros((TARGET_LENGTH - concat.shape[0], concat.shape[1]), device=concat.device)\n",
    "        concat = torch.cat([concat, padding], dim=0)\n",
    "    # label을 250의 길이로 조절. label이 numpy 배열인 경우 텐서로 변환 후 조절\n",
    "    if isinstance(label, np.ndarray):\n",
    "        label = torch.from_numpy(label).to(concat.device)\n",
    "    if len(label) < TARGET_LENGTH:\n",
    "        padding = torch.zeros(TARGET_LENGTH - len(label), device=concat.device)\n",
    "        label = torch.cat([label, padding], dim=0)\n",
    "    \n",
    "    new_features_concatenate_list_test.append(concat)\n",
    "    new_labels_test.append(label)\n",
    "    logging.warn(f'{concat.shape}, {label.shape}')\n"
   ]
  },
  {
   "cell_type": "code",
   "execution_count": 20,
   "metadata": {},
   "outputs": [
    {
     "name": "stderr",
     "output_type": "stream",
     "text": [
      "/tmp/ipykernel_15651/4232332093.py:2: FutureWarning: The input object of type 'Tensor' is an array-like implementing one of the corresponding protocols (`__array__`, `__array_interface__` or `__array_struct__`); but not a sequence (or 0-D). In the future, this object will be coerced as if it was first converted using `np.array(obj)`. To retain the old behaviour, you have to either modify the type 'Tensor', or assign to an empty array created with `np.empty(correct_shape, dtype=object)`.\n",
      "  labels_test = np.array( [i.cpu() for i in new_labels_test],dtype=object)\n"
     ]
    }
   ],
   "source": [
    "features_concatenate_list_test = new_features_concatenate_list_test\n",
    "labels_test = np.array( [i.cpu() for i in new_labels_test],dtype=object)"
   ]
  },
  {
   "cell_type": "code",
   "execution_count": 21,
   "metadata": {},
   "outputs": [
    {
     "data": {
      "text/plain": [
       "(163, 163)"
      ]
     },
     "execution_count": 21,
     "metadata": {},
     "output_type": "execute_result"
    }
   ],
   "source": [
    "len(labels_test), len(features_concatenate_list_test)"
   ]
  },
  {
   "cell_type": "code",
   "execution_count": null,
   "metadata": {},
   "outputs": [],
   "source": []
  },
  {
   "cell_type": "code",
   "execution_count": null,
   "metadata": {},
   "outputs": [],
   "source": []
  },
  {
   "cell_type": "code",
   "execution_count": null,
   "metadata": {},
   "outputs": [],
   "source": []
  },
  {
   "cell_type": "markdown",
   "metadata": {},
   "source": [
    "# Undersampling"
   ]
  },
  {
   "cell_type": "code",
   "execution_count": 37,
   "metadata": {},
   "outputs": [
    {
     "data": {
      "text/plain": [
       "(71029, 29221)"
      ]
     },
     "execution_count": 37,
     "metadata": {},
     "output_type": "execute_result"
    }
   ],
   "source": [
    "label_dict = {}\n",
    "idx = 0\n",
    "\n",
    "# Iterate through each label list in labels_train\n",
    "for i in range(len(labels_train)):\n",
    "    # Check if new_labels[i] is scalar\n",
    "    if np.ndim(labels_train[i]) == 0:\n",
    "        print(f\"new_labels[{i}] is a scalar with value: {labels_train[i]}. Skipping...\")\n",
    "        continue\n",
    "\n",
    "    # Iterate through each label in the i-th list of labels_train\n",
    "    for j in range(len(labels_train[i])):\n",
    "        # Check if j is a valid index for new_labels[i]\n",
    "        if j >= len(labels_train[i]):\n",
    "            print(f\"Skipping index {j} in sublist {i} because it's out of bounds.\")\n",
    "            continue\n",
    "        \n",
    "        # Fetch the label from new_labels\n",
    "        label = labels_train[i][j]\n",
    "        \n",
    "        # If the label is not already a key in label_dict, initialize its value as an empty list\n",
    "        if label.item() not in label_dict:         \n",
    "            label_dict[label.item()] = []\n",
    "        \n",
    "        # Append the global index (idx) to the list corresponding to the label\n",
    "        label_dict[label.item()].append(idx)\n",
    "        idx += 1\n",
    "len(label_dict[0]), len(label_dict[1])"
   ]
  },
  {
   "cell_type": "code",
   "execution_count": 38,
   "metadata": {},
   "outputs": [],
   "source": [
    "### Undersampling\n",
    "\n",
    "import random\n",
    "random.seed(42)\n",
    "\n",
    "undersampled_idxs = []\n",
    "for label in label_dict:\n",
    "    # 언더샘플링할 데이터 개수를 결정합니다. (예: 100개)\n",
    "    num_samples = 29221\n",
    "    if len(label_dict[label]) <= num_samples:# 1\n",
    "        # 해당 레이블의 데이터가 num_samples 이하라면 모두 선택합니다.\n",
    "        undersampled_idxs += label_dict[label]\n",
    "    else: # 0\n",
    "        # 해당 레이블의 데이터가 num_samples 보다 많으면 무작위로 num_samples개를 선택합니다.\n",
    "        undersampled_idxs += random.sample(label_dict[label], num_samples)\n",
    "\n",
    "undersampled_idxs.sort() #인덱스 순 정렬"
   ]
  },
  {
   "cell_type": "code",
   "execution_count": 39,
   "metadata": {},
   "outputs": [
    {
     "data": {
      "application/vnd.jupyter.widget-view+json": {
       "model_id": "46c0045f358e449fa368e22ed01fcfca",
       "version_major": 2,
       "version_minor": 0
      },
      "text/plain": [
       "Processing:   0%|          | 0/401 [00:00<?, ?it/s]"
      ]
     },
     "metadata": {},
     "output_type": "display_data"
    }
   ],
   "source": [
    "from tqdm.notebook import tqdm_notebook\n",
    "#### Undersampling\n",
    "under_features_concatenate_list = []\n",
    "under_labels = []\n",
    "idx = 0\n",
    "for concat, label in tqdm_notebook(zip(new_features_concatenate_list, new_labels), total=len(new_labels), desc=\"Processing\"):\n",
    "    temp_features = []\n",
    "    temp_labels = []\n",
    "    for i in range(len(concat)): # 250,250,202,...\n",
    "        if idx in undersampled_idxs:\n",
    "            temp_features.append(concat[i,:])\n",
    "            temp_labels.append(label[i])\n",
    "        idx += 1\n",
    "\n",
    "    # Only stack non-empty lists\n",
    "    if temp_features:\n",
    "        under_features_concatenate_list.append(torch.stack(temp_features))\n",
    "    if temp_labels:\n",
    "        under_labels.append(torch.tensor(temp_labels))\n"
   ]
  },
  {
   "cell_type": "code",
   "execution_count": 40,
   "metadata": {},
   "outputs": [
    {
     "name": "stdout",
     "output_type": "stream",
     "text": [
      "401 torch.Size([198, 1792])\n",
      "401 torch.Size([198])\n"
     ]
    }
   ],
   "source": [
    "print(len(under_features_concatenate_list),under_features_concatenate_list[0].shape)\n",
    "print(len(under_labels),under_labels[0].shape)"
   ]
  },
  {
   "cell_type": "code",
   "execution_count": 41,
   "metadata": {},
   "outputs": [
    {
     "data": {
      "text/plain": [
       "(29221, 29221)"
      ]
     },
     "execution_count": 41,
     "metadata": {},
     "output_type": "execute_result"
    }
   ],
   "source": [
    "label_dict = {}\n",
    "idx = 0\n",
    "\n",
    "# Iterate through each label list in labels_train\n",
    "for i in range(len(under_labels)):\n",
    "    # Check if new_labels[i] is scalar\n",
    "    if np.ndim(under_labels[i]) == 0:\n",
    "        print(f\"new_labels[{i}] is a scalar with value: {under_labels[i]}. Skipping...\")\n",
    "        continue\n",
    "\n",
    "    # Iterate through each label in the i-th list of labels_train\n",
    "    for j in range(len(under_labels[i])):\n",
    "        # Check if j is a valid index for new_labels[i]\n",
    "        if j >= len(under_labels[i]):\n",
    "            print(f\"Skipping index {j} in sublist {i} because it's out of bounds.\")\n",
    "            continue\n",
    "        \n",
    "        # Fetch the label from new_labels\n",
    "        label = under_labels[i][j].item()\n",
    "        \n",
    "        # If the label is not already a key in label_dict, initialize its value as an empty list\n",
    "        if label not in label_dict:\n",
    "            label_dict[label] = []\n",
    "        \n",
    "        # Append the global index (idx) to the list corresponding to the label\n",
    "        label_dict[label].append(idx)\n",
    "        idx += 1\n",
    "        \n",
    "len(label_dict[0]), len(label_dict[1])"
   ]
  },
  {
   "cell_type": "markdown",
   "metadata": {},
   "source": [
    "# Validation data undersampling"
   ]
  },
  {
   "cell_type": "code",
   "execution_count": 42,
   "metadata": {},
   "outputs": [
    {
     "data": {
      "text/plain": [
       "(26525, 8475)"
      ]
     },
     "execution_count": 42,
     "metadata": {},
     "output_type": "execute_result"
    }
   ],
   "source": [
    "label_dict = {}\n",
    "idx = 0\n",
    "\n",
    "# Iterate through each label list in labels_train\n",
    "for i in range(len(labels_val)):\n",
    "    # Check if new_labels[i] is scalar\n",
    "    if np.ndim(new_labels[i]) == 0:\n",
    "        print(f\"new_labels[{i}] is a scalar with value: {labels_val[i]}. Skipping...\")\n",
    "        continue\n",
    "\n",
    "    # Iterate through each label in the i-th list of labels_train\n",
    "    for j in range(len(labels_val[i])):\n",
    "        # Check if j is a valid index for new_labels[i]\n",
    "        if j >= len(labels_val[i]):\n",
    "            print(f\"Skipping index {j} in sublist {i} because it's out of bounds.\")\n",
    "            continue\n",
    "        \n",
    "        # Fetch the label from new_labels\n",
    "        label = labels_val[i][j]\n",
    "        \n",
    "        # If the label is not already a key in label_dict, initialize its value as an empty list\n",
    "        if label not in label_dict:\n",
    "            label_dict[label] = []\n",
    "        \n",
    "        # Append the global index (idx) to the list corresponding to the label\n",
    "        label_dict[label].append(idx)\n",
    "        idx += 1\n",
    "len(label_dict[0]), len(label_dict[1])"
   ]
  },
  {
   "cell_type": "code",
   "execution_count": 43,
   "metadata": {},
   "outputs": [],
   "source": [
    "### Undersampling\n",
    "\n",
    "import random\n",
    "random.seed(42)\n",
    "\n",
    "undersampled_idxs_val = []\n",
    "for label in label_dict:\n",
    "    num_samples = 8475\n",
    "    if len(label_dict[label]) <= num_samples:# 1\n",
    "        # 해당 레이블의 데이터가 num_samples 이하라면 모두 선택합니다.\n",
    "        undersampled_idxs_val += label_dict[label]\n",
    "    else: # 0\n",
    "        # 해당 레이블의 데이터가 num_samples 보다 많으면 무작위로 num_samples개를 선택합니다.\n",
    "        undersampled_idxs_val += random.sample(label_dict[label], num_samples)\n",
    "\n",
    "undersampled_idxs_val.sort() #인덱스 순 정렬"
   ]
  },
  {
   "cell_type": "code",
   "execution_count": 44,
   "metadata": {},
   "outputs": [
    {
     "data": {
      "application/vnd.jupyter.widget-view+json": {
       "model_id": "35deb872ca424dd3b76948f039aa0514",
       "version_major": 2,
       "version_minor": 0
      },
      "text/plain": [
       "Processing:   0%|          | 0/140 [00:00<?, ?it/s]"
      ]
     },
     "metadata": {},
     "output_type": "display_data"
    }
   ],
   "source": [
    "from tqdm.notebook import tqdm_notebook\n",
    "#### Undersampling\n",
    "under_features_concatenate_list_val = []\n",
    "under_labels_val = []\n",
    "idx = 0\n",
    "for concat, label in tqdm_notebook(zip(new_features_concatenate_list_val, new_labels_val), total=len(new_labels_val), desc=\"Processing\"):\n",
    "    temp_features = []\n",
    "    temp_labels = []\n",
    "    for i in range(len(concat)): # 250,250,202,...\n",
    "        if idx in undersampled_idxs_val:\n",
    "            temp_features.append(concat[i,:])\n",
    "            temp_labels.append(label[i])\n",
    "        idx += 1\n",
    "\n",
    "    # Only stack non-empty lists\n",
    "    if temp_features:\n",
    "        under_features_concatenate_list_val.append(torch.stack(temp_features))\n",
    "    if temp_labels:\n",
    "        under_labels_val.append(torch.tensor(temp_labels))\n"
   ]
  },
  {
   "cell_type": "code",
   "execution_count": 45,
   "metadata": {},
   "outputs": [
    {
     "name": "stdout",
     "output_type": "stream",
     "text": [
      "140 torch.Size([95, 1792])\n",
      "140 torch.Size([95])\n"
     ]
    }
   ],
   "source": [
    "print(len(under_features_concatenate_list_val),under_features_concatenate_list_val[0].shape)\n",
    "print(len(under_labels_val),under_labels_val[0].shape)"
   ]
  },
  {
   "cell_type": "code",
   "execution_count": 46,
   "metadata": {
    "scrolled": true
   },
   "outputs": [
    {
     "data": {
      "text/plain": [
       "(8475, 8475)"
      ]
     },
     "execution_count": 46,
     "metadata": {},
     "output_type": "execute_result"
    }
   ],
   "source": [
    "label_dict = {}\n",
    "idx = 0\n",
    "\n",
    "# Iterate through each label list in labels_train\n",
    "for i in range(len(under_labels_val)):\n",
    "    # Check if new_labels[i] is scalar\n",
    "    if np.ndim(under_labels_val[i]) == 0:\n",
    "        print(f\"new_labels[{i}] is a scalar with value: {under_labels_val[i]}. Skipping...\")\n",
    "        continue\n",
    "\n",
    "    # Iterate through each label in the i-th list of labels_train\n",
    "    for j in range(len(under_labels_val[i])):\n",
    "        # Check if junder_labels_valis a valid index for new_labels[i]\n",
    "        if j >= len(under_labels_val[i]):\n",
    "            print(f\"Skipping index {j} in sublist {i} because it's out of bounds.\")\n",
    "            continue\n",
    "        \n",
    "        # Fetch the label from new_labels\n",
    "        label = under_labels_val[i][j].item()\n",
    "        \n",
    "        # If the label is not already a key in label_dict, initialize its value as an empty list\n",
    "        if label not in label_dict:\n",
    "            label_dict[label] = []\n",
    "        \n",
    "        # Append the global index (idx) to the list corresponding to the label\n",
    "        label_dict[label].append(idx)\n",
    "        idx += 1\n",
    "        \n",
    "len(label_dict[0]), len(label_dict[1])"
   ]
  },
  {
   "cell_type": "code",
   "execution_count": null,
   "metadata": {},
   "outputs": [],
   "source": []
  },
  {
   "cell_type": "code",
   "execution_count": null,
   "metadata": {},
   "outputs": [],
   "source": []
  },
  {
   "cell_type": "code",
   "execution_count": null,
   "metadata": {},
   "outputs": [],
   "source": []
  },
  {
   "cell_type": "code",
   "execution_count": null,
   "metadata": {},
   "outputs": [],
   "source": []
  },
  {
   "cell_type": "code",
   "execution_count": null,
   "metadata": {},
   "outputs": [],
   "source": []
  },
  {
   "cell_type": "code",
   "execution_count": null,
   "metadata": {},
   "outputs": [],
   "source": []
  },
  {
   "cell_type": "code",
   "execution_count": null,
   "metadata": {},
   "outputs": [],
   "source": []
  },
  {
   "cell_type": "code",
   "execution_count": null,
   "metadata": {},
   "outputs": [],
   "source": []
  },
  {
   "cell_type": "code",
   "execution_count": null,
   "metadata": {},
   "outputs": [],
   "source": []
  },
  {
   "cell_type": "markdown",
   "metadata": {},
   "source": [
    "# Dataset, DataLoader"
   ]
  },
  {
   "cell_type": "code",
   "execution_count": 32,
   "metadata": {},
   "outputs": [],
   "source": [
    "from torch.utils.data import DataLoader, Dataset\n",
    "from sklearn.model_selection import train_test_split"
   ]
  },
  {
   "cell_type": "code",
   "execution_count": 33,
   "metadata": {},
   "outputs": [],
   "source": [
    "class MyDataset(Dataset):\n",
    "    def __init__(self, data, labels):\n",
    "        self.data = data\n",
    "        self.labels = labels\n",
    "        \n",
    "    def __len__(self):\n",
    "        return len(self.data)\n",
    "        \n",
    "    def __getitem__(self, idx):\n",
    "        return self.data[idx], torch.tensor(self.labels[idx])"
   ]
  },
  {
   "cell_type": "code",
   "execution_count": 64,
   "metadata": {},
   "outputs": [],
   "source": [
    "# Create an instance of dataset\n",
    "md_train = MyDataset(under_features_concatenate_list,under_labels)\n",
    "train_dataloader = DataLoader(md_train)"
   ]
  },
  {
   "cell_type": "code",
   "execution_count": 65,
   "metadata": {},
   "outputs": [],
   "source": [
    "md_val = MyDataset(under_features_concatenate_list_val,under_labels_val)\n",
    "val_dataloader = DataLoader(md_val)"
   ]
  },
  {
   "cell_type": "code",
   "execution_count": 66,
   "metadata": {},
   "outputs": [],
   "source": [
    "md_test = MyDataset(features_concatenate_list_test,labels_test)\n",
    "test_dataloader = DataLoader(md_test)"
   ]
  },
  {
   "cell_type": "code",
   "execution_count": 67,
   "metadata": {},
   "outputs": [],
   "source": [
    "import torch\n",
    "from torch.utils.data import DataLoader, ConcatDataset, random_split\n",
    "\n",
    "train_dataloader = DataLoader(md_train, batch_size=1, shuffle=True)\n",
    "val_dataloader   = DataLoader(md_val, batch_size=1)\n",
    "test_dataloader  = DataLoader(md_test, batch_size=1)\n"
   ]
  },
  {
   "cell_type": "markdown",
   "metadata": {},
   "source": [
    "# LSTM Highlight Detection Model"
   ]
  },
  {
   "cell_type": "code",
   "execution_count": 68,
   "metadata": {},
   "outputs": [
    {
     "name": "stdout",
     "output_type": "stream",
     "text": [
      "📊 Positive ratio: 0.5000 → pos_weight: 1.0000\n"
     ]
    },
    {
     "name": "stderr",
     "output_type": "stream",
     "text": [
      "/tmp/ipykernel_15651/475506173.py:10: UserWarning: To copy construct from a tensor, it is recommended to use sourceTensor.clone().detach() or sourceTensor.clone().detach().requires_grad_(True), rather than torch.tensor(sourceTensor).\n",
      "  return self.data[idx], torch.tensor(self.labels[idx])\n"
     ]
    }
   ],
   "source": [
    "import torch\n",
    "import torch.nn as nn\n",
    "import numpy as np\n",
    "from tqdm.notebook import tqdm\n",
    "from sklearn.metrics import f1_score, precision_score, recall_score\n",
    "\n",
    "# === Define LSTMClassifier ===\n",
    "class LSTMClassifier(nn.Module):\n",
    "    def __init__(self, input_size, hidden_size, num_layers, output_size):\n",
    "        super(LSTMClassifier, self).__init__()\n",
    "        self.hidden_size = hidden_size\n",
    "        self.num_layers = num_layers\n",
    "        self.lstm = nn.LSTM(input_size, hidden_size, num_layers, batch_first=True)\n",
    "        self.fc = nn.Linear(hidden_size, output_size)\n",
    "\n",
    "    def forward(self, x):\n",
    "        h0 = torch.zeros(self.num_layers, x.size(0), self.hidden_size).to(x.device)\n",
    "        c0 = torch.zeros(self.num_layers, x.size(0), self.hidden_size).to(x.device)\n",
    "        out, _ = self.lstm(x, (h0, c0))\n",
    "        output = self.fc(out[:, -1, :])  # [batch, 1]\n",
    "        return output, out[:, -1, :]\n",
    "\n",
    "# === Compute pos_weight automatically from train dataloader ===\n",
    "def compute_pos_weight(dataloader):\n",
    "    total_pos = 0\n",
    "    total_count = 0\n",
    "    for inputs, labels in dataloader:\n",
    "        total_pos += labels.sum().item()\n",
    "        total_count += labels.numel()\n",
    "    pos_ratio = total_pos / total_count\n",
    "    pos_weight_value = (1 - pos_ratio) / pos_ratio\n",
    "    print(f\"📊 Positive ratio: {pos_ratio:.4f} → pos_weight: {pos_weight_value:.4f}\")\n",
    "    return torch.tensor([pos_weight_value], dtype=torch.float32)\n",
    "\n",
    "# === Training Configuration ===\n",
    "device = torch.device('cuda' if torch.cuda.is_available() else 'cpu')\n",
    "input_size = 1792\n",
    "hidden_size = 256\n",
    "num_layers = 3\n",
    "output_size = 1\n",
    "num_epochs = 100\n",
    "learning_rate = 5e-4 \n",
    "threshold = 0.3\n",
    "\n",
    "# === Initialize model, optimizer, loss ===\n",
    "model = LSTMClassifier(input_size, hidden_size, num_layers, output_size).to(device)\n",
    "pos_weight = compute_pos_weight(train_dataloader).to(device)\n",
    "criterion = nn.BCEWithLogitsLoss(pos_weight=pos_weight)\n",
    "optimizer = torch.optim.Adam(model.parameters(), lr=learning_rate)\n"
   ]
  },
  {
   "cell_type": "markdown",
   "metadata": {},
   "source": [
    "# Training"
   ]
  },
  {
   "cell_type": "code",
   "execution_count": 69,
   "metadata": {
    "scrolled": true
   },
   "outputs": [
    {
     "data": {
      "application/vnd.jupyter.widget-view+json": {
       "model_id": "2edffe89fd2f49a58e19dda6a69bec8e",
       "version_major": 2,
       "version_minor": 0
      },
      "text/plain": [
       "Epochs:   0%|          | 0/100 [00:00<?, ?it/s]"
      ]
     },
     "metadata": {},
     "output_type": "display_data"
    },
    {
     "name": "stderr",
     "output_type": "stream",
     "text": [
      "/tmp/ipykernel_15651/475506173.py:10: UserWarning: To copy construct from a tensor, it is recommended to use sourceTensor.clone().detach() or sourceTensor.clone().detach().requires_grad_(True), rather than torch.tensor(sourceTensor).\n",
      "  return self.data[idx], torch.tensor(self.labels[idx])\n"
     ]
    },
    {
     "name": "stdout",
     "output_type": "stream",
     "text": [
      "Epoch 1/100 | Train Loss: 0.5881 | F1: 0.7437 | P: 0.5920 | R: 1.0000 | Acc: 0.6554\n",
      "Best F1: 0.7437 | P: 0.5920 | R: 1.0000 | Acc: 0.6554\n"
     ]
    },
    {
     "name": "stderr",
     "output_type": "stream",
     "text": [
      "/tmp/ipykernel_15651/475506173.py:10: UserWarning: To copy construct from a tensor, it is recommended to use sourceTensor.clone().detach() or sourceTensor.clone().detach().requires_grad_(True), rather than torch.tensor(sourceTensor).\n",
      "  return self.data[idx], torch.tensor(self.labels[idx])\n"
     ]
    },
    {
     "name": "stdout",
     "output_type": "stream",
     "text": [
      "Epoch 2/100 | Train Loss: 0.5615 | F1: 0.7437 | P: 0.5920 | R: 1.0000 | Acc: 0.6554\n"
     ]
    },
    {
     "name": "stderr",
     "output_type": "stream",
     "text": [
      "/tmp/ipykernel_15651/475506173.py:10: UserWarning: To copy construct from a tensor, it is recommended to use sourceTensor.clone().detach() or sourceTensor.clone().detach().requires_grad_(True), rather than torch.tensor(sourceTensor).\n",
      "  return self.data[idx], torch.tensor(self.labels[idx])\n"
     ]
    },
    {
     "name": "stdout",
     "output_type": "stream",
     "text": [
      "Epoch 3/100 | Train Loss: 0.5610 | F1: 0.7437 | P: 0.5920 | R: 1.0000 | Acc: 0.6554\n"
     ]
    },
    {
     "name": "stderr",
     "output_type": "stream",
     "text": [
      "/tmp/ipykernel_15651/475506173.py:10: UserWarning: To copy construct from a tensor, it is recommended to use sourceTensor.clone().detach() or sourceTensor.clone().detach().requires_grad_(True), rather than torch.tensor(sourceTensor).\n",
      "  return self.data[idx], torch.tensor(self.labels[idx])\n"
     ]
    },
    {
     "name": "stdout",
     "output_type": "stream",
     "text": [
      "Epoch 4/100 | Train Loss: 0.5622 | F1: 0.7437 | P: 0.5920 | R: 1.0000 | Acc: 0.6554\n"
     ]
    },
    {
     "name": "stderr",
     "output_type": "stream",
     "text": [
      "/tmp/ipykernel_15651/475506173.py:10: UserWarning: To copy construct from a tensor, it is recommended to use sourceTensor.clone().detach() or sourceTensor.clone().detach().requires_grad_(True), rather than torch.tensor(sourceTensor).\n",
      "  return self.data[idx], torch.tensor(self.labels[idx])\n"
     ]
    },
    {
     "name": "stdout",
     "output_type": "stream",
     "text": [
      "Epoch 5/100 | Train Loss: 0.5616 | F1: 0.7437 | P: 0.5920 | R: 1.0000 | Acc: 0.6554\n"
     ]
    },
    {
     "name": "stderr",
     "output_type": "stream",
     "text": [
      "/tmp/ipykernel_15651/475506173.py:10: UserWarning: To copy construct from a tensor, it is recommended to use sourceTensor.clone().detach() or sourceTensor.clone().detach().requires_grad_(True), rather than torch.tensor(sourceTensor).\n",
      "  return self.data[idx], torch.tensor(self.labels[idx])\n"
     ]
    },
    {
     "name": "stdout",
     "output_type": "stream",
     "text": [
      "Epoch 6/100 | Train Loss: 0.5611 | F1: 0.7437 | P: 0.5920 | R: 1.0000 | Acc: 0.6554\n"
     ]
    },
    {
     "name": "stderr",
     "output_type": "stream",
     "text": [
      "/tmp/ipykernel_15651/475506173.py:10: UserWarning: To copy construct from a tensor, it is recommended to use sourceTensor.clone().detach() or sourceTensor.clone().detach().requires_grad_(True), rather than torch.tensor(sourceTensor).\n",
      "  return self.data[idx], torch.tensor(self.labels[idx])\n"
     ]
    },
    {
     "name": "stdout",
     "output_type": "stream",
     "text": [
      "Epoch 7/100 | Train Loss: 0.5614 | F1: 0.7437 | P: 0.5920 | R: 1.0000 | Acc: 0.6554\n"
     ]
    },
    {
     "name": "stderr",
     "output_type": "stream",
     "text": [
      "/tmp/ipykernel_15651/475506173.py:10: UserWarning: To copy construct from a tensor, it is recommended to use sourceTensor.clone().detach() or sourceTensor.clone().detach().requires_grad_(True), rather than torch.tensor(sourceTensor).\n",
      "  return self.data[idx], torch.tensor(self.labels[idx])\n"
     ]
    },
    {
     "name": "stdout",
     "output_type": "stream",
     "text": [
      "Epoch 8/100 | Train Loss: 0.5608 | F1: 0.7437 | P: 0.5920 | R: 1.0000 | Acc: 0.6554\n"
     ]
    },
    {
     "name": "stderr",
     "output_type": "stream",
     "text": [
      "/tmp/ipykernel_15651/475506173.py:10: UserWarning: To copy construct from a tensor, it is recommended to use sourceTensor.clone().detach() or sourceTensor.clone().detach().requires_grad_(True), rather than torch.tensor(sourceTensor).\n",
      "  return self.data[idx], torch.tensor(self.labels[idx])\n"
     ]
    },
    {
     "name": "stdout",
     "output_type": "stream",
     "text": [
      "Epoch 9/100 | Train Loss: 0.5607 | F1: 0.7437 | P: 0.5920 | R: 1.0000 | Acc: 0.6554\n"
     ]
    },
    {
     "name": "stderr",
     "output_type": "stream",
     "text": [
      "/tmp/ipykernel_15651/475506173.py:10: UserWarning: To copy construct from a tensor, it is recommended to use sourceTensor.clone().detach() or sourceTensor.clone().detach().requires_grad_(True), rather than torch.tensor(sourceTensor).\n",
      "  return self.data[idx], torch.tensor(self.labels[idx])\n"
     ]
    },
    {
     "name": "stdout",
     "output_type": "stream",
     "text": [
      "Epoch 10/100 | Train Loss: 0.5604 | F1: 0.7437 | P: 0.5920 | R: 1.0000 | Acc: 0.6554\n"
     ]
    },
    {
     "name": "stderr",
     "output_type": "stream",
     "text": [
      "/tmp/ipykernel_15651/475506173.py:10: UserWarning: To copy construct from a tensor, it is recommended to use sourceTensor.clone().detach() or sourceTensor.clone().detach().requires_grad_(True), rather than torch.tensor(sourceTensor).\n",
      "  return self.data[idx], torch.tensor(self.labels[idx])\n"
     ]
    },
    {
     "name": "stdout",
     "output_type": "stream",
     "text": [
      "Epoch 11/100 | Train Loss: 0.5602 | F1: 0.7437 | P: 0.5920 | R: 1.0000 | Acc: 0.6554\n"
     ]
    },
    {
     "name": "stderr",
     "output_type": "stream",
     "text": [
      "/tmp/ipykernel_15651/475506173.py:10: UserWarning: To copy construct from a tensor, it is recommended to use sourceTensor.clone().detach() or sourceTensor.clone().detach().requires_grad_(True), rather than torch.tensor(sourceTensor).\n",
      "  return self.data[idx], torch.tensor(self.labels[idx])\n"
     ]
    },
    {
     "name": "stdout",
     "output_type": "stream",
     "text": [
      "Epoch 12/100 | Train Loss: 0.5539 | F1: 0.7437 | P: 0.5920 | R: 1.0000 | Acc: 0.6554\n"
     ]
    },
    {
     "name": "stderr",
     "output_type": "stream",
     "text": [
      "/tmp/ipykernel_15651/475506173.py:10: UserWarning: To copy construct from a tensor, it is recommended to use sourceTensor.clone().detach() or sourceTensor.clone().detach().requires_grad_(True), rather than torch.tensor(sourceTensor).\n",
      "  return self.data[idx], torch.tensor(self.labels[idx])\n"
     ]
    },
    {
     "name": "stdout",
     "output_type": "stream",
     "text": [
      "Epoch 13/100 | Train Loss: 0.5496 | F1: 0.7437 | P: 0.5920 | R: 1.0000 | Acc: 0.6554\n"
     ]
    },
    {
     "name": "stderr",
     "output_type": "stream",
     "text": [
      "/tmp/ipykernel_15651/475506173.py:10: UserWarning: To copy construct from a tensor, it is recommended to use sourceTensor.clone().detach() or sourceTensor.clone().detach().requires_grad_(True), rather than torch.tensor(sourceTensor).\n",
      "  return self.data[idx], torch.tensor(self.labels[idx])\n"
     ]
    },
    {
     "name": "stdout",
     "output_type": "stream",
     "text": [
      "Epoch 14/100 | Train Loss: 0.5472 | F1: 0.7437 | P: 0.5920 | R: 1.0000 | Acc: 0.6554\n"
     ]
    },
    {
     "name": "stderr",
     "output_type": "stream",
     "text": [
      "/tmp/ipykernel_15651/475506173.py:10: UserWarning: To copy construct from a tensor, it is recommended to use sourceTensor.clone().detach() or sourceTensor.clone().detach().requires_grad_(True), rather than torch.tensor(sourceTensor).\n",
      "  return self.data[idx], torch.tensor(self.labels[idx])\n"
     ]
    },
    {
     "name": "stdout",
     "output_type": "stream",
     "text": [
      "Epoch 15/100 | Train Loss: 0.5454 | F1: 0.7437 | P: 0.5920 | R: 1.0000 | Acc: 0.6554\n"
     ]
    },
    {
     "name": "stderr",
     "output_type": "stream",
     "text": [
      "/tmp/ipykernel_15651/475506173.py:10: UserWarning: To copy construct from a tensor, it is recommended to use sourceTensor.clone().detach() or sourceTensor.clone().detach().requires_grad_(True), rather than torch.tensor(sourceTensor).\n",
      "  return self.data[idx], torch.tensor(self.labels[idx])\n"
     ]
    },
    {
     "name": "stdout",
     "output_type": "stream",
     "text": [
      "Epoch 16/100 | Train Loss: 0.5448 | F1: 0.7437 | P: 0.5920 | R: 1.0000 | Acc: 0.6554\n"
     ]
    },
    {
     "name": "stderr",
     "output_type": "stream",
     "text": [
      "/tmp/ipykernel_15651/475506173.py:10: UserWarning: To copy construct from a tensor, it is recommended to use sourceTensor.clone().detach() or sourceTensor.clone().detach().requires_grad_(True), rather than torch.tensor(sourceTensor).\n",
      "  return self.data[idx], torch.tensor(self.labels[idx])\n"
     ]
    },
    {
     "name": "stdout",
     "output_type": "stream",
     "text": [
      "Epoch 17/100 | Train Loss: 0.5430 | F1: 0.7437 | P: 0.5920 | R: 1.0000 | Acc: 0.6554\n"
     ]
    },
    {
     "name": "stderr",
     "output_type": "stream",
     "text": [
      "/tmp/ipykernel_15651/475506173.py:10: UserWarning: To copy construct from a tensor, it is recommended to use sourceTensor.clone().detach() or sourceTensor.clone().detach().requires_grad_(True), rather than torch.tensor(sourceTensor).\n",
      "  return self.data[idx], torch.tensor(self.labels[idx])\n"
     ]
    },
    {
     "name": "stdout",
     "output_type": "stream",
     "text": [
      "Epoch 18/100 | Train Loss: 0.5414 | F1: 0.7437 | P: 0.5920 | R: 1.0000 | Acc: 0.6554\n"
     ]
    },
    {
     "name": "stderr",
     "output_type": "stream",
     "text": [
      "/tmp/ipykernel_15651/475506173.py:10: UserWarning: To copy construct from a tensor, it is recommended to use sourceTensor.clone().detach() or sourceTensor.clone().detach().requires_grad_(True), rather than torch.tensor(sourceTensor).\n",
      "  return self.data[idx], torch.tensor(self.labels[idx])\n"
     ]
    },
    {
     "name": "stdout",
     "output_type": "stream",
     "text": [
      "Epoch 19/100 | Train Loss: 0.5396 | F1: 0.7437 | P: 0.5920 | R: 1.0000 | Acc: 0.6554\n"
     ]
    },
    {
     "name": "stderr",
     "output_type": "stream",
     "text": [
      "/tmp/ipykernel_15651/475506173.py:10: UserWarning: To copy construct from a tensor, it is recommended to use sourceTensor.clone().detach() or sourceTensor.clone().detach().requires_grad_(True), rather than torch.tensor(sourceTensor).\n",
      "  return self.data[idx], torch.tensor(self.labels[idx])\n"
     ]
    },
    {
     "name": "stdout",
     "output_type": "stream",
     "text": [
      "Epoch 20/100 | Train Loss: 0.5397 | F1: 0.7437 | P: 0.5920 | R: 1.0000 | Acc: 0.6554\n"
     ]
    },
    {
     "name": "stderr",
     "output_type": "stream",
     "text": [
      "/tmp/ipykernel_15651/475506173.py:10: UserWarning: To copy construct from a tensor, it is recommended to use sourceTensor.clone().detach() or sourceTensor.clone().detach().requires_grad_(True), rather than torch.tensor(sourceTensor).\n",
      "  return self.data[idx], torch.tensor(self.labels[idx])\n"
     ]
    },
    {
     "name": "stdout",
     "output_type": "stream",
     "text": [
      "Epoch 21/100 | Train Loss: 0.5357 | F1: 0.7437 | P: 0.5920 | R: 1.0000 | Acc: 0.6554\n"
     ]
    },
    {
     "name": "stderr",
     "output_type": "stream",
     "text": [
      "/tmp/ipykernel_15651/475506173.py:10: UserWarning: To copy construct from a tensor, it is recommended to use sourceTensor.clone().detach() or sourceTensor.clone().detach().requires_grad_(True), rather than torch.tensor(sourceTensor).\n",
      "  return self.data[idx], torch.tensor(self.labels[idx])\n"
     ]
    },
    {
     "name": "stdout",
     "output_type": "stream",
     "text": [
      "Epoch 22/100 | Train Loss: 0.5393 | F1: 0.7437 | P: 0.5920 | R: 1.0000 | Acc: 0.6554\n"
     ]
    },
    {
     "name": "stderr",
     "output_type": "stream",
     "text": [
      "/tmp/ipykernel_15651/475506173.py:10: UserWarning: To copy construct from a tensor, it is recommended to use sourceTensor.clone().detach() or sourceTensor.clone().detach().requires_grad_(True), rather than torch.tensor(sourceTensor).\n",
      "  return self.data[idx], torch.tensor(self.labels[idx])\n"
     ]
    },
    {
     "name": "stdout",
     "output_type": "stream",
     "text": [
      "Epoch 23/100 | Train Loss: 0.5339 | F1: 0.7436 | P: 0.5919 | R: 0.9998 | Acc: 0.6553\n"
     ]
    },
    {
     "name": "stderr",
     "output_type": "stream",
     "text": [
      "/tmp/ipykernel_15651/475506173.py:10: UserWarning: To copy construct from a tensor, it is recommended to use sourceTensor.clone().detach() or sourceTensor.clone().detach().requires_grad_(True), rather than torch.tensor(sourceTensor).\n",
      "  return self.data[idx], torch.tensor(self.labels[idx])\n"
     ]
    },
    {
     "name": "stdout",
     "output_type": "stream",
     "text": [
      "Epoch 24/100 | Train Loss: 0.5359 | F1: 0.7435 | P: 0.5919 | R: 0.9996 | Acc: 0.6552\n"
     ]
    },
    {
     "name": "stderr",
     "output_type": "stream",
     "text": [
      "/tmp/ipykernel_15651/475506173.py:10: UserWarning: To copy construct from a tensor, it is recommended to use sourceTensor.clone().detach() or sourceTensor.clone().detach().requires_grad_(True), rather than torch.tensor(sourceTensor).\n",
      "  return self.data[idx], torch.tensor(self.labels[idx])\n"
     ]
    },
    {
     "name": "stdout",
     "output_type": "stream",
     "text": [
      "Epoch 25/100 | Train Loss: 0.5333 | F1: 0.7435 | P: 0.5919 | R: 0.9995 | Acc: 0.6552\n"
     ]
    },
    {
     "name": "stderr",
     "output_type": "stream",
     "text": [
      "/tmp/ipykernel_15651/475506173.py:10: UserWarning: To copy construct from a tensor, it is recommended to use sourceTensor.clone().detach() or sourceTensor.clone().detach().requires_grad_(True), rather than torch.tensor(sourceTensor).\n",
      "  return self.data[idx], torch.tensor(self.labels[idx])\n"
     ]
    },
    {
     "name": "stdout",
     "output_type": "stream",
     "text": [
      "Epoch 26/100 | Train Loss: 0.5327 | F1: 0.7428 | P: 0.5942 | R: 0.9906 | Acc: 0.6571\n"
     ]
    },
    {
     "name": "stderr",
     "output_type": "stream",
     "text": [
      "/tmp/ipykernel_15651/475506173.py:10: UserWarning: To copy construct from a tensor, it is recommended to use sourceTensor.clone().detach() or sourceTensor.clone().detach().requires_grad_(True), rather than torch.tensor(sourceTensor).\n",
      "  return self.data[idx], torch.tensor(self.labels[idx])\n"
     ]
    },
    {
     "name": "stdout",
     "output_type": "stream",
     "text": [
      "Epoch 27/100 | Train Loss: 0.5293 | F1: 0.7425 | P: 0.5948 | R: 0.9877 | Acc: 0.6574\n"
     ]
    },
    {
     "name": "stderr",
     "output_type": "stream",
     "text": [
      "/tmp/ipykernel_15651/475506173.py:10: UserWarning: To copy construct from a tensor, it is recommended to use sourceTensor.clone().detach() or sourceTensor.clone().detach().requires_grad_(True), rather than torch.tensor(sourceTensor).\n",
      "  return self.data[idx], torch.tensor(self.labels[idx])\n"
     ]
    },
    {
     "name": "stdout",
     "output_type": "stream",
     "text": [
      "Epoch 28/100 | Train Loss: 0.5250 | F1: 0.7136 | P: 0.6096 | R: 0.8605 | Acc: 0.6547\n"
     ]
    },
    {
     "name": "stderr",
     "output_type": "stream",
     "text": [
      "/tmp/ipykernel_15651/475506173.py:10: UserWarning: To copy construct from a tensor, it is recommended to use sourceTensor.clone().detach() or sourceTensor.clone().detach().requires_grad_(True), rather than torch.tensor(sourceTensor).\n",
      "  return self.data[idx], torch.tensor(self.labels[idx])\n"
     ]
    },
    {
     "name": "stdout",
     "output_type": "stream",
     "text": [
      "Epoch 29/100 | Train Loss: 0.5220 | F1: 0.7403 | P: 0.5951 | R: 0.9791 | Acc: 0.6565\n"
     ]
    },
    {
     "name": "stderr",
     "output_type": "stream",
     "text": [
      "/tmp/ipykernel_15651/475506173.py:10: UserWarning: To copy construct from a tensor, it is recommended to use sourceTensor.clone().detach() or sourceTensor.clone().detach().requires_grad_(True), rather than torch.tensor(sourceTensor).\n",
      "  return self.data[idx], torch.tensor(self.labels[idx])\n"
     ]
    },
    {
     "name": "stdout",
     "output_type": "stream",
     "text": [
      "Epoch 30/100 | Train Loss: 0.5219 | F1: 0.7434 | P: 0.5926 | R: 0.9974 | Acc: 0.6558\n"
     ]
    },
    {
     "name": "stderr",
     "output_type": "stream",
     "text": [
      "/tmp/ipykernel_15651/475506173.py:10: UserWarning: To copy construct from a tensor, it is recommended to use sourceTensor.clone().detach() or sourceTensor.clone().detach().requires_grad_(True), rather than torch.tensor(sourceTensor).\n",
      "  return self.data[idx], torch.tensor(self.labels[idx])\n"
     ]
    },
    {
     "name": "stdout",
     "output_type": "stream",
     "text": [
      "Epoch 31/100 | Train Loss: 0.5199 | F1: 0.7390 | P: 0.5950 | R: 0.9750 | Acc: 0.6557\n"
     ]
    },
    {
     "name": "stderr",
     "output_type": "stream",
     "text": [
      "/tmp/ipykernel_15651/475506173.py:10: UserWarning: To copy construct from a tensor, it is recommended to use sourceTensor.clone().detach() or sourceTensor.clone().detach().requires_grad_(True), rather than torch.tensor(sourceTensor).\n",
      "  return self.data[idx], torch.tensor(self.labels[idx])\n"
     ]
    },
    {
     "name": "stdout",
     "output_type": "stream",
     "text": [
      "Epoch 32/100 | Train Loss: 0.5179 | F1: 0.7384 | P: 0.5965 | R: 0.9688 | Acc: 0.6568\n"
     ]
    },
    {
     "name": "stderr",
     "output_type": "stream",
     "text": [
      "/tmp/ipykernel_15651/475506173.py:10: UserWarning: To copy construct from a tensor, it is recommended to use sourceTensor.clone().detach() or sourceTensor.clone().detach().requires_grad_(True), rather than torch.tensor(sourceTensor).\n",
      "  return self.data[idx], torch.tensor(self.labels[idx])\n"
     ]
    },
    {
     "name": "stdout",
     "output_type": "stream",
     "text": [
      "Epoch 33/100 | Train Loss: 0.5170 | F1: 0.7231 | P: 0.6057 | R: 0.8970 | Acc: 0.6565\n"
     ]
    },
    {
     "name": "stderr",
     "output_type": "stream",
     "text": [
      "/tmp/ipykernel_15651/475506173.py:10: UserWarning: To copy construct from a tensor, it is recommended to use sourceTensor.clone().detach() or sourceTensor.clone().detach().requires_grad_(True), rather than torch.tensor(sourceTensor).\n",
      "  return self.data[idx], torch.tensor(self.labels[idx])\n"
     ]
    },
    {
     "name": "stdout",
     "output_type": "stream",
     "text": [
      "Epoch 34/100 | Train Loss: 0.5105 | F1: 0.7435 | P: 0.5922 | R: 0.9986 | Acc: 0.6555\n"
     ]
    },
    {
     "name": "stderr",
     "output_type": "stream",
     "text": [
      "/tmp/ipykernel_15651/475506173.py:10: UserWarning: To copy construct from a tensor, it is recommended to use sourceTensor.clone().detach() or sourceTensor.clone().detach().requires_grad_(True), rather than torch.tensor(sourceTensor).\n",
      "  return self.data[idx], torch.tensor(self.labels[idx])\n"
     ]
    },
    {
     "name": "stdout",
     "output_type": "stream",
     "text": [
      "Epoch 35/100 | Train Loss: 0.5089 | F1: 0.7247 | P: 0.6009 | R: 0.9129 | Acc: 0.6533\n"
     ]
    },
    {
     "name": "stderr",
     "output_type": "stream",
     "text": [
      "/tmp/ipykernel_15651/475506173.py:10: UserWarning: To copy construct from a tensor, it is recommended to use sourceTensor.clone().detach() or sourceTensor.clone().detach().requires_grad_(True), rather than torch.tensor(sourceTensor).\n",
      "  return self.data[idx], torch.tensor(self.labels[idx])\n"
     ]
    },
    {
     "name": "stdout",
     "output_type": "stream",
     "text": [
      "Epoch 36/100 | Train Loss: 0.5050 | F1: 0.7388 | P: 0.5935 | R: 0.9783 | Acc: 0.6542\n"
     ]
    },
    {
     "name": "stderr",
     "output_type": "stream",
     "text": [
      "/tmp/ipykernel_15651/475506173.py:10: UserWarning: To copy construct from a tensor, it is recommended to use sourceTensor.clone().detach() or sourceTensor.clone().detach().requires_grad_(True), rather than torch.tensor(sourceTensor).\n",
      "  return self.data[idx], torch.tensor(self.labels[idx])\n"
     ]
    },
    {
     "name": "stdout",
     "output_type": "stream",
     "text": [
      "Epoch 37/100 | Train Loss: 0.4985 | F1: 0.7324 | P: 0.5960 | R: 0.9497 | Acc: 0.6530\n"
     ]
    },
    {
     "name": "stderr",
     "output_type": "stream",
     "text": [
      "/tmp/ipykernel_15651/475506173.py:10: UserWarning: To copy construct from a tensor, it is recommended to use sourceTensor.clone().detach() or sourceTensor.clone().detach().requires_grad_(True), rather than torch.tensor(sourceTensor).\n",
      "  return self.data[idx], torch.tensor(self.labels[idx])\n"
     ]
    },
    {
     "name": "stdout",
     "output_type": "stream",
     "text": [
      "Epoch 38/100 | Train Loss: 0.4948 | F1: 0.7033 | P: 0.6183 | R: 0.8153 | Acc: 0.6560\n"
     ]
    },
    {
     "name": "stderr",
     "output_type": "stream",
     "text": [
      "/tmp/ipykernel_15651/475506173.py:10: UserWarning: To copy construct from a tensor, it is recommended to use sourceTensor.clone().detach() or sourceTensor.clone().detach().requires_grad_(True), rather than torch.tensor(sourceTensor).\n",
      "  return self.data[idx], torch.tensor(self.labels[idx])\n"
     ]
    },
    {
     "name": "stdout",
     "output_type": "stream",
     "text": [
      "Epoch 39/100 | Train Loss: 0.5001 | F1: 0.7415 | P: 0.5924 | R: 0.9908 | Acc: 0.6546\n"
     ]
    },
    {
     "name": "stderr",
     "output_type": "stream",
     "text": [
      "/tmp/ipykernel_15651/475506173.py:10: UserWarning: To copy construct from a tensor, it is recommended to use sourceTensor.clone().detach() or sourceTensor.clone().detach().requires_grad_(True), rather than torch.tensor(sourceTensor).\n",
      "  return self.data[idx], torch.tensor(self.labels[idx])\n"
     ]
    },
    {
     "name": "stdout",
     "output_type": "stream",
     "text": [
      "Epoch 40/100 | Train Loss: 0.4956 | F1: 0.7144 | P: 0.6123 | R: 0.8573 | Acc: 0.6572\n"
     ]
    },
    {
     "name": "stderr",
     "output_type": "stream",
     "text": [
      "/tmp/ipykernel_15651/475506173.py:10: UserWarning: To copy construct from a tensor, it is recommended to use sourceTensor.clone().detach() or sourceTensor.clone().detach().requires_grad_(True), rather than torch.tensor(sourceTensor).\n",
      "  return self.data[idx], torch.tensor(self.labels[idx])\n"
     ]
    },
    {
     "name": "stdout",
     "output_type": "stream",
     "text": [
      "Epoch 41/100 | Train Loss: 0.4879 | F1: 0.7242 | P: 0.6020 | R: 0.9086 | Acc: 0.6539\n"
     ]
    },
    {
     "name": "stderr",
     "output_type": "stream",
     "text": [
      "/tmp/ipykernel_15651/475506173.py:10: UserWarning: To copy construct from a tensor, it is recommended to use sourceTensor.clone().detach() or sourceTensor.clone().detach().requires_grad_(True), rather than torch.tensor(sourceTensor).\n",
      "  return self.data[idx], torch.tensor(self.labels[idx])\n"
     ]
    },
    {
     "name": "stdout",
     "output_type": "stream",
     "text": [
      "Epoch 42/100 | Train Loss: 0.4850 | F1: 0.7124 | P: 0.6106 | R: 0.8547 | Acc: 0.6549\n"
     ]
    },
    {
     "name": "stderr",
     "output_type": "stream",
     "text": [
      "/tmp/ipykernel_15651/475506173.py:10: UserWarning: To copy construct from a tensor, it is recommended to use sourceTensor.clone().detach() or sourceTensor.clone().detach().requires_grad_(True), rather than torch.tensor(sourceTensor).\n",
      "  return self.data[idx], torch.tensor(self.labels[idx])\n"
     ]
    },
    {
     "name": "stdout",
     "output_type": "stream",
     "text": [
      "Epoch 43/100 | Train Loss: 0.4764 | F1: 0.7211 | P: 0.6005 | R: 0.9023 | Acc: 0.6510\n"
     ]
    },
    {
     "name": "stderr",
     "output_type": "stream",
     "text": [
      "/tmp/ipykernel_15651/475506173.py:10: UserWarning: To copy construct from a tensor, it is recommended to use sourceTensor.clone().detach() or sourceTensor.clone().detach().requires_grad_(True), rather than torch.tensor(sourceTensor).\n",
      "  return self.data[idx], torch.tensor(self.labels[idx])\n"
     ]
    },
    {
     "name": "stdout",
     "output_type": "stream",
     "text": [
      "Epoch 44/100 | Train Loss: 0.4726 | F1: 0.7167 | P: 0.6111 | R: 0.8663 | Acc: 0.6575\n"
     ]
    },
    {
     "name": "stderr",
     "output_type": "stream",
     "text": [
      "/tmp/ipykernel_15651/475506173.py:10: UserWarning: To copy construct from a tensor, it is recommended to use sourceTensor.clone().detach() or sourceTensor.clone().detach().requires_grad_(True), rather than torch.tensor(sourceTensor).\n",
      "  return self.data[idx], torch.tensor(self.labels[idx])\n"
     ]
    },
    {
     "name": "stdout",
     "output_type": "stream",
     "text": [
      "Epoch 45/100 | Train Loss: 0.4658 | F1: 0.7316 | P: 0.6004 | R: 0.9362 | Acc: 0.6565\n"
     ]
    },
    {
     "name": "stderr",
     "output_type": "stream",
     "text": [
      "/tmp/ipykernel_15651/475506173.py:10: UserWarning: To copy construct from a tensor, it is recommended to use sourceTensor.clone().detach() or sourceTensor.clone().detach().requires_grad_(True), rather than torch.tensor(sourceTensor).\n",
      "  return self.data[idx], torch.tensor(self.labels[idx])\n"
     ]
    },
    {
     "name": "stdout",
     "output_type": "stream",
     "text": [
      "Epoch 46/100 | Train Loss: 0.4608 | F1: 0.7361 | P: 0.5950 | R: 0.9650 | Acc: 0.6541\n"
     ]
    },
    {
     "name": "stderr",
     "output_type": "stream",
     "text": [
      "/tmp/ipykernel_15651/475506173.py:10: UserWarning: To copy construct from a tensor, it is recommended to use sourceTensor.clone().detach() or sourceTensor.clone().detach().requires_grad_(True), rather than torch.tensor(sourceTensor).\n",
      "  return self.data[idx], torch.tensor(self.labels[idx])\n"
     ]
    },
    {
     "name": "stdout",
     "output_type": "stream",
     "text": [
      "Epoch 47/100 | Train Loss: 0.4566 | F1: 0.7276 | P: 0.6015 | R: 0.9205 | Acc: 0.6553\n"
     ]
    },
    {
     "name": "stderr",
     "output_type": "stream",
     "text": [
      "/tmp/ipykernel_15651/475506173.py:10: UserWarning: To copy construct from a tensor, it is recommended to use sourceTensor.clone().detach() or sourceTensor.clone().detach().requires_grad_(True), rather than torch.tensor(sourceTensor).\n",
      "  return self.data[idx], torch.tensor(self.labels[idx])\n"
     ]
    },
    {
     "name": "stdout",
     "output_type": "stream",
     "text": [
      "Epoch 48/100 | Train Loss: 0.4538 | F1: 0.6886 | P: 0.6064 | R: 0.7967 | Acc: 0.6398\n"
     ]
    },
    {
     "name": "stderr",
     "output_type": "stream",
     "text": [
      "/tmp/ipykernel_15651/475506173.py:10: UserWarning: To copy construct from a tensor, it is recommended to use sourceTensor.clone().detach() or sourceTensor.clone().detach().requires_grad_(True), rather than torch.tensor(sourceTensor).\n",
      "  return self.data[idx], torch.tensor(self.labels[idx])\n"
     ]
    },
    {
     "name": "stdout",
     "output_type": "stream",
     "text": [
      "Epoch 49/100 | Train Loss: 0.4529 | F1: 0.6872 | P: 0.6011 | R: 0.8020 | Acc: 0.6349\n"
     ]
    },
    {
     "name": "stderr",
     "output_type": "stream",
     "text": [
      "/tmp/ipykernel_15651/475506173.py:10: UserWarning: To copy construct from a tensor, it is recommended to use sourceTensor.clone().detach() or sourceTensor.clone().detach().requires_grad_(True), rather than torch.tensor(sourceTensor).\n",
      "  return self.data[idx], torch.tensor(self.labels[idx])\n"
     ]
    },
    {
     "name": "stdout",
     "output_type": "stream",
     "text": [
      "Epoch 50/100 | Train Loss: 0.4595 | F1: 0.7313 | P: 0.6006 | R: 0.9349 | Acc: 0.6566\n"
     ]
    },
    {
     "name": "stderr",
     "output_type": "stream",
     "text": [
      "/tmp/ipykernel_15651/475506173.py:10: UserWarning: To copy construct from a tensor, it is recommended to use sourceTensor.clone().detach() or sourceTensor.clone().detach().requires_grad_(True), rather than torch.tensor(sourceTensor).\n",
      "  return self.data[idx], torch.tensor(self.labels[idx])\n"
     ]
    },
    {
     "name": "stdout",
     "output_type": "stream",
     "text": [
      "Epoch 51/100 | Train Loss: 0.4392 | F1: 0.7264 | P: 0.5961 | R: 0.9294 | Acc: 0.6499\n"
     ]
    },
    {
     "name": "stderr",
     "output_type": "stream",
     "text": [
      "/tmp/ipykernel_15651/475506173.py:10: UserWarning: To copy construct from a tensor, it is recommended to use sourceTensor.clone().detach() or sourceTensor.clone().detach().requires_grad_(True), rather than torch.tensor(sourceTensor).\n",
      "  return self.data[idx], torch.tensor(self.labels[idx])\n"
     ]
    },
    {
     "name": "stdout",
     "output_type": "stream",
     "text": [
      "Epoch 52/100 | Train Loss: 0.4381 | F1: 0.6956 | P: 0.6153 | R: 0.8000 | Acc: 0.6499\n"
     ]
    },
    {
     "name": "stderr",
     "output_type": "stream",
     "text": [
      "/tmp/ipykernel_15651/475506173.py:10: UserWarning: To copy construct from a tensor, it is recommended to use sourceTensor.clone().detach() or sourceTensor.clone().detach().requires_grad_(True), rather than torch.tensor(sourceTensor).\n",
      "  return self.data[idx], torch.tensor(self.labels[idx])\n"
     ]
    },
    {
     "name": "stdout",
     "output_type": "stream",
     "text": [
      "Epoch 53/100 | Train Loss: 0.4371 | F1: 0.7061 | P: 0.6033 | R: 0.8512 | Acc: 0.6457\n"
     ]
    },
    {
     "name": "stderr",
     "output_type": "stream",
     "text": [
      "/tmp/ipykernel_15651/475506173.py:10: UserWarning: To copy construct from a tensor, it is recommended to use sourceTensor.clone().detach() or sourceTensor.clone().detach().requires_grad_(True), rather than torch.tensor(sourceTensor).\n",
      "  return self.data[idx], torch.tensor(self.labels[idx])\n"
     ]
    },
    {
     "name": "stdout",
     "output_type": "stream",
     "text": [
      "Epoch 54/100 | Train Loss: 0.4290 | F1: 0.6984 | P: 0.5979 | R: 0.8395 | Acc: 0.6375\n"
     ]
    },
    {
     "name": "stderr",
     "output_type": "stream",
     "text": [
      "/tmp/ipykernel_15651/475506173.py:10: UserWarning: To copy construct from a tensor, it is recommended to use sourceTensor.clone().detach() or sourceTensor.clone().detach().requires_grad_(True), rather than torch.tensor(sourceTensor).\n",
      "  return self.data[idx], torch.tensor(self.labels[idx])\n"
     ]
    },
    {
     "name": "stdout",
     "output_type": "stream",
     "text": [
      "Epoch 55/100 | Train Loss: 0.4258 | F1: 0.7175 | P: 0.5998 | R: 0.8927 | Acc: 0.6485\n"
     ]
    },
    {
     "name": "stderr",
     "output_type": "stream",
     "text": [
      "/tmp/ipykernel_15651/475506173.py:10: UserWarning: To copy construct from a tensor, it is recommended to use sourceTensor.clone().detach() or sourceTensor.clone().detach().requires_grad_(True), rather than torch.tensor(sourceTensor).\n",
      "  return self.data[idx], torch.tensor(self.labels[idx])\n"
     ]
    },
    {
     "name": "stdout",
     "output_type": "stream",
     "text": [
      "Epoch 56/100 | Train Loss: 0.4234 | F1: 0.7160 | P: 0.6002 | R: 0.8872 | Acc: 0.6481\n"
     ]
    },
    {
     "name": "stderr",
     "output_type": "stream",
     "text": [
      "/tmp/ipykernel_15651/475506173.py:10: UserWarning: To copy construct from a tensor, it is recommended to use sourceTensor.clone().detach() or sourceTensor.clone().detach().requires_grad_(True), rather than torch.tensor(sourceTensor).\n",
      "  return self.data[idx], torch.tensor(self.labels[idx])\n"
     ]
    },
    {
     "name": "stdout",
     "output_type": "stream",
     "text": [
      "Epoch 57/100 | Train Loss: 0.4202 | F1: 0.7145 | P: 0.5941 | R: 0.8960 | Acc: 0.6419\n"
     ]
    },
    {
     "name": "stderr",
     "output_type": "stream",
     "text": [
      "/tmp/ipykernel_15651/475506173.py:10: UserWarning: To copy construct from a tensor, it is recommended to use sourceTensor.clone().detach() or sourceTensor.clone().detach().requires_grad_(True), rather than torch.tensor(sourceTensor).\n",
      "  return self.data[idx], torch.tensor(self.labels[idx])\n"
     ]
    },
    {
     "name": "stdout",
     "output_type": "stream",
     "text": [
      "Epoch 58/100 | Train Loss: 0.4107 | F1: 0.6292 | P: 0.6101 | R: 0.6496 | Acc: 0.6172\n"
     ]
    },
    {
     "name": "stderr",
     "output_type": "stream",
     "text": [
      "/tmp/ipykernel_15651/475506173.py:10: UserWarning: To copy construct from a tensor, it is recommended to use sourceTensor.clone().detach() or sourceTensor.clone().detach().requires_grad_(True), rather than torch.tensor(sourceTensor).\n",
      "  return self.data[idx], torch.tensor(self.labels[idx])\n"
     ]
    },
    {
     "name": "stdout",
     "output_type": "stream",
     "text": [
      "Epoch 59/100 | Train Loss: 0.4109 | F1: 0.7135 | P: 0.6026 | R: 0.8743 | Acc: 0.6489\n"
     ]
    },
    {
     "name": "stderr",
     "output_type": "stream",
     "text": [
      "/tmp/ipykernel_15651/475506173.py:10: UserWarning: To copy construct from a tensor, it is recommended to use sourceTensor.clone().detach() or sourceTensor.clone().detach().requires_grad_(True), rather than torch.tensor(sourceTensor).\n",
      "  return self.data[idx], torch.tensor(self.labels[idx])\n"
     ]
    },
    {
     "name": "stdout",
     "output_type": "stream",
     "text": [
      "Epoch 60/100 | Train Loss: 0.4076 | F1: 0.6839 | P: 0.5981 | R: 0.7982 | Acc: 0.6310\n"
     ]
    },
    {
     "name": "stderr",
     "output_type": "stream",
     "text": [
      "/tmp/ipykernel_15651/475506173.py:10: UserWarning: To copy construct from a tensor, it is recommended to use sourceTensor.clone().detach() or sourceTensor.clone().detach().requires_grad_(True), rather than torch.tensor(sourceTensor).\n",
      "  return self.data[idx], torch.tensor(self.labels[idx])\n"
     ]
    },
    {
     "name": "stdout",
     "output_type": "stream",
     "text": [
      "Epoch 61/100 | Train Loss: 0.4005 | F1: 0.6810 | P: 0.5989 | R: 0.7891 | Acc: 0.6303\n"
     ]
    },
    {
     "name": "stderr",
     "output_type": "stream",
     "text": [
      "/tmp/ipykernel_15651/475506173.py:10: UserWarning: To copy construct from a tensor, it is recommended to use sourceTensor.clone().detach() or sourceTensor.clone().detach().requires_grad_(True), rather than torch.tensor(sourceTensor).\n",
      "  return self.data[idx], torch.tensor(self.labels[idx])\n"
     ]
    },
    {
     "name": "stdout",
     "output_type": "stream",
     "text": [
      "Epoch 62/100 | Train Loss: 0.4020 | F1: 0.6343 | P: 0.6137 | R: 0.6563 | Acc: 0.6216\n"
     ]
    },
    {
     "name": "stderr",
     "output_type": "stream",
     "text": [
      "/tmp/ipykernel_15651/475506173.py:10: UserWarning: To copy construct from a tensor, it is recommended to use sourceTensor.clone().detach() or sourceTensor.clone().detach().requires_grad_(True), rather than torch.tensor(sourceTensor).\n",
      "  return self.data[idx], torch.tensor(self.labels[idx])\n"
     ]
    },
    {
     "name": "stdout",
     "output_type": "stream",
     "text": [
      "Epoch 63/100 | Train Loss: 0.3898 | F1: 0.6723 | P: 0.6108 | R: 0.7475 | Acc: 0.6356\n"
     ]
    },
    {
     "name": "stderr",
     "output_type": "stream",
     "text": [
      "/tmp/ipykernel_15651/475506173.py:10: UserWarning: To copy construct from a tensor, it is recommended to use sourceTensor.clone().detach() or sourceTensor.clone().detach().requires_grad_(True), rather than torch.tensor(sourceTensor).\n",
      "  return self.data[idx], torch.tensor(self.labels[idx])\n"
     ]
    },
    {
     "name": "stdout",
     "output_type": "stream",
     "text": [
      "Epoch 64/100 | Train Loss: 0.3893 | F1: 0.6317 | P: 0.6020 | R: 0.6644 | Acc: 0.6126\n"
     ]
    },
    {
     "name": "stderr",
     "output_type": "stream",
     "text": [
      "/tmp/ipykernel_15651/475506173.py:10: UserWarning: To copy construct from a tensor, it is recommended to use sourceTensor.clone().detach() or sourceTensor.clone().detach().requires_grad_(True), rather than torch.tensor(sourceTensor).\n",
      "  return self.data[idx], torch.tensor(self.labels[idx])\n"
     ]
    },
    {
     "name": "stdout",
     "output_type": "stream",
     "text": [
      "Epoch 65/100 | Train Loss: 0.3855 | F1: 0.7205 | P: 0.5988 | R: 0.9043 | Acc: 0.6493\n"
     ]
    },
    {
     "name": "stderr",
     "output_type": "stream",
     "text": [
      "/tmp/ipykernel_15651/475506173.py:10: UserWarning: To copy construct from a tensor, it is recommended to use sourceTensor.clone().detach() or sourceTensor.clone().detach().requires_grad_(True), rather than torch.tensor(sourceTensor).\n",
      "  return self.data[idx], torch.tensor(self.labels[idx])\n"
     ]
    },
    {
     "name": "stdout",
     "output_type": "stream",
     "text": [
      "Epoch 66/100 | Train Loss: 0.3861 | F1: 0.6560 | P: 0.5984 | R: 0.7259 | Acc: 0.6194\n"
     ]
    },
    {
     "name": "stderr",
     "output_type": "stream",
     "text": [
      "/tmp/ipykernel_15651/475506173.py:10: UserWarning: To copy construct from a tensor, it is recommended to use sourceTensor.clone().detach() or sourceTensor.clone().detach().requires_grad_(True), rather than torch.tensor(sourceTensor).\n",
      "  return self.data[idx], torch.tensor(self.labels[idx])\n"
     ]
    },
    {
     "name": "stdout",
     "output_type": "stream",
     "text": [
      "Epoch 67/100 | Train Loss: 0.3722 | F1: 0.6991 | P: 0.5986 | R: 0.8401 | Acc: 0.6383\n"
     ]
    },
    {
     "name": "stderr",
     "output_type": "stream",
     "text": [
      "/tmp/ipykernel_15651/475506173.py:10: UserWarning: To copy construct from a tensor, it is recommended to use sourceTensor.clone().detach() or sourceTensor.clone().detach().requires_grad_(True), rather than torch.tensor(sourceTensor).\n",
      "  return self.data[idx], torch.tensor(self.labels[idx])\n"
     ]
    },
    {
     "name": "stdout",
     "output_type": "stream",
     "text": [
      "Epoch 68/100 | Train Loss: 0.3759 | F1: 0.6763 | P: 0.5991 | R: 0.7763 | Acc: 0.6284\n"
     ]
    },
    {
     "name": "stderr",
     "output_type": "stream",
     "text": [
      "/tmp/ipykernel_15651/475506173.py:10: UserWarning: To copy construct from a tensor, it is recommended to use sourceTensor.clone().detach() or sourceTensor.clone().detach().requires_grad_(True), rather than torch.tensor(sourceTensor).\n",
      "  return self.data[idx], torch.tensor(self.labels[idx])\n"
     ]
    },
    {
     "name": "stdout",
     "output_type": "stream",
     "text": [
      "Epoch 69/100 | Train Loss: 0.3758 | F1: 0.6629 | P: 0.6032 | R: 0.7357 | Acc: 0.6259\n"
     ]
    },
    {
     "name": "stderr",
     "output_type": "stream",
     "text": [
      "/tmp/ipykernel_15651/475506173.py:10: UserWarning: To copy construct from a tensor, it is recommended to use sourceTensor.clone().detach() or sourceTensor.clone().detach().requires_grad_(True), rather than torch.tensor(sourceTensor).\n",
      "  return self.data[idx], torch.tensor(self.labels[idx])\n"
     ]
    },
    {
     "name": "stdout",
     "output_type": "stream",
     "text": [
      "Epoch 70/100 | Train Loss: 0.3703 | F1: 0.6649 | P: 0.5930 | R: 0.7567 | Acc: 0.6186\n"
     ]
    },
    {
     "name": "stderr",
     "output_type": "stream",
     "text": [
      "/tmp/ipykernel_15651/475506173.py:10: UserWarning: To copy construct from a tensor, it is recommended to use sourceTensor.clone().detach() or sourceTensor.clone().detach().requires_grad_(True), rather than torch.tensor(sourceTensor).\n",
      "  return self.data[idx], torch.tensor(self.labels[idx])\n"
     ]
    },
    {
     "name": "stdout",
     "output_type": "stream",
     "text": [
      "Epoch 71/100 | Train Loss: 0.3577 | F1: 0.6985 | P: 0.6000 | R: 0.8356 | Acc: 0.6392\n"
     ]
    },
    {
     "name": "stderr",
     "output_type": "stream",
     "text": [
      "/tmp/ipykernel_15651/475506173.py:10: UserWarning: To copy construct from a tensor, it is recommended to use sourceTensor.clone().detach() or sourceTensor.clone().detach().requires_grad_(True), rather than torch.tensor(sourceTensor).\n",
      "  return self.data[idx], torch.tensor(self.labels[idx])\n"
     ]
    },
    {
     "name": "stdout",
     "output_type": "stream",
     "text": [
      "Epoch 72/100 | Train Loss: 0.3608 | F1: 0.6751 | P: 0.6007 | R: 0.7705 | Acc: 0.6291\n"
     ]
    },
    {
     "name": "stderr",
     "output_type": "stream",
     "text": [
      "/tmp/ipykernel_15651/475506173.py:10: UserWarning: To copy construct from a tensor, it is recommended to use sourceTensor.clone().detach() or sourceTensor.clone().detach().requires_grad_(True), rather than torch.tensor(sourceTensor).\n",
      "  return self.data[idx], torch.tensor(self.labels[idx])\n"
     ]
    },
    {
     "name": "stdout",
     "output_type": "stream",
     "text": [
      "Epoch 73/100 | Train Loss: 0.3591 | F1: 0.6831 | P: 0.6018 | R: 0.7899 | Acc: 0.6336\n"
     ]
    },
    {
     "name": "stderr",
     "output_type": "stream",
     "text": [
      "/tmp/ipykernel_15651/475506173.py:10: UserWarning: To copy construct from a tensor, it is recommended to use sourceTensor.clone().detach() or sourceTensor.clone().detach().requires_grad_(True), rather than torch.tensor(sourceTensor).\n",
      "  return self.data[idx], torch.tensor(self.labels[idx])\n"
     ]
    },
    {
     "name": "stdout",
     "output_type": "stream",
     "text": [
      "Epoch 74/100 | Train Loss: 0.3506 | F1: 0.6633 | P: 0.6133 | R: 0.7221 | Acc: 0.6334\n"
     ]
    },
    {
     "name": "stderr",
     "output_type": "stream",
     "text": [
      "/tmp/ipykernel_15651/475506173.py:10: UserWarning: To copy construct from a tensor, it is recommended to use sourceTensor.clone().detach() or sourceTensor.clone().detach().requires_grad_(True), rather than torch.tensor(sourceTensor).\n",
      "  return self.data[idx], torch.tensor(self.labels[idx])\n"
     ]
    },
    {
     "name": "stdout",
     "output_type": "stream",
     "text": [
      "Epoch 75/100 | Train Loss: 0.3525 | F1: 0.6532 | P: 0.5944 | R: 0.7248 | Acc: 0.6151\n"
     ]
    },
    {
     "name": "stderr",
     "output_type": "stream",
     "text": [
      "/tmp/ipykernel_15651/475506173.py:10: UserWarning: To copy construct from a tensor, it is recommended to use sourceTensor.clone().detach() or sourceTensor.clone().detach().requires_grad_(True), rather than torch.tensor(sourceTensor).\n",
      "  return self.data[idx], torch.tensor(self.labels[idx])\n"
     ]
    },
    {
     "name": "stdout",
     "output_type": "stream",
     "text": [
      "Epoch 76/100 | Train Loss: 0.3401 | F1: 0.6434 | P: 0.6071 | R: 0.6845 | Acc: 0.6207\n"
     ]
    },
    {
     "name": "stderr",
     "output_type": "stream",
     "text": [
      "/tmp/ipykernel_15651/475506173.py:10: UserWarning: To copy construct from a tensor, it is recommended to use sourceTensor.clone().detach() or sourceTensor.clone().detach().requires_grad_(True), rather than torch.tensor(sourceTensor).\n",
      "  return self.data[idx], torch.tensor(self.labels[idx])\n"
     ]
    },
    {
     "name": "stdout",
     "output_type": "stream",
     "text": [
      "Epoch 77/100 | Train Loss: 0.3412 | F1: 0.6709 | P: 0.5990 | R: 0.7624 | Acc: 0.6260\n"
     ]
    },
    {
     "name": "stderr",
     "output_type": "stream",
     "text": [
      "/tmp/ipykernel_15651/475506173.py:10: UserWarning: To copy construct from a tensor, it is recommended to use sourceTensor.clone().detach() or sourceTensor.clone().detach().requires_grad_(True), rather than torch.tensor(sourceTensor).\n",
      "  return self.data[idx], torch.tensor(self.labels[idx])\n"
     ]
    },
    {
     "name": "stdout",
     "output_type": "stream",
     "text": [
      "Epoch 78/100 | Train Loss: 0.3417 | F1: 0.6062 | P: 0.6045 | R: 0.6079 | Acc: 0.6051\n"
     ]
    },
    {
     "name": "stderr",
     "output_type": "stream",
     "text": [
      "/tmp/ipykernel_15651/475506173.py:10: UserWarning: To copy construct from a tensor, it is recommended to use sourceTensor.clone().detach() or sourceTensor.clone().detach().requires_grad_(True), rather than torch.tensor(sourceTensor).\n",
      "  return self.data[idx], torch.tensor(self.labels[idx])\n"
     ]
    },
    {
     "name": "stdout",
     "output_type": "stream",
     "text": [
      "Epoch 79/100 | Train Loss: 0.3407 | F1: 0.6235 | P: 0.6086 | R: 0.6392 | Acc: 0.6140\n"
     ]
    },
    {
     "name": "stderr",
     "output_type": "stream",
     "text": [
      "/tmp/ipykernel_15651/475506173.py:10: UserWarning: To copy construct from a tensor, it is recommended to use sourceTensor.clone().detach() or sourceTensor.clone().detach().requires_grad_(True), rather than torch.tensor(sourceTensor).\n",
      "  return self.data[idx], torch.tensor(self.labels[idx])\n"
     ]
    },
    {
     "name": "stdout",
     "output_type": "stream",
     "text": [
      "Epoch 80/100 | Train Loss: 0.3289 | F1: 0.6826 | P: 0.5965 | R: 0.7979 | Acc: 0.6290\n"
     ]
    },
    {
     "name": "stderr",
     "output_type": "stream",
     "text": [
      "/tmp/ipykernel_15651/475506173.py:10: UserWarning: To copy construct from a tensor, it is recommended to use sourceTensor.clone().detach() or sourceTensor.clone().detach().requires_grad_(True), rather than torch.tensor(sourceTensor).\n",
      "  return self.data[idx], torch.tensor(self.labels[idx])\n"
     ]
    },
    {
     "name": "stdout",
     "output_type": "stream",
     "text": [
      "Epoch 81/100 | Train Loss: 0.3374 | F1: 0.6886 | P: 0.6028 | R: 0.8028 | Acc: 0.6369\n"
     ]
    },
    {
     "name": "stderr",
     "output_type": "stream",
     "text": [
      "/tmp/ipykernel_15651/475506173.py:10: UserWarning: To copy construct from a tensor, it is recommended to use sourceTensor.clone().detach() or sourceTensor.clone().detach().requires_grad_(True), rather than torch.tensor(sourceTensor).\n",
      "  return self.data[idx], torch.tensor(self.labels[idx])\n"
     ]
    },
    {
     "name": "stdout",
     "output_type": "stream",
     "text": [
      "Epoch 82/100 | Train Loss: 0.3462 | F1: 0.6562 | P: 0.6028 | R: 0.7201 | Acc: 0.6228\n"
     ]
    },
    {
     "name": "stderr",
     "output_type": "stream",
     "text": [
      "/tmp/ipykernel_15651/475506173.py:10: UserWarning: To copy construct from a tensor, it is recommended to use sourceTensor.clone().detach() or sourceTensor.clone().detach().requires_grad_(True), rather than torch.tensor(sourceTensor).\n",
      "  return self.data[idx], torch.tensor(self.labels[idx])\n"
     ]
    },
    {
     "name": "stdout",
     "output_type": "stream",
     "text": [
      "Epoch 83/100 | Train Loss: 0.3177 | F1: 0.6820 | P: 0.5946 | R: 0.7995 | Acc: 0.6272\n"
     ]
    },
    {
     "name": "stderr",
     "output_type": "stream",
     "text": [
      "/tmp/ipykernel_15651/475506173.py:10: UserWarning: To copy construct from a tensor, it is recommended to use sourceTensor.clone().detach() or sourceTensor.clone().detach().requires_grad_(True), rather than torch.tensor(sourceTensor).\n",
      "  return self.data[idx], torch.tensor(self.labels[idx])\n"
     ]
    },
    {
     "name": "stdout",
     "output_type": "stream",
     "text": [
      "Epoch 84/100 | Train Loss: 0.3206 | F1: 0.6879 | P: 0.5973 | R: 0.8110 | Acc: 0.6321\n"
     ]
    },
    {
     "name": "stderr",
     "output_type": "stream",
     "text": [
      "/tmp/ipykernel_15651/475506173.py:10: UserWarning: To copy construct from a tensor, it is recommended to use sourceTensor.clone().detach() or sourceTensor.clone().detach().requires_grad_(True), rather than torch.tensor(sourceTensor).\n",
      "  return self.data[idx], torch.tensor(self.labels[idx])\n"
     ]
    },
    {
     "name": "stdout",
     "output_type": "stream",
     "text": [
      "Epoch 85/100 | Train Loss: 0.3231 | F1: 0.6705 | P: 0.5988 | R: 0.7617 | Acc: 0.6257\n"
     ]
    },
    {
     "name": "stderr",
     "output_type": "stream",
     "text": [
      "/tmp/ipykernel_15651/475506173.py:10: UserWarning: To copy construct from a tensor, it is recommended to use sourceTensor.clone().detach() or sourceTensor.clone().detach().requires_grad_(True), rather than torch.tensor(sourceTensor).\n",
      "  return self.data[idx], torch.tensor(self.labels[idx])\n"
     ]
    },
    {
     "name": "stdout",
     "output_type": "stream",
     "text": [
      "Epoch 86/100 | Train Loss: 0.3123 | F1: 0.6423 | P: 0.5989 | R: 0.6924 | Acc: 0.6143\n"
     ]
    },
    {
     "name": "stderr",
     "output_type": "stream",
     "text": [
      "/tmp/ipykernel_15651/475506173.py:10: UserWarning: To copy construct from a tensor, it is recommended to use sourceTensor.clone().detach() or sourceTensor.clone().detach().requires_grad_(True), rather than torch.tensor(sourceTensor).\n",
      "  return self.data[idx], torch.tensor(self.labels[idx])\n"
     ]
    },
    {
     "name": "stdout",
     "output_type": "stream",
     "text": [
      "Epoch 87/100 | Train Loss: 0.3119 | F1: 0.6277 | P: 0.5982 | R: 0.6603 | Acc: 0.6084\n"
     ]
    },
    {
     "name": "stderr",
     "output_type": "stream",
     "text": [
      "/tmp/ipykernel_15651/475506173.py:10: UserWarning: To copy construct from a tensor, it is recommended to use sourceTensor.clone().detach() or sourceTensor.clone().detach().requires_grad_(True), rather than torch.tensor(sourceTensor).\n",
      "  return self.data[idx], torch.tensor(self.labels[idx])\n"
     ]
    },
    {
     "name": "stdout",
     "output_type": "stream",
     "text": [
      "Epoch 88/100 | Train Loss: 0.3008 | F1: 0.6525 | P: 0.5960 | R: 0.7209 | Acc: 0.6161\n"
     ]
    },
    {
     "name": "stderr",
     "output_type": "stream",
     "text": [
      "/tmp/ipykernel_15651/475506173.py:10: UserWarning: To copy construct from a tensor, it is recommended to use sourceTensor.clone().detach() or sourceTensor.clone().detach().requires_grad_(True), rather than torch.tensor(sourceTensor).\n",
      "  return self.data[idx], torch.tensor(self.labels[idx])\n"
     ]
    },
    {
     "name": "stdout",
     "output_type": "stream",
     "text": [
      "Epoch 89/100 | Train Loss: 0.3005 | F1: 0.6280 | P: 0.5977 | R: 0.6615 | Acc: 0.6081\n"
     ]
    },
    {
     "name": "stderr",
     "output_type": "stream",
     "text": [
      "/tmp/ipykernel_15651/475506173.py:10: UserWarning: To copy construct from a tensor, it is recommended to use sourceTensor.clone().detach() or sourceTensor.clone().detach().requires_grad_(True), rather than torch.tensor(sourceTensor).\n",
      "  return self.data[idx], torch.tensor(self.labels[idx])\n"
     ]
    },
    {
     "name": "stdout",
     "output_type": "stream",
     "text": [
      "Epoch 90/100 | Train Loss: 0.3066 | F1: 0.6740 | P: 0.5976 | R: 0.7729 | Acc: 0.6262\n"
     ]
    },
    {
     "name": "stderr",
     "output_type": "stream",
     "text": [
      "/tmp/ipykernel_15651/475506173.py:10: UserWarning: To copy construct from a tensor, it is recommended to use sourceTensor.clone().detach() or sourceTensor.clone().detach().requires_grad_(True), rather than torch.tensor(sourceTensor).\n",
      "  return self.data[idx], torch.tensor(self.labels[idx])\n"
     ]
    },
    {
     "name": "stdout",
     "output_type": "stream",
     "text": [
      "Epoch 91/100 | Train Loss: 0.2940 | F1: 0.6489 | P: 0.6041 | R: 0.7008 | Acc: 0.6208\n"
     ]
    },
    {
     "name": "stderr",
     "output_type": "stream",
     "text": [
      "/tmp/ipykernel_15651/475506173.py:10: UserWarning: To copy construct from a tensor, it is recommended to use sourceTensor.clone().detach() or sourceTensor.clone().detach().requires_grad_(True), rather than torch.tensor(sourceTensor).\n",
      "  return self.data[idx], torch.tensor(self.labels[idx])\n"
     ]
    },
    {
     "name": "stdout",
     "output_type": "stream",
     "text": [
      "Epoch 92/100 | Train Loss: 0.3013 | F1: 0.6481 | P: 0.5977 | R: 0.7078 | Acc: 0.6157\n"
     ]
    },
    {
     "name": "stderr",
     "output_type": "stream",
     "text": [
      "/tmp/ipykernel_15651/475506173.py:10: UserWarning: To copy construct from a tensor, it is recommended to use sourceTensor.clone().detach() or sourceTensor.clone().detach().requires_grad_(True), rather than torch.tensor(sourceTensor).\n",
      "  return self.data[idx], torch.tensor(self.labels[idx])\n"
     ]
    },
    {
     "name": "stdout",
     "output_type": "stream",
     "text": [
      "Epoch 93/100 | Train Loss: 0.2887 | F1: 0.6671 | P: 0.5998 | R: 0.7513 | Acc: 0.6250\n"
     ]
    },
    {
     "name": "stderr",
     "output_type": "stream",
     "text": [
      "/tmp/ipykernel_15651/475506173.py:10: UserWarning: To copy construct from a tensor, it is recommended to use sourceTensor.clone().detach() or sourceTensor.clone().detach().requires_grad_(True), rather than torch.tensor(sourceTensor).\n",
      "  return self.data[idx], torch.tensor(self.labels[idx])\n"
     ]
    },
    {
     "name": "stdout",
     "output_type": "stream",
     "text": [
      "Epoch 94/100 | Train Loss: 0.2985 | F1: 0.6219 | P: 0.6079 | R: 0.6365 | Acc: 0.6130\n"
     ]
    },
    {
     "name": "stderr",
     "output_type": "stream",
     "text": [
      "/tmp/ipykernel_15651/475506173.py:10: UserWarning: To copy construct from a tensor, it is recommended to use sourceTensor.clone().detach() or sourceTensor.clone().detach().requires_grad_(True), rather than torch.tensor(sourceTensor).\n",
      "  return self.data[idx], torch.tensor(self.labels[idx])\n"
     ]
    },
    {
     "name": "stdout",
     "output_type": "stream",
     "text": [
      "Epoch 95/100 | Train Loss: 0.2847 | F1: 0.6865 | P: 0.5934 | R: 0.8143 | Acc: 0.6282\n"
     ]
    },
    {
     "name": "stderr",
     "output_type": "stream",
     "text": [
      "/tmp/ipykernel_15651/475506173.py:10: UserWarning: To copy construct from a tensor, it is recommended to use sourceTensor.clone().detach() or sourceTensor.clone().detach().requires_grad_(True), rather than torch.tensor(sourceTensor).\n",
      "  return self.data[idx], torch.tensor(self.labels[idx])\n"
     ]
    },
    {
     "name": "stdout",
     "output_type": "stream",
     "text": [
      "Epoch 96/100 | Train Loss: 0.2875 | F1: 0.6313 | P: 0.5911 | R: 0.6773 | Acc: 0.6044\n"
     ]
    },
    {
     "name": "stderr",
     "output_type": "stream",
     "text": [
      "/tmp/ipykernel_15651/475506173.py:10: UserWarning: To copy construct from a tensor, it is recommended to use sourceTensor.clone().detach() or sourceTensor.clone().detach().requires_grad_(True), rather than torch.tensor(sourceTensor).\n",
      "  return self.data[idx], torch.tensor(self.labels[idx])\n"
     ]
    },
    {
     "name": "stdout",
     "output_type": "stream",
     "text": [
      "Epoch 97/100 | Train Loss: 0.2703 | F1: 0.6642 | P: 0.5910 | R: 0.7582 | Acc: 0.6167\n"
     ]
    },
    {
     "name": "stderr",
     "output_type": "stream",
     "text": [
      "/tmp/ipykernel_15651/475506173.py:10: UserWarning: To copy construct from a tensor, it is recommended to use sourceTensor.clone().detach() or sourceTensor.clone().detach().requires_grad_(True), rather than torch.tensor(sourceTensor).\n",
      "  return self.data[idx], torch.tensor(self.labels[idx])\n"
     ]
    },
    {
     "name": "stdout",
     "output_type": "stream",
     "text": [
      "Epoch 98/100 | Train Loss: 0.2906 | F1: 0.6831 | P: 0.5905 | R: 0.8103 | Acc: 0.6241\n"
     ]
    },
    {
     "name": "stderr",
     "output_type": "stream",
     "text": [
      "/tmp/ipykernel_15651/475506173.py:10: UserWarning: To copy construct from a tensor, it is recommended to use sourceTensor.clone().detach() or sourceTensor.clone().detach().requires_grad_(True), rather than torch.tensor(sourceTensor).\n",
      "  return self.data[idx], torch.tensor(self.labels[idx])\n"
     ]
    },
    {
     "name": "stdout",
     "output_type": "stream",
     "text": [
      "Epoch 99/100 | Train Loss: 0.2902 | F1: 0.6553 | P: 0.5961 | R: 0.7274 | Acc: 0.6173\n"
     ]
    },
    {
     "name": "stderr",
     "output_type": "stream",
     "text": [
      "/tmp/ipykernel_15651/475506173.py:10: UserWarning: To copy construct from a tensor, it is recommended to use sourceTensor.clone().detach() or sourceTensor.clone().detach().requires_grad_(True), rather than torch.tensor(sourceTensor).\n",
      "  return self.data[idx], torch.tensor(self.labels[idx])\n"
     ]
    },
    {
     "name": "stdout",
     "output_type": "stream",
     "text": [
      "Epoch 100/100 | Train Loss: 0.2773 | F1: 0.6382 | P: 0.5902 | R: 0.6946 | Acc: 0.6062\n"
     ]
    }
   ],
   "source": [
    "\n",
    "# === Training Loop ===\n",
    "best_f1 = 0.0\n",
    "train_loss_history, val_loss_history = [], []\n",
    "\n",
    "for epoch in tqdm(range(num_epochs), desc=\"Epochs\"):\n",
    "    model.train()\n",
    "    total_loss = 0.0\n",
    "\n",
    "    for inputs, labels in train_dataloader:\n",
    "        if inputs.shape[1] != labels.shape[1]:\n",
    "            continue\n",
    "        inputs = inputs.transpose(0, 1).to(device)      # [seq, batch, feature]\n",
    "        labels = labels.squeeze(0).to(device)\n",
    "\n",
    "        optimizer.zero_grad()\n",
    "        outputs, _ = model(inputs)\n",
    "        outputs = outputs.squeeze(1)                    # [seq]\n",
    "        loss = criterion(outputs, labels.float())\n",
    "        loss.backward()\n",
    "        optimizer.step()\n",
    "        total_loss += loss.item()\n",
    "\n",
    "    avg_train_loss = total_loss / len(train_dataloader)\n",
    "    train_loss_history.append(avg_train_loss)\n",
    "\n",
    "     # === Validation ===\n",
    "    model.eval()\n",
    "    all_preds, all_labels = [], []\n",
    "    with torch.no_grad():\n",
    "        for inputs, labels in val_dataloader:\n",
    "            if inputs.shape[1] != labels.shape[1]:\n",
    "                continue\n",
    "            inputs = inputs.transpose(0, 1).to(device)\n",
    "            labels = labels.squeeze(0).to(device)\n",
    "            outputs, _ = model(inputs)\n",
    "            outputs = outputs.squeeze(1)\n",
    "            probs = torch.sigmoid(outputs)  # ✅ apply sigmoid\n",
    "            all_preds.extend(probs.cpu().numpy())\n",
    "            all_labels.extend(labels.cpu().numpy())\n",
    "    \n",
    "    all_preds = np.array(all_preds)\n",
    "    all_labels = np.array(all_labels)\n",
    "    bin_preds = (all_preds > threshold).astype(int)\n",
    "    \n",
    "    f1 = f1_score(all_labels, bin_preds, zero_division=0)\n",
    "    precision = precision_score(all_labels, bin_preds, zero_division=0)\n",
    "    recall = recall_score(all_labels, bin_preds, zero_division=0)\n",
    "    acc = (bin_preds == all_labels).mean()\n",
    "    \n",
    "    # loss 계산 시 logits가 아닌 probs를 넣지 않도록 주의해야 함!\n",
    "    logits_tensor = torch.tensor(all_preds, dtype=torch.float32).to(device)\n",
    "    labels_tensor = torch.tensor(all_labels, dtype=torch.float32).to(device)\n",
    "    val_loss = criterion(logits_tensor.logit(), labels_tensor).item()  # 또는 원래 logits 저장해두고 사용\n",
    "    \n",
    "    val_loss_history.append(val_loss)\n",
    "    \n",
    "\n",
    "    print(f\"Epoch {epoch+1}/{num_epochs} | Train Loss: {avg_train_loss:.4f} | \"\n",
    "          f\"F1: {f1:.4f} | P: {precision:.4f} | R: {recall:.4f} | Acc: {acc:.4f}\")\n",
    "\n",
    "    # Save best model\n",
    "    if f1 > best_f1:\n",
    "        best_f1 = f1\n",
    "        print(f\"Best F1: {f1:.4f} | P: {precision:.4f} | R: {recall:.4f} | Acc: {acc:.4f}\")\n",
    "        #torch.save(model.state_dict(), f\"best_lstm_audio_model_epoch{epoch+1}.pt\")\n"
   ]
  },
  {
   "cell_type": "markdown",
   "metadata": {},
   "source": [
    "# Evaluation"
   ]
  },
  {
   "cell_type": "code",
   "execution_count": 74,
   "metadata": {},
   "outputs": [
    {
     "data": {
      "application/vnd.jupyter.widget-view+json": {
       "model_id": "5eeb7c0c4add480198db5a1e8d8bf3f8",
       "version_major": 2,
       "version_minor": 0
      },
      "text/plain": [
       "Evaluating on Test Set:   0%|          | 0/140 [00:00<?, ?it/s]"
      ]
     },
     "metadata": {},
     "output_type": "display_data"
    },
    {
     "name": "stderr",
     "output_type": "stream",
     "text": [
      "/tmp/ipykernel_15651/475506173.py:10: UserWarning: To copy construct from a tensor, it is recommended to use sourceTensor.clone().detach() or sourceTensor.clone().detach().requires_grad_(True), rather than torch.tensor(sourceTensor).\n",
      "  return self.data[idx], torch.tensor(self.labels[idx])\n"
     ]
    },
    {
     "data": {
      "image/png": "[encoded data removed]",
      "text/plain": [
       "<Figure size 1000x600 with 1 Axes>"
      ]
     },
     "metadata": {},
     "output_type": "display_data"
    }
   ],
   "source": [
    "from sklearn.metrics import roc_curve, auc\n",
    "import matplotlib.pyplot as plt\n",
    "import numpy as np\n",
    "from tqdm.notebook import tqdm\n",
    "\n",
    "# === Evaluation on Test Set ===\n",
    "model.eval()\n",
    "y_true = []\n",
    "y_score = []\n",
    "\n",
    "with torch.no_grad():\n",
    "    for inputs, labels in tqdm(test_dataloader, desc=\"Evaluating on Test Set\"):\n",
    "        if inputs.shape[1] != labels.shape[1]:\n",
    "            continue\n",
    "        inputs = inputs.transpose(0, 1).to(device)\n",
    "        labels = labels.squeeze(0).to(device)\n",
    "\n",
    "        logits, _ = model(inputs)                    # raw logits\n",
    "        logits = logits.squeeze(1)\n",
    "\n",
    "        probs = torch.sigmoid(logits)                # convert to probabilities\n",
    "        y_score.extend(probs.cpu().numpy())\n",
    "        y_true.extend(labels.cpu().numpy())\n",
    "\n",
    "# === Convert to NumPy arrays ===\n",
    "y_true = np.array(y_true)\n",
    "y_score = np.array(y_score)\n",
    "\n",
    "# === ROC Curve ===\n",
    "fpr, tpr, _ = roc_curve(y_true, y_score)\n",
    "roc_auc = auc(fpr, tpr)\n",
    "\n",
    "# === Plot ===\n",
    "plt.figure(figsize=(10, 6))\n",
    "plt.plot(fpr, tpr, color='darkorange', lw=2, label=f'ROC Curve (AUC = {roc_auc:.2f})')\n",
    "plt.plot([0, 1], [0, 1], color='navy', linestyle='--')\n",
    "plt.xlim([0.0, 1.0])\n",
    "plt.ylim([0.0, 1.05])\n",
    "plt.xlabel('False Positive Rate', fontsize=16)\n",
    "plt.ylabel('True Positive Rate', fontsize=16)\n",
    "plt.title('ROC Curve – Video and Audio Emotion-Based Highlight Detection Model', fontsize=20)\n",
    "plt.legend(loc=\"lower right\", fontsize=14)\n",
    "plt.grid(True)\n",
    "plt.tight_layout()\n",
    "plt.show()\n"
   ]
  },
  {
   "cell_type": "code",
   "execution_count": 90,
   "metadata": {},
   "outputs": [
    {
     "data": {
      "image/png": "[encoded data removed]",
      "text/plain": [
       "<Figure size 1200x700 with 1 Axes>"
      ]
     },
     "metadata": {},
     "output_type": "display_data"
    }
   ],
   "source": [
    "from sklearn.metrics import (\n",
    "    f1_score, accuracy_score, precision_score, recall_score\n",
    ")\n",
    "import pandas as pd\n",
    "import seaborn as sns\n",
    "\n",
    "# === Threshold-based Metric Calculation ===\n",
    "thresholds = np.arange(0.0, 1.05, 0.05)\n",
    "results = {\n",
    "    'Threshold': [],\n",
    "    'F1 Score': [],\n",
    "    'Accuracy': [],\n",
    "    'Precision': [],\n",
    "    'Recall': []\n",
    "}\n",
    "\n",
    "for t in thresholds:\n",
    "    y_pred = (y_score > t).astype(int)\n",
    "    results['Threshold'].append(t)\n",
    "    results['F1 Score'].append(f1_score(y_true, y_pred, zero_division=0))\n",
    "    results['Accuracy'].append(accuracy_score(y_true, y_pred))\n",
    "    results['Precision'].append(precision_score(y_true, y_pred, zero_division=0))\n",
    "    results['Recall'].append(recall_score(y_true, y_pred, zero_division=0))\n",
    "\n",
    "df_metrics = pd.DataFrame(results)\n",
    "\n",
    "# === Plot Threshold-based Metrics ===\n",
    "sns.set_style(\"whitegrid\")\n",
    "plt.figure(figsize=(12, 7))\n",
    "plt.plot(df_metrics['Threshold'], df_metrics['F1 Score'], label='F1 Score', color='royalblue', linestyle='-')\n",
    "plt.plot(df_metrics['Threshold'], df_metrics['Accuracy'], label='Accuracy', color='darkorange', linestyle='-')\n",
    "plt.plot(df_metrics['Threshold'], df_metrics['Precision'], label='Precision', color='seagreen', linestyle='-')\n",
    "plt.plot(df_metrics['Threshold'], df_metrics['Recall'], label='Recall', color='firebrick', linestyle='-')\n",
    "\n",
    "plt.title(\"Performance Metrics - Video and Audio Emotion-Based Highlight Detection Model\", fontsize=22)\n",
    "plt.xlabel(\"Threshold\", fontsize=16)\n",
    "plt.ylabel(\"Score\", fontsize=16)\n",
    "plt.legend(loc=\"upper left\", fontsize=14)\n",
    "plt.grid(True)\n",
    "plt.tight_layout()\n",
    "plt.show()"
   ]
  },
  {
   "cell_type": "code",
   "execution_count": 76,
   "metadata": {},
   "outputs": [
    {
     "name": "stdout",
     "output_type": "stream",
     "text": [
      "    Threshold  F1 Score  Accuracy  Precision    Recall\n",
      "0        0.00  0.666667  0.500000   0.500000  1.000000\n",
      "1        0.05  0.692725  0.629440   0.591676  0.835398\n",
      "2        0.10  0.678287  0.623245   0.591824  0.794336\n",
      "3        0.15  0.666323  0.617876   0.591350  0.763068\n",
      "4        0.20  0.657784  0.615103   0.592124  0.739823\n",
      "5        0.25  0.648747  0.611445   0.591922  0.717640\n",
      "6        0.30  0.638192  0.606195   0.590235  0.694631\n",
      "7        0.35  0.630120  0.604720   0.592074  0.673392\n",
      "8        0.40  0.617994  0.602714   0.595105  0.642714\n",
      "9        0.45  0.605084  0.602242   0.600791  0.609440\n",
      "10       0.50  0.586930  0.597994   0.603541  0.571209\n",
      "11       0.55  0.565291  0.592861   0.606351  0.529440\n",
      "12       0.60  0.525008  0.582596   0.609034  0.461357\n",
      "13       0.65  0.463218  0.567788   0.611057  0.372979\n",
      "14       0.70  0.411737  0.558820   0.617654  0.308791\n",
      "15       0.75  0.375309  0.552212   0.620408  0.269027\n",
      "16       0.80  0.340888  0.545310   0.619329  0.235162\n",
      "17       0.85  0.300597  0.536578   0.612482  0.199174\n",
      "18       0.90  0.255542  0.530442   0.616426  0.161180\n",
      "19       0.95  0.187998  0.519410   0.605652  0.111268\n",
      "20       1.00  0.000000  0.500000   0.000000  0.000000\n"
     ]
    }
   ],
   "source": [
    "import numpy as np\n",
    "import pandas as pd\n",
    "from sklearn.metrics import f1_score, accuracy_score, precision_score, recall_score\n",
    "\n",
    "# 1. numpy 배열로 변환\n",
    "y_true = np.array(y_true)\n",
    "y_score = np.array(y_score)\n",
    "\n",
    "# 2. 결과 저장용 리스트\n",
    "thresholds = np.arange(0, 1.05, 0.05)\n",
    "results = {\n",
    "    \"Threshold\": [],\n",
    "    \"F1 Score\": [],\n",
    "    \"Accuracy\": [],\n",
    "    \"Precision\": [],\n",
    "    \"Recall\": []\n",
    "}\n",
    "\n",
    "# 3. Threshold 별로 성능 계산\n",
    "for th in thresholds:\n",
    "    preds = (y_score > th).astype(int)\n",
    "\n",
    "    f1 = f1_score(y_true, preds, zero_division=0)\n",
    "    acc = accuracy_score(y_true, preds)\n",
    "    prec = precision_score(y_true, preds, zero_division=0)\n",
    "    rec = recall_score(y_true, preds, zero_division=0)\n",
    "\n",
    "    results[\"Threshold\"].append(th)\n",
    "    results[\"F1 Score\"].append(f1)\n",
    "    results[\"Accuracy\"].append(acc)\n",
    "    results[\"Precision\"].append(prec)\n",
    "    results[\"Recall\"].append(rec)\n",
    "\n",
    "# 4. DataFrame 으로 출력\n",
    "df_metrics = pd.DataFrame(results)\n",
    "print(df_metrics)\n"
   ]
  },
  {
   "cell_type": "code",
   "execution_count": 78,
   "metadata": {},
   "outputs": [
    {
     "name": "stdout",
     "output_type": "stream",
     "text": [
      "Model/Multimodal/video+audio_emotion_highlight_detection_20250422_0750.pt\n"
     ]
    }
   ],
   "source": [
    "print(model_path)"
   ]
  },
  {
   "cell_type": "code",
   "execution_count": 79,
   "metadata": {},
   "outputs": [
    {
     "ename": "NameError",
     "evalue": "name 'train_loss' is not defined",
     "output_type": "error",
     "traceback": [
      "\u001b[0;31m---------------------------------------------------------------------------\u001b[0m",
      "\u001b[0;31mNameError\u001b[0m                                 Traceback (most recent call last)",
      "Cell \u001b[0;32mIn[79], line 5\u001b[0m\n\u001b[1;32m      1\u001b[0m \u001b[38;5;28;01mimport\u001b[39;00m \u001b[38;5;21;01mmatplotlib\u001b[39;00m\u001b[38;5;21;01m.\u001b[39;00m\u001b[38;5;21;01mpyplot\u001b[39;00m \u001b[38;5;28;01mas\u001b[39;00m \u001b[38;5;21;01mplt\u001b[39;00m\n\u001b[1;32m      4\u001b[0m plt\u001b[38;5;241m.\u001b[39mfigure(figsize\u001b[38;5;241m=\u001b[39m(\u001b[38;5;241m10\u001b[39m,\u001b[38;5;241m6\u001b[39m))  \u001b[38;5;66;03m# 크기를 조절하여 더 깔끔하게 보이게 합니다.\u001b[39;00m\n\u001b[0;32m----> 5\u001b[0m plt\u001b[38;5;241m.\u001b[39mplot(\u001b[43mtrain_loss\u001b[49m, color\u001b[38;5;241m=\u001b[39m\u001b[38;5;124m'\u001b[39m\u001b[38;5;124mroyalblue\u001b[39m\u001b[38;5;124m'\u001b[39m)  \u001b[38;5;66;03m# royalblue는 전문적이면서도 보기 좋은 파란색입니다.\u001b[39;00m\n\u001b[1;32m      6\u001b[0m plt\u001b[38;5;241m.\u001b[39mtitle(\u001b[38;5;124m\"\u001b[39m\u001b[38;5;124mTraining Loss Trend: Multimodal Waveform AE + V\u001b[39m\u001b[38;5;124m\"\u001b[39m, fontsize\u001b[38;5;241m=\u001b[39m\u001b[38;5;241m16\u001b[39m)  \n\u001b[1;32m      7\u001b[0m plt\u001b[38;5;241m.\u001b[39mxlabel(\u001b[38;5;124m\"\u001b[39m\u001b[38;5;124mEpochs\u001b[39m\u001b[38;5;124m\"\u001b[39m, fontsize\u001b[38;5;241m=\u001b[39m\u001b[38;5;241m14\u001b[39m)  \u001b[38;5;66;03m# x축 라벨 추가\u001b[39;00m\n",
      "\u001b[0;31mNameError\u001b[0m: name 'train_loss' is not defined"
     ]
    },
    {
     "data": {
      "text/plain": [
       "<Figure size 1000x600 with 0 Axes>"
      ]
     },
     "metadata": {},
     "output_type": "display_data"
    }
   ],
   "source": [
    "import matplotlib.pyplot as plt\n",
    "\n",
    "\n",
    "plt.figure(figsize=(10,6))  # 크기를 조절하여 더 깔끔하게 보이게 합니다.\n",
    "plt.plot(train_loss, color='royalblue')  # royalblue는 전문적이면서도 보기 좋은 파란색입니다.\n",
    "plt.title(\"Training Loss Trend: Multimodal Waveform AE + V\", fontsize=16)  \n",
    "plt.xlabel(\"Epochs\", fontsize=14)  # x축 라벨 추가\n",
    "plt.ylabel(\"Loss\", fontsize=14)  # y축 라벨 추가\n",
    "plt.grid(True, which=\"both\", linestyle='--', linewidth=0.5)  # 그리드 추가\n",
    "plt.tight_layout()  # 레이아웃 최적화\n",
    "plt.show()\n"
   ]
  },
  {
   "cell_type": "code",
   "execution_count": 111,
   "metadata": {},
   "outputs": [
    {
     "data": {
      "image/png": "[encoded data removed]",
      "text/plain": [
       "<Figure size 720x432 with 1 Axes>"
      ]
     },
     "metadata": {},
     "output_type": "display_data"
    }
   ],
   "source": [
    "\n",
    "plt.figure(figsize=(10,6))  # 크기를 조절하여 더 깔끔하게 보이게 합니다.\n",
    "plt.plot(test_loss, color='royalblue')  # royalblue는 전문적이면서도 보기 좋은 파란색입니다.\n",
    "plt.title(\"Validating Loss Trend: Multimodal Waveform AE + V\", fontsize=16)  \n",
    "plt.xlabel(\"Epochs\", fontsize=14)  # x축 라벨 추가\n",
    "plt.ylabel(\"Loss\", fontsize=14)  # y축 라벨 추가\n",
    "plt.grid(True, which=\"both\", linestyle='--', linewidth=0.5)  # 그리드 추가\n",
    "plt.tight_layout()  # 레이아웃 최적화\n",
    "plt.show()\n"
   ]
  },
  {
   "cell_type": "code",
   "execution_count": 112,
   "metadata": {},
   "outputs": [
    {
     "data": {
      "text/plain": [
       "tensor([0.4242, 0.4242, 0.4079, 0.4242, 0.4242], device='cuda:0')"
      ]
     },
     "execution_count": 112,
     "metadata": {},
     "output_type": "execute_result"
    }
   ],
   "source": [
    "outputs[:5]"
   ]
  },
  {
   "cell_type": "markdown",
   "metadata": {},
   "source": [
    "# model save"
   ]
  },
  {
   "cell_type": "code",
   "execution_count": 77,
   "metadata": {},
   "outputs": [],
   "source": [
    "import torch\n",
    "from datetime import datetime\n",
    "import os\n",
    "\n",
    "current_time = datetime.now().strftime(\"%Y%m%d_%H%M\")\n",
    "save_dir = \"Model/Multimodal\"\n",
    "os.makedirs(save_dir, exist_ok=True)  # 디렉토리가 없으면 생성\n",
    "\n",
    "model_path = os.path.join(save_dir, f\"video+audio_emotion_highlight_detection_{current_time}.pt\")\n",
    "torch.save(model.state_dict(), model_path)\n",
    "\n"
   ]
  },
  {
   "cell_type": "code",
   "execution_count": null,
   "metadata": {},
   "outputs": [],
   "source": []
  }
 ],
 "metadata": {
  "kernelspec": {
   "display_name": "Python 3 (ipykernel)",
   "language": "python",
   "name": "python3"
  },
  "language_info": {
   "codemirror_mode": {
    "name": "ipython",
    "version": 3
   },
   "file_extension": ".py",
   "mimetype": "text/x-python",
   "name": "python",
   "nbconvert_exporter": "python",
   "pygments_lexer": "ipython3",
   "version": "3.11.6"
  }
 },
 "nbformat": 4,
 "nbformat_minor": 4
}
