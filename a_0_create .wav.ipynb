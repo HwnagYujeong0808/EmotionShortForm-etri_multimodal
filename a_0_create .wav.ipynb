{
 "cells": [
  {
   "cell_type": "code",
   "execution_count": 2,
   "id": "aa7dabb0-d818-447b-838e-518ecdd6c9ba",
   "metadata": {},
   "outputs": [
    {
     "name": "stderr",
     "output_type": "stream",
     "text": [
      "🔊 Extracting WAVs for av_train: 100%|███████████████████████████████████████████████████████████████████████████████████████████████████████████████| 80/80 [02:15<00:00,  1.70s/it]\n",
      "🔊 Extracting WAVs for av_test: 100%|████████████████████████████████████████████████████████████████████████████████████████████████████████████████| 32/32 [00:50<00:00,  1.56s/it]\n",
      "🔊 Extracting WAVs for mul_test: 100%|███████████████████████████████████████████████████████████████████████████████████████████████████████████████| 32/32 [01:13<00:00,  2.31s/it]\n"
     ]
    }
   ],
   "source": [
    "import os\n",
    "import subprocess\n",
    "from pathlib import Path\n",
    "from tqdm import tqdm\n",
    "\n",
    "# ========================\n",
    "# Paths\n",
    "# ========================\n",
    "video_base_dir = \"/home/jovyan/EmotionDetection/aihubdata/042.동영상_콘텐츠_하이라이트_편집_및_설명(요약)_데이터/01.데이터/2.Validation/원천데이터\"\n",
    "output_base_dir = Path(\"/home/jovyan/EmotionDetection/audio_data\")\n",
    "\n",
    "# Split info: txt file → target subfolder\n",
    "split_config = {\n",
    "    \"av_train\": \"video_data/kbs_av_train.txt\",\n",
    "    \"av_test\": \"video_data/kbs_av_test.txt\",\n",
    "    \"mul_test\": \"video_data/kbs_mul_test.txt\"\n",
    "}\n",
    "\n",
    "# ========================\n",
    "# Audio Extraction Function\n",
    "# ========================\n",
    "def extract_wav_from_mp4(video_path, output_path):\n",
    "    os.makedirs(output_path.parent, exist_ok=True)\n",
    "    command = [\n",
    "        \"ffmpeg\",\n",
    "        \"-y\",  # overwrite output\n",
    "        \"-i\", str(video_path),\n",
    "        \"-vn\",  # disable video\n",
    "        \"-acodec\", \"pcm_s16le\",\n",
    "        \"-ar\", \"16000\",\n",
    "        \"-ac\", \"1\",\n",
    "        str(output_path)\n",
    "    ]\n",
    "    subprocess.run(command, stdout=subprocess.DEVNULL, stderr=subprocess.DEVNULL)\n",
    "\n",
    "# ========================\n",
    "# Process Each Split\n",
    "# ========================\n",
    "for split_name, txt_rel_path in split_config.items():\n",
    "    txt_path = Path(\"/home/jovyan/EmotionDetection\") / txt_rel_path\n",
    "    target_dir = output_base_dir / split_name\n",
    "    target_dir.mkdir(parents=True, exist_ok=True)\n",
    "\n",
    "    # Load video names from .txt\n",
    "    with open(txt_path, \"r\") as f:\n",
    "        video_names = [line.strip() for line in f]\n",
    "\n",
    "    # Process each video\n",
    "    for name in tqdm(video_names, desc=f\"🔊 Extracting WAVs for {split_name}\"):\n",
    "        matches = list(Path(video_base_dir).rglob(f\"{name}.mp4\"))\n",
    "        if not matches:\n",
    "            print(f\"❌ Video not found: {name}\")\n",
    "            continue\n",
    "\n",
    "        video_path = matches[0]  # Use first match\n",
    "        output_path = target_dir / f\"{name}.wav\"\n",
    "        extract_wav_from_mp4(video_path, output_path)\n"
   ]
  },
  {
   "cell_type": "code",
   "execution_count": 3,
   "id": "8fffc296-1a61-4840-86a3-7d8e82afdfb3",
   "metadata": {},
   "outputs": [
    {
     "name": "stderr",
     "output_type": "stream",
     "text": [
      "🔊 Extracting WAVs for av_train: 100%|███████████████████████████████████████████████████████████████████████████████████████████████████████████████| 80/80 [02:13<00:00,  1.67s/it]\n",
      "🔊 Extracting WAVs for av_test: 100%|████████████████████████████████████████████████████████████████████████████████████████████████████████████████| 32/32 [00:46<00:00,  1.44s/it]\n",
      "🔊 Extracting WAVs for mul_test: 100%|███████████████████████████████████████████████████████████████████████████████████████████████████████████████| 32/32 [00:50<00:00,  1.58s/it]\n"
     ]
    }
   ],
   "source": [
    "import os\n",
    "import subprocess\n",
    "from pathlib import Path\n",
    "from tqdm import tqdm\n",
    "\n",
    "# ========================\n",
    "# Define base directories\n",
    "# ========================\n",
    "video_base_dirs = {\n",
    "    \"av_train\": Path(\"/home/jovyan/EmotionDetection/av_train/av_train\"),\n",
    "    \"av_test\": Path(\"/home/jovyan/EmotionDetection/av_test/av_test\"),\n",
    "    \"mul_test\": Path(\"/home/jovyan/EmotionDetection/m_test\")\n",
    "}\n",
    "\n",
    "split_txt_paths = {\n",
    "    \"av_train\": \"/home/jovyan/EmotionDetection/video_data/youtube_av_train.txt\",\n",
    "    \"av_test\": \"/home/jovyan/EmotionDetection/video_data/youtube_av_test.txt\",\n",
    "    \"mul_test\": \"/home/jovyan/EmotionDetection/video_data/youtube_mul_test.txt\"\n",
    "}\n",
    "\n",
    "output_base_dir = Path(\"/home/jovyan/EmotionDetection/audio_data\")\n",
    "\n",
    "# ========================\n",
    "# Audio Extraction Function\n",
    "# ========================\n",
    "def extract_wav_from_mp4(video_path, output_path):\n",
    "    os.makedirs(output_path.parent, exist_ok=True)\n",
    "    command = [\n",
    "        \"ffmpeg\",\n",
    "        \"-y\",  # overwrite output\n",
    "        \"-i\", str(video_path),\n",
    "        \"-vn\",  # disable video\n",
    "        \"-acodec\", \"pcm_s16le\",\n",
    "        \"-ar\", \"16000\",\n",
    "        \"-ac\", \"1\",\n",
    "        str(output_path)\n",
    "    ]\n",
    "    subprocess.run(command, stdout=subprocess.DEVNULL, stderr=subprocess.DEVNULL)\n",
    "\n",
    "# ========================\n",
    "# Run extraction for each split\n",
    "# ========================\n",
    "for split_name in [\"av_train\", \"av_test\", \"mul_test\"]:\n",
    "    txt_path = Path(split_txt_paths[split_name])\n",
    "    video_base_dir = video_base_dirs[split_name]\n",
    "    target_dir = output_base_dir / split_name\n",
    "    target_dir.mkdir(parents=True, exist_ok=True)\n",
    "\n",
    "    with open(txt_path, \"r\") as f:\n",
    "        video_names = [line.strip() for line in f]\n",
    "\n",
    "    for name in tqdm(video_names, desc=f\"🔊 Extracting WAVs for {split_name}\"):\n",
    "        matches = list(video_base_dir.rglob(f\"{name}.mp4\"))\n",
    "        if not matches:\n",
    "            print(f\"❌ Not found in {video_base_dir}: {name}.mp4\")\n",
    "            continue\n",
    "\n",
    "        video_path = matches[0]\n",
    "        output_path = target_dir / f\"{name}.wav\"\n",
    "        extract_wav_from_mp4(video_path, output_path)\n"
   ]
  },
  {
   "cell_type": "code",
   "execution_count": 1,
   "id": "79037602-870f-4855-a997-9d0500c18444",
   "metadata": {},
   "outputs": [
    {
     "name": "stdout",
     "output_type": "stream",
     "text": [
      "Collecting ffmpeg\n",
      "  Downloading ffmpeg-1.4.tar.gz (5.1 kB)\n",
      "  Preparing metadata (setup.py) ... \u001b[?25ldone\n",
      "\u001b[?25hBuilding wheels for collected packages: ffmpeg\n",
      "  Building wheel for ffmpeg (setup.py) ... \u001b[?25ldone\n",
      "\u001b[?25h  Created wheel for ffmpeg: filename=ffmpeg-1.4-py3-none-any.whl size=6082 sha256=21fca6fb662a1bbfb115637e2190d0b1e79e6438e23ca37dced714553dc2f0bb\n",
      "  Stored in directory: /home/jovyan/.cache/pip/wheels/56/30/c5/576bdd729f3bc062d62a551be7fefd6ed2f761901568171e4e\n",
      "Successfully built ffmpeg\n",
      "Installing collected packages: ffmpeg\n",
      "Successfully installed ffmpeg-1.4\n"
     ]
    }
   ],
   "source": [
    "# !pip install ffmpeg\n"
   ]
  }
 ],
 "metadata": {
  "kernelspec": {
   "display_name": "Python 3 (ipykernel)",
   "language": "python",
   "name": "python3"
  },
  "language_info": {
   "codemirror_mode": {
    "name": "ipython",
    "version": 3
   },
   "file_extension": ".py",
   "mimetype": "text/x-python",
   "name": "python",
   "nbconvert_exporter": "python",
   "pygments_lexer": "ipython3",
   "version": "3.11.6"
  }
 },
 "nbformat": 4,
 "nbformat_minor": 5
}
