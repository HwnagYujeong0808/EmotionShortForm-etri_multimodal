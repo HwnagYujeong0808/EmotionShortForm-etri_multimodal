{
 "cells": [
  {
   "cell_type": "code",
   "execution_count": 169,
   "metadata": {},
   "outputs": [],
   "source": [
    "import os\n",
    "\n",
    "import argparse\n",
    "from collections import defaultdict\n",
    "import transformers\n",
    "import numpy as np\n",
    "import torch\n",
    "import torch.nn as nn\n",
    "from pytorch_lightning import LightningModule\n",
    "from torch import optim\n",
    "# from torchmetrics import F1\n",
    "from transformers import ViTModel\n",
    "import cv2\n",
    "from tqdm import tqdm\n",
    "import matplotlib.pyplot as plt\n",
    "from pathlib import Path\n",
    "import h5py\n",
    "import seaborn as sns\n",
    "from torch.utils.data import DataLoader, Dataset\n",
    "import math\n",
    "import json"
   ]
  },
  {
   "cell_type": "code",
   "execution_count": 170,
   "metadata": {},
   "outputs": [],
   "source": [
    "import torch\n",
    "from transformers import ViTImageProcessor\n",
    "import argparse\n",
    "from collections import defaultdict\n",
    "\n",
    "import numpy as np\n",
    "import torch\n",
    "import torch.nn as nn\n",
    "from torch import optim\n",
    "# from torchmetrics import F1\n",
    "from transformers import ViTModel\n",
    "\n",
    "from pytorch_lightning import LightningModule\n",
    "from tqdm import tqdm\n",
    "import matplotlib.pyplot as plt\n",
    "import cv2\n",
    "import seaborn as sns\n",
    "import numpy as np\n",
    "from moviepy.editor import VideoFileClip, concatenate_videoclips"
   ]
  },
  {
   "cell_type": "markdown",
   "metadata": {},
   "source": [
    "# 데이터"
   ]
  },
  {
   "cell_type": "code",
   "execution_count": 171,
   "metadata": {},
   "outputs": [],
   "source": [
    "class SummaryDataset(Dataset):\n",
    "    def __init__(self, video_dir, directory, video_features_file, max_seq_len=250):\n",
    "        self.directory = directory\n",
    "        self.video_names = self.get_video_names(video_dir)\n",
    "        self.video_features_file = video_features_file\n",
    "        self.max_seq_len = max_seq_len\n",
    "\n",
    "        # Because we can't use DDP with IterableDataset,\n",
    "        # data must be pre-chunked to combat OOM.\n",
    "        self.label_files = self.prefetch_label_files()\n",
    "        self.data_size, self.index_to_chunk, self.labels = self.prefetch_and_index()\n",
    "    \n",
    "    def get_video_names(self, mp4_dir):\n",
    "        # mp4 파일이 있는 디렉토리 경로\n",
    "        # mp4_dir = \"/workspace/EmotionShortForm/aihub/2.Validation/Video_data/VS_유튜브_04\"\n",
    "\n",
    "        video_names = []\n",
    "        for filename in os.listdir(mp4_dir):\n",
    "            if filename.endswith('.mp4'):\n",
    "                name = os.path.splitext(filename)[0]\n",
    "                video_names.append(name)\n",
    "        return video_names\n",
    "    \n",
    "    def prefetch_label_files(self):\n",
    "\n",
    "        name_set = set(self.video_names)\n",
    "\n",
    "        label_files = defaultdict(list)\n",
    "\n",
    "        for label_file in Path(self.directory).glob(f\"**/*.json\"):\n",
    "\n",
    "            file_name = label_file.stem\n",
    "\n",
    "            # 예시: [KBS]kim370_대법원 업무 과부하…상고 법원이 대안_18567498.json\n",
    "            # annotator id 제거하면 비디오 이름 추출.\n",
    "            # 파일 이름 reverse ([::-1]) 후 \"_\" 찾음.\n",
    "            annotator_id_index = len(file_name) - file_name[::-1].find(\"_\") - 1\n",
    "            video_name = file_name[:annotator_id_index]\n",
    "\n",
    "            if video_name in name_set:\n",
    "                label_files[video_name].append(label_file)\n",
    "        \n",
    "        \n",
    "        return label_files\n",
    "\n",
    "    def prefetch_and_index(self):\n",
    "        index = 0\n",
    "        index_to_chunk = {}\n",
    "        all_labels = {}\n",
    "\n",
    "        for video_name in self.video_names:\n",
    "\n",
    "#            if video_name == m\"news_footage_1710\":\n",
    "#                continue\n",
    "\n",
    "            labels = self.extract_label(video_name)\n",
    "#             print(len(labels)) # 3\n",
    "            all_labels[video_name] = labels\n",
    "        \n",
    "            chunk_count = math.ceil(len(labels[0]) / self.max_seq_len)\n",
    "            for chunk_index in range(0, chunk_count):\n",
    "                index_to_chunk[index + chunk_index] = (video_name, chunk_index)\n",
    "\n",
    "            index += chunk_count\n",
    "\n",
    "        return index, index_to_chunk, all_labels\n",
    "\n",
    "    def __len__(self):\n",
    "        return self.data_size\n",
    "\n",
    "    def __getitem__(self, index):\n",
    "\n",
    "        video_name, chunk_index = self.index_to_chunk[index]\n",
    "        start = chunk_index * self.max_seq_len \n",
    "\n",
    "        end = start + self.max_seq_len\n",
    "#         print(f'start: {start}, end: {end}')\n",
    "        with h5py.File(self.video_features_file, \"r\") as rf:\n",
    "\n",
    "            labels = self.labels[video_name][:, start:end]\n",
    "             # Convert labels to 1D array\n",
    "            \n",
    "#             video_features = rf[video_name][:][: len(labels[0])][start:end]\n",
    "            \n",
    "            video_features = rf[video_name][start:end]\n",
    "#             print(f'{len(video_features)}, {len(video_features[0])}')\n",
    "#             print(f'video_name: {video_name}, label len: {len(labels[0])}, video_features_len: {len(video_features)}')\n",
    "            labels = torch.from_numpy(labels)\n",
    "            # majority voting\n",
    "            labels = labels.squeeze(0)\n",
    "            labels = torch.sum(labels, dim=0) \n",
    "            labels = torch.min(\n",
    "                labels,\n",
    "                torch.ones(\n",
    "                    labels.shape[0],\n",
    "                ).to(labels.device),\n",
    "            )\n",
    "            return video_name, video_features, labels\n",
    "\n",
    "    def extract_label(self, video_name):\n",
    "\n",
    "        label_files = self.label_files[video_name]\n",
    "        labels = []\n",
    "\n",
    "        for label_file in label_files:\n",
    "\n",
    "            with open(label_file, \"r\") as rf:\n",
    "                data = json.load(rf)\n",
    "\n",
    "            metadata = data[\"metadata\"]\n",
    "            video_length = math.ceil(metadata[\"length\"])\n",
    "            annotator_label = np.zeros((video_length,))\n",
    "\n",
    "            for timeline in data[\"timelines\"]:\n",
    "                for time_index in range(timeline[\"start\"], timeline[\"end\"] + 1):\n",
    "                    # annotator_label[time_index] += 1\n",
    "                    if time_index < video_length:\n",
    "                        annotator_label[time_index] = 1\n",
    "\n",
    "            labels.append(annotator_label)\n",
    "\n",
    "        labels = np.array(labels)\n",
    "        return labels"
   ]
  },
  {
   "cell_type": "code",
   "execution_count": 172,
   "metadata": {},
   "outputs": [],
   "source": [
    "# mp4 파일이 있는 디렉토리 경로\n",
    "mp4_dir = \"/workspace/EmotionShortForm/data_AIHub/2.Validation/Video_data/VS_유튜브_01\"\n",
    "# video_name = '유튜브_기타_21516'\n",
    "# video_path = f'{mp4_dir}/{video_name}.mp4'\n",
    "args = argparse.Namespace(\n",
    "    videos = \"/workspace/EmotionShortForm/data_AIHub/2.Validation/Video_data/VS_유튜브_01\",\n",
    "    data_directory =  \"/workspace/EmotionShortForm/data_AIHub/2.Validation/Labeling_data/VL_youtube\",\n",
    "    video_features_file = \"/workspace/EmotionShortForm/data_AIHub/2.Validation/Video_data/VS_유튜브_01.h5\"\n",
    ")\n",
    "\n",
    "val_label_path = \"/workspace/EmotionShortForm/data_AIHub/2.Validation/Labeling_data/VL_youtube\""
   ]
  },
  {
   "cell_type": "markdown",
   "metadata": {},
   "source": [
    "# Model"
   ]
  },
  {
   "cell_type": "code",
   "execution_count": 173,
   "metadata": {},
   "outputs": [
    {
     "data": {
      "text/plain": [
       "'\\nif __name__ == \"__main__\":\\n\\n    parser = argparse.ArgumentParser()\\n    parser.add_argument(\"-a\", \"--argument\", help=\"Example argument\")\\n    args = parser.parse_args()\\n    \\n'"
      ]
     },
     "execution_count": 173,
     "metadata": {},
     "output_type": "execute_result"
    }
   ],
   "source": [
    "class SummaryModel(LightningModule):\n",
    "    def __init__(self, hidden_dim=768, individual_logs=None):\n",
    "        super().__init__()\n",
    "        self.vit = ViTModel.from_pretrained(\"google/vit-base-patch16-224-in21k\")\n",
    "        self.scorer = nn.Linear(hidden_dim, 1)\n",
    "        self.feature_extractor = nn.Identity() # Feature extraction layer\n",
    "      \n",
    "        # self.sigmoid = nn.Sigmoid()\n",
    "        self.loss = nn.BCEWithLogitsLoss()\n",
    "        # self.train_f1 = F1()\n",
    "        # self.val_f1 = F1()\n",
    "        # self.test_f1 = F1()\n",
    "        self.individual_logs = individual_logs\n",
    "        self.tta_logs = defaultdict(list)\n",
    "\n",
    "    def forward(self, x):\n",
    "        x = self.vit(x).pooler_output\n",
    "        score = self.scorer(x)\n",
    "        feature = self.feature_extractor(x) # extract features\n",
    "        # x = self.sigmoid(x)\n",
    "        return score, feature\n",
    "\n",
    "    def run_batch(self, batch, batch_idx, metric, training=False):\n",
    "        video_name, image_features, labels = batch\n",
    "        video_name = video_name[0]\n",
    "        image_features = image_features.squeeze(0)\n",
    "        labels = labels.squeeze(0)\n",
    "\n",
    "        # Score - aggregated labels.\n",
    "        score = torch.sum(labels, dim=0)\n",
    "        score = torch.min(\n",
    "            score,\n",
    "            torch.ones(\n",
    "                score.shape[0],\n",
    "            ).to(score.device),\n",
    "        )\n",
    "        out = self(image_features).squeeze(1)\n",
    "        try:\n",
    "            loss = self.loss(out.double(), score)\n",
    "            preds = (torch.sigmoid(out) > 0.7).int()\n",
    "            metric.update(preds, score.int())\n",
    "            f1 = metric.compute()\n",
    "            tp, fp, tn, fn = metric._get_final_stats()\n",
    "            self.tta_logs[video_name].append((tp.item(), fp.item(), fn.item()))\n",
    "        except Exception as e:\n",
    "            print(e)\n",
    "            loss = 0\n",
    "        return loss\n",
    "\n",
    "    def training_step(self, batch, batch_idx):\n",
    "        loss = self.run_batch(batch, batch_idx, self.train_f1, training=True)\n",
    "        self.log(\"train_loss\", loss)\n",
    "        return loss\n",
    "\n",
    "    def training_epoch_end(self, training_step_outputs):\n",
    "        self.log(\"train_f1\", self.train_f1.compute())\n",
    "        self.train_f1.reset()\n",
    "\n",
    "    def validation_step(self, batch, batch_idx):\n",
    "        loss = self.run_batch(batch, batch_idx, self.val_f1)\n",
    "        self.log(\"val_loss\", loss)\n",
    "        return loss\n",
    "\n",
    "    def validation_epoch_end(self, validation_step_outputs):\n",
    "        self.log(\"val_f1\", self.val_f1.compute())\n",
    "        self.val_f1.reset()\n",
    "\n",
    "    def test_step(self, batch, batch_idx):\n",
    "        loss = self.run_batch(batch, batch_idx, self.test_f1)\n",
    "        self.log(\"test_loss\", loss)\n",
    "        return loss\n",
    "\n",
    "    def test_epoch_end(self, outputs):\n",
    "        f1 = self.test_f1.compute()\n",
    "        self.log(\"test_f1\", f1)\n",
    "        tp, fp, tn, fn = self.test_f1._get_final_stats()\n",
    "        print(f\"\\nTest f1: {f1}, TP: {tp}, FP: {fp}, TN: {tn}, fn: {fn}\")\n",
    "        self.test_f1.reset()\n",
    "\n",
    "    def configure_optimizers(self):\n",
    "        optimizer = torch.optim.AdamW(self.parameters(), lr=1e-4)\n",
    "        return optimizer\n",
    "\n",
    "'''\n",
    "if __name__ == \"__main__\":\n",
    "\n",
    "    parser = argparse.ArgumentParser()\n",
    "    parser.add_argument(\"-a\", \"--argument\", help=\"Example argument\")\n",
    "    args = parser.parse_args()\n",
    "    \n",
    "'''"
   ]
  },
  {
   "cell_type": "code",
   "execution_count": 174,
   "metadata": {},
   "outputs": [],
   "source": [
    "from transformers import ViTImageProcessor\n",
    "preprocessor = ViTImageProcessor.from_pretrained(\n",
    "    \"google/vit-base-patch16-224\", size=224, device='cuda'\n",
    ")"
   ]
  },
  {
   "cell_type": "code",
   "execution_count": 175,
   "metadata": {
    "scrolled": true
   },
   "outputs": [
    {
     "data": {
      "text/plain": [
       "SummaryModel(\n",
       "  (vit): ViTModel(\n",
       "    (embeddings): ViTEmbeddings(\n",
       "      (patch_embeddings): ViTPatchEmbeddings(\n",
       "        (projection): Conv2d(3, 768, kernel_size=(16, 16), stride=(16, 16))\n",
       "      )\n",
       "      (dropout): Dropout(p=0.0, inplace=False)\n",
       "    )\n",
       "    (encoder): ViTEncoder(\n",
       "      (layer): ModuleList(\n",
       "        (0-11): 12 x ViTLayer(\n",
       "          (attention): ViTAttention(\n",
       "            (attention): ViTSelfAttention(\n",
       "              (query): Linear(in_features=768, out_features=768, bias=True)\n",
       "              (key): Linear(in_features=768, out_features=768, bias=True)\n",
       "              (value): Linear(in_features=768, out_features=768, bias=True)\n",
       "              (dropout): Dropout(p=0.0, inplace=False)\n",
       "            )\n",
       "            (output): ViTSelfOutput(\n",
       "              (dense): Linear(in_features=768, out_features=768, bias=True)\n",
       "              (dropout): Dropout(p=0.0, inplace=False)\n",
       "            )\n",
       "          )\n",
       "          (intermediate): ViTIntermediate(\n",
       "            (dense): Linear(in_features=768, out_features=3072, bias=True)\n",
       "            (intermediate_act_fn): GELUActivation()\n",
       "          )\n",
       "          (output): ViTOutput(\n",
       "            (dense): Linear(in_features=3072, out_features=768, bias=True)\n",
       "            (dropout): Dropout(p=0.0, inplace=False)\n",
       "          )\n",
       "          (layernorm_before): LayerNorm((768,), eps=1e-12, elementwise_affine=True)\n",
       "          (layernorm_after): LayerNorm((768,), eps=1e-12, elementwise_affine=True)\n",
       "        )\n",
       "      )\n",
       "    )\n",
       "    (layernorm): LayerNorm((768,), eps=1e-12, elementwise_affine=True)\n",
       "    (pooler): ViTPooler(\n",
       "      (dense): Linear(in_features=768, out_features=768, bias=True)\n",
       "      (activation): Tanh()\n",
       "    )\n",
       "  )\n",
       "  (scorer): Linear(in_features=768, out_features=1, bias=True)\n",
       "  (feature_extractor): Identity()\n",
       "  (loss): BCEWithLogitsLoss()\n",
       ")"
      ]
     },
     "execution_count": 175,
     "metadata": {},
     "output_type": "execute_result"
    }
   ],
   "source": [
    "model = SummaryModel()\n",
    "model.to('cuda')\n",
    "model.eval()"
   ]
  },
  {
   "cell_type": "code",
   "execution_count": 176,
   "metadata": {},
   "outputs": [
    {
     "data": {
      "text/plain": [
       "<All keys matched successfully>"
      ]
     },
     "execution_count": 176,
     "metadata": {},
     "output_type": "execute_result"
    }
   ],
   "source": [
    "PATH = '../vit/summary.ckpt'\n",
    "checkpoint = torch.load(PATH)\n",
    "model.load_state_dict(checkpoint['state_dict'])"
   ]
  },
  {
   "cell_type": "code",
   "execution_count": 177,
   "metadata": {
    "scrolled": true
   },
   "outputs": [
    {
     "data": {
      "application/vnd.jupyter.widget-view+json": {
       "model_id": "95bed5dcf7974cc19650f204519b9e75",
       "version_major": 2,
       "version_minor": 0
      },
      "text/plain": [
       "Processing dataset:   0%|          | 0/31 [00:00<?, ?it/s]"
      ]
     },
     "metadata": {},
     "output_type": "display_data"
    },
    {
     "name": "stdout",
     "output_type": "stream",
     "text": [
      "video_name: ('유튜브_여행_7640',), inputs.shape: torch.Size([1, 250, 3, 224, 224]), labels.shape: torch.Size([1, 250])\n"
     ]
    },
    {
     "name": "stderr",
     "output_type": "stream",
     "text": [
      "\n",
      "  0%|          | 0/250 [00:00<?, ?it/s]\u001b[A\n",
      "  4%|▍         | 11/250 [00:00<00:02, 106.94it/s]\u001b[A\n",
      "  9%|▉         | 22/250 [00:00<00:02, 106.73it/s]\u001b[A\n",
      " 13%|█▎        | 33/250 [00:00<00:02, 106.54it/s]\u001b[A\n",
      " 18%|█▊        | 44/250 [00:00<00:01, 106.52it/s]\u001b[A\n",
      " 22%|██▏       | 55/250 [00:00<00:01, 106.05it/s]\u001b[A\n",
      " 26%|██▋       | 66/250 [00:00<00:01, 106.25it/s]\u001b[A\n",
      " 31%|███       | 77/250 [00:00<00:01, 105.94it/s]\u001b[A\n",
      " 35%|███▌      | 88/250 [00:00<00:01, 106.25it/s]\u001b[A\n",
      " 40%|███▉      | 99/250 [00:00<00:01, 105.82it/s]\u001b[A\n",
      " 44%|████▍     | 110/250 [00:01<00:01, 106.17it/s]\u001b[A\n",
      " 48%|████▊     | 121/250 [00:01<00:01, 106.42it/s]\u001b[A\n",
      " 53%|█████▎    | 132/250 [00:01<00:01, 106.59it/s]\u001b[A\n",
      " 57%|█████▋    | 143/250 [00:01<00:01, 106.52it/s]\u001b[A\n",
      " 62%|██████▏   | 154/250 [00:01<00:00, 106.63it/s]\u001b[A\n",
      " 66%|██████▌   | 165/250 [00:01<00:00, 106.75it/s]\u001b[A\n",
      " 70%|███████   | 176/250 [00:01<00:00, 106.47it/s]\u001b[A\n",
      " 75%|███████▍  | 187/250 [00:01<00:00, 106.64it/s]\u001b[A\n",
      " 79%|███████▉  | 198/250 [00:01<00:00, 106.58it/s]\u001b[A\n",
      " 84%|████████▎ | 209/250 [00:01<00:00, 106.37it/s]\u001b[A\n",
      " 88%|████████▊ | 220/250 [00:02<00:00, 106.24it/s]\u001b[A\n",
      " 92%|█████████▏| 231/250 [00:02<00:00, 106.48it/s]\u001b[A\n",
      "100%|██████████| 250/250 [00:02<00:00, 106.14it/s]\u001b[A\n"
     ]
    },
    {
     "name": "stdout",
     "output_type": "stream",
     "text": [
      "video_name: ('유튜브_여행_7640',), inputs.shape: torch.Size([1, 250, 3, 224, 224]), labels.shape: torch.Size([1, 250])\n"
     ]
    },
    {
     "name": "stderr",
     "output_type": "stream",
     "text": [
      "\n",
      "  0%|          | 0/250 [00:00<?, ?it/s]\u001b[A\n",
      "  4%|▍         | 11/250 [00:00<00:02, 103.59it/s]\u001b[A\n",
      "  9%|▉         | 22/250 [00:00<00:02, 105.45it/s]\u001b[A\n",
      " 13%|█▎        | 33/250 [00:00<00:02, 106.03it/s]\u001b[A\n",
      " 18%|█▊        | 44/250 [00:00<00:01, 106.10it/s]\u001b[A\n",
      " 22%|██▏       | 55/250 [00:00<00:01, 106.45it/s]\u001b[A\n",
      " 26%|██▋       | 66/250 [00:00<00:01, 106.52it/s]\u001b[A\n",
      " 31%|███       | 77/250 [00:00<00:01, 106.58it/s]\u001b[A\n",
      " 35%|███▌      | 88/250 [00:00<00:01, 106.84it/s]\u001b[A\n",
      " 40%|███▉      | 99/250 [00:00<00:01, 107.12it/s]\u001b[A\n",
      " 44%|████▍     | 110/250 [00:01<00:01, 107.19it/s]\u001b[A\n",
      " 48%|████▊     | 121/250 [00:01<00:01, 107.20it/s]\u001b[A\n",
      " 53%|█████▎    | 132/250 [00:01<00:01, 107.39it/s]\u001b[A\n",
      " 57%|█████▋    | 143/250 [00:01<00:00, 107.65it/s]\u001b[A\n",
      " 62%|██████▏   | 154/250 [00:01<00:00, 107.56it/s]\u001b[A\n",
      " 66%|██████▌   | 165/250 [00:01<00:00, 107.38it/s]\u001b[A\n",
      " 70%|███████   | 176/250 [00:01<00:00, 107.01it/s]\u001b[A\n",
      " 75%|███████▍  | 187/250 [00:01<00:00, 107.05it/s]\u001b[A\n",
      " 79%|███████▉  | 198/250 [00:01<00:00, 107.40it/s]\u001b[A\n",
      " 84%|████████▎ | 209/250 [00:01<00:00, 107.25it/s]\u001b[A\n",
      " 88%|████████▊ | 220/250 [00:02<00:00, 107.47it/s]\u001b[A\n",
      " 92%|█████████▏| 231/250 [00:02<00:00, 107.34it/s]\u001b[A\n",
      "100%|██████████| 250/250 [00:02<00:00, 106.95it/s]\u001b[A\n"
     ]
    },
    {
     "name": "stdout",
     "output_type": "stream",
     "text": [
      "video_name: ('유튜브_여행_7640',), inputs.shape: torch.Size([1, 54, 3, 224, 224]), labels.shape: torch.Size([1, 54])\n"
     ]
    },
    {
     "name": "stderr",
     "output_type": "stream",
     "text": [
      "\n",
      "  0%|          | 0/54 [00:00<?, ?it/s]\u001b[A\n",
      " 20%|██        | 11/54 [00:00<00:00, 103.05it/s]\u001b[A\n",
      " 41%|████      | 22/54 [00:00<00:00, 105.20it/s]\u001b[A\n",
      " 61%|██████    | 33/54 [00:00<00:00, 106.06it/s]\u001b[A\n",
      "100%|██████████| 54/54 [00:00<00:00, 105.92it/s]\u001b[A\n"
     ]
    },
    {
     "name": "stdout",
     "output_type": "stream",
     "text": [
      "video_name: ('유튜브_스포츠_4174',), inputs.shape: torch.Size([1, 250, 3, 224, 224]), labels.shape: torch.Size([1, 250])\n"
     ]
    },
    {
     "name": "stderr",
     "output_type": "stream",
     "text": [
      "\n",
      "  0%|          | 0/250 [00:00<?, ?it/s]\u001b[A\n",
      "  4%|▍         | 11/250 [00:00<00:02, 108.52it/s]\u001b[A\n",
      "  9%|▉         | 22/250 [00:00<00:02, 107.26it/s]\u001b[A\n",
      " 13%|█▎        | 33/250 [00:00<00:02, 107.16it/s]\u001b[A\n",
      " 18%|█▊        | 44/250 [00:00<00:01, 107.17it/s]\u001b[A\n",
      " 22%|██▏       | 55/250 [00:00<00:01, 107.42it/s]\u001b[A\n",
      " 26%|██▋       | 66/250 [00:00<00:01, 107.29it/s]\u001b[A\n",
      " 31%|███       | 77/250 [00:00<00:01, 107.30it/s]\u001b[A\n",
      " 35%|███▌      | 88/250 [00:00<00:01, 107.44it/s]\u001b[A\n",
      " 40%|███▉      | 99/250 [00:00<00:01, 107.66it/s]\u001b[A\n",
      " 44%|████▍     | 110/250 [00:01<00:01, 107.62it/s]\u001b[A\n",
      " 48%|████▊     | 121/250 [00:01<00:01, 107.68it/s]\u001b[A\n",
      " 53%|█████▎    | 132/250 [00:01<00:01, 107.85it/s]\u001b[A\n",
      " 57%|█████▋    | 143/250 [00:01<00:00, 107.89it/s]\u001b[A\n",
      " 62%|██████▏   | 154/250 [00:01<00:00, 108.00it/s]\u001b[A\n",
      " 66%|██████▌   | 165/250 [00:01<00:00, 107.72it/s]\u001b[A\n",
      " 70%|███████   | 176/250 [00:01<00:00, 107.59it/s]\u001b[A\n",
      " 75%|███████▍  | 187/250 [00:01<00:00, 107.50it/s]\u001b[A\n",
      " 79%|███████▉  | 198/250 [00:01<00:00, 107.73it/s]\u001b[A\n",
      " 84%|████████▎ | 209/250 [00:01<00:00, 107.70it/s]\u001b[A\n",
      " 88%|████████▊ | 220/250 [00:02<00:00, 107.52it/s]\u001b[A\n",
      " 92%|█████████▏| 231/250 [00:02<00:00, 107.59it/s]\u001b[A\n",
      "100%|██████████| 250/250 [00:02<00:00, 107.54it/s]\u001b[A\n"
     ]
    },
    {
     "name": "stdout",
     "output_type": "stream",
     "text": [
      "video_name: ('유튜브_스포츠_4174',), inputs.shape: torch.Size([1, 250, 3, 224, 224]), labels.shape: torch.Size([1, 250])\n"
     ]
    },
    {
     "name": "stderr",
     "output_type": "stream",
     "text": [
      "\n",
      "  0%|          | 0/250 [00:00<?, ?it/s]\u001b[A\n",
      "  4%|▍         | 11/250 [00:00<00:02, 101.13it/s]\u001b[A\n",
      "  9%|▉         | 22/250 [00:00<00:02, 104.34it/s]\u001b[A\n",
      " 13%|█▎        | 33/250 [00:00<00:02, 105.13it/s]\u001b[A\n",
      " 18%|█▊        | 44/250 [00:00<00:01, 105.63it/s]\u001b[A\n",
      " 22%|██▏       | 55/250 [00:00<00:01, 106.38it/s]\u001b[A\n",
      " 26%|██▋       | 66/250 [00:00<00:01, 106.55it/s]\u001b[A\n",
      " 31%|███       | 77/250 [00:00<00:01, 106.70it/s]\u001b[A\n",
      " 35%|███▌      | 88/250 [00:00<00:01, 106.91it/s]\u001b[A\n",
      " 40%|███▉      | 99/250 [00:00<00:01, 107.08it/s]\u001b[A\n",
      " 44%|████▍     | 110/250 [00:01<00:01, 107.14it/s]\u001b[A\n",
      " 48%|████▊     | 121/250 [00:01<00:01, 106.87it/s]\u001b[A\n",
      " 53%|█████▎    | 132/250 [00:01<00:01, 106.77it/s]\u001b[A\n",
      " 57%|█████▋    | 143/250 [00:01<00:00, 107.09it/s]\u001b[A\n",
      " 62%|██████▏   | 154/250 [00:01<00:00, 107.27it/s]\u001b[A\n",
      " 66%|██████▌   | 165/250 [00:01<00:00, 107.29it/s]\u001b[A\n",
      " 70%|███████   | 176/250 [00:01<00:00, 107.40it/s]\u001b[A\n",
      " 75%|███████▍  | 187/250 [00:01<00:00, 107.51it/s]\u001b[A\n",
      " 79%|███████▉  | 198/250 [00:01<00:00, 107.54it/s]\u001b[A\n",
      " 84%|████████▎ | 209/250 [00:01<00:00, 107.71it/s]\u001b[A\n",
      " 88%|████████▊ | 220/250 [00:02<00:00, 107.66it/s]\u001b[A\n",
      " 92%|█████████▏| 231/250 [00:02<00:00, 107.61it/s]\u001b[A\n",
      "100%|██████████| 250/250 [00:02<00:00, 106.86it/s]\u001b[A\n"
     ]
    },
    {
     "name": "stdout",
     "output_type": "stream",
     "text": [
      "video_name: ('유튜브_스포츠_4174',), inputs.shape: torch.Size([1, 250, 3, 224, 224]), labels.shape: torch.Size([1, 250])\n"
     ]
    },
    {
     "name": "stderr",
     "output_type": "stream",
     "text": [
      "\n",
      "  0%|          | 0/250 [00:00<?, ?it/s]\u001b[A\n",
      "  4%|▍         | 10/250 [00:00<00:02, 99.89it/s]\u001b[A\n",
      "  8%|▊         | 21/250 [00:00<00:02, 104.05it/s]\u001b[A\n",
      " 13%|█▎        | 32/250 [00:00<00:02, 105.61it/s]\u001b[A\n",
      " 17%|█▋        | 43/250 [00:00<00:01, 105.77it/s]\u001b[A\n",
      " 22%|██▏       | 54/250 [00:00<00:01, 106.06it/s]\u001b[A\n",
      " 26%|██▌       | 65/250 [00:00<00:01, 106.22it/s]\u001b[A\n",
      " 30%|███       | 76/250 [00:00<00:01, 106.66it/s]\u001b[A\n",
      " 35%|███▍      | 87/250 [00:00<00:01, 106.99it/s]\u001b[A\n",
      " 39%|███▉      | 98/250 [00:00<00:01, 106.72it/s]\u001b[A\n",
      " 44%|████▎     | 109/250 [00:01<00:01, 106.60it/s]\u001b[A\n",
      " 48%|████▊     | 120/250 [00:01<00:01, 106.94it/s]\u001b[A\n",
      " 52%|█████▏    | 131/250 [00:01<00:01, 107.19it/s]\u001b[A\n",
      " 57%|█████▋    | 142/250 [00:01<00:01, 107.49it/s]\u001b[A\n",
      " 61%|██████    | 153/250 [00:01<00:00, 106.96it/s]\u001b[A\n",
      " 66%|██████▌   | 164/250 [00:01<00:00, 106.87it/s]\u001b[A\n",
      " 70%|███████   | 175/250 [00:01<00:00, 107.09it/s]\u001b[A\n",
      " 74%|███████▍  | 186/250 [00:01<00:00, 107.16it/s]\u001b[A\n",
      " 79%|███████▉  | 197/250 [00:01<00:00, 107.38it/s]\u001b[A\n",
      " 83%|████████▎ | 208/250 [00:01<00:00, 107.12it/s]\u001b[A\n",
      " 88%|████████▊ | 219/250 [00:02<00:00, 106.98it/s]\u001b[A\n",
      " 92%|█████████▏| 230/250 [00:02<00:00, 107.14it/s]\u001b[A\n",
      "100%|██████████| 250/250 [00:02<00:00, 106.73it/s]\u001b[A\n"
     ]
    },
    {
     "name": "stdout",
     "output_type": "stream",
     "text": [
      "video_name: ('유튜브_스포츠_4174',), inputs.shape: torch.Size([1, 86, 3, 224, 224]), labels.shape: torch.Size([1, 86])\n"
     ]
    },
    {
     "name": "stderr",
     "output_type": "stream",
     "text": [
      "\n",
      "  0%|          | 0/86 [00:00<?, ?it/s]\u001b[A\n",
      " 13%|█▎        | 11/86 [00:00<00:00, 102.30it/s]\u001b[A\n",
      " 26%|██▌       | 22/86 [00:00<00:00, 105.17it/s]\u001b[A\n",
      " 38%|███▊      | 33/86 [00:00<00:00, 105.68it/s]\u001b[A\n",
      " 51%|█████     | 44/86 [00:00<00:00, 106.15it/s]\u001b[A\n",
      " 64%|██████▍   | 55/86 [00:00<00:00, 106.34it/s]\u001b[A\n",
      " 77%|███████▋  | 66/86 [00:00<00:00, 106.90it/s]\u001b[A\n",
      "100%|██████████| 86/86 [00:00<00:00, 106.35it/s]\u001b[A\n"
     ]
    },
    {
     "name": "stdout",
     "output_type": "stream",
     "text": [
      "video_name: ('유튜브_기타_19843',), inputs.shape: torch.Size([1, 250, 3, 224, 224]), labels.shape: torch.Size([1, 250])\n"
     ]
    },
    {
     "name": "stderr",
     "output_type": "stream",
     "text": [
      "\n",
      "  0%|          | 0/250 [00:00<?, ?it/s]\u001b[A\n",
      "  4%|▍         | 11/250 [00:00<00:02, 106.63it/s]\u001b[A\n",
      "  9%|▉         | 22/250 [00:00<00:02, 106.96it/s]\u001b[A\n",
      " 13%|█▎        | 33/250 [00:00<00:02, 106.95it/s]\u001b[A\n",
      " 18%|█▊        | 44/250 [00:00<00:01, 107.35it/s]\u001b[A\n",
      " 22%|██▏       | 55/250 [00:00<00:01, 107.25it/s]\u001b[A\n",
      " 26%|██▋       | 66/250 [00:00<00:01, 107.27it/s]\u001b[A\n",
      " 31%|███       | 77/250 [00:00<00:01, 107.04it/s]\u001b[A\n",
      " 35%|███▌      | 88/250 [00:00<00:01, 107.36it/s]\u001b[A\n",
      " 40%|███▉      | 99/250 [00:00<00:01, 107.42it/s]\u001b[A\n",
      " 44%|████▍     | 110/250 [00:01<00:01, 107.50it/s]\u001b[A\n",
      " 48%|████▊     | 121/250 [00:01<00:01, 107.23it/s]\u001b[A\n",
      " 53%|█████▎    | 132/250 [00:01<00:01, 107.31it/s]\u001b[A\n",
      " 57%|█████▋    | 143/250 [00:01<00:00, 107.35it/s]\u001b[A\n",
      " 62%|██████▏   | 154/250 [00:01<00:00, 107.53it/s]\u001b[A\n",
      " 66%|██████▌   | 165/250 [00:01<00:00, 107.28it/s]\u001b[A\n",
      " 70%|███████   | 176/250 [00:01<00:00, 107.08it/s]\u001b[A\n",
      " 75%|███████▍  | 187/250 [00:01<00:00, 107.20it/s]\u001b[A\n",
      " 79%|███████▉  | 198/250 [00:01<00:00, 107.44it/s]\u001b[A\n",
      " 84%|████████▎ | 209/250 [00:01<00:00, 107.51it/s]\u001b[A\n",
      " 88%|████████▊ | 220/250 [00:02<00:00, 107.53it/s]\u001b[A\n",
      " 92%|█████████▏| 231/250 [00:02<00:00, 107.70it/s]\u001b[A\n",
      "100%|██████████| 250/250 [00:02<00:00, 107.29it/s]\u001b[A\n"
     ]
    },
    {
     "name": "stdout",
     "output_type": "stream",
     "text": [
      "video_name: ('유튜브_기타_19843',), inputs.shape: torch.Size([1, 250, 3, 224, 224]), labels.shape: torch.Size([1, 250])\n"
     ]
    },
    {
     "name": "stderr",
     "output_type": "stream",
     "text": [
      "\n",
      "  0%|          | 0/250 [00:00<?, ?it/s]\u001b[A\n",
      "  4%|▍         | 11/250 [00:00<00:02, 101.52it/s]\u001b[A\n",
      "  9%|▉         | 22/250 [00:00<00:02, 104.89it/s]\u001b[A\n",
      " 13%|█▎        | 33/250 [00:00<00:02, 105.81it/s]\u001b[A\n",
      " 18%|█▊        | 44/250 [00:00<00:01, 106.59it/s]\u001b[A\n",
      " 22%|██▏       | 55/250 [00:00<00:01, 106.70it/s]\u001b[A\n",
      " 26%|██▋       | 66/250 [00:00<00:01, 106.40it/s]\u001b[A\n",
      " 31%|███       | 77/250 [00:00<00:01, 106.74it/s]\u001b[A\n",
      " 35%|███▌      | 88/250 [00:00<00:01, 106.95it/s]\u001b[A\n",
      " 40%|███▉      | 99/250 [00:00<00:01, 106.84it/s]\u001b[A\n",
      " 44%|████▍     | 110/250 [00:01<00:01, 106.93it/s]\u001b[A\n",
      " 48%|████▊     | 121/250 [00:01<00:01, 107.03it/s]\u001b[A\n",
      " 53%|█████▎    | 132/250 [00:01<00:01, 107.14it/s]\u001b[A\n",
      " 57%|█████▋    | 143/250 [00:01<00:00, 107.31it/s]\u001b[A\n",
      " 62%|██████▏   | 154/250 [00:01<00:00, 107.41it/s]\u001b[A\n",
      " 66%|██████▌   | 165/250 [00:01<00:00, 107.71it/s]\u001b[A\n",
      " 70%|███████   | 176/250 [00:01<00:00, 107.77it/s]\u001b[A\n",
      " 75%|███████▍  | 187/250 [00:01<00:00, 107.48it/s]\u001b[A\n",
      " 79%|███████▉  | 198/250 [00:01<00:00, 107.28it/s]\u001b[A\n",
      " 84%|████████▎ | 209/250 [00:01<00:00, 107.44it/s]\u001b[A\n",
      " 88%|████████▊ | 220/250 [00:02<00:00, 107.51it/s]\u001b[A\n",
      " 92%|█████████▏| 231/250 [00:02<00:00, 107.78it/s]\u001b[A\n",
      "100%|██████████| 250/250 [00:02<00:00, 106.99it/s]\u001b[A\n"
     ]
    },
    {
     "name": "stdout",
     "output_type": "stream",
     "text": [
      "video_name: ('유튜브_기타_19843',), inputs.shape: torch.Size([1, 250, 3, 224, 224]), labels.shape: torch.Size([1, 250])\n"
     ]
    },
    {
     "name": "stderr",
     "output_type": "stream",
     "text": [
      "\n",
      "  0%|          | 0/250 [00:00<?, ?it/s]\u001b[A\n",
      "  4%|▍         | 11/250 [00:00<00:02, 102.35it/s]\u001b[A\n",
      "  9%|▉         | 22/250 [00:00<00:02, 105.15it/s]\u001b[A\n",
      " 13%|█▎        | 33/250 [00:00<00:02, 105.87it/s]\u001b[A\n",
      " 18%|█▊        | 44/250 [00:00<00:01, 106.25it/s]\u001b[A\n",
      " 22%|██▏       | 55/250 [00:00<00:01, 106.36it/s]\u001b[A\n",
      " 26%|██▋       | 66/250 [00:00<00:01, 106.58it/s]\u001b[A\n",
      " 31%|███       | 77/250 [00:00<00:01, 106.54it/s]\u001b[A\n",
      " 35%|███▌      | 88/250 [00:00<00:01, 106.63it/s]\u001b[A\n",
      " 40%|███▉      | 99/250 [00:00<00:01, 106.73it/s]\u001b[A\n",
      " 44%|████▍     | 110/250 [00:01<00:01, 107.13it/s]\u001b[A\n",
      " 48%|████▊     | 121/250 [00:01<00:01, 107.30it/s]\u001b[A\n",
      " 53%|█████▎    | 132/250 [00:01<00:01, 107.67it/s]\u001b[A\n",
      " 57%|█████▋    | 143/250 [00:01<00:00, 107.13it/s]\u001b[A\n",
      " 62%|██████▏   | 154/250 [00:01<00:00, 107.05it/s]\u001b[A\n",
      " 66%|██████▌   | 165/250 [00:01<00:00, 107.29it/s]\u001b[A\n",
      " 70%|███████   | 176/250 [00:01<00:00, 107.40it/s]\u001b[A\n",
      " 75%|███████▍  | 187/250 [00:01<00:00, 107.49it/s]\u001b[A\n",
      " 79%|███████▉  | 198/250 [00:01<00:00, 107.51it/s]\u001b[A\n",
      " 84%|████████▎ | 209/250 [00:01<00:00, 107.42it/s]\u001b[A\n",
      " 88%|████████▊ | 220/250 [00:02<00:00, 107.45it/s]\u001b[A\n",
      " 92%|█████████▏| 231/250 [00:02<00:00, 107.47it/s]\u001b[A\n",
      "100%|██████████| 250/250 [00:02<00:00, 107.03it/s]\u001b[A\n"
     ]
    },
    {
     "name": "stdout",
     "output_type": "stream",
     "text": [
      "video_name: ('유튜브_기타_19843',), inputs.shape: torch.Size([1, 250, 3, 224, 224]), labels.shape: torch.Size([1, 250])\n"
     ]
    },
    {
     "name": "stderr",
     "output_type": "stream",
     "text": [
      "\n",
      "  0%|          | 0/250 [00:00<?, ?it/s]\u001b[A\n",
      "  4%|▍         | 11/250 [00:00<00:02, 102.08it/s]\u001b[A\n",
      "  9%|▉         | 22/250 [00:00<00:02, 104.24it/s]\u001b[A\n",
      " 13%|█▎        | 33/250 [00:00<00:02, 105.73it/s]\u001b[A\n",
      " 18%|█▊        | 44/250 [00:00<00:01, 106.18it/s]\u001b[A\n",
      " 22%|██▏       | 55/250 [00:00<00:01, 106.32it/s]\u001b[A\n",
      " 26%|██▋       | 66/250 [00:00<00:01, 106.59it/s]\u001b[A\n",
      " 31%|███       | 77/250 [00:00<00:01, 106.79it/s]\u001b[A\n",
      " 35%|███▌      | 88/250 [00:00<00:01, 107.06it/s]\u001b[A\n",
      " 40%|███▉      | 99/250 [00:00<00:01, 107.01it/s]\u001b[A\n",
      " 44%|████▍     | 110/250 [00:01<00:01, 106.98it/s]\u001b[A\n",
      " 48%|████▊     | 121/250 [00:01<00:01, 107.10it/s]\u001b[A\n",
      " 53%|█████▎    | 132/250 [00:01<00:01, 107.46it/s]\u001b[A\n",
      " 57%|█████▋    | 143/250 [00:01<00:00, 107.62it/s]\u001b[A\n",
      " 62%|██████▏   | 154/250 [00:01<00:00, 107.65it/s]\u001b[A\n",
      " 66%|██████▌   | 165/250 [00:01<00:00, 107.49it/s]\u001b[A\n",
      " 70%|███████   | 176/250 [00:01<00:00, 107.39it/s]\u001b[A\n",
      " 75%|███████▍  | 187/250 [00:01<00:00, 107.46it/s]\u001b[A\n",
      " 79%|███████▉  | 198/250 [00:01<00:00, 107.36it/s]\u001b[A\n",
      " 84%|████████▎ | 209/250 [00:01<00:00, 107.39it/s]\u001b[A\n",
      " 88%|████████▊ | 220/250 [00:02<00:00, 107.24it/s]\u001b[A\n",
      " 92%|█████████▏| 231/250 [00:02<00:00, 107.29it/s]\u001b[A\n",
      "100%|██████████| 250/250 [00:02<00:00, 106.94it/s]\u001b[A\n"
     ]
    },
    {
     "name": "stdout",
     "output_type": "stream",
     "text": [
      "video_name: ('유튜브_기타_19843',), inputs.shape: torch.Size([1, 43, 3, 224, 224]), labels.shape: torch.Size([1, 43])\n"
     ]
    },
    {
     "name": "stderr",
     "output_type": "stream",
     "text": [
      "\n",
      "  0%|          | 0/43 [00:00<?, ?it/s]\u001b[A\n",
      " 26%|██▌       | 11/43 [00:00<00:00, 104.29it/s]\u001b[A\n",
      " 51%|█████     | 22/43 [00:00<00:00, 106.19it/s]\u001b[A\n",
      "100%|██████████| 43/43 [00:00<00:00, 106.72it/s]\u001b[A\n"
     ]
    },
    {
     "name": "stdout",
     "output_type": "stream",
     "text": [
      "video_name: ('유튜브_일상_10479',), inputs.shape: torch.Size([1, 250, 3, 224, 224]), labels.shape: torch.Size([1, 250])\n"
     ]
    },
    {
     "name": "stderr",
     "output_type": "stream",
     "text": [
      "\n",
      "  0%|          | 0/250 [00:00<?, ?it/s]\u001b[A\n",
      "  4%|▍         | 11/250 [00:00<00:02, 108.40it/s]\u001b[A\n",
      "  9%|▉         | 22/250 [00:00<00:02, 107.80it/s]\u001b[A\n",
      " 13%|█▎        | 33/250 [00:00<00:02, 107.47it/s]\u001b[A\n",
      " 18%|█▊        | 44/250 [00:00<00:01, 107.34it/s]\u001b[A\n",
      " 22%|██▏       | 55/250 [00:00<00:01, 107.23it/s]\u001b[A\n",
      " 26%|██▋       | 66/250 [00:00<00:01, 107.46it/s]\u001b[A\n",
      " 31%|███       | 77/250 [00:00<00:01, 107.16it/s]\u001b[A\n",
      " 35%|███▌      | 88/250 [00:00<00:01, 107.15it/s]\u001b[A\n",
      " 40%|███▉      | 99/250 [00:00<00:01, 107.41it/s]\u001b[A\n",
      " 44%|████▍     | 110/250 [00:01<00:01, 107.32it/s]\u001b[A\n",
      " 48%|████▊     | 121/250 [00:01<00:01, 107.45it/s]\u001b[A\n",
      " 53%|█████▎    | 132/250 [00:01<00:01, 107.68it/s]\u001b[A\n",
      " 57%|█████▋    | 143/250 [00:01<00:00, 107.51it/s]\u001b[A\n",
      " 62%|██████▏   | 154/250 [00:01<00:00, 107.10it/s]\u001b[A\n",
      " 66%|██████▌   | 165/250 [00:01<00:00, 107.29it/s]\u001b[A\n",
      " 70%|███████   | 176/250 [00:01<00:00, 107.28it/s]\u001b[A\n",
      " 75%|███████▍  | 187/250 [00:01<00:00, 107.44it/s]\u001b[A\n",
      " 79%|███████▉  | 198/250 [00:01<00:00, 107.43it/s]\u001b[A\n",
      " 84%|████████▎ | 209/250 [00:01<00:00, 107.51it/s]\u001b[A\n",
      " 88%|████████▊ | 220/250 [00:02<00:00, 107.24it/s]\u001b[A\n",
      " 92%|█████████▏| 231/250 [00:02<00:00, 107.31it/s]\u001b[A\n",
      "100%|██████████| 250/250 [00:02<00:00, 107.35it/s]\u001b[A\n"
     ]
    },
    {
     "name": "stdout",
     "output_type": "stream",
     "text": [
      "video_name: ('유튜브_일상_10479',), inputs.shape: torch.Size([1, 250, 3, 224, 224]), labels.shape: torch.Size([1, 250])\n"
     ]
    },
    {
     "name": "stderr",
     "output_type": "stream",
     "text": [
      "\n",
      "  0%|          | 0/250 [00:00<?, ?it/s]\u001b[A\n",
      "  4%|▍         | 11/250 [00:00<00:02, 102.98it/s]\u001b[A\n",
      "  9%|▉         | 22/250 [00:00<00:02, 105.09it/s]\u001b[A\n",
      " 13%|█▎        | 33/250 [00:00<00:02, 105.84it/s]\u001b[A\n",
      " 18%|█▊        | 44/250 [00:00<00:01, 106.12it/s]\u001b[A\n",
      " 22%|██▏       | 55/250 [00:00<00:01, 105.68it/s]\u001b[A\n",
      " 26%|██▋       | 66/250 [00:00<00:01, 106.42it/s]\u001b[A\n",
      " 31%|███       | 77/250 [00:00<00:01, 106.71it/s]\u001b[A\n",
      " 35%|███▌      | 88/250 [00:00<00:01, 106.97it/s]\u001b[A\n",
      " 40%|███▉      | 99/250 [00:00<00:01, 107.17it/s]\u001b[A\n",
      " 44%|████▍     | 110/250 [00:01<00:01, 107.37it/s]\u001b[A\n",
      " 48%|████▊     | 121/250 [00:01<00:01, 107.19it/s]\u001b[A\n",
      " 53%|█████▎    | 132/250 [00:01<00:01, 107.19it/s]\u001b[A\n",
      " 57%|█████▋    | 143/250 [00:01<00:00, 107.44it/s]\u001b[A\n",
      " 62%|██████▏   | 154/250 [00:01<00:00, 107.49it/s]\u001b[A\n",
      " 66%|██████▌   | 165/250 [00:01<00:00, 107.47it/s]\u001b[A\n",
      " 70%|███████   | 176/250 [00:01<00:00, 107.52it/s]\u001b[A\n",
      " 75%|███████▍  | 187/250 [00:01<00:00, 107.49it/s]\u001b[A\n",
      " 79%|███████▉  | 198/250 [00:01<00:00, 107.50it/s]\u001b[A\n",
      " 84%|████████▎ | 209/250 [00:01<00:00, 107.54it/s]\u001b[A\n",
      " 88%|████████▊ | 220/250 [00:02<00:00, 107.43it/s]\u001b[A\n",
      " 92%|█████████▏| 231/250 [00:02<00:00, 107.39it/s]\u001b[A\n",
      "100%|██████████| 250/250 [00:02<00:00, 106.97it/s]\u001b[A\n"
     ]
    },
    {
     "name": "stdout",
     "output_type": "stream",
     "text": [
      "video_name: ('유튜브_일상_10479',), inputs.shape: torch.Size([1, 250, 3, 224, 224]), labels.shape: torch.Size([1, 250])\n"
     ]
    },
    {
     "name": "stderr",
     "output_type": "stream",
     "text": [
      "\n",
      "  0%|          | 0/250 [00:00<?, ?it/s]\u001b[A\n",
      "  4%|▍         | 10/250 [00:00<00:02, 99.33it/s]\u001b[A\n",
      "  8%|▊         | 21/250 [00:00<00:02, 103.56it/s]\u001b[A\n",
      " 13%|█▎        | 32/250 [00:00<00:02, 105.10it/s]\u001b[A\n",
      " 17%|█▋        | 43/250 [00:00<00:01, 105.77it/s]\u001b[A\n",
      " 22%|██▏       | 54/250 [00:00<00:01, 106.18it/s]\u001b[A\n",
      " 26%|██▌       | 65/250 [00:00<00:01, 106.01it/s]\u001b[A\n",
      " 30%|███       | 76/250 [00:00<00:01, 106.30it/s]\u001b[A\n",
      " 35%|███▍      | 87/250 [00:00<00:01, 106.64it/s]\u001b[A\n",
      " 39%|███▉      | 98/250 [00:00<00:01, 107.01it/s]\u001b[A\n",
      " 44%|████▎     | 109/250 [00:01<00:01, 107.33it/s]\u001b[A\n",
      " 48%|████▊     | 120/250 [00:01<00:01, 107.27it/s]\u001b[A\n",
      " 52%|█████▏    | 131/250 [00:01<00:01, 107.31it/s]\u001b[A\n",
      " 57%|█████▋    | 142/250 [00:01<00:01, 107.57it/s]\u001b[A\n",
      " 61%|██████    | 153/250 [00:01<00:00, 107.44it/s]\u001b[A\n",
      " 66%|██████▌   | 164/250 [00:01<00:00, 107.64it/s]\u001b[A\n",
      " 70%|███████   | 175/250 [00:01<00:00, 107.80it/s]\u001b[A\n",
      " 74%|███████▍  | 186/250 [00:01<00:00, 107.42it/s]\u001b[A\n",
      " 79%|███████▉  | 197/250 [00:01<00:00, 107.23it/s]\u001b[A\n",
      " 83%|████████▎ | 208/250 [00:01<00:00, 107.21it/s]\u001b[A\n",
      " 88%|████████▊ | 219/250 [00:02<00:00, 107.42it/s]\u001b[A\n",
      " 92%|█████████▏| 230/250 [00:02<00:00, 107.00it/s]\u001b[A\n",
      "100%|██████████| 250/250 [00:02<00:00, 106.79it/s]\u001b[A\n"
     ]
    },
    {
     "name": "stdout",
     "output_type": "stream",
     "text": [
      "video_name: ('유튜브_일상_10479',), inputs.shape: torch.Size([1, 250, 3, 224, 224]), labels.shape: torch.Size([1, 250])\n"
     ]
    },
    {
     "name": "stderr",
     "output_type": "stream",
     "text": [
      "\n",
      "  0%|          | 0/250 [00:00<?, ?it/s]\u001b[A\n",
      "  4%|▍         | 11/250 [00:00<00:02, 102.11it/s]\u001b[A\n",
      "  9%|▉         | 22/250 [00:00<00:02, 104.86it/s]\u001b[A\n",
      " 13%|█▎        | 33/250 [00:00<00:02, 105.97it/s]\u001b[A\n",
      " 18%|█▊        | 44/250 [00:00<00:01, 106.67it/s]\u001b[A\n",
      " 22%|██▏       | 55/250 [00:00<00:01, 106.70it/s]\u001b[A\n",
      " 26%|██▋       | 66/250 [00:00<00:01, 107.02it/s]\u001b[A\n",
      " 31%|███       | 77/250 [00:00<00:01, 106.96it/s]\u001b[A\n",
      " 35%|███▌      | 88/250 [00:00<00:01, 107.06it/s]\u001b[A\n",
      " 40%|███▉      | 99/250 [00:00<00:01, 107.26it/s]\u001b[A\n",
      " 44%|████▍     | 110/250 [00:01<00:01, 107.41it/s]\u001b[A\n",
      " 48%|████▊     | 121/250 [00:01<00:01, 107.43it/s]\u001b[A\n",
      " 53%|█████▎    | 132/250 [00:01<00:01, 107.56it/s]\u001b[A\n",
      " 57%|█████▋    | 143/250 [00:01<00:00, 107.52it/s]\u001b[A\n",
      " 62%|██████▏   | 154/250 [00:01<00:00, 107.60it/s]\u001b[A\n",
      " 66%|██████▌   | 165/250 [00:01<00:00, 107.40it/s]\u001b[A\n",
      " 70%|███████   | 176/250 [00:01<00:00, 107.50it/s]\u001b[A\n",
      " 75%|███████▍  | 187/250 [00:01<00:00, 107.50it/s]\u001b[A\n",
      " 79%|███████▉  | 198/250 [00:01<00:00, 107.69it/s]\u001b[A\n",
      " 84%|████████▎ | 209/250 [00:01<00:00, 107.35it/s]\u001b[A\n",
      " 88%|████████▊ | 220/250 [00:02<00:00, 107.37it/s]\u001b[A\n",
      " 92%|█████████▏| 231/250 [00:02<00:00, 107.02it/s]\u001b[A\n",
      "100%|██████████| 250/250 [00:02<00:00, 107.04it/s]\u001b[A\n"
     ]
    },
    {
     "name": "stdout",
     "output_type": "stream",
     "text": [
      "video_name: ('유튜브_일상_10479',), inputs.shape: torch.Size([1, 250, 3, 224, 224]), labels.shape: torch.Size([1, 250])\n"
     ]
    },
    {
     "name": "stderr",
     "output_type": "stream",
     "text": [
      "\n",
      "  0%|          | 0/250 [00:00<?, ?it/s]\u001b[A\n",
      "  4%|▍         | 11/250 [00:00<00:02, 103.91it/s]\u001b[A\n",
      "  9%|▉         | 22/250 [00:00<00:02, 105.66it/s]\u001b[A\n",
      " 13%|█▎        | 33/250 [00:00<00:02, 106.42it/s]\u001b[A\n",
      " 18%|█▊        | 44/250 [00:00<00:01, 107.04it/s]\u001b[A\n",
      " 22%|██▏       | 55/250 [00:00<00:01, 107.24it/s]\u001b[A\n",
      " 26%|██▋       | 66/250 [00:00<00:01, 107.26it/s]\u001b[A\n",
      " 31%|███       | 77/250 [00:00<00:01, 107.10it/s]\u001b[A\n",
      " 35%|███▌      | 88/250 [00:00<00:01, 107.25it/s]\u001b[A\n",
      " 40%|███▉      | 99/250 [00:00<00:01, 107.36it/s]\u001b[A\n",
      " 44%|████▍     | 110/250 [00:01<00:01, 107.61it/s]\u001b[A\n",
      " 48%|████▊     | 121/250 [00:01<00:01, 107.52it/s]\u001b[A\n",
      " 53%|█████▎    | 132/250 [00:01<00:01, 107.51it/s]\u001b[A\n",
      " 57%|█████▋    | 143/250 [00:01<00:00, 107.41it/s]\u001b[A\n",
      " 62%|██████▏   | 154/250 [00:01<00:00, 107.46it/s]\u001b[A\n",
      " 66%|██████▌   | 165/250 [00:01<00:00, 107.57it/s]\u001b[A\n",
      " 70%|███████   | 176/250 [00:01<00:00, 107.55it/s]\u001b[A\n",
      " 75%|███████▍  | 187/250 [00:01<00:00, 107.33it/s]\u001b[A\n",
      " 79%|███████▉  | 198/250 [00:01<00:00, 107.45it/s]\u001b[A\n",
      " 84%|████████▎ | 209/250 [00:01<00:00, 107.36it/s]\u001b[A\n",
      " 88%|████████▊ | 220/250 [00:02<00:00, 107.54it/s]\u001b[A\n",
      " 92%|█████████▏| 231/250 [00:02<00:00, 107.53it/s]\u001b[A\n",
      "100%|██████████| 250/250 [00:02<00:00, 107.31it/s]\u001b[A\n"
     ]
    },
    {
     "name": "stdout",
     "output_type": "stream",
     "text": [
      "video_name: ('유튜브_일상_10479',), inputs.shape: torch.Size([1, 65, 3, 224, 224]), labels.shape: torch.Size([1, 65])\n"
     ]
    },
    {
     "name": "stderr",
     "output_type": "stream",
     "text": [
      "\n",
      "  0%|          | 0/65 [00:00<?, ?it/s]\u001b[A\n",
      " 17%|█▋        | 11/65 [00:00<00:00, 103.22it/s]\u001b[A\n",
      " 34%|███▍      | 22/65 [00:00<00:00, 105.71it/s]\u001b[A\n",
      " 51%|█████     | 33/65 [00:00<00:00, 106.39it/s]\u001b[A\n",
      " 68%|██████▊   | 44/65 [00:00<00:00, 106.75it/s]\u001b[A\n",
      "100%|██████████| 65/65 [00:00<00:00, 106.60it/s]\u001b[A\n"
     ]
    },
    {
     "name": "stdout",
     "output_type": "stream",
     "text": [
      "video_name: ('유튜브_스타일링및뷰티_14630',), inputs.shape: torch.Size([1, 250, 3, 224, 224]), labels.shape: torch.Size([1, 250])\n"
     ]
    },
    {
     "name": "stderr",
     "output_type": "stream",
     "text": [
      "\n",
      "  0%|          | 0/250 [00:00<?, ?it/s]\u001b[A\n",
      "  4%|▍         | 11/250 [00:00<00:02, 108.66it/s]\u001b[A\n",
      "  9%|▉         | 22/250 [00:00<00:02, 107.66it/s]\u001b[A\n",
      " 13%|█▎        | 33/250 [00:00<00:02, 107.46it/s]\u001b[A\n",
      " 18%|█▊        | 44/250 [00:00<00:01, 107.20it/s]\u001b[A\n",
      " 22%|██▏       | 55/250 [00:00<00:01, 107.30it/s]\u001b[A\n",
      " 26%|██▋       | 66/250 [00:00<00:01, 107.13it/s]\u001b[A\n",
      " 31%|███       | 77/250 [00:00<00:01, 106.73it/s]\u001b[A\n",
      " 35%|███▌      | 88/250 [00:00<00:01, 107.00it/s]\u001b[A\n",
      " 40%|███▉      | 99/250 [00:00<00:01, 107.12it/s]\u001b[A\n",
      " 44%|████▍     | 110/250 [00:01<00:01, 107.29it/s]\u001b[A\n",
      " 48%|████▊     | 121/250 [00:01<00:01, 107.65it/s]\u001b[A\n",
      " 53%|█████▎    | 132/250 [00:01<00:01, 107.53it/s]\u001b[A\n",
      " 57%|█████▋    | 143/250 [00:01<00:00, 107.38it/s]\u001b[A\n",
      " 62%|██████▏   | 154/250 [00:01<00:00, 107.54it/s]\u001b[A\n",
      " 66%|██████▌   | 165/250 [00:01<00:00, 107.71it/s]\u001b[A\n",
      " 70%|███████   | 176/250 [00:01<00:00, 107.73it/s]\u001b[A\n",
      " 75%|███████▍  | 187/250 [00:01<00:00, 107.59it/s]\u001b[A\n",
      " 79%|███████▉  | 198/250 [00:01<00:00, 107.43it/s]\u001b[A\n",
      " 84%|████████▎ | 209/250 [00:01<00:00, 107.09it/s]\u001b[A\n",
      " 88%|████████▊ | 220/250 [00:02<00:00, 107.23it/s]\u001b[A\n",
      " 92%|█████████▏| 231/250 [00:02<00:00, 107.25it/s]\u001b[A\n",
      "100%|██████████| 250/250 [00:02<00:00, 107.30it/s]\u001b[A\n"
     ]
    },
    {
     "name": "stdout",
     "output_type": "stream",
     "text": [
      "video_name: ('유튜브_스타일링및뷰티_14630',), inputs.shape: torch.Size([1, 208, 3, 224, 224]), labels.shape: torch.Size([1, 208])\n"
     ]
    },
    {
     "name": "stderr",
     "output_type": "stream",
     "text": [
      "\n",
      "  0%|          | 0/208 [00:00<?, ?it/s]\u001b[A\n",
      "  5%|▌         | 11/208 [00:00<00:01, 102.39it/s]\u001b[A\n",
      " 11%|█         | 22/208 [00:00<00:01, 104.44it/s]\u001b[A\n",
      " 16%|█▌        | 33/208 [00:00<00:01, 105.37it/s]\u001b[A\n",
      " 21%|██        | 44/208 [00:00<00:01, 105.86it/s]\u001b[A\n",
      " 26%|██▋       | 55/208 [00:00<00:01, 106.24it/s]\u001b[A\n",
      " 32%|███▏      | 66/208 [00:00<00:01, 106.34it/s]\u001b[A\n",
      " 37%|███▋      | 77/208 [00:00<00:01, 106.47it/s]\u001b[A\n",
      " 42%|████▏     | 88/208 [00:00<00:01, 106.89it/s]\u001b[A\n",
      " 48%|████▊     | 99/208 [00:00<00:01, 106.80it/s]\u001b[A\n",
      " 53%|█████▎    | 110/208 [00:01<00:00, 106.94it/s]\u001b[A\n",
      " 58%|█████▊    | 121/208 [00:01<00:00, 107.30it/s]\u001b[A\n",
      " 63%|██████▎   | 132/208 [00:01<00:00, 107.52it/s]\u001b[A\n",
      " 69%|██████▉   | 143/208 [00:01<00:00, 107.75it/s]\u001b[A\n",
      " 74%|███████▍  | 154/208 [00:01<00:00, 107.79it/s]\u001b[A\n",
      " 79%|███████▉  | 165/208 [00:01<00:00, 107.70it/s]\u001b[A\n",
      " 85%|████████▍ | 176/208 [00:01<00:00, 107.82it/s]\u001b[A\n",
      " 90%|████████▉ | 187/208 [00:01<00:00, 107.72it/s]\u001b[A\n",
      "100%|██████████| 208/208 [00:01<00:00, 106.93it/s]\u001b[A\n"
     ]
    },
    {
     "name": "stdout",
     "output_type": "stream",
     "text": [
      "video_name: ('유튜브_자동차_0094',), inputs.shape: torch.Size([1, 250, 3, 224, 224]), labels.shape: torch.Size([1, 250])\n"
     ]
    },
    {
     "name": "stderr",
     "output_type": "stream",
     "text": [
      "\n",
      "  0%|          | 0/250 [00:00<?, ?it/s]\u001b[A\n",
      "  4%|▍         | 11/250 [00:00<00:02, 103.64it/s]\u001b[A\n",
      "  9%|▉         | 22/250 [00:00<00:02, 105.16it/s]\u001b[A\n",
      " 13%|█▎        | 33/250 [00:00<00:02, 105.61it/s]\u001b[A\n",
      " 18%|█▊        | 44/250 [00:00<00:01, 105.98it/s]\u001b[A\n",
      " 22%|██▏       | 55/250 [00:00<00:01, 106.44it/s]\u001b[A\n",
      " 26%|██▋       | 66/250 [00:00<00:01, 106.73it/s]\u001b[A\n",
      " 31%|███       | 77/250 [00:00<00:01, 106.79it/s]\u001b[A\n",
      " 35%|███▌      | 88/250 [00:00<00:01, 106.95it/s]\u001b[A\n",
      " 40%|███▉      | 99/250 [00:00<00:01, 106.97it/s]\u001b[A\n",
      " 44%|████▍     | 110/250 [00:01<00:01, 106.76it/s]\u001b[A\n",
      " 48%|████▊     | 121/250 [00:01<00:01, 106.94it/s]\u001b[A\n",
      " 53%|█████▎    | 132/250 [00:01<00:01, 107.25it/s]\u001b[A\n",
      " 57%|█████▋    | 143/250 [00:01<00:00, 107.37it/s]\u001b[A\n",
      " 62%|██████▏   | 154/250 [00:01<00:00, 107.57it/s]\u001b[A\n",
      " 66%|██████▌   | 165/250 [00:01<00:00, 107.62it/s]\u001b[A\n",
      " 70%|███████   | 176/250 [00:01<00:00, 107.63it/s]\u001b[A\n",
      " 75%|███████▍  | 187/250 [00:01<00:00, 107.45it/s]\u001b[A\n",
      " 79%|███████▉  | 198/250 [00:01<00:00, 107.56it/s]\u001b[A\n",
      " 84%|████████▎ | 209/250 [00:01<00:00, 107.72it/s]\u001b[A\n",
      " 88%|████████▊ | 220/250 [00:02<00:00, 107.50it/s]\u001b[A\n",
      " 92%|█████████▏| 231/250 [00:02<00:00, 107.66it/s]\u001b[A\n",
      "100%|██████████| 250/250 [00:02<00:00, 107.07it/s]\u001b[A\n"
     ]
    },
    {
     "name": "stdout",
     "output_type": "stream",
     "text": [
      "video_name: ('유튜브_자동차_0094',), inputs.shape: torch.Size([1, 250, 3, 224, 224]), labels.shape: torch.Size([1, 250])\n"
     ]
    },
    {
     "name": "stderr",
     "output_type": "stream",
     "text": [
      "\n",
      "  0%|          | 0/250 [00:00<?, ?it/s]\u001b[A\n",
      "  4%|▍         | 11/250 [00:00<00:02, 102.20it/s]\u001b[A\n",
      "  9%|▉         | 22/250 [00:00<00:02, 104.85it/s]\u001b[A\n",
      " 13%|█▎        | 33/250 [00:00<00:02, 105.83it/s]\u001b[A\n",
      " 18%|█▊        | 44/250 [00:00<00:01, 106.24it/s]\u001b[A\n",
      " 22%|██▏       | 55/250 [00:00<00:01, 106.73it/s]\u001b[A\n",
      " 26%|██▋       | 66/250 [00:00<00:01, 106.71it/s]\u001b[A\n",
      " 31%|███       | 77/250 [00:00<00:01, 107.04it/s]\u001b[A\n",
      " 35%|███▌      | 88/250 [00:00<00:01, 107.29it/s]\u001b[A\n",
      " 40%|███▉      | 99/250 [00:00<00:01, 107.36it/s]\u001b[A\n",
      " 44%|████▍     | 110/250 [00:01<00:01, 107.81it/s]\u001b[A\n",
      " 48%|████▊     | 121/250 [00:01<00:01, 107.58it/s]\u001b[A\n",
      " 53%|█████▎    | 132/250 [00:01<00:01, 107.52it/s]\u001b[A\n",
      " 57%|█████▋    | 143/250 [00:01<00:00, 107.22it/s]\u001b[A\n",
      " 62%|██████▏   | 154/250 [00:01<00:00, 107.31it/s]\u001b[A\n",
      " 66%|██████▌   | 165/250 [00:01<00:00, 107.44it/s]\u001b[A\n",
      " 70%|███████   | 176/250 [00:01<00:00, 107.60it/s]\u001b[A\n",
      " 75%|███████▍  | 187/250 [00:01<00:00, 107.58it/s]\u001b[A\n",
      " 79%|███████▉  | 198/250 [00:01<00:00, 106.99it/s]\u001b[A\n",
      " 84%|████████▎ | 209/250 [00:01<00:00, 103.86it/s]\u001b[A\n",
      " 88%|████████▊ | 220/250 [00:02<00:00, 102.55it/s]\u001b[A\n",
      " 92%|█████████▏| 231/250 [00:02<00:00, 102.93it/s]\u001b[A\n",
      "100%|██████████| 250/250 [00:02<00:00, 105.73it/s]\u001b[A\n"
     ]
    },
    {
     "name": "stdout",
     "output_type": "stream",
     "text": [
      "video_name: ('유튜브_자동차_0094',), inputs.shape: torch.Size([1, 195, 3, 224, 224]), labels.shape: torch.Size([1, 195])\n"
     ]
    },
    {
     "name": "stderr",
     "output_type": "stream",
     "text": [
      "\n",
      "  0%|          | 0/195 [00:00<?, ?it/s]\u001b[A\n",
      "  5%|▌         | 10/195 [00:00<00:01, 99.49it/s]\u001b[A\n",
      " 11%|█         | 21/195 [00:00<00:01, 103.88it/s]\u001b[A\n",
      " 16%|█▋        | 32/195 [00:00<00:01, 105.53it/s]\u001b[A\n",
      " 22%|██▏       | 43/195 [00:00<00:01, 106.33it/s]\u001b[A\n",
      " 28%|██▊       | 54/195 [00:00<00:01, 106.34it/s]\u001b[A\n",
      " 33%|███▎      | 65/195 [00:00<00:01, 106.63it/s]\u001b[A\n",
      " 39%|███▉      | 76/195 [00:00<00:01, 106.78it/s]\u001b[A\n",
      " 45%|████▍     | 87/195 [00:00<00:01, 106.97it/s]\u001b[A\n",
      " 50%|█████     | 98/195 [00:00<00:00, 106.97it/s]\u001b[A\n",
      " 56%|█████▌    | 109/195 [00:01<00:00, 107.31it/s]\u001b[A\n",
      " 62%|██████▏   | 120/195 [00:01<00:00, 107.28it/s]\u001b[A\n",
      " 67%|██████▋   | 131/195 [00:01<00:00, 107.51it/s]\u001b[A\n",
      " 73%|███████▎  | 142/195 [00:01<00:00, 107.56it/s]\u001b[A\n",
      " 78%|███████▊  | 153/195 [00:01<00:00, 107.51it/s]\u001b[A\n",
      " 84%|████████▍ | 164/195 [00:01<00:00, 107.40it/s]\u001b[A\n",
      " 90%|████████▉ | 175/195 [00:01<00:00, 107.34it/s]\u001b[A\n",
      "100%|██████████| 195/195 [00:01<00:00, 106.84it/s]\u001b[A\n"
     ]
    },
    {
     "name": "stdout",
     "output_type": "stream",
     "text": [
      "video_name: ('유튜브_반려동물및동물_2153',), inputs.shape: torch.Size([1, 250, 3, 224, 224]), labels.shape: torch.Size([1, 250])\n"
     ]
    },
    {
     "name": "stderr",
     "output_type": "stream",
     "text": [
      "\n",
      "  0%|          | 0/250 [00:00<?, ?it/s]\u001b[A\n",
      "  4%|▍         | 11/250 [00:00<00:02, 103.13it/s]\u001b[A\n",
      "  9%|▉         | 22/250 [00:00<00:02, 105.35it/s]\u001b[A\n",
      " 13%|█▎        | 33/250 [00:00<00:02, 105.93it/s]\u001b[A\n",
      " 18%|█▊        | 44/250 [00:00<00:01, 106.25it/s]\u001b[A\n",
      " 22%|██▏       | 55/250 [00:00<00:01, 106.27it/s]\u001b[A\n",
      " 26%|██▋       | 66/250 [00:00<00:01, 106.55it/s]\u001b[A\n",
      " 31%|███       | 77/250 [00:00<00:01, 106.57it/s]\u001b[A\n",
      " 35%|███▌      | 88/250 [00:00<00:01, 106.99it/s]\u001b[A\n",
      " 40%|███▉      | 99/250 [00:00<00:01, 107.31it/s]\u001b[A\n",
      " 44%|████▍     | 110/250 [00:01<00:01, 107.31it/s]\u001b[A\n",
      " 48%|████▊     | 121/250 [00:01<00:01, 107.54it/s]\u001b[A\n",
      " 53%|█████▎    | 132/250 [00:01<00:01, 107.57it/s]\u001b[A\n",
      " 57%|█████▋    | 143/250 [00:01<00:00, 107.58it/s]\u001b[A\n",
      " 62%|██████▏   | 154/250 [00:01<00:00, 107.65it/s]\u001b[A\n",
      " 66%|██████▌   | 165/250 [00:01<00:00, 107.26it/s]\u001b[A\n",
      " 70%|███████   | 176/250 [00:01<00:00, 107.24it/s]\u001b[A\n",
      " 75%|███████▍  | 187/250 [00:01<00:00, 107.43it/s]\u001b[A\n",
      " 79%|███████▉  | 198/250 [00:01<00:00, 107.04it/s]\u001b[A\n",
      " 84%|████████▎ | 209/250 [00:01<00:00, 107.26it/s]\u001b[A\n",
      " 88%|████████▊ | 220/250 [00:02<00:00, 107.30it/s]\u001b[A\n",
      " 92%|█████████▏| 231/250 [00:02<00:00, 107.37it/s]\u001b[A\n",
      "100%|██████████| 250/250 [00:02<00:00, 107.01it/s]\u001b[A\n"
     ]
    },
    {
     "name": "stdout",
     "output_type": "stream",
     "text": [
      "video_name: ('유튜브_반려동물및동물_2153',), inputs.shape: torch.Size([1, 232, 3, 224, 224]), labels.shape: torch.Size([1, 232])\n"
     ]
    },
    {
     "name": "stderr",
     "output_type": "stream",
     "text": [
      "\n",
      "  0%|          | 0/232 [00:00<?, ?it/s]\u001b[A\n",
      "  5%|▍         | 11/232 [00:00<00:02, 102.55it/s]\u001b[A\n",
      "  9%|▉         | 22/232 [00:00<00:02, 104.85it/s]\u001b[A\n",
      " 14%|█▍        | 33/232 [00:00<00:01, 105.36it/s]\u001b[A\n",
      " 19%|█▉        | 44/232 [00:00<00:01, 105.64it/s]\u001b[A\n",
      " 24%|██▎       | 55/232 [00:00<00:01, 105.90it/s]\u001b[A\n",
      " 28%|██▊       | 66/232 [00:00<00:01, 105.88it/s]\u001b[A\n",
      " 33%|███▎      | 77/232 [00:00<00:01, 105.85it/s]\u001b[A\n",
      " 38%|███▊      | 88/232 [00:00<00:01, 106.52it/s]\u001b[A\n",
      " 43%|████▎     | 99/232 [00:00<00:01, 106.94it/s]\u001b[A\n",
      " 47%|████▋     | 110/232 [00:01<00:01, 107.12it/s]\u001b[A\n",
      " 52%|█████▏    | 121/232 [00:01<00:01, 107.27it/s]\u001b[A\n",
      " 57%|█████▋    | 132/232 [00:01<00:00, 107.16it/s]\u001b[A\n",
      " 62%|██████▏   | 143/232 [00:01<00:00, 107.37it/s]\u001b[A\n",
      " 66%|██████▋   | 154/232 [00:01<00:00, 107.45it/s]\u001b[A\n",
      " 71%|███████   | 165/232 [00:01<00:00, 107.53it/s]\u001b[A\n",
      " 76%|███████▌  | 176/232 [00:01<00:00, 107.57it/s]\u001b[A\n",
      " 81%|████████  | 187/232 [00:01<00:00, 107.66it/s]\u001b[A\n",
      " 85%|████████▌ | 198/232 [00:01<00:00, 107.53it/s]\u001b[A\n",
      " 90%|█████████ | 209/232 [00:01<00:00, 107.23it/s]\u001b[A\n",
      " 95%|█████████▍| 220/232 [00:02<00:00, 107.39it/s]\u001b[A\n",
      "100%|██████████| 232/232 [00:02<00:00, 106.68it/s]\u001b[A\n"
     ]
    },
    {
     "name": "stdout",
     "output_type": "stream",
     "text": [
      "video_name: ('유튜브_음식_17341',), inputs.shape: torch.Size([1, 250, 3, 224, 224]), labels.shape: torch.Size([1, 250])\n"
     ]
    },
    {
     "name": "stderr",
     "output_type": "stream",
     "text": [
      "\n",
      "  0%|          | 0/250 [00:00<?, ?it/s]\u001b[A\n",
      "  4%|▍         | 11/250 [00:00<00:02, 103.59it/s]\u001b[A\n",
      "  9%|▉         | 22/250 [00:00<00:02, 105.06it/s]\u001b[A\n",
      " 13%|█▎        | 33/250 [00:00<00:02, 105.79it/s]\u001b[A\n",
      " 18%|█▊        | 44/250 [00:00<00:01, 105.66it/s]\u001b[A\n",
      " 22%|██▏       | 55/250 [00:00<00:01, 106.22it/s]\u001b[A\n",
      " 26%|██▋       | 66/250 [00:00<00:01, 106.23it/s]\u001b[A\n",
      " 31%|███       | 77/250 [00:00<00:01, 106.48it/s]\u001b[A\n",
      " 35%|███▌      | 88/250 [00:00<00:01, 106.75it/s]\u001b[A\n",
      " 40%|███▉      | 99/250 [00:00<00:01, 106.73it/s]\u001b[A\n",
      " 44%|████▍     | 110/250 [00:01<00:01, 107.00it/s]\u001b[A\n",
      " 48%|████▊     | 121/250 [00:01<00:01, 107.14it/s]\u001b[A\n",
      " 53%|█████▎    | 132/250 [00:01<00:01, 107.29it/s]\u001b[A\n",
      " 57%|█████▋    | 143/250 [00:01<00:00, 107.11it/s]\u001b[A\n",
      " 62%|██████▏   | 154/250 [00:01<00:00, 107.27it/s]\u001b[A\n",
      " 66%|██████▌   | 165/250 [00:01<00:00, 107.32it/s]\u001b[A\n",
      " 70%|███████   | 176/250 [00:01<00:00, 107.28it/s]\u001b[A\n",
      " 75%|███████▍  | 187/250 [00:01<00:00, 107.36it/s]\u001b[A\n",
      " 79%|███████▉  | 198/250 [00:01<00:00, 107.28it/s]\u001b[A\n",
      " 84%|████████▎ | 209/250 [00:01<00:00, 107.41it/s]\u001b[A\n",
      " 88%|████████▊ | 220/250 [00:02<00:00, 107.51it/s]\u001b[A\n",
      " 92%|█████████▏| 231/250 [00:02<00:00, 107.67it/s]\u001b[A\n",
      "100%|██████████| 250/250 [00:02<00:00, 106.92it/s]\u001b[A\n"
     ]
    },
    {
     "name": "stdout",
     "output_type": "stream",
     "text": [
      "video_name: ('유튜브_음식_17341',), inputs.shape: torch.Size([1, 250, 3, 224, 224]), labels.shape: torch.Size([1, 250])\n"
     ]
    },
    {
     "name": "stderr",
     "output_type": "stream",
     "text": [
      "\n",
      "  0%|          | 0/250 [00:00<?, ?it/s]\u001b[A\n",
      "  4%|▍         | 11/250 [00:00<00:02, 103.01it/s]\u001b[A\n",
      "  9%|▉         | 22/250 [00:00<00:02, 105.08it/s]\u001b[A\n",
      " 13%|█▎        | 33/250 [00:00<00:02, 105.71it/s]\u001b[A\n",
      " 18%|█▊        | 44/250 [00:00<00:01, 106.15it/s]\u001b[A\n",
      " 22%|██▏       | 55/250 [00:00<00:01, 106.01it/s]\u001b[A\n",
      " 26%|██▋       | 66/250 [00:00<00:01, 106.21it/s]\u001b[A\n",
      " 31%|███       | 77/250 [00:00<00:01, 106.37it/s]\u001b[A\n",
      " 35%|███▌      | 88/250 [00:00<00:01, 106.79it/s]\u001b[A\n",
      " 40%|███▉      | 99/250 [00:00<00:01, 106.99it/s]\u001b[A\n",
      " 44%|████▍     | 110/250 [00:01<00:01, 107.10it/s]\u001b[A\n",
      " 48%|████▊     | 121/250 [00:01<00:01, 106.86it/s]\u001b[A\n",
      " 53%|█████▎    | 132/250 [00:01<00:01, 106.95it/s]\u001b[A\n",
      " 57%|█████▋    | 143/250 [00:01<00:00, 107.14it/s]\u001b[A\n",
      " 62%|██████▏   | 154/250 [00:01<00:00, 107.20it/s]\u001b[A\n",
      " 66%|██████▌   | 165/250 [00:01<00:00, 107.32it/s]\u001b[A\n",
      " 70%|███████   | 176/250 [00:01<00:00, 107.34it/s]\u001b[A\n",
      " 75%|███████▍  | 187/250 [00:01<00:00, 107.38it/s]\u001b[A\n",
      " 79%|███████▉  | 198/250 [00:01<00:00, 107.52it/s]\u001b[A\n",
      " 84%|████████▎ | 209/250 [00:01<00:00, 107.06it/s]\u001b[A\n",
      " 88%|████████▊ | 220/250 [00:02<00:00, 107.01it/s]\u001b[A\n",
      " 92%|█████████▏| 231/250 [00:02<00:00, 107.19it/s]\u001b[A\n",
      "100%|██████████| 250/250 [00:02<00:00, 106.83it/s]\u001b[A\n"
     ]
    },
    {
     "name": "stdout",
     "output_type": "stream",
     "text": [
      "video_name: ('유튜브_음식_17341',), inputs.shape: torch.Size([1, 250, 3, 224, 224]), labels.shape: torch.Size([1, 250])\n"
     ]
    },
    {
     "name": "stderr",
     "output_type": "stream",
     "text": [
      "\n",
      "  0%|          | 0/250 [00:00<?, ?it/s]\u001b[A\n",
      "  4%|▍         | 10/250 [00:00<00:02, 98.84it/s]\u001b[A\n",
      "  8%|▊         | 21/250 [00:00<00:02, 103.78it/s]\u001b[A\n",
      " 13%|█▎        | 32/250 [00:00<00:02, 105.28it/s]\u001b[A\n",
      " 17%|█▋        | 43/250 [00:00<00:01, 106.31it/s]\u001b[A\n",
      " 22%|██▏       | 54/250 [00:00<00:01, 106.54it/s]\u001b[A\n",
      " 26%|██▌       | 65/250 [00:00<00:01, 106.38it/s]\u001b[A\n",
      " 30%|███       | 76/250 [00:00<00:01, 106.46it/s]\u001b[A\n",
      " 35%|███▍      | 87/250 [00:00<00:01, 107.00it/s]\u001b[A\n",
      " 39%|███▉      | 98/250 [00:00<00:01, 107.06it/s]\u001b[A\n",
      " 44%|████▎     | 109/250 [00:01<00:01, 107.14it/s]\u001b[A\n",
      " 48%|████▊     | 120/250 [00:01<00:01, 107.17it/s]\u001b[A\n",
      " 52%|█████▏    | 131/250 [00:01<00:01, 107.20it/s]\u001b[A\n",
      " 57%|█████▋    | 142/250 [00:01<00:01, 107.36it/s]\u001b[A\n",
      " 61%|██████    | 153/250 [00:01<00:00, 107.64it/s]\u001b[A\n",
      " 66%|██████▌   | 164/250 [00:01<00:00, 107.31it/s]\u001b[A\n",
      " 70%|███████   | 175/250 [00:01<00:00, 107.21it/s]\u001b[A\n",
      " 74%|███████▍  | 186/250 [00:01<00:00, 107.33it/s]\u001b[A\n",
      " 79%|███████▉  | 197/250 [00:01<00:00, 107.33it/s]\u001b[A\n",
      " 83%|████████▎ | 208/250 [00:01<00:00, 107.18it/s]\u001b[A\n",
      " 88%|████████▊ | 219/250 [00:02<00:00, 107.36it/s]\u001b[A\n",
      " 92%|█████████▏| 230/250 [00:02<00:00, 107.19it/s]\u001b[A\n",
      "100%|██████████| 250/250 [00:02<00:00, 106.83it/s]\u001b[A\n"
     ]
    },
    {
     "name": "stdout",
     "output_type": "stream",
     "text": [
      "video_name: ('유튜브_음식_17341',), inputs.shape: torch.Size([1, 250, 3, 224, 224]), labels.shape: torch.Size([1, 250])\n"
     ]
    },
    {
     "name": "stderr",
     "output_type": "stream",
     "text": [
      "\n",
      "  0%|          | 0/250 [00:00<?, ?it/s]\u001b[A\n",
      "  4%|▍         | 11/250 [00:00<00:02, 101.79it/s]\u001b[A\n",
      "  9%|▉         | 22/250 [00:00<00:02, 104.65it/s]\u001b[A\n",
      " 13%|█▎        | 33/250 [00:00<00:02, 105.93it/s]\u001b[A\n",
      " 18%|█▊        | 44/250 [00:00<00:01, 106.17it/s]\u001b[A\n",
      " 22%|██▏       | 55/250 [00:00<00:01, 106.00it/s]\u001b[A\n",
      " 26%|██▋       | 66/250 [00:00<00:01, 106.39it/s]\u001b[A\n",
      " 31%|███       | 77/250 [00:00<00:01, 106.51it/s]\u001b[A\n",
      " 35%|███▌      | 88/250 [00:00<00:01, 106.89it/s]\u001b[A\n",
      " 40%|███▉      | 99/250 [00:00<00:01, 107.01it/s]\u001b[A\n",
      " 44%|████▍     | 110/250 [00:01<00:01, 107.26it/s]\u001b[A\n",
      " 48%|████▊     | 121/250 [00:01<00:01, 107.46it/s]\u001b[A\n",
      " 53%|█████▎    | 132/250 [00:01<00:01, 107.31it/s]\u001b[A\n",
      " 57%|█████▋    | 143/250 [00:01<00:00, 107.48it/s]\u001b[A\n",
      " 62%|██████▏   | 154/250 [00:01<00:00, 106.99it/s]\u001b[A\n",
      " 66%|██████▌   | 165/250 [00:01<00:00, 106.66it/s]\u001b[A\n",
      " 70%|███████   | 176/250 [00:01<00:00, 106.05it/s]\u001b[A\n",
      " 75%|███████▍  | 187/250 [00:01<00:00, 106.01it/s]\u001b[A\n",
      " 79%|███████▉  | 198/250 [00:01<00:00, 105.83it/s]\u001b[A\n",
      " 84%|████████▎ | 209/250 [00:01<00:00, 105.70it/s]\u001b[A\n",
      " 88%|████████▊ | 220/250 [00:02<00:00, 105.62it/s]\u001b[A\n",
      " 92%|█████████▏| 231/250 [00:02<00:00, 105.35it/s]\u001b[A\n",
      "100%|██████████| 250/250 [00:02<00:00, 105.98it/s]\u001b[A\n"
     ]
    },
    {
     "name": "stdout",
     "output_type": "stream",
     "text": [
      "video_name: ('유튜브_음식_17341',), inputs.shape: torch.Size([1, 250, 3, 224, 224]), labels.shape: torch.Size([1, 250])\n"
     ]
    },
    {
     "name": "stderr",
     "output_type": "stream",
     "text": [
      "\n",
      "  0%|          | 0/250 [00:00<?, ?it/s]\u001b[A\n",
      "  4%|▍         | 11/250 [00:00<00:02, 101.53it/s]\u001b[A\n",
      "  9%|▉         | 22/250 [00:00<00:02, 104.26it/s]\u001b[A\n",
      " 13%|█▎        | 33/250 [00:00<00:02, 105.49it/s]\u001b[A\n",
      " 18%|█▊        | 44/250 [00:00<00:01, 105.68it/s]\u001b[A\n",
      " 22%|██▏       | 55/250 [00:00<00:01, 106.37it/s]\u001b[A\n",
      " 26%|██▋       | 66/250 [00:00<00:01, 106.58it/s]\u001b[A\n",
      " 31%|███       | 77/250 [00:00<00:01, 106.70it/s]\u001b[A\n",
      " 35%|███▌      | 88/250 [00:00<00:01, 106.90it/s]\u001b[A\n",
      " 40%|███▉      | 99/250 [00:00<00:01, 107.07it/s]\u001b[A\n",
      " 44%|████▍     | 110/250 [00:01<00:01, 107.09it/s]\u001b[A\n",
      " 48%|████▊     | 121/250 [00:01<00:01, 107.28it/s]\u001b[A\n",
      " 53%|█████▎    | 132/250 [00:01<00:01, 107.10it/s]\u001b[A\n",
      " 57%|█████▋    | 143/250 [00:01<00:00, 107.41it/s]\u001b[A\n",
      " 62%|██████▏   | 154/250 [00:01<00:00, 107.40it/s]\u001b[A\n",
      " 66%|██████▌   | 165/250 [00:01<00:00, 107.40it/s]\u001b[A\n",
      " 70%|███████   | 176/250 [00:01<00:00, 107.55it/s]\u001b[A\n",
      " 75%|███████▍  | 187/250 [00:01<00:00, 107.34it/s]\u001b[A\n",
      " 79%|███████▉  | 198/250 [00:01<00:00, 107.37it/s]\u001b[A\n",
      " 84%|████████▎ | 209/250 [00:01<00:00, 107.44it/s]\u001b[A\n",
      " 88%|████████▊ | 220/250 [00:02<00:00, 107.47it/s]\u001b[A\n",
      " 92%|█████████▏| 231/250 [00:02<00:00, 107.37it/s]\u001b[A\n",
      "100%|██████████| 250/250 [00:02<00:00, 106.94it/s]\u001b[A\n"
     ]
    },
    {
     "name": "stdout",
     "output_type": "stream",
     "text": [
      "video_name: ('유튜브_음식_17341',), inputs.shape: torch.Size([1, 67, 3, 224, 224]), labels.shape: torch.Size([1, 67])\n"
     ]
    },
    {
     "name": "stderr",
     "output_type": "stream",
     "text": [
      "\n",
      "  0%|          | 0/67 [00:00<?, ?it/s]\u001b[A\n",
      " 16%|█▋        | 11/67 [00:00<00:00, 103.40it/s]\u001b[A\n",
      " 33%|███▎      | 22/67 [00:00<00:00, 106.19it/s]\u001b[A\n",
      " 49%|████▉     | 33/67 [00:00<00:00, 106.74it/s]\u001b[A\n",
      " 66%|██████▌   | 44/67 [00:00<00:00, 106.66it/s]\u001b[A\n",
      " 82%|████████▏ | 55/67 [00:00<00:00, 106.72it/s]\u001b[A\n",
      "100%|██████████| 67/67 [00:00<00:00, 106.00it/s]\u001b[A\n"
     ]
    }
   ],
   "source": [
    "from tqdm.notebook import tqdm_notebook\n",
    "\n",
    "d = SummaryDataset(args.videos, args.data_directory, args.video_features_file)\n",
    "dl = DataLoader(d, batch_size=1)\n",
    "\n",
    "vit_features = []\n",
    "y_pred=[]\n",
    "\n",
    "for video_name, inputs, labels in tqdm_notebook(dl,total=len(dl), desc='Processing dataset' ):\n",
    "    with torch.no_grad():\n",
    "        model.eval()\n",
    "        y_pred_list = []\n",
    "        vit_features_list=[]\n",
    "        print(f'video_name: {video_name}, inputs.shape: {inputs.shape}, labels.shape: {labels.shape}')\n",
    "        for f in tqdm(inputs.squeeze(0)):\n",
    "#             print(f.unsqueeze(0).shape)\n",
    "        #     print(frame.unsqueeze(0).shape)\n",
    "            y_p, y_f = model(f.cuda().unsqueeze(0))\n",
    "#            print(y_f.shape)\n",
    "#             print(y_f.cpu().detach().numpy().shape)\n",
    "            y_p = torch.sigmoid(y_p)\n",
    "            y_pred_list.append(y_p.cpu().detach().numpy().squeeze())    \n",
    "            vit_features_list.append(y_f.cpu().detach().numpy().squeeze())        \n",
    "        y_pred.append(np.array(y_pred_list))    \n",
    "        vit_features.append(np.array(vit_features_list)) \n",
    "y_pred = np.array(y_pred)"
   ]
  },
  {
   "cell_type": "code",
   "execution_count": 178,
   "metadata": {},
   "outputs": [],
   "source": [
    "vit_features = [torch.tensor(a) for a in vit_features]"
   ]
  },
  {
   "cell_type": "code",
   "execution_count": 179,
   "metadata": {},
   "outputs": [
    {
     "data": {
      "text/plain": [
       "[tensor([[ 0.3657, -0.5553, -0.6734,  ...,  0.3182, -0.3054, -0.0409],\n",
       "         [-0.0605, -0.4531, -0.7279,  ...,  0.2190, -0.4074,  0.1458],\n",
       "         [-0.1821, -0.5016, -0.6912,  ...,  0.0088, -0.4518,  0.0636],\n",
       "         ...,\n",
       "         [ 0.1141, -0.3323, -0.6371,  ...,  0.5243,  0.3008,  0.3631],\n",
       "         [ 0.1662, -0.2568, -0.7158,  ...,  0.4472,  0.1646,  0.2294],\n",
       "         [ 0.1062, -0.2085, -0.7234,  ...,  0.4424,  0.2549,  0.2020]]),\n",
       " tensor([[ 0.2073, -0.3905, -0.6590,  ...,  0.3863,  0.3534,  0.1935],\n",
       "         [ 0.3785, -0.6881, -0.5155,  ...,  0.5178, -0.0008, -0.0515],\n",
       "         [ 0.3220, -0.5566, -0.2910,  ...,  0.2623,  0.3088,  0.3238],\n",
       "         ...,\n",
       "         [ 0.0114, -0.4992, -0.6723,  ...,  0.3997, -0.1041, -0.0627],\n",
       "         [ 0.0619, -0.3843, -0.6765,  ...,  0.3933,  0.0124, -0.1047],\n",
       "         [ 0.1660, -0.5196, -0.7116,  ...,  0.4666,  0.1052, -0.0909]]),\n",
       " tensor([[-1.1717e-01, -3.9073e-01, -6.6894e-01,  ...,  2.6184e-01,\n",
       "           8.8164e-02, -2.2633e-01],\n",
       "         [ 1.8046e-02, -3.4640e-01, -6.4902e-01,  ...,  3.8356e-01,\n",
       "           1.0796e-01, -1.1575e-01],\n",
       "         [ 1.0219e-01, -4.3507e-01, -7.0584e-01,  ...,  3.6760e-01,\n",
       "           6.6669e-02, -3.5304e-04],\n",
       "         ...,\n",
       "         [ 6.9406e-01,  8.4032e-02, -5.2955e-02,  ...,  4.8355e-01,\n",
       "           1.5388e-01,  2.0592e-01],\n",
       "         [ 5.7719e-01,  5.5499e-02, -1.5875e-01,  ...,  5.6988e-01,\n",
       "           7.4952e-02,  2.1453e-01],\n",
       "         [ 1.6191e-02, -1.1951e-01, -4.8306e-01,  ...,  3.1179e-01,\n",
       "           1.6119e-01,  1.4287e-02]]),\n",
       " tensor([[ 0.3253, -0.4068, -0.5932,  ...,  0.4511,  0.2966,  0.2575],\n",
       "         [ 0.3468, -0.3645, -0.5076,  ...,  0.3602,  0.3333,  0.0390],\n",
       "         [ 0.3490, -0.3644, -0.5067,  ...,  0.3583,  0.3352,  0.0534],\n",
       "         ...,\n",
       "         [ 0.3666, -0.4237, -0.6296,  ...,  0.3894,  0.1329,  0.3337],\n",
       "         [ 0.3632, -0.4243, -0.6344,  ...,  0.3907,  0.1324,  0.3426],\n",
       "         [ 0.3692, -0.4340, -0.6415,  ...,  0.3839,  0.1286,  0.3331]]),\n",
       " tensor([[ 0.3804, -0.4285, -0.6346,  ...,  0.3807,  0.1119,  0.3285],\n",
       "         [ 0.3760, -0.4218, -0.6371,  ...,  0.3960,  0.1381,  0.3505],\n",
       "         [ 0.3558, -0.4266, -0.6381,  ...,  0.3903,  0.1389,  0.3591],\n",
       "         ...,\n",
       "         [ 0.4356, -0.4128, -0.6085,  ...,  0.4549,  0.3991,  0.3437],\n",
       "         [ 0.4499, -0.4325, -0.6046,  ...,  0.4663,  0.4249,  0.2911],\n",
       "         [ 0.4319, -0.4038, -0.6049,  ...,  0.4683,  0.4013,  0.3470]]),\n",
       " tensor([[ 0.4530, -0.3984, -0.5934,  ...,  0.4586,  0.3760,  0.3497],\n",
       "         [ 0.4531, -0.3868, -0.6000,  ...,  0.4729,  0.3987,  0.3568],\n",
       "         [ 0.4456, -0.4398, -0.6063,  ...,  0.4561,  0.4206,  0.2955],\n",
       "         ...,\n",
       "         [ 0.3565, -0.4022, -0.5644,  ...,  0.4408,  0.2443,  0.1636],\n",
       "         [ 0.3130, -0.3928, -0.6150,  ...,  0.4311,  0.2664,  0.2501],\n",
       "         [ 0.3842, -0.3645, -0.5616,  ...,  0.5110,  0.3080,  0.2193]]),\n",
       " tensor([[ 0.3878, -0.3819, -0.5383,  ...,  0.5052,  0.2938,  0.1810],\n",
       "         [ 0.3324, -0.3936, -0.5577,  ...,  0.4757,  0.2384,  0.1674],\n",
       "         [ 0.3177, -0.3401, -0.5330,  ...,  0.4926,  0.2917,  0.2422],\n",
       "         ...,\n",
       "         [ 0.2841, -0.2486, -0.6963,  ...,  0.4601,  0.3224,  0.3677],\n",
       "         [ 0.2878, -0.2558, -0.7010,  ...,  0.4570,  0.3590,  0.3410],\n",
       "         [ 0.2375, -0.2461, -0.6619,  ...,  0.4245,  0.3835,  0.3336]]),\n",
       " tensor([[ 0.0897, -0.5725, -0.5552,  ...,  0.2860, -0.3259,  0.4412],\n",
       "         [ 0.4355, -0.5282, -0.3292,  ...,  0.5148, -0.3708, -0.0433],\n",
       "         [ 0.5345, -0.4009, -0.4651,  ...,  0.4661, -0.0185, -0.0438],\n",
       "         ...,\n",
       "         [ 0.0060, -0.8183, -0.7698,  ..., -0.1566,  0.6287,  0.0082],\n",
       "         [-0.0318, -0.8115, -0.6323,  ...,  0.1073,  0.5890,  0.1373],\n",
       "         [ 0.2014, -0.6561, -0.2209,  ..., -0.1161,  0.4123,  0.0563]]),\n",
       " tensor([[ 0.0503, -0.5309, -0.6031,  ...,  0.2458,  0.2733, -0.1774],\n",
       "         [ 0.1171, -0.4127, -0.5065,  ...,  0.4079,  0.1909, -0.2697],\n",
       "         [ 0.0402, -0.4510, -0.3526,  ...,  0.3333,  0.2425, -0.4044],\n",
       "         ...,\n",
       "         [ 0.0935, -0.6328, -0.4383,  ...,  0.1684,  0.4418,  0.1009],\n",
       "         [ 0.2130, -0.6087, -0.5615,  ...,  0.2298,  0.0047,  0.1911],\n",
       "         [-0.0052, -0.5156, -0.5195,  ...,  0.2178,  0.3375,  0.2776]]),\n",
       " tensor([[-0.0035, -0.7148, -0.4781,  ...,  0.1203,  0.3331, -0.1768],\n",
       "         [ 0.1508, -0.4382, -0.5818,  ...,  0.3275,  0.2699,  0.1161],\n",
       "         [ 0.3457, -0.4990, -0.4263,  ...,  0.2761,  0.4890,  0.2757],\n",
       "         ...,\n",
       "         [ 0.1052, -0.4600, -0.6411,  ...,  0.4929,  0.0462,  0.2774],\n",
       "         [ 0.2270, -0.3573, -0.6020,  ...,  0.5429,  0.1600,  0.1774],\n",
       "         [ 0.2028, -0.3933, -0.6414,  ...,  0.5162,  0.1162,  0.2080]]),\n",
       " tensor([[ 0.1301, -0.4000, -0.6200,  ...,  0.4925,  0.0840,  0.2190],\n",
       "         [ 0.0463, -0.4506, -0.6371,  ...,  0.4822, -0.0259,  0.2446],\n",
       "         [ 0.2586, -0.4218, -0.6438,  ...,  0.5058,  0.0825,  0.1782],\n",
       "         ...,\n",
       "         [ 0.3883, -0.5690, -0.6048,  ...,  0.3152, -0.4803, -0.1025],\n",
       "         [ 0.4521, -0.2559, -0.2961,  ...,  0.3294,  0.1153,  0.1513],\n",
       "         [ 0.5484, -0.4205, -0.4488,  ...,  0.2665, -0.3041,  0.0883]]),\n",
       " tensor([[ 0.4477, -0.2589, -0.3807,  ...,  0.2646,  0.0074,  0.2097],\n",
       "         [ 0.4946, -0.3500, -0.3807,  ...,  0.2386, -0.1785,  0.1422],\n",
       "         [ 0.4423, -0.6189, -0.5584,  ...,  0.4247, -0.1377,  0.1273],\n",
       "         ...,\n",
       "         [ 0.2976, -0.5134, -0.3842,  ...,  0.4855, -0.2318,  0.0893],\n",
       "         [ 0.3695, -0.3654, -0.4900,  ...,  0.3201,  0.0206, -0.2601],\n",
       "         [ 0.3474, -0.4007, -0.3438,  ...,  0.3753, -0.0941, -0.3216]]),\n",
       " tensor([[-0.0239, -0.0704, -0.5028,  ...,  0.3010,  0.1828,  0.0227],\n",
       "         [ 0.1443, -0.5516, -0.6764,  ...,  0.3454,  0.1125,  0.1433],\n",
       "         [ 0.1437, -0.1156, -0.4108,  ...,  0.5185,  0.1714,  0.0421],\n",
       "         ...,\n",
       "         [-0.1254, -0.4722, -0.5429,  ...,  0.5060,  0.2548, -0.1170],\n",
       "         [-0.1092, -0.5392, -0.5345,  ...,  0.5419,  0.2574, -0.0125],\n",
       "         [-0.1036, -0.5147, -0.5337,  ...,  0.4757,  0.3455,  0.0855]]),\n",
       " tensor([[ 0.0900, -0.3016, -0.6761,  ...,  0.5547,  0.3578,  0.5256],\n",
       "         [ 0.2039, -0.5713, -0.2997,  ...,  0.5315,  0.3220, -0.0768],\n",
       "         [ 0.1525, -0.5138, -0.3346,  ...,  0.5568,  0.3925,  0.0126],\n",
       "         ...,\n",
       "         [ 0.0377, -0.5541, -0.2461,  ...,  0.6124,  0.5825,  0.0052],\n",
       "         [ 0.1407, -0.4142, -0.1709,  ...,  0.5780,  0.5258,  0.1318],\n",
       "         [ 0.1703, -0.5471, -0.3461,  ...,  0.6859,  0.5795,  0.1886]]),\n",
       " tensor([[ 0.0360, -0.5074, -0.3350,  ...,  0.3795,  0.5650,  0.0738],\n",
       "         [ 0.1263, -0.4388, -0.3293,  ...,  0.3841,  0.5029,  0.0329],\n",
       "         [ 0.2307, -0.1939, -0.2092,  ...,  0.4008,  0.4197,  0.1098],\n",
       "         ...,\n",
       "         [ 0.0994, -0.0522, -0.2126,  ...,  0.1975,  0.5270,  0.0984],\n",
       "         [ 0.0862, -0.0283, -0.3163,  ...,  0.4049,  0.6013,  0.0953],\n",
       "         [-0.0058, -0.0787, -0.3868,  ...,  0.3873,  0.6644,  0.0888]]),\n",
       " tensor([[ 0.1834, -0.1278, -0.1606,  ...,  0.3349,  0.8329,  0.1813],\n",
       "         [ 0.0837, -0.1808, -0.3499,  ...,  0.3871,  0.6390,  0.0347],\n",
       "         [ 0.2264, -0.0543, -0.3368,  ...,  0.3657,  0.6805,  0.1637],\n",
       "         ...,\n",
       "         [ 0.1078, -0.2944, -0.3847,  ...,  0.1631,  0.4247,  0.0192],\n",
       "         [ 0.1800, -0.3227, -0.4145,  ...,  0.1925,  0.3243,  0.0219],\n",
       "         [-0.0226, -0.3575, -0.3912,  ...,  0.2094,  0.3126,  0.0483]]),\n",
       " tensor([[ 0.1576, -0.4010, -0.4358,  ...,  0.3006,  0.3101,  0.0128],\n",
       "         [ 0.0810, -0.3727, -0.4485,  ...,  0.3753,  0.4257,  0.0722],\n",
       "         [ 0.0185, -0.3921, -0.4296,  ...,  0.3141,  0.4342,  0.0885],\n",
       "         ...,\n",
       "         [ 0.2127, -0.3691, -0.0636,  ...,  0.3888,  0.5627, -0.0457],\n",
       "         [ 0.0846, -0.3175, -0.4932,  ...,  0.5310,  0.5782,  0.2995],\n",
       "         [ 0.1457, -0.2627, -0.4543,  ...,  0.3802,  0.5495,  0.2314]]),\n",
       " tensor([[ 0.1335, -0.2734, -0.4463,  ...,  0.3488,  0.5546,  0.1942],\n",
       "         [ 0.1351, -0.3357, -0.3678,  ...,  0.3189,  0.5625,  0.1934],\n",
       "         [ 0.1255, -0.3453, -0.3600,  ...,  0.2387,  0.6237,  0.1098],\n",
       "         ...,\n",
       "         [ 0.1550, -0.1041, -0.2104,  ...,  0.2283,  0.5606,  0.2300],\n",
       "         [ 0.1008, -0.1765, -0.2395,  ...,  0.1892,  0.6634,  0.2193],\n",
       "         [ 0.1563,  0.0052, -0.2123,  ...,  0.3297,  0.5212,  0.1721]]),\n",
       " tensor([[ 0.4313, -0.1202, -0.2714,  ...,  0.2438,  0.3935,  0.0104],\n",
       "         [ 0.4741, -0.1085, -0.2708,  ...,  0.2339,  0.3266,  0.1255],\n",
       "         [ 0.1722, -0.4018, -0.2847,  ...,  0.4232,  0.0719, -0.0109],\n",
       "         ...,\n",
       "         [ 0.2501, -0.0795, -0.3342,  ...,  0.3179,  0.4223,  0.0422],\n",
       "         [ 0.3640, -0.1368, -0.2669,  ...,  0.3355,  0.3810, -0.0804],\n",
       "         [ 0.2540, -0.0265, -0.2766,  ...,  0.3425,  0.4358, -0.0459]]),\n",
       " tensor([[ 0.3669, -0.1481, -0.3620,  ...,  0.3883,  0.4763, -0.0188],\n",
       "         [ 0.2116, -0.0558, -0.3192,  ...,  0.3659,  0.5096, -0.1239],\n",
       "         [ 0.1917, -0.0926, -0.3320,  ...,  0.3809,  0.4908, -0.1538],\n",
       "         ...,\n",
       "         [ 0.2569, -0.2899, -0.2715,  ...,  0.4854,  0.1064,  0.1045],\n",
       "         [ 0.3468, -0.1863, -0.2602,  ...,  0.2973,  0.4070, -0.0393],\n",
       "         [ 0.3468, -0.1863, -0.2603,  ...,  0.2972,  0.4070, -0.0394]]),\n",
       " tensor([[ 0.2046, -0.4014, -0.3749,  ...,  0.3395,  0.1760, -0.1564],\n",
       "         [ 0.1902, -0.4263, -0.3765,  ...,  0.3325,  0.1624, -0.2180],\n",
       "         [ 0.2345, -0.4590, -0.4787,  ...,  0.2999,  0.0577, -0.0160],\n",
       "         ...,\n",
       "         [ 0.1875, -0.2799, -0.4239,  ...,  0.4826,  0.1858, -0.0839],\n",
       "         [ 0.3540, -0.2430, -0.6565,  ...,  0.6834,  0.1764, -0.3269],\n",
       "         [ 0.3128, -0.4011, -0.6035,  ...,  0.6545,  0.3629, -0.4068]]),\n",
       " tensor([[ 0.3044, -0.2797, -0.5341,  ...,  0.3791,  0.3661, -0.0744],\n",
       "         [ 0.2683, -0.3024, -0.4642,  ...,  0.3511,  0.3573, -0.0671],\n",
       "         [ 0.3269, -0.4580, -0.4224,  ...,  0.5031,  0.1104,  0.2017],\n",
       "         ...,\n",
       "         [ 0.3035, -0.5398, -0.4635,  ...,  0.0941,  0.3395, -0.2511],\n",
       "         [ 0.3275, -0.5133, -0.4911,  ...,  0.1574,  0.3216, -0.2356],\n",
       "         [ 0.2475, -0.4865, -0.5023,  ...,  0.2177,  0.3326, -0.1985]]),\n",
       " tensor([[ 0.1241, -0.4536, -0.5659,  ...,  0.4281, -0.2166, -0.4586],\n",
       "         [ 0.3032, -0.4346, -0.5868,  ...,  0.4335, -0.1366, -0.2448],\n",
       "         [ 0.2797, -0.4238, -0.5649,  ...,  0.4670, -0.1598, -0.3117],\n",
       "         ...,\n",
       "         [ 0.2065, -0.1331, -0.5478,  ...,  0.4301, -0.0895, -0.0699],\n",
       "         [ 0.1942, -0.1566, -0.5721,  ...,  0.4413, -0.0984, -0.0153],\n",
       "         [ 0.0638, -0.0417, -0.5306,  ...,  0.4193,  0.3218, -0.0628]]),\n",
       " tensor([[ 0.1093, -0.0756, -0.3173,  ...,  0.4020,  0.3333, -0.0237],\n",
       "         [ 0.1269, -0.0089, -0.2639,  ...,  0.4044,  0.2184, -0.0546],\n",
       "         [ 0.1378, -0.0904, -0.2610,  ...,  0.4861,  0.4513, -0.0013],\n",
       "         ...,\n",
       "         [ 0.4608, -0.2571, -0.2979,  ...,  0.3787,  0.4015,  0.2328],\n",
       "         [ 0.3814, -0.0764, -0.2022,  ...,  0.6607,  0.6815, -0.1754],\n",
       "         [ 0.4220, -0.2832, -0.1175,  ...,  0.3480,  0.5968, -0.0647]]),\n",
       " tensor([[ 0.4064, -0.1695, -0.1667,  ...,  0.4602,  0.6481, -0.0050],\n",
       "         [ 0.3429, -0.2052, -0.2225,  ...,  0.4751,  0.6389,  0.1709],\n",
       "         [ 0.2553, -0.3224, -0.3502,  ...,  0.6051,  0.0979, -0.0083],\n",
       "         ...,\n",
       "         [ 0.6470, -0.4855, -0.4787,  ...,  0.3369, -0.0351,  0.1473],\n",
       "         [ 0.6459, -0.4873, -0.4782,  ...,  0.3369, -0.0363,  0.1453],\n",
       "         [ 0.6373, -0.4740, -0.4644,  ...,  0.3445, -0.0722,  0.1424]]),\n",
       " tensor([[-0.1219, -0.4147, -0.4086,  ...,  0.2167,  0.6221, -0.1309],\n",
       "         [-0.0447, -0.1329, -0.4317,  ...,  0.2918,  0.6374, -0.1569],\n",
       "         [-0.1080, -0.1915, -0.4756,  ...,  0.2395,  0.5258, -0.2272],\n",
       "         ...,\n",
       "         [ 0.2229, -0.2745, -0.3980,  ...,  0.3014,  0.4938,  0.0148],\n",
       "         [ 0.3652, -0.3097, -0.5844,  ...,  0.5058,  0.1419, -0.0252],\n",
       "         [ 0.5106, -0.5291, -0.6617,  ...,  0.2241,  0.0628, -0.1785]]),\n",
       " tensor([[ 0.0875, -0.3013, -0.3869,  ...,  0.4392,  0.4194,  0.0575],\n",
       "         [ 0.1040, -0.3324, -0.4326,  ...,  0.5323,  0.2828,  0.0111],\n",
       "         [ 0.0880, -0.3060, -0.4505,  ...,  0.5865,  0.5162,  0.0532],\n",
       "         ...,\n",
       "         [ 0.0530, -0.4078, -0.4251,  ...,  0.5420,  0.2040, -0.2499],\n",
       "         [ 0.0227, -0.3648, -0.3555,  ...,  0.4092,  0.2277, -0.1841],\n",
       "         [ 0.0100, -0.3996, -0.5551,  ...,  0.4632,  0.3269, -0.1994]]),\n",
       " tensor([[ 0.0387, -0.3975, -0.5046,  ...,  0.4520,  0.1724, -0.2861],\n",
       "         [-0.0228, -0.4022, -0.4034,  ...,  0.4249,  0.1121, -0.2451],\n",
       "         [-0.1172, -0.2086, -0.2410,  ...,  0.4217,  0.2115, -0.1851],\n",
       "         ...,\n",
       "         [ 0.1177, -0.3782, -0.2311,  ...,  0.3706,  0.5691, -0.0013],\n",
       "         [ 0.0184, -0.3203, -0.2100,  ...,  0.3350,  0.3379, -0.2589],\n",
       "         [ 0.0470, -0.2942, -0.2566,  ...,  0.2447,  0.4283, -0.1422]]),\n",
       " tensor([[ 1.6473e-01, -3.6256e-01, -1.3723e-01,  ...,  2.5914e-01,\n",
       "           5.3956e-01, -1.1997e-01],\n",
       "         [ 1.2882e-01, -3.3674e-01, -3.4293e-01,  ...,  4.1501e-01,\n",
       "           2.4418e-01,  2.3337e-01],\n",
       "         [-6.1046e-02, -2.4779e-01, -4.0574e-04,  ...,  5.0629e-01,\n",
       "           4.2748e-01,  4.1376e-03],\n",
       "         ...,\n",
       "         [ 2.7291e-01, -2.9857e-01, -5.2627e-01,  ...,  4.6365e-01,\n",
       "           4.1486e-01, -5.5857e-04],\n",
       "         [ 2.5417e-01, -2.4532e-01, -3.6899e-01,  ...,  3.0246e-01,\n",
       "           3.9925e-01,  5.0151e-02],\n",
       "         [ 2.3277e-01, -2.2107e-01, -3.8102e-01,  ...,  3.8439e-01,\n",
       "           3.5759e-01,  2.0252e-02]]),\n",
       " tensor([[ 0.3857, -0.1636, -0.4615,  ...,  0.4348,  0.5464,  0.0350],\n",
       "         [ 0.3026, -0.3493, -0.5660,  ...,  0.4225,  0.2898,  0.1555],\n",
       "         [ 0.3012, -0.2297, -0.5272,  ...,  0.4059,  0.3383,  0.1681],\n",
       "         ...,\n",
       "         [ 0.2269, -0.0445, -0.3356,  ...,  0.0353,  0.3553,  0.2904],\n",
       "         [ 0.3114, -0.1605, -0.3586,  ...,  0.0053,  0.3935,  0.3316],\n",
       "         [ 0.3753, -0.3295, -0.4037,  ...,  0.0659,  0.3506,  0.1610]]),\n",
       " tensor([[ 0.4959,  0.1280, -0.3485,  ...,  0.0147,  0.1395,  0.1205],\n",
       "         [ 0.0752, -0.1210, -0.3211,  ...,  0.0033,  0.4807,  0.3955],\n",
       "         [ 0.2936, -0.3666, -0.4034,  ...,  0.2210,  0.2510,  0.2464],\n",
       "         ...,\n",
       "         [ 0.3102, -0.0645, -0.2113,  ...,  0.2880,  0.4212,  0.4903],\n",
       "         [-0.0256, -0.0676, -0.5029,  ...,  0.3018,  0.1832,  0.0232],\n",
       "         [-0.0256, -0.0676, -0.5029,  ...,  0.3018,  0.1832,  0.0232]])]"
      ]
     },
     "execution_count": 179,
     "metadata": {},
     "output_type": "execute_result"
    }
   ],
   "source": [
    "vit_features"
   ]
  },
  {
   "cell_type": "code",
   "execution_count": 180,
   "metadata": {},
   "outputs": [
    {
     "data": {
      "text/plain": [
       "torch.Size([250, 768])"
      ]
     },
     "execution_count": 180,
     "metadata": {},
     "output_type": "execute_result"
    }
   ],
   "source": [
    "vit_features[0].shape"
   ]
  },
  {
   "cell_type": "markdown",
   "metadata": {},
   "source": [
    "# audio "
   ]
  },
  {
   "cell_type": "code",
   "execution_count": 181,
   "metadata": {},
   "outputs": [],
   "source": [
    "import json\n",
    "import math\n",
    "import librosa\n",
    "from collections import defaultdict\n",
    "from pathlib import Path\n",
    "import torch\n",
    "import numpy as np\n",
    "from torch.utils.data import DataLoader, Dataset"
   ]
  },
  {
   "cell_type": "code",
   "execution_count": 182,
   "metadata": {},
   "outputs": [],
   "source": [
    "class SummaryDataset(Dataset):\n",
    "    def __init__(self, video_dir, wav_dir, directory, max_seq_len=250):\n",
    "        self.directory = directory\n",
    "        self.video_names = self.get_video_names(video_dir)\n",
    "        self.wav_dir = wav_dir\n",
    "        self.max_seq_len = max_seq_len\n",
    "\n",
    "        # Because we can't use DDP with IterableDataset,\n",
    "        # data must be pre-chunked to combat OOM.\n",
    "        self.label_files = self.prefetch_label_files()\n",
    "        self.data_size, self.index_to_chunk, self.labels = self.prefetch_and_index()\n",
    "\n",
    "    def get_video_names(self, mp4_dir):\n",
    "        # mp4 파일이 있는 디렉토리 경로\n",
    "        # mp4_dir = \"/workspace/EmotionShortForm/aihub/2.Validation/Video_data/VS_유튜브_04\"\n",
    "\n",
    "        video_names = []\n",
    "        for filename in os.listdir(mp4_dir):\n",
    "            if filename.endswith('.mp4'):\n",
    "                name = os.path.splitext(filename)[0]\n",
    "                video_names.append(name)\n",
    "        return video_names\n",
    "\n",
    "    def prefetch_label_files(self):\n",
    "        # video_names 는 이름만 들어있을것 .mp4 제거\n",
    "        name_set = set(self.video_names)\n",
    "\n",
    "        label_files = defaultdict(list)\n",
    "\n",
    "        for label_file in Path(self.directory).glob(f\"**/*.json\"):\n",
    "\n",
    "            file_name = label_file.stem\n",
    "\n",
    "            # 예시: [KBS]kim370_대법원 업무 과부하…상고 법원이 대안_18567498.json\n",
    "            # annotator id 제거하면 비디오 이름 추출.\n",
    "            # 파일 이름 reverse ([::-1]) 후 \"_\" 찾음.\n",
    "            annotator_id_index = len(file_name) - file_name[::-1].find(\"_\") - 1\n",
    "            video_name = file_name[:annotator_id_index]\n",
    "\n",
    "            if video_name in name_set:\n",
    "                label_files[video_name].append(label_file)\n",
    "\n",
    "        return label_files\n",
    "\n",
    "    def prefetch_and_index(self):\n",
    "        index = 0\n",
    "        index_to_chunk = {}\n",
    "        all_labels = {}\n",
    "\n",
    "        for video_name in self.video_names:\n",
    "\n",
    "            labels = self.extract_label(video_name)\n",
    "\n",
    "            all_labels[video_name] = labels\n",
    "\n",
    "            chunk_count = math.ceil(len(labels[0]) / self.max_seq_len)\n",
    "            for chunk_index in range(0, chunk_count):\n",
    "                index_to_chunk[index + chunk_index] = (video_name, chunk_index)\n",
    "\n",
    "            index += chunk_count\n",
    "\n",
    "        return index, index_to_chunk, all_labels\n",
    "\n",
    "    def __len__(self):\n",
    "        return self.data_size\n",
    "\n",
    "    def __getitem__(self, index):        \n",
    "        video_name, chunk_index = self.index_to_chunk[index]\n",
    "        start = chunk_index * self.max_seq_len\n",
    "        end = start + self.max_seq_len\n",
    "        \n",
    "        labels = self.labels[video_name][:,start:end]\n",
    "\n",
    "        # audio_data: 음성 데이터, sr: sampling rate, max_seq_len: chunk 단위 길이\n",
    "        audio_data, sr = librosa.load(f\"{self.wav_dir}/{video_name}.wav\", sr=None)\n",
    "        # print(f'audio_data 길이: {len(audio_data)/sr}')\n",
    "        # print(f'sr: {sr}')\n",
    "        \n",
    "        audio_data = audio_data[start*sr:end*sr]\n",
    "        # print(f'audio_data 길이: {len(audio_data)/sr}')\n",
    "        \n",
    "        max_seq_len = labels.shape[-1]\n",
    "\n",
    "        \n",
    "        # 1초 단위로 MFCC 추출하여 리스트에 추가\n",
    "        sec = 1\n",
    "        mfcc_list = []\n",
    "        for i in range(0, len(audio_data), sec*sr):\n",
    "            audio_segment = audio_data[i : i + sec*sr]\n",
    "                \n",
    "            mfcc = librosa.feature.mfcc(y=audio_segment, sr=sr, n_mfcc=32).T\n",
    "            mfcc_mean = np.mean(mfcc, axis=0)\n",
    "            mfcc_list.append(mfcc_mean)\n",
    "\n",
    "        # 리스트를 배열로 변환\n",
    "        mfcc_array = np.vstack(mfcc_list)\n",
    "        \n",
    "        # Convert labels to 1D array\n",
    "        labels = torch.from_numpy(labels)\n",
    "        # majority voting\n",
    "        labels = labels.squeeze(0)\n",
    "        labels = torch.sum(labels, dim=0) \n",
    "        labels = torch.min(\n",
    "            labels,\n",
    "            torch.ones(\n",
    "                labels.shape[0],\n",
    "            ).to(labels.device),\n",
    "        )\n",
    "        return video_name, mfcc_array, labels\n",
    "\n",
    "    def extract_label(self, video_name):\n",
    "\n",
    "        label_files = self.label_files[video_name]\n",
    "        labels = []\n",
    "\n",
    "        for label_file in label_files:\n",
    "\n",
    "            with open(label_file, \"r\") as rf:\n",
    "                data = json.load(rf)\n",
    "\n",
    "            metadata = data[\"metadata\"]\n",
    "            video_length = math.ceil(metadata[\"length\"])\n",
    "            annotator_label = np.zeros((video_length,))\n",
    "\n",
    "            for timeline in data[\"timelines\"]:\n",
    "                for time_index in range(timeline[\"start\"], timeline[\"end\"] + 1):\n",
    "                    # annotator_label[time_index] += 1\n",
    "                    if time_index < video_length:\n",
    "                        annotator_label[time_index] = 1\n",
    "\n",
    "            labels.append(annotator_label)\n",
    "\n",
    "        labels = np.array(labels)\n",
    "        return labels\n"
   ]
  },
  {
   "cell_type": "code",
   "execution_count": 183,
   "metadata": {},
   "outputs": [],
   "source": [
    "# 라벨링 디렉토리 경로\n",
    "train_label_path = \"/workspace/EmotionShortForm/data_AIHub/1.Training/Labeling_data/TL_youtube\"\n",
    "val_label_path = \"/workspace/EmotionShortForm/data_AIHub/2.Validation/Labeling_data/VL_youtube\"\n",
    "\n",
    "# mp4 파일이 있는 디렉토리 경로\n",
    "mp4_dir = \"/workspace/EmotionShortForm/data_AIHub/2.Validation/Video_data/VS_유튜브_01\"\n",
    "\n",
    "# wav 파일이 있는 디렉토리 경로\n",
    "wav_dir = \"/workspace/EmotionShortForm/data_AIHub/2.Validation/Audio_data/VS_유튜브_01\""
   ]
  },
  {
   "cell_type": "code",
   "execution_count": 184,
   "metadata": {},
   "outputs": [],
   "source": [
    "sd = SummaryDataset(mp4_dir, wav_dir, val_label_path)\n",
    "\n",
    "dl = DataLoader(sd,batch_size=1)"
   ]
  },
  {
   "cell_type": "markdown",
   "metadata": {},
   "source": [
    "## model"
   ]
  },
  {
   "cell_type": "code",
   "execution_count": 185,
   "metadata": {},
   "outputs": [],
   "source": [
    "import torch\n",
    "import torch.nn as nn\n",
    "\n",
    "class LSTM(nn.Module):\n",
    "    def __init__(self, input_size, hidden_size, num_layers, output_size):\n",
    "        super(LSTM, self).__init__()\n",
    "        self.hidden_size = hidden_size\n",
    "        self.num_layers = num_layers\n",
    "        self.lstm = nn.LSTM(input_size, hidden_size, num_layers, batch_first=True)\n",
    "        self.fc = nn.Linear(hidden_size, output_size)\n",
    "    \n",
    "    def forward(self, x):\n",
    "        h0 = torch.zeros(self.num_layers, x.size(0), self.hidden_size).to(x.device)\n",
    "        c0 = torch.zeros(self.num_layers, x.size(0), self.hidden_size).to(x.device)\n",
    "        out, (hidden_state, cell_state) = self.lstm(x, (h0, c0))\n",
    "        output = self.fc(out[:,-1,:])\n",
    "        hidden = self.fc(hidden_state[-1])\n",
    "        return output, hidden, out[:,-1,:]"
   ]
  },
  {
   "cell_type": "code",
   "execution_count": 186,
   "metadata": {},
   "outputs": [
    {
     "data": {
      "text/plain": [
       "<All keys matched successfully>"
      ]
     },
     "execution_count": 186,
     "metadata": {},
     "output_type": "execute_result"
    }
   ],
   "source": [
    "# load model\n",
    "input_size = 32\n",
    "hidden_size = 128\n",
    "num_layers=3\n",
    "output_size=7\n",
    "\n",
    "emotion_model = LSTM(input_size, hidden_size, num_layers, output_size)\n",
    "emotion_model.load_state_dict(torch.load('../model/lstm_emotion_classification_model.pt'))\n",
    "\n",
    "input_size = 32\n",
    "hidden_size = 64\n",
    "num_layers = 3\n",
    "output_size = 1\n",
    "\n",
    "arousal_model = LSTM(input_size, hidden_size, num_layers, output_size)\n",
    "arousal_model.load_state_dict(torch.load('../model/lstm_arousal_model_best.pt'))\n",
    "\n",
    "input_size = 32\n",
    "hidden_size = 32\n",
    "num_layers=4\n",
    "output_size=1\n",
    "\n",
    "valence_model = LSTM(input_size, hidden_size, num_layers, output_size)\n",
    "valence_model.load_state_dict(torch.load('../model/lstm_valence_model.pt'))"
   ]
  },
  {
   "cell_type": "code",
   "execution_count": 187,
   "metadata": {
    "scrolled": true
   },
   "outputs": [
    {
     "data": {
      "application/vnd.jupyter.widget-view+json": {
       "model_id": "7681b85419d0424abdda4c820e235561",
       "version_major": 2,
       "version_minor": 0
      },
      "text/plain": [
       "Extracting emotion features:   0%|          | 0/31 [00:00<?, ?it/s]"
      ]
     },
     "metadata": {},
     "output_type": "display_data"
    }
   ],
   "source": [
    "from tqdm.notebook import tqdm_notebook\n",
    "\n",
    "emotion_lstm_features = []\n",
    "label = []\n",
    "for video_name, inputs, labels in tqdm_notebook(dl,total=len(dl), desc='Extracting emotion features'):\n",
    "    label.append(labels)\n",
    "    with torch.no_grad():\n",
    "        emotion_model.eval()\n",
    "        outputs, hidden, out = emotion_model(inputs.reshape(-1,1,32))\n",
    "        emotion_lstm_features.append(out)\n"
   ]
  },
  {
   "cell_type": "code",
   "execution_count": 188,
   "metadata": {},
   "outputs": [
    {
     "data": {
      "application/vnd.jupyter.widget-view+json": {
       "model_id": "636e5d7e6565490f8f4de1415b4f2d51",
       "version_major": 2,
       "version_minor": 0
      },
      "text/plain": [
       "Extracting arousal features:   0%|          | 0/31 [00:00<?, ?it/s]"
      ]
     },
     "metadata": {},
     "output_type": "display_data"
    }
   ],
   "source": [
    "from tqdm.notebook import tqdm_notebook\n",
    "\n",
    "arousal_lstm_features = []\n",
    "\n",
    "for video_name, inputs, labels in tqdm_notebook(dl,total=len(dl), desc='Extracting arousal features'):\n",
    "    with torch.no_grad():\n",
    "        arousal_model.eval()\n",
    "        outputs, hidden, out = arousal_model(inputs.reshape(-1,1,32))\n",
    "        arousal_lstm_features.append(out)\n"
   ]
  },
  {
   "cell_type": "code",
   "execution_count": 189,
   "metadata": {},
   "outputs": [
    {
     "data": {
      "application/vnd.jupyter.widget-view+json": {
       "model_id": "2f9c4582e18641e9aae0121db5572401",
       "version_major": 2,
       "version_minor": 0
      },
      "text/plain": [
       "Extracting valence features:   0%|          | 0/31 [00:00<?, ?it/s]"
      ]
     },
     "metadata": {},
     "output_type": "display_data"
    }
   ],
   "source": [
    "from tqdm.notebook import tqdm_notebook\n",
    "\n",
    "valence_lstm_features = []\n",
    "\n",
    "for video_name, inputs, labels in tqdm_notebook(dl,total=len(dl), desc='Extracting valence features'):\n",
    "    with torch.no_grad():\n",
    "        valence_model.eval()\n",
    "        outputs, hidden, out = valence_model(inputs.reshape(-1,1,32))\n",
    "        valence_lstm_features.append(out)\n"
   ]
  },
  {
   "cell_type": "code",
   "execution_count": 190,
   "metadata": {},
   "outputs": [],
   "source": [
    "concatenate_lstm_features = []\n",
    "for e, a, v in zip(emotion_lstm_features, arousal_lstm_features, valence_lstm_features):\n",
    "    concatenate_lstm_features.append(torch.cat((e,a,v),dim=1))"
   ]
  },
  {
   "cell_type": "code",
   "execution_count": 191,
   "metadata": {},
   "outputs": [
    {
     "data": {
      "text/plain": [
       "31"
      ]
     },
     "execution_count": 191,
     "metadata": {},
     "output_type": "execute_result"
    }
   ],
   "source": [
    "len(concatenate_lstm_features)"
   ]
  },
  {
   "cell_type": "code",
   "execution_count": 192,
   "metadata": {},
   "outputs": [
    {
     "data": {
      "text/plain": [
       "torch.Size([250, 224])"
      ]
     },
     "execution_count": 192,
     "metadata": {},
     "output_type": "execute_result"
    }
   ],
   "source": [
    "concatenate_lstm_features[0].shape # emotion + arousal + valence"
   ]
  },
  {
   "cell_type": "markdown",
   "metadata": {},
   "source": [
    "## Audio LSTMClassifier, multimodal LSTMClassifier"
   ]
  },
  {
   "cell_type": "code",
   "execution_count": 193,
   "metadata": {},
   "outputs": [],
   "source": [
    "class LSTMClassifier(nn.Module):\n",
    "    def __init__(self, input_size, hidden_size, num_layers, output_size):\n",
    "        super(LSTMClassifier, self).__init__()\n",
    "        self.hidden_size = hidden_size\n",
    "        self.num_layers = num_layers\n",
    "        self.lstm = nn.LSTM(input_size, hidden_size, num_layers, batch_first=True)\n",
    "        self.fc = nn.Linear(hidden_size, output_size)\n",
    "        self.sigmoid = nn.Sigmoid()\n",
    "        \n",
    "    def forward(self, x):\n",
    "        # Set initial hidden and cell states\n",
    "        h0 = torch.zeros(self.num_layers, x.size(0), self.hidden_size).to(x.device)\n",
    "        c0 = torch.zeros(self.num_layers, x.size(0), self.hidden_size).to(x.device)\n",
    "        \n",
    "        # Forward propagate LSTM\n",
    "        out, _ = self.lstm(x, (h0, c0))\n",
    "        \n",
    "        # Decode the hidden state of the last time step\n",
    "        output = self.fc(out[:, -1, :])\n",
    "        \n",
    "        # Apply sigmoid activation function to output\n",
    "        output = self.sigmoid(output)\n",
    "        \n",
    "        return output, out[:, -1, :]"
   ]
  },
  {
   "cell_type": "code",
   "execution_count": 194,
   "metadata": {},
   "outputs": [
    {
     "data": {
      "text/plain": [
       "<All keys matched successfully>"
      ]
     },
     "execution_count": 194,
     "metadata": {},
     "output_type": "execute_result"
    }
   ],
   "source": [
    "input_size = 224\n",
    "hidden_size = 128\n",
    "num_layers = 3\n",
    "output_size = 1\n",
    "audio_concat_model = LSTMClassifier(input_size, hidden_size, num_layers, output_size)\n",
    "audio_concat_model.load_state_dict(torch.load('concatenate_lstm_model.pt'))"
   ]
  },
  {
   "cell_type": "code",
   "execution_count": 195,
   "metadata": {
    "scrolled": true
   },
   "outputs": [
    {
     "data": {
      "application/vnd.jupyter.widget-view+json": {
       "model_id": "dd08a1c307ca4e8baaf9c582c002cf31",
       "version_major": 2,
       "version_minor": 0
      },
      "text/plain": [
       "Extracting audio features:   0%|          | 0/31 [00:00<?, ?it/s]"
      ]
     },
     "metadata": {},
     "output_type": "display_data"
    }
   ],
   "source": [
    "audio_concat_features = []\n",
    "\n",
    "for inputs in tqdm_notebook(concatenate_lstm_features,total=len(concatenate_lstm_features), desc='Extracting audio features'):\n",
    "    with torch.no_grad():\n",
    "        audio_concat_model.eval()\n",
    "        outputs, out = audio_concat_model(inputs.reshape(-1,1,input_size))\n",
    "        audio_concat_features.append(out)"
   ]
  },
  {
   "cell_type": "code",
   "execution_count": 196,
   "metadata": {},
   "outputs": [
    {
     "data": {
      "text/plain": [
       "(31, torch.Size([250, 128]))"
      ]
     },
     "execution_count": 196,
     "metadata": {},
     "output_type": "execute_result"
    }
   ],
   "source": [
    "len(audio_concat_features), audio_concat_features[0].shape"
   ]
  },
  {
   "cell_type": "markdown",
   "metadata": {},
   "source": [
    "## Feature concatenate w/o lstm\n",
    "+ audio lstm 없이! -> model input size를 바꿔줘야 해서 나중에 비교!"
   ]
  },
  {
   "cell_type": "code",
   "execution_count": null,
   "metadata": {},
   "outputs": [],
   "source": [
    "# final_concat_lstm_feature  =  torch.cat((concatenate_lstm_feature, video_features_torch), dim=1)"
   ]
  },
  {
   "cell_type": "code",
   "execution_count": null,
   "metadata": {},
   "outputs": [],
   "source": [
    "# final_concat_lstm_feature.shape"
   ]
  },
  {
   "cell_type": "markdown",
   "metadata": {},
   "source": [
    "## Feature concatenate"
   ]
  },
  {
   "cell_type": "code",
   "execution_count": 198,
   "metadata": {},
   "outputs": [],
   "source": [
    "final_concat_lstm_features = []\n",
    "for v, a in zip(vit_features, audio_concat_features):\n",
    "    final_concat_lstm_features.append(torch.cat((v,a),dim=1))\n",
    "    "
   ]
  },
  {
   "cell_type": "code",
   "execution_count": 199,
   "metadata": {},
   "outputs": [
    {
     "data": {
      "text/plain": [
       "(31, torch.Size([250, 896]))"
      ]
     },
     "execution_count": 199,
     "metadata": {},
     "output_type": "execute_result"
    }
   ],
   "source": [
    "len(final_concat_lstm_features), final_concat_lstm_features[0].shape"
   ]
  },
  {
   "cell_type": "markdown",
   "metadata": {},
   "source": [
    "## Multimodal Classification"
   ]
  },
  {
   "cell_type": "code",
   "execution_count": 200,
   "metadata": {},
   "outputs": [
    {
     "data": {
      "text/plain": [
       "<All keys matched successfully>"
      ]
     },
     "execution_count": 200,
     "metadata": {},
     "output_type": "execute_result"
    }
   ],
   "source": [
    "input_size = 896\n",
    "hidden_size = 128\n",
    "num_layers = 3\n",
    "output_size = 1\n",
    "multimodal_model = LSTMClassifier(input_size, hidden_size, num_layers, output_size)\n",
    "multimodal_model.load_state_dict(torch.load('multimodal_model.pt'))\n"
   ]
  },
  {
   "cell_type": "code",
   "execution_count": 129,
   "metadata": {},
   "outputs": [
    {
     "name": "stdout",
     "output_type": "stream",
     "text": [
      "Layer: lstm.weight_ih_l0 | Size: torch.Size([512, 896]) | Values: Parameter containing:\n",
      "tensor([[ 0.0395, -0.0005,  0.0381,  ..., -0.0219,  0.0675,  0.0472],\n",
      "        [-0.0135, -0.0649, -0.0365,  ...,  0.0064,  0.0260,  0.0802],\n",
      "        [ 0.0876,  0.0278, -0.0161,  ..., -0.0447,  0.0711, -0.0489],\n",
      "        ...,\n",
      "        [ 0.0123, -0.0073, -0.0034,  ...,  0.0589, -0.0132, -0.0587],\n",
      "        [-0.0289, -0.0093, -0.0179,  ...,  0.0359, -0.0531,  0.0855],\n",
      "        [ 0.0714,  0.0378, -0.0559,  ..., -0.0462,  0.0275,  0.0513]],\n",
      "       requires_grad=True)\n",
      "Layer: lstm.weight_hh_l0 | Size: torch.Size([512, 128]) | Values: Parameter containing:\n",
      "tensor([[ 0.0225,  0.0489,  0.0578,  ...,  0.0770,  0.0362, -0.0508],\n",
      "        [-0.0215, -0.0405, -0.0178,  ...,  0.0420, -0.0205, -0.0404],\n",
      "        [-0.0840,  0.0576, -0.0377,  ...,  0.0007, -0.0396, -0.0417],\n",
      "        ...,\n",
      "        [-0.0267, -0.0698,  0.0012,  ...,  0.0095,  0.0548, -0.0290],\n",
      "        [ 0.0371, -0.0746,  0.0246,  ...,  0.0578, -0.0057,  0.0426],\n",
      "        [ 0.0076,  0.0204, -0.0615,  ...,  0.0538,  0.0757,  0.0529]],\n",
      "       requires_grad=True)\n",
      "Layer: lstm.bias_ih_l0 | Size: torch.Size([512]) | Values: Parameter containing:\n",
      "tensor([-0.0727,  0.0843, -0.0148, -0.0100,  0.0117, -0.0586,  0.0217,  0.0678,\n",
      "         0.0821,  0.0677, -0.0512,  0.0122, -0.0412,  0.0018, -0.0269, -0.0532,\n",
      "         0.0579,  0.0012, -0.0104,  0.0594, -0.0727, -0.0672, -0.0157, -0.0576,\n",
      "         0.0012,  0.0573, -0.0768, -0.0192,  0.0838, -0.0259,  0.0264,  0.0583,\n",
      "        -0.0686,  0.0279,  0.0098,  0.0652,  0.0394,  0.0576, -0.0632,  0.0733,\n",
      "        -0.0629, -0.0617, -0.0841,  0.0031, -0.0423,  0.0149, -0.0054,  0.0140,\n",
      "        -0.0096, -0.0177,  0.0249,  0.0156, -0.0494, -0.0452, -0.0451,  0.0866,\n",
      "         0.0055, -0.0692, -0.0253, -0.0443,  0.0473,  0.0028,  0.0062,  0.0147,\n",
      "         0.0652, -0.0109,  0.0135,  0.0235, -0.0578, -0.0659,  0.0454,  0.0568,\n",
      "        -0.0300, -0.0376,  0.0612,  0.0781,  0.0605, -0.0031, -0.0340, -0.0416,\n",
      "         0.0829, -0.0398, -0.0181,  0.0549,  0.0878,  0.0686,  0.0135,  0.0492,\n",
      "         0.0481,  0.0202, -0.0287,  0.0302,  0.0437, -0.0114,  0.0408, -0.0457,\n",
      "         0.0061, -0.0007,  0.0203, -0.0719,  0.0732, -0.0744,  0.0519, -0.0475,\n",
      "        -0.0480, -0.0271,  0.0707, -0.0477,  0.0394,  0.0871, -0.0002,  0.0731,\n",
      "         0.0572,  0.0656, -0.0726,  0.0467, -0.0362, -0.0556,  0.0683,  0.0259,\n",
      "        -0.0309,  0.0494,  0.0874, -0.0327, -0.0020, -0.0295, -0.0208, -0.0727,\n",
      "         0.0534, -0.0369, -0.0169, -0.0417, -0.0755,  0.0496,  0.0425, -0.0617,\n",
      "         0.0824, -0.0810, -0.0474,  0.0253,  0.0310, -0.0684, -0.0599,  0.0091,\n",
      "        -0.0356, -0.0396, -0.0113,  0.0806, -0.0334,  0.0005,  0.0773,  0.0127,\n",
      "        -0.0523,  0.0092,  0.0232,  0.0326,  0.0504, -0.0259, -0.0867, -0.0311,\n",
      "         0.0291, -0.0528, -0.0464,  0.0841,  0.0527,  0.0601,  0.0574,  0.0079,\n",
      "        -0.0745, -0.0068,  0.0548, -0.0038,  0.0556, -0.0335, -0.0683, -0.0572,\n",
      "        -0.0668,  0.0713, -0.0883, -0.0135,  0.0128,  0.0679,  0.0504,  0.0382,\n",
      "        -0.0661,  0.0372,  0.0343,  0.0828, -0.0854, -0.0434, -0.0561,  0.0395,\n",
      "         0.0155,  0.0591, -0.0543, -0.0492,  0.0484, -0.0388, -0.0247, -0.0529,\n",
      "        -0.0486, -0.0069, -0.0809,  0.0282,  0.0705,  0.0554,  0.0639, -0.0327,\n",
      "        -0.0269, -0.0272,  0.0717,  0.0105, -0.0284,  0.0440,  0.0761,  0.0154,\n",
      "         0.0602,  0.0606, -0.0299, -0.0236,  0.0207, -0.0506, -0.0301, -0.0686,\n",
      "        -0.0596, -0.0554,  0.0264, -0.0067,  0.0014, -0.0553, -0.0472, -0.0136,\n",
      "         0.0600, -0.0729,  0.0658, -0.0270,  0.0054,  0.0751,  0.0477,  0.0244,\n",
      "         0.0875,  0.0739, -0.0021,  0.0713,  0.0777, -0.0013, -0.0346, -0.0657,\n",
      "        -0.0719, -0.0542, -0.0590, -0.0362, -0.0444,  0.0021,  0.0446, -0.0646,\n",
      "         0.0310,  0.0868,  0.0660,  0.0327,  0.0112,  0.0060,  0.0704, -0.0873,\n",
      "         0.0528, -0.0349,  0.0580, -0.0852,  0.0138, -0.0047, -0.0645, -0.0112,\n",
      "        -0.0601, -0.0046,  0.0840,  0.0394, -0.0045, -0.0145,  0.0573,  0.0304,\n",
      "        -0.0298,  0.0628, -0.0389,  0.0684,  0.0661, -0.0566, -0.0830,  0.0035,\n",
      "        -0.0366,  0.0144,  0.0352, -0.0356, -0.0274,  0.0302, -0.0101,  0.0431,\n",
      "         0.0188, -0.0468, -0.0097, -0.0181,  0.0013, -0.0081, -0.0555,  0.0594,\n",
      "        -0.0128, -0.0647, -0.0435,  0.0162, -0.0023, -0.0099,  0.0630,  0.0840,\n",
      "         0.0635, -0.0565, -0.0091,  0.0106,  0.0165, -0.0454,  0.0003,  0.0067,\n",
      "        -0.0794,  0.0430,  0.0418, -0.0581,  0.0544,  0.0703,  0.0502, -0.0779,\n",
      "        -0.0423,  0.0603,  0.0207, -0.0882, -0.0164,  0.0407,  0.0699, -0.0098,\n",
      "         0.0838,  0.0543,  0.0665,  0.0567, -0.0632, -0.0767,  0.0114, -0.0513,\n",
      "         0.0622,  0.0568, -0.0039,  0.0138,  0.0260,  0.0874,  0.0643,  0.0703,\n",
      "        -0.0814, -0.0633,  0.0327,  0.0471, -0.0165,  0.0405,  0.0028, -0.0481,\n",
      "         0.0372, -0.0725,  0.0212,  0.0728,  0.0491, -0.0097, -0.0517, -0.0157,\n",
      "         0.0063, -0.0321,  0.0520, -0.0278,  0.0205, -0.0321, -0.0577, -0.0830,\n",
      "         0.0327, -0.0092,  0.0145,  0.0118,  0.0130, -0.0098, -0.0879,  0.0668,\n",
      "         0.0134, -0.0110,  0.0575,  0.0737,  0.0318, -0.0501,  0.0736,  0.0186,\n",
      "        -0.0828,  0.0650,  0.0620, -0.0661,  0.0672,  0.0052, -0.0282,  0.0426,\n",
      "        -0.0257,  0.0716,  0.0797, -0.0320, -0.0580, -0.0761, -0.0711,  0.0717,\n",
      "        -0.0180, -0.0209, -0.0436,  0.0509,  0.0827, -0.0669,  0.0061,  0.0560,\n",
      "        -0.0326, -0.0828, -0.0259,  0.0118, -0.0442, -0.0452,  0.0531,  0.0240,\n",
      "         0.0378,  0.0627,  0.0054,  0.0839, -0.0599,  0.0186,  0.0043, -0.0511,\n",
      "        -0.0160,  0.0599,  0.0293,  0.0615, -0.0566,  0.0341, -0.0402,  0.0252,\n",
      "         0.0480,  0.0621, -0.0208, -0.0117,  0.0657,  0.0267, -0.0156, -0.0038,\n",
      "        -0.0212,  0.0717,  0.0012, -0.0242, -0.0059,  0.0286,  0.0662,  0.0363,\n",
      "        -0.0679, -0.0608, -0.0767,  0.0578,  0.0567, -0.0356, -0.0389,  0.0253,\n",
      "        -0.0166,  0.0071, -0.0730, -0.0543,  0.0593, -0.0105, -0.0882, -0.0390,\n",
      "         0.0673, -0.0429,  0.0194, -0.0623,  0.0179, -0.0798,  0.0077,  0.0773,\n",
      "         0.0750, -0.0259, -0.0516, -0.0011,  0.0405, -0.0603,  0.0344, -0.0872,\n",
      "         0.0108,  0.0677,  0.0551,  0.0579,  0.0731,  0.0016,  0.0640, -0.0112,\n",
      "         0.0044, -0.0682,  0.0282, -0.0169, -0.0459,  0.0088, -0.0449,  0.0610,\n",
      "        -0.0433,  0.0597,  0.0014, -0.0662, -0.0573, -0.0644, -0.0544,  0.0511],\n",
      "       requires_grad=True)\n",
      "Layer: lstm.bias_hh_l0 | Size: torch.Size([512]) | Values: Parameter containing:\n",
      "tensor([-6.5532e-02, -3.4552e-02,  7.3225e-02, -7.1537e-02, -1.7622e-02,\n",
      "         5.4623e-02,  8.4789e-02, -1.7892e-02,  1.0913e-02,  5.4499e-02,\n",
      "        -4.2846e-02, -8.4241e-02,  7.8398e-02,  3.6001e-02,  8.1129e-02,\n",
      "         5.9359e-02,  1.8328e-02,  3.1487e-02,  3.7860e-02, -5.4629e-02,\n",
      "         3.6599e-02,  8.7466e-02,  6.0258e-02, -3.8326e-02,  8.5835e-02,\n",
      "         4.9773e-02, -3.6903e-02, -3.5201e-02,  5.3561e-03,  8.0660e-02,\n",
      "        -7.2785e-02, -7.2644e-02,  7.8495e-02, -3.8096e-02,  5.0659e-02,\n",
      "         8.7794e-02, -3.1303e-02,  7.1362e-03, -1.2180e-02, -8.0835e-02,\n",
      "         8.7909e-02, -6.0251e-02, -3.6805e-02,  6.6725e-03,  3.8595e-04,\n",
      "        -3.0171e-02,  4.4549e-02, -8.4861e-02,  4.8199e-03, -3.2523e-02,\n",
      "         6.9074e-02, -4.2562e-02,  5.9352e-02,  3.7128e-02,  6.1754e-02,\n",
      "         8.2773e-02, -7.8815e-02, -3.3797e-02,  5.5193e-02,  6.3371e-02,\n",
      "        -1.0463e-02, -6.9475e-03,  3.0210e-02,  2.9305e-02,  3.0694e-02,\n",
      "        -1.7204e-02, -4.4941e-02,  7.2445e-02, -7.6431e-02, -1.2367e-02,\n",
      "         5.4966e-02, -6.4470e-02,  1.5094e-02,  3.7897e-02, -2.3974e-02,\n",
      "         6.1367e-02,  7.4021e-02,  4.8956e-02, -6.8619e-02, -6.7867e-02,\n",
      "        -6.1528e-02, -2.8058e-02, -5.9640e-03,  7.0921e-02,  1.7256e-02,\n",
      "        -8.6868e-02,  2.9271e-02, -5.7966e-02, -1.5869e-02, -7.6822e-02,\n",
      "         2.7282e-02,  5.5473e-02,  7.0779e-02, -5.6332e-02, -8.7200e-02,\n",
      "        -4.5853e-02,  8.3269e-02,  1.3371e-02, -8.6217e-03,  7.8669e-02,\n",
      "         6.6481e-02, -7.6065e-02,  5.4836e-02, -5.4816e-02,  6.2510e-02,\n",
      "        -4.3002e-02, -5.0422e-02, -7.8433e-02,  2.6780e-04,  2.9446e-03,\n",
      "         1.7156e-02,  4.6044e-02, -5.4118e-02, -3.3332e-02,  1.1886e-02,\n",
      "        -5.1304e-02, -5.7893e-02,  7.0642e-02, -3.9623e-02, -3.3386e-02,\n",
      "         7.1718e-02,  4.8601e-02, -2.0548e-02, -6.7409e-02, -1.3170e-02,\n",
      "         5.8815e-02, -5.0651e-02,  3.5292e-02,  2.1772e-02, -3.7771e-02,\n",
      "         1.9540e-02, -4.7144e-03, -4.4527e-02,  6.4101e-02,  3.3842e-02,\n",
      "        -7.2402e-02, -3.5007e-02,  7.8906e-02,  6.8773e-02, -6.8244e-02,\n",
      "        -6.9008e-02, -2.2532e-02, -2.5015e-02,  3.0739e-02,  1.5847e-02,\n",
      "         7.6625e-02, -3.8123e-02,  7.7565e-02, -5.7792e-02, -4.2705e-02,\n",
      "         3.2593e-02,  2.0585e-02, -4.2965e-02,  8.7134e-02, -6.5182e-02,\n",
      "        -3.4478e-02,  3.5513e-02,  9.7564e-03, -5.6892e-02,  2.7507e-02,\n",
      "        -7.5838e-02,  2.2153e-02,  5.5330e-02,  3.2513e-02, -4.8240e-02,\n",
      "         6.1666e-02, -7.8507e-02,  5.1667e-02, -2.1920e-02,  4.3509e-02,\n",
      "        -5.2102e-02, -2.4266e-02,  6.3652e-02, -5.6943e-02,  7.8875e-02,\n",
      "         7.0519e-02, -7.2105e-02, -2.4724e-02, -7.9926e-02, -8.5982e-02,\n",
      "        -5.0834e-03, -8.8299e-03, -8.1223e-02, -4.6531e-02, -4.7550e-02,\n",
      "         2.5447e-02, -9.2020e-03, -2.9835e-02,  7.4932e-02, -8.0379e-02,\n",
      "         2.9040e-03,  8.1448e-02,  6.3238e-02, -8.6365e-02, -1.0556e-02,\n",
      "        -1.7669e-03,  2.4381e-02, -8.8361e-02,  1.3484e-02, -3.2390e-03,\n",
      "        -3.5246e-02,  3.3200e-03,  1.8398e-02, -8.8178e-02,  2.4978e-02,\n",
      "        -4.5729e-02, -7.9421e-02,  1.8041e-02, -4.4890e-02,  3.2601e-02,\n",
      "        -4.7164e-02,  2.9139e-02,  4.2152e-02, -2.2276e-02, -3.1352e-03,\n",
      "        -3.8594e-03,  1.3269e-02,  3.8661e-02,  3.8768e-02, -7.8254e-02,\n",
      "        -6.9779e-02, -3.2919e-02, -1.1913e-02, -7.7573e-02,  3.4145e-02,\n",
      "        -3.3635e-02,  2.6389e-02, -5.1375e-02, -5.5402e-02,  7.7768e-04,\n",
      "        -4.5665e-02, -4.1993e-02,  4.5834e-02,  4.8941e-02, -7.6096e-02,\n",
      "         8.6194e-02, -3.3807e-02, -2.7607e-02, -2.6855e-02,  1.8280e-02,\n",
      "         4.4413e-02,  5.4661e-02, -4.3400e-02,  2.6199e-02, -4.2802e-02,\n",
      "         4.7063e-02, -6.2565e-02, -2.4322e-02, -7.9497e-02, -3.9323e-02,\n",
      "         4.7946e-03,  2.5738e-02, -4.5609e-02, -3.9395e-02,  1.0870e-02,\n",
      "         6.7377e-02,  5.2692e-02,  4.1659e-02,  5.7500e-02,  6.5511e-02,\n",
      "         3.4735e-02, -6.0122e-02,  7.9299e-02,  6.7826e-02,  1.1044e-02,\n",
      "         6.7478e-03, -2.3459e-02, -3.5627e-02,  5.7618e-02,  5.4862e-02,\n",
      "        -5.1545e-02,  1.4201e-02,  6.0683e-03,  8.1458e-02, -2.3535e-02,\n",
      "        -6.2856e-02,  8.3006e-02, -6.5445e-02,  7.6988e-02,  6.5317e-02,\n",
      "        -3.6474e-03, -2.7740e-02, -1.1923e-02,  5.9153e-02, -3.6215e-02,\n",
      "        -5.7127e-02,  7.4515e-02,  1.1416e-02,  6.1931e-02,  1.7673e-02,\n",
      "        -8.3397e-02, -6.8578e-03,  3.4320e-02,  4.3995e-02,  2.4502e-02,\n",
      "        -5.7367e-02, -4.8741e-02,  1.7620e-02, -5.3349e-02, -7.0510e-02,\n",
      "        -1.0202e-02,  7.7312e-02,  3.7792e-02, -3.3796e-02,  8.0248e-02,\n",
      "         7.0770e-02, -3.0887e-02,  7.5579e-02, -4.2468e-02,  1.4452e-02,\n",
      "        -3.0244e-02, -5.1894e-02, -2.0184e-02, -8.3820e-02, -6.3576e-02,\n",
      "        -7.5757e-03,  1.4813e-02,  8.1591e-02,  5.3439e-02, -5.9635e-02,\n",
      "         7.3679e-02,  4.7034e-02,  8.1602e-02, -5.9056e-02,  2.8291e-02,\n",
      "         8.5026e-02,  6.1867e-02, -8.2406e-02, -2.4287e-02, -6.5574e-02,\n",
      "        -1.1377e-02, -6.7915e-02, -1.3156e-02,  9.0005e-05,  8.1180e-02,\n",
      "         8.2470e-03,  1.3314e-02, -6.3189e-02, -7.7668e-02, -2.6514e-02,\n",
      "         4.9861e-02,  3.9658e-03, -2.6287e-02,  6.2602e-02, -7.2817e-02,\n",
      "         5.2286e-02, -4.5859e-02,  1.1524e-03, -1.0077e-02, -6.8836e-04,\n",
      "         1.0653e-02,  2.8956e-02, -2.9722e-02,  5.4562e-02, -2.0916e-03,\n",
      "        -4.0523e-02,  1.2207e-03,  8.2910e-02, -8.3979e-02, -2.6536e-02,\n",
      "         6.3572e-02,  1.5230e-02,  1.8142e-03, -1.0935e-02, -7.7976e-02,\n",
      "         2.8878e-02, -2.9249e-02,  4.9450e-02,  1.3588e-02, -2.9870e-02,\n",
      "         4.9057e-02,  1.9044e-02, -1.5649e-02, -2.6081e-02, -8.7640e-02,\n",
      "         8.7594e-02,  5.1324e-02, -5.6475e-02,  2.7046e-02,  1.8522e-02,\n",
      "        -3.0288e-02, -1.3475e-02, -3.7636e-02, -3.5591e-02,  4.2283e-02,\n",
      "        -5.4817e-02, -6.6878e-03, -7.0251e-02, -3.6576e-02,  3.6056e-02,\n",
      "         1.3139e-02, -4.9832e-02, -5.3819e-03,  3.4489e-02,  7.7070e-03,\n",
      "         2.5308e-02, -2.8804e-02,  5.8865e-03,  1.8795e-02, -6.4696e-02,\n",
      "        -1.7933e-02, -6.0427e-02, -1.6022e-03,  3.2546e-02,  8.2694e-02,\n",
      "         3.1316e-02,  3.3102e-02,  6.2563e-02,  8.7983e-03, -5.4898e-02,\n",
      "        -6.9249e-02, -4.3297e-02,  3.1833e-02,  2.1502e-02,  2.8323e-02,\n",
      "         5.7672e-02, -3.2345e-02,  2.4537e-03, -5.3681e-02, -7.0470e-02,\n",
      "         1.3471e-02,  7.9742e-02,  8.5223e-02, -5.0906e-02, -2.4253e-02,\n",
      "         4.9453e-02, -6.8770e-02, -7.0443e-02, -2.9893e-02,  4.4503e-02,\n",
      "        -8.7100e-02,  6.1388e-02, -3.0601e-02,  1.1258e-03, -1.5347e-02,\n",
      "        -1.5768e-02, -3.8631e-04, -7.2999e-02,  6.7663e-04,  4.5574e-02,\n",
      "        -1.9170e-04, -4.4952e-02, -1.2099e-02, -7.2456e-02, -7.4525e-02,\n",
      "        -7.5628e-02,  5.9214e-02, -3.5404e-02,  5.3067e-02, -1.6823e-02,\n",
      "        -2.5024e-02, -8.2096e-02,  3.5350e-02, -6.6975e-02,  2.5206e-02,\n",
      "         7.0535e-02, -3.9214e-02, -4.6040e-02,  6.1586e-02, -6.5487e-02,\n",
      "        -8.1254e-02,  8.5616e-02,  6.1450e-02,  5.4554e-02, -2.6558e-02,\n",
      "         2.3387e-02, -4.4670e-02,  4.7051e-02, -2.9854e-02,  7.1325e-02,\n",
      "         7.4962e-02, -4.9925e-02,  2.7617e-02,  6.4252e-02, -1.9137e-02,\n",
      "         6.3996e-02,  1.1049e-03,  5.3929e-02,  6.6681e-02, -8.1249e-02,\n",
      "         3.4649e-02, -5.3547e-03,  7.3613e-02,  8.1241e-03,  7.5360e-02,\n",
      "        -2.5567e-02, -4.9138e-02, -1.9374e-02,  3.4080e-02,  3.2752e-03,\n",
      "         4.7544e-03, -2.8498e-02, -6.6485e-02, -4.6508e-02, -8.0833e-02,\n",
      "         7.2738e-02,  7.8336e-02, -5.8418e-02, -3.9541e-02,  1.1383e-02,\n",
      "        -6.1612e-02,  8.1261e-02,  5.1690e-02, -1.8617e-03, -6.6675e-02,\n",
      "         1.4438e-02, -5.1685e-02,  6.1577e-02, -7.4908e-02, -7.5786e-03,\n",
      "         8.5708e-02, -3.6068e-02], requires_grad=True)\n",
      "Layer: lstm.weight_ih_l1 | Size: torch.Size([512, 128]) | Values: Parameter containing:\n",
      "tensor([[-0.0530,  0.0477,  0.0009,  ..., -0.0022, -0.0184, -0.0117],\n",
      "        [ 0.0810, -0.0701,  0.0061,  ...,  0.0851,  0.0226,  0.0334],\n",
      "        [-0.0527, -0.0347, -0.0274,  ...,  0.0613,  0.0124,  0.0368],\n",
      "        ...,\n",
      "        [ 0.0131,  0.0812, -0.0323,  ..., -0.0224,  0.0231,  0.0689],\n",
      "        [-0.0303,  0.0717,  0.0851,  ..., -0.0291,  0.0881, -0.0017],\n",
      "        [-0.0390,  0.0164, -0.0692,  ..., -0.0481, -0.0396,  0.0674]],\n",
      "       requires_grad=True)\n",
      "Layer: lstm.weight_hh_l1 | Size: torch.Size([512, 128]) | Values: Parameter containing:\n",
      "tensor([[ 0.0358,  0.0510,  0.0286,  ...,  0.0080, -0.0254,  0.0019],\n",
      "        [-0.0529,  0.0611, -0.0390,  ..., -0.0147,  0.0404,  0.0038],\n",
      "        [ 0.0174,  0.0173, -0.0486,  ..., -0.0251,  0.0693, -0.0677],\n",
      "        ...,\n",
      "        [ 0.0858, -0.0043, -0.0597,  ..., -0.0342,  0.0622,  0.0319],\n",
      "        [ 0.0174, -0.0425, -0.0525,  ...,  0.0815, -0.0229, -0.0283],\n",
      "        [ 0.0721,  0.0741,  0.0385,  ..., -0.0428,  0.0601,  0.0876]],\n",
      "       requires_grad=True)\n",
      "Layer: lstm.bias_ih_l1 | Size: torch.Size([512]) | Values: Parameter containing:\n",
      "tensor([ 5.1148e-02,  8.4402e-02, -7.8954e-02, -2.9361e-02,  7.0314e-02,\n",
      "        -5.4855e-03,  8.7304e-02,  6.3104e-02, -5.8850e-02, -6.0889e-02,\n",
      "        -3.4343e-02, -6.1480e-02,  5.4304e-02,  4.5932e-02, -5.9254e-02,\n",
      "        -1.1467e-02,  3.1700e-02, -3.7684e-02,  1.6184e-02,  6.5275e-02,\n",
      "         5.9548e-02,  8.3953e-02,  6.5814e-02,  6.0839e-02, -5.4661e-02,\n",
      "        -7.7171e-02,  4.9225e-03, -5.2319e-02, -3.2098e-02,  3.9758e-02,\n",
      "         7.7694e-02,  3.8766e-02,  4.5396e-02, -7.9466e-03,  7.9978e-02,\n",
      "         8.0376e-02,  4.8811e-02, -1.8985e-02,  1.6439e-02,  7.0917e-02,\n",
      "         4.3797e-02, -5.7684e-02, -2.8278e-02, -7.4872e-02, -2.4418e-02,\n",
      "         6.1812e-02, -7.7575e-02, -4.0015e-02,  3.8757e-02, -1.6168e-02,\n",
      "        -7.5787e-02,  8.2716e-02, -8.7301e-02,  1.0633e-02, -4.1159e-02,\n",
      "        -4.3912e-02,  5.6830e-02, -3.6697e-02, -6.0682e-02, -5.1998e-02,\n",
      "        -3.1683e-02, -6.3831e-02,  1.6813e-03, -4.6906e-02,  1.9976e-02,\n",
      "         3.4521e-02,  1.1717e-02,  3.3744e-02, -6.6310e-02, -6.5045e-02,\n",
      "        -1.3873e-02, -1.3196e-02, -3.2725e-02, -3.0476e-03, -7.7575e-02,\n",
      "         1.8166e-02,  6.4659e-02,  2.9619e-03,  3.3426e-03, -1.4449e-02,\n",
      "         8.1495e-02,  1.7636e-02,  2.7817e-02, -2.1697e-02, -4.7758e-02,\n",
      "        -1.8668e-04, -5.2797e-02,  8.5689e-03, -6.9723e-02,  7.5612e-02,\n",
      "         5.8598e-02,  4.8686e-04, -7.5753e-02, -3.0130e-02, -5.4957e-02,\n",
      "        -7.3513e-02, -3.6576e-02,  2.7000e-02, -7.6374e-02, -4.0145e-03,\n",
      "        -6.8097e-02, -3.5667e-02,  7.5745e-03, -4.7379e-02, -4.8983e-02,\n",
      "        -3.4732e-02,  7.6740e-02, -7.8669e-02,  2.0710e-02, -4.4816e-02,\n",
      "         7.3482e-02,  7.2192e-02, -5.6971e-02,  1.1558e-03,  5.9676e-02,\n",
      "        -1.0110e-02,  2.5344e-02,  9.7509e-03,  2.9492e-02,  5.8196e-02,\n",
      "         7.0668e-02, -1.0117e-02, -2.1481e-02, -4.4951e-02, -7.9011e-03,\n",
      "         8.2676e-02, -5.4408e-02, -3.3608e-02, -1.7220e-02,  6.8520e-02,\n",
      "         7.3731e-02,  6.1637e-02, -7.1489e-02, -1.1321e-02, -2.1728e-02,\n",
      "        -4.5961e-02, -2.7543e-02,  3.2740e-02, -6.0457e-02,  3.6720e-02,\n",
      "        -1.6557e-02, -2.8446e-02, -6.5185e-02,  2.4496e-02, -3.9881e-02,\n",
      "         9.9122e-03, -6.4125e-02,  6.3761e-02,  8.6357e-02, -6.8151e-02,\n",
      "         6.9265e-02,  7.8672e-02, -6.2909e-03, -5.2229e-02, -7.2809e-02,\n",
      "        -4.7932e-02,  3.5692e-02,  2.0573e-02,  5.9720e-02,  8.4031e-02,\n",
      "        -6.0383e-02,  1.0128e-02,  7.5602e-02, -3.3451e-03, -6.8560e-02,\n",
      "         3.2436e-02, -2.0723e-02, -8.1555e-02, -5.6346e-02, -3.4348e-02,\n",
      "         8.3846e-02, -1.0447e-02, -1.4175e-02, -6.2923e-02,  2.8152e-02,\n",
      "        -5.0055e-03, -2.5972e-02, -5.3247e-02,  2.4032e-02,  2.8393e-02,\n",
      "        -7.7088e-02, -6.8290e-02, -2.3455e-02,  2.1010e-02,  1.8672e-02,\n",
      "         4.8169e-02, -1.8409e-02, -3.6172e-02, -1.1440e-02,  8.0885e-02,\n",
      "        -6.8634e-02,  5.3297e-02, -6.7730e-02, -2.0630e-02,  6.1183e-02,\n",
      "        -3.7833e-02,  3.4431e-04, -1.5660e-02,  3.2185e-02, -6.9452e-02,\n",
      "         7.9671e-02,  6.0794e-02, -8.7681e-02,  8.7898e-02, -5.7786e-02,\n",
      "         8.2448e-02, -2.3527e-02,  8.2221e-03, -2.1143e-02,  2.7334e-02,\n",
      "         8.4934e-02, -7.8153e-02,  4.8644e-02, -6.6986e-02,  1.4664e-02,\n",
      "         6.9133e-02,  3.4296e-03,  3.0800e-02,  6.3805e-02, -2.5001e-02,\n",
      "        -7.7442e-03, -4.4045e-02, -4.3618e-02, -7.5821e-02,  4.5520e-03,\n",
      "        -6.1098e-02, -7.5915e-02, -3.5972e-02,  3.2462e-03, -4.8916e-04,\n",
      "         3.0496e-02, -3.1084e-02,  3.0975e-02,  4.8576e-02, -4.7097e-03,\n",
      "        -6.5192e-02, -7.4723e-03, -7.5619e-02, -7.1912e-02,  1.5961e-02,\n",
      "        -7.8977e-02,  7.5766e-02, -5.7798e-02,  3.6035e-02,  2.3816e-02,\n",
      "         4.8091e-02, -2.5799e-02,  7.8107e-02,  2.1880e-03, -4.5478e-03,\n",
      "         2.4036e-02,  1.6025e-02,  7.2787e-02,  5.4104e-02, -1.3087e-02,\n",
      "         7.9121e-02, -6.9191e-02,  5.2288e-02, -3.2130e-02, -5.4769e-02,\n",
      "         8.6144e-02, -1.7657e-02,  2.6165e-02,  7.5890e-02, -4.6109e-02,\n",
      "        -6.2718e-02, -4.6289e-02, -1.6264e-02, -2.3516e-02,  7.9469e-02,\n",
      "         4.9332e-02, -3.2865e-03,  6.5069e-03,  1.3009e-03, -7.2904e-03,\n",
      "         3.8149e-02, -8.0119e-02, -5.4514e-02, -4.7833e-02,  3.6499e-03,\n",
      "         5.9606e-05, -7.8639e-02,  7.3728e-02,  6.0124e-03,  2.1224e-02,\n",
      "        -2.8101e-02,  2.8038e-02, -1.1558e-02,  2.4143e-02,  3.4410e-02,\n",
      "        -6.3406e-02,  6.7688e-02, -6.7169e-02,  8.1279e-02,  3.9503e-03,\n",
      "        -7.7612e-02, -7.0110e-02, -4.4516e-02, -3.9361e-02, -5.4639e-02,\n",
      "         7.0380e-02, -6.7547e-02,  1.7370e-02, -4.9480e-02, -4.9598e-02,\n",
      "        -5.1643e-02, -7.0560e-02,  2.3888e-02, -5.9937e-02, -3.8447e-02,\n",
      "         4.0446e-02, -8.2445e-02, -1.3456e-03, -7.4451e-02,  4.9383e-02,\n",
      "        -4.2909e-02, -1.9614e-02,  7.4519e-02,  7.8804e-03, -6.5264e-02,\n",
      "         8.7391e-02, -3.2020e-02, -7.2277e-02,  4.3652e-03,  2.2261e-02,\n",
      "         7.6362e-02,  7.5944e-02, -3.0861e-02,  6.1211e-02,  2.9437e-03,\n",
      "        -2.9635e-02,  1.7093e-03, -8.3581e-02, -6.8497e-02,  8.1385e-02,\n",
      "         7.3703e-02, -3.9764e-02,  8.6409e-02,  3.9390e-02,  4.0556e-02,\n",
      "        -7.8852e-02,  1.7344e-02,  1.0626e-02,  8.0786e-02,  2.7621e-02,\n",
      "        -1.6504e-02,  5.5106e-03,  6.8244e-02, -4.1556e-02, -5.3905e-02,\n",
      "         6.5650e-02, -4.7804e-02,  4.2315e-02,  5.4608e-02,  5.7560e-02,\n",
      "        -3.3275e-02,  1.3601e-02, -8.6291e-02, -6.7836e-02,  6.0179e-02,\n",
      "         2.9538e-02,  3.7715e-02, -2.8777e-02, -4.8594e-02,  5.4392e-02,\n",
      "        -7.7212e-02,  9.5584e-03,  5.0317e-03, -6.4105e-03,  3.8836e-02,\n",
      "         2.5974e-02, -8.7850e-02,  1.4750e-02,  7.9432e-02,  3.3454e-02,\n",
      "         7.5930e-02, -5.1712e-02,  5.4198e-02,  2.0387e-02, -5.6207e-02,\n",
      "         2.5000e-02, -3.0462e-02,  5.9292e-02,  7.7799e-02, -6.7264e-02,\n",
      "        -3.1794e-02,  6.2890e-02, -2.1060e-02,  7.9915e-02, -2.9073e-02,\n",
      "        -5.7347e-02,  6.5277e-02,  6.2450e-02, -2.5888e-02,  2.4388e-02,\n",
      "         6.8367e-03,  4.1466e-02, -5.8782e-02, -5.1643e-02, -3.7878e-02,\n",
      "         1.7427e-03, -2.4953e-02,  8.0259e-02, -8.7241e-02, -6.9620e-02,\n",
      "         6.0342e-04,  5.6435e-02,  4.7258e-02,  2.3453e-02, -4.4704e-02,\n",
      "        -5.0660e-02, -7.9070e-02,  7.4737e-02,  2.9101e-02, -3.3427e-02,\n",
      "        -8.9898e-03, -1.8849e-03,  8.2859e-02,  1.5960e-02,  1.4279e-02,\n",
      "         6.2216e-02,  7.7528e-02, -1.9302e-03,  1.8036e-02,  4.3058e-02,\n",
      "        -6.1691e-02, -6.8537e-04,  1.3522e-02,  1.0161e-02, -3.3635e-02,\n",
      "         7.8298e-02, -7.8688e-02,  5.5147e-02,  7.5064e-02,  6.3416e-02,\n",
      "        -2.0530e-03,  6.0417e-02, -2.7966e-02,  8.0942e-02,  1.1121e-02,\n",
      "        -5.2506e-02, -4.1955e-02,  7.5636e-02,  5.7251e-02, -5.8096e-02,\n",
      "         4.8427e-02, -6.1354e-02,  3.8138e-02,  1.5674e-02,  6.1002e-02,\n",
      "         3.3703e-02,  7.6802e-02,  3.7663e-02, -2.8398e-02, -8.4364e-02,\n",
      "        -4.8799e-03,  6.6510e-02, -1.8674e-02,  1.6108e-02,  2.5455e-02,\n",
      "         5.6116e-02, -7.1081e-02, -3.6139e-02, -6.3827e-02, -3.9389e-02,\n",
      "        -5.1373e-02,  3.6348e-02, -2.7494e-03,  1.8916e-02,  3.7257e-02,\n",
      "         1.4922e-02, -5.1286e-02,  6.6077e-02,  7.3731e-02,  1.8515e-03,\n",
      "        -8.0406e-02,  7.0037e-02,  8.6119e-02, -2.7165e-03, -3.5038e-02,\n",
      "         6.6389e-03,  8.3118e-02, -8.9653e-03, -8.6621e-02,  8.7676e-02,\n",
      "         8.3199e-02, -4.1888e-02,  4.9807e-02, -8.6091e-02, -5.9348e-03,\n",
      "        -8.6830e-02, -8.5646e-02, -8.7321e-02,  7.7684e-02, -5.2599e-02,\n",
      "         1.6586e-02, -5.2068e-02, -5.6134e-04, -2.9327e-03, -8.4988e-02,\n",
      "         2.3551e-02,  8.4154e-02, -3.1411e-02,  2.0019e-02,  7.6760e-02,\n",
      "         1.5300e-02,  1.0291e-02,  2.0179e-02,  5.7970e-02,  6.2935e-03,\n",
      "        -6.8901e-02, -3.7183e-02], requires_grad=True)\n",
      "Layer: lstm.bias_hh_l1 | Size: torch.Size([512]) | Values: Parameter containing:\n",
      "tensor([ 4.1818e-02,  7.7709e-02, -1.9250e-02, -7.1331e-02,  8.5011e-04,\n",
      "         4.7541e-02, -7.3856e-02,  2.4060e-02,  9.1052e-03,  2.8590e-03,\n",
      "        -8.5322e-02,  1.9385e-02,  5.2463e-02, -2.2507e-02,  4.7415e-02,\n",
      "        -7.7274e-02, -5.7098e-02, -1.2725e-02, -2.3686e-02,  1.0266e-02,\n",
      "        -2.9215e-02,  8.8382e-02,  1.0995e-02,  1.1892e-02, -8.8256e-02,\n",
      "         3.2340e-03, -8.3098e-02, -1.7089e-02,  6.8526e-02, -5.6482e-03,\n",
      "        -3.8007e-02,  5.2136e-02,  3.3440e-02, -1.3249e-02, -6.6600e-02,\n",
      "         8.3197e-04,  8.2795e-02, -4.9157e-02, -7.7090e-03,  6.8172e-02,\n",
      "        -5.4960e-02,  7.9608e-02, -4.3719e-02,  1.1481e-02, -4.6250e-02,\n",
      "        -2.6275e-02, -1.1758e-03, -2.1449e-02, -6.8010e-02,  5.4978e-02,\n",
      "         8.5743e-02,  6.9091e-02, -1.9306e-02,  8.1215e-02,  8.6912e-02,\n",
      "        -5.1840e-02,  5.9503e-02,  3.7141e-02,  5.9864e-02, -3.7240e-02,\n",
      "        -6.0306e-03, -8.3141e-02, -4.8239e-02, -4.0183e-03, -6.4293e-02,\n",
      "        -6.7619e-02, -8.3013e-02, -4.5509e-03,  6.2773e-03, -1.7039e-02,\n",
      "         2.6720e-03, -1.6839e-02,  3.5358e-02, -7.6108e-03,  4.6754e-02,\n",
      "         2.8485e-02, -3.9758e-02,  2.0831e-02, -6.6796e-02,  5.7934e-02,\n",
      "         6.4072e-02, -3.5293e-02, -3.2707e-02, -7.4446e-02, -6.6726e-02,\n",
      "        -8.7766e-02, -5.7753e-02, -5.2446e-02, -2.9524e-02, -7.4266e-02,\n",
      "        -2.1979e-02,  4.7922e-02,  7.5922e-02,  2.2831e-02, -2.4308e-02,\n",
      "         7.8011e-02, -2.3426e-02, -4.7034e-02,  3.2120e-02,  1.5197e-02,\n",
      "        -6.6710e-02, -3.5452e-02,  7.7517e-02,  4.3523e-03,  7.1873e-02,\n",
      "         3.8442e-02, -8.5100e-02,  2.4070e-02,  2.4060e-02,  7.4249e-02,\n",
      "         2.4302e-02,  6.1988e-02, -3.3954e-02, -7.2646e-02, -6.7794e-02,\n",
      "         6.0594e-02, -1.8093e-02, -7.4661e-02,  2.7962e-02,  5.1509e-02,\n",
      "         2.7144e-02, -8.5180e-02, -3.0366e-02,  2.2571e-02, -6.2981e-02,\n",
      "        -6.8403e-02, -5.5676e-02,  8.4111e-02, -5.1384e-02, -1.4398e-02,\n",
      "        -8.3322e-02, -2.8370e-04,  2.2254e-02, -8.5782e-02,  6.1585e-02,\n",
      "        -7.9328e-02,  6.0893e-02, -4.2480e-02,  2.7769e-02,  1.7822e-02,\n",
      "         3.2865e-02, -1.1901e-02,  2.2856e-02, -5.3137e-02,  8.5340e-02,\n",
      "        -6.8758e-02,  5.1809e-02,  6.7241e-02, -8.4672e-02, -7.9332e-02,\n",
      "         7.9685e-02, -2.1037e-03, -5.1391e-02,  6.3783e-03,  5.2803e-02,\n",
      "        -3.5521e-02,  5.2103e-02,  5.6233e-02, -4.1949e-02,  5.9891e-03,\n",
      "         7.1315e-02,  7.9849e-02,  5.5296e-02, -1.3592e-02, -4.5401e-02,\n",
      "        -5.8465e-02, -6.8718e-02, -4.6814e-02,  4.5284e-02,  5.4469e-02,\n",
      "        -5.0922e-02,  8.6628e-02, -4.9729e-02, -8.7716e-02,  6.6934e-02,\n",
      "        -2.5558e-02, -1.2025e-02,  5.3702e-02,  4.2827e-02, -2.8481e-02,\n",
      "         4.0668e-02,  7.7818e-02, -7.4411e-02,  8.0955e-02, -4.0831e-02,\n",
      "        -7.6279e-02, -8.3429e-02, -6.0824e-02,  3.0439e-02,  2.0530e-02,\n",
      "         5.9942e-03,  5.7768e-02,  8.3792e-02, -8.5200e-02, -2.1306e-02,\n",
      "         8.6928e-03,  8.6317e-02,  8.7128e-02, -8.5792e-02, -5.8021e-02,\n",
      "        -1.7352e-02,  5.5729e-02,  8.3312e-02,  1.5321e-02, -2.7291e-03,\n",
      "        -2.0799e-02,  6.2437e-02, -7.2604e-02,  8.7295e-02, -7.9011e-02,\n",
      "        -6.5070e-02,  5.6086e-02,  7.6050e-02,  3.0319e-02, -7.6724e-02,\n",
      "        -6.2027e-02, -2.0735e-02, -2.2901e-02, -7.9450e-02, -5.0305e-02,\n",
      "         5.5351e-02, -5.5818e-02, -9.0189e-03,  1.3990e-02, -8.8055e-05,\n",
      "        -5.1377e-02, -2.4084e-02, -3.5965e-02, -8.5272e-02, -8.4137e-02,\n",
      "         7.0759e-02, -2.6099e-02, -7.8962e-02, -6.9529e-02, -2.9590e-02,\n",
      "        -5.3313e-02,  4.6718e-02,  6.5721e-02, -7.5536e-02,  8.7980e-02,\n",
      "         4.8173e-02,  8.3401e-02,  1.5030e-02,  5.3170e-02,  4.2139e-02,\n",
      "        -5.5708e-04, -1.0655e-02, -1.7839e-02, -2.8633e-02,  5.2462e-02,\n",
      "         3.5389e-02,  5.9460e-02, -7.8283e-02,  3.0658e-02,  1.2133e-02,\n",
      "         5.7963e-02, -3.2169e-02, -4.6705e-02, -8.4360e-02,  5.1962e-02,\n",
      "        -7.6102e-02, -6.5198e-02, -8.4627e-02,  8.6608e-02, -8.7142e-02,\n",
      "         3.8383e-02,  4.2427e-02, -4.4228e-02, -2.2306e-02, -7.7622e-02,\n",
      "         4.7584e-02, -8.8385e-02,  3.2055e-02,  1.7346e-02,  7.7012e-02,\n",
      "         4.6295e-02, -4.7843e-02, -1.0277e-02, -5.0172e-02,  8.1103e-02,\n",
      "         4.9351e-02,  3.1363e-02,  7.5943e-02,  3.3133e-02,  6.8725e-03,\n",
      "         7.2244e-02, -2.0094e-02,  4.9545e-02,  7.6560e-02,  5.5855e-02,\n",
      "        -2.3232e-02, -6.7092e-02, -3.2698e-02,  1.8868e-02,  3.2051e-02,\n",
      "         6.9790e-03,  8.9250e-03, -7.8823e-02, -6.6728e-02,  5.5418e-02,\n",
      "        -6.6590e-03,  3.6014e-02,  1.8337e-02,  5.3264e-02, -5.6197e-02,\n",
      "         2.9293e-02, -5.2716e-02,  3.1452e-02,  4.4830e-02, -3.8358e-02,\n",
      "         2.8069e-02, -5.0378e-02,  5.6738e-02,  4.6578e-02,  6.2318e-02,\n",
      "         1.1498e-02, -4.4658e-02,  3.6308e-02,  1.8211e-03, -1.3376e-02,\n",
      "        -2.2836e-02,  5.3123e-02,  8.7131e-02,  5.1106e-02, -4.7745e-02,\n",
      "        -2.6992e-02, -5.2544e-02,  6.4829e-02, -2.7689e-02, -4.4155e-02,\n",
      "         7.8894e-02, -6.7557e-02, -7.3416e-02, -6.8925e-02, -3.9944e-03,\n",
      "         3.8728e-02, -8.4277e-02, -7.6394e-02, -1.2219e-02, -5.1613e-02,\n",
      "        -9.7783e-03, -5.0384e-02,  4.5486e-02, -2.6245e-02, -6.3833e-02,\n",
      "         3.3217e-02, -8.5799e-02, -7.4251e-02,  3.8325e-02, -7.6265e-02,\n",
      "        -7.1843e-02, -2.0055e-03, -6.5494e-02,  8.1387e-02,  7.5343e-02,\n",
      "        -5.8323e-02, -1.3765e-02, -7.6071e-02,  6.4184e-02,  1.4076e-02,\n",
      "        -5.0214e-02,  7.8280e-02, -1.6270e-02,  7.7191e-03,  6.2765e-03,\n",
      "         3.7272e-02, -1.4508e-02, -1.9339e-02,  3.5822e-03,  2.3457e-02,\n",
      "        -4.7659e-02,  7.8427e-02,  1.9542e-02, -7.4285e-02,  4.8579e-02,\n",
      "         1.3874e-02, -7.7158e-02, -3.0614e-02,  6.2062e-03,  5.6862e-02,\n",
      "        -1.0085e-02, -1.0551e-02, -3.4133e-02, -2.2806e-02, -6.8798e-02,\n",
      "         7.0800e-02,  4.5109e-02,  5.7700e-02, -7.1896e-02,  3.5289e-02,\n",
      "         1.4096e-02,  6.6373e-02, -3.8962e-02,  5.2289e-02,  7.0532e-02,\n",
      "        -2.0075e-02,  1.1416e-02, -7.1840e-02, -8.7570e-02, -7.1877e-02,\n",
      "         4.2610e-02,  8.7675e-02, -2.2825e-02, -1.5969e-02,  4.7421e-02,\n",
      "        -7.8555e-03, -4.4934e-02,  3.1207e-02,  6.5302e-02,  4.5739e-03,\n",
      "         1.4320e-03, -4.5391e-02,  4.8599e-02, -8.4660e-02,  8.1639e-02,\n",
      "         3.8671e-02, -1.3333e-02,  4.1356e-02,  6.2211e-02,  3.2736e-02,\n",
      "        -8.6770e-02,  5.3021e-02, -2.2393e-02,  6.2075e-02, -2.9349e-02,\n",
      "        -4.7035e-03,  4.2344e-02, -8.3310e-02,  3.4685e-02, -1.6672e-02,\n",
      "         2.6579e-02, -7.7463e-02, -4.2588e-02,  5.7694e-02, -2.0912e-02,\n",
      "        -3.3810e-02,  7.6587e-02, -4.7455e-02,  5.7378e-02, -5.3625e-02,\n",
      "        -8.3171e-02,  7.0541e-02, -2.9704e-02, -6.9258e-02,  1.4509e-02,\n",
      "        -2.9773e-02, -7.8110e-02, -2.1259e-02, -5.9660e-02, -7.8880e-02,\n",
      "        -4.9043e-02, -5.7081e-02,  5.1282e-02,  3.8256e-02,  1.5946e-02,\n",
      "         6.7567e-02, -5.8434e-02,  4.6952e-02, -8.4292e-02, -7.3117e-02,\n",
      "         6.6283e-02, -1.3654e-02,  5.3914e-02,  2.6720e-02,  8.4873e-02,\n",
      "         7.6423e-02,  5.9716e-02,  8.1730e-02, -9.2480e-04, -7.4331e-03,\n",
      "         1.7667e-02,  3.9662e-02, -1.5797e-03,  6.0564e-02, -4.5520e-03,\n",
      "        -4.8476e-02,  5.8421e-02, -7.8702e-02, -9.9840e-04,  7.4001e-02,\n",
      "         5.1199e-02,  6.6733e-02,  2.2255e-02, -3.3889e-02, -9.9590e-03,\n",
      "         5.8902e-02,  5.7436e-02,  2.2612e-02,  1.8064e-02, -5.3881e-02,\n",
      "         2.8956e-02,  5.6130e-02,  3.7345e-02, -9.2064e-03,  4.7533e-02,\n",
      "         2.0636e-02, -1.3209e-02,  6.9419e-02, -1.7259e-02,  7.4763e-02,\n",
      "         1.6426e-02,  3.7656e-02, -4.2932e-02, -3.2144e-02,  3.3754e-02,\n",
      "        -5.1751e-02,  3.6020e-02,  1.7488e-02,  3.7005e-02,  5.0523e-02,\n",
      "        -7.0224e-02,  7.5802e-02], requires_grad=True)\n",
      "Layer: lstm.weight_ih_l2 | Size: torch.Size([512, 128]) | Values: Parameter containing:\n",
      "tensor([[-0.0432,  0.0270,  0.0096,  ..., -0.0576,  0.0671,  0.0599],\n",
      "        [ 0.0209, -0.0771, -0.0199,  ..., -0.0420, -0.0029, -0.0147],\n",
      "        [ 0.0746, -0.0652, -0.0475,  ...,  0.0883, -0.0083, -0.0188],\n",
      "        ...,\n",
      "        [-0.0274,  0.0665,  0.0191,  ...,  0.0794, -0.0405, -0.0503],\n",
      "        [-0.0164,  0.0032,  0.0152,  ..., -0.0212, -0.0090, -0.0422],\n",
      "        [ 0.0666,  0.0521,  0.0063,  ...,  0.0524, -0.0358,  0.0389]],\n",
      "       requires_grad=True)\n",
      "Layer: lstm.weight_hh_l2 | Size: torch.Size([512, 128]) | Values: Parameter containing:\n",
      "tensor([[-0.0284,  0.0834,  0.0533,  ...,  0.0171,  0.0595,  0.0762],\n",
      "        [-0.0614, -0.0761, -0.0295,  ..., -0.0281,  0.0499, -0.0471],\n",
      "        [-0.0505,  0.0836,  0.0774,  ...,  0.0033, -0.0830, -0.0171],\n",
      "        ...,\n",
      "        [-0.0526,  0.0640, -0.0612,  ...,  0.0255,  0.0080,  0.0731],\n",
      "        [-0.0319,  0.0762, -0.0192,  ...,  0.0049, -0.0647,  0.0320],\n",
      "        [ 0.0047, -0.0447, -0.0519,  ...,  0.0504,  0.0035,  0.0107]],\n",
      "       requires_grad=True)\n",
      "Layer: lstm.bias_ih_l2 | Size: torch.Size([512]) | Values: Parameter containing:\n",
      "tensor([ 1.3814e-02, -2.0966e-02, -3.3522e-02,  1.9120e-02, -5.1504e-02,\n",
      "         7.0739e-02,  8.0307e-02,  7.7086e-02, -4.6010e-02, -8.5816e-02,\n",
      "         7.9710e-02, -2.3816e-03,  7.5210e-02, -8.0925e-03,  2.9910e-02,\n",
      "        -7.5948e-02, -1.1164e-02, -1.6218e-02, -1.9789e-02, -7.8804e-02,\n",
      "         4.8833e-03, -2.4236e-02,  7.8846e-02, -6.6917e-02,  7.8946e-02,\n",
      "        -7.6660e-02,  1.0671e-02,  1.7761e-02,  2.0656e-02,  5.8062e-02,\n",
      "         5.0230e-03,  2.1843e-02,  1.3673e-02,  8.2989e-02, -2.1824e-02,\n",
      "         8.8566e-03,  1.6068e-02, -2.5035e-02, -4.0707e-02,  8.1090e-02,\n",
      "         3.9573e-02, -4.6402e-03, -2.3358e-03,  1.2289e-02,  4.9980e-02,\n",
      "        -2.9899e-02, -7.7805e-02, -3.9655e-04, -4.7326e-02,  4.8365e-02,\n",
      "         4.0335e-02, -1.8766e-02,  8.2811e-02, -8.4891e-02, -7.4614e-02,\n",
      "         4.1089e-02,  2.8178e-02, -4.9346e-02,  7.5930e-02,  7.3203e-02,\n",
      "         5.3164e-02, -5.2650e-02, -6.6953e-02, -5.0907e-02,  3.5165e-02,\n",
      "         5.4775e-02, -1.9672e-03, -2.4292e-02,  3.2734e-02, -4.2473e-02,\n",
      "        -4.7283e-02, -2.0583e-02,  4.9696e-02, -3.0519e-02, -3.0966e-02,\n",
      "         2.2570e-03, -3.8378e-02, -5.3088e-02,  1.8617e-02,  7.0732e-02,\n",
      "        -1.1771e-02,  5.1726e-02, -4.9963e-02, -2.0059e-02,  5.8239e-02,\n",
      "         1.4337e-02, -7.3955e-02, -6.5950e-02,  3.7318e-02,  7.8641e-02,\n",
      "         5.8634e-02,  2.4718e-02,  4.2527e-02,  2.8639e-02,  2.4450e-02,\n",
      "        -7.0215e-02,  1.7787e-02,  7.0549e-02,  3.7641e-03,  4.4274e-02,\n",
      "         8.5222e-02, -1.6539e-02,  1.5654e-02, -6.0794e-02, -2.4452e-02,\n",
      "        -5.3219e-02,  1.6499e-04,  9.4224e-03,  5.8470e-02,  3.9024e-02,\n",
      "        -1.9131e-02, -1.2560e-02, -6.9734e-02,  4.2503e-02,  8.0771e-02,\n",
      "        -5.8400e-02, -9.0526e-03, -2.1243e-02,  7.3289e-02,  6.8284e-02,\n",
      "         6.6435e-02, -4.2777e-02, -3.2371e-02, -5.9483e-02,  9.5989e-03,\n",
      "         5.4871e-02, -6.7852e-02,  6.9360e-02,  7.2038e-02, -9.8780e-03,\n",
      "        -2.4610e-02, -5.3663e-02, -8.4848e-02, -5.0681e-02,  5.8377e-02,\n",
      "         1.6412e-02,  6.8038e-02,  5.2417e-02,  3.8839e-02, -3.1974e-02,\n",
      "        -7.8127e-02, -4.3252e-02, -2.7471e-02,  1.5512e-02,  5.4056e-02,\n",
      "         5.4963e-02,  2.2807e-02, -6.5820e-02,  6.9344e-02,  9.8816e-03,\n",
      "        -2.9444e-02,  3.2333e-02,  1.5713e-02, -6.2607e-02,  2.0632e-02,\n",
      "        -4.6531e-02, -4.9809e-02,  2.1119e-02, -5.4650e-02,  6.4569e-02,\n",
      "         2.5396e-02, -4.0628e-02, -3.0889e-02,  6.7542e-03,  4.9953e-02,\n",
      "         8.1838e-02,  7.6243e-02, -7.2036e-03,  6.8512e-02,  2.9471e-02,\n",
      "        -3.3958e-02,  5.9086e-02, -4.7849e-02, -4.3303e-02,  3.9117e-02,\n",
      "         7.0992e-02,  2.5573e-02,  2.0094e-02,  5.8995e-02, -3.5668e-02,\n",
      "        -1.9258e-02,  5.3156e-02, -2.7403e-02,  2.2264e-02,  2.1442e-02,\n",
      "        -7.6497e-02,  5.5181e-02, -2.7304e-02,  4.6643e-02,  8.6491e-02,\n",
      "         3.0967e-02,  1.7827e-02,  6.1357e-02, -2.7987e-02,  3.4363e-04,\n",
      "         3.1497e-02, -5.7104e-02, -2.7732e-02, -4.8136e-02,  5.7011e-02,\n",
      "        -2.4982e-02, -6.3530e-02,  7.2965e-02,  1.8514e-02,  3.5742e-03,\n",
      "         9.3244e-03, -7.7784e-02,  5.0328e-02,  1.7253e-02,  1.8176e-03,\n",
      "        -8.2481e-02,  6.7256e-02,  6.1651e-04,  4.4875e-02,  4.5924e-02,\n",
      "         6.5980e-02, -6.3354e-02,  2.4980e-02,  3.8846e-02,  7.5817e-02,\n",
      "        -4.8087e-02,  4.8933e-02, -1.0042e-02, -4.7429e-02,  6.9584e-03,\n",
      "         5.5361e-02, -5.7837e-03, -1.1343e-02,  6.0353e-02,  5.2196e-02,\n",
      "        -7.1141e-02, -3.8763e-02, -5.9253e-02,  5.8956e-02,  2.8563e-02,\n",
      "        -4.8627e-02, -6.9075e-02, -9.9402e-04, -1.0122e-02,  1.4422e-02,\n",
      "        -6.1368e-02, -5.6710e-02, -1.3632e-02, -2.7931e-02, -6.8959e-02,\n",
      "         5.0179e-02, -5.9073e-02,  6.4317e-02,  7.6897e-02, -5.0217e-02,\n",
      "        -4.8000e-02,  6.5672e-02, -3.9318e-02, -4.4363e-02, -3.5778e-02,\n",
      "         8.4617e-03, -3.1516e-02, -3.4913e-02, -4.5457e-02, -5.9292e-02,\n",
      "        -8.3383e-02, -4.4745e-02,  4.8229e-02, -6.0154e-05, -7.9942e-02,\n",
      "         2.1958e-02, -7.2038e-02, -1.5322e-03,  1.0346e-02, -1.1696e-02,\n",
      "        -3.1563e-02, -3.1347e-05, -4.8046e-02,  7.8711e-02, -8.8345e-02,\n",
      "        -7.2491e-02,  5.2708e-02,  9.3197e-03, -6.1119e-02, -2.0010e-02,\n",
      "        -8.1297e-02, -4.5252e-02,  3.4711e-02, -3.0349e-02,  4.3790e-02,\n",
      "        -6.6662e-02, -8.3863e-02,  1.2006e-02, -7.5791e-02,  4.9350e-02,\n",
      "        -4.8134e-02, -3.9188e-02,  5.2586e-02,  1.6654e-02,  6.5912e-04,\n",
      "        -2.8162e-02, -1.6194e-02,  7.6537e-02,  3.1776e-02, -4.6143e-03,\n",
      "        -3.4759e-02, -4.8382e-02,  3.3751e-02,  2.1080e-02, -8.7704e-02,\n",
      "         1.9912e-02, -6.2740e-02, -6.4998e-02, -1.0758e-02,  1.3419e-02,\n",
      "         1.7793e-02,  7.6373e-02,  7.0365e-02, -5.2698e-02, -7.6546e-02,\n",
      "        -1.9455e-02,  8.4298e-02, -5.9700e-03, -3.0132e-02, -7.5947e-02,\n",
      "         3.5001e-02,  8.7006e-02, -8.6473e-02,  2.8834e-02, -3.5495e-03,\n",
      "        -7.2099e-02,  8.7960e-05,  3.6918e-02,  7.5675e-02, -2.0381e-02,\n",
      "        -8.8267e-02,  1.0831e-02, -6.2628e-02,  1.8967e-02, -5.5881e-02,\n",
      "         2.2455e-02, -7.4485e-02,  6.6088e-02, -8.7455e-02,  7.0190e-02,\n",
      "         6.0153e-03,  6.0810e-02,  1.1375e-02,  8.6316e-03, -5.1313e-02,\n",
      "        -5.4244e-04,  1.1195e-02,  1.8294e-03, -6.6670e-02,  2.9041e-03,\n",
      "        -5.0522e-02, -1.7448e-02, -3.4993e-02, -4.8271e-02,  2.8055e-02,\n",
      "         3.7363e-02,  1.7420e-02, -3.6600e-02, -6.6458e-02,  7.0469e-02,\n",
      "         6.4242e-02,  7.0201e-02, -5.1658e-02,  4.6317e-02, -7.4347e-02,\n",
      "        -1.1103e-02,  5.9097e-02,  4.2303e-02,  3.0178e-02, -8.3596e-02,\n",
      "         1.1814e-02,  5.4309e-02, -1.0624e-02, -3.9929e-02,  7.7577e-02,\n",
      "        -8.1716e-02,  1.7792e-02,  8.3981e-02,  1.8704e-02, -1.1349e-02,\n",
      "         8.6540e-02,  1.5606e-02, -3.8894e-02, -4.0856e-02, -4.4565e-02,\n",
      "        -7.7982e-02, -6.9291e-02, -8.7845e-02,  8.5642e-02,  5.0465e-02,\n",
      "         2.4162e-02,  2.1828e-02, -7.4513e-02, -3.0369e-02,  3.7453e-02,\n",
      "        -3.8178e-02, -8.1191e-02, -1.1402e-02, -7.3346e-02, -1.8975e-02,\n",
      "         8.2922e-02, -7.4017e-02, -1.4051e-02, -2.2415e-02, -5.3477e-02,\n",
      "        -2.5594e-02,  4.0230e-03, -2.0919e-03, -2.3551e-02, -4.7957e-02,\n",
      "         1.9848e-02, -3.3302e-02,  5.0508e-02, -1.3688e-02,  1.3086e-02,\n",
      "         5.9998e-02, -8.6508e-02,  5.1824e-02, -5.1747e-02,  2.5210e-02,\n",
      "         8.6010e-02,  5.4831e-02,  8.6579e-02, -1.0553e-03, -1.3919e-02,\n",
      "        -1.4601e-02,  4.5491e-02,  6.4555e-02,  2.5501e-03, -4.9183e-03,\n",
      "         5.6748e-02, -6.7608e-02,  5.9412e-02,  5.5323e-02, -5.9207e-02,\n",
      "         2.3568e-02,  6.1298e-03,  5.3144e-02,  3.8237e-02,  7.4365e-02,\n",
      "        -2.3876e-02, -5.3634e-02,  8.8043e-02, -1.5555e-02, -1.5150e-02,\n",
      "        -7.7350e-02, -1.3333e-02,  4.3476e-02, -1.1210e-02, -4.3308e-02,\n",
      "         2.5214e-02,  6.3790e-02,  6.7760e-02,  1.9903e-02,  8.2065e-03,\n",
      "         1.5716e-02,  5.6600e-02, -5.6026e-03, -2.1579e-02, -7.9990e-02,\n",
      "        -4.8376e-02, -6.7182e-02, -8.9566e-03,  6.0642e-02, -1.4157e-02,\n",
      "        -2.7437e-02,  8.8030e-02, -5.8594e-02,  3.9747e-02, -5.8980e-02,\n",
      "         3.6338e-03,  1.1715e-02, -7.6346e-02, -1.9771e-02, -4.3044e-02,\n",
      "        -8.6153e-02,  7.8496e-02,  2.8884e-02, -5.2878e-02, -8.0833e-02,\n",
      "        -8.7019e-02,  3.4910e-02, -4.0369e-02,  1.9412e-02, -7.4677e-02,\n",
      "         5.8721e-02,  4.1530e-02,  1.0305e-02, -3.5937e-02, -3.7504e-02,\n",
      "        -4.1536e-02, -5.3974e-02, -3.9135e-02, -3.8756e-02, -2.7281e-02,\n",
      "         5.4340e-02, -2.7360e-02,  7.8361e-03, -8.7120e-02,  1.7888e-02,\n",
      "         2.8196e-02,  6.6165e-02, -8.4971e-02,  1.1622e-02,  2.7751e-02,\n",
      "        -3.2459e-02, -7.3634e-02, -1.5332e-02,  5.0196e-03,  4.5751e-02,\n",
      "         3.8137e-02, -1.8175e-02], requires_grad=True)\n",
      "Layer: lstm.bias_hh_l2 | Size: torch.Size([512]) | Values: Parameter containing:\n",
      "tensor([-2.3799e-02, -5.7072e-02, -1.9147e-02, -1.2625e-02,  7.4259e-02,\n",
      "        -4.5866e-02,  1.3134e-02, -3.0170e-02, -6.7665e-03,  4.4550e-02,\n",
      "        -1.2704e-02, -5.0469e-02, -7.0824e-02, -5.9088e-02,  4.0485e-02,\n",
      "         7.3454e-02, -8.6533e-02,  8.3698e-02, -8.8267e-02,  3.6547e-02,\n",
      "        -7.6384e-02, -7.6882e-02, -7.6815e-02, -8.5273e-02, -1.5912e-03,\n",
      "        -3.4793e-02,  2.9508e-02, -2.2927e-02, -1.7138e-02,  2.6312e-02,\n",
      "         7.5213e-02,  2.9219e-02, -4.2523e-02, -1.4161e-02,  8.2124e-02,\n",
      "         7.2190e-02, -3.4892e-02,  4.7579e-02, -6.5111e-03, -4.9435e-03,\n",
      "        -4.2057e-02,  4.1994e-02,  3.0210e-02, -5.4302e-02, -3.1547e-02,\n",
      "         3.2398e-02,  3.9867e-02,  7.4437e-02, -6.1008e-02,  6.7138e-02,\n",
      "         6.1591e-02,  1.6188e-03,  5.1070e-02, -2.2838e-02,  2.9820e-02,\n",
      "        -3.7867e-02, -9.8818e-03,  5.9849e-06, -3.1681e-03,  8.2607e-02,\n",
      "        -6.0770e-02, -5.7258e-03,  4.4354e-02,  4.3845e-02,  7.6167e-02,\n",
      "         4.7153e-03, -7.7387e-02,  3.0526e-03,  4.7979e-02, -7.9881e-02,\n",
      "        -3.9268e-02, -6.4602e-02,  3.6689e-02, -8.4639e-02,  4.5165e-02,\n",
      "        -1.6997e-02, -3.2441e-02,  4.4797e-02,  9.6833e-03,  8.1029e-02,\n",
      "         7.2244e-02, -6.5293e-02, -2.2239e-02, -5.2191e-02, -6.7060e-02,\n",
      "        -3.2431e-02,  2.9000e-02,  7.1184e-02, -7.8603e-02,  1.4884e-02,\n",
      "         3.6027e-02,  4.7430e-02,  8.3083e-02, -8.0744e-02, -2.6874e-02,\n",
      "         8.5676e-02, -4.2782e-03, -4.2175e-02,  6.3585e-02, -8.7020e-02,\n",
      "        -7.6366e-02, -7.1261e-02,  7.4502e-02,  4.7687e-02,  7.0215e-03,\n",
      "        -6.9699e-02,  2.7873e-02, -7.0267e-02,  1.9569e-02,  7.2971e-03,\n",
      "         1.7148e-02, -3.2797e-02, -4.4763e-02,  1.5328e-02, -6.1477e-02,\n",
      "         5.2840e-02, -6.7881e-02, -3.2709e-02,  6.9708e-02, -4.6038e-02,\n",
      "        -3.0862e-02, -6.7075e-02,  1.0526e-02, -2.9134e-02, -1.8002e-02,\n",
      "        -1.3449e-02, -3.1425e-02, -2.2403e-02, -5.7125e-02,  5.5990e-02,\n",
      "         5.5734e-02, -4.1819e-03, -6.0898e-02,  6.9885e-03,  9.5744e-03,\n",
      "         5.5298e-02,  3.7120e-02,  4.7762e-02, -5.1784e-02, -4.8752e-02,\n",
      "         2.6108e-03, -1.2019e-02,  8.3794e-02, -2.6541e-02, -2.5503e-02,\n",
      "         8.7472e-02, -8.1831e-02, -7.6356e-02,  2.3904e-03,  3.9825e-02,\n",
      "        -2.1387e-02,  4.7000e-02, -4.0260e-02,  1.6271e-02, -1.8401e-02,\n",
      "         6.4274e-02, -7.5775e-02, -1.8796e-02, -7.6373e-02, -4.1193e-02,\n",
      "        -6.6768e-02, -1.7948e-02, -4.0014e-02,  4.3436e-02,  7.5585e-02,\n",
      "         3.1628e-02,  3.5098e-02,  1.5811e-02,  5.1136e-02,  7.6923e-02,\n",
      "         2.3673e-02, -7.4323e-02, -6.1785e-02, -3.7203e-02, -5.7506e-03,\n",
      "         3.7010e-02,  7.3259e-02,  2.8438e-02, -2.2051e-02,  6.1778e-02,\n",
      "        -1.5181e-02, -1.7318e-02, -1.7257e-02,  1.4269e-02,  7.5901e-02,\n",
      "        -2.9177e-02,  8.3386e-02,  6.9450e-02, -3.0369e-02, -3.5637e-02,\n",
      "        -3.4798e-03,  5.4536e-02, -4.7653e-02, -2.7920e-02,  7.5620e-02,\n",
      "         3.3081e-02, -6.7071e-02,  2.2476e-03, -8.7184e-02,  6.7754e-02,\n",
      "         7.6745e-02, -5.7718e-02, -1.8076e-02, -5.5722e-02,  2.5823e-02,\n",
      "         2.3557e-02, -6.8987e-02,  7.3129e-02,  1.2971e-02,  4.0764e-02,\n",
      "        -2.5174e-02,  4.7629e-02,  4.3277e-03,  1.6032e-02,  8.5110e-02,\n",
      "         5.9621e-03,  8.3025e-02,  3.0969e-02, -7.6751e-02, -9.6575e-03,\n",
      "         7.3055e-02, -2.7549e-02, -8.8167e-02,  5.2688e-02, -5.7226e-02,\n",
      "        -5.8189e-02,  1.8069e-02,  7.5737e-02, -4.3685e-02, -4.8548e-02,\n",
      "         1.7685e-02,  7.9469e-02,  5.9595e-03, -7.0475e-02, -2.1955e-03,\n",
      "         3.3162e-02,  3.0914e-02, -4.7246e-02,  2.6421e-02, -5.2063e-02,\n",
      "        -1.3695e-02,  1.2637e-02, -2.8651e-02, -1.8566e-02, -1.4333e-02,\n",
      "        -7.6837e-02,  2.2626e-02, -6.8814e-02,  1.8468e-02,  3.3866e-02,\n",
      "        -7.8382e-02,  5.5168e-02, -2.5242e-02, -3.9895e-02, -1.2522e-02,\n",
      "         2.0987e-02, -5.5569e-04, -2.5862e-02,  6.6344e-02,  1.2075e-03,\n",
      "         1.1261e-03, -7.9653e-02,  8.0535e-02, -2.1313e-02, -3.9331e-02,\n",
      "        -5.0812e-03, -2.3221e-02,  4.6426e-02,  2.2073e-02,  5.4692e-03,\n",
      "         4.9518e-02,  3.6866e-02,  7.5704e-02, -4.6675e-02,  6.4032e-02,\n",
      "        -1.8600e-02, -2.7574e-03, -7.2078e-02, -6.4143e-02, -7.7386e-02,\n",
      "         7.2139e-02,  1.6169e-02,  5.2872e-02, -4.8966e-02, -4.7787e-02,\n",
      "        -4.5100e-02,  1.9050e-02, -1.1556e-02,  4.3449e-02, -7.0286e-02,\n",
      "        -2.2978e-02,  5.0606e-02, -5.6324e-02, -6.8540e-02,  5.0404e-03,\n",
      "         8.1281e-02,  7.0117e-02,  5.1320e-02,  3.7656e-02, -3.5400e-02,\n",
      "        -6.4196e-02, -1.5112e-02,  1.3481e-02, -5.5047e-02,  5.1022e-02,\n",
      "        -3.5088e-02,  2.0848e-02,  7.7448e-02,  6.2223e-02,  8.0200e-02,\n",
      "        -6.6905e-02, -8.2926e-02, -7.3344e-02, -6.9727e-02,  7.2126e-02,\n",
      "         3.4518e-03, -6.7509e-02,  2.4701e-03, -4.5196e-02, -6.3558e-02,\n",
      "         8.1090e-02, -4.0034e-02,  1.3485e-02, -7.3840e-03, -2.0242e-02,\n",
      "         2.9689e-02, -4.6095e-04,  3.1282e-02,  7.8480e-02, -7.7378e-02,\n",
      "        -6.1577e-05, -7.3726e-02,  5.5371e-02, -4.4732e-02, -3.0649e-02,\n",
      "         6.0567e-02, -2.5723e-02,  2.7139e-04, -5.3923e-02, -3.1658e-02,\n",
      "        -3.5812e-04, -4.3544e-02, -4.8726e-02, -5.2767e-02, -7.5620e-02,\n",
      "         6.1181e-02,  5.3826e-02, -6.0777e-02,  5.9443e-02, -7.1444e-04,\n",
      "         5.3328e-02, -3.2711e-02, -5.0657e-02, -3.8546e-02,  6.4974e-02,\n",
      "         5.7693e-02, -2.9791e-02, -5.8342e-02, -5.0475e-02, -8.5603e-03,\n",
      "        -7.1474e-02,  8.6563e-02, -6.7943e-02, -4.6375e-03, -4.8243e-02,\n",
      "         3.5794e-02, -8.7746e-02, -1.0678e-02,  1.4871e-02,  7.8253e-02,\n",
      "         1.0677e-02, -2.8019e-02, -2.4444e-02,  4.4375e-02, -8.8056e-02,\n",
      "         8.4223e-02,  6.0646e-02,  6.5005e-02,  9.8646e-03, -1.4422e-02,\n",
      "         3.6182e-02, -2.1841e-02,  1.5108e-02,  1.6936e-02, -5.6358e-02,\n",
      "         1.4150e-02,  3.7509e-02,  8.4701e-02,  2.0860e-02,  7.7364e-02,\n",
      "         2.2125e-02,  5.1019e-02, -4.2408e-02, -6.7272e-02,  1.3916e-02,\n",
      "         5.1441e-02,  5.4837e-03, -1.5477e-03,  4.4061e-02,  6.4022e-02,\n",
      "        -4.0837e-02,  5.8225e-02, -2.6871e-02,  6.6087e-02, -1.3895e-02,\n",
      "         5.7775e-02, -5.4050e-02, -5.6616e-02, -5.8147e-02,  4.2158e-02,\n",
      "        -7.0094e-02,  4.7786e-02,  4.7541e-02, -1.5654e-02,  6.5106e-02,\n",
      "         2.9490e-02,  7.8022e-02, -2.1211e-03,  2.3621e-02,  5.8663e-02,\n",
      "        -5.3886e-03, -8.1710e-02, -2.5096e-02,  4.2653e-02, -7.1904e-02,\n",
      "        -7.3241e-02,  7.2352e-02,  3.1431e-03, -6.1419e-02,  3.3530e-02,\n",
      "         7.5818e-02,  2.8954e-02,  5.5593e-02, -8.2563e-02,  6.4913e-02,\n",
      "        -7.2413e-03,  6.1917e-02,  3.9647e-02, -7.9511e-02, -2.4768e-02,\n",
      "         1.3717e-02,  1.4487e-02, -2.2939e-02,  4.1757e-03,  2.6079e-02,\n",
      "         2.9724e-02,  7.3140e-02,  3.3665e-02, -8.0848e-02,  1.4911e-02,\n",
      "         7.8908e-02, -3.8409e-02, -1.7765e-02,  5.4854e-02,  7.3529e-02,\n",
      "        -4.2367e-02,  1.4984e-02,  1.0985e-04, -8.0374e-02, -4.0617e-02,\n",
      "         8.4934e-02,  8.2053e-02, -8.8187e-02,  8.2981e-02, -8.0421e-02,\n",
      "         3.3051e-02, -8.7525e-02, -8.9998e-04,  2.5737e-02, -4.9342e-02,\n",
      "        -6.5832e-02,  6.2485e-02, -6.7842e-02, -7.3951e-02, -5.7407e-02,\n",
      "         4.6477e-02, -3.7868e-02, -4.8398e-02,  7.9626e-02,  2.2988e-04,\n",
      "        -2.4015e-02,  5.2797e-02, -8.2583e-02, -3.7927e-02,  6.7803e-03,\n",
      "        -8.2382e-02,  2.0861e-02, -7.2660e-02,  7.0846e-02,  6.4553e-02,\n",
      "        -6.6171e-02, -7.3512e-02, -4.2830e-02,  1.1190e-02,  8.6226e-02,\n",
      "        -4.6846e-02,  4.0200e-02,  8.5853e-02,  6.8119e-02,  4.8751e-02,\n",
      "         4.9067e-02,  6.2355e-02, -1.9008e-02, -1.1927e-02, -5.2638e-02,\n",
      "         4.1690e-02, -3.5699e-03, -6.6598e-02,  5.7835e-02,  7.6541e-02,\n",
      "         3.5910e-03,  1.3848e-03], requires_grad=True)\n",
      "Layer: fc.weight | Size: torch.Size([1, 128]) | Values: Parameter containing:\n",
      "tensor([[-0.0075, -0.0774,  0.0257,  0.0354,  0.0629,  0.0335, -0.0573,  0.0684,\n",
      "         -0.0595, -0.0725,  0.0770, -0.0786, -0.0113, -0.0387,  0.0862,  0.0758,\n",
      "          0.0605, -0.0777,  0.0674, -0.0635,  0.0074,  0.0580, -0.0717, -0.0503,\n",
      "         -0.0598, -0.0468, -0.0237,  0.0191, -0.0773, -0.0002, -0.0099, -0.0078,\n",
      "         -0.0523,  0.0417,  0.0609,  0.0689,  0.0564,  0.0847, -0.0678,  0.0868,\n",
      "          0.0518, -0.0791, -0.0827,  0.0868, -0.0278, -0.0529, -0.0415, -0.0315,\n",
      "          0.0730, -0.0478, -0.0432,  0.0508,  0.0543,  0.0430,  0.0690,  0.0607,\n",
      "         -0.0339, -0.0291, -0.0819,  0.0508, -0.0224, -0.0740, -0.0554, -0.0233,\n",
      "          0.0140,  0.0320,  0.0569,  0.0129,  0.0349,  0.0021, -0.0599,  0.0037,\n",
      "          0.0467,  0.0272, -0.0881, -0.0288,  0.0056,  0.0045,  0.0823, -0.0155,\n",
      "          0.0563, -0.0865,  0.0730,  0.0490,  0.0328,  0.0734, -0.0485,  0.0212,\n",
      "          0.0869,  0.0588, -0.0037, -0.0534, -0.0801,  0.0325, -0.0565, -0.0259,\n",
      "          0.0472, -0.0163, -0.0096, -0.0056, -0.0498,  0.0672, -0.0044,  0.0546,\n",
      "         -0.0646, -0.0304, -0.0286,  0.0293, -0.0246,  0.0400,  0.0660,  0.0308,\n",
      "         -0.0118,  0.0654, -0.0749, -0.0723,  0.0593,  0.0009, -0.0168,  0.0793,\n",
      "          0.0372, -0.0637,  0.0181,  0.0808, -0.0081,  0.0853,  0.0687, -0.0268]],\n",
      "       requires_grad=True)\n",
      "Layer: fc.bias | Size: torch.Size([1]) | Values: Parameter containing:\n",
      "tensor([-0.0314], requires_grad=True)\n"
     ]
    }
   ],
   "source": [
    "for name, param in multimodal_model.named_parameters():\n",
    "    if 'weight' in name:\n",
    "        print(f'Layer: {name} | Size: {param.size()} | Values: {param}')\n",
    "    if 'bias' in name:\n",
    "        print(f'Layer: {name} | Size: {param.size()} | Values: {param}')\n"
   ]
  },
  {
   "cell_type": "code",
   "execution_count": 201,
   "metadata": {},
   "outputs": [
    {
     "data": {
      "application/vnd.jupyter.widget-view+json": {
       "model_id": "dc7f8030f2e4484e9a61d51357872eba",
       "version_major": 2,
       "version_minor": 0
      },
      "text/plain": [
       "Evaluation:   0%|          | 0/31 [00:00<?, ?it/s]"
      ]
     },
     "metadata": {},
     "output_type": "display_data"
    }
   ],
   "source": [
    "y_pred = []\n",
    "\n",
    "for inputs in tqdm_notebook(final_concat_lstm_features,total=len(final_concat_lstm_features), desc='Evaluation'):\n",
    "    with torch.no_grad():\n",
    "        multimodal_model.eval()\n",
    "        outputs, out = multimodal_model(inputs.reshape(-1,1,input_size))\n",
    "        y_pred.append(outputs)"
   ]
  },
  {
   "cell_type": "code",
   "execution_count": 202,
   "metadata": {},
   "outputs": [
    {
     "data": {
      "text/plain": [
       "(31, torch.Size([250, 1]), torch.Size([250]))"
      ]
     },
     "execution_count": 202,
     "metadata": {},
     "output_type": "execute_result"
    }
   ],
   "source": [
    "len(y_pred),y_pred[0].shape,y_pred[0].squeeze().shape"
   ]
  },
  {
   "cell_type": "code",
   "execution_count": 203,
   "metadata": {},
   "outputs": [
    {
     "data": {
      "text/plain": [
       "(31, torch.Size([1, 250]), torch.Size([250]))"
      ]
     },
     "execution_count": 203,
     "metadata": {},
     "output_type": "execute_result"
    }
   ],
   "source": [
    "len(label), label[0].shape, label[0].squeeze().shape"
   ]
  },
  {
   "cell_type": "code",
   "execution_count": 204,
   "metadata": {},
   "outputs": [],
   "source": [
    "y_pred_flat = [y.item() for x in y_pred for y in x]\n",
    "\n",
    "label = [t.squeeze().tolist() for t in label]\n",
    "label = sum(label, [])"
   ]
  },
  {
   "cell_type": "code",
   "execution_count": 205,
   "metadata": {},
   "outputs": [
    {
     "data": {
      "text/plain": [
       "(6700, 6700)"
      ]
     },
     "execution_count": 205,
     "metadata": {},
     "output_type": "execute_result"
    }
   ],
   "source": [
    "len(y_pred_flat), len(label)"
   ]
  },
  {
   "cell_type": "code",
   "execution_count": 207,
   "metadata": {},
   "outputs": [],
   "source": [
    "y_pred = np.array(y_pred_flat)\n",
    "y_true = np.array(label)"
   ]
  },
  {
   "cell_type": "code",
   "execution_count": 209,
   "metadata": {},
   "outputs": [
    {
     "data": {
      "text/plain": [
       "(array([0.4177627 , 0.38447669, 0.40284538, ..., 0.49567479, 0.09405554,\n",
       "        0.0922046 ]),\n",
       " array([0., 0., 0., ..., 0., 0., 0.]))"
      ]
     },
     "execution_count": 209,
     "metadata": {},
     "output_type": "execute_result"
    }
   ],
   "source": [
    "y_pred, y_true"
   ]
  },
  {
   "cell_type": "code",
   "execution_count": null,
   "metadata": {},
   "outputs": [],
   "source": []
  },
  {
   "cell_type": "code",
   "execution_count": 213,
   "metadata": {},
   "outputs": [
    {
     "name": "stdout",
     "output_type": "stream",
     "text": [
      "F1 Score:  0.5119954840530623\n",
      "Accuracy:  0.48388059701492536\n",
      "Precision:  0.4186475882760212\n",
      "Recall:  0.6589175444969124\n"
     ]
    }
   ],
   "source": [
    "from sklearn.metrics import f1_score, accuracy_score, precision_score, recall_score\n",
    "\n",
    "# Threshold 하나 일때만\n",
    "THRES = 0.4\n",
    "\n",
    "# calculate scores\n",
    "f1 = f1_score(y_true, np.where(y_pred > THRES, 1, 0), average='binary')\n",
    "acc = accuracy_score(y_true, np.where(y_pred > THRES, 1, 0))\n",
    "prec = precision_score(y_true, np.where(y_pred > THRES, 1, 0))\n",
    "rec = recall_score(y_true, np.where(y_pred > THRES, 1, 0))\n",
    "\n",
    "print(\"F1 Score: \", f1)\n",
    "print(\"Accuracy: \", acc)\n",
    "print(\"Precision: \", prec)\n",
    "print(\"Recall: \", rec)"
   ]
  },
  {
   "cell_type": "code",
   "execution_count": 211,
   "metadata": {},
   "outputs": [
    {
     "data": {
      "image/png": "[encoded data removed]",
      "text/plain": [
       "<Figure size 432x288 with 1 Axes>"
      ]
     },
     "metadata": {},
     "output_type": "display_data"
    }
   ],
   "source": [
    "import matplotlib.pyplot as plt\n",
    "import seaborn as sns\n",
    "\n",
    "# initialize lists for storing results\n",
    "f1_scores = []\n",
    "acc_scores = []\n",
    "prec_scores = []\n",
    "rec_scores = []\n",
    "\n",
    "# vary threshold and calculate scores\n",
    "for THRES in np.arange(0, 1.05, 0.05):\n",
    "    # calculate scores\n",
    "    f1 = f1_score(y_true, np.where(y_pred > THRES, 1, 0), average='binary')\n",
    "    acc = accuracy_score(y_true, np.where(y_pred > THRES, 1, 0))\n",
    "    prec = precision_score(y_true, np.where(y_pred > THRES, 1, 0))\n",
    "    rec = recall_score(y_true, np.where(y_pred > THRES, 1, 0))\n",
    "    \n",
    "    # store scores in lists\n",
    "    f1_scores.append(f1)\n",
    "    acc_scores.append(acc)\n",
    "    prec_scores.append(prec)\n",
    "    rec_scores.append(rec)\n",
    "\n",
    "# plot results\n",
    "sns.set_style(\"whitegrid\")\n",
    "plt.plot(np.arange(0, 1.05, 0.05), f1_scores, label='F1 Score')\n",
    "plt.plot(np.arange(0, 1.05, 0.05), acc_scores, label='Accuracy')\n",
    "plt.plot(np.arange(0, 1.05, 0.05), prec_scores, label='Precision')\n",
    "plt.plot(np.arange(0, 1.05, 0.05), rec_scores, label='Recall')\n",
    "plt.xlabel('Threshold')\n",
    "plt.ylabel('Score')\n",
    "plt.legend()\n",
    "plt.show()\n"
   ]
  },
  {
   "cell_type": "code",
   "execution_count": 212,
   "metadata": {},
   "outputs": [
    {
     "data": {
      "image/png": "[encoded data removed]",
      "text/plain": [
       "<Figure size 432x288 with 1 Axes>"
      ]
     },
     "metadata": {},
     "output_type": "display_data"
    }
   ],
   "source": [
    "import matplotlib.pyplot as plt\n",
    "from sklearn.metrics import roc_curve, auc\n",
    "\n",
    "# calculate fpr and tpr for different thresholds\n",
    "fpr, tpr, thresholds = roc_curve(y_true, y_pred)\n",
    "\n",
    "# calculate AUC\n",
    "roc_auc = auc(fpr, tpr)\n",
    "\n",
    "# plot ROC curve\n",
    "plt.plot(fpr, tpr, label='ROC curve (area = %0.2f)' % roc_auc)\n",
    "plt.plot([0, 1], [0, 1], 'k--')\n",
    "plt.xlim([0.0, 1.0])\n",
    "plt.ylim([0.0, 1.05])\n",
    "plt.xlabel('False Positive Rate')\n",
    "plt.ylabel('True Positive Rate')\n",
    "plt.title('Receiver Operating Characteristic')\n",
    "plt.legend(loc=\"lower right\")\n",
    "plt.show()\n"
   ]
  },
  {
   "cell_type": "code",
   "execution_count": null,
   "metadata": {},
   "outputs": [],
   "source": []
  },
  {
   "cell_type": "code",
   "execution_count": 153,
   "metadata": {},
   "outputs": [
    {
     "data": {
      "text/plain": [
       "[<matplotlib.lines.Line2D at 0x7fb7306e4340>]"
      ]
     },
     "execution_count": 153,
     "metadata": {},
     "output_type": "execute_result"
    },
    {
     "data": {
      "image/png": "[encoded data removed]",
      "text/plain": [
       "<Figure size 432x288 with 1 Axes>"
      ]
     },
     "metadata": {},
     "output_type": "display_data"
    }
   ],
   "source": [
    "import matplotlib.pyplot as plt\n",
    "plt.plot(outputs.detach().numpy())"
   ]
  },
  {
   "cell_type": "code",
   "execution_count": 156,
   "metadata": {},
   "outputs": [
    {
     "data": {
      "text/plain": [
       "<seaborn.axisgrid.FacetGrid at 0x7fb73073ac40>"
      ]
     },
     "execution_count": 156,
     "metadata": {},
     "output_type": "execute_result"
    },
    {
     "data": {
      "image/png": "[encoded data removed]",
      "text/plain": [
       "<Figure size 402.25x360 with 1 Axes>"
      ]
     },
     "metadata": {},
     "output_type": "display_data"
    }
   ],
   "source": [
    "sns.displot(outputs.detach().numpy())"
   ]
  },
  {
   "cell_type": "code",
   "execution_count": null,
   "metadata": {},
   "outputs": [],
   "source": [
    "THRESHOLD = 0.027\n",
    "\n",
    "total_secs = 0\n",
    "\n",
    "for i, y_p in enumerate(outputs.detach().numpy()):\n",
    "    #print(i, y_p)\n",
    "    if y_p >= THRESHOLD:\n",
    "        print(i * SAMPLE_EVERY_SEC)\n",
    "        total_secs += SAMPLE_EVERY_SEC\n",
    "\n",
    "total_secs"
   ]
  },
  {
   "cell_type": "code",
   "execution_count": null,
   "metadata": {},
   "outputs": [],
   "source": [
    "clip = VideoFileClip(video_path)\n",
    "\n",
    "subclips = []\n",
    "\n",
    "for i, y_p in enumerate(outputs.detach().numpy()):\n",
    "    sec = i * SAMPLE_EVERY_SEC\n",
    "\n",
    "    if y_p >= THRESHOLD:\n",
    "        subclip = clip.subclip(sec, sec + SAMPLE_EVERY_SEC)\n",
    "        subclips.append(subclip)\n",
    "\n",
    "result = concatenate_videoclips(subclips)\n",
    "\n",
    "result.write_videofile(\"videos/result.mp4\")\n",
    "\n",
    "result.ipython_display(width=640, maxduration=240)"
   ]
  },
  {
   "cell_type": "markdown",
   "metadata": {},
   "source": [
    "# model evaluation"
   ]
  },
  {
   "cell_type": "code",
   "execution_count": null,
   "metadata": {},
   "outputs": [],
   "source": [
    "def evaluate(y_true, y_pred):\n",
    "    tp = ((y_true == 1) & (y_pred == 1)).sum()\n",
    "    tn = ((y_true == 0) & (y_pred == 0)).sum()\n",
    "    fp = ((y_true == 0) & (y_pred == 1)).sum()\n",
    "    fn = ((y_true == 1) & (y_pred == 0)).sum()\n",
    "    \n",
    "    precision = tp / (tp + fp)\n",
    "    recall = tp / (tp + fn)\n",
    "    f1_score = 2 * (precision * recall) / (precision + recall)\n",
    "    \n",
    "    return f1_score, precision, recall"
   ]
  },
  {
   "cell_type": "code",
   "execution_count": null,
   "metadata": {},
   "outputs": [],
   "source": [
    "## 새로운 데이터로 evaluation  "
   ]
  }
 ],
 "metadata": {
  "kernelspec": {
   "display_name": "Python 3",
   "language": "python",
   "name": "python3"
  },
  "language_info": {
   "codemirror_mode": {
    "name": "ipython",
    "version": 3
   },
   "file_extension": ".py",
   "mimetype": "text/x-python",
   "name": "python",
   "nbconvert_exporter": "python",
   "pygments_lexer": "ipython3",
   "version": "3.8.5"
  }
 },
 "nbformat": 4,
 "nbformat_minor": 4
}
