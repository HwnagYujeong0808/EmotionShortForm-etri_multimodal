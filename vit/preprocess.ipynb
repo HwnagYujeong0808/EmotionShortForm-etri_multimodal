{
 "cells": [
  {
   "cell_type": "code",
   "execution_count": 1,
   "metadata": {},
   "outputs": [],
   "source": [
    "import argparse\n",
    "from pathlib import Path\n",
    "\n",
    "import cv2\n",
    "import h5py\n",
    "import numpy as np\n",
    "from tqdm import tqdm\n",
    "from transformers import ViTFeatureExtractor"
   ]
  },
  {
   "cell_type": "code",
   "execution_count": 2,
   "metadata": {},
   "outputs": [],
   "source": [
    "def extract_video_features(extractor, video_file):\n",
    "\n",
    "    vc = cv2.VideoCapture(str(video_file))\n",
    "    fps = int(vc.get(cv2.CAP_PROP_FPS))\n",
    "    frames = []\n",
    "    last_collected = -1\n",
    "    while vc.isOpened():\n",
    "\n",
    "        success, frame = vc.read()\n",
    "        if not success:\n",
    "            break\n",
    "\n",
    "        timestmap = vc.get(cv2.CAP_PROP_POS_MSEC)\n",
    "        second = timestmap // 1000\n",
    "        if second != last_collected:\n",
    "            last_collected = second\n",
    "            frames.append(frame)\n",
    "\n",
    "    features = extractor(images=frames, return_tensors=\"pt\")\n",
    "    return features[\"pixel_values\"]"
   ]
  },
  {
   "cell_type": "code",
   "execution_count": 3,
   "metadata": {},
   "outputs": [],
   "source": [
    "args = argparse.Namespace(\n",
    "    data_directory = \"/workspace/EmotionShortForm/data_AIHub/2.Validation/Video_data/VS_유튜브_01\",\n",
    "    out = \"/workspace/EmotionShortForm/data_AIHub/2.Validation/Video_data/VS_유튜브_01.h5\"\n",
    ")\n"
   ]
  },
  {
   "cell_type": "code",
   "execution_count": 4,
   "metadata": {},
   "outputs": [
    {
     "name": "stderr",
     "output_type": "stream",
     "text": [
      "  0%|          | 0/8 [00:00<?, ?it/s]/usr/local/lib/python3.8/dist-packages/transformers/models/vit/feature_extraction_vit.py:28: FutureWarning: The class ViTFeatureExtractor is deprecated and will be removed in version 5 of Transformers. Please use ViTImageProcessor instead.\n",
      "  warnings.warn(\n",
      "100%|██████████| 8/8 [04:09<00:00, 31.17s/it]\n"
     ]
    }
   ],
   "source": [
    "video_files = tqdm(list(Path(args.data_directory).glob(\"**/*.mp4\")))\n",
    "extractor = ViTFeatureExtractor.from_pretrained(\n",
    "    \"google/vit-base-patch16-224\", size=224\n",
    ")\n",
    "\n",
    "with h5py.File(args.out, \"w\") as wf:\n",
    "\n",
    "    for video_file in video_files:\n",
    "        name = video_file.stem\n",
    "        try:\n",
    "            features = extract_video_features(\n",
    "                extractor, video_file\n",
    "            )\n",
    "            wf.create_dataset(name, data=features)\n",
    "        except Exception as e:\n",
    "            print(e)"
   ]
  },
  {
   "cell_type": "code",
   "execution_count": null,
   "metadata": {},
   "outputs": [],
   "source": []
  }
 ],
 "metadata": {
  "kernelspec": {
   "display_name": "Python 3",
   "language": "python",
   "name": "python3"
  },
  "language_info": {
   "codemirror_mode": {
    "name": "ipython",
    "version": 3
   },
   "file_extension": ".py",
   "mimetype": "text/x-python",
   "name": "python",
   "nbconvert_exporter": "python",
   "pygments_lexer": "ipython3",
   "version": "3.8.5"
  }
 },
 "nbformat": 4,
 "nbformat_minor": 4
}
