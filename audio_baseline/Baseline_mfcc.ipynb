{
 "cells": [
  {
   "cell_type": "code",
   "execution_count": 81,
   "metadata": {},
   "outputs": [],
   "source": [
    "import random\n",
    "import pandas as pd\n",
    "import numpy as np\n",
    "import os\n",
    "import librosa\n",
    "\n",
    "import pickle\n",
    "\n",
    "from tqdm.auto import tqdm\n",
    "\n",
    "from sklearn.neural_network import MLPClassifier\n",
    "from sklearn.preprocessing import OneHotEncoder\n",
    "\n",
    "import warnings\n",
    "warnings.filterwarnings(action='ignore') "
   ]
  },
  {
   "cell_type": "code",
   "execution_count": 82,
   "metadata": {},
   "outputs": [],
   "source": [
    "CFG = {\n",
    "    'SR':16000,\n",
    "    'N_MFCC':32, # MFCC 벡터를 추출할 개수\n",
    "    'SEED':41\n",
    "}"
   ]
  },
  {
   "cell_type": "code",
   "execution_count": 83,
   "metadata": {},
   "outputs": [],
   "source": [
    "def seed_everything(seed):\n",
    "    random.seed(seed)\n",
    "    os.environ['PYTHONHASHSEED'] = str(seed)\n",
    "    np.random.seed(seed)\n",
    "\n",
    "seed_everything(CFG['SEED']) # Seed 고정"
   ]
  },
  {
   "cell_type": "code",
   "execution_count": 84,
   "metadata": {},
   "outputs": [],
   "source": [
    "audio_data_path = 'audio_data'\n",
    "audio_train_data_path = os.path.join(audio_data_path,'train')\n",
    "audio_test_data_path = os.path.join(audio_data_path,'test')\n",
    "train_df = pd.read_csv(os.path.join(audio_data_path,'train.csv'))\n",
    "test_df = pd.read_csv(os.path.join(audio_data_path,'test.csv'))"
   ]
  },
  {
   "cell_type": "code",
   "execution_count": 85,
   "metadata": {},
   "outputs": [],
   "source": [
    "def get_mfcc_feature(df, data_type, save_path):\n",
    "    # Data Folder path\n",
    "    root_folder = './audio_data'\n",
    "    if os.path.exists(save_path):\n",
    "        print(f'{save_path} is exist.')\n",
    "        return\n",
    "    features = []\n",
    "    for uid in tqdm(df['SegmentId']):\n",
    "        root_path = os.path.join(root_folder, data_type)\n",
    "        uid += '.wav'\n",
    "        path = os.path.join(root_path, uid)\n",
    "\n",
    "        # librosa패키지를 사용하여 wav 파일 load\n",
    "        y, sr = librosa.load(path, sr=CFG['SR'])\n",
    "        \n",
    "        # mfcc\n",
    "        mfcc = librosa.feature.mfcc(y=y, sr=sr, n_mfcc=CFG['N_MFCC'])\n",
    "\n",
    "        y_feature = []\n",
    "        # 추출된 MFCC들의 평균을 Feature로 사용\n",
    "        for e in mfcc:\n",
    "            y_feature.append(np.mean(e))\n",
    "        features.append(y_feature)\n",
    "    \n",
    "    # 기존의 자가진단 정보를 담은 데이터프레임에 추출된 오디오 Feature를 추가\n",
    "    mfcc_df = pd.DataFrame(features, columns=['mfcc_'+str(x) for x in range(1,CFG['N_MFCC']+1)])\n",
    "    df = pd.concat([df, mfcc_df], axis=1)\n",
    "    df.to_csv(save_path, index=False)\n",
    "    print('Done.')"
   ]
  },
  {
   "cell_type": "code",
   "execution_count": 86,
   "metadata": {
    "scrolled": true
   },
   "outputs": [
    {
     "data": {
      "application/vnd.jupyter.widget-view+json": {
       "model_id": "09aa1450f6e241fda712fcaf77e9bb96",
       "version_major": 2,
       "version_minor": 0
      },
      "text/plain": [
       "HBox(children=(HTML(value=''), FloatProgress(value=0.0, max=10769.0), HTML(value='')))"
      ]
     },
     "metadata": {},
     "output_type": "display_data"
    },
    {
     "name": "stdout",
     "output_type": "stream",
     "text": [
      "\n",
      "Done.\n"
     ]
    },
    {
     "data": {
      "application/vnd.jupyter.widget-view+json": {
       "model_id": "a88f9de46782489f98764ce7be3ed105",
       "version_major": 2,
       "version_minor": 0
      },
      "text/plain": [
       "HBox(children=(HTML(value=''), FloatProgress(value=0.0, max=2693.0), HTML(value='')))"
      ]
     },
     "metadata": {},
     "output_type": "display_data"
    },
    {
     "name": "stdout",
     "output_type": "stream",
     "text": [
      "\n",
      "Done.\n"
     ]
    }
   ],
   "source": [
    "get_mfcc_feature(train_df, 'train', 'preprocessing_data/train_mfcc_data.csv')\n",
    "get_mfcc_feature(test_df, 'test', 'preprocessing_data/test_mfcc_data.csv')"
   ]
  },
  {
   "cell_type": "code",
   "execution_count": 87,
   "metadata": {
    "scrolled": true
   },
   "outputs": [],
   "source": [
    "# wav 파일의 MFCC Feature와 상태정보를 합친 학습데이터를 불러옵니다.\n",
    "train_df = pd.read_csv('preprocessing_data/train_mfcc_data.csv')\n",
    "test_df = pd.read_csv('preprocessing_data/test_mfcc_data.csv')"
   ]
  },
  {
   "cell_type": "code",
   "execution_count": 88,
   "metadata": {},
   "outputs": [],
   "source": [
    "# 학습데이터를 모델의 input으로 들어갈 x와 label로 사용할 y로 분할\n",
    "train_x = train_df.drop(columns=['Unnamed: 0', 'SegmentId','time','Valence','Arousal','Emotion'])\n",
    "train_y = train_df['Emotion']"
   ]
  },
  {
   "cell_type": "code",
   "execution_count": 89,
   "metadata": {},
   "outputs": [
    {
     "data": {
      "text/html": [
       "<div>\n",
       "<style scoped>\n",
       "    .dataframe tbody tr th:only-of-type {\n",
       "        vertical-align: middle;\n",
       "    }\n",
       "\n",
       "    .dataframe tbody tr th {\n",
       "        vertical-align: top;\n",
       "    }\n",
       "\n",
       "    .dataframe thead th {\n",
       "        text-align: right;\n",
       "    }\n",
       "</style>\n",
       "<table border=\"1\" class=\"dataframe\">\n",
       "  <thead>\n",
       "    <tr style=\"text-align: right;\">\n",
       "      <th></th>\n",
       "      <th>mfcc_1</th>\n",
       "      <th>mfcc_2</th>\n",
       "      <th>mfcc_3</th>\n",
       "      <th>mfcc_4</th>\n",
       "      <th>mfcc_5</th>\n",
       "      <th>mfcc_6</th>\n",
       "      <th>mfcc_7</th>\n",
       "      <th>mfcc_8</th>\n",
       "      <th>mfcc_9</th>\n",
       "      <th>mfcc_10</th>\n",
       "      <th>...</th>\n",
       "      <th>mfcc_23</th>\n",
       "      <th>mfcc_24</th>\n",
       "      <th>mfcc_25</th>\n",
       "      <th>mfcc_26</th>\n",
       "      <th>mfcc_27</th>\n",
       "      <th>mfcc_28</th>\n",
       "      <th>mfcc_29</th>\n",
       "      <th>mfcc_30</th>\n",
       "      <th>mfcc_31</th>\n",
       "      <th>mfcc_32</th>\n",
       "    </tr>\n",
       "  </thead>\n",
       "  <tbody>\n",
       "    <tr>\n",
       "      <th>0</th>\n",
       "      <td>-379.964142</td>\n",
       "      <td>109.689522</td>\n",
       "      <td>8.409287</td>\n",
       "      <td>14.947894</td>\n",
       "      <td>-10.617918</td>\n",
       "      <td>-1.278166</td>\n",
       "      <td>-9.656478</td>\n",
       "      <td>-3.804506</td>\n",
       "      <td>1.033329</td>\n",
       "      <td>2.386927</td>\n",
       "      <td>...</td>\n",
       "      <td>-0.390324</td>\n",
       "      <td>2.626545</td>\n",
       "      <td>0.437545</td>\n",
       "      <td>2.089825</td>\n",
       "      <td>0.171152</td>\n",
       "      <td>5.063381</td>\n",
       "      <td>3.834727</td>\n",
       "      <td>1.973997</td>\n",
       "      <td>-3.659752</td>\n",
       "      <td>-1.247434</td>\n",
       "    </tr>\n",
       "    <tr>\n",
       "      <th>1</th>\n",
       "      <td>-316.165100</td>\n",
       "      <td>96.198570</td>\n",
       "      <td>-13.874292</td>\n",
       "      <td>23.989883</td>\n",
       "      <td>-16.052597</td>\n",
       "      <td>6.285239</td>\n",
       "      <td>-17.207815</td>\n",
       "      <td>-9.229585</td>\n",
       "      <td>-1.843399</td>\n",
       "      <td>-1.561611</td>\n",
       "      <td>...</td>\n",
       "      <td>2.732685</td>\n",
       "      <td>5.995924</td>\n",
       "      <td>5.040682</td>\n",
       "      <td>8.586355</td>\n",
       "      <td>6.141405</td>\n",
       "      <td>8.720468</td>\n",
       "      <td>8.573661</td>\n",
       "      <td>10.320451</td>\n",
       "      <td>7.674820</td>\n",
       "      <td>4.114799</td>\n",
       "    </tr>\n",
       "    <tr>\n",
       "      <th>2</th>\n",
       "      <td>-354.932220</td>\n",
       "      <td>124.622856</td>\n",
       "      <td>13.342740</td>\n",
       "      <td>26.263084</td>\n",
       "      <td>-8.358158</td>\n",
       "      <td>12.222456</td>\n",
       "      <td>-5.986515</td>\n",
       "      <td>-3.229876</td>\n",
       "      <td>0.693578</td>\n",
       "      <td>1.045244</td>\n",
       "      <td>...</td>\n",
       "      <td>-0.242917</td>\n",
       "      <td>0.397124</td>\n",
       "      <td>4.878927</td>\n",
       "      <td>5.264405</td>\n",
       "      <td>2.994150</td>\n",
       "      <td>2.870259</td>\n",
       "      <td>0.314687</td>\n",
       "      <td>2.809367</td>\n",
       "      <td>-0.628893</td>\n",
       "      <td>3.489642</td>\n",
       "    </tr>\n",
       "    <tr>\n",
       "      <th>3</th>\n",
       "      <td>-385.279846</td>\n",
       "      <td>118.912277</td>\n",
       "      <td>13.351930</td>\n",
       "      <td>38.183296</td>\n",
       "      <td>4.666812</td>\n",
       "      <td>5.982921</td>\n",
       "      <td>-3.649076</td>\n",
       "      <td>-1.012486</td>\n",
       "      <td>1.646602</td>\n",
       "      <td>-5.259025</td>\n",
       "      <td>...</td>\n",
       "      <td>2.936629</td>\n",
       "      <td>-0.579203</td>\n",
       "      <td>-1.418086</td>\n",
       "      <td>2.701938</td>\n",
       "      <td>-0.128480</td>\n",
       "      <td>-0.650981</td>\n",
       "      <td>0.222955</td>\n",
       "      <td>1.449542</td>\n",
       "      <td>-1.601669</td>\n",
       "      <td>-0.025312</td>\n",
       "    </tr>\n",
       "    <tr>\n",
       "      <th>4</th>\n",
       "      <td>-351.163513</td>\n",
       "      <td>109.502029</td>\n",
       "      <td>4.125424</td>\n",
       "      <td>35.244442</td>\n",
       "      <td>-8.720855</td>\n",
       "      <td>-9.711296</td>\n",
       "      <td>-7.127413</td>\n",
       "      <td>-2.853542</td>\n",
       "      <td>0.309397</td>\n",
       "      <td>1.081380</td>\n",
       "      <td>...</td>\n",
       "      <td>3.420357</td>\n",
       "      <td>6.290679</td>\n",
       "      <td>3.681709</td>\n",
       "      <td>5.164492</td>\n",
       "      <td>3.685917</td>\n",
       "      <td>7.506263</td>\n",
       "      <td>7.469996</td>\n",
       "      <td>7.370858</td>\n",
       "      <td>6.551222</td>\n",
       "      <td>5.917849</td>\n",
       "    </tr>\n",
       "    <tr>\n",
       "      <th>...</th>\n",
       "      <td>...</td>\n",
       "      <td>...</td>\n",
       "      <td>...</td>\n",
       "      <td>...</td>\n",
       "      <td>...</td>\n",
       "      <td>...</td>\n",
       "      <td>...</td>\n",
       "      <td>...</td>\n",
       "      <td>...</td>\n",
       "      <td>...</td>\n",
       "      <td>...</td>\n",
       "      <td>...</td>\n",
       "      <td>...</td>\n",
       "      <td>...</td>\n",
       "      <td>...</td>\n",
       "      <td>...</td>\n",
       "      <td>...</td>\n",
       "      <td>...</td>\n",
       "      <td>...</td>\n",
       "      <td>...</td>\n",
       "      <td>...</td>\n",
       "    </tr>\n",
       "    <tr>\n",
       "      <th>10764</th>\n",
       "      <td>-307.079376</td>\n",
       "      <td>110.748199</td>\n",
       "      <td>3.071705</td>\n",
       "      <td>26.098019</td>\n",
       "      <td>1.365202</td>\n",
       "      <td>-11.161897</td>\n",
       "      <td>-9.812368</td>\n",
       "      <td>2.677070</td>\n",
       "      <td>-12.284978</td>\n",
       "      <td>1.411189</td>\n",
       "      <td>...</td>\n",
       "      <td>-4.210361</td>\n",
       "      <td>-1.421704</td>\n",
       "      <td>-2.658003</td>\n",
       "      <td>1.054526</td>\n",
       "      <td>-3.188072</td>\n",
       "      <td>0.515963</td>\n",
       "      <td>0.066960</td>\n",
       "      <td>0.752482</td>\n",
       "      <td>-1.321549</td>\n",
       "      <td>-3.410846</td>\n",
       "    </tr>\n",
       "    <tr>\n",
       "      <th>10765</th>\n",
       "      <td>-239.924500</td>\n",
       "      <td>72.984070</td>\n",
       "      <td>-18.580250</td>\n",
       "      <td>-6.845965</td>\n",
       "      <td>-45.430508</td>\n",
       "      <td>0.680878</td>\n",
       "      <td>-8.975255</td>\n",
       "      <td>-18.834259</td>\n",
       "      <td>-0.833172</td>\n",
       "      <td>-0.091480</td>\n",
       "      <td>...</td>\n",
       "      <td>6.675857</td>\n",
       "      <td>10.649000</td>\n",
       "      <td>7.589522</td>\n",
       "      <td>8.607011</td>\n",
       "      <td>2.216211</td>\n",
       "      <td>7.668085</td>\n",
       "      <td>-0.767406</td>\n",
       "      <td>2.716651</td>\n",
       "      <td>-3.422506</td>\n",
       "      <td>4.849663</td>\n",
       "    </tr>\n",
       "    <tr>\n",
       "      <th>10766</th>\n",
       "      <td>-333.780945</td>\n",
       "      <td>95.989861</td>\n",
       "      <td>-14.832805</td>\n",
       "      <td>15.677377</td>\n",
       "      <td>-13.445169</td>\n",
       "      <td>-0.555010</td>\n",
       "      <td>-22.605991</td>\n",
       "      <td>-9.910537</td>\n",
       "      <td>-7.518460</td>\n",
       "      <td>-5.561435</td>\n",
       "      <td>...</td>\n",
       "      <td>-3.285286</td>\n",
       "      <td>1.564119</td>\n",
       "      <td>6.515084</td>\n",
       "      <td>10.374402</td>\n",
       "      <td>8.091890</td>\n",
       "      <td>14.184700</td>\n",
       "      <td>12.203178</td>\n",
       "      <td>19.104069</td>\n",
       "      <td>6.390728</td>\n",
       "      <td>4.591437</td>\n",
       "    </tr>\n",
       "    <tr>\n",
       "      <th>10767</th>\n",
       "      <td>-339.677338</td>\n",
       "      <td>118.469772</td>\n",
       "      <td>10.663605</td>\n",
       "      <td>37.051121</td>\n",
       "      <td>-10.494557</td>\n",
       "      <td>11.044798</td>\n",
       "      <td>-7.957495</td>\n",
       "      <td>-2.332411</td>\n",
       "      <td>-4.041122</td>\n",
       "      <td>-2.618592</td>\n",
       "      <td>...</td>\n",
       "      <td>-0.823455</td>\n",
       "      <td>1.826434</td>\n",
       "      <td>-0.563071</td>\n",
       "      <td>3.543955</td>\n",
       "      <td>-0.973314</td>\n",
       "      <td>3.040696</td>\n",
       "      <td>3.090068</td>\n",
       "      <td>4.243995</td>\n",
       "      <td>0.834076</td>\n",
       "      <td>1.139718</td>\n",
       "    </tr>\n",
       "    <tr>\n",
       "      <th>10768</th>\n",
       "      <td>-347.986877</td>\n",
       "      <td>119.509628</td>\n",
       "      <td>-8.292249</td>\n",
       "      <td>15.593624</td>\n",
       "      <td>-9.171785</td>\n",
       "      <td>-2.750766</td>\n",
       "      <td>-7.087870</td>\n",
       "      <td>0.804843</td>\n",
       "      <td>-0.902798</td>\n",
       "      <td>2.116315</td>\n",
       "      <td>...</td>\n",
       "      <td>5.915211</td>\n",
       "      <td>5.233806</td>\n",
       "      <td>6.230196</td>\n",
       "      <td>8.562304</td>\n",
       "      <td>2.252800</td>\n",
       "      <td>5.576434</td>\n",
       "      <td>2.432891</td>\n",
       "      <td>6.054037</td>\n",
       "      <td>9.382090</td>\n",
       "      <td>3.946812</td>\n",
       "    </tr>\n",
       "  </tbody>\n",
       "</table>\n",
       "<p>10769 rows × 32 columns</p>\n",
       "</div>"
      ],
      "text/plain": [
       "           mfcc_1      mfcc_2     mfcc_3     mfcc_4     mfcc_5     mfcc_6  \\\n",
       "0     -379.964142  109.689522   8.409287  14.947894 -10.617918  -1.278166   \n",
       "1     -316.165100   96.198570 -13.874292  23.989883 -16.052597   6.285239   \n",
       "2     -354.932220  124.622856  13.342740  26.263084  -8.358158  12.222456   \n",
       "3     -385.279846  118.912277  13.351930  38.183296   4.666812   5.982921   \n",
       "4     -351.163513  109.502029   4.125424  35.244442  -8.720855  -9.711296   \n",
       "...           ...         ...        ...        ...        ...        ...   \n",
       "10764 -307.079376  110.748199   3.071705  26.098019   1.365202 -11.161897   \n",
       "10765 -239.924500   72.984070 -18.580250  -6.845965 -45.430508   0.680878   \n",
       "10766 -333.780945   95.989861 -14.832805  15.677377 -13.445169  -0.555010   \n",
       "10767 -339.677338  118.469772  10.663605  37.051121 -10.494557  11.044798   \n",
       "10768 -347.986877  119.509628  -8.292249  15.593624  -9.171785  -2.750766   \n",
       "\n",
       "          mfcc_7     mfcc_8     mfcc_9   mfcc_10  ...   mfcc_23    mfcc_24  \\\n",
       "0      -9.656478  -3.804506   1.033329  2.386927  ... -0.390324   2.626545   \n",
       "1     -17.207815  -9.229585  -1.843399 -1.561611  ...  2.732685   5.995924   \n",
       "2      -5.986515  -3.229876   0.693578  1.045244  ... -0.242917   0.397124   \n",
       "3      -3.649076  -1.012486   1.646602 -5.259025  ...  2.936629  -0.579203   \n",
       "4      -7.127413  -2.853542   0.309397  1.081380  ...  3.420357   6.290679   \n",
       "...          ...        ...        ...       ...  ...       ...        ...   \n",
       "10764  -9.812368   2.677070 -12.284978  1.411189  ... -4.210361  -1.421704   \n",
       "10765  -8.975255 -18.834259  -0.833172 -0.091480  ...  6.675857  10.649000   \n",
       "10766 -22.605991  -9.910537  -7.518460 -5.561435  ... -3.285286   1.564119   \n",
       "10767  -7.957495  -2.332411  -4.041122 -2.618592  ... -0.823455   1.826434   \n",
       "10768  -7.087870   0.804843  -0.902798  2.116315  ...  5.915211   5.233806   \n",
       "\n",
       "        mfcc_25    mfcc_26   mfcc_27    mfcc_28    mfcc_29    mfcc_30  \\\n",
       "0      0.437545   2.089825  0.171152   5.063381   3.834727   1.973997   \n",
       "1      5.040682   8.586355  6.141405   8.720468   8.573661  10.320451   \n",
       "2      4.878927   5.264405  2.994150   2.870259   0.314687   2.809367   \n",
       "3     -1.418086   2.701938 -0.128480  -0.650981   0.222955   1.449542   \n",
       "4      3.681709   5.164492  3.685917   7.506263   7.469996   7.370858   \n",
       "...         ...        ...       ...        ...        ...        ...   \n",
       "10764 -2.658003   1.054526 -3.188072   0.515963   0.066960   0.752482   \n",
       "10765  7.589522   8.607011  2.216211   7.668085  -0.767406   2.716651   \n",
       "10766  6.515084  10.374402  8.091890  14.184700  12.203178  19.104069   \n",
       "10767 -0.563071   3.543955 -0.973314   3.040696   3.090068   4.243995   \n",
       "10768  6.230196   8.562304  2.252800   5.576434   2.432891   6.054037   \n",
       "\n",
       "        mfcc_31   mfcc_32  \n",
       "0     -3.659752 -1.247434  \n",
       "1      7.674820  4.114799  \n",
       "2     -0.628893  3.489642  \n",
       "3     -1.601669 -0.025312  \n",
       "4      6.551222  5.917849  \n",
       "...         ...       ...  \n",
       "10764 -1.321549 -3.410846  \n",
       "10765 -3.422506  4.849663  \n",
       "10766  6.390728  4.591437  \n",
       "10767  0.834076  1.139718  \n",
       "10768  9.382090  3.946812  \n",
       "\n",
       "[10769 rows x 32 columns]"
      ]
     },
     "execution_count": 89,
     "metadata": {},
     "output_type": "execute_result"
    }
   ],
   "source": [
    "train_x"
   ]
  },
  {
   "cell_type": "code",
   "execution_count": 90,
   "metadata": {},
   "outputs": [
    {
     "data": {
      "text/plain": [
       "0              neutral\n",
       "1                happy\n",
       "2              neutral\n",
       "3              neutral\n",
       "4              neutral\n",
       "             ...      \n",
       "10764          neutral\n",
       "10765            angry\n",
       "10766    happy;neutral\n",
       "10767          neutral\n",
       "10768          neutral\n",
       "Name: Emotion, Length: 10769, dtype: object"
      ]
     },
     "execution_count": 90,
     "metadata": {},
     "output_type": "execute_result"
    }
   ],
   "source": [
    "train_y"
   ]
  },
  {
   "cell_type": "code",
   "execution_count": 91,
   "metadata": {},
   "outputs": [
    {
     "data": {
      "text/plain": [
       "MLPClassifier(random_state=41)"
      ]
     },
     "execution_count": 91,
     "metadata": {},
     "output_type": "execute_result"
    }
   ],
   "source": [
    "model = MLPClassifier(random_state=CFG['SEED']) # Sklearn에서 제공하는 Multi-layer Perceptron classifier 사용\n",
    "model.fit(train_x, train_y) # Model Train"
   ]
  },
  {
   "cell_type": "code",
   "execution_count": 92,
   "metadata": {},
   "outputs": [],
   "source": [
    "# 위의 학습데이터를 전처리한 과정과 동일하게 test data에도 적용\n",
    "test_x = test_df.drop(columns=['Unnamed: 0', 'SegmentId','time','Valence','Arousal','Emotion'])\n",
    "test_y = test_df['Emotion']\n",
    "\n",
    "# Model 추론\n",
    "preds = model.predict(test_x)\n"
   ]
  },
  {
   "cell_type": "code",
   "execution_count": 93,
   "metadata": {},
   "outputs": [
    {
     "name": "stdout",
     "output_type": "stream",
     "text": [
      "모델의 성능(Accuracy): 0.84478277014482\n"
     ]
    }
   ],
   "source": [
    "from sklearn.metrics import mean_squared_error, accuracy_score\n",
    "\n",
    "# Accuracy를 계산하여 성능을 평가합니다.\n",
    "accuracy = accuracy_score(test_y, preds)\n",
    "\n",
    "print(f\"모델의 성능(Accuracy): {accuracy}\")"
   ]
  },
  {
   "cell_type": "markdown",
   "metadata": {},
   "source": [
    "### save model"
   ]
  },
  {
   "cell_type": "code",
   "execution_count": 57,
   "metadata": {},
   "outputs": [],
   "source": [
    "filename = './model/classification_mfcc_model.pkl'\n",
    "pickle.dump(model, open(filename,'wb'))"
   ]
  },
  {
   "cell_type": "markdown",
   "metadata": {},
   "source": [
    "# Valence 예측"
   ]
  },
  {
   "cell_type": "code",
   "execution_count": 24,
   "metadata": {},
   "outputs": [
    {
     "name": "stdout",
     "output_type": "stream",
     "text": [
      "Collecting xgboost\n",
      "  Downloading xgboost-1.7.4-py3-none-manylinux2014_x86_64.whl (193.6 MB)\n",
      "\u001b[2K     \u001b[90m━━━━━━━━━━━━━━━━━━━━━━━━━━━━━━━━━━━━━━\u001b[0m \u001b[32m193.6/193.6 MB\u001b[0m \u001b[31m12.5 MB/s\u001b[0m eta \u001b[36m0:00:00\u001b[0m00:01\u001b[0m00:01\u001b[0m\n",
      "\u001b[?25hRequirement already satisfied: numpy in /usr/local/lib/python3.8/dist-packages (from xgboost) (1.17.3)\n",
      "Requirement already satisfied: scipy in /usr/local/lib/python3.8/dist-packages (from xgboost) (1.4.1)\n",
      "Installing collected packages: xgboost\n",
      "Successfully installed xgboost-1.7.4\n",
      "\u001b[33mWARNING: Running pip as the 'root' user can result in broken permissions and conflicting behaviour with the system package manager. It is recommended to use a virtual environment instead: https://pip.pypa.io/warnings/venv\u001b[0m\u001b[33m\n",
      "\u001b[0m"
     ]
    }
   ],
   "source": [
    "# !pip install xgboost"
   ]
  },
  {
   "cell_type": "code",
   "execution_count": 25,
   "metadata": {},
   "outputs": [
    {
     "name": "stdout",
     "output_type": "stream",
     "text": [
      "10769 2693\n"
     ]
    },
    {
     "data": {
      "text/plain": [
       "XGBRegressor(base_score=None, booster=None, callbacks=None,\n",
       "             colsample_bylevel=None, colsample_bynode=None, colsample_bytree=1,\n",
       "             early_stopping_rounds=None, enable_categorical=False,\n",
       "             eval_metric=None, feature_types=None, gamma=0, gpu_id=None,\n",
       "             grow_policy=None, importance_type=None,\n",
       "             interaction_constraints=None, learning_rate=0.08, max_bin=None,\n",
       "             max_cat_threshold=None, max_cat_to_onehot=None,\n",
       "             max_delta_step=None, max_depth=7, max_leaves=None,\n",
       "             min_child_weight=None, missing=nan, monotone_constraints=None,\n",
       "             n_estimators=100, n_jobs=None, num_parallel_tree=None,\n",
       "             predictor=None, random_state=None, ...)"
      ]
     },
     "execution_count": 25,
     "metadata": {},
     "output_type": "execute_result"
    }
   ],
   "source": [
    "from sklearn.datasets import load_boston\n",
    "import xgboost\n",
    "import matplotlib.pyplot as plt\n",
    "from sklearn.model_selection import train_test_split\n",
    "from sklearn.metrics import explained_variance_score\n",
    "\n",
    "X_train = train_df.drop(columns=['Unnamed: 0', 'SegmentId','time','Valence','Arousal','Emotion'])\n",
    "y_train = train_df['Valence']\n",
    "\n",
    "X_test = test_df.drop(columns=['Unnamed: 0', 'SegmentId','time','Valence','Arousal','Emotion'])\n",
    "y_test = test_df['Valence']\n",
    "\n",
    "xgb_model = xgboost.XGBRegressor(n_estimators=100, learning_rate=0.08, gamma=0, subsample=0.75,\n",
    "                           colsample_bytree=1, max_depth=7)\n",
    "\n",
    "print(len(X_train), len(X_test))\n",
    "xgb_model.fit(X_train,y_train)"
   ]
  },
  {
   "cell_type": "code",
   "execution_count": 26,
   "metadata": {},
   "outputs": [
    {
     "data": {
      "text/plain": [
       "<AxesSubplot:title={'center':'Feature importance'}, xlabel='F score', ylabel='Features'>"
      ]
     },
     "execution_count": 26,
     "metadata": {},
     "output_type": "execute_result"
    },
    {
     "data": {
      "image/png": "[encoded data removed]",
      "text/plain": [
       "<Figure size 432x288 with 1 Axes>"
      ]
     },
     "metadata": {
      "needs_background": "light"
     },
     "output_type": "display_data"
    }
   ],
   "source": [
    "xgboost.plot_importance(xgb_model)"
   ]
  },
  {
   "cell_type": "code",
   "execution_count": 27,
   "metadata": {},
   "outputs": [
    {
     "data": {
      "text/plain": [
       "array([3.13457  , 3.1408231, 2.9122076, ..., 3.2038863, 2.8517022,\n",
       "       2.995553 ], dtype=float32)"
      ]
     },
     "execution_count": 27,
     "metadata": {},
     "output_type": "execute_result"
    }
   ],
   "source": [
    "y_pred = xgb_model.predict(X_test)\n",
    "y_pred"
   ]
  },
  {
   "cell_type": "code",
   "execution_count": 32,
   "metadata": {},
   "outputs": [
    {
     "data": {
      "text/plain": [
       "0       3.7\n",
       "1       2.9\n",
       "2       2.3\n",
       "3       4.4\n",
       "4       1.6\n",
       "       ... \n",
       "2688    3.0\n",
       "2689    2.6\n",
       "2690    3.4\n",
       "2691    2.4\n",
       "2692    3.2\n",
       "Name: Valence, Length: 2693, dtype: float64"
      ]
     },
     "execution_count": 32,
     "metadata": {},
     "output_type": "execute_result"
    }
   ],
   "source": [
    "y_test"
   ]
  },
  {
   "cell_type": "code",
   "execution_count": 35,
   "metadata": {},
   "outputs": [
    {
     "data": {
      "text/plain": [
       "0.4154218254610649"
      ]
     },
     "execution_count": 35,
     "metadata": {},
     "output_type": "execute_result"
    }
   ],
   "source": [
    "from sklearn.metrics import mean_squared_error\n",
    "\n",
    "RMSE = mean_squared_error(y_test, y_pred,squared=False)\n",
    "RMSE"
   ]
  },
  {
   "cell_type": "markdown",
   "metadata": {},
   "source": [
    "# Arousal 예측"
   ]
  },
  {
   "cell_type": "code",
   "execution_count": 36,
   "metadata": {},
   "outputs": [
    {
     "name": "stdout",
     "output_type": "stream",
     "text": [
      "10769 2693\n"
     ]
    },
    {
     "data": {
      "text/plain": [
       "XGBRegressor(base_score=None, booster=None, callbacks=None,\n",
       "             colsample_bylevel=None, colsample_bynode=None, colsample_bytree=1,\n",
       "             early_stopping_rounds=None, enable_categorical=False,\n",
       "             eval_metric=None, feature_types=None, gamma=0, gpu_id=None,\n",
       "             grow_policy=None, importance_type=None,\n",
       "             interaction_constraints=None, learning_rate=0.08, max_bin=None,\n",
       "             max_cat_threshold=None, max_cat_to_onehot=None,\n",
       "             max_delta_step=None, max_depth=7, max_leaves=None,\n",
       "             min_child_weight=None, missing=nan, monotone_constraints=None,\n",
       "             n_estimators=100, n_jobs=None, num_parallel_tree=None,\n",
       "             predictor=None, random_state=None, ...)"
      ]
     },
     "execution_count": 36,
     "metadata": {},
     "output_type": "execute_result"
    }
   ],
   "source": [
    "X_train = train_df.drop(columns=['Unnamed: 0', 'SegmentId','time','Valence','Arousal','Emotion'])\n",
    "y_train = train_df['Arousal']\n",
    "\n",
    "X_test = test_df.drop(columns=['Unnamed: 0', 'SegmentId','time','Valence','Arousal','Emotion'])\n",
    "y_test = test_df['Arousal']\n",
    "\n",
    "xgb_model = xgboost.XGBRegressor(n_estimators=100, learning_rate=0.08, gamma=0, subsample=0.75,\n",
    "                           colsample_bytree=1, max_depth=7)\n",
    "\n",
    "print(len(X_train), len(X_test))\n",
    "xgb_model.fit(X_train,y_train)"
   ]
  },
  {
   "cell_type": "code",
   "execution_count": 37,
   "metadata": {},
   "outputs": [
    {
     "data": {
      "text/plain": [
       "<AxesSubplot:title={'center':'Feature importance'}, xlabel='F score', ylabel='Features'>"
      ]
     },
     "execution_count": 37,
     "metadata": {},
     "output_type": "execute_result"
    },
    {
     "data": {
      "image/png": "[encoded data removed]",
      "text/plain": [
       "<Figure size 432x288 with 1 Axes>"
      ]
     },
     "metadata": {
      "needs_background": "light"
     },
     "output_type": "display_data"
    }
   ],
   "source": [
    "xgboost.plot_importance(xgb_model)"
   ]
  },
  {
   "cell_type": "code",
   "execution_count": 39,
   "metadata": {},
   "outputs": [
    {
     "data": {
      "text/plain": [
       "array([3.4559784, 3.2977479, 3.0534055, ..., 3.083681 , 2.9882128,\n",
       "       3.001113 ], dtype=float32)"
      ]
     },
     "execution_count": 39,
     "metadata": {},
     "output_type": "execute_result"
    }
   ],
   "source": [
    "y_pred = xgb_model.predict(X_test)\n",
    "y_pred"
   ]
  },
  {
   "cell_type": "code",
   "execution_count": 40,
   "metadata": {},
   "outputs": [
    {
     "data": {
      "text/plain": [
       "0       3.5\n",
       "1       3.4\n",
       "2       3.0\n",
       "3       4.2\n",
       "4       3.2\n",
       "       ... \n",
       "2688    3.0\n",
       "2689    3.2\n",
       "2690    3.4\n",
       "2691    2.6\n",
       "2692    3.3\n",
       "Name: Arousal, Length: 2693, dtype: float64"
      ]
     },
     "execution_count": 40,
     "metadata": {},
     "output_type": "execute_result"
    }
   ],
   "source": [
    "y_test"
   ]
  },
  {
   "cell_type": "code",
   "execution_count": 41,
   "metadata": {},
   "outputs": [
    {
     "data": {
      "text/plain": [
       "0.22135961175392882"
      ]
     },
     "execution_count": 41,
     "metadata": {},
     "output_type": "execute_result"
    }
   ],
   "source": [
    "from sklearn.metrics import mean_squared_error\n",
    "\n",
    "RMSE = mean_squared_error(y_test, y_pred,squared=False)\n",
    "RMSE"
   ]
  },
  {
   "cell_type": "code",
   "execution_count": null,
   "metadata": {},
   "outputs": [],
   "source": []
  }
 ],
 "metadata": {
  "kernelspec": {
   "display_name": "Python 3",
   "language": "python",
   "name": "python3"
  },
  "language_info": {
   "codemirror_mode": {
    "name": "ipython",
    "version": 3
   },
   "file_extension": ".py",
   "mimetype": "text/x-python",
   "name": "python",
   "nbconvert_exporter": "python",
   "pygments_lexer": "ipython3",
   "version": "3.8.5"
  }
 },
 "nbformat": 4,
 "nbformat_minor": 4
}
