{
 "cells": [
  {
   "cell_type": "code",
   "execution_count": 2,
   "metadata": {},
   "outputs": [],
   "source": [
    "import os\n",
    "\n",
    "import numpy as np\n",
    "import pandas as pd\n",
    "import torch"
   ]
  },
  {
   "cell_type": "code",
   "execution_count": 4,
   "metadata": {},
   "outputs": [],
   "source": [
    "import pickle\n",
    "\n",
    "# === Load Pickle Files ===\n",
    "def load_pickle(path):\n",
    "    with open(path, 'rb') as f:\n",
    "        return pickle.load(f)\n",
    "\n",
    "concatenate_vit_features =  load_pickle('Features/vit_features_av_train.pkl')\n",
    "concatenate_audio_features = np.load('Features/concatenate/waveform_without_emotion_av_train.npy', allow_pickle=True)\n",
    "labels = np.load('Features/labels_av_train.npy', allow_pickle=True)\n",
    "\n",
    "concatenate_vit_features_val = load_pickle('Features/vit_features_av_val.pkl')\n",
    "concatenate_audio_features_val = np.load('Features/concatenate/waveform_without_emotion_av_val.npy', allow_pickle=True)\n",
    "labels_val = np.load('Features/labels_av_val.npy', allow_pickle=True)\n",
    "\n",
    "concatenate_vit_features_test = load_pickle('Features/vit_features_mul_test.pkl')\n",
    "concatenate_audio_features_test = np.load('Features/concatenate/waveform_without_emotion_mul_test.npy', allow_pickle=True)\n",
    "labels_test = np.load('Features/labels_mul_test.npy', allow_pickle=True)"
   ]
  },
  {
   "cell_type": "code",
   "execution_count": 15,
   "metadata": {},
   "outputs": [
    {
     "data": {
      "text/plain": [
       "(torch.Size([102, 768]), (250, 2000))"
      ]
     },
     "execution_count": 15,
     "metadata": {},
     "output_type": "execute_result"
    }
   ],
   "source": [
    "concatenate_vit_features[2].shape, concatenate_audio_features[2].shape"
   ]
  },
  {
   "cell_type": "code",
   "execution_count": 16,
   "metadata": {},
   "outputs": [
    {
     "data": {
      "text/plain": [
       "(250,)"
      ]
     },
     "execution_count": 16,
     "metadata": {},
     "output_type": "execute_result"
    }
   ],
   "source": [
    "labels[1].shape"
   ]
  },
  {
   "cell_type": "markdown",
   "metadata": {},
   "source": [
    "# Train"
   ]
  },
  {
   "cell_type": "code",
   "execution_count": 18,
   "metadata": {
    "scrolled": true
   },
   "outputs": [],
   "source": [
    "for vit_features, audio_features in zip(concatenate_vit_features, concatenate_audio_features):\n",
    "    audio_features = torch.tensor(audio_features).cuda()\n",
    "    vit_features = vit_features.cuda()\n",
    "\n",
    "    # Adjust vit length\n",
    "    if len(vit_features) < TARGET_LENGTH:\n",
    "        padding = torch.zeros(TARGET_LENGTH - len(vit_features), vit_features.shape[1], device=vit_features.device)\n",
    "        vit_features = torch.cat([vit_features, padding], dim=0)\n",
    "    elif len(vit_features) > TARGET_LENGTH:\n",
    "        vit_features = vit_features[:TARGET_LENGTH, :]\n",
    "\n",
    "    # Adjust audio length\n",
    "    if len(audio_features) < TARGET_LENGTH:\n",
    "        padding = torch.zeros(TARGET_LENGTH - len(audio_features), audio_features.shape[1], device=audio_features.device)\n",
    "        audio_features = torch.cat([audio_features, padding], dim=0)\n",
    "    elif len(audio_features) > TARGET_LENGTH:\n",
    "        audio_features = audio_features[:TARGET_LENGTH, :]\n",
    "\n",
    "    concated_feature = torch.cat((vit_features, audio_features), dim=1)\n",
    "    features_concatenate_list.append(concated_feature)\n"
   ]
  },
  {
   "cell_type": "code",
   "execution_count": 19,
   "metadata": {},
   "outputs": [
    {
     "data": {
      "text/plain": [
       "(402, torch.Size([250, 2768]))"
      ]
     },
     "execution_count": 19,
     "metadata": {},
     "output_type": "execute_result"
    }
   ],
   "source": [
    "len(features_concatenate_list), features_concatenate_list[0].shape"
   ]
  },
  {
   "cell_type": "code",
   "execution_count": 20,
   "metadata": {
    "scrolled": true
   },
   "outputs": [
    {
     "data": {
      "application/vnd.jupyter.widget-view+json": {
       "model_id": "013b844cd75e481eb6cfb419bc29eabe",
       "version_major": 2,
       "version_minor": 0
      },
      "text/plain": [
       "Processing:   0%|          | 0/401 [00:00<?, ?it/s]"
      ]
     },
     "metadata": {},
     "output_type": "display_data"
    },
    {
     "name": "stderr",
     "output_type": "stream",
     "text": [
      "WARNING:root:torch.Size([250, 2768]), torch.Size([250])\n",
      "WARNING:root:torch.Size([250, 2768]), torch.Size([250])\n",
      "WARNING:root:torch.Size([250, 2768]), torch.Size([250])\n",
      "WARNING:root:torch.Size([250, 2768]), torch.Size([250])\n",
      "WARNING:root:torch.Size([250, 2768]), torch.Size([250])\n",
      "WARNING:root:torch.Size([250, 2768]), torch.Size([250])\n",
      "WARNING:root:torch.Size([250, 2768]), torch.Size([250])\n",
      "WARNING:root:torch.Size([250, 2768]), torch.Size([250])\n",
      "WARNING:root:torch.Size([250, 2768]), torch.Size([250])\n",
      "WARNING:root:torch.Size([250, 2768]), torch.Size([250])\n",
      "WARNING:root:torch.Size([250, 2768]), torch.Size([250])\n",
      "WARNING:root:torch.Size([250, 2768]), torch.Size([250])\n",
      "WARNING:root:torch.Size([250, 2768]), torch.Size([250])\n",
      "WARNING:root:torch.Size([250, 2768]), torch.Size([250])\n",
      "WARNING:root:torch.Size([250, 2768]), torch.Size([250])\n",
      "WARNING:root:torch.Size([250, 2768]), torch.Size([250])\n",
      "WARNING:root:torch.Size([250, 2768]), torch.Size([250])\n",
      "WARNING:root:torch.Size([250, 2768]), torch.Size([250])\n",
      "WARNING:root:torch.Size([250, 2768]), torch.Size([250])\n",
      "WARNING:root:torch.Size([250, 2768]), torch.Size([250])\n",
      "WARNING:root:torch.Size([250, 2768]), torch.Size([250])\n",
      "WARNING:root:torch.Size([250, 2768]), torch.Size([250])\n",
      "WARNING:root:torch.Size([250, 2768]), torch.Size([250])\n",
      "WARNING:root:torch.Size([250, 2768]), torch.Size([250])\n",
      "WARNING:root:torch.Size([250, 2768]), torch.Size([250])\n",
      "WARNING:root:torch.Size([250, 2768]), torch.Size([250])\n",
      "WARNING:root:torch.Size([250, 2768]), torch.Size([250])\n",
      "WARNING:root:torch.Size([250, 2768]), torch.Size([250])\n",
      "WARNING:root:torch.Size([250, 2768]), torch.Size([250])\n",
      "WARNING:root:torch.Size([250, 2768]), torch.Size([250])\n",
      "WARNING:root:torch.Size([250, 2768]), torch.Size([250])\n",
      "WARNING:root:torch.Size([250, 2768]), torch.Size([250])\n",
      "WARNING:root:torch.Size([250, 2768]), torch.Size([250])\n",
      "WARNING:root:torch.Size([250, 2768]), torch.Size([250])\n",
      "WARNING:root:torch.Size([250, 2768]), torch.Size([250])\n",
      "WARNING:root:torch.Size([250, 2768]), torch.Size([250])\n",
      "WARNING:root:torch.Size([250, 2768]), torch.Size([250])\n",
      "WARNING:root:torch.Size([250, 2768]), torch.Size([250])\n",
      "WARNING:root:torch.Size([250, 2768]), torch.Size([250])\n",
      "WARNING:root:torch.Size([250, 2768]), torch.Size([250])\n",
      "WARNING:root:torch.Size([250, 2768]), torch.Size([250])\n",
      "WARNING:root:torch.Size([250, 2768]), torch.Size([250])\n",
      "WARNING:root:torch.Size([250, 2768]), torch.Size([250])\n",
      "WARNING:root:torch.Size([250, 2768]), torch.Size([250])\n",
      "WARNING:root:torch.Size([250, 2768]), torch.Size([250])\n",
      "WARNING:root:torch.Size([250, 2768]), torch.Size([250])\n",
      "WARNING:root:torch.Size([250, 2768]), torch.Size([250])\n",
      "WARNING:root:torch.Size([250, 2768]), torch.Size([250])\n",
      "WARNING:root:torch.Size([250, 2768]), torch.Size([250])\n",
      "WARNING:root:torch.Size([250, 2768]), torch.Size([250])\n",
      "WARNING:root:torch.Size([250, 2768]), torch.Size([250])\n",
      "WARNING:root:torch.Size([250, 2768]), torch.Size([250])\n",
      "WARNING:root:torch.Size([250, 2768]), torch.Size([250])\n",
      "WARNING:root:torch.Size([250, 2768]), torch.Size([250])\n",
      "WARNING:root:torch.Size([250, 2768]), torch.Size([250])\n",
      "WARNING:root:torch.Size([250, 2768]), torch.Size([250])\n",
      "WARNING:root:torch.Size([250, 2768]), torch.Size([250])\n",
      "WARNING:root:torch.Size([250, 2768]), torch.Size([250])\n",
      "WARNING:root:torch.Size([250, 2768]), torch.Size([250])\n",
      "WARNING:root:torch.Size([250, 2768]), torch.Size([250])\n",
      "WARNING:root:torch.Size([250, 2768]), torch.Size([250])\n",
      "WARNING:root:torch.Size([250, 2768]), torch.Size([250])\n",
      "WARNING:root:torch.Size([250, 2768]), torch.Size([250])\n",
      "WARNING:root:torch.Size([250, 2768]), torch.Size([250])\n",
      "WARNING:root:torch.Size([250, 2768]), torch.Size([250])\n",
      "WARNING:root:torch.Size([250, 2768]), torch.Size([250])\n",
      "WARNING:root:torch.Size([250, 2768]), torch.Size([250])\n",
      "WARNING:root:torch.Size([250, 2768]), torch.Size([250])\n",
      "WARNING:root:torch.Size([250, 2768]), torch.Size([250])\n",
      "WARNING:root:torch.Size([250, 2768]), torch.Size([250])\n",
      "WARNING:root:torch.Size([250, 2768]), torch.Size([250])\n",
      "WARNING:root:torch.Size([250, 2768]), torch.Size([250])\n",
      "WARNING:root:torch.Size([250, 2768]), torch.Size([250])\n",
      "WARNING:root:torch.Size([250, 2768]), torch.Size([250])\n",
      "WARNING:root:torch.Size([250, 2768]), torch.Size([250])\n",
      "WARNING:root:torch.Size([250, 2768]), torch.Size([250])\n",
      "WARNING:root:torch.Size([250, 2768]), torch.Size([250])\n",
      "WARNING:root:torch.Size([250, 2768]), torch.Size([250])\n",
      "WARNING:root:torch.Size([250, 2768]), torch.Size([250])\n",
      "WARNING:root:torch.Size([250, 2768]), torch.Size([250])\n",
      "WARNING:root:torch.Size([250, 2768]), torch.Size([250])\n",
      "WARNING:root:torch.Size([250, 2768]), torch.Size([250])\n",
      "WARNING:root:torch.Size([250, 2768]), torch.Size([250])\n",
      "WARNING:root:torch.Size([250, 2768]), torch.Size([250])\n",
      "WARNING:root:torch.Size([250, 2768]), torch.Size([250])\n",
      "WARNING:root:torch.Size([250, 2768]), torch.Size([250])\n",
      "WARNING:root:torch.Size([250, 2768]), torch.Size([250])\n",
      "WARNING:root:torch.Size([250, 2768]), torch.Size([250])\n",
      "WARNING:root:torch.Size([250, 2768]), torch.Size([250])\n",
      "WARNING:root:torch.Size([250, 2768]), torch.Size([250])\n",
      "WARNING:root:torch.Size([250, 2768]), torch.Size([250])\n",
      "WARNING:root:torch.Size([250, 2768]), torch.Size([250])\n",
      "WARNING:root:torch.Size([250, 2768]), torch.Size([250])\n",
      "WARNING:root:torch.Size([250, 2768]), torch.Size([250])\n",
      "WARNING:root:torch.Size([250, 2768]), torch.Size([250])\n",
      "WARNING:root:torch.Size([250, 2768]), torch.Size([250])\n",
      "WARNING:root:torch.Size([250, 2768]), torch.Size([250])\n",
      "WARNING:root:torch.Size([250, 2768]), torch.Size([250])\n",
      "WARNING:root:torch.Size([250, 2768]), torch.Size([250])\n",
      "WARNING:root:torch.Size([250, 2768]), torch.Size([250])\n",
      "WARNING:root:torch.Size([250, 2768]), torch.Size([250])\n",
      "WARNING:root:torch.Size([250, 2768]), torch.Size([250])\n",
      "WARNING:root:torch.Size([250, 2768]), torch.Size([250])\n",
      "WARNING:root:torch.Size([250, 2768]), torch.Size([250])\n",
      "WARNING:root:torch.Size([250, 2768]), torch.Size([250])\n",
      "WARNING:root:torch.Size([250, 2768]), torch.Size([250])\n",
      "WARNING:root:torch.Size([250, 2768]), torch.Size([250])\n",
      "WARNING:root:torch.Size([250, 2768]), torch.Size([250])\n",
      "WARNING:root:torch.Size([250, 2768]), torch.Size([250])\n",
      "WARNING:root:torch.Size([250, 2768]), torch.Size([250])\n",
      "WARNING:root:torch.Size([250, 2768]), torch.Size([250])\n",
      "WARNING:root:torch.Size([250, 2768]), torch.Size([250])\n",
      "WARNING:root:torch.Size([250, 2768]), torch.Size([250])\n",
      "WARNING:root:torch.Size([250, 2768]), torch.Size([250])\n",
      "WARNING:root:torch.Size([250, 2768]), torch.Size([250])\n",
      "WARNING:root:torch.Size([250, 2768]), torch.Size([250])\n",
      "WARNING:root:torch.Size([250, 2768]), torch.Size([250])\n",
      "WARNING:root:torch.Size([250, 2768]), torch.Size([250])\n",
      "WARNING:root:torch.Size([250, 2768]), torch.Size([250])\n",
      "WARNING:root:torch.Size([250, 2768]), torch.Size([250])\n",
      "WARNING:root:torch.Size([250, 2768]), torch.Size([250])\n",
      "WARNING:root:torch.Size([250, 2768]), torch.Size([250])\n",
      "WARNING:root:torch.Size([250, 2768]), torch.Size([250])\n",
      "WARNING:root:torch.Size([250, 2768]), torch.Size([250])\n",
      "WARNING:root:torch.Size([250, 2768]), torch.Size([250])\n",
      "WARNING:root:torch.Size([250, 2768]), torch.Size([250])\n",
      "WARNING:root:torch.Size([250, 2768]), torch.Size([250])\n",
      "WARNING:root:torch.Size([250, 2768]), torch.Size([250])\n",
      "WARNING:root:torch.Size([250, 2768]), torch.Size([250])\n",
      "WARNING:root:torch.Size([250, 2768]), torch.Size([250])\n",
      "WARNING:root:torch.Size([250, 2768]), torch.Size([250])\n",
      "WARNING:root:torch.Size([250, 2768]), torch.Size([250])\n",
      "WARNING:root:torch.Size([250, 2768]), torch.Size([250])\n",
      "WARNING:root:torch.Size([250, 2768]), torch.Size([250])\n",
      "WARNING:root:torch.Size([250, 2768]), torch.Size([250])\n",
      "WARNING:root:torch.Size([250, 2768]), torch.Size([250])\n",
      "WARNING:root:torch.Size([250, 2768]), torch.Size([250])\n",
      "WARNING:root:torch.Size([250, 2768]), torch.Size([250])\n",
      "WARNING:root:torch.Size([250, 2768]), torch.Size([250])\n",
      "WARNING:root:torch.Size([250, 2768]), torch.Size([250])\n",
      "WARNING:root:torch.Size([250, 2768]), torch.Size([250])\n",
      "WARNING:root:torch.Size([250, 2768]), torch.Size([250])\n",
      "WARNING:root:torch.Size([250, 2768]), torch.Size([250])\n",
      "WARNING:root:torch.Size([250, 2768]), torch.Size([250])\n",
      "WARNING:root:torch.Size([250, 2768]), torch.Size([250])\n",
      "WARNING:root:torch.Size([250, 2768]), torch.Size([250])\n",
      "WARNING:root:torch.Size([250, 2768]), torch.Size([250])\n",
      "WARNING:root:torch.Size([250, 2768]), torch.Size([250])\n",
      "WARNING:root:torch.Size([250, 2768]), torch.Size([250])\n",
      "WARNING:root:torch.Size([250, 2768]), torch.Size([250])\n",
      "WARNING:root:torch.Size([250, 2768]), torch.Size([250])\n",
      "WARNING:root:torch.Size([250, 2768]), torch.Size([250])\n",
      "WARNING:root:torch.Size([250, 2768]), torch.Size([250])\n",
      "WARNING:root:torch.Size([250, 2768]), torch.Size([250])\n",
      "WARNING:root:torch.Size([250, 2768]), torch.Size([250])\n",
      "WARNING:root:torch.Size([250, 2768]), torch.Size([250])\n",
      "WARNING:root:torch.Size([250, 2768]), torch.Size([250])\n",
      "WARNING:root:torch.Size([250, 2768]), torch.Size([250])\n",
      "WARNING:root:torch.Size([250, 2768]), torch.Size([250])\n",
      "WARNING:root:torch.Size([250, 2768]), torch.Size([250])\n",
      "WARNING:root:torch.Size([250, 2768]), torch.Size([250])\n",
      "WARNING:root:torch.Size([250, 2768]), torch.Size([250])\n",
      "WARNING:root:torch.Size([250, 2768]), torch.Size([250])\n",
      "WARNING:root:torch.Size([250, 2768]), torch.Size([250])\n",
      "WARNING:root:torch.Size([250, 2768]), torch.Size([250])\n",
      "WARNING:root:torch.Size([250, 2768]), torch.Size([250])\n",
      "WARNING:root:torch.Size([250, 2768]), torch.Size([250])\n",
      "WARNING:root:torch.Size([250, 2768]), torch.Size([250])\n",
      "WARNING:root:torch.Size([250, 2768]), torch.Size([250])\n",
      "WARNING:root:torch.Size([250, 2768]), torch.Size([250])\n",
      "WARNING:root:torch.Size([250, 2768]), torch.Size([250])\n",
      "WARNING:root:torch.Size([250, 2768]), torch.Size([250])\n",
      "WARNING:root:torch.Size([250, 2768]), torch.Size([250])\n",
      "WARNING:root:torch.Size([250, 2768]), torch.Size([250])\n",
      "WARNING:root:torch.Size([250, 2768]), torch.Size([250])\n",
      "WARNING:root:torch.Size([250, 2768]), torch.Size([250])\n",
      "WARNING:root:torch.Size([250, 2768]), torch.Size([250])\n",
      "WARNING:root:torch.Size([250, 2768]), torch.Size([250])\n",
      "WARNING:root:torch.Size([250, 2768]), torch.Size([250])\n",
      "WARNING:root:torch.Size([250, 2768]), torch.Size([250])\n",
      "WARNING:root:torch.Size([250, 2768]), torch.Size([250])\n",
      "WARNING:root:torch.Size([250, 2768]), torch.Size([250])\n",
      "WARNING:root:torch.Size([250, 2768]), torch.Size([250])\n",
      "WARNING:root:torch.Size([250, 2768]), torch.Size([250])\n",
      "WARNING:root:torch.Size([250, 2768]), torch.Size([250])\n",
      "WARNING:root:torch.Size([250, 2768]), torch.Size([250])\n",
      "WARNING:root:torch.Size([250, 2768]), torch.Size([250])\n",
      "WARNING:root:torch.Size([250, 2768]), torch.Size([250])\n",
      "WARNING:root:torch.Size([250, 2768]), torch.Size([250])\n",
      "WARNING:root:torch.Size([250, 2768]), torch.Size([250])\n",
      "WARNING:root:torch.Size([250, 2768]), torch.Size([250])\n",
      "WARNING:root:torch.Size([250, 2768]), torch.Size([250])\n",
      "WARNING:root:torch.Size([250, 2768]), torch.Size([250])\n",
      "WARNING:root:torch.Size([250, 2768]), torch.Size([250])\n",
      "WARNING:root:torch.Size([250, 2768]), torch.Size([250])\n",
      "WARNING:root:torch.Size([250, 2768]), torch.Size([250])\n",
      "WARNING:root:torch.Size([250, 2768]), torch.Size([250])\n",
      "WARNING:root:torch.Size([250, 2768]), torch.Size([250])\n",
      "WARNING:root:torch.Size([250, 2768]), torch.Size([250])\n",
      "WARNING:root:torch.Size([250, 2768]), torch.Size([250])\n",
      "WARNING:root:torch.Size([250, 2768]), torch.Size([250])\n",
      "WARNING:root:torch.Size([250, 2768]), torch.Size([250])\n",
      "WARNING:root:torch.Size([250, 2768]), torch.Size([250])\n",
      "WARNING:root:torch.Size([250, 2768]), torch.Size([250])\n",
      "WARNING:root:torch.Size([250, 2768]), torch.Size([250])\n",
      "WARNING:root:torch.Size([250, 2768]), torch.Size([250])\n",
      "WARNING:root:torch.Size([250, 2768]), torch.Size([250])\n",
      "WARNING:root:torch.Size([250, 2768]), torch.Size([250])\n",
      "WARNING:root:torch.Size([250, 2768]), torch.Size([250])\n",
      "WARNING:root:torch.Size([250, 2768]), torch.Size([250])\n",
      "WARNING:root:torch.Size([250, 2768]), torch.Size([250])\n",
      "WARNING:root:torch.Size([250, 2768]), torch.Size([250])\n",
      "WARNING:root:torch.Size([250, 2768]), torch.Size([250])\n",
      "WARNING:root:torch.Size([250, 2768]), torch.Size([250])\n",
      "WARNING:root:torch.Size([250, 2768]), torch.Size([250])\n",
      "WARNING:root:torch.Size([250, 2768]), torch.Size([250])\n",
      "WARNING:root:torch.Size([250, 2768]), torch.Size([250])\n",
      "WARNING:root:torch.Size([250, 2768]), torch.Size([250])\n",
      "WARNING:root:torch.Size([250, 2768]), torch.Size([250])\n",
      "WARNING:root:torch.Size([250, 2768]), torch.Size([250])\n",
      "WARNING:root:torch.Size([250, 2768]), torch.Size([250])\n",
      "WARNING:root:torch.Size([250, 2768]), torch.Size([250])\n",
      "WARNING:root:torch.Size([250, 2768]), torch.Size([250])\n",
      "WARNING:root:torch.Size([250, 2768]), torch.Size([250])\n",
      "WARNING:root:torch.Size([250, 2768]), torch.Size([250])\n",
      "WARNING:root:torch.Size([250, 2768]), torch.Size([250])\n",
      "WARNING:root:torch.Size([250, 2768]), torch.Size([250])\n",
      "WARNING:root:torch.Size([250, 2768]), torch.Size([250])\n",
      "WARNING:root:torch.Size([250, 2768]), torch.Size([250])\n",
      "WARNING:root:torch.Size([250, 2768]), torch.Size([250])\n",
      "WARNING:root:torch.Size([250, 2768]), torch.Size([250])\n",
      "WARNING:root:torch.Size([250, 2768]), torch.Size([250])\n",
      "WARNING:root:torch.Size([250, 2768]), torch.Size([250])\n",
      "WARNING:root:torch.Size([250, 2768]), torch.Size([250])\n",
      "WARNING:root:torch.Size([250, 2768]), torch.Size([250])\n",
      "WARNING:root:torch.Size([250, 2768]), torch.Size([250])\n",
      "WARNING:root:torch.Size([250, 2768]), torch.Size([250])\n",
      "WARNING:root:torch.Size([250, 2768]), torch.Size([250])\n",
      "WARNING:root:torch.Size([250, 2768]), torch.Size([250])\n",
      "WARNING:root:torch.Size([250, 2768]), torch.Size([250])\n",
      "WARNING:root:torch.Size([250, 2768]), torch.Size([250])\n",
      "WARNING:root:torch.Size([250, 2768]), torch.Size([250])\n",
      "WARNING:root:torch.Size([250, 2768]), torch.Size([250])\n",
      "WARNING:root:torch.Size([250, 2768]), torch.Size([250])\n",
      "WARNING:root:torch.Size([250, 2768]), torch.Size([250])\n",
      "WARNING:root:torch.Size([250, 2768]), torch.Size([250])\n",
      "WARNING:root:torch.Size([250, 2768]), torch.Size([250])\n",
      "WARNING:root:torch.Size([250, 2768]), torch.Size([250])\n",
      "WARNING:root:torch.Size([250, 2768]), torch.Size([250])\n",
      "WARNING:root:torch.Size([250, 2768]), torch.Size([250])\n",
      "WARNING:root:torch.Size([250, 2768]), torch.Size([250])\n",
      "WARNING:root:torch.Size([250, 2768]), torch.Size([250])\n",
      "WARNING:root:torch.Size([250, 2768]), torch.Size([250])\n",
      "WARNING:root:torch.Size([250, 2768]), torch.Size([250])\n",
      "WARNING:root:torch.Size([250, 2768]), torch.Size([250])\n",
      "WARNING:root:torch.Size([250, 2768]), torch.Size([250])\n",
      "WARNING:root:torch.Size([250, 2768]), torch.Size([250])\n",
      "WARNING:root:torch.Size([250, 2768]), torch.Size([250])\n",
      "WARNING:root:torch.Size([250, 2768]), torch.Size([250])\n",
      "WARNING:root:torch.Size([250, 2768]), torch.Size([250])\n",
      "WARNING:root:torch.Size([250, 2768]), torch.Size([250])\n",
      "WARNING:root:torch.Size([250, 2768]), torch.Size([250])\n",
      "WARNING:root:torch.Size([250, 2768]), torch.Size([250])\n",
      "WARNING:root:torch.Size([250, 2768]), torch.Size([250])\n",
      "WARNING:root:torch.Size([250, 2768]), torch.Size([250])\n",
      "WARNING:root:torch.Size([250, 2768]), torch.Size([250])\n",
      "WARNING:root:torch.Size([250, 2768]), torch.Size([250])\n",
      "WARNING:root:torch.Size([250, 2768]), torch.Size([250])\n",
      "WARNING:root:torch.Size([250, 2768]), torch.Size([250])\n",
      "WARNING:root:torch.Size([250, 2768]), torch.Size([250])\n",
      "WARNING:root:torch.Size([250, 2768]), torch.Size([250])\n",
      "WARNING:root:torch.Size([250, 2768]), torch.Size([250])\n",
      "WARNING:root:torch.Size([250, 2768]), torch.Size([250])\n",
      "WARNING:root:torch.Size([250, 2768]), torch.Size([250])\n",
      "WARNING:root:torch.Size([250, 2768]), torch.Size([250])\n",
      "WARNING:root:torch.Size([250, 2768]), torch.Size([250])\n",
      "WARNING:root:torch.Size([250, 2768]), torch.Size([250])\n",
      "WARNING:root:torch.Size([250, 2768]), torch.Size([250])\n",
      "WARNING:root:torch.Size([250, 2768]), torch.Size([250])\n",
      "WARNING:root:torch.Size([250, 2768]), torch.Size([250])\n",
      "WARNING:root:torch.Size([250, 2768]), torch.Size([250])\n",
      "WARNING:root:torch.Size([250, 2768]), torch.Size([250])\n",
      "WARNING:root:torch.Size([250, 2768]), torch.Size([250])\n",
      "WARNING:root:torch.Size([250, 2768]), torch.Size([250])\n",
      "WARNING:root:torch.Size([250, 2768]), torch.Size([250])\n",
      "WARNING:root:torch.Size([250, 2768]), torch.Size([250])\n",
      "WARNING:root:torch.Size([250, 2768]), torch.Size([250])\n",
      "WARNING:root:torch.Size([250, 2768]), torch.Size([250])\n",
      "WARNING:root:torch.Size([250, 2768]), torch.Size([250])\n",
      "WARNING:root:torch.Size([250, 2768]), torch.Size([250])\n",
      "WARNING:root:torch.Size([250, 2768]), torch.Size([250])\n",
      "WARNING:root:torch.Size([250, 2768]), torch.Size([250])\n",
      "WARNING:root:torch.Size([250, 2768]), torch.Size([250])\n",
      "WARNING:root:torch.Size([250, 2768]), torch.Size([250])\n",
      "WARNING:root:torch.Size([250, 2768]), torch.Size([250])\n",
      "WARNING:root:torch.Size([250, 2768]), torch.Size([250])\n",
      "WARNING:root:torch.Size([250, 2768]), torch.Size([250])\n",
      "WARNING:root:torch.Size([250, 2768]), torch.Size([250])\n",
      "WARNING:root:torch.Size([250, 2768]), torch.Size([250])\n",
      "WARNING:root:torch.Size([250, 2768]), torch.Size([250])\n",
      "WARNING:root:torch.Size([250, 2768]), torch.Size([250])\n",
      "WARNING:root:torch.Size([250, 2768]), torch.Size([250])\n",
      "WARNING:root:torch.Size([250, 2768]), torch.Size([250])\n",
      "WARNING:root:torch.Size([250, 2768]), torch.Size([250])\n",
      "WARNING:root:torch.Size([250, 2768]), torch.Size([250])\n",
      "WARNING:root:torch.Size([250, 2768]), torch.Size([250])\n",
      "WARNING:root:torch.Size([250, 2768]), torch.Size([250])\n",
      "WARNING:root:torch.Size([250, 2768]), torch.Size([250])\n",
      "WARNING:root:torch.Size([250, 2768]), torch.Size([250])\n",
      "WARNING:root:torch.Size([250, 2768]), torch.Size([250])\n",
      "WARNING:root:torch.Size([250, 2768]), torch.Size([250])\n",
      "WARNING:root:torch.Size([250, 2768]), torch.Size([250])\n",
      "WARNING:root:torch.Size([250, 2768]), torch.Size([250])\n",
      "WARNING:root:torch.Size([250, 2768]), torch.Size([250])\n",
      "WARNING:root:torch.Size([250, 2768]), torch.Size([250])\n",
      "WARNING:root:torch.Size([250, 2768]), torch.Size([250])\n",
      "WARNING:root:torch.Size([250, 2768]), torch.Size([250])\n",
      "WARNING:root:torch.Size([250, 2768]), torch.Size([250])\n",
      "WARNING:root:torch.Size([250, 2768]), torch.Size([250])\n",
      "WARNING:root:torch.Size([250, 2768]), torch.Size([250])\n",
      "WARNING:root:torch.Size([250, 2768]), torch.Size([250])\n",
      "WARNING:root:torch.Size([250, 2768]), torch.Size([250])\n",
      "WARNING:root:torch.Size([250, 2768]), torch.Size([250])\n",
      "WARNING:root:torch.Size([250, 2768]), torch.Size([250])\n",
      "WARNING:root:torch.Size([250, 2768]), torch.Size([250])\n",
      "WARNING:root:torch.Size([250, 2768]), torch.Size([250])\n",
      "WARNING:root:torch.Size([250, 2768]), torch.Size([250])\n",
      "WARNING:root:torch.Size([250, 2768]), torch.Size([250])\n",
      "WARNING:root:torch.Size([250, 2768]), torch.Size([250])\n",
      "WARNING:root:torch.Size([250, 2768]), torch.Size([250])\n",
      "WARNING:root:torch.Size([250, 2768]), torch.Size([250])\n",
      "WARNING:root:torch.Size([250, 2768]), torch.Size([250])\n",
      "WARNING:root:torch.Size([250, 2768]), torch.Size([250])\n",
      "WARNING:root:torch.Size([250, 2768]), torch.Size([250])\n",
      "WARNING:root:torch.Size([250, 2768]), torch.Size([250])\n",
      "WARNING:root:torch.Size([250, 2768]), torch.Size([250])\n",
      "WARNING:root:torch.Size([250, 2768]), torch.Size([250])\n",
      "WARNING:root:torch.Size([250, 2768]), torch.Size([250])\n",
      "WARNING:root:torch.Size([250, 2768]), torch.Size([250])\n",
      "WARNING:root:torch.Size([250, 2768]), torch.Size([250])\n",
      "WARNING:root:torch.Size([250, 2768]), torch.Size([250])\n",
      "WARNING:root:torch.Size([250, 2768]), torch.Size([250])\n",
      "WARNING:root:torch.Size([250, 2768]), torch.Size([250])\n",
      "WARNING:root:torch.Size([250, 2768]), torch.Size([250])\n",
      "WARNING:root:torch.Size([250, 2768]), torch.Size([250])\n",
      "WARNING:root:torch.Size([250, 2768]), torch.Size([250])\n",
      "WARNING:root:torch.Size([250, 2768]), torch.Size([250])\n",
      "WARNING:root:torch.Size([250, 2768]), torch.Size([250])\n",
      "WARNING:root:torch.Size([250, 2768]), torch.Size([250])\n",
      "WARNING:root:torch.Size([250, 2768]), torch.Size([250])\n",
      "WARNING:root:torch.Size([250, 2768]), torch.Size([250])\n",
      "WARNING:root:torch.Size([250, 2768]), torch.Size([250])\n",
      "WARNING:root:torch.Size([250, 2768]), torch.Size([250])\n",
      "WARNING:root:torch.Size([250, 2768]), torch.Size([250])\n",
      "WARNING:root:torch.Size([250, 2768]), torch.Size([250])\n",
      "WARNING:root:torch.Size([250, 2768]), torch.Size([250])\n",
      "WARNING:root:torch.Size([250, 2768]), torch.Size([250])\n",
      "WARNING:root:torch.Size([250, 2768]), torch.Size([250])\n",
      "WARNING:root:torch.Size([250, 2768]), torch.Size([250])\n",
      "WARNING:root:torch.Size([250, 2768]), torch.Size([250])\n",
      "WARNING:root:torch.Size([250, 2768]), torch.Size([250])\n",
      "WARNING:root:torch.Size([250, 2768]), torch.Size([250])\n",
      "WARNING:root:torch.Size([250, 2768]), torch.Size([250])\n",
      "WARNING:root:torch.Size([250, 2768]), torch.Size([250])\n",
      "WARNING:root:torch.Size([250, 2768]), torch.Size([250])\n",
      "WARNING:root:torch.Size([250, 2768]), torch.Size([250])\n",
      "WARNING:root:torch.Size([250, 2768]), torch.Size([250])\n",
      "WARNING:root:torch.Size([250, 2768]), torch.Size([250])\n",
      "WARNING:root:torch.Size([250, 2768]), torch.Size([250])\n",
      "WARNING:root:torch.Size([250, 2768]), torch.Size([250])\n",
      "WARNING:root:torch.Size([250, 2768]), torch.Size([250])\n",
      "WARNING:root:torch.Size([250, 2768]), torch.Size([250])\n",
      "WARNING:root:torch.Size([250, 2768]), torch.Size([250])\n",
      "WARNING:root:torch.Size([250, 2768]), torch.Size([250])\n",
      "WARNING:root:torch.Size([250, 2768]), torch.Size([250])\n",
      "WARNING:root:torch.Size([250, 2768]), torch.Size([250])\n",
      "WARNING:root:torch.Size([250, 2768]), torch.Size([250])\n",
      "WARNING:root:torch.Size([250, 2768]), torch.Size([250])\n",
      "WARNING:root:torch.Size([250, 2768]), torch.Size([250])\n",
      "WARNING:root:torch.Size([250, 2768]), torch.Size([250])\n",
      "WARNING:root:torch.Size([250, 2768]), torch.Size([250])\n",
      "WARNING:root:torch.Size([250, 2768]), torch.Size([250])\n",
      "WARNING:root:torch.Size([250, 2768]), torch.Size([250])\n",
      "WARNING:root:torch.Size([250, 2768]), torch.Size([250])\n",
      "WARNING:root:torch.Size([250, 2768]), torch.Size([250])\n",
      "WARNING:root:torch.Size([250, 2768]), torch.Size([250])\n",
      "WARNING:root:torch.Size([250, 2768]), torch.Size([250])\n",
      "WARNING:root:torch.Size([250, 2768]), torch.Size([250])\n",
      "WARNING:root:torch.Size([250, 2768]), torch.Size([250])\n",
      "WARNING:root:torch.Size([250, 2768]), torch.Size([250])\n",
      "WARNING:root:torch.Size([250, 2768]), torch.Size([250])\n",
      "WARNING:root:torch.Size([250, 2768]), torch.Size([250])\n",
      "WARNING:root:torch.Size([250, 2768]), torch.Size([250])\n",
      "WARNING:root:torch.Size([250, 2768]), torch.Size([250])\n",
      "WARNING:root:torch.Size([250, 2768]), torch.Size([250])\n",
      "WARNING:root:torch.Size([250, 2768]), torch.Size([250])\n",
      "WARNING:root:torch.Size([250, 2768]), torch.Size([250])\n",
      "WARNING:root:torch.Size([250, 2768]), torch.Size([250])\n",
      "WARNING:root:torch.Size([250, 2768]), torch.Size([250])\n",
      "WARNING:root:torch.Size([250, 2768]), torch.Size([250])\n",
      "WARNING:root:torch.Size([250, 2768]), torch.Size([250])\n"
     ]
    }
   ],
   "source": [
    "from tqdm.notebook import tqdm\n",
    "import logging\n",
    "TARGET_LENGTH = 250\n",
    "\n",
    "new_features_concatenate_list = []\n",
    "new_labels = []\n",
    "\n",
    "for concat, label in tqdm(zip(features_concatenate_list, labels), total=len(labels), desc=\"Processing\"):\n",
    "    # concat의 길이를 250으로 조절\n",
    "    if concat.shape[0] < TARGET_LENGTH:\n",
    "        padding = torch.zeros((TARGET_LENGTH - concat.shape[0], concat.shape[1]), device=concat.device)\n",
    "        concat = torch.cat([concat, padding], dim=0)\n",
    "    elif concat.shape[0] > TARGET_LENGTH:\n",
    "        concat = concat[:TARGET_LENGTH]\n",
    "\n",
    "    # label이 numpy일 경우 텐서로 변환\n",
    "    if isinstance(label, np.ndarray):\n",
    "        label = torch.from_numpy(label).to(concat.device)\n",
    "\n",
    "    if len(label) < TARGET_LENGTH:\n",
    "        padding = torch.zeros(TARGET_LENGTH - len(label), device=concat.device)\n",
    "        label = torch.cat([label, padding], dim=0)\n",
    "    elif len(label) > TARGET_LENGTH:\n",
    "        label = label[:TARGET_LENGTH]\n",
    "\n",
    "    new_features_concatenate_list.append(concat)\n",
    "    new_labels.append(label)\n",
    "\n",
    "    logging.warning(f'{concat.shape}, {label.shape}')\n"
   ]
  },
  {
   "cell_type": "code",
   "execution_count": 21,
   "metadata": {},
   "outputs": [],
   "source": [
    "labels_train = np.stack([i.cpu().numpy() for i in new_labels])\n",
    "features_concatenate_list_train = new_features_concatenate_list"
   ]
  },
  {
   "cell_type": "code",
   "execution_count": 22,
   "metadata": {},
   "outputs": [
    {
     "data": {
      "text/plain": [
       "(401, 401)"
      ]
     },
     "execution_count": 22,
     "metadata": {},
     "output_type": "execute_result"
    }
   ],
   "source": [
    "len(labels_train), len(features_concatenate_list_train),"
   ]
  },
  {
   "cell_type": "markdown",
   "metadata": {},
   "source": [
    "# Validation"
   ]
  },
  {
   "cell_type": "code",
   "execution_count": 25,
   "metadata": {
    "scrolled": true
   },
   "outputs": [
    {
     "name": "stderr",
     "output_type": "stream",
     "text": [
      "/tmp/ipykernel_8758/3609240359.py:13: DeprecationWarning: The 'warn' function is deprecated, use 'warning' instead\n",
      "  logging.warn(f'check1: padded vit_features to {vit_features.shape}')\n",
      "WARNING:root:check1: padded vit_features to torch.Size([250, 768])\n",
      "WARNING:root:check1: padded vit_features to torch.Size([250, 768])\n",
      "WARNING:root:check1: padded vit_features to torch.Size([250, 768])\n",
      "WARNING:root:check1: padded vit_features to torch.Size([250, 768])\n",
      "WARNING:root:check1: padded vit_features to torch.Size([250, 768])\n",
      "WARNING:root:check1: padded vit_features to torch.Size([250, 768])\n",
      "WARNING:root:check1: padded vit_features to torch.Size([250, 768])\n",
      "WARNING:root:check1: padded vit_features to torch.Size([250, 768])\n",
      "WARNING:root:check1: padded vit_features to torch.Size([250, 768])\n",
      "WARNING:root:check1: padded vit_features to torch.Size([250, 768])\n",
      "WARNING:root:check1: padded vit_features to torch.Size([250, 768])\n",
      "WARNING:root:check1: padded vit_features to torch.Size([250, 768])\n",
      "WARNING:root:check1: padded vit_features to torch.Size([250, 768])\n",
      "WARNING:root:check1: padded vit_features to torch.Size([250, 768])\n",
      "WARNING:root:check1: padded vit_features to torch.Size([250, 768])\n",
      "WARNING:root:check1: padded vit_features to torch.Size([250, 768])\n",
      "WARNING:root:check1: padded vit_features to torch.Size([250, 768])\n",
      "WARNING:root:check1: padded vit_features to torch.Size([250, 768])\n",
      "WARNING:root:check1: padded vit_features to torch.Size([250, 768])\n",
      "WARNING:root:check1: padded vit_features to torch.Size([250, 768])\n",
      "WARNING:root:check1: padded vit_features to torch.Size([250, 768])\n",
      "WARNING:root:check1: padded vit_features to torch.Size([250, 768])\n",
      "WARNING:root:check1: padded vit_features to torch.Size([250, 768])\n",
      "WARNING:root:check1: padded vit_features to torch.Size([250, 768])\n",
      "WARNING:root:check1: padded vit_features to torch.Size([250, 768])\n",
      "WARNING:root:check1: padded vit_features to torch.Size([250, 768])\n",
      "WARNING:root:check1: padded vit_features to torch.Size([250, 768])\n",
      "WARNING:root:check1: padded vit_features to torch.Size([250, 768])\n",
      "WARNING:root:check1: padded vit_features to torch.Size([250, 768])\n",
      "WARNING:root:check1: padded vit_features to torch.Size([250, 768])\n",
      "WARNING:root:check1: padded vit_features to torch.Size([250, 768])\n",
      "WARNING:root:check1: padded vit_features to torch.Size([250, 768])\n",
      "WARNING:root:check1: padded vit_features to torch.Size([250, 768])\n",
      "WARNING:root:check1: padded vit_features to torch.Size([250, 768])\n",
      "WARNING:root:check1: padded vit_features to torch.Size([250, 768])\n",
      "WARNING:root:check1: padded vit_features to torch.Size([250, 768])\n",
      "WARNING:root:check1: padded vit_features to torch.Size([250, 768])\n",
      "WARNING:root:check1: padded vit_features to torch.Size([250, 768])\n",
      "WARNING:root:check1: padded vit_features to torch.Size([250, 768])\n",
      "WARNING:root:check1: padded vit_features to torch.Size([250, 768])\n",
      "WARNING:root:check1: padded vit_features to torch.Size([250, 768])\n",
      "WARNING:root:check1: padded vit_features to torch.Size([250, 768])\n",
      "WARNING:root:check1: padded vit_features to torch.Size([250, 768])\n",
      "WARNING:root:check1: padded vit_features to torch.Size([250, 768])\n",
      "WARNING:root:check1: padded vit_features to torch.Size([250, 768])\n",
      "WARNING:root:check1: padded vit_features to torch.Size([250, 768])\n",
      "WARNING:root:check1: padded vit_features to torch.Size([250, 768])\n",
      "WARNING:root:check1: padded vit_features to torch.Size([250, 768])\n",
      "WARNING:root:check1: padded vit_features to torch.Size([250, 768])\n",
      "WARNING:root:check1: padded vit_features to torch.Size([250, 768])\n",
      "WARNING:root:check1: padded vit_features to torch.Size([250, 768])\n",
      "WARNING:root:check1: padded vit_features to torch.Size([250, 768])\n",
      "WARNING:root:check1: padded vit_features to torch.Size([250, 768])\n",
      "WARNING:root:check1: padded vit_features to torch.Size([250, 768])\n",
      "WARNING:root:check1: padded vit_features to torch.Size([250, 768])\n",
      "WARNING:root:check1: padded vit_features to torch.Size([250, 768])\n",
      "WARNING:root:check1: padded vit_features to torch.Size([250, 768])\n",
      "WARNING:root:check1: padded vit_features to torch.Size([250, 768])\n",
      "WARNING:root:check1: padded vit_features to torch.Size([250, 768])\n",
      "WARNING:root:check1: padded vit_features to torch.Size([250, 768])\n",
      "WARNING:root:check1: padded vit_features to torch.Size([250, 768])\n",
      "WARNING:root:check1: padded vit_features to torch.Size([250, 768])\n",
      "WARNING:root:check1: padded vit_features to torch.Size([250, 768])\n",
      "WARNING:root:check1: padded vit_features to torch.Size([250, 768])\n",
      "WARNING:root:check1: padded vit_features to torch.Size([250, 768])\n",
      "WARNING:root:check1: padded vit_features to torch.Size([250, 768])\n",
      "WARNING:root:check1: padded vit_features to torch.Size([250, 768])\n",
      "WARNING:root:check1: padded vit_features to torch.Size([250, 768])\n",
      "WARNING:root:check1: padded vit_features to torch.Size([250, 768])\n",
      "WARNING:root:check1: padded vit_features to torch.Size([250, 768])\n",
      "WARNING:root:check1: padded vit_features to torch.Size([250, 768])\n",
      "WARNING:root:check1: padded vit_features to torch.Size([250, 768])\n",
      "WARNING:root:check1: padded vit_features to torch.Size([250, 768])\n",
      "WARNING:root:check1: padded vit_features to torch.Size([250, 768])\n",
      "WARNING:root:check1: padded vit_features to torch.Size([250, 768])\n",
      "WARNING:root:check1: padded vit_features to torch.Size([250, 768])\n",
      "WARNING:root:check1: padded vit_features to torch.Size([250, 768])\n",
      "WARNING:root:check1: padded vit_features to torch.Size([250, 768])\n",
      "WARNING:root:check1: padded vit_features to torch.Size([250, 768])\n",
      "WARNING:root:check1: padded vit_features to torch.Size([250, 768])\n",
      "WARNING:root:check1: padded vit_features to torch.Size([250, 768])\n",
      "WARNING:root:check1: padded vit_features to torch.Size([250, 768])\n",
      "WARNING:root:check1: padded vit_features to torch.Size([250, 768])\n",
      "WARNING:root:check1: padded vit_features to torch.Size([250, 768])\n",
      "WARNING:root:check1: padded vit_features to torch.Size([250, 768])\n",
      "WARNING:root:check1: padded vit_features to torch.Size([250, 768])\n",
      "WARNING:root:check1: padded vit_features to torch.Size([250, 768])\n",
      "WARNING:root:check1: padded vit_features to torch.Size([250, 768])\n",
      "WARNING:root:check1: padded vit_features to torch.Size([250, 768])\n",
      "WARNING:root:check1: padded vit_features to torch.Size([250, 768])\n",
      "WARNING:root:check1: padded vit_features to torch.Size([250, 768])\n",
      "WARNING:root:check1: padded vit_features to torch.Size([250, 768])\n"
     ]
    }
   ],
   "source": [
    "features_concatenate_list_val = []\n",
    "cnt = 0\n",
    "TARGET_LENGTH = 250\n",
    "import logging\n",
    "for vit_features, audio_features in zip(concatenate_vit_features_val, concatenate_audio_features_val):\n",
    "    audio_features = torch.tensor(audio_features).cuda()\n",
    "    vit_features = vit_features.cuda()  # Move to cuda once to avoid repeated calls\n",
    "\n",
    "    # vit_features to 250 length\n",
    "    if len(vit_features) < TARGET_LENGTH:\n",
    "        padding = torch.zeros(TARGET_LENGTH - len(vit_features), vit_features.shape[1], device=vit_features.device)\n",
    "        vit_features = torch.cat([vit_features, padding], dim=0)\n",
    "        logging.warn(f'check1: padded vit_features to {vit_features.shape}')\n",
    "    elif len(vit_features) > TARGET_LENGTH:\n",
    "        vit_features = vit_features[:TARGET_LENGTH, :]\n",
    "\n",
    "    # audio_features to 250 length\n",
    "    if len(audio_features) < TARGET_LENGTH:\n",
    "        padding = torch.zeros(TARGET_LENGTH - len(audio_features), audio_features.shape[1], device=audio_features.device)\n",
    "        audio_features = torch.cat([audio_features, padding], dim=0)\n",
    "        logging.warn(f'check2: padded audio_features to {audio_features.shape}')\n",
    "    elif len(audio_features) > TARGET_LENGTH:\n",
    "        audio_features = audio_features[:TARGET_LENGTH, :]\n",
    "\n",
    "\n",
    "    concated_feature = torch.cat((vit_features, audio_features), dim=1)\n",
    "    features_concatenate_list_val.append(concated_feature)"
   ]
  },
  {
   "cell_type": "code",
   "execution_count": 26,
   "metadata": {
    "scrolled": true
   },
   "outputs": [
    {
     "data": {
      "application/vnd.jupyter.widget-view+json": {
       "model_id": "31d8275d0259453ba17d4e229afdb1f7",
       "version_major": 2,
       "version_minor": 0
      },
      "text/plain": [
       "Processing:   0%|          | 0/140 [00:00<?, ?it/s]"
      ]
     },
     "metadata": {},
     "output_type": "display_data"
    },
    {
     "name": "stderr",
     "output_type": "stream",
     "text": [
      "/tmp/ipykernel_8758/2509942390.py:23: DeprecationWarning: The 'warn' function is deprecated, use 'warning' instead\n",
      "  logging.warn(f'{concat.shape}, {label.shape}')\n",
      "WARNING:root:torch.Size([250, 2768]), torch.Size([250])\n",
      "WARNING:root:torch.Size([250, 2768]), torch.Size([250])\n",
      "WARNING:root:torch.Size([250, 2768]), torch.Size([250])\n",
      "WARNING:root:torch.Size([250, 2768]), torch.Size([250])\n",
      "WARNING:root:torch.Size([250, 2768]), torch.Size([250])\n",
      "WARNING:root:torch.Size([250, 2768]), torch.Size([250])\n",
      "WARNING:root:torch.Size([250, 2768]), torch.Size([250])\n",
      "WARNING:root:torch.Size([250, 2768]), torch.Size([250])\n",
      "WARNING:root:torch.Size([250, 2768]), torch.Size([250])\n",
      "WARNING:root:torch.Size([250, 2768]), torch.Size([250])\n",
      "WARNING:root:torch.Size([250, 2768]), torch.Size([250])\n",
      "WARNING:root:torch.Size([250, 2768]), torch.Size([250])\n",
      "WARNING:root:torch.Size([250, 2768]), torch.Size([250])\n",
      "WARNING:root:torch.Size([250, 2768]), torch.Size([250])\n",
      "WARNING:root:torch.Size([250, 2768]), torch.Size([250])\n",
      "WARNING:root:torch.Size([250, 2768]), torch.Size([250])\n",
      "WARNING:root:torch.Size([250, 2768]), torch.Size([250])\n",
      "WARNING:root:torch.Size([250, 2768]), torch.Size([250])\n",
      "WARNING:root:torch.Size([250, 2768]), torch.Size([250])\n",
      "WARNING:root:torch.Size([250, 2768]), torch.Size([250])\n",
      "WARNING:root:torch.Size([250, 2768]), torch.Size([250])\n",
      "WARNING:root:torch.Size([250, 2768]), torch.Size([250])\n",
      "WARNING:root:torch.Size([250, 2768]), torch.Size([250])\n",
      "WARNING:root:torch.Size([250, 2768]), torch.Size([250])\n",
      "WARNING:root:torch.Size([250, 2768]), torch.Size([250])\n",
      "WARNING:root:torch.Size([250, 2768]), torch.Size([250])\n",
      "WARNING:root:torch.Size([250, 2768]), torch.Size([250])\n",
      "WARNING:root:torch.Size([250, 2768]), torch.Size([250])\n",
      "WARNING:root:torch.Size([250, 2768]), torch.Size([250])\n",
      "WARNING:root:torch.Size([250, 2768]), torch.Size([250])\n",
      "WARNING:root:torch.Size([250, 2768]), torch.Size([250])\n",
      "WARNING:root:torch.Size([250, 2768]), torch.Size([250])\n",
      "WARNING:root:torch.Size([250, 2768]), torch.Size([250])\n",
      "WARNING:root:torch.Size([250, 2768]), torch.Size([250])\n",
      "WARNING:root:torch.Size([250, 2768]), torch.Size([250])\n",
      "WARNING:root:torch.Size([250, 2768]), torch.Size([250])\n",
      "WARNING:root:torch.Size([250, 2768]), torch.Size([250])\n",
      "WARNING:root:torch.Size([250, 2768]), torch.Size([250])\n",
      "WARNING:root:torch.Size([250, 2768]), torch.Size([250])\n",
      "WARNING:root:torch.Size([250, 2768]), torch.Size([250])\n",
      "WARNING:root:torch.Size([250, 2768]), torch.Size([250])\n",
      "WARNING:root:torch.Size([250, 2768]), torch.Size([250])\n",
      "WARNING:root:torch.Size([250, 2768]), torch.Size([250])\n",
      "WARNING:root:torch.Size([250, 2768]), torch.Size([250])\n",
      "WARNING:root:torch.Size([250, 2768]), torch.Size([250])\n",
      "WARNING:root:torch.Size([250, 2768]), torch.Size([250])\n",
      "WARNING:root:torch.Size([250, 2768]), torch.Size([250])\n",
      "WARNING:root:torch.Size([250, 2768]), torch.Size([250])\n",
      "WARNING:root:torch.Size([250, 2768]), torch.Size([250])\n",
      "WARNING:root:torch.Size([250, 2768]), torch.Size([250])\n",
      "WARNING:root:torch.Size([250, 2768]), torch.Size([250])\n",
      "WARNING:root:torch.Size([250, 2768]), torch.Size([250])\n",
      "WARNING:root:torch.Size([250, 2768]), torch.Size([250])\n",
      "WARNING:root:torch.Size([250, 2768]), torch.Size([250])\n",
      "WARNING:root:torch.Size([250, 2768]), torch.Size([250])\n",
      "WARNING:root:torch.Size([250, 2768]), torch.Size([250])\n",
      "WARNING:root:torch.Size([250, 2768]), torch.Size([250])\n",
      "WARNING:root:torch.Size([250, 2768]), torch.Size([250])\n",
      "WARNING:root:torch.Size([250, 2768]), torch.Size([250])\n",
      "WARNING:root:torch.Size([250, 2768]), torch.Size([250])\n",
      "WARNING:root:torch.Size([250, 2768]), torch.Size([250])\n",
      "WARNING:root:torch.Size([250, 2768]), torch.Size([250])\n",
      "WARNING:root:torch.Size([250, 2768]), torch.Size([250])\n",
      "WARNING:root:torch.Size([250, 2768]), torch.Size([250])\n",
      "WARNING:root:torch.Size([250, 2768]), torch.Size([250])\n",
      "WARNING:root:torch.Size([250, 2768]), torch.Size([250])\n",
      "WARNING:root:torch.Size([250, 2768]), torch.Size([250])\n",
      "WARNING:root:torch.Size([250, 2768]), torch.Size([250])\n",
      "WARNING:root:torch.Size([250, 2768]), torch.Size([250])\n",
      "WARNING:root:torch.Size([250, 2768]), torch.Size([250])\n",
      "WARNING:root:torch.Size([250, 2768]), torch.Size([250])\n",
      "WARNING:root:torch.Size([250, 2768]), torch.Size([250])\n",
      "WARNING:root:torch.Size([250, 2768]), torch.Size([250])\n",
      "WARNING:root:torch.Size([250, 2768]), torch.Size([250])\n",
      "WARNING:root:torch.Size([250, 2768]), torch.Size([250])\n",
      "WARNING:root:torch.Size([250, 2768]), torch.Size([250])\n",
      "WARNING:root:torch.Size([250, 2768]), torch.Size([250])\n",
      "WARNING:root:torch.Size([250, 2768]), torch.Size([250])\n",
      "WARNING:root:torch.Size([250, 2768]), torch.Size([250])\n",
      "WARNING:root:torch.Size([250, 2768]), torch.Size([250])\n",
      "WARNING:root:torch.Size([250, 2768]), torch.Size([250])\n",
      "WARNING:root:torch.Size([250, 2768]), torch.Size([250])\n",
      "WARNING:root:torch.Size([250, 2768]), torch.Size([250])\n",
      "WARNING:root:torch.Size([250, 2768]), torch.Size([250])\n",
      "WARNING:root:torch.Size([250, 2768]), torch.Size([250])\n",
      "WARNING:root:torch.Size([250, 2768]), torch.Size([250])\n",
      "WARNING:root:torch.Size([250, 2768]), torch.Size([250])\n",
      "WARNING:root:torch.Size([250, 2768]), torch.Size([250])\n",
      "WARNING:root:torch.Size([250, 2768]), torch.Size([250])\n",
      "WARNING:root:torch.Size([250, 2768]), torch.Size([250])\n",
      "WARNING:root:torch.Size([250, 2768]), torch.Size([250])\n",
      "WARNING:root:torch.Size([250, 2768]), torch.Size([250])\n",
      "WARNING:root:torch.Size([250, 2768]), torch.Size([250])\n",
      "WARNING:root:torch.Size([250, 2768]), torch.Size([250])\n",
      "WARNING:root:torch.Size([250, 2768]), torch.Size([250])\n",
      "WARNING:root:torch.Size([250, 2768]), torch.Size([250])\n",
      "WARNING:root:torch.Size([250, 2768]), torch.Size([250])\n",
      "WARNING:root:torch.Size([250, 2768]), torch.Size([250])\n",
      "WARNING:root:torch.Size([250, 2768]), torch.Size([250])\n",
      "WARNING:root:torch.Size([250, 2768]), torch.Size([250])\n",
      "WARNING:root:torch.Size([250, 2768]), torch.Size([250])\n",
      "WARNING:root:torch.Size([250, 2768]), torch.Size([250])\n",
      "WARNING:root:torch.Size([250, 2768]), torch.Size([250])\n",
      "WARNING:root:torch.Size([250, 2768]), torch.Size([250])\n",
      "WARNING:root:torch.Size([250, 2768]), torch.Size([250])\n",
      "WARNING:root:torch.Size([250, 2768]), torch.Size([250])\n",
      "WARNING:root:torch.Size([250, 2768]), torch.Size([250])\n",
      "WARNING:root:torch.Size([250, 2768]), torch.Size([250])\n",
      "WARNING:root:torch.Size([250, 2768]), torch.Size([250])\n",
      "WARNING:root:torch.Size([250, 2768]), torch.Size([250])\n",
      "WARNING:root:torch.Size([250, 2768]), torch.Size([250])\n",
      "WARNING:root:torch.Size([250, 2768]), torch.Size([250])\n",
      "WARNING:root:torch.Size([250, 2768]), torch.Size([250])\n",
      "WARNING:root:torch.Size([250, 2768]), torch.Size([250])\n",
      "WARNING:root:torch.Size([250, 2768]), torch.Size([250])\n",
      "WARNING:root:torch.Size([250, 2768]), torch.Size([250])\n",
      "WARNING:root:torch.Size([250, 2768]), torch.Size([250])\n",
      "WARNING:root:torch.Size([250, 2768]), torch.Size([250])\n",
      "WARNING:root:torch.Size([250, 2768]), torch.Size([250])\n",
      "WARNING:root:torch.Size([250, 2768]), torch.Size([250])\n",
      "WARNING:root:torch.Size([250, 2768]), torch.Size([250])\n",
      "WARNING:root:torch.Size([250, 2768]), torch.Size([250])\n",
      "WARNING:root:torch.Size([250, 2768]), torch.Size([250])\n",
      "WARNING:root:torch.Size([250, 2768]), torch.Size([250])\n",
      "WARNING:root:torch.Size([250, 2768]), torch.Size([250])\n",
      "WARNING:root:torch.Size([250, 2768]), torch.Size([250])\n",
      "WARNING:root:torch.Size([250, 2768]), torch.Size([250])\n",
      "WARNING:root:torch.Size([250, 2768]), torch.Size([250])\n",
      "WARNING:root:torch.Size([250, 2768]), torch.Size([250])\n",
      "WARNING:root:torch.Size([250, 2768]), torch.Size([250])\n",
      "WARNING:root:torch.Size([250, 2768]), torch.Size([250])\n",
      "WARNING:root:torch.Size([250, 2768]), torch.Size([250])\n",
      "WARNING:root:torch.Size([250, 2768]), torch.Size([250])\n",
      "WARNING:root:torch.Size([250, 2768]), torch.Size([250])\n",
      "WARNING:root:torch.Size([250, 2768]), torch.Size([250])\n",
      "WARNING:root:torch.Size([250, 2768]), torch.Size([250])\n",
      "WARNING:root:torch.Size([250, 2768]), torch.Size([250])\n",
      "WARNING:root:torch.Size([250, 2768]), torch.Size([250])\n",
      "WARNING:root:torch.Size([250, 2768]), torch.Size([250])\n",
      "WARNING:root:torch.Size([250, 2768]), torch.Size([250])\n"
     ]
    }
   ],
   "source": [
    "from tqdm.notebook import tqdm\n",
    "import logging\n",
    "\n",
    "TARGET_LENGTH = 250\n",
    "\n",
    "new_features_concatenate_list_val = []\n",
    "new_labels_val = []\n",
    "\n",
    "for concat, label in tqdm(zip(features_concatenate_list_val, labels_val), total=len(labels_val), desc=\"Processing\"):\n",
    "    # concat의 길이를 250으로 조절\n",
    "    if concat.shape[0] < TARGET_LENGTH:\n",
    "        padding = torch.zeros((TARGET_LENGTH - concat.shape[0], concat.shape[1]), device=concat.device)\n",
    "        concat = torch.cat([concat, padding], dim=0)\n",
    "    # label을 250의 길이로 조절. label이 numpy 배열인 경우 텐서로 변환 후 조절\n",
    "    if isinstance(label, np.ndarray):\n",
    "        label = torch.from_numpy(label).to(concat.device)\n",
    "    if len(label) < TARGET_LENGTH:\n",
    "        padding = torch.zeros(TARGET_LENGTH - len(label), device=concat.device)\n",
    "        label = torch.cat([label, padding], dim=0)\n",
    "    \n",
    "    new_features_concatenate_list_val.append(concat)\n",
    "    new_labels_val.append(label)\n",
    "    logging.warn(f'{concat.shape}, {label.shape}')\n"
   ]
  },
  {
   "cell_type": "code",
   "execution_count": 27,
   "metadata": {},
   "outputs": [],
   "source": [
    "labels_val = np.stack([i.cpu() for i in new_labels_val])\n",
    "features_concatenate_list_val = new_features_concatenate_list_val"
   ]
  },
  {
   "cell_type": "code",
   "execution_count": 28,
   "metadata": {},
   "outputs": [
    {
     "data": {
      "text/plain": [
       "(140, 140)"
      ]
     },
     "execution_count": 28,
     "metadata": {},
     "output_type": "execute_result"
    }
   ],
   "source": [
    "len(labels_val), len(features_concatenate_list_val)"
   ]
  },
  {
   "cell_type": "markdown",
   "metadata": {},
   "source": [
    "# Test"
   ]
  },
  {
   "cell_type": "code",
   "execution_count": 29,
   "metadata": {},
   "outputs": [],
   "source": [
    "import torch\n",
    "\n",
    "TARGET_LENGTH = 250\n",
    "features_concatenate_list_test = []\n",
    "\n",
    "for vit_features, audio_features in zip(concatenate_vit_features_test, concatenate_audio_features_test):\n",
    "    audio_features = torch.tensor(audio_features, dtype=torch.float32)  # ← numpy → torch 변환\n",
    "    vit_features = vit_features.cuda()  # assume vit_features is already a tensor on GPU\n",
    "\n",
    "    # Adjust vit_features length\n",
    "    if len(vit_features) < TARGET_LENGTH:\n",
    "        padding = torch.zeros((TARGET_LENGTH - len(vit_features), vit_features.shape[1]), device=vit_features.device)\n",
    "        vit_features = torch.cat([vit_features, padding], dim=0)\n",
    "    elif len(vit_features) > TARGET_LENGTH:\n",
    "        vit_features = vit_features[:TARGET_LENGTH]\n",
    "\n",
    "    # Adjust audio_features length (on CPU)\n",
    "    if len(audio_features) < TARGET_LENGTH:\n",
    "        padding = torch.zeros((TARGET_LENGTH - len(audio_features), audio_features.shape[1]))  # ← 수정!\n",
    "        audio_features = torch.cat([audio_features, padding], dim=0)\n",
    "    elif len(audio_features) > TARGET_LENGTH:\n",
    "        audio_features = audio_features[:TARGET_LENGTH]\n",
    "\n",
    "    # Concat: move audio to same device as vit_features\n",
    "    concated_feature = torch.cat((vit_features, audio_features.to(vit_features.device)), dim=1)\n",
    "    features_concatenate_list_test.append(concated_feature)\n"
   ]
  },
  {
   "cell_type": "code",
   "execution_count": 30,
   "metadata": {
    "scrolled": true
   },
   "outputs": [
    {
     "data": {
      "application/vnd.jupyter.widget-view+json": {
       "model_id": "6c43f288041d4f0f8dedf561c2cd2b4d",
       "version_major": 2,
       "version_minor": 0
      },
      "text/plain": [
       "Processing:   0%|          | 0/163 [00:00<?, ?it/s]"
      ]
     },
     "metadata": {},
     "output_type": "display_data"
    },
    {
     "name": "stderr",
     "output_type": "stream",
     "text": [
      "/tmp/ipykernel_8758/51723338.py:23: DeprecationWarning: The 'warn' function is deprecated, use 'warning' instead\n",
      "  logging.warn(f'{concat.shape}, {label.shape}')\n",
      "WARNING:root:torch.Size([250, 2768]), torch.Size([250])\n",
      "WARNING:root:torch.Size([250, 2768]), torch.Size([250])\n",
      "WARNING:root:torch.Size([250, 2768]), torch.Size([250])\n",
      "WARNING:root:torch.Size([250, 2768]), torch.Size([250])\n",
      "WARNING:root:torch.Size([250, 2768]), torch.Size([250])\n",
      "WARNING:root:torch.Size([250, 2768]), torch.Size([250])\n",
      "WARNING:root:torch.Size([250, 2768]), torch.Size([250])\n",
      "WARNING:root:torch.Size([250, 2768]), torch.Size([250])\n",
      "WARNING:root:torch.Size([250, 2768]), torch.Size([250])\n",
      "WARNING:root:torch.Size([250, 2768]), torch.Size([250])\n",
      "WARNING:root:torch.Size([250, 2768]), torch.Size([250])\n",
      "WARNING:root:torch.Size([250, 2768]), torch.Size([250])\n",
      "WARNING:root:torch.Size([250, 2768]), torch.Size([250])\n",
      "WARNING:root:torch.Size([250, 2768]), torch.Size([250])\n",
      "WARNING:root:torch.Size([250, 2768]), torch.Size([250])\n",
      "WARNING:root:torch.Size([250, 2768]), torch.Size([250])\n",
      "WARNING:root:torch.Size([250, 2768]), torch.Size([250])\n",
      "WARNING:root:torch.Size([250, 2768]), torch.Size([250])\n",
      "WARNING:root:torch.Size([250, 2768]), torch.Size([250])\n",
      "WARNING:root:torch.Size([250, 2768]), torch.Size([250])\n",
      "WARNING:root:torch.Size([250, 2768]), torch.Size([250])\n",
      "WARNING:root:torch.Size([250, 2768]), torch.Size([250])\n",
      "WARNING:root:torch.Size([250, 2768]), torch.Size([250])\n",
      "WARNING:root:torch.Size([250, 2768]), torch.Size([250])\n",
      "WARNING:root:torch.Size([250, 2768]), torch.Size([250])\n",
      "WARNING:root:torch.Size([250, 2768]), torch.Size([250])\n",
      "WARNING:root:torch.Size([250, 2768]), torch.Size([250])\n",
      "WARNING:root:torch.Size([250, 2768]), torch.Size([250])\n",
      "WARNING:root:torch.Size([250, 2768]), torch.Size([250])\n",
      "WARNING:root:torch.Size([250, 2768]), torch.Size([250])\n",
      "WARNING:root:torch.Size([250, 2768]), torch.Size([250])\n",
      "WARNING:root:torch.Size([250, 2768]), torch.Size([250])\n",
      "WARNING:root:torch.Size([250, 2768]), torch.Size([250])\n",
      "WARNING:root:torch.Size([250, 2768]), torch.Size([250])\n",
      "WARNING:root:torch.Size([250, 2768]), torch.Size([250])\n",
      "WARNING:root:torch.Size([250, 2768]), torch.Size([250])\n",
      "WARNING:root:torch.Size([250, 2768]), torch.Size([250])\n",
      "WARNING:root:torch.Size([250, 2768]), torch.Size([250])\n",
      "WARNING:root:torch.Size([250, 2768]), torch.Size([250])\n",
      "WARNING:root:torch.Size([250, 2768]), torch.Size([250])\n",
      "WARNING:root:torch.Size([250, 2768]), torch.Size([250])\n",
      "WARNING:root:torch.Size([250, 2768]), torch.Size([250])\n",
      "WARNING:root:torch.Size([250, 2768]), torch.Size([250])\n",
      "WARNING:root:torch.Size([250, 2768]), torch.Size([250])\n",
      "WARNING:root:torch.Size([250, 2768]), torch.Size([250])\n",
      "WARNING:root:torch.Size([250, 2768]), torch.Size([250])\n",
      "WARNING:root:torch.Size([250, 2768]), torch.Size([250])\n",
      "WARNING:root:torch.Size([250, 2768]), torch.Size([250])\n",
      "WARNING:root:torch.Size([250, 2768]), torch.Size([250])\n",
      "WARNING:root:torch.Size([250, 2768]), torch.Size([250])\n",
      "WARNING:root:torch.Size([250, 2768]), torch.Size([250])\n",
      "WARNING:root:torch.Size([250, 2768]), torch.Size([250])\n",
      "WARNING:root:torch.Size([250, 2768]), torch.Size([250])\n",
      "WARNING:root:torch.Size([250, 2768]), torch.Size([250])\n",
      "WARNING:root:torch.Size([250, 2768]), torch.Size([250])\n",
      "WARNING:root:torch.Size([250, 2768]), torch.Size([250])\n",
      "WARNING:root:torch.Size([250, 2768]), torch.Size([250])\n",
      "WARNING:root:torch.Size([250, 2768]), torch.Size([250])\n",
      "WARNING:root:torch.Size([250, 2768]), torch.Size([250])\n",
      "WARNING:root:torch.Size([250, 2768]), torch.Size([250])\n",
      "WARNING:root:torch.Size([250, 2768]), torch.Size([250])\n",
      "WARNING:root:torch.Size([250, 2768]), torch.Size([250])\n",
      "WARNING:root:torch.Size([250, 2768]), torch.Size([250])\n",
      "WARNING:root:torch.Size([250, 2768]), torch.Size([250])\n",
      "WARNING:root:torch.Size([250, 2768]), torch.Size([250])\n",
      "WARNING:root:torch.Size([250, 2768]), torch.Size([250])\n",
      "WARNING:root:torch.Size([250, 2768]), torch.Size([250])\n",
      "WARNING:root:torch.Size([250, 2768]), torch.Size([250])\n",
      "WARNING:root:torch.Size([250, 2768]), torch.Size([250])\n",
      "WARNING:root:torch.Size([250, 2768]), torch.Size([250])\n",
      "WARNING:root:torch.Size([250, 2768]), torch.Size([250])\n",
      "WARNING:root:torch.Size([250, 2768]), torch.Size([250])\n",
      "WARNING:root:torch.Size([250, 2768]), torch.Size([250])\n",
      "WARNING:root:torch.Size([250, 2768]), torch.Size([250])\n",
      "WARNING:root:torch.Size([250, 2768]), torch.Size([250])\n",
      "WARNING:root:torch.Size([250, 2768]), torch.Size([250])\n",
      "WARNING:root:torch.Size([250, 2768]), torch.Size([250])\n",
      "WARNING:root:torch.Size([250, 2768]), torch.Size([250])\n",
      "WARNING:root:torch.Size([250, 2768]), torch.Size([250])\n",
      "WARNING:root:torch.Size([250, 2768]), torch.Size([250])\n",
      "WARNING:root:torch.Size([250, 2768]), torch.Size([250])\n",
      "WARNING:root:torch.Size([250, 2768]), torch.Size([250])\n",
      "WARNING:root:torch.Size([250, 2768]), torch.Size([250])\n",
      "WARNING:root:torch.Size([250, 2768]), torch.Size([250])\n",
      "WARNING:root:torch.Size([250, 2768]), torch.Size([250])\n",
      "WARNING:root:torch.Size([250, 2768]), torch.Size([250])\n",
      "WARNING:root:torch.Size([250, 2768]), torch.Size([250])\n",
      "WARNING:root:torch.Size([250, 2768]), torch.Size([250])\n",
      "WARNING:root:torch.Size([250, 2768]), torch.Size([250])\n",
      "WARNING:root:torch.Size([250, 2768]), torch.Size([250])\n",
      "WARNING:root:torch.Size([250, 2768]), torch.Size([250])\n",
      "WARNING:root:torch.Size([250, 2768]), torch.Size([250])\n",
      "WARNING:root:torch.Size([250, 2768]), torch.Size([250])\n",
      "WARNING:root:torch.Size([250, 2768]), torch.Size([250])\n",
      "WARNING:root:torch.Size([250, 2768]), torch.Size([250])\n",
      "WARNING:root:torch.Size([250, 2768]), torch.Size([250])\n",
      "WARNING:root:torch.Size([250, 2768]), torch.Size([250])\n",
      "WARNING:root:torch.Size([250, 2768]), torch.Size([250])\n",
      "WARNING:root:torch.Size([250, 2768]), torch.Size([250])\n",
      "WARNING:root:torch.Size([250, 2768]), torch.Size([250])\n",
      "WARNING:root:torch.Size([250, 2768]), torch.Size([250])\n",
      "WARNING:root:torch.Size([250, 2768]), torch.Size([250])\n",
      "WARNING:root:torch.Size([250, 2768]), torch.Size([250])\n",
      "WARNING:root:torch.Size([250, 2768]), torch.Size([250])\n",
      "WARNING:root:torch.Size([250, 2768]), torch.Size([250])\n",
      "WARNING:root:torch.Size([250, 2768]), torch.Size([250])\n",
      "WARNING:root:torch.Size([250, 2768]), torch.Size([250])\n",
      "WARNING:root:torch.Size([250, 2768]), torch.Size([250])\n",
      "WARNING:root:torch.Size([250, 2768]), torch.Size([250])\n",
      "WARNING:root:torch.Size([250, 2768]), torch.Size([250])\n",
      "WARNING:root:torch.Size([250, 2768]), torch.Size([250])\n",
      "WARNING:root:torch.Size([250, 2768]), torch.Size([250])\n",
      "WARNING:root:torch.Size([250, 2768]), torch.Size([250])\n",
      "WARNING:root:torch.Size([250, 2768]), torch.Size([250])\n",
      "WARNING:root:torch.Size([250, 2768]), torch.Size([250])\n",
      "WARNING:root:torch.Size([250, 2768]), torch.Size([250])\n",
      "WARNING:root:torch.Size([250, 2768]), torch.Size([250])\n",
      "WARNING:root:torch.Size([250, 2768]), torch.Size([250])\n",
      "WARNING:root:torch.Size([250, 2768]), torch.Size([250])\n",
      "WARNING:root:torch.Size([250, 2768]), torch.Size([250])\n",
      "WARNING:root:torch.Size([250, 2768]), torch.Size([250])\n",
      "WARNING:root:torch.Size([250, 2768]), torch.Size([250])\n",
      "WARNING:root:torch.Size([250, 2768]), torch.Size([250])\n",
      "WARNING:root:torch.Size([250, 2768]), torch.Size([250])\n",
      "WARNING:root:torch.Size([250, 2768]), torch.Size([250])\n",
      "WARNING:root:torch.Size([250, 2768]), torch.Size([250])\n",
      "WARNING:root:torch.Size([250, 2768]), torch.Size([250])\n",
      "WARNING:root:torch.Size([250, 2768]), torch.Size([250])\n",
      "WARNING:root:torch.Size([250, 2768]), torch.Size([250])\n",
      "WARNING:root:torch.Size([250, 2768]), torch.Size([250])\n",
      "WARNING:root:torch.Size([250, 2768]), torch.Size([250])\n",
      "WARNING:root:torch.Size([250, 2768]), torch.Size([250])\n",
      "WARNING:root:torch.Size([250, 2768]), torch.Size([250])\n",
      "WARNING:root:torch.Size([250, 2768]), torch.Size([250])\n",
      "WARNING:root:torch.Size([250, 2768]), torch.Size([250])\n",
      "WARNING:root:torch.Size([250, 2768]), torch.Size([250])\n",
      "WARNING:root:torch.Size([250, 2768]), torch.Size([250])\n",
      "WARNING:root:torch.Size([250, 2768]), torch.Size([250])\n",
      "WARNING:root:torch.Size([250, 2768]), torch.Size([250])\n",
      "WARNING:root:torch.Size([250, 2768]), torch.Size([250])\n",
      "WARNING:root:torch.Size([250, 2768]), torch.Size([250])\n",
      "WARNING:root:torch.Size([250, 2768]), torch.Size([250])\n",
      "WARNING:root:torch.Size([250, 2768]), torch.Size([250])\n",
      "WARNING:root:torch.Size([250, 2768]), torch.Size([250])\n",
      "WARNING:root:torch.Size([250, 2768]), torch.Size([250])\n",
      "WARNING:root:torch.Size([250, 2768]), torch.Size([250])\n",
      "WARNING:root:torch.Size([250, 2768]), torch.Size([250])\n",
      "WARNING:root:torch.Size([250, 2768]), torch.Size([250])\n",
      "WARNING:root:torch.Size([250, 2768]), torch.Size([250])\n",
      "WARNING:root:torch.Size([250, 2768]), torch.Size([250])\n",
      "WARNING:root:torch.Size([250, 2768]), torch.Size([250])\n",
      "WARNING:root:torch.Size([250, 2768]), torch.Size([250])\n",
      "WARNING:root:torch.Size([250, 2768]), torch.Size([250])\n",
      "WARNING:root:torch.Size([250, 2768]), torch.Size([250])\n",
      "WARNING:root:torch.Size([250, 2768]), torch.Size([250])\n",
      "WARNING:root:torch.Size([250, 2768]), torch.Size([250])\n",
      "WARNING:root:torch.Size([250, 2768]), torch.Size([250])\n",
      "WARNING:root:torch.Size([250, 2768]), torch.Size([250])\n",
      "WARNING:root:torch.Size([250, 2768]), torch.Size([250])\n",
      "WARNING:root:torch.Size([250, 2768]), torch.Size([250])\n",
      "WARNING:root:torch.Size([250, 2768]), torch.Size([250])\n",
      "WARNING:root:torch.Size([250, 2768]), torch.Size([250])\n",
      "WARNING:root:torch.Size([250, 2768]), torch.Size([250])\n"
     ]
    }
   ],
   "source": [
    "from tqdm.notebook import tqdm\n",
    "import logging\n",
    "\n",
    "TARGET_LENGTH = 250\n",
    "\n",
    "new_features_concatenate_list_test = []\n",
    "new_labels_test = []\n",
    "\n",
    "for concat, label in tqdm(zip(features_concatenate_list_test, labels_test), total=len(labels_test), desc=\"Processing\"):\n",
    "    # concat의 길이를 250으로 조절\n",
    "    if concat.shape[0] < TARGET_LENGTH:\n",
    "        padding = torch.zeros((TARGET_LENGTH - concat.shape[0], concat.shape[1]), device=concat.device)\n",
    "        concat = torch.cat([concat, padding], dim=0)\n",
    "    # label을 250의 길이로 조절. label이 numpy 배열인 경우 텐서로 변환 후 조절\n",
    "    if isinstance(label, np.ndarray):\n",
    "        label = torch.from_numpy(label).to(concat.device)\n",
    "    if len(label) < TARGET_LENGTH:\n",
    "        padding = torch.zeros(TARGET_LENGTH - len(label), device=concat.device)\n",
    "        label = torch.cat([label, padding], dim=0)\n",
    "    \n",
    "    new_features_concatenate_list_test.append(concat)\n",
    "    new_labels_test.append(label)\n",
    "    logging.warn(f'{concat.shape}, {label.shape}')\n"
   ]
  },
  {
   "cell_type": "code",
   "execution_count": 31,
   "metadata": {},
   "outputs": [
    {
     "name": "stderr",
     "output_type": "stream",
     "text": [
      "/tmp/ipykernel_8758/4232332093.py:2: FutureWarning: The input object of type 'Tensor' is an array-like implementing one of the corresponding protocols (`__array__`, `__array_interface__` or `__array_struct__`); but not a sequence (or 0-D). In the future, this object will be coerced as if it was first converted using `np.array(obj)`. To retain the old behaviour, you have to either modify the type 'Tensor', or assign to an empty array created with `np.empty(correct_shape, dtype=object)`.\n",
      "  labels_test = np.array( [i.cpu() for i in new_labels_test],dtype=object)\n"
     ]
    }
   ],
   "source": [
    "features_concatenate_list_test = new_features_concatenate_list_test\n",
    "labels_test = np.array( [i.cpu() for i in new_labels_test],dtype=object)"
   ]
  },
  {
   "cell_type": "code",
   "execution_count": 32,
   "metadata": {},
   "outputs": [
    {
     "data": {
      "text/plain": [
       "(163, 163)"
      ]
     },
     "execution_count": 32,
     "metadata": {},
     "output_type": "execute_result"
    }
   ],
   "source": [
    "len(labels_test), len(features_concatenate_list_test)"
   ]
  },
  {
   "cell_type": "code",
   "execution_count": null,
   "metadata": {},
   "outputs": [],
   "source": []
  },
  {
   "cell_type": "code",
   "execution_count": null,
   "metadata": {},
   "outputs": [],
   "source": []
  },
  {
   "cell_type": "code",
   "execution_count": null,
   "metadata": {},
   "outputs": [],
   "source": []
  },
  {
   "cell_type": "markdown",
   "metadata": {},
   "source": [
    "# Undersampling"
   ]
  },
  {
   "cell_type": "code",
   "execution_count": 33,
   "metadata": {},
   "outputs": [
    {
     "data": {
      "text/plain": [
       "(71029, 29221)"
      ]
     },
     "execution_count": 33,
     "metadata": {},
     "output_type": "execute_result"
    }
   ],
   "source": [
    "label_dict = {}\n",
    "idx = 0\n",
    "\n",
    "# Iterate through each label list in labels_train\n",
    "for i in range(len(labels_train)):\n",
    "    # Check if new_labels[i] is scalar\n",
    "    if np.ndim(labels_train[i]) == 0:\n",
    "        print(f\"new_labels[{i}] is a scalar with value: {labels_train[i]}. Skipping...\")\n",
    "        continue\n",
    "\n",
    "    # Iterate through each label in the i-th list of labels_train\n",
    "    for j in range(len(labels_train[i])):\n",
    "        # Check if j is a valid index for new_labels[i]\n",
    "        if j >= len(labels_train[i]):\n",
    "            print(f\"Skipping index {j} in sublist {i} because it's out of bounds.\")\n",
    "            continue\n",
    "        \n",
    "        # Fetch the label from new_labels\n",
    "        label = labels_train[i][j]\n",
    "        \n",
    "        # If the label is not already a key in label_dict, initialize its value as an empty list\n",
    "        if label.item() not in label_dict:         \n",
    "            label_dict[label.item()] = []\n",
    "        \n",
    "        # Append the global index (idx) to the list corresponding to the label\n",
    "        label_dict[label.item()].append(idx)\n",
    "        idx += 1\n",
    "len(label_dict[0]), len(label_dict[1])"
   ]
  },
  {
   "cell_type": "code",
   "execution_count": 34,
   "metadata": {},
   "outputs": [],
   "source": [
    "### Undersampling\n",
    "\n",
    "import random\n",
    "random.seed(42)\n",
    "\n",
    "undersampled_idxs = []\n",
    "for label in label_dict:\n",
    "    # 언더샘플링할 데이터 개수를 결정합니다. (예: 100개)\n",
    "    num_samples = 29221\n",
    "    if len(label_dict[label]) <= num_samples:# 1\n",
    "        # 해당 레이블의 데이터가 num_samples 이하라면 모두 선택합니다.\n",
    "        undersampled_idxs += label_dict[label]\n",
    "    else: # 0\n",
    "        # 해당 레이블의 데이터가 num_samples 보다 많으면 무작위로 num_samples개를 선택합니다.\n",
    "        undersampled_idxs += random.sample(label_dict[label], num_samples)\n",
    "\n",
    "undersampled_idxs.sort() #인덱스 순 정렬"
   ]
  },
  {
   "cell_type": "code",
   "execution_count": 35,
   "metadata": {},
   "outputs": [
    {
     "data": {
      "application/vnd.jupyter.widget-view+json": {
       "model_id": "05eda1f27efb4169a32924552b96b845",
       "version_major": 2,
       "version_minor": 0
      },
      "text/plain": [
       "Processing:   0%|          | 0/401 [00:00<?, ?it/s]"
      ]
     },
     "metadata": {},
     "output_type": "display_data"
    }
   ],
   "source": [
    "from tqdm.notebook import tqdm_notebook\n",
    "#### Undersampling\n",
    "under_features_concatenate_list = []\n",
    "under_labels = []\n",
    "idx = 0\n",
    "for concat, label in tqdm_notebook(zip(new_features_concatenate_list, new_labels), total=len(new_labels), desc=\"Processing\"):\n",
    "    temp_features = []\n",
    "    temp_labels = []\n",
    "    for i in range(len(concat)): # 250,250,202,...\n",
    "        if idx in undersampled_idxs:\n",
    "            temp_features.append(concat[i,:])\n",
    "            temp_labels.append(label[i])\n",
    "        idx += 1\n",
    "\n",
    "    # Only stack non-empty lists\n",
    "    if temp_features:\n",
    "        under_features_concatenate_list.append(torch.stack(temp_features))\n",
    "    if temp_labels:\n",
    "        under_labels.append(torch.tensor(temp_labels))\n"
   ]
  },
  {
   "cell_type": "code",
   "execution_count": 36,
   "metadata": {},
   "outputs": [
    {
     "name": "stdout",
     "output_type": "stream",
     "text": [
      "401 torch.Size([198, 2768])\n",
      "401 torch.Size([198])\n"
     ]
    }
   ],
   "source": [
    "print(len(under_features_concatenate_list),under_features_concatenate_list[0].shape)\n",
    "print(len(under_labels),under_labels[0].shape)"
   ]
  },
  {
   "cell_type": "code",
   "execution_count": 37,
   "metadata": {},
   "outputs": [
    {
     "data": {
      "text/plain": [
       "(29221, 29221)"
      ]
     },
     "execution_count": 37,
     "metadata": {},
     "output_type": "execute_result"
    }
   ],
   "source": [
    "label_dict = {}\n",
    "idx = 0\n",
    "\n",
    "# Iterate through each label list in labels_train\n",
    "for i in range(len(under_labels)):\n",
    "    # Check if new_labels[i] is scalar\n",
    "    if np.ndim(under_labels[i]) == 0:\n",
    "        print(f\"new_labels[{i}] is a scalar with value: {under_labels[i]}. Skipping...\")\n",
    "        continue\n",
    "\n",
    "    # Iterate through each label in the i-th list of labels_train\n",
    "    for j in range(len(under_labels[i])):\n",
    "        # Check if j is a valid index for new_labels[i]\n",
    "        if j >= len(under_labels[i]):\n",
    "            print(f\"Skipping index {j} in sublist {i} because it's out of bounds.\")\n",
    "            continue\n",
    "        \n",
    "        # Fetch the label from new_labels\n",
    "        label = under_labels[i][j].item()\n",
    "        \n",
    "        # If the label is not already a key in label_dict, initialize its value as an empty list\n",
    "        if label not in label_dict:\n",
    "            label_dict[label] = []\n",
    "        \n",
    "        # Append the global index (idx) to the list corresponding to the label\n",
    "        label_dict[label].append(idx)\n",
    "        idx += 1\n",
    "        \n",
    "len(label_dict[0]), len(label_dict[1])"
   ]
  },
  {
   "cell_type": "markdown",
   "metadata": {},
   "source": [
    "# Validation data undersampling"
   ]
  },
  {
   "cell_type": "code",
   "execution_count": 38,
   "metadata": {},
   "outputs": [
    {
     "data": {
      "text/plain": [
       "(26525, 8475)"
      ]
     },
     "execution_count": 38,
     "metadata": {},
     "output_type": "execute_result"
    }
   ],
   "source": [
    "label_dict = {}\n",
    "idx = 0\n",
    "\n",
    "# Iterate through each label list in labels_train\n",
    "for i in range(len(labels_val)):\n",
    "    # Check if new_labels[i] is scalar\n",
    "    if np.ndim(new_labels[i]) == 0:\n",
    "        print(f\"new_labels[{i}] is a scalar with value: {labels_val[i]}. Skipping...\")\n",
    "        continue\n",
    "\n",
    "    # Iterate through each label in the i-th list of labels_train\n",
    "    for j in range(len(labels_val[i])):\n",
    "        # Check if j is a valid index for new_labels[i]\n",
    "        if j >= len(labels_val[i]):\n",
    "            print(f\"Skipping index {j} in sublist {i} because it's out of bounds.\")\n",
    "            continue\n",
    "        \n",
    "        # Fetch the label from new_labels\n",
    "        label = labels_val[i][j]\n",
    "        \n",
    "        # If the label is not already a key in label_dict, initialize its value as an empty list\n",
    "        if label not in label_dict:\n",
    "            label_dict[label] = []\n",
    "        \n",
    "        # Append the global index (idx) to the list corresponding to the label\n",
    "        label_dict[label].append(idx)\n",
    "        idx += 1\n",
    "len(label_dict[0]), len(label_dict[1])"
   ]
  },
  {
   "cell_type": "code",
   "execution_count": 39,
   "metadata": {},
   "outputs": [],
   "source": [
    "### Undersampling\n",
    "\n",
    "import random\n",
    "random.seed(42)\n",
    "\n",
    "undersampled_idxs_val = []\n",
    "for label in label_dict:\n",
    "    num_samples = 8475\n",
    "    if len(label_dict[label]) <= num_samples:# 1\n",
    "        # 해당 레이블의 데이터가 num_samples 이하라면 모두 선택합니다.\n",
    "        undersampled_idxs_val += label_dict[label]\n",
    "    else: # 0\n",
    "        # 해당 레이블의 데이터가 num_samples 보다 많으면 무작위로 num_samples개를 선택합니다.\n",
    "        undersampled_idxs_val += random.sample(label_dict[label], num_samples)\n",
    "\n",
    "undersampled_idxs_val.sort() #인덱스 순 정렬"
   ]
  },
  {
   "cell_type": "code",
   "execution_count": 40,
   "metadata": {},
   "outputs": [
    {
     "data": {
      "application/vnd.jupyter.widget-view+json": {
       "model_id": "a6066fdcc9a343e39805fa9448b27b12",
       "version_major": 2,
       "version_minor": 0
      },
      "text/plain": [
       "Processing:   0%|          | 0/140 [00:00<?, ?it/s]"
      ]
     },
     "metadata": {},
     "output_type": "display_data"
    }
   ],
   "source": [
    "from tqdm.notebook import tqdm_notebook\n",
    "#### Undersampling\n",
    "under_features_concatenate_list_val = []\n",
    "under_labels_val = []\n",
    "idx = 0\n",
    "for concat, label in tqdm_notebook(zip(new_features_concatenate_list_val, new_labels_val), total=len(new_labels_val), desc=\"Processing\"):\n",
    "    temp_features = []\n",
    "    temp_labels = []\n",
    "    for i in range(len(concat)): # 250,250,202,...\n",
    "        if idx in undersampled_idxs_val:\n",
    "            temp_features.append(concat[i,:])\n",
    "            temp_labels.append(label[i])\n",
    "        idx += 1\n",
    "\n",
    "    # Only stack non-empty lists\n",
    "    if temp_features:\n",
    "        under_features_concatenate_list_val.append(torch.stack(temp_features))\n",
    "    if temp_labels:\n",
    "        under_labels_val.append(torch.tensor(temp_labels))\n"
   ]
  },
  {
   "cell_type": "code",
   "execution_count": 41,
   "metadata": {},
   "outputs": [
    {
     "name": "stdout",
     "output_type": "stream",
     "text": [
      "140 torch.Size([95, 2768])\n",
      "140 torch.Size([95])\n"
     ]
    }
   ],
   "source": [
    "print(len(under_features_concatenate_list_val),under_features_concatenate_list_val[0].shape)\n",
    "print(len(under_labels_val),under_labels_val[0].shape)"
   ]
  },
  {
   "cell_type": "code",
   "execution_count": 42,
   "metadata": {
    "scrolled": true
   },
   "outputs": [
    {
     "data": {
      "text/plain": [
       "(8475, 8475)"
      ]
     },
     "execution_count": 42,
     "metadata": {},
     "output_type": "execute_result"
    }
   ],
   "source": [
    "label_dict = {}\n",
    "idx = 0\n",
    "\n",
    "# Iterate through each label list in labels_train\n",
    "for i in range(len(under_labels_val)):\n",
    "    # Check if new_labels[i] is scalar\n",
    "    if np.ndim(under_labels_val[i]) == 0:\n",
    "        print(f\"new_labels[{i}] is a scalar with value: {under_labels_val[i]}. Skipping...\")\n",
    "        continue\n",
    "\n",
    "    # Iterate through each label in the i-th list of labels_train\n",
    "    for j in range(len(under_labels_val[i])):\n",
    "        # Check if junder_labels_valis a valid index for new_labels[i]\n",
    "        if j >= len(under_labels_val[i]):\n",
    "            print(f\"Skipping index {j} in sublist {i} because it's out of bounds.\")\n",
    "            continue\n",
    "        \n",
    "        # Fetch the label from new_labels\n",
    "        label = under_labels_val[i][j].item()\n",
    "        \n",
    "        # If the label is not already a key in label_dict, initialize its value as an empty list\n",
    "        if label not in label_dict:\n",
    "            label_dict[label] = []\n",
    "        \n",
    "        # Append the global index (idx) to the list corresponding to the label\n",
    "        label_dict[label].append(idx)\n",
    "        idx += 1\n",
    "        \n",
    "len(label_dict[0]), len(label_dict[1])"
   ]
  },
  {
   "cell_type": "code",
   "execution_count": null,
   "metadata": {},
   "outputs": [],
   "source": []
  },
  {
   "cell_type": "code",
   "execution_count": null,
   "metadata": {},
   "outputs": [],
   "source": []
  },
  {
   "cell_type": "code",
   "execution_count": null,
   "metadata": {},
   "outputs": [],
   "source": []
  },
  {
   "cell_type": "code",
   "execution_count": null,
   "metadata": {},
   "outputs": [],
   "source": []
  },
  {
   "cell_type": "code",
   "execution_count": null,
   "metadata": {},
   "outputs": [],
   "source": []
  },
  {
   "cell_type": "code",
   "execution_count": null,
   "metadata": {},
   "outputs": [],
   "source": []
  },
  {
   "cell_type": "code",
   "execution_count": null,
   "metadata": {},
   "outputs": [],
   "source": []
  },
  {
   "cell_type": "code",
   "execution_count": null,
   "metadata": {},
   "outputs": [],
   "source": []
  },
  {
   "cell_type": "code",
   "execution_count": null,
   "metadata": {},
   "outputs": [],
   "source": []
  },
  {
   "cell_type": "markdown",
   "metadata": {},
   "source": [
    "# Dataset, DataLoader"
   ]
  },
  {
   "cell_type": "code",
   "execution_count": 43,
   "metadata": {},
   "outputs": [],
   "source": [
    "from torch.utils.data import DataLoader, Dataset\n",
    "from sklearn.model_selection import train_test_split"
   ]
  },
  {
   "cell_type": "code",
   "execution_count": 79,
   "metadata": {},
   "outputs": [],
   "source": [
    "class MyDataset(Dataset):\n",
    "    def __init__(self, data, labels):\n",
    "        self.data = data\n",
    "        self.labels = labels\n",
    "        \n",
    "    def __len__(self):\n",
    "        return len(self.data)\n",
    "        \n",
    "    def __getitem__(self, idx):\n",
    "        return self.data[idx], torch.tensor(self.labels[idx])"
   ]
  },
  {
   "cell_type": "code",
   "execution_count": 80,
   "metadata": {},
   "outputs": [],
   "source": [
    "# Create an instance of dataset\n",
    "md_train = MyDataset(under_features_concatenate_list,under_labels)\n",
    "train_dataloader = DataLoader(md_train)"
   ]
  },
  {
   "cell_type": "code",
   "execution_count": 81,
   "metadata": {},
   "outputs": [],
   "source": [
    "md_val = MyDataset(under_features_concatenate_list_val,under_labels_val)\n",
    "val_dataloader = DataLoader(md_val)"
   ]
  },
  {
   "cell_type": "code",
   "execution_count": 82,
   "metadata": {},
   "outputs": [],
   "source": [
    "md_test = MyDataset(features_concatenate_list_test,labels_test)\n",
    "test_dataloader = DataLoader(md_test)"
   ]
  },
  {
   "cell_type": "code",
   "execution_count": 83,
   "metadata": {},
   "outputs": [],
   "source": [
    "import torch\n",
    "from torch.utils.data import DataLoader, ConcatDataset, random_split\n",
    "\n",
    "train_dataloader = DataLoader(md_train, batch_size=1, shuffle=True)\n",
    "val_dataloader   = DataLoader(md_val, batch_size=1)\n",
    "test_dataloader  = DataLoader(md_test, batch_size=1)\n"
   ]
  },
  {
   "cell_type": "markdown",
   "metadata": {},
   "source": [
    "# LSTM Highlight Detection Model"
   ]
  },
  {
   "cell_type": "code",
   "execution_count": 84,
   "metadata": {},
   "outputs": [
    {
     "name": "stdout",
     "output_type": "stream",
     "text": [
      "📊 Positive ratio: 0.5000 → pos_weight: 1.0000\n"
     ]
    },
    {
     "name": "stderr",
     "output_type": "stream",
     "text": [
      "/tmp/ipykernel_8758/475506173.py:10: UserWarning: To copy construct from a tensor, it is recommended to use sourceTensor.clone().detach() or sourceTensor.clone().detach().requires_grad_(True), rather than torch.tensor(sourceTensor).\n",
      "  return self.data[idx], torch.tensor(self.labels[idx])\n"
     ]
    }
   ],
   "source": [
    "import torch\n",
    "import torch.nn as nn\n",
    "import numpy as np\n",
    "from tqdm.notebook import tqdm\n",
    "from sklearn.metrics import f1_score, precision_score, recall_score\n",
    "\n",
    "# === Define LSTMClassifier ===\n",
    "class LSTMClassifier(nn.Module):\n",
    "    def __init__(self, input_size, hidden_size, num_layers, output_size):\n",
    "        super(LSTMClassifier, self).__init__()\n",
    "        self.hidden_size = hidden_size\n",
    "        self.num_layers = num_layers\n",
    "        self.lstm = nn.LSTM(input_size, hidden_size, num_layers, batch_first=True)\n",
    "        self.fc = nn.Linear(hidden_size, output_size)\n",
    "\n",
    "    def forward(self, x):\n",
    "        h0 = torch.zeros(self.num_layers, x.size(0), self.hidden_size).to(x.device)\n",
    "        c0 = torch.zeros(self.num_layers, x.size(0), self.hidden_size).to(x.device)\n",
    "        out, _ = self.lstm(x, (h0, c0))\n",
    "        output = self.fc(out[:, -1, :])  # [batch, 1]\n",
    "        return output, out[:, -1, :]\n",
    "\n",
    "# === Compute pos_weight automatically from train dataloader ===\n",
    "def compute_pos_weight(dataloader):\n",
    "    total_pos = 0\n",
    "    total_count = 0\n",
    "    for inputs, labels in dataloader:\n",
    "        total_pos += labels.sum().item()\n",
    "        total_count += labels.numel()\n",
    "    pos_ratio = total_pos / total_count\n",
    "    pos_weight_value = (1 - pos_ratio) / pos_ratio\n",
    "    print(f\"📊 Positive ratio: {pos_ratio:.4f} → pos_weight: {pos_weight_value:.4f}\")\n",
    "    return torch.tensor([pos_weight_value], dtype=torch.float32)\n",
    "\n",
    "# === Training Configuration ===\n",
    "device = torch.device('cuda' if torch.cuda.is_available() else 'cpu')\n",
    "input_size = 2768\n",
    "hidden_size = 256\n",
    "num_layers = 3\n",
    "output_size = 1\n",
    "num_epochs = 100\n",
    "learning_rate = 5e-4 \n",
    "threshold = 0.3\n",
    "\n",
    "# === Initialize model, optimizer, loss ===\n",
    "model = LSTMClassifier(input_size, hidden_size, num_layers, output_size).to(device)\n",
    "pos_weight = compute_pos_weight(train_dataloader).to(device)\n",
    "criterion = nn.BCEWithLogitsLoss(pos_weight=pos_weight)\n",
    "optimizer = torch.optim.Adam(model.parameters(), lr=learning_rate)\n"
   ]
  },
  {
   "cell_type": "markdown",
   "metadata": {},
   "source": [
    "# Training"
   ]
  },
  {
   "cell_type": "code",
   "execution_count": 85,
   "metadata": {
    "scrolled": true
   },
   "outputs": [
    {
     "data": {
      "application/vnd.jupyter.widget-view+json": {
       "model_id": "07633d6c96aa42f4b770b8fe64fc6441",
       "version_major": 2,
       "version_minor": 0
      },
      "text/plain": [
       "Epochs:   0%|          | 0/100 [00:00<?, ?it/s]"
      ]
     },
     "metadata": {},
     "output_type": "display_data"
    },
    {
     "name": "stderr",
     "output_type": "stream",
     "text": [
      "/tmp/ipykernel_8758/475506173.py:10: UserWarning: To copy construct from a tensor, it is recommended to use sourceTensor.clone().detach() or sourceTensor.clone().detach().requires_grad_(True), rather than torch.tensor(sourceTensor).\n",
      "  return self.data[idx], torch.tensor(self.labels[idx])\n"
     ]
    },
    {
     "name": "stdout",
     "output_type": "stream",
     "text": [
      "Epoch 1/100 | Train Loss: 0.6907 | F1: 0.6667 | P: 0.5000 | R: 1.0000 | Acc: 0.5000\n",
      "Best F1: 0.6667 | P: 0.5000 | R: 1.0000 | Acc: 0.5000\n"
     ]
    },
    {
     "name": "stderr",
     "output_type": "stream",
     "text": [
      "/tmp/ipykernel_8758/475506173.py:10: UserWarning: To copy construct from a tensor, it is recommended to use sourceTensor.clone().detach() or sourceTensor.clone().detach().requires_grad_(True), rather than torch.tensor(sourceTensor).\n",
      "  return self.data[idx], torch.tensor(self.labels[idx])\n"
     ]
    },
    {
     "name": "stdout",
     "output_type": "stream",
     "text": [
      "Epoch 2/100 | Train Loss: 0.6835 | F1: 0.6520 | P: 0.5172 | R: 0.8818 | Acc: 0.5293\n"
     ]
    },
    {
     "name": "stderr",
     "output_type": "stream",
     "text": [
      "/tmp/ipykernel_8758/475506173.py:10: UserWarning: To copy construct from a tensor, it is recommended to use sourceTensor.clone().detach() or sourceTensor.clone().detach().requires_grad_(True), rather than torch.tensor(sourceTensor).\n",
      "  return self.data[idx], torch.tensor(self.labels[idx])\n"
     ]
    },
    {
     "name": "stdout",
     "output_type": "stream",
     "text": [
      "Epoch 3/100 | Train Loss: 0.6737 | F1: 0.6568 | P: 0.5143 | R: 0.9086 | Acc: 0.5252\n"
     ]
    },
    {
     "name": "stderr",
     "output_type": "stream",
     "text": [
      "/tmp/ipykernel_8758/475506173.py:10: UserWarning: To copy construct from a tensor, it is recommended to use sourceTensor.clone().detach() or sourceTensor.clone().detach().requires_grad_(True), rather than torch.tensor(sourceTensor).\n",
      "  return self.data[idx], torch.tensor(self.labels[idx])\n"
     ]
    },
    {
     "name": "stdout",
     "output_type": "stream",
     "text": [
      "Epoch 4/100 | Train Loss: 0.6575 | F1: 0.6493 | P: 0.5088 | R: 0.8969 | Acc: 0.5156\n"
     ]
    },
    {
     "name": "stderr",
     "output_type": "stream",
     "text": [
      "/tmp/ipykernel_8758/475506173.py:10: UserWarning: To copy construct from a tensor, it is recommended to use sourceTensor.clone().detach() or sourceTensor.clone().detach().requires_grad_(True), rather than torch.tensor(sourceTensor).\n",
      "  return self.data[idx], torch.tensor(self.labels[idx])\n"
     ]
    },
    {
     "name": "stdout",
     "output_type": "stream",
     "text": [
      "Epoch 5/100 | Train Loss: 0.6437 | F1: 0.6482 | P: 0.5110 | R: 0.8864 | Acc: 0.5190\n"
     ]
    },
    {
     "name": "stderr",
     "output_type": "stream",
     "text": [
      "/tmp/ipykernel_8758/475506173.py:10: UserWarning: To copy construct from a tensor, it is recommended to use sourceTensor.clone().detach() or sourceTensor.clone().detach().requires_grad_(True), rather than torch.tensor(sourceTensor).\n",
      "  return self.data[idx], torch.tensor(self.labels[idx])\n"
     ]
    },
    {
     "name": "stdout",
     "output_type": "stream",
     "text": [
      "Epoch 6/100 | Train Loss: 0.6112 | F1: 0.6284 | P: 0.5099 | R: 0.8185 | Acc: 0.5159\n"
     ]
    },
    {
     "name": "stderr",
     "output_type": "stream",
     "text": [
      "/tmp/ipykernel_8758/475506173.py:10: UserWarning: To copy construct from a tensor, it is recommended to use sourceTensor.clone().detach() or sourceTensor.clone().detach().requires_grad_(True), rather than torch.tensor(sourceTensor).\n",
      "  return self.data[idx], torch.tensor(self.labels[idx])\n"
     ]
    },
    {
     "name": "stdout",
     "output_type": "stream",
     "text": [
      "Epoch 7/100 | Train Loss: 0.5769 | F1: 0.6336 | P: 0.5082 | R: 0.8413 | Acc: 0.5135\n"
     ]
    },
    {
     "name": "stderr",
     "output_type": "stream",
     "text": [
      "/tmp/ipykernel_8758/475506173.py:10: UserWarning: To copy construct from a tensor, it is recommended to use sourceTensor.clone().detach() or sourceTensor.clone().detach().requires_grad_(True), rather than torch.tensor(sourceTensor).\n",
      "  return self.data[idx], torch.tensor(self.labels[idx])\n"
     ]
    },
    {
     "name": "stdout",
     "output_type": "stream",
     "text": [
      "Epoch 8/100 | Train Loss: 0.5355 | F1: 0.5813 | P: 0.5087 | R: 0.6780 | Acc: 0.5116\n"
     ]
    },
    {
     "name": "stderr",
     "output_type": "stream",
     "text": [
      "/tmp/ipykernel_8758/475506173.py:10: UserWarning: To copy construct from a tensor, it is recommended to use sourceTensor.clone().detach() or sourceTensor.clone().detach().requires_grad_(True), rather than torch.tensor(sourceTensor).\n",
      "  return self.data[idx], torch.tensor(self.labels[idx])\n"
     ]
    },
    {
     "name": "stdout",
     "output_type": "stream",
     "text": [
      "Epoch 9/100 | Train Loss: 0.4911 | F1: 0.5996 | P: 0.5140 | R: 0.7194 | Acc: 0.5196\n"
     ]
    },
    {
     "name": "stderr",
     "output_type": "stream",
     "text": [
      "/tmp/ipykernel_8758/475506173.py:10: UserWarning: To copy construct from a tensor, it is recommended to use sourceTensor.clone().detach() or sourceTensor.clone().detach().requires_grad_(True), rather than torch.tensor(sourceTensor).\n",
      "  return self.data[idx], torch.tensor(self.labels[idx])\n"
     ]
    },
    {
     "name": "stdout",
     "output_type": "stream",
     "text": [
      "Epoch 10/100 | Train Loss: 0.4474 | F1: 0.5920 | P: 0.5153 | R: 0.6955 | Acc: 0.5206\n"
     ]
    },
    {
     "name": "stderr",
     "output_type": "stream",
     "text": [
      "/tmp/ipykernel_8758/475506173.py:10: UserWarning: To copy construct from a tensor, it is recommended to use sourceTensor.clone().detach() or sourceTensor.clone().detach().requires_grad_(True), rather than torch.tensor(sourceTensor).\n",
      "  return self.data[idx], torch.tensor(self.labels[idx])\n"
     ]
    },
    {
     "name": "stdout",
     "output_type": "stream",
     "text": [
      "Epoch 11/100 | Train Loss: 0.4115 | F1: 0.5768 | P: 0.5068 | R: 0.6691 | Acc: 0.5090\n"
     ]
    },
    {
     "name": "stderr",
     "output_type": "stream",
     "text": [
      "/tmp/ipykernel_8758/475506173.py:10: UserWarning: To copy construct from a tensor, it is recommended to use sourceTensor.clone().detach() or sourceTensor.clone().detach().requires_grad_(True), rather than torch.tensor(sourceTensor).\n",
      "  return self.data[idx], torch.tensor(self.labels[idx])\n"
     ]
    },
    {
     "name": "stdout",
     "output_type": "stream",
     "text": [
      "Epoch 12/100 | Train Loss: 0.3728 | F1: 0.5504 | P: 0.5025 | R: 0.6083 | Acc: 0.5031\n"
     ]
    },
    {
     "name": "stderr",
     "output_type": "stream",
     "text": [
      "/tmp/ipykernel_8758/475506173.py:10: UserWarning: To copy construct from a tensor, it is recommended to use sourceTensor.clone().detach() or sourceTensor.clone().detach().requires_grad_(True), rather than torch.tensor(sourceTensor).\n",
      "  return self.data[idx], torch.tensor(self.labels[idx])\n"
     ]
    },
    {
     "name": "stdout",
     "output_type": "stream",
     "text": [
      "Epoch 13/100 | Train Loss: 0.3376 | F1: 0.5053 | P: 0.4922 | R: 0.5191 | Acc: 0.4917\n"
     ]
    },
    {
     "name": "stderr",
     "output_type": "stream",
     "text": [
      "/tmp/ipykernel_8758/475506173.py:10: UserWarning: To copy construct from a tensor, it is recommended to use sourceTensor.clone().detach() or sourceTensor.clone().detach().requires_grad_(True), rather than torch.tensor(sourceTensor).\n",
      "  return self.data[idx], torch.tensor(self.labels[idx])\n"
     ]
    },
    {
     "name": "stdout",
     "output_type": "stream",
     "text": [
      "Epoch 14/100 | Train Loss: 0.3100 | F1: 0.5395 | P: 0.5014 | R: 0.5838 | Acc: 0.5016\n"
     ]
    },
    {
     "name": "stderr",
     "output_type": "stream",
     "text": [
      "/tmp/ipykernel_8758/475506173.py:10: UserWarning: To copy construct from a tensor, it is recommended to use sourceTensor.clone().detach() or sourceTensor.clone().detach().requires_grad_(True), rather than torch.tensor(sourceTensor).\n",
      "  return self.data[idx], torch.tensor(self.labels[idx])\n"
     ]
    },
    {
     "name": "stdout",
     "output_type": "stream",
     "text": [
      "Epoch 15/100 | Train Loss: 0.2996 | F1: 0.5442 | P: 0.4950 | R: 0.6044 | Acc: 0.4939\n"
     ]
    },
    {
     "name": "stderr",
     "output_type": "stream",
     "text": [
      "/tmp/ipykernel_8758/475506173.py:10: UserWarning: To copy construct from a tensor, it is recommended to use sourceTensor.clone().detach() or sourceTensor.clone().detach().requires_grad_(True), rather than torch.tensor(sourceTensor).\n",
      "  return self.data[idx], torch.tensor(self.labels[idx])\n"
     ]
    },
    {
     "name": "stdout",
     "output_type": "stream",
     "text": [
      "Epoch 16/100 | Train Loss: 0.2671 | F1: 0.5787 | P: 0.5068 | R: 0.6743 | Acc: 0.5091\n"
     ]
    },
    {
     "name": "stderr",
     "output_type": "stream",
     "text": [
      "/tmp/ipykernel_8758/475506173.py:10: UserWarning: To copy construct from a tensor, it is recommended to use sourceTensor.clone().detach() or sourceTensor.clone().detach().requires_grad_(True), rather than torch.tensor(sourceTensor).\n",
      "  return self.data[idx], torch.tensor(self.labels[idx])\n"
     ]
    },
    {
     "name": "stdout",
     "output_type": "stream",
     "text": [
      "Epoch 17/100 | Train Loss: 0.2481 | F1: 0.4924 | P: 0.5192 | R: 0.4682 | Acc: 0.5173\n"
     ]
    },
    {
     "name": "stderr",
     "output_type": "stream",
     "text": [
      "/tmp/ipykernel_8758/475506173.py:10: UserWarning: To copy construct from a tensor, it is recommended to use sourceTensor.clone().detach() or sourceTensor.clone().detach().requires_grad_(True), rather than torch.tensor(sourceTensor).\n",
      "  return self.data[idx], torch.tensor(self.labels[idx])\n"
     ]
    },
    {
     "name": "stdout",
     "output_type": "stream",
     "text": [
      "Epoch 18/100 | Train Loss: 0.2310 | F1: 0.5573 | P: 0.5097 | R: 0.6147 | Acc: 0.5117\n"
     ]
    },
    {
     "name": "stderr",
     "output_type": "stream",
     "text": [
      "/tmp/ipykernel_8758/475506173.py:10: UserWarning: To copy construct from a tensor, it is recommended to use sourceTensor.clone().detach() or sourceTensor.clone().detach().requires_grad_(True), rather than torch.tensor(sourceTensor).\n",
      "  return self.data[idx], torch.tensor(self.labels[idx])\n"
     ]
    },
    {
     "name": "stdout",
     "output_type": "stream",
     "text": [
      "Epoch 19/100 | Train Loss: 0.2160 | F1: 0.5135 | P: 0.4925 | R: 0.5364 | Acc: 0.4918\n"
     ]
    },
    {
     "name": "stderr",
     "output_type": "stream",
     "text": [
      "/tmp/ipykernel_8758/475506173.py:10: UserWarning: To copy construct from a tensor, it is recommended to use sourceTensor.clone().detach() or sourceTensor.clone().detach().requires_grad_(True), rather than torch.tensor(sourceTensor).\n",
      "  return self.data[idx], torch.tensor(self.labels[idx])\n"
     ]
    },
    {
     "name": "stdout",
     "output_type": "stream",
     "text": [
      "Epoch 20/100 | Train Loss: 0.1950 | F1: 0.5507 | P: 0.5079 | R: 0.6013 | Acc: 0.5093\n"
     ]
    },
    {
     "name": "stderr",
     "output_type": "stream",
     "text": [
      "/tmp/ipykernel_8758/475506173.py:10: UserWarning: To copy construct from a tensor, it is recommended to use sourceTensor.clone().detach() or sourceTensor.clone().detach().requires_grad_(True), rather than torch.tensor(sourceTensor).\n",
      "  return self.data[idx], torch.tensor(self.labels[idx])\n"
     ]
    },
    {
     "name": "stdout",
     "output_type": "stream",
     "text": [
      "Epoch 21/100 | Train Loss: 0.1947 | F1: 0.5334 | P: 0.5009 | R: 0.5705 | Acc: 0.5010\n"
     ]
    },
    {
     "name": "stderr",
     "output_type": "stream",
     "text": [
      "/tmp/ipykernel_8758/475506173.py:10: UserWarning: To copy construct from a tensor, it is recommended to use sourceTensor.clone().detach() or sourceTensor.clone().detach().requires_grad_(True), rather than torch.tensor(sourceTensor).\n",
      "  return self.data[idx], torch.tensor(self.labels[idx])\n"
     ]
    },
    {
     "name": "stdout",
     "output_type": "stream",
     "text": [
      "Epoch 22/100 | Train Loss: 0.1650 | F1: 0.5642 | P: 0.5068 | R: 0.6362 | Acc: 0.5085\n"
     ]
    },
    {
     "name": "stderr",
     "output_type": "stream",
     "text": [
      "/tmp/ipykernel_8758/475506173.py:10: UserWarning: To copy construct from a tensor, it is recommended to use sourceTensor.clone().detach() or sourceTensor.clone().detach().requires_grad_(True), rather than torch.tensor(sourceTensor).\n",
      "  return self.data[idx], torch.tensor(self.labels[idx])\n"
     ]
    },
    {
     "name": "stdout",
     "output_type": "stream",
     "text": [
      "Epoch 23/100 | Train Loss: 0.1891 | F1: 0.5776 | P: 0.5163 | R: 0.6553 | Acc: 0.5207\n"
     ]
    },
    {
     "name": "stderr",
     "output_type": "stream",
     "text": [
      "/tmp/ipykernel_8758/475506173.py:10: UserWarning: To copy construct from a tensor, it is recommended to use sourceTensor.clone().detach() or sourceTensor.clone().detach().requires_grad_(True), rather than torch.tensor(sourceTensor).\n",
      "  return self.data[idx], torch.tensor(self.labels[idx])\n"
     ]
    },
    {
     "name": "stdout",
     "output_type": "stream",
     "text": [
      "Epoch 24/100 | Train Loss: 0.1632 | F1: 0.5336 | P: 0.4983 | R: 0.5742 | Acc: 0.4981\n"
     ]
    },
    {
     "name": "stderr",
     "output_type": "stream",
     "text": [
      "/tmp/ipykernel_8758/475506173.py:10: UserWarning: To copy construct from a tensor, it is recommended to use sourceTensor.clone().detach() or sourceTensor.clone().detach().requires_grad_(True), rather than torch.tensor(sourceTensor).\n",
      "  return self.data[idx], torch.tensor(self.labels[idx])\n"
     ]
    },
    {
     "name": "stdout",
     "output_type": "stream",
     "text": [
      "Epoch 25/100 | Train Loss: 0.1502 | F1: 0.5397 | P: 0.5203 | R: 0.5606 | Acc: 0.5218\n"
     ]
    },
    {
     "name": "stderr",
     "output_type": "stream",
     "text": [
      "/tmp/ipykernel_8758/475506173.py:10: UserWarning: To copy construct from a tensor, it is recommended to use sourceTensor.clone().detach() or sourceTensor.clone().detach().requires_grad_(True), rather than torch.tensor(sourceTensor).\n",
      "  return self.data[idx], torch.tensor(self.labels[idx])\n"
     ]
    },
    {
     "name": "stdout",
     "output_type": "stream",
     "text": [
      "Epoch 26/100 | Train Loss: 0.1498 | F1: 0.5733 | P: 0.5129 | R: 0.6498 | Acc: 0.5163\n"
     ]
    },
    {
     "name": "stderr",
     "output_type": "stream",
     "text": [
      "/tmp/ipykernel_8758/475506173.py:10: UserWarning: To copy construct from a tensor, it is recommended to use sourceTensor.clone().detach() or sourceTensor.clone().detach().requires_grad_(True), rather than torch.tensor(sourceTensor).\n",
      "  return self.data[idx], torch.tensor(self.labels[idx])\n"
     ]
    },
    {
     "name": "stdout",
     "output_type": "stream",
     "text": [
      "Epoch 27/100 | Train Loss: 0.1440 | F1: 0.5699 | P: 0.5133 | R: 0.6404 | Acc: 0.5166\n"
     ]
    },
    {
     "name": "stderr",
     "output_type": "stream",
     "text": [
      "/tmp/ipykernel_8758/475506173.py:10: UserWarning: To copy construct from a tensor, it is recommended to use sourceTensor.clone().detach() or sourceTensor.clone().detach().requires_grad_(True), rather than torch.tensor(sourceTensor).\n",
      "  return self.data[idx], torch.tensor(self.labels[idx])\n"
     ]
    },
    {
     "name": "stdout",
     "output_type": "stream",
     "text": [
      "Epoch 28/100 | Train Loss: 0.1547 | F1: 0.5265 | P: 0.5008 | R: 0.5549 | Acc: 0.5009\n"
     ]
    },
    {
     "name": "stderr",
     "output_type": "stream",
     "text": [
      "/tmp/ipykernel_8758/475506173.py:10: UserWarning: To copy construct from a tensor, it is recommended to use sourceTensor.clone().detach() or sourceTensor.clone().detach().requires_grad_(True), rather than torch.tensor(sourceTensor).\n",
      "  return self.data[idx], torch.tensor(self.labels[idx])\n"
     ]
    },
    {
     "name": "stdout",
     "output_type": "stream",
     "text": [
      "Epoch 29/100 | Train Loss: 0.1211 | F1: 0.5231 | P: 0.5179 | R: 0.5284 | Acc: 0.5183\n"
     ]
    },
    {
     "name": "stderr",
     "output_type": "stream",
     "text": [
      "/tmp/ipykernel_8758/475506173.py:10: UserWarning: To copy construct from a tensor, it is recommended to use sourceTensor.clone().detach() or sourceTensor.clone().detach().requires_grad_(True), rather than torch.tensor(sourceTensor).\n",
      "  return self.data[idx], torch.tensor(self.labels[idx])\n"
     ]
    },
    {
     "name": "stdout",
     "output_type": "stream",
     "text": [
      "Epoch 30/100 | Train Loss: 0.1256 | F1: 0.4998 | P: 0.4923 | R: 0.5076 | Acc: 0.4920\n"
     ]
    },
    {
     "name": "stderr",
     "output_type": "stream",
     "text": [
      "/tmp/ipykernel_8758/475506173.py:10: UserWarning: To copy construct from a tensor, it is recommended to use sourceTensor.clone().detach() or sourceTensor.clone().detach().requires_grad_(True), rather than torch.tensor(sourceTensor).\n",
      "  return self.data[idx], torch.tensor(self.labels[idx])\n"
     ]
    },
    {
     "name": "stdout",
     "output_type": "stream",
     "text": [
      "Epoch 31/100 | Train Loss: 0.1195 | F1: 0.5273 | P: 0.5148 | R: 0.5404 | Acc: 0.5155\n"
     ]
    },
    {
     "name": "stderr",
     "output_type": "stream",
     "text": [
      "/tmp/ipykernel_8758/475506173.py:10: UserWarning: To copy construct from a tensor, it is recommended to use sourceTensor.clone().detach() or sourceTensor.clone().detach().requires_grad_(True), rather than torch.tensor(sourceTensor).\n",
      "  return self.data[idx], torch.tensor(self.labels[idx])\n"
     ]
    },
    {
     "name": "stdout",
     "output_type": "stream",
     "text": [
      "Epoch 32/100 | Train Loss: 0.1258 | F1: 0.5142 | P: 0.5061 | R: 0.5227 | Acc: 0.5063\n"
     ]
    },
    {
     "name": "stderr",
     "output_type": "stream",
     "text": [
      "/tmp/ipykernel_8758/475506173.py:10: UserWarning: To copy construct from a tensor, it is recommended to use sourceTensor.clone().detach() or sourceTensor.clone().detach().requires_grad_(True), rather than torch.tensor(sourceTensor).\n",
      "  return self.data[idx], torch.tensor(self.labels[idx])\n"
     ]
    },
    {
     "name": "stdout",
     "output_type": "stream",
     "text": [
      "Epoch 33/100 | Train Loss: 0.1106 | F1: 0.4988 | P: 0.5123 | R: 0.4859 | Acc: 0.5117\n"
     ]
    },
    {
     "name": "stderr",
     "output_type": "stream",
     "text": [
      "/tmp/ipykernel_8758/475506173.py:10: UserWarning: To copy construct from a tensor, it is recommended to use sourceTensor.clone().detach() or sourceTensor.clone().detach().requires_grad_(True), rather than torch.tensor(sourceTensor).\n",
      "  return self.data[idx], torch.tensor(self.labels[idx])\n"
     ]
    },
    {
     "name": "stdout",
     "output_type": "stream",
     "text": [
      "Epoch 34/100 | Train Loss: 0.1153 | F1: 0.5006 | P: 0.4968 | R: 0.5045 | Acc: 0.4968\n"
     ]
    },
    {
     "name": "stderr",
     "output_type": "stream",
     "text": [
      "/tmp/ipykernel_8758/475506173.py:10: UserWarning: To copy construct from a tensor, it is recommended to use sourceTensor.clone().detach() or sourceTensor.clone().detach().requires_grad_(True), rather than torch.tensor(sourceTensor).\n",
      "  return self.data[idx], torch.tensor(self.labels[idx])\n"
     ]
    },
    {
     "name": "stdout",
     "output_type": "stream",
     "text": [
      "Epoch 35/100 | Train Loss: 0.1148 | F1: 0.5214 | P: 0.5063 | R: 0.5373 | Acc: 0.5067\n"
     ]
    },
    {
     "name": "stderr",
     "output_type": "stream",
     "text": [
      "/tmp/ipykernel_8758/475506173.py:10: UserWarning: To copy construct from a tensor, it is recommended to use sourceTensor.clone().detach() or sourceTensor.clone().detach().requires_grad_(True), rather than torch.tensor(sourceTensor).\n",
      "  return self.data[idx], torch.tensor(self.labels[idx])\n"
     ]
    },
    {
     "name": "stdout",
     "output_type": "stream",
     "text": [
      "Epoch 36/100 | Train Loss: 0.1019 | F1: 0.4920 | P: 0.4976 | R: 0.4865 | Acc: 0.4976\n"
     ]
    },
    {
     "name": "stderr",
     "output_type": "stream",
     "text": [
      "/tmp/ipykernel_8758/475506173.py:10: UserWarning: To copy construct from a tensor, it is recommended to use sourceTensor.clone().detach() or sourceTensor.clone().detach().requires_grad_(True), rather than torch.tensor(sourceTensor).\n",
      "  return self.data[idx], torch.tensor(self.labels[idx])\n"
     ]
    },
    {
     "name": "stdout",
     "output_type": "stream",
     "text": [
      "Epoch 37/100 | Train Loss: 0.1040 | F1: 0.4929 | P: 0.5055 | R: 0.4809 | Acc: 0.5053\n"
     ]
    },
    {
     "name": "stderr",
     "output_type": "stream",
     "text": [
      "/tmp/ipykernel_8758/475506173.py:10: UserWarning: To copy construct from a tensor, it is recommended to use sourceTensor.clone().detach() or sourceTensor.clone().detach().requires_grad_(True), rather than torch.tensor(sourceTensor).\n",
      "  return self.data[idx], torch.tensor(self.labels[idx])\n"
     ]
    },
    {
     "name": "stdout",
     "output_type": "stream",
     "text": [
      "Epoch 38/100 | Train Loss: 0.0978 | F1: 0.5252 | P: 0.4997 | R: 0.5535 | Acc: 0.4996\n"
     ]
    },
    {
     "name": "stderr",
     "output_type": "stream",
     "text": [
      "/tmp/ipykernel_8758/475506173.py:10: UserWarning: To copy construct from a tensor, it is recommended to use sourceTensor.clone().detach() or sourceTensor.clone().detach().requires_grad_(True), rather than torch.tensor(sourceTensor).\n",
      "  return self.data[idx], torch.tensor(self.labels[idx])\n"
     ]
    },
    {
     "name": "stdout",
     "output_type": "stream",
     "text": [
      "Epoch 39/100 | Train Loss: 0.1010 | F1: 0.5061 | P: 0.5008 | R: 0.5115 | Acc: 0.5008\n"
     ]
    },
    {
     "name": "stderr",
     "output_type": "stream",
     "text": [
      "/tmp/ipykernel_8758/475506173.py:10: UserWarning: To copy construct from a tensor, it is recommended to use sourceTensor.clone().detach() or sourceTensor.clone().detach().requires_grad_(True), rather than torch.tensor(sourceTensor).\n",
      "  return self.data[idx], torch.tensor(self.labels[idx])\n"
     ]
    },
    {
     "name": "stdout",
     "output_type": "stream",
     "text": [
      "Epoch 40/100 | Train Loss: 0.0935 | F1: 0.4828 | P: 0.4915 | R: 0.4743 | Acc: 0.4918\n"
     ]
    },
    {
     "name": "stderr",
     "output_type": "stream",
     "text": [
      "/tmp/ipykernel_8758/475506173.py:10: UserWarning: To copy construct from a tensor, it is recommended to use sourceTensor.clone().detach() or sourceTensor.clone().detach().requires_grad_(True), rather than torch.tensor(sourceTensor).\n",
      "  return self.data[idx], torch.tensor(self.labels[idx])\n"
     ]
    },
    {
     "name": "stdout",
     "output_type": "stream",
     "text": [
      "Epoch 41/100 | Train Loss: 0.0893 | F1: 0.5013 | P: 0.4952 | R: 0.5075 | Acc: 0.4950\n"
     ]
    },
    {
     "name": "stderr",
     "output_type": "stream",
     "text": [
      "/tmp/ipykernel_8758/475506173.py:10: UserWarning: To copy construct from a tensor, it is recommended to use sourceTensor.clone().detach() or sourceTensor.clone().detach().requires_grad_(True), rather than torch.tensor(sourceTensor).\n",
      "  return self.data[idx], torch.tensor(self.labels[idx])\n"
     ]
    },
    {
     "name": "stdout",
     "output_type": "stream",
     "text": [
      "Epoch 42/100 | Train Loss: 0.0846 | F1: 0.4822 | P: 0.4900 | R: 0.4747 | Acc: 0.4903\n"
     ]
    },
    {
     "name": "stderr",
     "output_type": "stream",
     "text": [
      "/tmp/ipykernel_8758/475506173.py:10: UserWarning: To copy construct from a tensor, it is recommended to use sourceTensor.clone().detach() or sourceTensor.clone().detach().requires_grad_(True), rather than torch.tensor(sourceTensor).\n",
      "  return self.data[idx], torch.tensor(self.labels[idx])\n"
     ]
    },
    {
     "name": "stdout",
     "output_type": "stream",
     "text": [
      "Epoch 43/100 | Train Loss: 0.0971 | F1: 0.4680 | P: 0.4794 | R: 0.4571 | Acc: 0.4804\n"
     ]
    },
    {
     "name": "stderr",
     "output_type": "stream",
     "text": [
      "/tmp/ipykernel_8758/475506173.py:10: UserWarning: To copy construct from a tensor, it is recommended to use sourceTensor.clone().detach() or sourceTensor.clone().detach().requires_grad_(True), rather than torch.tensor(sourceTensor).\n",
      "  return self.data[idx], torch.tensor(self.labels[idx])\n"
     ]
    },
    {
     "name": "stdout",
     "output_type": "stream",
     "text": [
      "Epoch 44/100 | Train Loss: 0.0894 | F1: 0.5527 | P: 0.5121 | R: 0.6004 | Acc: 0.5142\n"
     ]
    },
    {
     "name": "stderr",
     "output_type": "stream",
     "text": [
      "/tmp/ipykernel_8758/475506173.py:10: UserWarning: To copy construct from a tensor, it is recommended to use sourceTensor.clone().detach() or sourceTensor.clone().detach().requires_grad_(True), rather than torch.tensor(sourceTensor).\n",
      "  return self.data[idx], torch.tensor(self.labels[idx])\n"
     ]
    },
    {
     "name": "stdout",
     "output_type": "stream",
     "text": [
      "Epoch 45/100 | Train Loss: 0.0858 | F1: 0.4987 | P: 0.5022 | R: 0.4952 | Acc: 0.5022\n"
     ]
    },
    {
     "name": "stderr",
     "output_type": "stream",
     "text": [
      "/tmp/ipykernel_8758/475506173.py:10: UserWarning: To copy construct from a tensor, it is recommended to use sourceTensor.clone().detach() or sourceTensor.clone().detach().requires_grad_(True), rather than torch.tensor(sourceTensor).\n",
      "  return self.data[idx], torch.tensor(self.labels[idx])\n"
     ]
    },
    {
     "name": "stdout",
     "output_type": "stream",
     "text": [
      "Epoch 46/100 | Train Loss: 0.0787 | F1: 0.4912 | P: 0.4937 | R: 0.4887 | Acc: 0.4938\n"
     ]
    },
    {
     "name": "stderr",
     "output_type": "stream",
     "text": [
      "/tmp/ipykernel_8758/475506173.py:10: UserWarning: To copy construct from a tensor, it is recommended to use sourceTensor.clone().detach() or sourceTensor.clone().detach().requires_grad_(True), rather than torch.tensor(sourceTensor).\n",
      "  return self.data[idx], torch.tensor(self.labels[idx])\n"
     ]
    },
    {
     "name": "stdout",
     "output_type": "stream",
     "text": [
      "Epoch 47/100 | Train Loss: 0.0840 | F1: 0.5216 | P: 0.5049 | R: 0.5394 | Acc: 0.5053\n"
     ]
    },
    {
     "name": "stderr",
     "output_type": "stream",
     "text": [
      "/tmp/ipykernel_8758/475506173.py:10: UserWarning: To copy construct from a tensor, it is recommended to use sourceTensor.clone().detach() or sourceTensor.clone().detach().requires_grad_(True), rather than torch.tensor(sourceTensor).\n",
      "  return self.data[idx], torch.tensor(self.labels[idx])\n"
     ]
    },
    {
     "name": "stdout",
     "output_type": "stream",
     "text": [
      "Epoch 48/100 | Train Loss: 0.0764 | F1: 0.4812 | P: 0.4919 | R: 0.4709 | Acc: 0.4923\n"
     ]
    },
    {
     "name": "stderr",
     "output_type": "stream",
     "text": [
      "/tmp/ipykernel_8758/475506173.py:10: UserWarning: To copy construct from a tensor, it is recommended to use sourceTensor.clone().detach() or sourceTensor.clone().detach().requires_grad_(True), rather than torch.tensor(sourceTensor).\n",
      "  return self.data[idx], torch.tensor(self.labels[idx])\n"
     ]
    },
    {
     "name": "stdout",
     "output_type": "stream",
     "text": [
      "Epoch 49/100 | Train Loss: 0.0840 | F1: 0.5246 | P: 0.5076 | R: 0.5427 | Acc: 0.5081\n"
     ]
    },
    {
     "name": "stderr",
     "output_type": "stream",
     "text": [
      "/tmp/ipykernel_8758/475506173.py:10: UserWarning: To copy construct from a tensor, it is recommended to use sourceTensor.clone().detach() or sourceTensor.clone().detach().requires_grad_(True), rather than torch.tensor(sourceTensor).\n",
      "  return self.data[idx], torch.tensor(self.labels[idx])\n"
     ]
    },
    {
     "name": "stdout",
     "output_type": "stream",
     "text": [
      "Epoch 50/100 | Train Loss: 0.0717 | F1: 0.4932 | P: 0.5016 | R: 0.4851 | Acc: 0.5015\n"
     ]
    },
    {
     "name": "stderr",
     "output_type": "stream",
     "text": [
      "/tmp/ipykernel_8758/475506173.py:10: UserWarning: To copy construct from a tensor, it is recommended to use sourceTensor.clone().detach() or sourceTensor.clone().detach().requires_grad_(True), rather than torch.tensor(sourceTensor).\n",
      "  return self.data[idx], torch.tensor(self.labels[idx])\n"
     ]
    },
    {
     "name": "stdout",
     "output_type": "stream",
     "text": [
      "Epoch 51/100 | Train Loss: 0.0814 | F1: 0.5371 | P: 0.5072 | R: 0.5709 | Acc: 0.5081\n"
     ]
    },
    {
     "name": "stderr",
     "output_type": "stream",
     "text": [
      "/tmp/ipykernel_8758/475506173.py:10: UserWarning: To copy construct from a tensor, it is recommended to use sourceTensor.clone().detach() or sourceTensor.clone().detach().requires_grad_(True), rather than torch.tensor(sourceTensor).\n",
      "  return self.data[idx], torch.tensor(self.labels[idx])\n"
     ]
    },
    {
     "name": "stdout",
     "output_type": "stream",
     "text": [
      "Epoch 52/100 | Train Loss: 0.0950 | F1: 0.5041 | P: 0.4957 | R: 0.5127 | Acc: 0.4956\n"
     ]
    },
    {
     "name": "stderr",
     "output_type": "stream",
     "text": [
      "/tmp/ipykernel_8758/475506173.py:10: UserWarning: To copy construct from a tensor, it is recommended to use sourceTensor.clone().detach() or sourceTensor.clone().detach().requires_grad_(True), rather than torch.tensor(sourceTensor).\n",
      "  return self.data[idx], torch.tensor(self.labels[idx])\n"
     ]
    },
    {
     "name": "stdout",
     "output_type": "stream",
     "text": [
      "Epoch 53/100 | Train Loss: 0.0669 | F1: 0.4889 | P: 0.4971 | R: 0.4811 | Acc: 0.4972\n"
     ]
    },
    {
     "name": "stderr",
     "output_type": "stream",
     "text": [
      "/tmp/ipykernel_8758/475506173.py:10: UserWarning: To copy construct from a tensor, it is recommended to use sourceTensor.clone().detach() or sourceTensor.clone().detach().requires_grad_(True), rather than torch.tensor(sourceTensor).\n",
      "  return self.data[idx], torch.tensor(self.labels[idx])\n"
     ]
    },
    {
     "name": "stdout",
     "output_type": "stream",
     "text": [
      "Epoch 54/100 | Train Loss: 0.0645 | F1: 0.4811 | P: 0.4923 | R: 0.4703 | Acc: 0.4927\n"
     ]
    },
    {
     "name": "stderr",
     "output_type": "stream",
     "text": [
      "/tmp/ipykernel_8758/475506173.py:10: UserWarning: To copy construct from a tensor, it is recommended to use sourceTensor.clone().detach() or sourceTensor.clone().detach().requires_grad_(True), rather than torch.tensor(sourceTensor).\n",
      "  return self.data[idx], torch.tensor(self.labels[idx])\n"
     ]
    },
    {
     "name": "stdout",
     "output_type": "stream",
     "text": [
      "Epoch 55/100 | Train Loss: 0.0783 | F1: 0.5194 | P: 0.4997 | R: 0.5406 | Acc: 0.4996\n"
     ]
    },
    {
     "name": "stderr",
     "output_type": "stream",
     "text": [
      "/tmp/ipykernel_8758/475506173.py:10: UserWarning: To copy construct from a tensor, it is recommended to use sourceTensor.clone().detach() or sourceTensor.clone().detach().requires_grad_(True), rather than torch.tensor(sourceTensor).\n",
      "  return self.data[idx], torch.tensor(self.labels[idx])\n"
     ]
    },
    {
     "name": "stdout",
     "output_type": "stream",
     "text": [
      "Epoch 56/100 | Train Loss: 0.0833 | F1: 0.4873 | P: 0.4907 | R: 0.4840 | Acc: 0.4908\n"
     ]
    },
    {
     "name": "stderr",
     "output_type": "stream",
     "text": [
      "/tmp/ipykernel_8758/475506173.py:10: UserWarning: To copy construct from a tensor, it is recommended to use sourceTensor.clone().detach() or sourceTensor.clone().detach().requires_grad_(True), rather than torch.tensor(sourceTensor).\n",
      "  return self.data[idx], torch.tensor(self.labels[idx])\n"
     ]
    },
    {
     "name": "stdout",
     "output_type": "stream",
     "text": [
      "Epoch 57/100 | Train Loss: 0.0567 | F1: 0.4733 | P: 0.4969 | R: 0.4518 | Acc: 0.4972\n"
     ]
    },
    {
     "name": "stderr",
     "output_type": "stream",
     "text": [
      "/tmp/ipykernel_8758/475506173.py:10: UserWarning: To copy construct from a tensor, it is recommended to use sourceTensor.clone().detach() or sourceTensor.clone().detach().requires_grad_(True), rather than torch.tensor(sourceTensor).\n",
      "  return self.data[idx], torch.tensor(self.labels[idx])\n"
     ]
    },
    {
     "name": "stdout",
     "output_type": "stream",
     "text": [
      "Epoch 58/100 | Train Loss: 0.0587 | F1: 0.4683 | P: 0.4890 | R: 0.4493 | Acc: 0.4899\n"
     ]
    },
    {
     "name": "stderr",
     "output_type": "stream",
     "text": [
      "/tmp/ipykernel_8758/475506173.py:10: UserWarning: To copy construct from a tensor, it is recommended to use sourceTensor.clone().detach() or sourceTensor.clone().detach().requires_grad_(True), rather than torch.tensor(sourceTensor).\n",
      "  return self.data[idx], torch.tensor(self.labels[idx])\n"
     ]
    },
    {
     "name": "stdout",
     "output_type": "stream",
     "text": [
      "Epoch 59/100 | Train Loss: 0.0694 | F1: 0.5048 | P: 0.4925 | R: 0.5176 | Acc: 0.4922\n"
     ]
    },
    {
     "name": "stderr",
     "output_type": "stream",
     "text": [
      "/tmp/ipykernel_8758/475506173.py:10: UserWarning: To copy construct from a tensor, it is recommended to use sourceTensor.clone().detach() or sourceTensor.clone().detach().requires_grad_(True), rather than torch.tensor(sourceTensor).\n",
      "  return self.data[idx], torch.tensor(self.labels[idx])\n"
     ]
    },
    {
     "name": "stdout",
     "output_type": "stream",
     "text": [
      "Epoch 60/100 | Train Loss: 0.0650 | F1: 0.4792 | P: 0.4983 | R: 0.4616 | Acc: 0.4984\n"
     ]
    },
    {
     "name": "stderr",
     "output_type": "stream",
     "text": [
      "/tmp/ipykernel_8758/475506173.py:10: UserWarning: To copy construct from a tensor, it is recommended to use sourceTensor.clone().detach() or sourceTensor.clone().detach().requires_grad_(True), rather than torch.tensor(sourceTensor).\n",
      "  return self.data[idx], torch.tensor(self.labels[idx])\n"
     ]
    },
    {
     "name": "stdout",
     "output_type": "stream",
     "text": [
      "Epoch 61/100 | Train Loss: 0.0647 | F1: 0.5010 | P: 0.5027 | R: 0.4994 | Acc: 0.5027\n"
     ]
    },
    {
     "name": "stderr",
     "output_type": "stream",
     "text": [
      "/tmp/ipykernel_8758/475506173.py:10: UserWarning: To copy construct from a tensor, it is recommended to use sourceTensor.clone().detach() or sourceTensor.clone().detach().requires_grad_(True), rather than torch.tensor(sourceTensor).\n",
      "  return self.data[idx], torch.tensor(self.labels[idx])\n"
     ]
    },
    {
     "name": "stdout",
     "output_type": "stream",
     "text": [
      "Epoch 62/100 | Train Loss: 0.0666 | F1: 0.4808 | P: 0.4949 | R: 0.4675 | Acc: 0.4952\n"
     ]
    },
    {
     "name": "stderr",
     "output_type": "stream",
     "text": [
      "/tmp/ipykernel_8758/475506173.py:10: UserWarning: To copy construct from a tensor, it is recommended to use sourceTensor.clone().detach() or sourceTensor.clone().detach().requires_grad_(True), rather than torch.tensor(sourceTensor).\n",
      "  return self.data[idx], torch.tensor(self.labels[idx])\n"
     ]
    },
    {
     "name": "stdout",
     "output_type": "stream",
     "text": [
      "Epoch 63/100 | Train Loss: 0.0640 | F1: 0.4657 | P: 0.4967 | R: 0.4383 | Acc: 0.4971\n"
     ]
    },
    {
     "name": "stderr",
     "output_type": "stream",
     "text": [
      "/tmp/ipykernel_8758/475506173.py:10: UserWarning: To copy construct from a tensor, it is recommended to use sourceTensor.clone().detach() or sourceTensor.clone().detach().requires_grad_(True), rather than torch.tensor(sourceTensor).\n",
      "  return self.data[idx], torch.tensor(self.labels[idx])\n"
     ]
    },
    {
     "name": "stdout",
     "output_type": "stream",
     "text": [
      "Epoch 64/100 | Train Loss: 0.0661 | F1: 0.5207 | P: 0.4976 | R: 0.5461 | Acc: 0.4974\n"
     ]
    },
    {
     "name": "stderr",
     "output_type": "stream",
     "text": [
      "/tmp/ipykernel_8758/475506173.py:10: UserWarning: To copy construct from a tensor, it is recommended to use sourceTensor.clone().detach() or sourceTensor.clone().detach().requires_grad_(True), rather than torch.tensor(sourceTensor).\n",
      "  return self.data[idx], torch.tensor(self.labels[idx])\n"
     ]
    },
    {
     "name": "stdout",
     "output_type": "stream",
     "text": [
      "Epoch 65/100 | Train Loss: 0.0554 | F1: 0.4344 | P: 0.4889 | R: 0.3908 | Acc: 0.4911\n"
     ]
    },
    {
     "name": "stderr",
     "output_type": "stream",
     "text": [
      "/tmp/ipykernel_8758/475506173.py:10: UserWarning: To copy construct from a tensor, it is recommended to use sourceTensor.clone().detach() or sourceTensor.clone().detach().requires_grad_(True), rather than torch.tensor(sourceTensor).\n",
      "  return self.data[idx], torch.tensor(self.labels[idx])\n"
     ]
    },
    {
     "name": "stdout",
     "output_type": "stream",
     "text": [
      "Epoch 66/100 | Train Loss: 0.0548 | F1: 0.4704 | P: 0.5003 | R: 0.4439 | Acc: 0.5003\n"
     ]
    },
    {
     "name": "stderr",
     "output_type": "stream",
     "text": [
      "/tmp/ipykernel_8758/475506173.py:10: UserWarning: To copy construct from a tensor, it is recommended to use sourceTensor.clone().detach() or sourceTensor.clone().detach().requires_grad_(True), rather than torch.tensor(sourceTensor).\n",
      "  return self.data[idx], torch.tensor(self.labels[idx])\n"
     ]
    },
    {
     "name": "stdout",
     "output_type": "stream",
     "text": [
      "Epoch 67/100 | Train Loss: 0.0555 | F1: 0.4835 | P: 0.4959 | R: 0.4716 | Acc: 0.4961\n"
     ]
    },
    {
     "name": "stderr",
     "output_type": "stream",
     "text": [
      "/tmp/ipykernel_8758/475506173.py:10: UserWarning: To copy construct from a tensor, it is recommended to use sourceTensor.clone().detach() or sourceTensor.clone().detach().requires_grad_(True), rather than torch.tensor(sourceTensor).\n",
      "  return self.data[idx], torch.tensor(self.labels[idx])\n"
     ]
    },
    {
     "name": "stdout",
     "output_type": "stream",
     "text": [
      "Epoch 68/100 | Train Loss: 0.0531 | F1: 0.4978 | P: 0.4973 | R: 0.4984 | Acc: 0.4973\n"
     ]
    },
    {
     "name": "stderr",
     "output_type": "stream",
     "text": [
      "/tmp/ipykernel_8758/475506173.py:10: UserWarning: To copy construct from a tensor, it is recommended to use sourceTensor.clone().detach() or sourceTensor.clone().detach().requires_grad_(True), rather than torch.tensor(sourceTensor).\n",
      "  return self.data[idx], torch.tensor(self.labels[idx])\n"
     ]
    },
    {
     "name": "stdout",
     "output_type": "stream",
     "text": [
      "Epoch 69/100 | Train Loss: 0.0687 | F1: 0.4645 | P: 0.4893 | R: 0.4421 | Acc: 0.4903\n"
     ]
    },
    {
     "name": "stderr",
     "output_type": "stream",
     "text": [
      "/tmp/ipykernel_8758/475506173.py:10: UserWarning: To copy construct from a tensor, it is recommended to use sourceTensor.clone().detach() or sourceTensor.clone().detach().requires_grad_(True), rather than torch.tensor(sourceTensor).\n",
      "  return self.data[idx], torch.tensor(self.labels[idx])\n"
     ]
    },
    {
     "name": "stdout",
     "output_type": "stream",
     "text": [
      "Epoch 70/100 | Train Loss: 0.0590 | F1: 0.5191 | P: 0.5025 | R: 0.5368 | Acc: 0.5027\n"
     ]
    },
    {
     "name": "stderr",
     "output_type": "stream",
     "text": [
      "/tmp/ipykernel_8758/475506173.py:10: UserWarning: To copy construct from a tensor, it is recommended to use sourceTensor.clone().detach() or sourceTensor.clone().detach().requires_grad_(True), rather than torch.tensor(sourceTensor).\n",
      "  return self.data[idx], torch.tensor(self.labels[idx])\n"
     ]
    },
    {
     "name": "stdout",
     "output_type": "stream",
     "text": [
      "Epoch 71/100 | Train Loss: 0.0492 | F1: 0.4830 | P: 0.5042 | R: 0.4635 | Acc: 0.5038\n"
     ]
    },
    {
     "name": "stderr",
     "output_type": "stream",
     "text": [
      "/tmp/ipykernel_8758/475506173.py:10: UserWarning: To copy construct from a tensor, it is recommended to use sourceTensor.clone().detach() or sourceTensor.clone().detach().requires_grad_(True), rather than torch.tensor(sourceTensor).\n",
      "  return self.data[idx], torch.tensor(self.labels[idx])\n"
     ]
    },
    {
     "name": "stdout",
     "output_type": "stream",
     "text": [
      "Epoch 72/100 | Train Loss: 0.0505 | F1: 0.4578 | P: 0.4843 | R: 0.4341 | Acc: 0.4859\n"
     ]
    },
    {
     "name": "stderr",
     "output_type": "stream",
     "text": [
      "/tmp/ipykernel_8758/475506173.py:10: UserWarning: To copy construct from a tensor, it is recommended to use sourceTensor.clone().detach() or sourceTensor.clone().detach().requires_grad_(True), rather than torch.tensor(sourceTensor).\n",
      "  return self.data[idx], torch.tensor(self.labels[idx])\n"
     ]
    },
    {
     "name": "stdout",
     "output_type": "stream",
     "text": [
      "Epoch 73/100 | Train Loss: 0.0588 | F1: 0.4812 | P: 0.4910 | R: 0.4717 | Acc: 0.4913\n"
     ]
    },
    {
     "name": "stderr",
     "output_type": "stream",
     "text": [
      "/tmp/ipykernel_8758/475506173.py:10: UserWarning: To copy construct from a tensor, it is recommended to use sourceTensor.clone().detach() or sourceTensor.clone().detach().requires_grad_(True), rather than torch.tensor(sourceTensor).\n",
      "  return self.data[idx], torch.tensor(self.labels[idx])\n"
     ]
    },
    {
     "name": "stdout",
     "output_type": "stream",
     "text": [
      "Epoch 74/100 | Train Loss: 0.0541 | F1: 0.5036 | P: 0.5016 | R: 0.5055 | Acc: 0.5017\n"
     ]
    },
    {
     "name": "stderr",
     "output_type": "stream",
     "text": [
      "/tmp/ipykernel_8758/475506173.py:10: UserWarning: To copy construct from a tensor, it is recommended to use sourceTensor.clone().detach() or sourceTensor.clone().detach().requires_grad_(True), rather than torch.tensor(sourceTensor).\n",
      "  return self.data[idx], torch.tensor(self.labels[idx])\n"
     ]
    },
    {
     "name": "stdout",
     "output_type": "stream",
     "text": [
      "Epoch 75/100 | Train Loss: 0.0449 | F1: 0.5166 | P: 0.5012 | R: 0.5331 | Acc: 0.5012\n"
     ]
    },
    {
     "name": "stderr",
     "output_type": "stream",
     "text": [
      "/tmp/ipykernel_8758/475506173.py:10: UserWarning: To copy construct from a tensor, it is recommended to use sourceTensor.clone().detach() or sourceTensor.clone().detach().requires_grad_(True), rather than torch.tensor(sourceTensor).\n",
      "  return self.data[idx], torch.tensor(self.labels[idx])\n"
     ]
    },
    {
     "name": "stdout",
     "output_type": "stream",
     "text": [
      "Epoch 76/100 | Train Loss: 0.0539 | F1: 0.4681 | P: 0.4899 | R: 0.4481 | Acc: 0.4907\n"
     ]
    },
    {
     "name": "stderr",
     "output_type": "stream",
     "text": [
      "/tmp/ipykernel_8758/475506173.py:10: UserWarning: To copy construct from a tensor, it is recommended to use sourceTensor.clone().detach() or sourceTensor.clone().detach().requires_grad_(True), rather than torch.tensor(sourceTensor).\n",
      "  return self.data[idx], torch.tensor(self.labels[idx])\n"
     ]
    },
    {
     "name": "stdout",
     "output_type": "stream",
     "text": [
      "Epoch 77/100 | Train Loss: 0.0502 | F1: 0.4906 | P: 0.5027 | R: 0.4791 | Acc: 0.5025\n"
     ]
    },
    {
     "name": "stderr",
     "output_type": "stream",
     "text": [
      "/tmp/ipykernel_8758/475506173.py:10: UserWarning: To copy construct from a tensor, it is recommended to use sourceTensor.clone().detach() or sourceTensor.clone().detach().requires_grad_(True), rather than torch.tensor(sourceTensor).\n",
      "  return self.data[idx], torch.tensor(self.labels[idx])\n"
     ]
    },
    {
     "name": "stdout",
     "output_type": "stream",
     "text": [
      "Epoch 78/100 | Train Loss: 0.0544 | F1: 0.4616 | P: 0.4924 | R: 0.4345 | Acc: 0.4933\n"
     ]
    },
    {
     "name": "stderr",
     "output_type": "stream",
     "text": [
      "/tmp/ipykernel_8758/475506173.py:10: UserWarning: To copy construct from a tensor, it is recommended to use sourceTensor.clone().detach() or sourceTensor.clone().detach().requires_grad_(True), rather than torch.tensor(sourceTensor).\n",
      "  return self.data[idx], torch.tensor(self.labels[idx])\n"
     ]
    },
    {
     "name": "stdout",
     "output_type": "stream",
     "text": [
      "Epoch 79/100 | Train Loss: 0.0437 | F1: 0.4826 | P: 0.4976 | R: 0.4686 | Acc: 0.4977\n"
     ]
    },
    {
     "name": "stderr",
     "output_type": "stream",
     "text": [
      "/tmp/ipykernel_8758/475506173.py:10: UserWarning: To copy construct from a tensor, it is recommended to use sourceTensor.clone().detach() or sourceTensor.clone().detach().requires_grad_(True), rather than torch.tensor(sourceTensor).\n",
      "  return self.data[idx], torch.tensor(self.labels[idx])\n"
     ]
    },
    {
     "name": "stdout",
     "output_type": "stream",
     "text": [
      "Epoch 80/100 | Train Loss: 0.0478 | F1: 0.4886 | P: 0.4951 | R: 0.4822 | Acc: 0.4952\n"
     ]
    },
    {
     "name": "stderr",
     "output_type": "stream",
     "text": [
      "/tmp/ipykernel_8758/475506173.py:10: UserWarning: To copy construct from a tensor, it is recommended to use sourceTensor.clone().detach() or sourceTensor.clone().detach().requires_grad_(True), rather than torch.tensor(sourceTensor).\n",
      "  return self.data[idx], torch.tensor(self.labels[idx])\n"
     ]
    },
    {
     "name": "stdout",
     "output_type": "stream",
     "text": [
      "Epoch 81/100 | Train Loss: 0.0647 | F1: 0.4839 | P: 0.4968 | R: 0.4716 | Acc: 0.4970\n"
     ]
    },
    {
     "name": "stderr",
     "output_type": "stream",
     "text": [
      "/tmp/ipykernel_8758/475506173.py:10: UserWarning: To copy construct from a tensor, it is recommended to use sourceTensor.clone().detach() or sourceTensor.clone().detach().requires_grad_(True), rather than torch.tensor(sourceTensor).\n",
      "  return self.data[idx], torch.tensor(self.labels[idx])\n"
     ]
    },
    {
     "name": "stdout",
     "output_type": "stream",
     "text": [
      "Epoch 82/100 | Train Loss: 0.0489 | F1: 0.4901 | P: 0.4981 | R: 0.4824 | Acc: 0.4981\n"
     ]
    },
    {
     "name": "stderr",
     "output_type": "stream",
     "text": [
      "/tmp/ipykernel_8758/475506173.py:10: UserWarning: To copy construct from a tensor, it is recommended to use sourceTensor.clone().detach() or sourceTensor.clone().detach().requires_grad_(True), rather than torch.tensor(sourceTensor).\n",
      "  return self.data[idx], torch.tensor(self.labels[idx])\n"
     ]
    },
    {
     "name": "stdout",
     "output_type": "stream",
     "text": [
      "Epoch 83/100 | Train Loss: 0.0485 | F1: 0.4818 | P: 0.4898 | R: 0.4741 | Acc: 0.4901\n"
     ]
    },
    {
     "name": "stderr",
     "output_type": "stream",
     "text": [
      "/tmp/ipykernel_8758/475506173.py:10: UserWarning: To copy construct from a tensor, it is recommended to use sourceTensor.clone().detach() or sourceTensor.clone().detach().requires_grad_(True), rather than torch.tensor(sourceTensor).\n",
      "  return self.data[idx], torch.tensor(self.labels[idx])\n"
     ]
    },
    {
     "name": "stdout",
     "output_type": "stream",
     "text": [
      "Epoch 84/100 | Train Loss: 0.0457 | F1: 0.4638 | P: 0.4884 | R: 0.4417 | Acc: 0.4895\n"
     ]
    },
    {
     "name": "stderr",
     "output_type": "stream",
     "text": [
      "/tmp/ipykernel_8758/475506173.py:10: UserWarning: To copy construct from a tensor, it is recommended to use sourceTensor.clone().detach() or sourceTensor.clone().detach().requires_grad_(True), rather than torch.tensor(sourceTensor).\n",
      "  return self.data[idx], torch.tensor(self.labels[idx])\n"
     ]
    },
    {
     "name": "stdout",
     "output_type": "stream",
     "text": [
      "Epoch 85/100 | Train Loss: 0.0400 | F1: 0.4726 | P: 0.4874 | R: 0.4588 | Acc: 0.4881\n"
     ]
    },
    {
     "name": "stderr",
     "output_type": "stream",
     "text": [
      "/tmp/ipykernel_8758/475506173.py:10: UserWarning: To copy construct from a tensor, it is recommended to use sourceTensor.clone().detach() or sourceTensor.clone().detach().requires_grad_(True), rather than torch.tensor(sourceTensor).\n",
      "  return self.data[idx], torch.tensor(self.labels[idx])\n"
     ]
    },
    {
     "name": "stdout",
     "output_type": "stream",
     "text": [
      "Epoch 86/100 | Train Loss: 0.0472 | F1: 0.4617 | P: 0.4892 | R: 0.4372 | Acc: 0.4904\n"
     ]
    },
    {
     "name": "stderr",
     "output_type": "stream",
     "text": [
      "/tmp/ipykernel_8758/475506173.py:10: UserWarning: To copy construct from a tensor, it is recommended to use sourceTensor.clone().detach() or sourceTensor.clone().detach().requires_grad_(True), rather than torch.tensor(sourceTensor).\n",
      "  return self.data[idx], torch.tensor(self.labels[idx])\n"
     ]
    },
    {
     "name": "stdout",
     "output_type": "stream",
     "text": [
      "Epoch 87/100 | Train Loss: 0.0452 | F1: 0.4807 | P: 0.4941 | R: 0.4680 | Acc: 0.4944\n"
     ]
    },
    {
     "name": "stderr",
     "output_type": "stream",
     "text": [
      "/tmp/ipykernel_8758/475506173.py:10: UserWarning: To copy construct from a tensor, it is recommended to use sourceTensor.clone().detach() or sourceTensor.clone().detach().requires_grad_(True), rather than torch.tensor(sourceTensor).\n",
      "  return self.data[idx], torch.tensor(self.labels[idx])\n"
     ]
    },
    {
     "name": "stdout",
     "output_type": "stream",
     "text": [
      "Epoch 88/100 | Train Loss: 0.0518 | F1: 0.4773 | P: 0.4907 | R: 0.4647 | Acc: 0.4912\n"
     ]
    },
    {
     "name": "stderr",
     "output_type": "stream",
     "text": [
      "/tmp/ipykernel_8758/475506173.py:10: UserWarning: To copy construct from a tensor, it is recommended to use sourceTensor.clone().detach() or sourceTensor.clone().detach().requires_grad_(True), rather than torch.tensor(sourceTensor).\n",
      "  return self.data[idx], torch.tensor(self.labels[idx])\n"
     ]
    },
    {
     "name": "stdout",
     "output_type": "stream",
     "text": [
      "Epoch 89/100 | Train Loss: 0.0441 | F1: 0.4616 | P: 0.4920 | R: 0.4347 | Acc: 0.4929\n"
     ]
    },
    {
     "name": "stderr",
     "output_type": "stream",
     "text": [
      "/tmp/ipykernel_8758/475506173.py:10: UserWarning: To copy construct from a tensor, it is recommended to use sourceTensor.clone().detach() or sourceTensor.clone().detach().requires_grad_(True), rather than torch.tensor(sourceTensor).\n",
      "  return self.data[idx], torch.tensor(self.labels[idx])\n"
     ]
    },
    {
     "name": "stdout",
     "output_type": "stream",
     "text": [
      "Epoch 90/100 | Train Loss: 0.0512 | F1: 0.5154 | P: 0.4964 | R: 0.5359 | Acc: 0.4962\n"
     ]
    },
    {
     "name": "stderr",
     "output_type": "stream",
     "text": [
      "/tmp/ipykernel_8758/475506173.py:10: UserWarning: To copy construct from a tensor, it is recommended to use sourceTensor.clone().detach() or sourceTensor.clone().detach().requires_grad_(True), rather than torch.tensor(sourceTensor).\n",
      "  return self.data[idx], torch.tensor(self.labels[idx])\n"
     ]
    },
    {
     "name": "stdout",
     "output_type": "stream",
     "text": [
      "Epoch 91/100 | Train Loss: 0.0380 | F1: 0.4742 | P: 0.4896 | R: 0.4597 | Acc: 0.4903\n"
     ]
    },
    {
     "name": "stderr",
     "output_type": "stream",
     "text": [
      "/tmp/ipykernel_8758/475506173.py:10: UserWarning: To copy construct from a tensor, it is recommended to use sourceTensor.clone().detach() or sourceTensor.clone().detach().requires_grad_(True), rather than torch.tensor(sourceTensor).\n",
      "  return self.data[idx], torch.tensor(self.labels[idx])\n"
     ]
    },
    {
     "name": "stdout",
     "output_type": "stream",
     "text": [
      "Epoch 92/100 | Train Loss: 0.0445 | F1: 0.4643 | P: 0.4914 | R: 0.4401 | Acc: 0.4923\n"
     ]
    },
    {
     "name": "stderr",
     "output_type": "stream",
     "text": [
      "/tmp/ipykernel_8758/475506173.py:10: UserWarning: To copy construct from a tensor, it is recommended to use sourceTensor.clone().detach() or sourceTensor.clone().detach().requires_grad_(True), rather than torch.tensor(sourceTensor).\n",
      "  return self.data[idx], torch.tensor(self.labels[idx])\n"
     ]
    },
    {
     "name": "stdout",
     "output_type": "stream",
     "text": [
      "Epoch 93/100 | Train Loss: 0.0351 | F1: 0.4363 | P: 0.4882 | R: 0.3943 | Acc: 0.4904\n"
     ]
    },
    {
     "name": "stderr",
     "output_type": "stream",
     "text": [
      "/tmp/ipykernel_8758/475506173.py:10: UserWarning: To copy construct from a tensor, it is recommended to use sourceTensor.clone().detach() or sourceTensor.clone().detach().requires_grad_(True), rather than torch.tensor(sourceTensor).\n",
      "  return self.data[idx], torch.tensor(self.labels[idx])\n"
     ]
    },
    {
     "name": "stdout",
     "output_type": "stream",
     "text": [
      "Epoch 94/100 | Train Loss: 0.0448 | F1: 0.4809 | P: 0.5033 | R: 0.4604 | Acc: 0.5030\n"
     ]
    },
    {
     "name": "stderr",
     "output_type": "stream",
     "text": [
      "/tmp/ipykernel_8758/475506173.py:10: UserWarning: To copy construct from a tensor, it is recommended to use sourceTensor.clone().detach() or sourceTensor.clone().detach().requires_grad_(True), rather than torch.tensor(sourceTensor).\n",
      "  return self.data[idx], torch.tensor(self.labels[idx])\n"
     ]
    },
    {
     "name": "stdout",
     "output_type": "stream",
     "text": [
      "Epoch 95/100 | Train Loss: 0.0370 | F1: 0.4701 | P: 0.4906 | R: 0.4513 | Acc: 0.4913\n"
     ]
    },
    {
     "name": "stderr",
     "output_type": "stream",
     "text": [
      "/tmp/ipykernel_8758/475506173.py:10: UserWarning: To copy construct from a tensor, it is recommended to use sourceTensor.clone().detach() or sourceTensor.clone().detach().requires_grad_(True), rather than torch.tensor(sourceTensor).\n",
      "  return self.data[idx], torch.tensor(self.labels[idx])\n"
     ]
    },
    {
     "name": "stdout",
     "output_type": "stream",
     "text": [
      "Epoch 96/100 | Train Loss: 0.0477 | F1: 0.5150 | P: 0.5019 | R: 0.5287 | Acc: 0.5020\n"
     ]
    },
    {
     "name": "stderr",
     "output_type": "stream",
     "text": [
      "/tmp/ipykernel_8758/475506173.py:10: UserWarning: To copy construct from a tensor, it is recommended to use sourceTensor.clone().detach() or sourceTensor.clone().detach().requires_grad_(True), rather than torch.tensor(sourceTensor).\n",
      "  return self.data[idx], torch.tensor(self.labels[idx])\n"
     ]
    },
    {
     "name": "stdout",
     "output_type": "stream",
     "text": [
      "Epoch 97/100 | Train Loss: 0.0408 | F1: 0.4756 | P: 0.4934 | R: 0.4591 | Acc: 0.4939\n"
     ]
    },
    {
     "name": "stderr",
     "output_type": "stream",
     "text": [
      "/tmp/ipykernel_8758/475506173.py:10: UserWarning: To copy construct from a tensor, it is recommended to use sourceTensor.clone().detach() or sourceTensor.clone().detach().requires_grad_(True), rather than torch.tensor(sourceTensor).\n",
      "  return self.data[idx], torch.tensor(self.labels[idx])\n"
     ]
    },
    {
     "name": "stdout",
     "output_type": "stream",
     "text": [
      "Epoch 98/100 | Train Loss: 0.0441 | F1: 0.4800 | P: 0.4955 | R: 0.4655 | Acc: 0.4958\n"
     ]
    },
    {
     "name": "stderr",
     "output_type": "stream",
     "text": [
      "/tmp/ipykernel_8758/475506173.py:10: UserWarning: To copy construct from a tensor, it is recommended to use sourceTensor.clone().detach() or sourceTensor.clone().detach().requires_grad_(True), rather than torch.tensor(sourceTensor).\n",
      "  return self.data[idx], torch.tensor(self.labels[idx])\n"
     ]
    },
    {
     "name": "stdout",
     "output_type": "stream",
     "text": [
      "Epoch 99/100 | Train Loss: 0.0331 | F1: 0.5138 | P: 0.5009 | R: 0.5273 | Acc: 0.5009\n"
     ]
    },
    {
     "name": "stderr",
     "output_type": "stream",
     "text": [
      "/tmp/ipykernel_8758/475506173.py:10: UserWarning: To copy construct from a tensor, it is recommended to use sourceTensor.clone().detach() or sourceTensor.clone().detach().requires_grad_(True), rather than torch.tensor(sourceTensor).\n",
      "  return self.data[idx], torch.tensor(self.labels[idx])\n"
     ]
    },
    {
     "name": "stdout",
     "output_type": "stream",
     "text": [
      "Epoch 100/100 | Train Loss: 0.0364 | F1: 0.4835 | P: 0.4968 | R: 0.4709 | Acc: 0.4970\n"
     ]
    }
   ],
   "source": [
    "\n",
    "# === Training Loop ===\n",
    "best_f1 = 0.0\n",
    "train_loss_history, val_loss_history = [], []\n",
    "\n",
    "for epoch in tqdm(range(num_epochs), desc=\"Epochs\"):\n",
    "    model.train()\n",
    "    total_loss = 0.0\n",
    "\n",
    "    for inputs, labels in train_dataloader:\n",
    "        if inputs.shape[1] != labels.shape[1]:\n",
    "            continue\n",
    "        inputs = inputs.transpose(0, 1).to(device)      # [seq, batch, feature]\n",
    "        labels = labels.squeeze(0).to(device)\n",
    "\n",
    "        optimizer.zero_grad()\n",
    "        outputs, _ = model(inputs)\n",
    "        outputs = outputs.squeeze(1)                    # [seq]\n",
    "        loss = criterion(outputs, labels.float())\n",
    "        loss.backward()\n",
    "        optimizer.step()\n",
    "        total_loss += loss.item()\n",
    "\n",
    "    avg_train_loss = total_loss / len(train_dataloader)\n",
    "    train_loss_history.append(avg_train_loss)\n",
    "\n",
    "     # === Validation ===\n",
    "    model.eval()\n",
    "    all_preds, all_labels = [], []\n",
    "    with torch.no_grad():\n",
    "        for inputs, labels in val_dataloader:\n",
    "            if inputs.shape[1] != labels.shape[1]:\n",
    "                continue\n",
    "            inputs = inputs.transpose(0, 1).to(device)\n",
    "            labels = labels.squeeze(0).to(device)\n",
    "            outputs, _ = model(inputs)\n",
    "            outputs = outputs.squeeze(1)\n",
    "            probs = torch.sigmoid(outputs)  # ✅ apply sigmoid\n",
    "            all_preds.extend(probs.cpu().numpy())\n",
    "            all_labels.extend(labels.cpu().numpy())\n",
    "    \n",
    "    all_preds = np.array(all_preds)\n",
    "    all_labels = np.array(all_labels)\n",
    "    bin_preds = (all_preds > threshold).astype(int)\n",
    "    \n",
    "    f1 = f1_score(all_labels, bin_preds, zero_division=0)\n",
    "    precision = precision_score(all_labels, bin_preds, zero_division=0)\n",
    "    recall = recall_score(all_labels, bin_preds, zero_division=0)\n",
    "    acc = (bin_preds == all_labels).mean()\n",
    "    \n",
    "    # loss 계산 시 logits가 아닌 probs를 넣지 않도록 주의해야 함!\n",
    "    logits_tensor = torch.tensor(all_preds, dtype=torch.float32).to(device)\n",
    "    labels_tensor = torch.tensor(all_labels, dtype=torch.float32).to(device)\n",
    "    val_loss = criterion(logits_tensor.logit(), labels_tensor).item()  # 또는 원래 logits 저장해두고 사용\n",
    "    \n",
    "    val_loss_history.append(val_loss)\n",
    "    \n",
    "\n",
    "    print(f\"Epoch {epoch+1}/{num_epochs} | Train Loss: {avg_train_loss:.4f} | \"\n",
    "          f\"F1: {f1:.4f} | P: {precision:.4f} | R: {recall:.4f} | Acc: {acc:.4f}\")\n",
    "\n",
    "    # Save best model\n",
    "    if f1 > best_f1:\n",
    "        best_f1 = f1\n",
    "        print(f\"Best F1: {f1:.4f} | P: {precision:.4f} | R: {recall:.4f} | Acc: {acc:.4f}\")\n",
    "        #torch.save(model.state_dict(), f\"best_lstm_audio_model_epoch{epoch+1}.pt\")\n"
   ]
  },
  {
   "cell_type": "markdown",
   "metadata": {},
   "source": [
    "# Evaluation"
   ]
  },
  {
   "cell_type": "code",
   "execution_count": 86,
   "metadata": {},
   "outputs": [
    {
     "data": {
      "application/vnd.jupyter.widget-view+json": {
       "model_id": "5f32ea2939854d6e9a3ea9318a7520bd",
       "version_major": 2,
       "version_minor": 0
      },
      "text/plain": [
       "Evaluating on Test Set:   0%|          | 0/140 [00:00<?, ?it/s]"
      ]
     },
     "metadata": {},
     "output_type": "display_data"
    },
    {
     "name": "stderr",
     "output_type": "stream",
     "text": [
      "/tmp/ipykernel_8758/475506173.py:10: UserWarning: To copy construct from a tensor, it is recommended to use sourceTensor.clone().detach() or sourceTensor.clone().detach().requires_grad_(True), rather than torch.tensor(sourceTensor).\n",
      "  return self.data[idx], torch.tensor(self.labels[idx])\n"
     ]
    },
    {
     "data": {
      "image/png": "[encoded data removed]",
      "text/plain": [
       "<Figure size 1000x600 with 1 Axes>"
      ]
     },
     "metadata": {},
     "output_type": "display_data"
    }
   ],
   "source": [
    "from sklearn.metrics import roc_curve, auc\n",
    "import matplotlib.pyplot as plt\n",
    "import numpy as np\n",
    "from tqdm.notebook import tqdm\n",
    "\n",
    "# === Evaluation on Test Set ===\n",
    "model.eval()\n",
    "y_true = []\n",
    "y_score = []\n",
    "\n",
    "with torch.no_grad():\n",
    "    for inputs, labels in tqdm(test_dataloader, desc=\"Evaluating on Test Set\"):\n",
    "        if inputs.shape[1] != labels.shape[1]:\n",
    "            continue\n",
    "        inputs = inputs.transpose(0, 1).to(device)\n",
    "        labels = labels.squeeze(0).to(device)\n",
    "\n",
    "        logits, _ = model(inputs)                    # raw logits\n",
    "        logits = logits.squeeze(1)\n",
    "\n",
    "        probs = torch.sigmoid(logits)                # convert to probabilities\n",
    "        y_score.extend(probs.cpu().numpy())\n",
    "        y_true.extend(labels.cpu().numpy())\n",
    "\n",
    "# === Convert to NumPy arrays ===\n",
    "y_true = np.array(y_true)\n",
    "y_score = np.array(y_score)\n",
    "\n",
    "# === ROC Curve ===\n",
    "fpr, tpr, _ = roc_curve(y_true, y_score)\n",
    "roc_auc = auc(fpr, tpr)\n",
    "\n",
    "# === Plot ===\n",
    "plt.figure(figsize=(10, 6))\n",
    "plt.plot(fpr, tpr, color='darkorange', lw=2, label=f'ROC Curve (AUC = {roc_auc:.2f})')\n",
    "plt.plot([0, 1], [0, 1], color='navy', linestyle='--')\n",
    "plt.xlim([0.0, 1.0])\n",
    "plt.ylim([0.0, 1.05])\n",
    "plt.xlabel('False Positive Rate', fontsize=16)\n",
    "plt.ylabel('True Positive Rate', fontsize=16)\n",
    "plt.title('ROC Curve – Video and Audio-Only Highlight Detection Model', fontsize=20)\n",
    "plt.legend(loc=\"lower right\", fontsize=14)\n",
    "plt.grid(True)\n",
    "plt.tight_layout()\n",
    "plt.show()\n"
   ]
  },
  {
   "cell_type": "code",
   "execution_count": 87,
   "metadata": {},
   "outputs": [
    {
     "data": {
      "image/png": "[encoded data removed]",
      "text/plain": [
       "<Figure size 1200x700 with 1 Axes>"
      ]
     },
     "metadata": {},
     "output_type": "display_data"
    }
   ],
   "source": [
    "from sklearn.metrics import (\n",
    "    f1_score, accuracy_score, precision_score, recall_score\n",
    ")\n",
    "import pandas as pd\n",
    "import seaborn as sns\n",
    "\n",
    "# === Threshold-based Metric Calculation ===\n",
    "thresholds = np.arange(0.0, 1.05, 0.05)\n",
    "results = {\n",
    "    'Threshold': [],\n",
    "    'F1 Score': [],\n",
    "    'Accuracy': [],\n",
    "    'Precision': [],\n",
    "    'Recall': []\n",
    "}\n",
    "\n",
    "for t in thresholds:\n",
    "    y_pred = (y_score > t).astype(int)\n",
    "    results['Threshold'].append(t)\n",
    "    results['F1 Score'].append(f1_score(y_true, y_pred, zero_division=0))\n",
    "    results['Accuracy'].append(accuracy_score(y_true, y_pred))\n",
    "    results['Precision'].append(precision_score(y_true, y_pred, zero_division=0))\n",
    "    results['Recall'].append(recall_score(y_true, y_pred, zero_division=0))\n",
    "\n",
    "df_metrics = pd.DataFrame(results)\n",
    "\n",
    "# === Plot Threshold-based Metrics ===\n",
    "sns.set_style(\"whitegrid\")\n",
    "plt.figure(figsize=(12, 7))\n",
    "plt.plot(df_metrics['Threshold'], df_metrics['F1 Score'], label='F1 Score', color='royalblue', linestyle='-')\n",
    "plt.plot(df_metrics['Threshold'], df_metrics['Accuracy'], label='Accuracy', color='darkorange', linestyle='-')\n",
    "plt.plot(df_metrics['Threshold'], df_metrics['Precision'], label='Precision', color='seagreen', linestyle='-')\n",
    "plt.plot(df_metrics['Threshold'], df_metrics['Recall'], label='Recall', color='firebrick', linestyle='-')\n",
    "\n",
    "plt.title(\"Performance Metrics - Video and Audio-Only Highlight Detection Model\", fontsize=22)\n",
    "plt.xlabel(\"Threshold\", fontsize=16)\n",
    "plt.ylabel(\"Score\", fontsize=16)\n",
    "plt.legend(loc=\"upper left\", fontsize=14)\n",
    "plt.grid(True)\n",
    "plt.tight_layout()\n",
    "plt.show()"
   ]
  },
  {
   "cell_type": "code",
   "execution_count": 88,
   "metadata": {},
   "outputs": [
    {
     "name": "stdout",
     "output_type": "stream",
     "text": [
      "    Threshold  F1 Score  Accuracy  Precision    Recall\n",
      "0        0.00  0.666667  0.500000   0.500000  1.000000\n",
      "1        0.05  0.521250  0.502891   0.502685  0.541239\n",
      "2        0.10  0.509266  0.501652   0.501602  0.517168\n",
      "3        0.15  0.501091  0.500708   0.500707  0.501475\n",
      "4        0.20  0.493451  0.498053   0.498017  0.488968\n",
      "5        0.25  0.488195  0.497404   0.497307  0.479410\n",
      "6        0.30  0.483523  0.496991   0.496826  0.470914\n",
      "7        0.35  0.480117  0.497109   0.496907  0.464425\n",
      "8        0.40  0.476559  0.497404   0.497179  0.457581\n",
      "9        0.45  0.473114  0.497640   0.497398  0.451091\n",
      "10       0.50  0.470258  0.498230   0.498021  0.445428\n",
      "11       0.55  0.468293  0.499882   0.499866  0.440472\n",
      "12       0.60  0.463523  0.499351   0.499251  0.432566\n",
      "13       0.65  0.458421  0.498584   0.498337  0.424425\n",
      "14       0.70  0.454931  0.499115   0.498944  0.418053\n",
      "15       0.75  0.450275  0.499410   0.499282  0.410029\n",
      "16       0.80  0.444241  0.498407   0.498021  0.400944\n",
      "17       0.85  0.438912  0.498761   0.498425  0.392094\n",
      "18       0.90  0.432219  0.500118   0.500155  0.380531\n",
      "19       0.95  0.414088  0.498466   0.497846  0.354454\n",
      "20       1.00  0.000000  0.500000   0.000000  0.000000\n"
     ]
    }
   ],
   "source": [
    "import numpy as np\n",
    "import pandas as pd\n",
    "from sklearn.metrics import f1_score, accuracy_score, precision_score, recall_score\n",
    "\n",
    "# 1. numpy 배열로 변환\n",
    "y_true = np.array(y_true)\n",
    "y_score = np.array(y_score)\n",
    "\n",
    "# 2. 결과 저장용 리스트\n",
    "thresholds = np.arange(0, 1.05, 0.05)\n",
    "results = {\n",
    "    \"Threshold\": [],\n",
    "    \"F1 Score\": [],\n",
    "    \"Accuracy\": [],\n",
    "    \"Precision\": [],\n",
    "    \"Recall\": []\n",
    "}\n",
    "\n",
    "# 3. Threshold 별로 성능 계산\n",
    "for th in thresholds:\n",
    "    preds = (y_score > th).astype(int)\n",
    "\n",
    "    f1 = f1_score(y_true, preds, zero_division=0)\n",
    "    acc = accuracy_score(y_true, preds)\n",
    "    prec = precision_score(y_true, preds, zero_division=0)\n",
    "    rec = recall_score(y_true, preds, zero_division=0)\n",
    "\n",
    "    results[\"Threshold\"].append(th)\n",
    "    results[\"F1 Score\"].append(f1)\n",
    "    results[\"Accuracy\"].append(acc)\n",
    "    results[\"Precision\"].append(prec)\n",
    "    results[\"Recall\"].append(rec)\n",
    "\n",
    "# 4. DataFrame 으로 출력\n",
    "df_metrics = pd.DataFrame(results)\n",
    "print(df_metrics)\n"
   ]
  },
  {
   "cell_type": "markdown",
   "metadata": {},
   "source": [
    "# model save"
   ]
  },
  {
   "cell_type": "code",
   "execution_count": 75,
   "metadata": {},
   "outputs": [],
   "source": [
    "import torch\n",
    "from datetime import datetime\n",
    "import os\n",
    "\n",
    "current_time = datetime.now().strftime(\"%Y%m%d_%H%M\")\n",
    "save_dir = \"Model/Multimodal\"\n",
    "os.makedirs(save_dir, exist_ok=True)  # 디렉토리가 없으면 생성\n",
    "\n",
    "model_path = os.path.join(save_dir, f\"video+audio_only_highlight_detection_{current_time}.pt\")\n",
    "torch.save(model.state_dict(), model_path)\n",
    "\n"
   ]
  },
  {
   "cell_type": "code",
   "execution_count": null,
   "metadata": {},
   "outputs": [],
   "source": []
  }
 ],
 "metadata": {
  "kernelspec": {
   "display_name": "Python 3 (ipykernel)",
   "language": "python",
   "name": "python3"
  },
  "language_info": {
   "codemirror_mode": {
    "name": "ipython",
    "version": 3
   },
   "file_extension": ".py",
   "mimetype": "text/x-python",
   "name": "python",
   "nbconvert_exporter": "python",
   "pygments_lexer": "ipython3",
   "version": "3.11.6"
  }
 },
 "nbformat": 4,
 "nbformat_minor": 4
}
