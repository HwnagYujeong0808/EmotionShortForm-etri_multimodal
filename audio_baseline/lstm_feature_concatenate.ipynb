{
 "cells": [
  {
   "cell_type": "code",
   "execution_count": 3,
   "metadata": {},
   "outputs": [],
   "source": [
    "import librosa\n",
    "import random\n",
    "import pandas as pd\n",
    "import numpy as np\n",
    "import os\n",
    "import librosa\n",
    "\n",
    "import pickle\n",
    "\n",
    "from tqdm.auto import tqdm\n",
    "\n",
    "from sklearn.neural_network import MLPClassifier\n",
    "from sklearn.preprocessing import OneHotEncoder\n",
    "\n",
    "import warnings\n",
    "warnings.filterwarnings(action='ignore') \n",
    "\n",
    "import argparse\n",
    "import torch\n",
    "import torch.nn as nn"
   ]
  },
  {
   "cell_type": "code",
   "execution_count": 4,
   "metadata": {},
   "outputs": [
    {
     "name": "stdout",
     "output_type": "stream",
     "text": [
      "/workspace/EmotionShortForm\n"
     ]
    }
   ],
   "source": [
    "%cd /workspace/EmotionShortForm/"
   ]
  },
  {
   "cell_type": "markdown",
   "metadata": {},
   "source": [
    "## Video to Wav"
   ]
  },
  {
   "cell_type": "code",
   "execution_count": 8,
   "metadata": {},
   "outputs": [
    {
     "name": "stderr",
     "output_type": "stream",
     "text": [
      "chunk:   2%|▏         | 355/22798 [00:00<00:06, 3509.97it/s, now=None]"
     ]
    },
    {
     "name": "stdout",
     "output_type": "stream",
     "text": [
      "MoviePy - Writing audio in audio_data/audio2.wav\n"
     ]
    },
    {
     "name": "stderr",
     "output_type": "stream",
     "text": [
      "                                                                        "
     ]
    },
    {
     "name": "stdout",
     "output_type": "stream",
     "text": [
      "MoviePy - Done.\n"
     ]
    },
    {
     "name": "stderr",
     "output_type": "stream",
     "text": [
      "\r"
     ]
    }
   ],
   "source": [
    "from moviepy.editor import *\n",
    "\n",
    "video_path = 'video_data/[#유퀴즈온더블럭] MBTI 검사 같은 거 안 하는 서지니 형의 헤어나올 수 없는 매력😉 청문회 방불케 하는 츤데레의 인간화, 이서진 탐구 생활! _ #지금꼭볼동영상.mp4'\n",
    "\n",
    "audio_path = 'audio_data/audio2.wav'  # 추출할 오디오 파일 경로\n",
    "\n",
    "# Load movie file as VideoFileClip object\n",
    "clip = VideoFileClip(video_path)\n",
    "\n",
    "# audio extraction\n",
    "clip.audio.write_audiofile(audio_path)\n",
    "\n",
    "# 객체 삭제\n",
    "clip.close()"
   ]
  },
  {
   "cell_type": "code",
   "execution_count": 9,
   "metadata": {},
   "outputs": [],
   "source": [
    "import IPython\n",
    "IPython.display.Audio('audio_data/audio2.wav')"
   ]
  },
  {
   "cell_type": "markdown",
   "metadata": {},
   "source": [
    "## Trim Audio 2 sec"
   ]
  },
  {
   "cell_type": "code",
   "execution_count": 13,
   "metadata": {},
   "outputs": [
    {
     "data": {
      "application/vnd.jupyter.widget-view+json": {
       "model_id": "7c4fc02876774231a799d21ff5822ac7",
       "version_major": 2,
       "version_minor": 0
      },
      "text/plain": [
       "HBox(children=(HTML(value=''), FloatProgress(value=0.0, max=517.0), HTML(value='')))"
      ]
     },
     "metadata": {},
     "output_type": "display_data"
    },
    {
     "name": "stdout",
     "output_type": "stream",
     "text": [
      "\n"
     ]
    }
   ],
   "source": [
    "# wav 파일 불러오기\n",
    "audio_file = 'audio_data/audio2.wav'\n",
    "y, sr = librosa.load(audio_file)\n",
    "\n",
    "# define trim audio function\n",
    "def trim_audio_2_sec(y,sr):\n",
    "    # 2 sec 단위로 자르기\n",
    "    interval = 2 # 2 sec\n",
    "    sample_rate = sr * interval \n",
    "    audio_list = []\n",
    "    for i in tqdm(range(0, len(y), sample_rate)):\n",
    "        audio_list.append(y[i:i+sample_rate])\n",
    "    return audio_list\n",
    "\n",
    "audio_list = trim_audio_2_sec(y, sr)"
   ]
  },
  {
   "cell_type": "markdown",
   "metadata": {},
   "source": [
    "## Preprocessing"
   ]
  },
  {
   "cell_type": "code",
   "execution_count": 14,
   "metadata": {},
   "outputs": [],
   "source": [
    "CFG = {\n",
    "    'SR':16000,\n",
    "    'N_MFCC':32, # MFCC coefficient\n",
    "    'SEED':41\n",
    "}"
   ]
  },
  {
   "cell_type": "code",
   "execution_count": 16,
   "metadata": {},
   "outputs": [],
   "source": [
    "def preprocessing(audio_list, sr):\n",
    "    features = []\n",
    "    \n",
    "    for audio in tqdm(audio_list):\n",
    "        # mfcc\n",
    "        mfcc = librosa.feature.mfcc(y=y, sr=sr, n_mfcc=CFG['N_MFCC'])\n",
    " \n",
    "        y_feature = []\n",
    "        # 추출된 MFCC들의 평균을 Feature로 사용\n",
    "        for e in mfcc:\n",
    "            y_feature.append(np.mean(e))\n",
    "        features.append(y_feature)\n",
    "        \n",
    "#     mel_df = pd.DataFrame(features, columns=['mfcc_'+ str(x) for x in range(1,CFG['N_melspectrogram']+1)])\n",
    "    return features"
   ]
  },
  {
   "cell_type": "code",
   "execution_count": 18,
   "metadata": {},
   "outputs": [
    {
     "data": {
      "application/vnd.jupyter.widget-view+json": {
       "model_id": "347a3dd625e64b9bbd636ba85e1e9c98",
       "version_major": 2,
       "version_minor": 0
      },
      "text/plain": [
       "HBox(children=(HTML(value=''), FloatProgress(value=0.0, max=517.0), HTML(value='')))"
      ]
     },
     "metadata": {},
     "output_type": "display_data"
    },
    {
     "name": "stdout",
     "output_type": "stream",
     "text": [
      "\n"
     ]
    },
    {
     "ename": "KeyError",
     "evalue": "'N_melspectrogram'",
     "output_type": "error",
     "traceback": [
      "\u001b[0;31m---------------------------------------------------------------------------\u001b[0m",
      "\u001b[0;31mKeyError\u001b[0m                                  Traceback (most recent call last)",
      "\u001b[0;32m<ipython-input-18-0e1d2380b4f0>\u001b[0m in \u001b[0;36m<module>\u001b[0;34m\u001b[0m\n\u001b[1;32m      1\u001b[0m \u001b[0mfeatures\u001b[0m \u001b[0;34m=\u001b[0m \u001b[0mpreprocessing\u001b[0m\u001b[0;34m(\u001b[0m\u001b[0maudio_list\u001b[0m\u001b[0;34m,\u001b[0m\u001b[0msr\u001b[0m\u001b[0;34m)\u001b[0m\u001b[0;34m\u001b[0m\u001b[0;34m\u001b[0m\u001b[0m\n\u001b[0;32m----> 2\u001b[0;31m \u001b[0mmel_df\u001b[0m \u001b[0;34m=\u001b[0m \u001b[0mpd\u001b[0m\u001b[0;34m.\u001b[0m\u001b[0mDataFrame\u001b[0m\u001b[0;34m(\u001b[0m\u001b[0mfeatures\u001b[0m\u001b[0;34m,\u001b[0m \u001b[0mcolumns\u001b[0m\u001b[0;34m=\u001b[0m\u001b[0;34m[\u001b[0m\u001b[0;34m'mfcc_'\u001b[0m\u001b[0;34m+\u001b[0m \u001b[0mstr\u001b[0m\u001b[0;34m(\u001b[0m\u001b[0mx\u001b[0m\u001b[0;34m)\u001b[0m \u001b[0;32mfor\u001b[0m \u001b[0mx\u001b[0m \u001b[0;32min\u001b[0m \u001b[0mrange\u001b[0m\u001b[0;34m(\u001b[0m\u001b[0;36m1\u001b[0m\u001b[0;34m,\u001b[0m\u001b[0mCFG\u001b[0m\u001b[0;34m[\u001b[0m\u001b[0;34m'N_melspectrogram'\u001b[0m\u001b[0;34m]\u001b[0m\u001b[0;34m+\u001b[0m\u001b[0;36m1\u001b[0m\u001b[0;34m)\u001b[0m\u001b[0;34m]\u001b[0m\u001b[0;34m)\u001b[0m\u001b[0;34m\u001b[0m\u001b[0;34m\u001b[0m\u001b[0m\n\u001b[0m\u001b[1;32m      3\u001b[0m \u001b[0;34m\u001b[0m\u001b[0m\n",
      "\u001b[0;31mKeyError\u001b[0m: 'N_melspectrogram'"
     ]
    }
   ],
   "source": [
    "features = preprocessing(audio_list,sr)"
   ]
  },
  {
   "cell_type": "markdown",
   "metadata": {},
   "source": [
    "### Get MFCC data frame"
   ]
  },
  {
   "cell_type": "code",
   "execution_count": 19,
   "metadata": {},
   "outputs": [],
   "source": [
    "mfcc_df = pd.DataFrame(features, columns=['mfcc_'+ str(x) for x in range(1,CFG['N_MFCC']+1)])"
   ]
  },
  {
   "cell_type": "code",
   "execution_count": 21,
   "metadata": {},
   "outputs": [
    {
     "data": {
      "text/html": [
       "<div>\n",
       "<style scoped>\n",
       "    .dataframe tbody tr th:only-of-type {\n",
       "        vertical-align: middle;\n",
       "    }\n",
       "\n",
       "    .dataframe tbody tr th {\n",
       "        vertical-align: top;\n",
       "    }\n",
       "\n",
       "    .dataframe thead th {\n",
       "        text-align: right;\n",
       "    }\n",
       "</style>\n",
       "<table border=\"1\" class=\"dataframe\">\n",
       "  <thead>\n",
       "    <tr style=\"text-align: right;\">\n",
       "      <th></th>\n",
       "      <th>mfcc_1</th>\n",
       "      <th>mfcc_2</th>\n",
       "      <th>mfcc_3</th>\n",
       "      <th>mfcc_4</th>\n",
       "      <th>mfcc_5</th>\n",
       "      <th>mfcc_6</th>\n",
       "      <th>mfcc_7</th>\n",
       "      <th>mfcc_8</th>\n",
       "      <th>mfcc_9</th>\n",
       "      <th>mfcc_10</th>\n",
       "      <th>...</th>\n",
       "      <th>mfcc_23</th>\n",
       "      <th>mfcc_24</th>\n",
       "      <th>mfcc_25</th>\n",
       "      <th>mfcc_26</th>\n",
       "      <th>mfcc_27</th>\n",
       "      <th>mfcc_28</th>\n",
       "      <th>mfcc_29</th>\n",
       "      <th>mfcc_30</th>\n",
       "      <th>mfcc_31</th>\n",
       "      <th>mfcc_32</th>\n",
       "    </tr>\n",
       "  </thead>\n",
       "  <tbody>\n",
       "    <tr>\n",
       "      <th>0</th>\n",
       "      <td>-286.700317</td>\n",
       "      <td>85.89801</td>\n",
       "      <td>0.010341</td>\n",
       "      <td>9.878551</td>\n",
       "      <td>-14.822516</td>\n",
       "      <td>-8.270623</td>\n",
       "      <td>-11.34886</td>\n",
       "      <td>-12.601942</td>\n",
       "      <td>-15.246858</td>\n",
       "      <td>-2.847366</td>\n",
       "      <td>...</td>\n",
       "      <td>-5.54776</td>\n",
       "      <td>-3.748027</td>\n",
       "      <td>-3.769446</td>\n",
       "      <td>-1.98018</td>\n",
       "      <td>-3.236493</td>\n",
       "      <td>-0.577646</td>\n",
       "      <td>-2.656336</td>\n",
       "      <td>-0.195218</td>\n",
       "      <td>-2.301059</td>\n",
       "      <td>1.080843</td>\n",
       "    </tr>\n",
       "    <tr>\n",
       "      <th>1</th>\n",
       "      <td>-286.700317</td>\n",
       "      <td>85.89801</td>\n",
       "      <td>0.010341</td>\n",
       "      <td>9.878551</td>\n",
       "      <td>-14.822516</td>\n",
       "      <td>-8.270623</td>\n",
       "      <td>-11.34886</td>\n",
       "      <td>-12.601942</td>\n",
       "      <td>-15.246858</td>\n",
       "      <td>-2.847366</td>\n",
       "      <td>...</td>\n",
       "      <td>-5.54776</td>\n",
       "      <td>-3.748027</td>\n",
       "      <td>-3.769446</td>\n",
       "      <td>-1.98018</td>\n",
       "      <td>-3.236493</td>\n",
       "      <td>-0.577646</td>\n",
       "      <td>-2.656336</td>\n",
       "      <td>-0.195218</td>\n",
       "      <td>-2.301059</td>\n",
       "      <td>1.080843</td>\n",
       "    </tr>\n",
       "    <tr>\n",
       "      <th>2</th>\n",
       "      <td>-286.700317</td>\n",
       "      <td>85.89801</td>\n",
       "      <td>0.010341</td>\n",
       "      <td>9.878551</td>\n",
       "      <td>-14.822516</td>\n",
       "      <td>-8.270623</td>\n",
       "      <td>-11.34886</td>\n",
       "      <td>-12.601942</td>\n",
       "      <td>-15.246858</td>\n",
       "      <td>-2.847366</td>\n",
       "      <td>...</td>\n",
       "      <td>-5.54776</td>\n",
       "      <td>-3.748027</td>\n",
       "      <td>-3.769446</td>\n",
       "      <td>-1.98018</td>\n",
       "      <td>-3.236493</td>\n",
       "      <td>-0.577646</td>\n",
       "      <td>-2.656336</td>\n",
       "      <td>-0.195218</td>\n",
       "      <td>-2.301059</td>\n",
       "      <td>1.080843</td>\n",
       "    </tr>\n",
       "    <tr>\n",
       "      <th>3</th>\n",
       "      <td>-286.700317</td>\n",
       "      <td>85.89801</td>\n",
       "      <td>0.010341</td>\n",
       "      <td>9.878551</td>\n",
       "      <td>-14.822516</td>\n",
       "      <td>-8.270623</td>\n",
       "      <td>-11.34886</td>\n",
       "      <td>-12.601942</td>\n",
       "      <td>-15.246858</td>\n",
       "      <td>-2.847366</td>\n",
       "      <td>...</td>\n",
       "      <td>-5.54776</td>\n",
       "      <td>-3.748027</td>\n",
       "      <td>-3.769446</td>\n",
       "      <td>-1.98018</td>\n",
       "      <td>-3.236493</td>\n",
       "      <td>-0.577646</td>\n",
       "      <td>-2.656336</td>\n",
       "      <td>-0.195218</td>\n",
       "      <td>-2.301059</td>\n",
       "      <td>1.080843</td>\n",
       "    </tr>\n",
       "    <tr>\n",
       "      <th>4</th>\n",
       "      <td>-286.700317</td>\n",
       "      <td>85.89801</td>\n",
       "      <td>0.010341</td>\n",
       "      <td>9.878551</td>\n",
       "      <td>-14.822516</td>\n",
       "      <td>-8.270623</td>\n",
       "      <td>-11.34886</td>\n",
       "      <td>-12.601942</td>\n",
       "      <td>-15.246858</td>\n",
       "      <td>-2.847366</td>\n",
       "      <td>...</td>\n",
       "      <td>-5.54776</td>\n",
       "      <td>-3.748027</td>\n",
       "      <td>-3.769446</td>\n",
       "      <td>-1.98018</td>\n",
       "      <td>-3.236493</td>\n",
       "      <td>-0.577646</td>\n",
       "      <td>-2.656336</td>\n",
       "      <td>-0.195218</td>\n",
       "      <td>-2.301059</td>\n",
       "      <td>1.080843</td>\n",
       "    </tr>\n",
       "    <tr>\n",
       "      <th>...</th>\n",
       "      <td>...</td>\n",
       "      <td>...</td>\n",
       "      <td>...</td>\n",
       "      <td>...</td>\n",
       "      <td>...</td>\n",
       "      <td>...</td>\n",
       "      <td>...</td>\n",
       "      <td>...</td>\n",
       "      <td>...</td>\n",
       "      <td>...</td>\n",
       "      <td>...</td>\n",
       "      <td>...</td>\n",
       "      <td>...</td>\n",
       "      <td>...</td>\n",
       "      <td>...</td>\n",
       "      <td>...</td>\n",
       "      <td>...</td>\n",
       "      <td>...</td>\n",
       "      <td>...</td>\n",
       "      <td>...</td>\n",
       "      <td>...</td>\n",
       "    </tr>\n",
       "    <tr>\n",
       "      <th>512</th>\n",
       "      <td>-286.700317</td>\n",
       "      <td>85.89801</td>\n",
       "      <td>0.010341</td>\n",
       "      <td>9.878551</td>\n",
       "      <td>-14.822516</td>\n",
       "      <td>-8.270623</td>\n",
       "      <td>-11.34886</td>\n",
       "      <td>-12.601942</td>\n",
       "      <td>-15.246858</td>\n",
       "      <td>-2.847366</td>\n",
       "      <td>...</td>\n",
       "      <td>-5.54776</td>\n",
       "      <td>-3.748027</td>\n",
       "      <td>-3.769446</td>\n",
       "      <td>-1.98018</td>\n",
       "      <td>-3.236493</td>\n",
       "      <td>-0.577646</td>\n",
       "      <td>-2.656336</td>\n",
       "      <td>-0.195218</td>\n",
       "      <td>-2.301059</td>\n",
       "      <td>1.080843</td>\n",
       "    </tr>\n",
       "    <tr>\n",
       "      <th>513</th>\n",
       "      <td>-286.700317</td>\n",
       "      <td>85.89801</td>\n",
       "      <td>0.010341</td>\n",
       "      <td>9.878551</td>\n",
       "      <td>-14.822516</td>\n",
       "      <td>-8.270623</td>\n",
       "      <td>-11.34886</td>\n",
       "      <td>-12.601942</td>\n",
       "      <td>-15.246858</td>\n",
       "      <td>-2.847366</td>\n",
       "      <td>...</td>\n",
       "      <td>-5.54776</td>\n",
       "      <td>-3.748027</td>\n",
       "      <td>-3.769446</td>\n",
       "      <td>-1.98018</td>\n",
       "      <td>-3.236493</td>\n",
       "      <td>-0.577646</td>\n",
       "      <td>-2.656336</td>\n",
       "      <td>-0.195218</td>\n",
       "      <td>-2.301059</td>\n",
       "      <td>1.080843</td>\n",
       "    </tr>\n",
       "    <tr>\n",
       "      <th>514</th>\n",
       "      <td>-286.700317</td>\n",
       "      <td>85.89801</td>\n",
       "      <td>0.010341</td>\n",
       "      <td>9.878551</td>\n",
       "      <td>-14.822516</td>\n",
       "      <td>-8.270623</td>\n",
       "      <td>-11.34886</td>\n",
       "      <td>-12.601942</td>\n",
       "      <td>-15.246858</td>\n",
       "      <td>-2.847366</td>\n",
       "      <td>...</td>\n",
       "      <td>-5.54776</td>\n",
       "      <td>-3.748027</td>\n",
       "      <td>-3.769446</td>\n",
       "      <td>-1.98018</td>\n",
       "      <td>-3.236493</td>\n",
       "      <td>-0.577646</td>\n",
       "      <td>-2.656336</td>\n",
       "      <td>-0.195218</td>\n",
       "      <td>-2.301059</td>\n",
       "      <td>1.080843</td>\n",
       "    </tr>\n",
       "    <tr>\n",
       "      <th>515</th>\n",
       "      <td>-286.700317</td>\n",
       "      <td>85.89801</td>\n",
       "      <td>0.010341</td>\n",
       "      <td>9.878551</td>\n",
       "      <td>-14.822516</td>\n",
       "      <td>-8.270623</td>\n",
       "      <td>-11.34886</td>\n",
       "      <td>-12.601942</td>\n",
       "      <td>-15.246858</td>\n",
       "      <td>-2.847366</td>\n",
       "      <td>...</td>\n",
       "      <td>-5.54776</td>\n",
       "      <td>-3.748027</td>\n",
       "      <td>-3.769446</td>\n",
       "      <td>-1.98018</td>\n",
       "      <td>-3.236493</td>\n",
       "      <td>-0.577646</td>\n",
       "      <td>-2.656336</td>\n",
       "      <td>-0.195218</td>\n",
       "      <td>-2.301059</td>\n",
       "      <td>1.080843</td>\n",
       "    </tr>\n",
       "    <tr>\n",
       "      <th>516</th>\n",
       "      <td>-286.700317</td>\n",
       "      <td>85.89801</td>\n",
       "      <td>0.010341</td>\n",
       "      <td>9.878551</td>\n",
       "      <td>-14.822516</td>\n",
       "      <td>-8.270623</td>\n",
       "      <td>-11.34886</td>\n",
       "      <td>-12.601942</td>\n",
       "      <td>-15.246858</td>\n",
       "      <td>-2.847366</td>\n",
       "      <td>...</td>\n",
       "      <td>-5.54776</td>\n",
       "      <td>-3.748027</td>\n",
       "      <td>-3.769446</td>\n",
       "      <td>-1.98018</td>\n",
       "      <td>-3.236493</td>\n",
       "      <td>-0.577646</td>\n",
       "      <td>-2.656336</td>\n",
       "      <td>-0.195218</td>\n",
       "      <td>-2.301059</td>\n",
       "      <td>1.080843</td>\n",
       "    </tr>\n",
       "  </tbody>\n",
       "</table>\n",
       "<p>517 rows × 32 columns</p>\n",
       "</div>"
      ],
      "text/plain": [
       "         mfcc_1    mfcc_2    mfcc_3    mfcc_4     mfcc_5    mfcc_6    mfcc_7  \\\n",
       "0   -286.700317  85.89801  0.010341  9.878551 -14.822516 -8.270623 -11.34886   \n",
       "1   -286.700317  85.89801  0.010341  9.878551 -14.822516 -8.270623 -11.34886   \n",
       "2   -286.700317  85.89801  0.010341  9.878551 -14.822516 -8.270623 -11.34886   \n",
       "3   -286.700317  85.89801  0.010341  9.878551 -14.822516 -8.270623 -11.34886   \n",
       "4   -286.700317  85.89801  0.010341  9.878551 -14.822516 -8.270623 -11.34886   \n",
       "..          ...       ...       ...       ...        ...       ...       ...   \n",
       "512 -286.700317  85.89801  0.010341  9.878551 -14.822516 -8.270623 -11.34886   \n",
       "513 -286.700317  85.89801  0.010341  9.878551 -14.822516 -8.270623 -11.34886   \n",
       "514 -286.700317  85.89801  0.010341  9.878551 -14.822516 -8.270623 -11.34886   \n",
       "515 -286.700317  85.89801  0.010341  9.878551 -14.822516 -8.270623 -11.34886   \n",
       "516 -286.700317  85.89801  0.010341  9.878551 -14.822516 -8.270623 -11.34886   \n",
       "\n",
       "        mfcc_8     mfcc_9   mfcc_10  ...  mfcc_23   mfcc_24   mfcc_25  \\\n",
       "0   -12.601942 -15.246858 -2.847366  ... -5.54776 -3.748027 -3.769446   \n",
       "1   -12.601942 -15.246858 -2.847366  ... -5.54776 -3.748027 -3.769446   \n",
       "2   -12.601942 -15.246858 -2.847366  ... -5.54776 -3.748027 -3.769446   \n",
       "3   -12.601942 -15.246858 -2.847366  ... -5.54776 -3.748027 -3.769446   \n",
       "4   -12.601942 -15.246858 -2.847366  ... -5.54776 -3.748027 -3.769446   \n",
       "..         ...        ...       ...  ...      ...       ...       ...   \n",
       "512 -12.601942 -15.246858 -2.847366  ... -5.54776 -3.748027 -3.769446   \n",
       "513 -12.601942 -15.246858 -2.847366  ... -5.54776 -3.748027 -3.769446   \n",
       "514 -12.601942 -15.246858 -2.847366  ... -5.54776 -3.748027 -3.769446   \n",
       "515 -12.601942 -15.246858 -2.847366  ... -5.54776 -3.748027 -3.769446   \n",
       "516 -12.601942 -15.246858 -2.847366  ... -5.54776 -3.748027 -3.769446   \n",
       "\n",
       "     mfcc_26   mfcc_27   mfcc_28   mfcc_29   mfcc_30   mfcc_31   mfcc_32  \n",
       "0   -1.98018 -3.236493 -0.577646 -2.656336 -0.195218 -2.301059  1.080843  \n",
       "1   -1.98018 -3.236493 -0.577646 -2.656336 -0.195218 -2.301059  1.080843  \n",
       "2   -1.98018 -3.236493 -0.577646 -2.656336 -0.195218 -2.301059  1.080843  \n",
       "3   -1.98018 -3.236493 -0.577646 -2.656336 -0.195218 -2.301059  1.080843  \n",
       "4   -1.98018 -3.236493 -0.577646 -2.656336 -0.195218 -2.301059  1.080843  \n",
       "..       ...       ...       ...       ...       ...       ...       ...  \n",
       "512 -1.98018 -3.236493 -0.577646 -2.656336 -0.195218 -2.301059  1.080843  \n",
       "513 -1.98018 -3.236493 -0.577646 -2.656336 -0.195218 -2.301059  1.080843  \n",
       "514 -1.98018 -3.236493 -0.577646 -2.656336 -0.195218 -2.301059  1.080843  \n",
       "515 -1.98018 -3.236493 -0.577646 -2.656336 -0.195218 -2.301059  1.080843  \n",
       "516 -1.98018 -3.236493 -0.577646 -2.656336 -0.195218 -2.301059  1.080843  \n",
       "\n",
       "[517 rows x 32 columns]"
      ]
     },
     "execution_count": 21,
     "metadata": {},
     "output_type": "execute_result"
    }
   ],
   "source": [
    "mfcc_df"
   ]
  },
  {
   "cell_type": "markdown",
   "metadata": {},
   "source": [
    "## Model Load"
   ]
  },
  {
   "cell_type": "markdown",
   "metadata": {},
   "source": [
    "### Load emotion classification model"
   ]
  },
  {
   "cell_type": "code",
   "execution_count": 24,
   "metadata": {},
   "outputs": [],
   "source": [
    "import torch\n",
    "import torch.nn as nn\n",
    "\n",
    "class LSTM(nn.Module):\n",
    "    def __init__(self, input_size, hidden_size, num_layers, output_size):\n",
    "        super(LSTM, self).__init__()\n",
    "        self.hidden_size = hidden_size\n",
    "        self.num_layers = num_layers\n",
    "        self.lstm = nn.LSTM(input_size, hidden_size, num_layers, batch_first=True)\n",
    "        self.fc = nn.Linear(hidden_size, output_size)\n",
    "    \n",
    "    def forward(self, x):\n",
    "        h0 = torch.zeros(self.num_layers, x.size(0), self.hidden_size).to(x.device)\n",
    "        c0 = torch.zeros(self.num_layers, x.size(0), self.hidden_size).to(x.device)\n",
    "        out, (hidden_state, cell_state) = self.lstm(x, (h0, c0))\n",
    "        output = self.fc(out[:,-1,:])\n",
    "        hidden = self.fc(hidden_state[-1])\n",
    "        return output, hidden,  out[:,-1,:]"
   ]
  },
  {
   "cell_type": "code",
   "execution_count": 30,
   "metadata": {},
   "outputs": [],
   "source": [
    "input_size = 32\n",
    "hidden_size = 128\n",
    "num_layers=3\n",
    "output_size=7"
   ]
  },
  {
   "cell_type": "code",
   "execution_count": 36,
   "metadata": {},
   "outputs": [
    {
     "data": {
      "text/plain": [
       "<All keys matched successfully>"
      ]
     },
     "execution_count": 36,
     "metadata": {},
     "output_type": "execute_result"
    }
   ],
   "source": [
    "# load model\n",
    "\n",
    "model = LSTM(input_size, hidden_size, num_layers, output_size)\n",
    "model.load_state_dict(torch.load('./model/lstm_emotion_classification_model.pt'))"
   ]
  },
  {
   "cell_type": "code",
   "execution_count": 37,
   "metadata": {},
   "outputs": [],
   "source": [
    "criterion = nn.CrossEntropyLoss() # CrossEntropyLoss, BCEWithLogitsLoss\n",
    "optimizer = torch.optim.Adam(model.parameters(), lr=learning_rate,weight_decay=1e-5)"
   ]
  },
  {
   "cell_type": "code",
   "execution_count": 57,
   "metadata": {},
   "outputs": [],
   "source": [
    "test_emotion = torch.from_numpy(mfcc_df.to_numpy()).float()"
   ]
  },
  {
   "cell_type": "code",
   "execution_count": 58,
   "metadata": {},
   "outputs": [
    {
     "data": {
      "text/plain": [
       "torch.Size([517, 32])"
      ]
     },
     "execution_count": 58,
     "metadata": {},
     "output_type": "execute_result"
    }
   ],
   "source": [
    "test_emotion.shape"
   ]
  },
  {
   "cell_type": "code",
   "execution_count": 63,
   "metadata": {},
   "outputs": [
    {
     "name": "stdout",
     "output_type": "stream",
     "text": [
      "emotion_lstm_feature:tensor([[ 0.0902, -0.1575, -0.4638,  ...,  0.3098,  0.2971,  0.3810],\n",
      "        [ 0.0902, -0.1575, -0.4638,  ...,  0.3098,  0.2971,  0.3810],\n",
      "        [ 0.0902, -0.1575, -0.4638,  ...,  0.3098,  0.2971,  0.3810],\n",
      "        ...,\n",
      "        [ 0.0902, -0.1575, -0.4638,  ...,  0.3098,  0.2971,  0.3810],\n",
      "        [ 0.0902, -0.1575, -0.4638,  ...,  0.3098,  0.2971,  0.3810],\n",
      "        [ 0.0902, -0.1575, -0.4638,  ...,  0.3098,  0.2971,  0.3810]])\n",
      "torch.Size([517, 128])\n"
     ]
    }
   ],
   "source": [
    "with torch.no_grad():\n",
    "    model.eval()\n",
    "    outputs,hidden,out = model(test_emotion.unsqueeze(1))\n",
    "    emotion_lstm_feature = out\n",
    "    print(f'emotion_lstm_feature:{emotion_lstm_feature}') \n",
    "    print(emotion_lstm_feature.shape) ## 128 size"
   ]
  },
  {
   "cell_type": "markdown",
   "metadata": {},
   "source": [
    "### Load arousal model"
   ]
  },
  {
   "cell_type": "code",
   "execution_count": 52,
   "metadata": {},
   "outputs": [],
   "source": [
    "class LSTM(nn.Module):\n",
    "    def __init__(self, input_size, hidden_size, num_layers, output_size):\n",
    "        super(LSTM, self).__init__()\n",
    "        self.hidden_size = hidden_size\n",
    "        self.num_layers = num_layers\n",
    "        self.lstm = nn.LSTM(input_size, hidden_size, num_layers, batch_first=True)\n",
    "        self.fc = nn.Linear(hidden_size, output_size)\n",
    "    \n",
    "    def forward(self, x):\n",
    "        h0 = torch.zeros(self.num_layers, x.size(0), self.hidden_size).to(x.device)\n",
    "        c0 = torch.zeros(self.num_layers, x.size(0), self.hidden_size).to(x.device)\n",
    "        out, (hidden_state, cell_state) = self.lstm(x, (h0, c0))\n",
    "        output = self.fc(out[:,-1,:])\n",
    "        hidden = self.fc(hidden_state[-1])\n",
    "        return output, hidden,  out[:,-1,:]"
   ]
  },
  {
   "cell_type": "code",
   "execution_count": 54,
   "metadata": {},
   "outputs": [],
   "source": [
    "input_size = 32\n",
    "hidden_size =  64\n",
    "num_layers = 3\n",
    "output_size = 1\n",
    "learning_rate = 0.001"
   ]
  },
  {
   "cell_type": "code",
   "execution_count": 56,
   "metadata": {},
   "outputs": [],
   "source": [
    "# load model\n",
    "model_arousal = LSTM(input_size, hidden_size, num_layers, output_size)\n",
    "model_arousal.load_state_dict(torch.load('./model/lstm_arousal_model.pt'))\n",
    "criterion = nn.MSELoss()\n",
    "optimizer = torch.optim.Adam(model_arousal.parameters(), lr=learning_rate)\n"
   ]
  },
  {
   "cell_type": "code",
   "execution_count": 61,
   "metadata": {},
   "outputs": [
    {
     "data": {
      "text/plain": [
       "torch.Size([517, 32])"
      ]
     },
     "execution_count": 61,
     "metadata": {},
     "output_type": "execute_result"
    }
   ],
   "source": [
    "test_arousal = torch.from_numpy(mfcc_df.to_numpy()).float()\n",
    "test_arousal.shape"
   ]
  },
  {
   "cell_type": "code",
   "execution_count": 67,
   "metadata": {},
   "outputs": [
    {
     "name": "stdout",
     "output_type": "stream",
     "text": [
      "arousal_lstm_feature:tensor([[ 0.5654, -0.5263,  0.5208,  ..., -0.4331,  0.4324, -0.5674],\n",
      "        [ 0.5654, -0.5263,  0.5208,  ..., -0.4331,  0.4324, -0.5674],\n",
      "        [ 0.5654, -0.5263,  0.5208,  ..., -0.4331,  0.4324, -0.5674],\n",
      "        ...,\n",
      "        [ 0.5654, -0.5263,  0.5208,  ..., -0.4331,  0.4324, -0.5674],\n",
      "        [ 0.5654, -0.5263,  0.5208,  ..., -0.4331,  0.4324, -0.5674],\n",
      "        [ 0.5654, -0.5263,  0.5208,  ..., -0.4331,  0.4324, -0.5674]])\n",
      "torch.Size([517, 64])\n"
     ]
    }
   ],
   "source": [
    "with torch.no_grad():\n",
    "    model_arousal.eval()\n",
    "    outputs,hidden,out = model_arousal(test_arousal.unsqueeze(1))\n",
    "    arousal_lstm_feature = out\n",
    "    print(f'arousal_lstm_feature:{arousal_lstm_feature}') \n",
    "    print(arousal_lstm_feature.shape) ## 64 size"
   ]
  },
  {
   "cell_type": "markdown",
   "metadata": {},
   "source": [
    "### Load valence model"
   ]
  },
  {
   "cell_type": "code",
   "execution_count": 70,
   "metadata": {},
   "outputs": [],
   "source": [
    "class LSTM(nn.Module):\n",
    "    def __init__(self, input_size, hidden_size, num_layers, output_size):\n",
    "        super(LSTM, self).__init__()\n",
    "        self.hidden_size = hidden_size\n",
    "        self.num_layers = num_layers\n",
    "        self.lstm = nn.LSTM(input_size, hidden_size, num_layers, batch_first=True)\n",
    "        self.fc = nn.Linear(hidden_size, output_size)\n",
    "    \n",
    "    def forward(self, x):\n",
    "        h0 = torch.zeros(self.num_layers, x.size(0), self.hidden_size).to(x.device)\n",
    "        c0 = torch.zeros(self.num_layers, x.size(0), self.hidden_size).to(x.device)\n",
    "        out, (hidden_state, cell_state) = self.lstm(x, (h0, c0))\n",
    "        output = self.fc(out[:,-1,:])\n",
    "        hidden = self.fc(hidden_state[-1])\n",
    "        return output, hidden,  out[:,-1,:]"
   ]
  },
  {
   "cell_type": "code",
   "execution_count": 71,
   "metadata": {},
   "outputs": [],
   "source": [
    "input_size = 32\n",
    "hidden_size = 32 # 32\n",
    "num_layers = 4 # 2\n",
    "output_size = 1\n",
    "learning_rate = 0.001\n",
    "num_epochs = 100 # 200"
   ]
  },
  {
   "cell_type": "code",
   "execution_count": 72,
   "metadata": {},
   "outputs": [],
   "source": [
    "# load model\n",
    "model_valence = LSTM(input_size, hidden_size, num_layers, output_size)\n",
    "model_valence.load_state_dict(torch.load('./model/lstm_valence_model.pt'))\n",
    "criterion = nn.MSELoss()\n",
    "optimizer = torch.optim.Adam(model_valence.parameters(), lr=learning_rate)\n"
   ]
  },
  {
   "cell_type": "code",
   "execution_count": 73,
   "metadata": {},
   "outputs": [
    {
     "data": {
      "text/plain": [
       "torch.Size([517, 32])"
      ]
     },
     "execution_count": 73,
     "metadata": {},
     "output_type": "execute_result"
    }
   ],
   "source": [
    "test_valence = torch.from_numpy(mfcc_df.to_numpy()).float()\n",
    "test_valence.shape"
   ]
  },
  {
   "cell_type": "code",
   "execution_count": 74,
   "metadata": {},
   "outputs": [
    {
     "name": "stdout",
     "output_type": "stream",
     "text": [
      "valence_lstm_feature:tensor([[-0.3568, -0.2716,  0.0326,  ...,  0.5994,  0.5142, -0.6592],\n",
      "        [-0.3568, -0.2716,  0.0326,  ...,  0.5994,  0.5142, -0.6592],\n",
      "        [-0.3568, -0.2716,  0.0326,  ...,  0.5994,  0.5142, -0.6592],\n",
      "        ...,\n",
      "        [-0.3568, -0.2716,  0.0326,  ...,  0.5994,  0.5142, -0.6592],\n",
      "        [-0.3568, -0.2716,  0.0326,  ...,  0.5994,  0.5142, -0.6592],\n",
      "        [-0.3568, -0.2716,  0.0326,  ...,  0.5994,  0.5142, -0.6592]])\n",
      "torch.Size([517, 32])\n"
     ]
    }
   ],
   "source": [
    "with torch.no_grad():\n",
    "    model_valence.eval()\n",
    "    outputs,hidden,out = model_valence(test_valence.unsqueeze(1))\n",
    "    valence_lstm_feature = out\n",
    "    print(f'valence_lstm_feature:{valence_lstm_feature}') \n",
    "    print(valence_lstm_feature.shape) ## 32 size"
   ]
  },
  {
   "cell_type": "markdown",
   "metadata": {},
   "source": [
    "## Feature concatenation"
   ]
  },
  {
   "cell_type": "code",
   "execution_count": 80,
   "metadata": {},
   "outputs": [
    {
     "name": "stdout",
     "output_type": "stream",
     "text": [
      "torch.Size([517, 224])\n",
      "tensor([[ 0.0902, -0.1575, -0.4638,  ...,  0.5994,  0.5142, -0.6592],\n",
      "        [ 0.0902, -0.1575, -0.4638,  ...,  0.5994,  0.5142, -0.6592],\n",
      "        [ 0.0902, -0.1575, -0.4638,  ...,  0.5994,  0.5142, -0.6592],\n",
      "        ...,\n",
      "        [ 0.0902, -0.1575, -0.4638,  ...,  0.5994,  0.5142, -0.6592],\n",
      "        [ 0.0902, -0.1575, -0.4638,  ...,  0.5994,  0.5142, -0.6592],\n",
      "        [ 0.0902, -0.1575, -0.4638,  ...,  0.5994,  0.5142, -0.6592]])\n"
     ]
    }
   ],
   "source": [
    "import pandas as pd\n",
    "\n",
    "feature_combined = torch.cat((emotion_lstm_feature, arousal_lstm_feature, valence_lstm_feature), dim=1)\n",
    "\n",
    "print(feature_combined.shape) # 32 + 64 + 128 = 224\n",
    "print(feature_combined)"
   ]
  }
 ],
 "metadata": {
  "kernelspec": {
   "display_name": "Python 3",
   "language": "python",
   "name": "python3"
  },
  "language_info": {
   "codemirror_mode": {
    "name": "ipython",
    "version": 3
   },
   "file_extension": ".py",
   "mimetype": "text/x-python",
   "name": "python",
   "nbconvert_exporter": "python",
   "pygments_lexer": "ipython3",
   "version": "3.8.5"
  }
 },
 "nbformat": 4,
 "nbformat_minor": 4
}
