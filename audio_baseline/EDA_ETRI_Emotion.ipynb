{
 "cells": [
  {
   "cell_type": "code",
   "execution_count": 1,
   "metadata": {},
   "outputs": [
    {
     "name": "stdout",
     "output_type": "stream",
     "text": [
      "WARNING:tensorflow:Deprecation warnings have been disabled. Set TF_ENABLE_DEPRECATION_WARNINGS=1 to re-enable them.\n"
     ]
    }
   ],
   "source": [
    "import pandas as pd\n",
    "import numpy as np\n",
    "import matplotlib.pyplot as plt\n",
    "import seaborn as sns\n",
    "import os\n",
    "import warnings\n",
    "import tensorflow as tf\n",
    "from tqdm import tqdm\n",
    "from glob import glob\n",
    "\n",
    "import librosa\n",
    "import librosa.display as dsp\n",
    "import IPython.display as ipd\n",
    "\n",
    "warnings.filterwarnings(action='ignore')"
   ]
  },
  {
   "cell_type": "code",
   "execution_count": 3,
   "metadata": {},
   "outputs": [],
   "source": [
    "root = '/workspace/EmotionShortForm'\n",
    "os.chdir(root)"
   ]
  },
  {
   "cell_type": "markdown",
   "metadata": {},
   "source": [
    "## 시드 고정"
   ]
  },
  {
   "cell_type": "code",
   "execution_count": 4,
   "metadata": {},
   "outputs": [],
   "source": [
    "import random\n",
    "\n",
    "def seed_everything(seed):\n",
    "    random.seed(seed)\n",
    "    os.environ['PYTHONHASHSEED'] = str(seed)\n",
    "    np.random.seed(seed)\n",
    "    tf.set_random_seed(seed)\n",
    "\n",
    "seed_everything(42)"
   ]
  },
  {
   "cell_type": "markdown",
   "metadata": {},
   "source": [
    "## csv 파일로딩"
   ]
  },
  {
   "cell_type": "code",
   "execution_count": 6,
   "metadata": {},
   "outputs": [],
   "source": [
    "audio_data_path = 'data_audio'\n",
    "audio_train_data_path = os.path.join(audio_data_path,'train')\n",
    "audio_test_data_path = os.path.join(audio_data_path,'test')\n",
    "train = pd.read_csv(os.path.join(audio_data_path,'train.csv'))\n",
    "test = pd.read_csv(os.path.join(audio_data_path,'test.csv'))"
   ]
  },
  {
   "cell_type": "code",
   "execution_count": 7,
   "metadata": {},
   "outputs": [
    {
     "name": "stdout",
     "output_type": "stream",
     "text": [
      "(10769, 6)\n",
      "(2693, 6)\n"
     ]
    }
   ],
   "source": [
    "print(train.shape)\n",
    "print(test.shape)"
   ]
  },
  {
   "cell_type": "code",
   "execution_count": 8,
   "metadata": {},
   "outputs": [
    {
     "data": {
      "text/html": [
       "<div>\n",
       "<style scoped>\n",
       "    .dataframe tbody tr th:only-of-type {\n",
       "        vertical-align: middle;\n",
       "    }\n",
       "\n",
       "    .dataframe tbody tr th {\n",
       "        vertical-align: top;\n",
       "    }\n",
       "\n",
       "    .dataframe thead th {\n",
       "        text-align: right;\n",
       "    }\n",
       "</style>\n",
       "<table border=\"1\" class=\"dataframe\">\n",
       "  <thead>\n",
       "    <tr style=\"text-align: right;\">\n",
       "      <th></th>\n",
       "      <th>Unnamed: 0</th>\n",
       "      <th>SegmentId</th>\n",
       "      <th>time</th>\n",
       "      <th>Emotion</th>\n",
       "      <th>Valence</th>\n",
       "      <th>Arousal</th>\n",
       "    </tr>\n",
       "  </thead>\n",
       "  <tbody>\n",
       "    <tr>\n",
       "      <th>0</th>\n",
       "      <td>11164</td>\n",
       "      <td>Sess26_script04_User052F_010</td>\n",
       "      <td>7.785990</td>\n",
       "      <td>neutral</td>\n",
       "      <td>3.0</td>\n",
       "      <td>3.5</td>\n",
       "    </tr>\n",
       "    <tr>\n",
       "      <th>1</th>\n",
       "      <td>13031</td>\n",
       "      <td>Sess24_script03_User047F_009</td>\n",
       "      <td>12.188990</td>\n",
       "      <td>happy</td>\n",
       "      <td>3.4</td>\n",
       "      <td>3.6</td>\n",
       "    </tr>\n",
       "    <tr>\n",
       "      <th>2</th>\n",
       "      <td>1147</td>\n",
       "      <td>Sess09_script01_User018M_030</td>\n",
       "      <td>4.147000</td>\n",
       "      <td>neutral</td>\n",
       "      <td>2.6</td>\n",
       "      <td>3.1</td>\n",
       "    </tr>\n",
       "    <tr>\n",
       "      <th>3</th>\n",
       "      <td>6435</td>\n",
       "      <td>Sess14_script02_User028M_002</td>\n",
       "      <td>1.556999</td>\n",
       "      <td>neutral</td>\n",
       "      <td>3.6</td>\n",
       "      <td>3.1</td>\n",
       "    </tr>\n",
       "    <tr>\n",
       "      <th>4</th>\n",
       "      <td>7053</td>\n",
       "      <td>Sess32_script01_User064F_049</td>\n",
       "      <td>5.443000</td>\n",
       "      <td>neutral</td>\n",
       "      <td>3.0</td>\n",
       "      <td>3.5</td>\n",
       "    </tr>\n",
       "  </tbody>\n",
       "</table>\n",
       "</div>"
      ],
      "text/plain": [
       "   Unnamed: 0                     SegmentId       time  Emotion  Valence  \\\n",
       "0       11164  Sess26_script04_User052F_010   7.785990  neutral      3.0   \n",
       "1       13031  Sess24_script03_User047F_009  12.188990    happy      3.4   \n",
       "2        1147  Sess09_script01_User018M_030   4.147000  neutral      2.6   \n",
       "3        6435  Sess14_script02_User028M_002   1.556999  neutral      3.6   \n",
       "4        7053  Sess32_script01_User064F_049   5.443000  neutral      3.0   \n",
       "\n",
       "   Arousal  \n",
       "0      3.5  \n",
       "1      3.6  \n",
       "2      3.1  \n",
       "3      3.1  \n",
       "4      3.5  "
      ]
     },
     "execution_count": 8,
     "metadata": {},
     "output_type": "execute_result"
    }
   ],
   "source": [
    "train.head()"
   ]
  },
  {
   "cell_type": "markdown",
   "metadata": {},
   "source": [
    "## 오디오 데이터 불러오기\n"
   ]
  },
  {
   "cell_type": "code",
   "execution_count": 9,
   "metadata": {},
   "outputs": [],
   "source": [
    "sr = 20000 # 사운드 튜닝 하이퍼파라미터"
   ]
  },
  {
   "cell_type": "code",
   "execution_count": 10,
   "metadata": {},
   "outputs": [
    {
     "name": "stdout",
     "output_type": "stream",
     "text": [
      "Sess02_script02_User004M_012.wav\n",
      "sample_rate: 20000 , audio shape: (437100,)\n",
      "length: 21.855 secs\n",
      "\n",
      "\n",
      "Sess11_script04_User022M_011.wav\n",
      "sample_rate: 20000 , audio shape: (140600,)\n",
      "length: 7.03 secs\n",
      "\n",
      "\n",
      "Sess37_script02_User073F_012.wav\n",
      "sample_rate: 20000 , audio shape: (349720,)\n",
      "length: 17.486 secs\n",
      "\n",
      "\n"
     ]
    }
   ],
   "source": [
    "for i in os.listdir(audio_train_data_path)[:3]:\n",
    "  print(f'{i}')\n",
    "  data, sample_rate = librosa.load(os.path.join(audio_train_data_path,i), sr=sr)\n",
    "  print('sample_rate:', sample_rate, ', audio shape:', data.shape)\n",
    "  print('length:', data.shape[0]/float(sample_rate), 'secs')\n",
    "  print('\\n')"
   ]
  },
  {
   "cell_type": "code",
   "execution_count": 11,
   "metadata": {},
   "outputs": [
    {
     "data": {
      "text/plain": [
       "array(['neutral', 'happy', 'angry;neutral', 'happy;neutral',\n",
       "       'happy;surprise', 'surprise', 'angry', 'neutral;sad', 'sad',\n",
       "       'surprise;neutral', 'angry;neutral;disqust', 'happy;fear',\n",
       "       'disqust', 'neutral;fear', 'neutral;disqust', 'fear',\n",
       "       'happy;surprise;neutral', 'angry;disqust', 'happy;angry;neutral',\n",
       "       'happy;neutral;fear', 'happy;sad', 'happy;neutral;disqust'],\n",
       "      dtype=object)"
      ]
     },
     "execution_count": 11,
     "metadata": {},
     "output_type": "execute_result"
    }
   ],
   "source": [
    "train[\"Emotion\"].unique()"
   ]
  },
  {
   "cell_type": "code",
   "execution_count": 12,
   "metadata": {},
   "outputs": [
    {
     "data": {
      "text/html": [
       "<div>\n",
       "<style scoped>\n",
       "    .dataframe tbody tr th:only-of-type {\n",
       "        vertical-align: middle;\n",
       "    }\n",
       "\n",
       "    .dataframe tbody tr th {\n",
       "        vertical-align: top;\n",
       "    }\n",
       "\n",
       "    .dataframe thead th {\n",
       "        text-align: right;\n",
       "    }\n",
       "</style>\n",
       "<table border=\"1\" class=\"dataframe\">\n",
       "  <thead>\n",
       "    <tr style=\"text-align: right;\">\n",
       "      <th></th>\n",
       "      <th>Unnamed: 0</th>\n",
       "      <th>SegmentId</th>\n",
       "      <th>time</th>\n",
       "      <th>Emotion</th>\n",
       "      <th>Valence</th>\n",
       "      <th>Arousal</th>\n",
       "    </tr>\n",
       "  </thead>\n",
       "  <tbody>\n",
       "    <tr>\n",
       "      <th>0</th>\n",
       "      <td>11164</td>\n",
       "      <td>Sess26_script04_User052F_010</td>\n",
       "      <td>7.785990</td>\n",
       "      <td>neutral</td>\n",
       "      <td>3.0</td>\n",
       "      <td>3.5</td>\n",
       "    </tr>\n",
       "    <tr>\n",
       "      <th>1</th>\n",
       "      <td>13031</td>\n",
       "      <td>Sess24_script03_User047F_009</td>\n",
       "      <td>12.188990</td>\n",
       "      <td>happy</td>\n",
       "      <td>3.4</td>\n",
       "      <td>3.6</td>\n",
       "    </tr>\n",
       "    <tr>\n",
       "      <th>2</th>\n",
       "      <td>1147</td>\n",
       "      <td>Sess09_script01_User018M_030</td>\n",
       "      <td>4.147000</td>\n",
       "      <td>neutral</td>\n",
       "      <td>2.6</td>\n",
       "      <td>3.1</td>\n",
       "    </tr>\n",
       "    <tr>\n",
       "      <th>3</th>\n",
       "      <td>6435</td>\n",
       "      <td>Sess14_script02_User028M_002</td>\n",
       "      <td>1.556999</td>\n",
       "      <td>neutral</td>\n",
       "      <td>3.6</td>\n",
       "      <td>3.1</td>\n",
       "    </tr>\n",
       "    <tr>\n",
       "      <th>4</th>\n",
       "      <td>7053</td>\n",
       "      <td>Sess32_script01_User064F_049</td>\n",
       "      <td>5.443000</td>\n",
       "      <td>neutral</td>\n",
       "      <td>3.0</td>\n",
       "      <td>3.5</td>\n",
       "    </tr>\n",
       "  </tbody>\n",
       "</table>\n",
       "</div>"
      ],
      "text/plain": [
       "   Unnamed: 0                     SegmentId       time  Emotion  Valence  \\\n",
       "0       11164  Sess26_script04_User052F_010   7.785990  neutral      3.0   \n",
       "1       13031  Sess24_script03_User047F_009  12.188990    happy      3.4   \n",
       "2        1147  Sess09_script01_User018M_030   4.147000  neutral      2.6   \n",
       "3        6435  Sess14_script02_User028M_002   1.556999  neutral      3.6   \n",
       "4        7053  Sess32_script01_User064F_049   5.443000  neutral      3.0   \n",
       "\n",
       "   Arousal  \n",
       "0      3.5  \n",
       "1      3.6  \n",
       "2      3.1  \n",
       "3      3.1  \n",
       "4      3.5  "
      ]
     },
     "execution_count": 12,
     "metadata": {},
     "output_type": "execute_result"
    }
   ],
   "source": [
    "train.head()"
   ]
  },
  {
   "cell_type": "markdown",
   "metadata": {},
   "source": [
    "## EDA"
   ]
  },
  {
   "cell_type": "markdown",
   "metadata": {},
   "source": [
    "### train data의 감정 빈도 Bar Plot"
   ]
  },
  {
   "cell_type": "code",
   "execution_count": 13,
   "metadata": {},
   "outputs": [
    {
     "name": "stdout",
     "output_type": "stream",
     "text": [
      "{'neutral': 8880, 'happy': 962, 'angry;neutral': 68, 'happy;neutral': 275, 'happy;surprise': 5, 'surprise': 122, 'angry': 112, 'neutral;sad': 59, 'sad': 95, 'surprise;neutral': 47, 'angry;neutral;disqust': 2, 'happy;fear': 1, 'disqust': 46, 'neutral;fear': 16, 'neutral;disqust': 35, 'fear': 37, 'happy;surprise;neutral': 1, 'angry;disqust': 2, 'happy;angry;neutral': 1, 'happy;neutral;fear': 1, 'happy;sad': 1, 'happy;neutral;disqust': 1}\n"
     ]
    },
    {
     "data": {
      "image/png": "[encoded data removed]",
      "text/plain": [
       "<Figure size 432x288 with 1 Axes>"
      ]
     },
     "metadata": {
      "needs_background": "light"
     },
     "output_type": "display_data"
    }
   ],
   "source": [
    "import matplotlib.pyplot as plt\n",
    "import numpy as np\n",
    "\n",
    "# 빈도 계산\n",
    "data = train[\"Emotion\"]\n",
    "\n",
    "counts = {}\n",
    "for d in data:\n",
    "    if d in counts:\n",
    "        counts[d] += 1\n",
    "    else:\n",
    "        counts[d] = 1\n",
    "\n",
    "\n",
    "print(counts)\n",
    "# barplot 그리기\n",
    "plt.barh(list(counts.keys()), list(counts.values()), color='maroon')\n",
    "\n",
    "# 그래프 제목과 레이블 추가\n",
    "plt.title('Bar Plot')\n",
    "plt.xlabel('Frequency')\n",
    "plt.ylabel('Keys')\n",
    "\n",
    "plt.show()"
   ]
  },
  {
   "cell_type": "markdown",
   "metadata": {},
   "source": [
    "+  \"neutral\"을 고려 x "
   ]
  },
  {
   "cell_type": "code",
   "execution_count": 14,
   "metadata": {},
   "outputs": [
    {
     "name": "stdout",
     "output_type": "stream",
     "text": [
      "{'happy': 962, 'angry;neutral': 68, 'happy;neutral': 275, 'happy;surprise': 5, 'surprise': 122, 'angry': 112, 'neutral;sad': 59, 'sad': 95, 'surprise;neutral': 47, 'angry;neutral;disqust': 2, 'happy;fear': 1, 'disqust': 46, 'neutral;fear': 16, 'neutral;disqust': 35, 'fear': 37, 'happy;surprise;neutral': 1, 'angry;disqust': 2, 'happy;angry;neutral': 1, 'happy;neutral;fear': 1, 'happy;sad': 1, 'happy;neutral;disqust': 1}\n"
     ]
    },
    {
     "data": {
      "image/png": "[encoded data removed]",
      "text/plain": [
       "<Figure size 432x288 with 1 Axes>"
      ]
     },
     "metadata": {
      "needs_background": "light"
     },
     "output_type": "display_data"
    }
   ],
   "source": [
    "import matplotlib.pyplot as plt\n",
    "import numpy as np\n",
    "\n",
    "# 빈도 계산\n",
    "data = train[\"Emotion\"]\n",
    "\n",
    "counts = {}\n",
    "for d in data:\n",
    "    if d in counts:\n",
    "        counts[d] += 1\n",
    "    else:\n",
    "        counts[d] = 1\n",
    "counts.pop(\"neutral\")\n",
    "\n",
    "print(counts)\n",
    "# barplot 그리기\n",
    "plt.barh(list(counts.keys()), list(counts.values()), color='brown')\n",
    "\n",
    "# 그래프 제목과 레이블 추가\n",
    "plt.title('Bar Plot')\n",
    "plt.xlabel('Frequency')\n",
    "plt.ylabel('Keys')\n",
    "\n",
    "plt.show()\n",
    "\n"
   ]
  },
  {
   "cell_type": "markdown",
   "metadata": {},
   "source": [
    "+ 중복되는 감정 데이터셋에 대해 \"neutral\" 감정 제거"
   ]
  },
  {
   "cell_type": "code",
   "execution_count": 16,
   "metadata": {},
   "outputs": [
    {
     "name": "stdout",
     "output_type": "stream",
     "text": [
      "happy angry;neutral happy;neutral happy;surprise surprise angry neutral;sad sad surprise;neutral angry;neutral;disqust happy;fear disqust neutral;fear neutral;disqust fear happy;surprise;neutral angry;disqust happy;angry;neutral happy;neutral;fear happy;sad happy;neutral;disqust\n",
      "['happy', 'neutral', 'angry', 'fear', 'surprise', 'sad', 'disqust']\n",
      "{'happy': 1248, 'neutral': 9386, 'angry': 185, 'fear': 55, 'surprise': 175, 'sad': 155, 'disqust': 86}\n"
     ]
    },
    {
     "data": {
      "image/png": "[encoded data removed]",
      "text/plain": [
       "<Figure size 432x288 with 1 Axes>"
      ]
     },
     "metadata": {
      "needs_background": "light"
     },
     "output_type": "display_data"
    },
    {
     "data": {
      "image/png": "[encoded data removed]",
      "text/plain": [
       "<Figure size 432x288 with 1 Axes>"
      ]
     },
     "metadata": {
      "needs_background": "light"
     },
     "output_type": "display_data"
    }
   ],
   "source": [
    "import matplotlib.pyplot as plt\n",
    "import numpy as np\n",
    "\n",
    "# 빈도 계산\n",
    "data = train[\"Emotion\"]\n",
    "\n",
    "counts = {}\n",
    "for d in data:\n",
    "    if d in counts:\n",
    "        counts[d] += 1\n",
    "    else:\n",
    "        counts[d] = 1\n",
    "counts.pop(\"neutral\")\n",
    "key = list(counts.keys())\n",
    "str_key = \" \".join(key)\n",
    "print(str_key)\n",
    "str_key1= str_key.split(\";\") # 모든 emotion string 합친 뒤 세미콜론 기준 split\n",
    "\n",
    "for i in range(len(str_key1)):\n",
    "  str_key1[i]=str_key1[i].split(\" \") # 공백 기준 나누기\n",
    "str_key = sum(str_key1,[])\n",
    "# 중복 값 제거\n",
    "str_key = list(set(str_key))\n",
    "print(str_key)\n",
    "\n",
    "\n",
    "# 빈도 계산\n",
    "data = train[\"Emotion\"]\n",
    "\n",
    "counts = dict.fromkeys(str_key,0)\n",
    "for i in range(len(data)):\n",
    "  for j in str_key:\n",
    "    if j in data[i]:\n",
    "      # print(data[i])\n",
    "      counts[j] += 1\n",
    "    else:\n",
    "      continue\n",
    "     \n",
    "print(counts)\n",
    "\n",
    "\n",
    "# neutral 제거 전 barplot \n",
    "plt.barh(list(counts.keys()), list(counts.values()), color='lightseagreen')\n",
    "\n",
    "# 그래프 제목과 레이블 추가\n",
    "plt.title('Bar Plot with Neutral')\n",
    "plt.xlabel('Frequency')\n",
    "plt.ylabel('Keys')\n",
    "\n",
    "plt.show()\n",
    "\n",
    "# neutral 제거 후 barplot\n",
    "counts.pop(\"neutral\")\n",
    "\n",
    "plt.barh(list(counts.keys()), list(counts.values()), color='darkcyan')\n",
    "\n",
    "# 그래프 제목과 레이블 추가\n",
    "plt.title('Bar Plot without Neutral')\n",
    "plt.xlabel('Frequency')\n",
    "plt.ylabel('Keys')\n",
    "\n",
    "plt.show()\n"
   ]
  },
  {
   "cell_type": "markdown",
   "metadata": {},
   "source": [
    "## train, test 셋 분리"
   ]
  },
  {
   "cell_type": "code",
   "execution_count": 33,
   "metadata": {},
   "outputs": [
    {
     "name": "stdout",
     "output_type": "stream",
     "text": [
      "\u001b[33mWARNING: Running pip as the 'root' user can result in broken permissions and conflicting behaviour with the system package manager. It is recommended to use a virtual environment instead: https://pip.pypa.io/warnings/venv\u001b[0m\u001b[33m\n",
      "\u001b[0mRequirement already satisfied: pip in /usr/local/lib/python3.8/dist-packages (23.0.1)\n",
      "\u001b[33mWARNING: Running pip as the 'root' user can result in broken permissions and conflicting behaviour with the system package manager. It is recommended to use a virtual environment instead: https://pip.pypa.io/warnings/venv\u001b[0m\u001b[33m\n",
      "\u001b[0m"
     ]
    }
   ],
   "source": [
    "!pip install --upgrade --quiet jupyter_client ipywidgets\n",
    "!/usr/bin/python -m pip install --upgrade pip"
   ]
  },
  {
   "cell_type": "code",
   "execution_count": 34,
   "metadata": {},
   "outputs": [
    {
     "name": "stdout",
     "output_type": "stream",
     "text": [
      "Requirement already satisfied: ipywidgets in /usr/local/lib/python3.8/dist-packages (8.0.5)\n",
      "Requirement already satisfied: traitlets>=4.3.1 in /usr/local/lib/python3.8/dist-packages (from ipywidgets) (5.9.0)\n",
      "Requirement already satisfied: widgetsnbextension~=4.0 in /usr/local/lib/python3.8/dist-packages (from ipywidgets) (4.0.5)\n",
      "Requirement already satisfied: ipython>=6.1.0 in /usr/local/lib/python3.8/dist-packages (from ipywidgets) (7.19.0)\n",
      "Requirement already satisfied: jupyterlab-widgets~=3.0 in /usr/local/lib/python3.8/dist-packages (from ipywidgets) (3.0.5)\n",
      "Requirement already satisfied: pickleshare in /usr/local/lib/python3.8/dist-packages (from ipython>=6.1.0->ipywidgets) (0.7.5)\n",
      "Requirement already satisfied: backcall in /usr/local/lib/python3.8/dist-packages (from ipython>=6.1.0->ipywidgets) (0.2.0)\n",
      "Requirement already satisfied: decorator in /usr/local/lib/python3.8/dist-packages (from ipython>=6.1.0->ipywidgets) (4.4.2)\n",
      "Requirement already satisfied: jedi>=0.10 in /usr/local/lib/python3.8/dist-packages (from ipython>=6.1.0->ipywidgets) (0.17.2)\n",
      "Requirement already satisfied: pexpect>4.3 in /usr/local/lib/python3.8/dist-packages (from ipython>=6.1.0->ipywidgets) (4.7.0)\n",
      "Requirement already satisfied: setuptools>=18.5 in /usr/local/lib/python3.8/dist-packages (from ipython>=6.1.0->ipywidgets) (50.3.2)\n",
      "Requirement already satisfied: pygments in /usr/local/lib/python3.8/dist-packages (from ipython>=6.1.0->ipywidgets) (2.7.2)\n",
      "Requirement already satisfied: prompt-toolkit!=3.0.0,!=3.0.1,<3.1.0,>=2.0.0 in /usr/local/lib/python3.8/dist-packages (from ipython>=6.1.0->ipywidgets) (3.0.8)\n",
      "Requirement already satisfied: parso<0.8.0,>=0.7.0 in /usr/local/lib/python3.8/dist-packages (from jedi>=0.10->ipython>=6.1.0->ipywidgets) (0.7.1)\n",
      "Requirement already satisfied: ptyprocess>=0.5 in /usr/local/lib/python3.8/dist-packages (from pexpect>4.3->ipython>=6.1.0->ipywidgets) (0.6.0)\n",
      "Requirement already satisfied: wcwidth in /usr/local/lib/python3.8/dist-packages (from prompt-toolkit!=3.0.0,!=3.0.1,<3.1.0,>=2.0.0->ipython>=6.1.0->ipywidgets) (0.2.5)\n",
      "\u001b[33mWARNING: Running pip as the 'root' user can result in broken permissions and conflicting behaviour with the system package manager. It is recommended to use a virtual environment instead: https://pip.pypa.io/warnings/venv\u001b[0m\u001b[33m\n",
      "\u001b[0m"
     ]
    }
   ],
   "source": [
    "!pip install ipywidgets "
   ]
  },
  {
   "cell_type": "code",
   "execution_count": 35,
   "metadata": {},
   "outputs": [
    {
     "name": "stdout",
     "output_type": "stream",
     "text": [
      "Requirement already satisfied: pip in /usr/local/lib/python3.8/dist-packages (23.0.1)\n",
      "\u001b[33mWARNING: Running pip as the 'root' user can result in broken permissions and conflicting behaviour with the system package manager. It is recommended to use a virtual environment instead: https://pip.pypa.io/warnings/venv\u001b[0m\u001b[33m\n",
      "\u001b[0m"
     ]
    }
   ],
   "source": [
    "!pip3 install --upgrade pip"
   ]
  },
  {
   "cell_type": "code",
   "execution_count": 50,
   "metadata": {},
   "outputs": [],
   "source": [
    "# librosa feature extraction\n",
    "def input_preprocessing(audio, y, sr):\n",
    "  # chroma\n",
    "  chromagram = librosa.feature.chroma_stft(y, sr=sr, hop_length=512)\n",
    "  chroma_stft_mean =  chromagram.mean()\n",
    "  chroma_stft_var = chromagram.var()\n",
    "\n",
    "  # rms\n",
    "  rms = librosa.feature.rms(y,sr)\n",
    "  rms_mean = rms.mean()\n",
    "  rms_var = rms.var()\n",
    "\n",
    "  # spectral_centroid \n",
    "  spectral_centroids = librosa.feature.spectral_centroid(y, sr=sr)\n",
    "  spectral_centroid_mean =  spectral_centroids.mean()\n",
    "  spectral_centroid_var = spectral_centroids.var()\n",
    "  \n",
    "  # spectral_bandwidth\n",
    "  spectral_bandwidth = librosa.feature.spectral_bandwidth(y,sr=sr)\n",
    "  spectral_bandwidth_mean =  spectral_bandwidth.mean()\n",
    "  spectral_bandwidth_var = spectral_bandwidth.var()\n",
    "\n",
    "  # spectral_rolloff\n",
    "  spectral_rolloff = librosa.feature.spectral_rolloff(y, sr=sr)\n",
    "  rolloff_mean = spectral_rolloff.mean()\n",
    "  rolloff_var = spectral_rolloff.var()\n",
    "\n",
    "  # zero_crossing_rate\n",
    "  zero_crossing_rate = librosa.feature.zero_crossing_rate(y)\n",
    "  zero_crossing_rate_mean = zero_crossing_rate.mean()\n",
    "  zero_crossing_rate_var = zero_crossing_rate.var()\n",
    "\n",
    "  # harmony\n",
    "  y_harm, y_perc = librosa.effects.hpss(y)\n",
    "\n",
    "  harmony_mean = y_harm.mean()\n",
    "  harmony_var = y_harm.var()\n",
    "\n",
    "  # perceptr \n",
    "  perceptr_mean = y_perc.mean()\n",
    "  perceptr_var = y_perc.var()\n",
    "\n",
    "  # tempo\n",
    "  tempo, _ = librosa.beat.beat_track(y, sr=sr)\n",
    "\n",
    "  \n",
    "  # mfccs\n",
    "  mfccs_mean_lst = []\n",
    "  mfccs_var_lst = []\n",
    "\n",
    "  for j in range(20):\n",
    "    mfccs = librosa.feature.mfcc(y,sr=sr)[j]\n",
    "    mfccs_mean_lst.append(mfccs.mean())\n",
    "    mfccs_var_lst.append(mfccs.var())\n",
    "\n",
    "  # Make DataFrame\n",
    "\n",
    "  data = {'SegmentId':[audio], 'chroma_stft_mean':[chroma_stft_mean], 'chroma_stft_var':[chroma_stft_var], 'rms_mean':[rms_mean],\n",
    "        'rms_var':[rms_var], 'spectral_centroid_mean':[spectral_centroid_mean], 'spectral_centroid_var':[spectral_centroid_var],\n",
    "        'spectral_bandwidth_mean':[spectral_bandwidth_mean], 'spectral_bandwidth_var':[spectral_bandwidth_var], 'rolloff_mean':[rolloff_mean],\n",
    "        'rolloff_var':[rolloff_var], 'zero_crossing_rate_mean':[zero_crossing_rate_mean], 'zero_crossing_rate_var':[zero_crossing_rate_var],\n",
    "        'harmony_mean':[harmony_mean], 'harmony_var':[harmony_var], 'perceptr_mean':[perceptr_mean], 'perceptr_var':[perceptr_var], 'tempo':[tempo],\n",
    "        'mfcc1_mean':[mfccs_mean_lst[0]], 'mfcc1_var':[mfccs_var_lst[0]], 'mfcc2_mean':[mfccs_mean_lst[1]], 'mfcc2_var':[mfccs_var_lst[1]], 'mfcc3_mean':[mfccs_mean_lst[2]],\n",
    "        'mfcc3_var':[mfccs_var_lst[2]], 'mfcc4_mean':[mfccs_mean_lst[3]], 'mfcc4_var':[mfccs_var_lst[3]], 'mfcc5_mean':[mfccs_mean_lst[4]], 'mfcc5_var':[mfccs_mean_lst[4]],\n",
    "        'mfcc6_mean':[mfccs_mean_lst[5]], 'mfcc6_var':[mfccs_mean_lst[5]], 'mfcc7_mean':[mfccs_mean_lst[6]], 'mfcc7_var':[mfccs_mean_lst[6]], 'mfcc8_mean':[mfccs_mean_lst[7]],\n",
    "        'mfcc8_var':[mfccs_mean_lst[7]], 'mfcc9_mean':[mfccs_mean_lst[8]], 'mfcc9_var':[mfccs_mean_lst[8]], 'mfcc10_mean':[mfccs_mean_lst[9]], 'mfcc10_var':[mfccs_mean_lst[9]],\n",
    "        'mfcc11_mean':[mfccs_mean_lst[10]], 'mfcc11_var':[mfccs_mean_lst[10]], 'mfcc12_mean':[mfccs_mean_lst[11]], 'mfcc12_var':[mfccs_mean_lst[11]], 'mfcc13_mean':[mfccs_mean_lst[12]],\n",
    "        'mfcc13_var':[mfccs_mean_lst[12]], 'mfcc14_mean':[mfccs_mean_lst[13]], 'mfcc14_var':[mfccs_mean_lst[13]], 'mfcc15_mean':[mfccs_mean_lst[14]], 'mfcc15_var':[mfccs_mean_lst[14]],\n",
    "        'mfcc16_mean':[mfccs_mean_lst[15]], 'mfcc16_var':[mfccs_mean_lst[15]], 'mfcc17_mean':[mfccs_mean_lst[16]], 'mfcc17_var':[mfccs_mean_lst[16]], 'mfcc18_mean':[mfccs_mean_lst[17]],\n",
    "        'mfcc18_var':[mfccs_mean_lst[17]], 'mfcc19_mean':[mfccs_mean_lst[18]], 'mfcc19_var':[mfccs_mean_lst[18]], 'mfcc20_mean':[mfccs_mean_lst[19]], 'mfcc20_var':[mfccs_mean_lst[19]]}\n",
    "\n",
    "  append_set = pd.DataFrame(data=data)\n",
    "  \n",
    "  return append_set"
   ]
  },
  {
   "cell_type": "code",
   "execution_count": 36,
   "metadata": {},
   "outputs": [],
   "source": [
    "from tqdm.notebook import tqdm\n",
    "\n",
    "train_file_names = train[\"SegmentId\"].to_numpy()\n",
    "test_file_names = test[\"SegmentId\"].to_numpy()\n",
    "target = train[\"Emotion\"].to_numpy()\n",
    "def load_audio(file_names, target, path):   \n",
    "  audios = []\n",
    "  for audio in tqdm(file_names):\n",
    "    # librosa를 이용하여 데이터 로드\n",
    "#     an_audio, y = librosa.load(path+audio+\".wav\", sr=sr)\n",
    "#     audio_array = np.array(an_audio)\n",
    "#     audios.append(audio_array)\n",
    "#     audios = np.array(audios)\n",
    "      audio_array = {SegmentId}\n",
    "      y, sr = librosa.load(path+audio+\".wav\", sr=sr)\n",
    "      audio_array =  input_preprocessing(audio, y, sr)\n",
    "      audios = array.append(audio_array)\n",
    "      targets = target.copy()\n",
    "  audios_2 =  pd.DataFrame(audios)\n",
    "  \n",
    "  return audios_2, targets"
   ]
  },
  {
   "cell_type": "code",
   "execution_count": 37,
   "metadata": {},
   "outputs": [
    {
     "data": {
      "application/vnd.jupyter.widget-view+json": {
       "model_id": "eac2dcd4b392420bad1c2797d9a8f469",
       "version_major": 2,
       "version_minor": 0
      },
      "text/plain": [
       "HBox(children=(HTML(value=''), FloatProgress(value=0.0, max=10769.0), HTML(value='')))"
      ]
     },
     "metadata": {},
     "output_type": "display_data"
    },
    {
     "name": "stdout",
     "output_type": "stream",
     "text": [
      "\n"
     ]
    }
   ],
   "source": [
    "audio_train, target_train = load_audio(train_file_names, target, path='/workspace/EmotionShortForm/audio_data/train/')"
   ]
  },
  {
   "cell_type": "code",
   "execution_count": null,
   "metadata": {},
   "outputs": [
    {
     "data": {
      "application/vnd.jupyter.widget-view+json": {
       "model_id": "9f13c8c67f5e49cdb6073c439cd1b6a7",
       "version_major": 2,
       "version_minor": 0
      },
      "text/plain": [
       "HBox(children=(HTML(value=''), FloatProgress(value=0.0, max=2693.0), HTML(value='')))"
      ]
     },
     "metadata": {},
     "output_type": "display_data"
    }
   ],
   "source": [
    "audio_test, _ = load_audio(test_file_names, np.array([None]), path='/workspace/EmotionShortForm/audio_data/test/')"
   ]
  },
  {
   "cell_type": "code",
   "execution_count": 45,
   "metadata": {},
   "outputs": [
    {
     "data": {
      "text/plain": [
       "array([array([ 0.0014604 ,  0.00151886,  0.00136419, ..., -0.00223476,\n",
       "       -0.00231414, -0.00130135], dtype=float32),\n",
       "       array([0.00056384, 0.0009567 , 0.00077958, ..., 0.00094626, 0.00141279,\n",
       "       0.00125348], dtype=float32),\n",
       "       array([ 0.00043374,  0.00049454,  0.00040615, ..., -0.00207899,\n",
       "       -0.00241257, -0.00166413], dtype=float32),\n",
       "       ...,\n",
       "       array([ 0.00675598,  0.00761465,  0.00646641, ..., -0.00045254,\n",
       "       -0.00020506, -0.00026221], dtype=float32),\n",
       "       array([ 0.00046045,  0.000386  ,  0.00035168, ..., -0.00430046,\n",
       "        0.0050976 ,  0.0069371 ], dtype=float32),\n",
       "       array([-0.02013084, -0.02221882, -0.01872657, ..., -0.01763736,\n",
       "       -0.02140505, -0.01545861], dtype=float32)], dtype=object)"
      ]
     },
     "execution_count": 45,
     "metadata": {},
     "output_type": "execute_result"
    }
   ],
   "source": [
    "audio_test"
   ]
  },
  {
   "cell_type": "code",
   "execution_count": 46,
   "metadata": {},
   "outputs": [
    {
     "data": {
      "text/plain": [
       "<matplotlib.colorbar.Colorbar at 0x7f0416718df0>"
      ]
     },
     "execution_count": 46,
     "metadata": {},
     "output_type": "execute_result"
    },
    {
     "data": {
      "image/png": "[encoded data removed]",
      "text/plain": [
       "<Figure size 1008x1008 with 4 Axes>"
      ]
     },
     "metadata": {
      "needs_background": "light"
     },
     "output_type": "display_data"
    }
   ],
   "source": [
    "plt.figure(figsize=(14,14))\n",
    "ax = plt.subplot(2, 1, 1)\n",
    "\n",
    "\n",
    "ax = plt.subplot(2, 1, 1)\n",
    "S = librosa.feature.melspectrogram(audio_train[15], sr=sr, n_mels=40)\n",
    "log_S = librosa.power_to_db(S, ref=np.max)\n",
    "librosa.display.specshow(log_S, sr=sr)\n",
    "plt.title('Mel spectrogram')\n",
    "plt.xlabel(\"Time\")\n",
    "plt.ylabel(\"Frequency\")\n",
    "plt.colorbar(format='%+2.0f dB')\n",
    "\n",
    "ax = plt.subplot(2, 1, 2)\n",
    "mfcc = librosa.feature.mfcc(audio_train[15], sr=sr, n_mels=40)\n",
    "librosa.display.specshow(mfcc, sr=sr)\n",
    "plt.title('MFCC')\n",
    "plt.xlabel(\"Time\")\n",
    "plt.ylabel(\"MFCC coeffis\")\n",
    "plt.colorbar()"
   ]
  },
  {
   "cell_type": "code",
   "execution_count": null,
   "metadata": {},
   "outputs": [],
   "source": [
    "def random_pad(mels, pad_size, mfcc=True):\n",
    "\n",
    "  pad_width = pad_size - mels.shape[1]\n",
    "  rand = np.random.rand()\n",
    "  left = int(pad_width * rand)\n",
    "  right = pad_width - left\n",
    "  \n",
    "  if mfcc:\n",
    "    mels = np.pad(mels, pad_width=((0,0), (left, right)), mode='constant')\n",
    "    local_max, local_min = mels.max(), mels.min()\n",
    "    mels = (mels - local_min)/(local_max - local_min)\n",
    "  else:\n",
    "    local_max, local_min = mels.max(), mels.min()\n",
    "    mels = (mels - local_min)/(local_max - local_min)\n",
    "    mels = np.pad(mels, pad_width=((0,0), (left, right)), mode='constant')\n",
    "\n",
    "\n",
    "  return mels"
   ]
  },
  {
   "cell_type": "code",
   "execution_count": null,
   "metadata": {},
   "outputs": [],
   "source": []
  }
 ],
 "metadata": {
  "kernelspec": {
   "display_name": "Python 3",
   "language": "python",
   "name": "python3"
  },
  "language_info": {
   "codemirror_mode": {
    "name": "ipython",
    "version": 3
   },
   "file_extension": ".py",
   "mimetype": "text/x-python",
   "name": "python",
   "nbconvert_exporter": "python",
   "pygments_lexer": "ipython3",
   "version": "3.8.5"
  }
 },
 "nbformat": 4,
 "nbformat_minor": 4
}
