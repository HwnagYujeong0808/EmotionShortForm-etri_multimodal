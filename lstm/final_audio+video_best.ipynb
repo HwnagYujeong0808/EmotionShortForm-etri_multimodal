{
 "cells": [
  {
   "cell_type": "code",
   "execution_count": 1,
   "metadata": {},
   "outputs": [],
   "source": [
    "import os\n",
    "\n",
    "import argparse\n",
    "from collections import defaultdict\n",
    "import transformers\n",
    "import numpy as np\n",
    "import torch\n",
    "import torch.nn as nn\n",
    "from pytorch_lightning import LightningModule\n",
    "from torch import optim\n",
    "# from torchmetrics import F1\n",
    "from transformers import ViTModel\n",
    "import cv2\n",
    "from tqdm import tqdm\n",
    "import matplotlib.pyplot as plt\n",
    "from pathlib import Path\n",
    "import h5py\n",
    "import seaborn as sns\n",
    "from torch.utils.data import DataLoader, Dataset\n",
    "import math\n",
    "import json"
   ]
  },
  {
   "cell_type": "code",
   "execution_count": 2,
   "metadata": {},
   "outputs": [],
   "source": [
    "import torch\n",
    "from transformers import ViTImageProcessor\n",
    "import argparse\n",
    "from collections import defaultdict\n",
    "\n",
    "import numpy as np\n",
    "import torch\n",
    "import torch.nn as nn\n",
    "from torch import optim\n",
    "# from torchmetrics import F1\n",
    "from transformers import ViTModel\n",
    "\n",
    "from pytorch_lightning import LightningModule\n",
    "from tqdm import tqdm\n",
    "import matplotlib.pyplot as plt\n",
    "import cv2\n",
    "import seaborn as sns\n",
    "import numpy as np\n",
    "from moviepy.editor import VideoFileClip, concatenate_videoclips"
   ]
  },
  {
   "cell_type": "markdown",
   "metadata": {},
   "source": [
    "# 데이터"
   ]
  },
  {
   "cell_type": "code",
   "execution_count": 3,
   "metadata": {},
   "outputs": [],
   "source": [
    "class SummaryDataset(Dataset):\n",
    "    def __init__(self, video_dir, directory, video_features_file, max_seq_len=250):\n",
    "        self.directory = directory\n",
    "        self.video_names = self.get_video_names(video_dir)\n",
    "        self.video_features_file = video_features_file\n",
    "        self.max_seq_len = max_seq_len\n",
    "\n",
    "        # Because we can't use DDP with IterableDataset,\n",
    "        # data must be pre-chunked to combat OOM.\n",
    "        self.label_files = self.prefetch_label_files()\n",
    "        self.data_size, self.index_to_chunk, self.labels = self.prefetch_and_index()\n",
    "    \n",
    "    def get_video_names(self, mp4_dir):\n",
    "        # mp4 파일이 있는 디렉토리 경로\n",
    "        # mp4_dir = \"/workspace/EmotionShortForm/aihub/2.Validation/Video_data/VS_유튜브_04\"\n",
    "\n",
    "        video_names = []\n",
    "        for filename in os.listdir(mp4_dir):\n",
    "            if filename.endswith('.mp4'):\n",
    "                name = os.path.splitext(filename)[0]\n",
    "                video_names.append(name)\n",
    "        return video_names\n",
    "    \n",
    "    def prefetch_label_files(self):\n",
    "\n",
    "        name_set = set(self.video_names)\n",
    "\n",
    "        label_files = defaultdict(list)\n",
    "\n",
    "        for label_file in Path(self.directory).glob(f\"**/*.json\"):\n",
    "\n",
    "            file_name = label_file.stem\n",
    "\n",
    "            # 예시: [KBS]kim370_대법원 업무 과부하…상고 법원이 대안_18567498.json\n",
    "            # annotator id 제거하면 비디오 이름 추출.\n",
    "            # 파일 이름 reverse ([::-1]) 후 \"_\" 찾음.\n",
    "            annotator_id_index = len(file_name) - file_name[::-1].find(\"_\") - 1\n",
    "            video_name = file_name[:annotator_id_index]\n",
    "\n",
    "            if video_name in name_set:\n",
    "                label_files[video_name].append(label_file)\n",
    "        \n",
    "        \n",
    "        return label_files\n",
    "\n",
    "    def prefetch_and_index(self):\n",
    "        index = 0\n",
    "        index_to_chunk = {}\n",
    "        all_labels = {}\n",
    "\n",
    "        for video_name in self.video_names:\n",
    "\n",
    "#            if video_name == m\"news_footage_1710\":\n",
    "#                continue\n",
    "\n",
    "            labels = self.extract_label(video_name)\n",
    "#             print(len(labels)) # 3\n",
    "            all_labels[video_name] = labels\n",
    "        \n",
    "            chunk_count = math.ceil(len(labels[0]) / self.max_seq_len)\n",
    "            for chunk_index in range(0, chunk_count):\n",
    "                index_to_chunk[index + chunk_index] = (video_name, chunk_index)\n",
    "\n",
    "            index += chunk_count\n",
    "\n",
    "        return index, index_to_chunk, all_labels\n",
    "\n",
    "    def __len__(self):\n",
    "        return self.data_size\n",
    "\n",
    "    def __getitem__(self, index):\n",
    "\n",
    "        video_name, chunk_index = self.index_to_chunk[index]\n",
    "        start = chunk_index * self.max_seq_len \n",
    "\n",
    "        end = start + self.max_seq_len\n",
    "#         print(f'start: {start}, end: {end}')\n",
    "        with h5py.File(self.video_features_file, \"r\") as rf:\n",
    "\n",
    "            labels = self.labels[video_name][:, start:end]\n",
    "             # Convert labels to 1D array\n",
    "            \n",
    "#             video_features = rf[video_name][:][: len(labels[0])][start:end]\n",
    "            \n",
    "            video_features = rf[video_name][start:end]\n",
    "#             print(f'{len(video_features)}, {len(video_features[0])}')\n",
    "#             print(f'video_name: {video_name}, label len: {len(labels[0])}, video_features_len: {len(video_features)}')\n",
    "            labels = torch.from_numpy(labels)\n",
    "            # majority voting\n",
    "            labels = labels.squeeze(0)\n",
    "            labels = torch.sum(labels, dim=0) \n",
    "            labels = torch.min(\n",
    "                labels,\n",
    "                torch.ones(\n",
    "                    labels.shape[0],\n",
    "                ).to(labels.device),\n",
    "            )\n",
    "            return video_name, video_features, labels\n",
    "\n",
    "    def extract_label(self, video_name):\n",
    "\n",
    "        label_files = self.label_files[video_name]\n",
    "        labels = []\n",
    "\n",
    "        for label_file in label_files:\n",
    "\n",
    "            with open(label_file, \"r\") as rf:\n",
    "                data = json.load(rf)\n",
    "\n",
    "            metadata = data[\"metadata\"]\n",
    "            video_length = math.ceil(metadata[\"length\"])\n",
    "            annotator_label = np.zeros((video_length,))\n",
    "\n",
    "            for timeline in data[\"timelines\"]:\n",
    "                for time_index in range(timeline[\"start\"], timeline[\"end\"] + 1):\n",
    "                    # annotator_label[time_index] += 1\n",
    "                    if time_index < video_length:\n",
    "                        annotator_label[time_index] = 1\n",
    "\n",
    "            labels.append(annotator_label)\n",
    "\n",
    "        labels = np.array(labels)\n",
    "        return labels"
   ]
  },
  {
   "cell_type": "code",
   "execution_count": 4,
   "metadata": {},
   "outputs": [],
   "source": [
    "# mp4 파일이 있는 디렉토리 경로\n",
    "mp4_dir = \"/workspace/EmotionShortForm/data_AIHub/2.Validation/Video_data/VS_유튜브_01\"\n",
    "# video_name = '유튜브_기타_21516'\n",
    "# video_path = f'{mp4_dir}/{video_name}.mp4'\n",
    "args = argparse.Namespace(\n",
    "    videos = \"/workspace/EmotionShortForm/data_AIHub/2.Validation/Video_data/VS_유튜브_01\",\n",
    "    data_directory =  \"/workspace/EmotionShortForm/data_AIHub/2.Validation/Labeling_data/VL_youtube\",\n",
    "    video_features_file = \"/workspace/EmotionShortForm/data_AIHub/2.Validation/Video_data/VS_유튜브_01.h5\"\n",
    ")\n",
    "\n",
    "val_label_path = \"/workspace/EmotionShortForm/data_AIHub/2.Validation/Labeling_data/VL_youtube\""
   ]
  },
  {
   "cell_type": "markdown",
   "metadata": {},
   "source": [
    "# Model"
   ]
  },
  {
   "cell_type": "code",
   "execution_count": 5,
   "metadata": {},
   "outputs": [
    {
     "data": {
      "text/plain": [
       "'\\nif __name__ == \"__main__\":\\n\\n    parser = argparse.ArgumentParser()\\n    parser.add_argument(\"-a\", \"--argument\", help=\"Example argument\")\\n    args = parser.parse_args()\\n    \\n'"
      ]
     },
     "execution_count": 5,
     "metadata": {},
     "output_type": "execute_result"
    }
   ],
   "source": [
    "class SummaryModel(LightningModule):\n",
    "    def __init__(self, hidden_dim=768, individual_logs=None):\n",
    "        super().__init__()\n",
    "        self.vit = ViTModel.from_pretrained(\"google/vit-base-patch16-224-in21k\")\n",
    "        self.scorer = nn.Linear(hidden_dim, 1)\n",
    "        self.feature_extractor = nn.Identity() # Feature extraction layer\n",
    "      \n",
    "        # self.sigmoid = nn.Sigmoid()\n",
    "        self.loss = nn.BCEWithLogitsLoss()\n",
    "        # self.train_f1 = F1()\n",
    "        # self.val_f1 = F1()\n",
    "        # self.test_f1 = F1()\n",
    "        self.individual_logs = individual_logs\n",
    "        self.tta_logs = defaultdict(list)\n",
    "\n",
    "    def forward(self, x):\n",
    "        x = self.vit(x).pooler_output\n",
    "        score = self.scorer(x)\n",
    "        feature = self.feature_extractor(x) # extract features\n",
    "        # x = self.sigmoid(x)\n",
    "        return score, feature\n",
    "\n",
    "    def run_batch(self, batch, batch_idx, metric, training=False):\n",
    "        video_name, image_features, labels = batch\n",
    "        video_name = video_name[0]\n",
    "        image_features = image_features.squeeze(0)\n",
    "        labels = labels.squeeze(0)\n",
    "\n",
    "        # Score - aggregated labels.\n",
    "        score = torch.sum(labels, dim=0)\n",
    "        score = torch.min(\n",
    "            score,\n",
    "            torch.ones(\n",
    "                score.shape[0],\n",
    "            ).to(score.device),\n",
    "        )\n",
    "        out = self(image_features).squeeze(1)\n",
    "        try:\n",
    "            loss = self.loss(out.double(), score)\n",
    "            preds = (torch.sigmoid(out) > 0.7).int()\n",
    "            metric.update(preds, score.int())\n",
    "            f1 = metric.compute()\n",
    "            tp, fp, tn, fn = metric._get_final_stats()\n",
    "            self.tta_logs[video_name].append((tp.item(), fp.item(), fn.item()))\n",
    "        except Exception as e:\n",
    "            print(e)\n",
    "            loss = 0\n",
    "        return loss\n",
    "\n",
    "    def training_step(self, batch, batch_idx):\n",
    "        loss = self.run_batch(batch, batch_idx, self.train_f1, training=True)\n",
    "        self.log(\"train_loss\", loss)\n",
    "        return loss\n",
    "\n",
    "    def training_epoch_end(self, training_step_outputs):\n",
    "        self.log(\"train_f1\", self.train_f1.compute())\n",
    "        self.train_f1.reset()\n",
    "\n",
    "    def validation_step(self, batch, batch_idx):\n",
    "        loss = self.run_batch(batch, batch_idx, self.val_f1)\n",
    "        self.log(\"val_loss\", loss)\n",
    "        return loss\n",
    "\n",
    "    def validation_epoch_end(self, validation_step_outputs):\n",
    "        self.log(\"val_f1\", self.val_f1.compute())\n",
    "        self.val_f1.reset()\n",
    "\n",
    "    def test_step(self, batch, batch_idx):\n",
    "        loss = self.run_batch(batch, batch_idx, self.test_f1)\n",
    "        self.log(\"test_loss\", loss)\n",
    "        return loss\n",
    "\n",
    "    def test_epoch_end(self, outputs):\n",
    "        f1 = self.test_f1.compute()\n",
    "        self.log(\"test_f1\", f1)\n",
    "        tp, fp, tn, fn = self.test_f1._get_final_stats()\n",
    "        print(f\"\\nTest f1: {f1}, TP: {tp}, FP: {fp}, TN: {tn}, fn: {fn}\")\n",
    "        self.test_f1.reset()\n",
    "\n",
    "    def configure_optimizers(self):\n",
    "        optimizer = torch.optim.AdamW(self.parameters(), lr=1e-4)\n",
    "        return optimizer\n",
    "\n",
    "'''\n",
    "if __name__ == \"__main__\":\n",
    "\n",
    "    parser = argparse.ArgumentParser()\n",
    "    parser.add_argument(\"-a\", \"--argument\", help=\"Example argument\")\n",
    "    args = parser.parse_args()\n",
    "    \n",
    "'''"
   ]
  },
  {
   "cell_type": "code",
   "execution_count": 6,
   "metadata": {},
   "outputs": [],
   "source": [
    "from transformers import ViTImageProcessor\n",
    "preprocessor = ViTImageProcessor.from_pretrained(\n",
    "    \"google/vit-base-patch16-224\", size=224, device='cuda'\n",
    ")"
   ]
  },
  {
   "cell_type": "code",
   "execution_count": 7,
   "metadata": {
    "scrolled": true
   },
   "outputs": [
    {
     "data": {
      "text/plain": [
       "SummaryModel(\n",
       "  (vit): ViTModel(\n",
       "    (embeddings): ViTEmbeddings(\n",
       "      (patch_embeddings): ViTPatchEmbeddings(\n",
       "        (projection): Conv2d(3, 768, kernel_size=(16, 16), stride=(16, 16))\n",
       "      )\n",
       "      (dropout): Dropout(p=0.0, inplace=False)\n",
       "    )\n",
       "    (encoder): ViTEncoder(\n",
       "      (layer): ModuleList(\n",
       "        (0-11): 12 x ViTLayer(\n",
       "          (attention): ViTAttention(\n",
       "            (attention): ViTSelfAttention(\n",
       "              (query): Linear(in_features=768, out_features=768, bias=True)\n",
       "              (key): Linear(in_features=768, out_features=768, bias=True)\n",
       "              (value): Linear(in_features=768, out_features=768, bias=True)\n",
       "              (dropout): Dropout(p=0.0, inplace=False)\n",
       "            )\n",
       "            (output): ViTSelfOutput(\n",
       "              (dense): Linear(in_features=768, out_features=768, bias=True)\n",
       "              (dropout): Dropout(p=0.0, inplace=False)\n",
       "            )\n",
       "          )\n",
       "          (intermediate): ViTIntermediate(\n",
       "            (dense): Linear(in_features=768, out_features=3072, bias=True)\n",
       "            (intermediate_act_fn): GELUActivation()\n",
       "          )\n",
       "          (output): ViTOutput(\n",
       "            (dense): Linear(in_features=3072, out_features=768, bias=True)\n",
       "            (dropout): Dropout(p=0.0, inplace=False)\n",
       "          )\n",
       "          (layernorm_before): LayerNorm((768,), eps=1e-12, elementwise_affine=True)\n",
       "          (layernorm_after): LayerNorm((768,), eps=1e-12, elementwise_affine=True)\n",
       "        )\n",
       "      )\n",
       "    )\n",
       "    (layernorm): LayerNorm((768,), eps=1e-12, elementwise_affine=True)\n",
       "    (pooler): ViTPooler(\n",
       "      (dense): Linear(in_features=768, out_features=768, bias=True)\n",
       "      (activation): Tanh()\n",
       "    )\n",
       "  )\n",
       "  (scorer): Linear(in_features=768, out_features=1, bias=True)\n",
       "  (feature_extractor): Identity()\n",
       "  (loss): BCEWithLogitsLoss()\n",
       ")"
      ]
     },
     "execution_count": 7,
     "metadata": {},
     "output_type": "execute_result"
    }
   ],
   "source": [
    "model = SummaryModel()\n",
    "model.to('cuda')\n",
    "model.eval()"
   ]
  },
  {
   "cell_type": "code",
   "execution_count": 8,
   "metadata": {},
   "outputs": [
    {
     "data": {
      "text/plain": [
       "<All keys matched successfully>"
      ]
     },
     "execution_count": 8,
     "metadata": {},
     "output_type": "execute_result"
    }
   ],
   "source": [
    "PATH = '../vit/summary.ckpt'\n",
    "checkpoint = torch.load(PATH)\n",
    "model.load_state_dict(checkpoint['state_dict'])"
   ]
  },
  {
   "cell_type": "code",
   "execution_count": 9,
   "metadata": {
    "scrolled": true
   },
   "outputs": [
    {
     "data": {
      "application/vnd.jupyter.widget-view+json": {
       "model_id": "95b7fde9bfac4932ac8a2f700ad38104",
       "version_major": 2,
       "version_minor": 0
      },
      "text/plain": [
       "Processing dataset:   0%|          | 0/31 [00:00<?, ?it/s]"
      ]
     },
     "metadata": {},
     "output_type": "display_data"
    },
    {
     "name": "stdout",
     "output_type": "stream",
     "text": [
      "video_name: ('유튜브_여행_7640',), inputs.shape: torch.Size([1, 250, 3, 224, 224]), labels.shape: torch.Size([1, 250])\n"
     ]
    },
    {
     "name": "stderr",
     "output_type": "stream",
     "text": [
      "\n",
      "  0%|          | 0/250 [00:00<?, ?it/s]\u001b[A\n",
      "  0%|          | 1/250 [00:00<02:53,  1.44it/s]\u001b[A\n",
      "  5%|▌         | 13/250 [00:00<00:11, 21.31it/s]\u001b[A\n",
      " 10%|▉         | 24/250 [00:00<00:05, 38.37it/s]\u001b[A\n",
      " 14%|█▍        | 36/250 [00:01<00:03, 55.01it/s]\u001b[A\n",
      " 19%|█▉        | 47/250 [00:01<00:02, 67.70it/s]\u001b[A\n",
      " 23%|██▎       | 58/250 [00:01<00:02, 78.21it/s]\u001b[A\n",
      " 28%|██▊       | 69/250 [00:01<00:02, 86.40it/s]\u001b[A\n",
      " 32%|███▏      | 80/250 [00:01<00:01, 92.67it/s]\u001b[A\n",
      " 36%|███▋      | 91/250 [00:01<00:01, 97.30it/s]\u001b[A\n",
      " 41%|████      | 102/250 [00:01<00:01, 100.58it/s]\u001b[A\n",
      " 45%|████▌     | 113/250 [00:01<00:01, 102.89it/s]\u001b[A\n",
      " 50%|████▉     | 124/250 [00:01<00:01, 104.19it/s]\u001b[A\n",
      " 54%|█████▍    | 135/250 [00:01<00:01, 105.52it/s]\u001b[A\n",
      " 58%|█████▊    | 146/250 [00:02<00:00, 106.78it/s]\u001b[A\n",
      " 63%|██████▎   | 157/250 [00:02<00:00, 107.32it/s]\u001b[A\n",
      " 68%|██████▊   | 169/250 [00:02<00:00, 108.28it/s]\u001b[A\n",
      " 72%|███████▏  | 180/250 [00:02<00:00, 108.52it/s]\u001b[A\n",
      " 77%|███████▋  | 192/250 [00:02<00:00, 109.04it/s]\u001b[A\n",
      " 81%|████████  | 203/250 [00:02<00:00, 108.89it/s]\u001b[A\n",
      " 86%|████████▌ | 214/250 [00:02<00:00, 109.08it/s]\u001b[A\n",
      " 90%|█████████ | 225/250 [00:02<00:00, 109.05it/s]\u001b[A\n",
      " 94%|█████████▍| 236/250 [00:02<00:00, 109.20it/s]\u001b[A\n",
      "100%|██████████| 250/250 [00:02<00:00, 83.94it/s] \u001b[A\n"
     ]
    },
    {
     "name": "stdout",
     "output_type": "stream",
     "text": [
      "video_name: ('유튜브_여행_7640',), inputs.shape: torch.Size([1, 250, 3, 224, 224]), labels.shape: torch.Size([1, 250])\n"
     ]
    },
    {
     "name": "stderr",
     "output_type": "stream",
     "text": [
      "\n",
      "  0%|          | 0/250 [00:00<?, ?it/s]\u001b[A\n",
      "  4%|▍         | 11/250 [00:00<00:02, 104.12it/s]\u001b[A\n",
      "  9%|▉         | 23/250 [00:00<00:02, 108.67it/s]\u001b[A\n",
      " 14%|█▍        | 35/250 [00:00<00:01, 109.60it/s]\u001b[A\n",
      " 19%|█▉        | 47/250 [00:00<00:01, 109.98it/s]\u001b[A\n",
      " 24%|██▎       | 59/250 [00:00<00:01, 110.33it/s]\u001b[A\n",
      " 28%|██▊       | 71/250 [00:00<00:01, 110.47it/s]\u001b[A\n",
      " 33%|███▎      | 83/250 [00:00<00:01, 110.43it/s]\u001b[A\n",
      " 38%|███▊      | 95/250 [00:00<00:01, 110.36it/s]\u001b[A\n",
      " 43%|████▎     | 107/250 [00:00<00:01, 110.41it/s]\u001b[A\n",
      " 48%|████▊     | 119/250 [00:01<00:01, 110.48it/s]\u001b[A\n",
      " 52%|█████▏    | 131/250 [00:01<00:01, 110.62it/s]\u001b[A\n",
      " 57%|█████▋    | 143/250 [00:01<00:00, 110.55it/s]\u001b[A\n",
      " 62%|██████▏   | 155/250 [00:01<00:00, 110.55it/s]\u001b[A\n",
      " 67%|██████▋   | 167/250 [00:01<00:00, 110.22it/s]\u001b[A\n",
      " 72%|███████▏  | 179/250 [00:01<00:00, 109.97it/s]\u001b[A\n",
      " 76%|███████▌  | 190/250 [00:01<00:00, 109.73it/s]\u001b[A\n",
      " 80%|████████  | 201/250 [00:01<00:00, 109.41it/s]\u001b[A\n",
      " 85%|████████▍ | 212/250 [00:01<00:00, 109.32it/s]\u001b[A\n",
      " 89%|████████▉ | 223/250 [00:02<00:00, 109.48it/s]\u001b[A\n",
      " 94%|█████████▎| 234/250 [00:02<00:00, 109.23it/s]\u001b[A\n",
      "100%|██████████| 250/250 [00:02<00:00, 109.68it/s]\u001b[A\n"
     ]
    },
    {
     "name": "stdout",
     "output_type": "stream",
     "text": [
      "video_name: ('유튜브_여행_7640',), inputs.shape: torch.Size([1, 54, 3, 224, 224]), labels.shape: torch.Size([1, 54])\n"
     ]
    },
    {
     "name": "stderr",
     "output_type": "stream",
     "text": [
      "\n",
      "  0%|          | 0/54 [00:00<?, ?it/s]\u001b[A\n",
      " 20%|██        | 11/54 [00:00<00:00, 105.04it/s]\u001b[A\n",
      " 41%|████      | 22/54 [00:00<00:00, 107.51it/s]\u001b[A\n",
      " 63%|██████▎   | 34/54 [00:00<00:00, 109.30it/s]\u001b[A\n",
      "100%|██████████| 54/54 [00:00<00:00, 109.22it/s]\u001b[A\n"
     ]
    },
    {
     "name": "stdout",
     "output_type": "stream",
     "text": [
      "video_name: ('유튜브_스포츠_4174',), inputs.shape: torch.Size([1, 250, 3, 224, 224]), labels.shape: torch.Size([1, 250])\n"
     ]
    },
    {
     "name": "stderr",
     "output_type": "stream",
     "text": [
      "\n",
      "  0%|          | 0/250 [00:00<?, ?it/s]\u001b[A\n",
      "  5%|▍         | 12/250 [00:00<00:02, 111.63it/s]\u001b[A\n",
      " 10%|▉         | 24/250 [00:00<00:02, 111.15it/s]\u001b[A\n",
      " 14%|█▍        | 36/250 [00:00<00:01, 111.35it/s]\u001b[A\n",
      " 19%|█▉        | 48/250 [00:00<00:01, 110.86it/s]\u001b[A\n",
      " 24%|██▍       | 60/250 [00:00<00:01, 110.78it/s]\u001b[A\n",
      " 29%|██▉       | 72/250 [00:00<00:01, 110.45it/s]\u001b[A\n",
      " 34%|███▎      | 84/250 [00:00<00:01, 110.28it/s]\u001b[A\n",
      " 38%|███▊      | 96/250 [00:00<00:01, 110.07it/s]\u001b[A\n",
      " 43%|████▎     | 108/250 [00:00<00:01, 109.82it/s]\u001b[A\n",
      " 48%|████▊     | 119/250 [00:01<00:01, 109.83it/s]\u001b[A\n",
      " 52%|█████▏    | 130/250 [00:01<00:01, 109.76it/s]\u001b[A\n",
      " 56%|█████▋    | 141/250 [00:01<00:00, 109.63it/s]\u001b[A\n",
      " 61%|██████    | 153/250 [00:01<00:00, 109.75it/s]\u001b[A\n",
      " 66%|██████▌   | 164/250 [00:01<00:00, 109.42it/s]\u001b[A\n",
      " 70%|███████   | 175/250 [00:01<00:00, 109.51it/s]\u001b[A\n",
      " 74%|███████▍  | 186/250 [00:01<00:00, 109.44it/s]\u001b[A\n",
      " 79%|███████▉  | 198/250 [00:01<00:00, 109.74it/s]\u001b[A\n",
      " 84%|████████▎ | 209/250 [00:01<00:00, 109.70it/s]\u001b[A\n",
      " 88%|████████▊ | 220/250 [00:02<00:00, 109.55it/s]\u001b[A\n",
      " 92%|█████████▏| 231/250 [00:02<00:00, 109.62it/s]\u001b[A\n",
      "100%|██████████| 250/250 [00:02<00:00, 109.85it/s]\u001b[A\n"
     ]
    },
    {
     "name": "stdout",
     "output_type": "stream",
     "text": [
      "video_name: ('유튜브_스포츠_4174',), inputs.shape: torch.Size([1, 250, 3, 224, 224]), labels.shape: torch.Size([1, 250])\n"
     ]
    },
    {
     "name": "stderr",
     "output_type": "stream",
     "text": [
      "\n",
      "  0%|          | 0/250 [00:00<?, ?it/s]\u001b[A\n",
      "  4%|▍         | 11/250 [00:00<00:02, 105.33it/s]\u001b[A\n",
      "  9%|▉         | 23/250 [00:00<00:02, 108.81it/s]\u001b[A\n",
      " 14%|█▍        | 35/250 [00:00<00:01, 109.71it/s]\u001b[A\n",
      " 19%|█▉        | 47/250 [00:00<00:01, 110.34it/s]\u001b[A\n",
      " 24%|██▎       | 59/250 [00:00<00:01, 110.28it/s]\u001b[A\n",
      " 28%|██▊       | 71/250 [00:00<00:01, 110.54it/s]\u001b[A\n",
      " 33%|███▎      | 83/250 [00:00<00:01, 110.58it/s]\u001b[A\n",
      " 38%|███▊      | 95/250 [00:00<00:01, 110.59it/s]\u001b[A\n",
      " 43%|████▎     | 107/250 [00:00<00:01, 110.50it/s]\u001b[A\n",
      " 48%|████▊     | 119/250 [00:01<00:01, 110.46it/s]\u001b[A\n",
      " 52%|█████▏    | 131/250 [00:01<00:01, 110.10it/s]\u001b[A\n",
      " 57%|█████▋    | 143/250 [00:01<00:00, 110.00it/s]\u001b[A\n",
      " 62%|██████▏   | 154/250 [00:01<00:00, 109.87it/s]\u001b[A\n",
      " 66%|██████▌   | 165/250 [00:01<00:00, 109.59it/s]\u001b[A\n",
      " 70%|███████   | 176/250 [00:01<00:00, 109.28it/s]\u001b[A\n",
      " 75%|███████▍  | 187/250 [00:01<00:00, 109.38it/s]\u001b[A\n",
      " 79%|███████▉  | 198/250 [00:01<00:00, 109.48it/s]\u001b[A\n",
      " 84%|████████▎ | 209/250 [00:01<00:00, 109.56it/s]\u001b[A\n",
      " 88%|████████▊ | 220/250 [00:02<00:00, 109.60it/s]\u001b[A\n",
      " 92%|█████████▏| 231/250 [00:02<00:00, 109.65it/s]\u001b[A\n",
      "100%|██████████| 250/250 [00:02<00:00, 109.76it/s]\u001b[A\n"
     ]
    },
    {
     "name": "stdout",
     "output_type": "stream",
     "text": [
      "video_name: ('유튜브_스포츠_4174',), inputs.shape: torch.Size([1, 250, 3, 224, 224]), labels.shape: torch.Size([1, 250])\n"
     ]
    },
    {
     "name": "stderr",
     "output_type": "stream",
     "text": [
      "\n",
      "  0%|          | 0/250 [00:00<?, ?it/s]\u001b[A\n",
      "  4%|▍         | 11/250 [00:00<00:02, 104.12it/s]\u001b[A\n",
      "  9%|▉         | 23/250 [00:00<00:02, 108.44it/s]\u001b[A\n",
      " 14%|█▍        | 35/250 [00:00<00:01, 109.62it/s]\u001b[A\n",
      " 19%|█▉        | 47/250 [00:00<00:01, 110.37it/s]\u001b[A\n",
      " 24%|██▎       | 59/250 [00:00<00:01, 110.62it/s]\u001b[A\n",
      " 28%|██▊       | 71/250 [00:00<00:01, 110.59it/s]\u001b[A\n",
      " 33%|███▎      | 83/250 [00:00<00:01, 110.42it/s]\u001b[A\n",
      " 38%|███▊      | 95/250 [00:00<00:01, 109.46it/s]\u001b[A\n",
      " 42%|████▏     | 106/250 [00:00<00:01, 109.30it/s]\u001b[A\n",
      " 47%|████▋     | 117/250 [00:01<00:01, 109.30it/s]\u001b[A\n",
      " 51%|█████     | 128/250 [00:01<00:01, 109.38it/s]\u001b[A\n",
      " 56%|█████▌    | 139/250 [00:01<00:01, 109.50it/s]\u001b[A\n",
      " 60%|██████    | 150/250 [00:01<00:00, 109.44it/s]\u001b[A\n",
      " 64%|██████▍   | 161/250 [00:01<00:00, 109.37it/s]\u001b[A\n",
      " 69%|██████▉   | 172/250 [00:01<00:00, 109.54it/s]\u001b[A\n",
      " 73%|███████▎  | 183/250 [00:01<00:00, 109.50it/s]\u001b[A\n",
      " 78%|███████▊  | 194/250 [00:01<00:00, 109.25it/s]\u001b[A\n",
      " 82%|████████▏ | 205/250 [00:01<00:00, 109.19it/s]\u001b[A\n",
      " 86%|████████▋ | 216/250 [00:01<00:00, 108.70it/s]\u001b[A\n",
      " 91%|█████████ | 227/250 [00:02<00:00, 108.74it/s]\u001b[A\n",
      " 95%|█████████▌| 238/250 [00:02<00:00, 108.98it/s]\u001b[A\n",
      "100%|██████████| 250/250 [00:02<00:00, 109.12it/s]\u001b[A\n"
     ]
    },
    {
     "name": "stdout",
     "output_type": "stream",
     "text": [
      "video_name: ('유튜브_스포츠_4174',), inputs.shape: torch.Size([1, 86, 3, 224, 224]), labels.shape: torch.Size([1, 86])\n"
     ]
    },
    {
     "name": "stderr",
     "output_type": "stream",
     "text": [
      "\n",
      "  0%|          | 0/86 [00:00<?, ?it/s]\u001b[A\n",
      " 13%|█▎        | 11/86 [00:00<00:00, 104.99it/s]\u001b[A\n",
      " 26%|██▌       | 22/86 [00:00<00:00, 107.74it/s]\u001b[A\n",
      " 38%|███▊      | 33/86 [00:00<00:00, 108.75it/s]\u001b[A\n",
      " 51%|█████     | 44/86 [00:00<00:00, 109.13it/s]\u001b[A\n",
      " 65%|██████▌   | 56/86 [00:00<00:00, 109.60it/s]\u001b[A\n",
      " 78%|███████▊  | 67/86 [00:00<00:00, 109.58it/s]\u001b[A\n",
      "100%|██████████| 86/86 [00:00<00:00, 109.01it/s]\u001b[A\n"
     ]
    },
    {
     "name": "stdout",
     "output_type": "stream",
     "text": [
      "video_name: ('유튜브_기타_19843',), inputs.shape: torch.Size([1, 250, 3, 224, 224]), labels.shape: torch.Size([1, 250])\n"
     ]
    },
    {
     "name": "stderr",
     "output_type": "stream",
     "text": [
      "\n",
      "  0%|          | 0/250 [00:00<?, ?it/s]\u001b[A\n",
      "  4%|▍         | 11/250 [00:00<00:02, 109.58it/s]\u001b[A\n",
      "  9%|▉         | 22/250 [00:00<00:02, 109.63it/s]\u001b[A\n",
      " 13%|█▎        | 33/250 [00:00<00:01, 109.32it/s]\u001b[A\n",
      " 18%|█▊        | 44/250 [00:00<00:01, 109.56it/s]\u001b[A\n",
      " 22%|██▏       | 55/250 [00:00<00:01, 109.58it/s]\u001b[A\n",
      " 26%|██▋       | 66/250 [00:00<00:01, 109.59it/s]\u001b[A\n",
      " 31%|███       | 78/250 [00:00<00:01, 109.79it/s]\u001b[A\n",
      " 36%|███▌      | 89/250 [00:00<00:01, 109.38it/s]\u001b[A\n",
      " 40%|████      | 100/250 [00:00<00:01, 109.51it/s]\u001b[A\n",
      " 45%|████▍     | 112/250 [00:01<00:01, 109.75it/s]\u001b[A\n",
      " 49%|████▉     | 123/250 [00:01<00:01, 109.70it/s]\u001b[A\n",
      " 54%|█████▎    | 134/250 [00:01<00:01, 109.58it/s]\u001b[A\n",
      " 58%|█████▊    | 145/250 [00:01<00:00, 109.67it/s]\u001b[A\n",
      " 62%|██████▏   | 156/250 [00:01<00:00, 109.50it/s]\u001b[A\n",
      " 67%|██████▋   | 167/250 [00:01<00:00, 109.33it/s]\u001b[A\n",
      " 71%|███████   | 178/250 [00:01<00:00, 109.27it/s]\u001b[A\n",
      " 76%|███████▌  | 189/250 [00:01<00:00, 109.29it/s]\u001b[A\n",
      " 80%|████████  | 200/250 [00:01<00:00, 109.16it/s]\u001b[A\n",
      " 84%|████████▍ | 211/250 [00:01<00:00, 109.37it/s]\u001b[A\n",
      " 89%|████████▉ | 222/250 [00:02<00:00, 109.41it/s]\u001b[A\n",
      " 93%|█████████▎| 233/250 [00:02<00:00, 109.48it/s]\u001b[A\n",
      "100%|██████████| 250/250 [00:02<00:00, 109.40it/s]\u001b[A\n"
     ]
    },
    {
     "name": "stdout",
     "output_type": "stream",
     "text": [
      "video_name: ('유튜브_기타_19843',), inputs.shape: torch.Size([1, 250, 3, 224, 224]), labels.shape: torch.Size([1, 250])\n"
     ]
    },
    {
     "name": "stderr",
     "output_type": "stream",
     "text": [
      "\n",
      "  0%|          | 0/250 [00:00<?, ?it/s]\u001b[A\n",
      "  4%|▍         | 11/250 [00:00<00:02, 101.00it/s]\u001b[A\n",
      "  9%|▉         | 22/250 [00:00<00:02, 102.48it/s]\u001b[A\n",
      " 13%|█▎        | 33/250 [00:00<00:02, 105.51it/s]\u001b[A\n",
      " 18%|█▊        | 45/250 [00:00<00:01, 107.46it/s]\u001b[A\n",
      " 22%|██▏       | 56/250 [00:00<00:01, 107.75it/s]\u001b[A\n",
      " 27%|██▋       | 67/250 [00:00<00:01, 108.22it/s]\u001b[A\n",
      " 31%|███       | 78/250 [00:00<00:01, 108.49it/s]\u001b[A\n",
      " 36%|███▌      | 89/250 [00:00<00:01, 108.84it/s]\u001b[A\n",
      " 40%|████      | 100/250 [00:00<00:01, 109.18it/s]\u001b[A\n",
      " 44%|████▍     | 111/250 [00:01<00:01, 109.07it/s]\u001b[A\n",
      " 49%|████▉     | 122/250 [00:01<00:01, 109.32it/s]\u001b[A\n",
      " 53%|█████▎    | 133/250 [00:01<00:01, 109.49it/s]\u001b[A\n",
      " 58%|█████▊    | 144/250 [00:01<00:00, 109.54it/s]\u001b[A\n",
      " 62%|██████▏   | 155/250 [00:01<00:00, 109.59it/s]\u001b[A\n",
      " 66%|██████▋   | 166/250 [00:01<00:00, 109.66it/s]\u001b[A\n",
      " 71%|███████   | 177/250 [00:01<00:00, 109.64it/s]\u001b[A\n",
      " 75%|███████▌  | 188/250 [00:01<00:00, 109.41it/s]\u001b[A\n",
      " 80%|████████  | 200/250 [00:01<00:00, 109.73it/s]\u001b[A\n",
      " 84%|████████▍ | 211/250 [00:01<00:00, 109.76it/s]\u001b[A\n",
      " 89%|████████▉ | 222/250 [00:02<00:00, 109.78it/s]\u001b[A\n",
      " 93%|█████████▎| 233/250 [00:02<00:00, 109.52it/s]\u001b[A\n",
      "100%|██████████| 250/250 [00:02<00:00, 108.74it/s]\u001b[A\n"
     ]
    },
    {
     "name": "stdout",
     "output_type": "stream",
     "text": [
      "video_name: ('유튜브_기타_19843',), inputs.shape: torch.Size([1, 250, 3, 224, 224]), labels.shape: torch.Size([1, 250])\n"
     ]
    },
    {
     "name": "stderr",
     "output_type": "stream",
     "text": [
      "\n",
      "  0%|          | 0/250 [00:00<?, ?it/s]\u001b[A\n",
      "  4%|▍         | 11/250 [00:00<00:02, 105.83it/s]\u001b[A\n",
      "  9%|▉         | 22/250 [00:00<00:02, 107.89it/s]\u001b[A\n",
      " 13%|█▎        | 33/250 [00:00<00:02, 108.38it/s]\u001b[A\n",
      " 18%|█▊        | 45/250 [00:00<00:01, 109.31it/s]\u001b[A\n",
      " 23%|██▎       | 57/250 [00:00<00:01, 109.76it/s]\u001b[A\n",
      " 27%|██▋       | 68/250 [00:00<00:01, 109.61it/s]\u001b[A\n",
      " 32%|███▏      | 79/250 [00:00<00:01, 109.60it/s]\u001b[A\n",
      " 36%|███▌      | 90/250 [00:00<00:01, 109.68it/s]\u001b[A\n",
      " 41%|████      | 102/250 [00:00<00:01, 109.96it/s]\u001b[A\n",
      " 45%|████▌     | 113/250 [00:01<00:01, 109.87it/s]\u001b[A\n",
      " 50%|████▉     | 124/250 [00:01<00:01, 109.33it/s]\u001b[A\n",
      " 54%|█████▍    | 135/250 [00:01<00:01, 109.45it/s]\u001b[A\n",
      " 58%|█████▊    | 146/250 [00:01<00:00, 109.54it/s]\u001b[A\n",
      " 63%|██████▎   | 157/250 [00:01<00:00, 109.56it/s]\u001b[A\n",
      " 68%|██████▊   | 169/250 [00:01<00:00, 109.77it/s]\u001b[A\n",
      " 72%|███████▏  | 180/250 [00:01<00:00, 109.56it/s]\u001b[A\n",
      " 77%|███████▋  | 192/250 [00:01<00:00, 109.76it/s]\u001b[A\n",
      " 81%|████████  | 203/250 [00:01<00:00, 109.57it/s]\u001b[A\n",
      " 86%|████████▌ | 214/250 [00:01<00:00, 109.68it/s]\u001b[A\n",
      " 90%|█████████ | 226/250 [00:02<00:00, 109.84it/s]\u001b[A\n",
      " 95%|█████████▍| 237/250 [00:02<00:00, 109.39it/s]\u001b[A\n",
      "100%|██████████| 250/250 [00:02<00:00, 109.27it/s]\u001b[A\n"
     ]
    },
    {
     "name": "stdout",
     "output_type": "stream",
     "text": [
      "video_name: ('유튜브_기타_19843',), inputs.shape: torch.Size([1, 250, 3, 224, 224]), labels.shape: torch.Size([1, 250])\n"
     ]
    },
    {
     "name": "stderr",
     "output_type": "stream",
     "text": [
      "\n",
      "  0%|          | 0/250 [00:00<?, ?it/s]\u001b[A\n",
      "  4%|▍         | 11/250 [00:00<00:02, 105.86it/s]\u001b[A\n",
      "  9%|▉         | 23/250 [00:00<00:02, 109.12it/s]\u001b[A\n",
      " 14%|█▎        | 34/250 [00:00<00:01, 109.31it/s]\u001b[A\n",
      " 18%|█▊        | 46/250 [00:00<00:01, 109.79it/s]\u001b[A\n",
      " 23%|██▎       | 57/250 [00:00<00:01, 109.74it/s]\u001b[A\n",
      " 27%|██▋       | 68/250 [00:00<00:01, 109.80it/s]\u001b[A\n",
      " 32%|███▏      | 79/250 [00:00<00:01, 109.85it/s]\u001b[A\n",
      " 36%|███▌      | 90/250 [00:00<00:01, 109.54it/s]\u001b[A\n",
      " 40%|████      | 101/250 [00:00<00:01, 109.18it/s]\u001b[A\n",
      " 45%|████▍     | 112/250 [00:01<00:01, 109.26it/s]\u001b[A\n",
      " 49%|████▉     | 123/250 [00:01<00:01, 109.46it/s]\u001b[A\n",
      " 54%|█████▍    | 135/250 [00:01<00:01, 109.78it/s]\u001b[A\n",
      " 58%|█████▊    | 146/250 [00:01<00:00, 109.29it/s]\u001b[A\n",
      " 63%|██████▎   | 157/250 [00:01<00:00, 109.39it/s]\u001b[A\n",
      " 68%|██████▊   | 169/250 [00:01<00:00, 109.66it/s]\u001b[A\n",
      " 72%|███████▏  | 180/250 [00:01<00:00, 109.49it/s]\u001b[A\n",
      " 76%|███████▋  | 191/250 [00:01<00:00, 109.43it/s]\u001b[A\n",
      " 81%|████████  | 202/250 [00:01<00:00, 109.30it/s]\u001b[A\n",
      " 85%|████████▌ | 213/250 [00:01<00:00, 109.19it/s]\u001b[A\n",
      " 90%|████████▉ | 224/250 [00:02<00:00, 109.32it/s]\u001b[A\n",
      " 94%|█████████▍| 236/250 [00:02<00:00, 109.81it/s]\u001b[A\n",
      "100%|██████████| 250/250 [00:02<00:00, 109.33it/s]\u001b[A\n"
     ]
    },
    {
     "name": "stdout",
     "output_type": "stream",
     "text": [
      "video_name: ('유튜브_기타_19843',), inputs.shape: torch.Size([1, 43, 3, 224, 224]), labels.shape: torch.Size([1, 43])\n"
     ]
    },
    {
     "name": "stderr",
     "output_type": "stream",
     "text": [
      "\n",
      "  0%|          | 0/43 [00:00<?, ?it/s]\u001b[A\n",
      " 26%|██▌       | 11/43 [00:00<00:00, 104.81it/s]\u001b[A\n",
      " 51%|█████     | 22/43 [00:00<00:00, 107.68it/s]\u001b[A\n",
      "100%|██████████| 43/43 [00:00<00:00, 108.69it/s]\u001b[A\n"
     ]
    },
    {
     "name": "stdout",
     "output_type": "stream",
     "text": [
      "video_name: ('유튜브_일상_10479',), inputs.shape: torch.Size([1, 250, 3, 224, 224]), labels.shape: torch.Size([1, 250])\n"
     ]
    },
    {
     "name": "stderr",
     "output_type": "stream",
     "text": [
      "\n",
      "  0%|          | 0/250 [00:00<?, ?it/s]\u001b[A\n",
      "  5%|▍         | 12/250 [00:00<00:02, 112.65it/s]\u001b[A\n",
      " 10%|▉         | 24/250 [00:00<00:02, 111.42it/s]\u001b[A\n",
      " 14%|█▍        | 36/250 [00:00<00:01, 110.87it/s]\u001b[A\n",
      " 19%|█▉        | 48/250 [00:00<00:01, 110.85it/s]\u001b[A\n",
      " 24%|██▍       | 60/250 [00:00<00:01, 110.74it/s]\u001b[A\n",
      " 29%|██▉       | 72/250 [00:00<00:01, 110.46it/s]\u001b[A\n",
      " 34%|███▎      | 84/250 [00:00<00:01, 110.39it/s]\u001b[A\n",
      " 38%|███▊      | 96/250 [00:00<00:01, 110.36it/s]\u001b[A\n",
      " 43%|████▎     | 108/250 [00:00<00:01, 107.73it/s]\u001b[A\n",
      " 48%|████▊     | 119/250 [00:01<00:01, 106.52it/s]\u001b[A\n",
      " 52%|█████▏    | 130/250 [00:01<00:01, 107.11it/s]\u001b[A\n",
      " 56%|█████▋    | 141/250 [00:01<00:01, 107.68it/s]\u001b[A\n",
      " 61%|██████    | 152/250 [00:01<00:00, 108.13it/s]\u001b[A\n",
      " 65%|██████▌   | 163/250 [00:01<00:00, 108.08it/s]\u001b[A\n",
      " 70%|██████▉   | 174/250 [00:01<00:00, 108.22it/s]\u001b[A\n",
      " 74%|███████▍  | 185/250 [00:01<00:00, 108.26it/s]\u001b[A\n",
      " 78%|███████▊  | 196/250 [00:01<00:00, 108.33it/s]\u001b[A\n",
      " 83%|████████▎ | 207/250 [00:01<00:00, 108.43it/s]\u001b[A\n",
      " 87%|████████▋ | 218/250 [00:02<00:00, 108.18it/s]\u001b[A\n",
      " 92%|█████████▏| 229/250 [00:02<00:00, 108.31it/s]\u001b[A\n",
      "100%|██████████| 250/250 [00:02<00:00, 108.73it/s]\u001b[A\n"
     ]
    },
    {
     "name": "stdout",
     "output_type": "stream",
     "text": [
      "video_name: ('유튜브_일상_10479',), inputs.shape: torch.Size([1, 250, 3, 224, 224]), labels.shape: torch.Size([1, 250])\n"
     ]
    },
    {
     "name": "stderr",
     "output_type": "stream",
     "text": [
      "\n",
      "  0%|          | 0/250 [00:00<?, ?it/s]\u001b[A\n",
      "  4%|▍         | 11/250 [00:00<00:02, 104.63it/s]\u001b[A\n",
      "  9%|▉         | 22/250 [00:00<00:02, 107.21it/s]\u001b[A\n",
      " 13%|█▎        | 33/250 [00:00<00:02, 107.73it/s]\u001b[A\n",
      " 18%|█▊        | 44/250 [00:00<00:01, 108.21it/s]\u001b[A\n",
      " 22%|██▏       | 55/250 [00:00<00:01, 108.47it/s]\u001b[A\n",
      " 26%|██▋       | 66/250 [00:00<00:01, 108.68it/s]\u001b[A\n",
      " 31%|███       | 77/250 [00:00<00:01, 108.60it/s]\u001b[A\n",
      " 35%|███▌      | 88/250 [00:00<00:01, 108.32it/s]\u001b[A\n",
      " 40%|███▉      | 99/250 [00:00<00:01, 108.31it/s]\u001b[A\n",
      " 44%|████▍     | 110/250 [00:01<00:01, 108.42it/s]\u001b[A\n",
      " 48%|████▊     | 121/250 [00:01<00:01, 108.41it/s]\u001b[A\n",
      " 53%|█████▎    | 132/250 [00:01<00:01, 108.39it/s]\u001b[A\n",
      " 57%|█████▋    | 143/250 [00:01<00:00, 108.04it/s]\u001b[A\n",
      " 62%|██████▏   | 154/250 [00:01<00:00, 108.20it/s]\u001b[A\n",
      " 66%|██████▌   | 165/250 [00:01<00:00, 108.35it/s]\u001b[A\n",
      " 70%|███████   | 176/250 [00:01<00:00, 108.17it/s]\u001b[A\n",
      " 75%|███████▍  | 187/250 [00:01<00:00, 108.11it/s]\u001b[A\n",
      " 79%|███████▉  | 198/250 [00:01<00:00, 108.14it/s]\u001b[A\n",
      " 84%|████████▎ | 209/250 [00:01<00:00, 108.27it/s]\u001b[A\n",
      " 88%|████████▊ | 220/250 [00:02<00:00, 108.57it/s]\u001b[A\n",
      " 92%|█████████▏| 231/250 [00:02<00:00, 108.69it/s]\u001b[A\n",
      "100%|██████████| 250/250 [00:02<00:00, 108.20it/s]\u001b[A\n"
     ]
    },
    {
     "name": "stdout",
     "output_type": "stream",
     "text": [
      "video_name: ('유튜브_일상_10479',), inputs.shape: torch.Size([1, 250, 3, 224, 224]), labels.shape: torch.Size([1, 250])\n"
     ]
    },
    {
     "name": "stderr",
     "output_type": "stream",
     "text": [
      "\n",
      "  0%|          | 0/250 [00:00<?, ?it/s]\u001b[A\n",
      "  4%|▍         | 11/250 [00:00<00:02, 104.32it/s]\u001b[A\n",
      "  9%|▉         | 22/250 [00:00<00:02, 106.78it/s]\u001b[A\n",
      " 13%|█▎        | 33/250 [00:00<00:02, 107.69it/s]\u001b[A\n",
      " 18%|█▊        | 44/250 [00:00<00:01, 108.15it/s]\u001b[A\n",
      " 22%|██▏       | 55/250 [00:00<00:01, 108.34it/s]\u001b[A\n",
      " 26%|██▋       | 66/250 [00:00<00:01, 108.61it/s]\u001b[A\n",
      " 31%|███       | 77/250 [00:00<00:01, 108.82it/s]\u001b[A\n",
      " 35%|███▌      | 88/250 [00:00<00:01, 108.82it/s]\u001b[A\n",
      " 40%|███▉      | 99/250 [00:00<00:01, 108.63it/s]\u001b[A\n",
      " 44%|████▍     | 110/250 [00:01<00:01, 108.77it/s]\u001b[A\n",
      " 48%|████▊     | 121/250 [00:01<00:01, 108.78it/s]\u001b[A\n",
      " 53%|█████▎    | 132/250 [00:01<00:01, 108.62it/s]\u001b[A\n",
      " 57%|█████▋    | 143/250 [00:01<00:00, 108.49it/s]\u001b[A\n",
      " 62%|██████▏   | 154/250 [00:01<00:00, 108.19it/s]\u001b[A\n",
      " 66%|██████▌   | 165/250 [00:01<00:00, 108.23it/s]\u001b[A\n",
      " 70%|███████   | 176/250 [00:01<00:00, 108.11it/s]\u001b[A\n",
      " 75%|███████▍  | 187/250 [00:01<00:00, 108.33it/s]\u001b[A\n",
      " 79%|███████▉  | 198/250 [00:01<00:00, 108.53it/s]\u001b[A\n",
      " 84%|████████▎ | 209/250 [00:01<00:00, 108.26it/s]\u001b[A\n",
      " 88%|████████▊ | 220/250 [00:02<00:00, 108.28it/s]\u001b[A\n",
      " 92%|█████████▏| 231/250 [00:02<00:00, 108.35it/s]\u001b[A\n",
      "100%|██████████| 250/250 [00:02<00:00, 108.25it/s]\u001b[A\n"
     ]
    },
    {
     "name": "stdout",
     "output_type": "stream",
     "text": [
      "video_name: ('유튜브_일상_10479',), inputs.shape: torch.Size([1, 250, 3, 224, 224]), labels.shape: torch.Size([1, 250])\n"
     ]
    },
    {
     "name": "stderr",
     "output_type": "stream",
     "text": [
      "\n",
      "  0%|          | 0/250 [00:00<?, ?it/s]\u001b[A\n",
      "  4%|▍         | 11/250 [00:00<00:02, 104.42it/s]\u001b[A\n",
      "  9%|▉         | 22/250 [00:00<00:02, 106.72it/s]\u001b[A\n",
      " 13%|█▎        | 33/250 [00:00<00:02, 107.61it/s]\u001b[A\n",
      " 18%|█▊        | 44/250 [00:00<00:01, 107.83it/s]\u001b[A\n",
      " 22%|██▏       | 55/250 [00:00<00:01, 108.20it/s]\u001b[A\n",
      " 26%|██▋       | 66/250 [00:00<00:01, 108.49it/s]\u001b[A\n",
      " 31%|███       | 77/250 [00:00<00:01, 108.70it/s]\u001b[A\n",
      " 35%|███▌      | 88/250 [00:00<00:01, 108.66it/s]\u001b[A\n",
      " 40%|███▉      | 99/250 [00:00<00:01, 108.51it/s]\u001b[A\n",
      " 44%|████▍     | 110/250 [00:01<00:01, 108.60it/s]\u001b[A\n",
      " 48%|████▊     | 121/250 [00:01<00:01, 108.44it/s]\u001b[A\n",
      " 53%|█████▎    | 132/250 [00:01<00:01, 108.58it/s]\u001b[A\n",
      " 57%|█████▋    | 143/250 [00:01<00:00, 108.57it/s]\u001b[A\n",
      " 62%|██████▏   | 154/250 [00:01<00:00, 108.63it/s]\u001b[A\n",
      " 66%|██████▌   | 165/250 [00:01<00:00, 108.67it/s]\u001b[A\n",
      " 70%|███████   | 176/250 [00:01<00:00, 108.66it/s]\u001b[A\n",
      " 75%|███████▍  | 187/250 [00:01<00:00, 108.33it/s]\u001b[A\n",
      " 79%|███████▉  | 198/250 [00:01<00:00, 108.47it/s]\u001b[A\n",
      " 84%|████████▎ | 209/250 [00:01<00:00, 108.53it/s]\u001b[A\n",
      " 88%|████████▊ | 220/250 [00:02<00:00, 108.36it/s]\u001b[A\n",
      " 92%|█████████▏| 231/250 [00:02<00:00, 108.47it/s]\u001b[A\n",
      "100%|██████████| 250/250 [00:02<00:00, 108.35it/s]\u001b[A\n"
     ]
    },
    {
     "name": "stdout",
     "output_type": "stream",
     "text": [
      "video_name: ('유튜브_일상_10479',), inputs.shape: torch.Size([1, 250, 3, 224, 224]), labels.shape: torch.Size([1, 250])\n"
     ]
    },
    {
     "name": "stderr",
     "output_type": "stream",
     "text": [
      "\n",
      "  0%|          | 0/250 [00:00<?, ?it/s]\u001b[A\n",
      "  4%|▍         | 11/250 [00:00<00:02, 104.48it/s]\u001b[A\n",
      "  9%|▉         | 22/250 [00:00<00:02, 107.02it/s]\u001b[A\n",
      " 13%|█▎        | 33/250 [00:00<00:02, 108.16it/s]\u001b[A\n",
      " 18%|█▊        | 44/250 [00:00<00:01, 108.56it/s]\u001b[A\n",
      " 22%|██▏       | 55/250 [00:00<00:01, 108.97it/s]\u001b[A\n",
      " 26%|██▋       | 66/250 [00:00<00:01, 108.92it/s]\u001b[A\n",
      " 31%|███       | 77/250 [00:00<00:01, 108.57it/s]\u001b[A\n",
      " 35%|███▌      | 88/250 [00:00<00:01, 108.55it/s]\u001b[A\n",
      " 40%|███▉      | 99/250 [00:00<00:01, 108.62it/s]\u001b[A\n",
      " 44%|████▍     | 110/250 [00:01<00:01, 108.60it/s]\u001b[A\n",
      " 48%|████▊     | 121/250 [00:01<00:01, 108.83it/s]\u001b[A\n",
      " 53%|█████▎    | 132/250 [00:01<00:01, 108.79it/s]\u001b[A\n",
      " 57%|█████▋    | 143/250 [00:01<00:00, 108.72it/s]\u001b[A\n",
      " 62%|██████▏   | 154/250 [00:01<00:00, 108.72it/s]\u001b[A\n",
      " 66%|██████▌   | 165/250 [00:01<00:00, 108.66it/s]\u001b[A\n",
      " 70%|███████   | 176/250 [00:01<00:00, 108.59it/s]\u001b[A\n",
      " 75%|███████▍  | 187/250 [00:01<00:00, 108.56it/s]\u001b[A\n",
      " 79%|███████▉  | 198/250 [00:01<00:00, 108.64it/s]\u001b[A\n",
      " 84%|████████▎ | 209/250 [00:01<00:00, 108.52it/s]\u001b[A\n",
      " 88%|████████▊ | 220/250 [00:02<00:00, 108.57it/s]\u001b[A\n",
      " 92%|█████████▏| 231/250 [00:02<00:00, 108.59it/s]\u001b[A\n",
      "100%|██████████| 250/250 [00:02<00:00, 108.47it/s]\u001b[A\n"
     ]
    },
    {
     "name": "stdout",
     "output_type": "stream",
     "text": [
      "video_name: ('유튜브_일상_10479',), inputs.shape: torch.Size([1, 65, 3, 224, 224]), labels.shape: torch.Size([1, 65])\n"
     ]
    },
    {
     "name": "stderr",
     "output_type": "stream",
     "text": [
      "\n",
      "  0%|          | 0/65 [00:00<?, ?it/s]\u001b[A\n",
      " 17%|█▋        | 11/65 [00:00<00:00, 103.68it/s]\u001b[A\n",
      " 34%|███▍      | 22/65 [00:00<00:00, 106.70it/s]\u001b[A\n",
      " 51%|█████     | 33/65 [00:00<00:00, 107.43it/s]\u001b[A\n",
      " 68%|██████▊   | 44/65 [00:00<00:00, 107.86it/s]\u001b[A\n",
      "100%|██████████| 65/65 [00:00<00:00, 107.70it/s]\u001b[A\n"
     ]
    },
    {
     "name": "stdout",
     "output_type": "stream",
     "text": [
      "video_name: ('유튜브_스타일링및뷰티_14630',), inputs.shape: torch.Size([1, 250, 3, 224, 224]), labels.shape: torch.Size([1, 250])\n"
     ]
    },
    {
     "name": "stderr",
     "output_type": "stream",
     "text": [
      "\n",
      "  0%|          | 0/250 [00:00<?, ?it/s]\u001b[A\n",
      "  4%|▍         | 11/250 [00:00<00:02, 108.94it/s]\u001b[A\n",
      "  9%|▉         | 22/250 [00:00<00:02, 108.83it/s]\u001b[A\n",
      " 13%|█▎        | 33/250 [00:00<00:01, 108.83it/s]\u001b[A\n",
      " 18%|█▊        | 44/250 [00:00<00:01, 108.69it/s]\u001b[A\n",
      " 22%|██▏       | 55/250 [00:00<00:01, 108.87it/s]\u001b[A\n",
      " 26%|██▋       | 66/250 [00:00<00:01, 108.70it/s]\u001b[A\n",
      " 31%|███       | 77/250 [00:00<00:01, 108.44it/s]\u001b[A\n",
      " 35%|███▌      | 88/250 [00:00<00:01, 108.56it/s]\u001b[A\n",
      " 40%|███▉      | 99/250 [00:00<00:01, 108.27it/s]\u001b[A\n",
      " 44%|████▍     | 110/250 [00:01<00:01, 108.36it/s]\u001b[A\n",
      " 48%|████▊     | 121/250 [00:01<00:01, 108.38it/s]\u001b[A\n",
      " 53%|█████▎    | 132/250 [00:01<00:01, 108.39it/s]\u001b[A\n",
      " 57%|█████▋    | 143/250 [00:01<00:00, 108.58it/s]\u001b[A\n",
      " 62%|██████▏   | 154/250 [00:01<00:00, 108.58it/s]\u001b[A\n",
      " 66%|██████▌   | 165/250 [00:01<00:00, 108.38it/s]\u001b[A\n",
      " 70%|███████   | 176/250 [00:01<00:00, 108.24it/s]\u001b[A\n",
      " 75%|███████▍  | 187/250 [00:01<00:00, 108.05it/s]\u001b[A\n",
      " 79%|███████▉  | 198/250 [00:01<00:00, 108.23it/s]\u001b[A\n",
      " 84%|████████▎ | 209/250 [00:01<00:00, 108.06it/s]\u001b[A\n",
      " 88%|████████▊ | 220/250 [00:02<00:00, 107.98it/s]\u001b[A\n",
      " 92%|█████████▏| 231/250 [00:02<00:00, 108.07it/s]\u001b[A\n",
      "100%|██████████| 250/250 [00:02<00:00, 108.31it/s]\u001b[A\n"
     ]
    },
    {
     "name": "stdout",
     "output_type": "stream",
     "text": [
      "video_name: ('유튜브_스타일링및뷰티_14630',), inputs.shape: torch.Size([1, 208, 3, 224, 224]), labels.shape: torch.Size([1, 208])\n"
     ]
    },
    {
     "name": "stderr",
     "output_type": "stream",
     "text": [
      "\n",
      "  0%|          | 0/208 [00:00<?, ?it/s]\u001b[A\n",
      "  5%|▌         | 11/208 [00:00<00:01, 104.53it/s]\u001b[A\n",
      " 11%|█         | 22/208 [00:00<00:01, 107.11it/s]\u001b[A\n",
      " 16%|█▌        | 33/208 [00:00<00:01, 107.70it/s]\u001b[A\n",
      " 21%|██        | 44/208 [00:00<00:01, 108.12it/s]\u001b[A\n",
      " 26%|██▋       | 55/208 [00:00<00:01, 107.95it/s]\u001b[A\n",
      " 32%|███▏      | 66/208 [00:00<00:01, 108.14it/s]\u001b[A\n",
      " 37%|███▋      | 77/208 [00:00<00:01, 108.03it/s]\u001b[A\n",
      " 42%|████▏     | 88/208 [00:00<00:01, 108.30it/s]\u001b[A\n",
      " 48%|████▊     | 99/208 [00:00<00:01, 108.47it/s]\u001b[A\n",
      " 53%|█████▎    | 110/208 [00:01<00:00, 108.45it/s]\u001b[A\n",
      " 58%|█████▊    | 121/208 [00:01<00:00, 108.65it/s]\u001b[A\n",
      " 63%|██████▎   | 132/208 [00:01<00:00, 108.68it/s]\u001b[A\n",
      " 69%|██████▉   | 143/208 [00:01<00:00, 108.51it/s]\u001b[A\n",
      " 74%|███████▍  | 154/208 [00:01<00:00, 108.31it/s]\u001b[A\n",
      " 79%|███████▉  | 165/208 [00:01<00:00, 108.35it/s]\u001b[A\n",
      " 85%|████████▍ | 176/208 [00:01<00:00, 108.43it/s]\u001b[A\n",
      " 90%|████████▉ | 187/208 [00:01<00:00, 108.42it/s]\u001b[A\n",
      "100%|██████████| 208/208 [00:01<00:00, 108.27it/s]\u001b[A\n"
     ]
    },
    {
     "name": "stdout",
     "output_type": "stream",
     "text": [
      "video_name: ('유튜브_자동차_0094',), inputs.shape: torch.Size([1, 250, 3, 224, 224]), labels.shape: torch.Size([1, 250])\n"
     ]
    },
    {
     "name": "stderr",
     "output_type": "stream",
     "text": [
      "\n",
      "  0%|          | 0/250 [00:00<?, ?it/s]\u001b[A\n",
      "  4%|▍         | 11/250 [00:00<00:02, 105.42it/s]\u001b[A\n",
      "  9%|▉         | 22/250 [00:00<00:02, 107.68it/s]\u001b[A\n",
      " 13%|█▎        | 33/250 [00:00<00:02, 107.94it/s]\u001b[A\n",
      " 18%|█▊        | 44/250 [00:00<00:01, 108.45it/s]\u001b[A\n",
      " 22%|██▏       | 55/250 [00:00<00:01, 108.56it/s]\u001b[A\n",
      " 26%|██▋       | 66/250 [00:00<00:01, 108.52it/s]\u001b[A\n",
      " 31%|███       | 77/250 [00:00<00:01, 108.42it/s]\u001b[A\n",
      " 35%|███▌      | 88/250 [00:00<00:01, 108.35it/s]\u001b[A\n",
      " 40%|███▉      | 99/250 [00:00<00:01, 108.38it/s]\u001b[A\n",
      " 44%|████▍     | 110/250 [00:01<00:01, 108.71it/s]\u001b[A\n",
      " 48%|████▊     | 121/250 [00:01<00:01, 108.70it/s]\u001b[A\n",
      " 53%|█████▎    | 132/250 [00:01<00:01, 108.71it/s]\u001b[A\n",
      " 57%|█████▋    | 143/250 [00:01<00:00, 108.01it/s]\u001b[A\n",
      " 62%|██████▏   | 154/250 [00:01<00:00, 108.27it/s]\u001b[A\n",
      " 66%|██████▌   | 165/250 [00:01<00:00, 108.41it/s]\u001b[A\n",
      " 70%|███████   | 176/250 [00:01<00:00, 108.50it/s]\u001b[A\n",
      " 75%|███████▍  | 187/250 [00:01<00:00, 108.52it/s]\u001b[A\n",
      " 79%|███████▉  | 198/250 [00:01<00:00, 108.45it/s]\u001b[A\n",
      " 84%|████████▎ | 209/250 [00:01<00:00, 108.39it/s]\u001b[A\n",
      " 88%|████████▊ | 220/250 [00:02<00:00, 107.94it/s]\u001b[A\n",
      " 92%|█████████▏| 231/250 [00:02<00:00, 108.26it/s]\u001b[A\n",
      "100%|██████████| 250/250 [00:02<00:00, 108.18it/s]\u001b[A\n"
     ]
    },
    {
     "name": "stdout",
     "output_type": "stream",
     "text": [
      "video_name: ('유튜브_자동차_0094',), inputs.shape: torch.Size([1, 250, 3, 224, 224]), labels.shape: torch.Size([1, 250])\n"
     ]
    },
    {
     "name": "stderr",
     "output_type": "stream",
     "text": [
      "\n",
      "  0%|          | 0/250 [00:00<?, ?it/s]\u001b[A\n",
      "  4%|▍         | 11/250 [00:00<00:02, 104.76it/s]\u001b[A\n",
      "  9%|▉         | 22/250 [00:00<00:02, 107.31it/s]\u001b[A\n",
      " 13%|█▎        | 33/250 [00:00<00:02, 107.91it/s]\u001b[A\n",
      " 18%|█▊        | 44/250 [00:00<00:01, 108.45it/s]\u001b[A\n",
      " 22%|██▏       | 55/250 [00:00<00:01, 108.70it/s]\u001b[A\n",
      " 26%|██▋       | 66/250 [00:00<00:01, 108.83it/s]\u001b[A\n",
      " 31%|███       | 77/250 [00:00<00:01, 108.87it/s]\u001b[A\n",
      " 35%|███▌      | 88/250 [00:00<00:01, 108.82it/s]\u001b[A\n",
      " 40%|███▉      | 99/250 [00:00<00:01, 108.37it/s]\u001b[A\n",
      " 44%|████▍     | 110/250 [00:01<00:01, 108.55it/s]\u001b[A\n",
      " 48%|████▊     | 121/250 [00:01<00:01, 108.64it/s]\u001b[A\n",
      " 53%|█████▎    | 132/250 [00:01<00:01, 108.57it/s]\u001b[A\n",
      " 57%|█████▋    | 143/250 [00:01<00:00, 108.50it/s]\u001b[A\n",
      " 62%|██████▏   | 154/250 [00:01<00:00, 108.51it/s]\u001b[A\n",
      " 66%|██████▌   | 165/250 [00:01<00:00, 108.60it/s]\u001b[A\n",
      " 70%|███████   | 176/250 [00:01<00:00, 108.65it/s]\u001b[A\n",
      " 75%|███████▍  | 187/250 [00:01<00:00, 108.68it/s]\u001b[A\n",
      " 79%|███████▉  | 198/250 [00:01<00:00, 108.67it/s]\u001b[A\n",
      " 84%|████████▎ | 209/250 [00:01<00:00, 108.65it/s]\u001b[A\n",
      " 88%|████████▊ | 220/250 [00:02<00:00, 108.68it/s]\u001b[A\n",
      " 92%|█████████▏| 231/250 [00:02<00:00, 108.66it/s]\u001b[A\n",
      "100%|██████████| 250/250 [00:02<00:00, 108.46it/s]\u001b[A\n"
     ]
    },
    {
     "name": "stdout",
     "output_type": "stream",
     "text": [
      "video_name: ('유튜브_자동차_0094',), inputs.shape: torch.Size([1, 195, 3, 224, 224]), labels.shape: torch.Size([1, 195])\n"
     ]
    },
    {
     "name": "stderr",
     "output_type": "stream",
     "text": [
      "\n",
      "  0%|          | 0/195 [00:00<?, ?it/s]\u001b[A\n",
      "  6%|▌         | 11/195 [00:00<00:01, 104.08it/s]\u001b[A\n",
      " 11%|█▏        | 22/195 [00:00<00:01, 106.74it/s]\u001b[A\n",
      " 17%|█▋        | 33/195 [00:00<00:01, 107.55it/s]\u001b[A\n",
      " 23%|██▎       | 44/195 [00:00<00:01, 108.13it/s]\u001b[A\n",
      " 28%|██▊       | 55/195 [00:00<00:01, 108.43it/s]\u001b[A\n",
      " 34%|███▍      | 66/195 [00:00<00:01, 108.04it/s]\u001b[A\n",
      " 39%|███▉      | 77/195 [00:00<00:01, 108.30it/s]\u001b[A\n",
      " 45%|████▌     | 88/195 [00:00<00:00, 108.60it/s]\u001b[A\n",
      " 51%|█████     | 99/195 [00:00<00:00, 108.81it/s]\u001b[A\n",
      " 56%|█████▋    | 110/195 [00:01<00:00, 108.69it/s]\u001b[A\n",
      " 62%|██████▏   | 121/195 [00:01<00:00, 108.53it/s]\u001b[A\n",
      " 68%|██████▊   | 132/195 [00:01<00:00, 108.63it/s]\u001b[A\n",
      " 73%|███████▎  | 143/195 [00:01<00:00, 108.75it/s]\u001b[A\n",
      " 79%|███████▉  | 154/195 [00:01<00:00, 108.32it/s]\u001b[A\n",
      " 85%|████████▍ | 165/195 [00:01<00:00, 108.40it/s]\u001b[A\n",
      " 90%|█████████ | 176/195 [00:01<00:00, 108.39it/s]\u001b[A\n",
      "100%|██████████| 195/195 [00:01<00:00, 108.23it/s]\u001b[A\n"
     ]
    },
    {
     "name": "stdout",
     "output_type": "stream",
     "text": [
      "video_name: ('유튜브_반려동물및동물_2153',), inputs.shape: torch.Size([1, 250, 3, 224, 224]), labels.shape: torch.Size([1, 250])\n"
     ]
    },
    {
     "name": "stderr",
     "output_type": "stream",
     "text": [
      "\n",
      "  0%|          | 0/250 [00:00<?, ?it/s]\u001b[A\n",
      "  4%|▍         | 11/250 [00:00<00:02, 104.62it/s]\u001b[A\n",
      "  9%|▉         | 22/250 [00:00<00:02, 107.11it/s]\u001b[A\n",
      " 13%|█▎        | 33/250 [00:00<00:02, 107.94it/s]\u001b[A\n",
      " 18%|█▊        | 44/250 [00:00<00:01, 108.31it/s]\u001b[A\n",
      " 22%|██▏       | 55/250 [00:00<00:01, 108.63it/s]\u001b[A\n",
      " 26%|██▋       | 66/250 [00:00<00:01, 108.67it/s]\u001b[A\n",
      " 31%|███       | 77/250 [00:00<00:01, 108.47it/s]\u001b[A\n",
      " 35%|███▌      | 88/250 [00:00<00:01, 108.53it/s]\u001b[A\n",
      " 40%|███▉      | 99/250 [00:00<00:01, 108.14it/s]\u001b[A\n",
      " 44%|████▍     | 110/250 [00:01<00:01, 108.27it/s]\u001b[A\n",
      " 48%|████▊     | 121/250 [00:01<00:01, 108.19it/s]\u001b[A\n",
      " 53%|█████▎    | 132/250 [00:01<00:01, 108.19it/s]\u001b[A\n",
      " 57%|█████▋    | 143/250 [00:01<00:00, 108.39it/s]\u001b[A\n",
      " 62%|██████▏   | 154/250 [00:01<00:00, 108.53it/s]\u001b[A\n",
      " 66%|██████▌   | 165/250 [00:01<00:00, 108.52it/s]\u001b[A\n",
      " 70%|███████   | 176/250 [00:01<00:00, 108.64it/s]\u001b[A\n",
      " 75%|███████▍  | 187/250 [00:01<00:00, 108.50it/s]\u001b[A\n",
      " 79%|███████▉  | 198/250 [00:01<00:00, 108.44it/s]\u001b[A\n",
      " 84%|████████▎ | 209/250 [00:01<00:00, 108.50it/s]\u001b[A\n",
      " 88%|████████▊ | 220/250 [00:02<00:00, 108.38it/s]\u001b[A\n",
      " 92%|█████████▏| 231/250 [00:02<00:00, 108.44it/s]\u001b[A\n",
      "100%|██████████| 250/250 [00:02<00:00, 108.25it/s]\u001b[A\n"
     ]
    },
    {
     "name": "stdout",
     "output_type": "stream",
     "text": [
      "video_name: ('유튜브_반려동물및동물_2153',), inputs.shape: torch.Size([1, 232, 3, 224, 224]), labels.shape: torch.Size([1, 232])\n"
     ]
    },
    {
     "name": "stderr",
     "output_type": "stream",
     "text": [
      "\n",
      "  0%|          | 0/232 [00:00<?, ?it/s]\u001b[A\n",
      "  5%|▍         | 11/232 [00:00<00:02, 103.56it/s]\u001b[A\n",
      "  9%|▉         | 22/232 [00:00<00:01, 106.43it/s]\u001b[A\n",
      " 14%|█▍        | 33/232 [00:00<00:01, 107.10it/s]\u001b[A\n",
      " 19%|█▉        | 44/232 [00:00<00:01, 107.37it/s]\u001b[A\n",
      " 24%|██▎       | 55/232 [00:00<00:01, 107.85it/s]\u001b[A\n",
      " 28%|██▊       | 66/232 [00:00<00:01, 106.99it/s]\u001b[A\n",
      " 33%|███▎      | 77/232 [00:00<00:01, 107.52it/s]\u001b[A\n",
      " 38%|███▊      | 88/232 [00:00<00:01, 107.74it/s]\u001b[A\n",
      " 43%|████▎     | 99/232 [00:00<00:01, 108.03it/s]\u001b[A\n",
      " 47%|████▋     | 110/232 [00:01<00:01, 108.38it/s]\u001b[A\n",
      " 52%|█████▏    | 121/232 [00:01<00:01, 108.60it/s]\u001b[A\n",
      " 57%|█████▋    | 132/232 [00:01<00:00, 108.64it/s]\u001b[A\n",
      " 62%|██████▏   | 143/232 [00:01<00:00, 108.78it/s]\u001b[A\n",
      " 66%|██████▋   | 154/232 [00:01<00:00, 108.69it/s]\u001b[A\n",
      " 71%|███████   | 165/232 [00:01<00:00, 108.67it/s]\u001b[A\n",
      " 76%|███████▌  | 176/232 [00:01<00:00, 108.47it/s]\u001b[A\n",
      " 81%|████████  | 187/232 [00:01<00:00, 108.44it/s]\u001b[A\n",
      " 85%|████████▌ | 198/232 [00:01<00:00, 108.20it/s]\u001b[A\n",
      " 90%|█████████ | 209/232 [00:01<00:00, 108.13it/s]\u001b[A\n",
      " 95%|█████████▍| 220/232 [00:02<00:00, 108.12it/s]\u001b[A\n",
      "100%|██████████| 232/232 [00:02<00:00, 107.85it/s]\u001b[A\n"
     ]
    },
    {
     "name": "stdout",
     "output_type": "stream",
     "text": [
      "video_name: ('유튜브_음식_17341',), inputs.shape: torch.Size([1, 250, 3, 224, 224]), labels.shape: torch.Size([1, 250])\n"
     ]
    },
    {
     "name": "stderr",
     "output_type": "stream",
     "text": [
      "\n",
      "  0%|          | 0/250 [00:00<?, ?it/s]\u001b[A\n",
      "  4%|▍         | 11/250 [00:00<00:02, 101.98it/s]\u001b[A\n",
      "  9%|▉         | 22/250 [00:00<00:02, 105.72it/s]\u001b[A\n",
      " 13%|█▎        | 33/250 [00:00<00:02, 106.90it/s]\u001b[A\n",
      " 18%|█▊        | 44/250 [00:00<00:01, 107.62it/s]\u001b[A\n",
      " 22%|██▏       | 55/250 [00:00<00:01, 108.17it/s]\u001b[A\n",
      " 26%|██▋       | 66/250 [00:00<00:01, 108.34it/s]\u001b[A\n",
      " 31%|███       | 77/250 [00:00<00:01, 108.73it/s]\u001b[A\n",
      " 35%|███▌      | 88/250 [00:00<00:01, 108.27it/s]\u001b[A\n",
      " 40%|███▉      | 99/250 [00:00<00:01, 108.46it/s]\u001b[A\n",
      " 44%|████▍     | 110/250 [00:01<00:01, 108.70it/s]\u001b[A\n",
      " 48%|████▊     | 121/250 [00:01<00:01, 108.61it/s]\u001b[A\n",
      " 53%|█████▎    | 132/250 [00:01<00:01, 108.26it/s]\u001b[A\n",
      " 57%|█████▋    | 143/250 [00:01<00:00, 108.08it/s]\u001b[A\n",
      " 62%|██████▏   | 154/250 [00:01<00:00, 108.25it/s]\u001b[A\n",
      " 66%|██████▌   | 165/250 [00:01<00:00, 108.45it/s]\u001b[A\n",
      " 70%|███████   | 176/250 [00:01<00:00, 108.52it/s]\u001b[A\n",
      " 75%|███████▍  | 187/250 [00:01<00:00, 108.59it/s]\u001b[A\n",
      " 79%|███████▉  | 198/250 [00:01<00:00, 108.53it/s]\u001b[A\n",
      " 84%|████████▎ | 209/250 [00:01<00:00, 108.50it/s]\u001b[A\n",
      " 88%|████████▊ | 220/250 [00:02<00:00, 108.29it/s]\u001b[A\n",
      " 92%|█████████▏| 231/250 [00:02<00:00, 107.94it/s]\u001b[A\n",
      "100%|██████████| 250/250 [00:02<00:00, 108.09it/s]\u001b[A\n"
     ]
    },
    {
     "name": "stdout",
     "output_type": "stream",
     "text": [
      "video_name: ('유튜브_음식_17341',), inputs.shape: torch.Size([1, 250, 3, 224, 224]), labels.shape: torch.Size([1, 250])\n"
     ]
    },
    {
     "name": "stderr",
     "output_type": "stream",
     "text": [
      "\n",
      "  0%|          | 0/250 [00:00<?, ?it/s]\u001b[A\n",
      "  4%|▍         | 11/250 [00:00<00:02, 105.04it/s]\u001b[A\n",
      "  9%|▉         | 22/250 [00:00<00:02, 106.74it/s]\u001b[A\n",
      " 13%|█▎        | 33/250 [00:00<00:02, 107.96it/s]\u001b[A\n",
      " 18%|█▊        | 44/250 [00:00<00:01, 108.37it/s]\u001b[A\n",
      " 22%|██▏       | 55/250 [00:00<00:01, 108.51it/s]\u001b[A\n",
      " 26%|██▋       | 66/250 [00:00<00:01, 108.72it/s]\u001b[A\n",
      " 31%|███       | 77/250 [00:00<00:01, 108.87it/s]\u001b[A\n",
      " 35%|███▌      | 88/250 [00:00<00:01, 108.88it/s]\u001b[A\n",
      " 40%|███▉      | 99/250 [00:00<00:01, 108.95it/s]\u001b[A\n",
      " 44%|████▍     | 110/250 [00:01<00:01, 108.92it/s]\u001b[A\n",
      " 48%|████▊     | 121/250 [00:01<00:01, 108.85it/s]\u001b[A\n",
      " 53%|█████▎    | 132/250 [00:01<00:01, 108.99it/s]\u001b[A\n",
      " 57%|█████▋    | 143/250 [00:01<00:00, 109.11it/s]\u001b[A\n",
      " 62%|██████▏   | 154/250 [00:01<00:00, 108.86it/s]\u001b[A\n",
      " 66%|██████▌   | 165/250 [00:01<00:00, 108.93it/s]\u001b[A\n",
      " 70%|███████   | 176/250 [00:01<00:00, 108.99it/s]\u001b[A\n",
      " 75%|███████▍  | 187/250 [00:01<00:00, 108.75it/s]\u001b[A\n",
      " 79%|███████▉  | 198/250 [00:01<00:00, 108.35it/s]\u001b[A\n",
      " 84%|████████▎ | 209/250 [00:01<00:00, 108.33it/s]\u001b[A\n",
      " 88%|████████▊ | 220/250 [00:02<00:00, 108.44it/s]\u001b[A\n",
      " 92%|█████████▏| 231/250 [00:02<00:00, 108.66it/s]\u001b[A\n",
      "100%|██████████| 250/250 [00:02<00:00, 108.54it/s]\u001b[A\n"
     ]
    },
    {
     "name": "stdout",
     "output_type": "stream",
     "text": [
      "video_name: ('유튜브_음식_17341',), inputs.shape: torch.Size([1, 250, 3, 224, 224]), labels.shape: torch.Size([1, 250])\n"
     ]
    },
    {
     "name": "stderr",
     "output_type": "stream",
     "text": [
      "\n",
      "  0%|          | 0/250 [00:00<?, ?it/s]\u001b[A\n",
      "  4%|▍         | 11/250 [00:00<00:02, 102.98it/s]\u001b[A\n",
      "  9%|▉         | 22/250 [00:00<00:02, 106.26it/s]\u001b[A\n",
      " 13%|█▎        | 33/250 [00:00<00:02, 107.27it/s]\u001b[A\n",
      " 18%|█▊        | 44/250 [00:00<00:01, 107.96it/s]\u001b[A\n",
      " 22%|██▏       | 55/250 [00:00<00:01, 108.13it/s]\u001b[A\n",
      " 26%|██▋       | 66/250 [00:00<00:01, 108.23it/s]\u001b[A\n",
      " 31%|███       | 77/250 [00:00<00:01, 108.28it/s]\u001b[A\n",
      " 35%|███▌      | 88/250 [00:00<00:01, 108.13it/s]\u001b[A\n",
      " 40%|███▉      | 99/250 [00:00<00:01, 108.42it/s]\u001b[A\n",
      " 44%|████▍     | 110/250 [00:01<00:01, 108.68it/s]\u001b[A\n",
      " 48%|████▊     | 121/250 [00:01<00:01, 108.48it/s]\u001b[A\n",
      " 53%|█████▎    | 132/250 [00:01<00:01, 108.64it/s]\u001b[A\n",
      " 57%|█████▋    | 143/250 [00:01<00:00, 108.23it/s]\u001b[A\n",
      " 62%|██████▏   | 154/250 [00:01<00:00, 108.18it/s]\u001b[A\n",
      " 66%|██████▌   | 165/250 [00:01<00:00, 107.97it/s]\u001b[A\n",
      " 70%|███████   | 176/250 [00:01<00:00, 107.85it/s]\u001b[A\n",
      " 75%|███████▍  | 187/250 [00:01<00:00, 108.09it/s]\u001b[A\n",
      " 79%|███████▉  | 198/250 [00:01<00:00, 108.17it/s]\u001b[A\n",
      " 84%|████████▎ | 209/250 [00:01<00:00, 108.38it/s]\u001b[A\n",
      " 88%|████████▊ | 220/250 [00:02<00:00, 108.34it/s]\u001b[A\n",
      " 92%|█████████▏| 231/250 [00:02<00:00, 108.29it/s]\u001b[A\n",
      "100%|██████████| 250/250 [00:02<00:00, 108.08it/s]\u001b[A\n"
     ]
    },
    {
     "name": "stdout",
     "output_type": "stream",
     "text": [
      "video_name: ('유튜브_음식_17341',), inputs.shape: torch.Size([1, 250, 3, 224, 224]), labels.shape: torch.Size([1, 250])\n"
     ]
    },
    {
     "name": "stderr",
     "output_type": "stream",
     "text": [
      "\n",
      "  0%|          | 0/250 [00:00<?, ?it/s]\u001b[A\n",
      "  4%|▍         | 11/250 [00:00<00:02, 102.54it/s]\u001b[A\n",
      "  9%|▉         | 22/250 [00:00<00:02, 105.71it/s]\u001b[A\n",
      " 13%|█▎        | 33/250 [00:00<00:02, 106.88it/s]\u001b[A\n",
      " 18%|█▊        | 44/250 [00:00<00:01, 107.66it/s]\u001b[A\n",
      " 22%|██▏       | 55/250 [00:00<00:01, 108.22it/s]\u001b[A\n",
      " 26%|██▋       | 66/250 [00:00<00:01, 108.40it/s]\u001b[A\n",
      " 31%|███       | 77/250 [00:00<00:01, 108.30it/s]\u001b[A\n",
      " 35%|███▌      | 88/250 [00:00<00:01, 108.45it/s]\u001b[A\n",
      " 40%|███▉      | 99/250 [00:00<00:01, 108.46it/s]\u001b[A\n",
      " 44%|████▍     | 110/250 [00:01<00:01, 108.49it/s]\u001b[A\n",
      " 48%|████▊     | 121/250 [00:01<00:01, 108.59it/s]\u001b[A\n",
      " 53%|█████▎    | 132/250 [00:01<00:01, 108.67it/s]\u001b[A\n",
      " 57%|█████▋    | 143/250 [00:01<00:00, 108.80it/s]\u001b[A\n",
      " 62%|██████▏   | 154/250 [00:01<00:00, 108.57it/s]\u001b[A\n",
      " 66%|██████▌   | 165/250 [00:01<00:00, 108.58it/s]\u001b[A\n",
      " 70%|███████   | 176/250 [00:01<00:00, 108.54it/s]\u001b[A\n",
      " 75%|███████▍  | 187/250 [00:01<00:00, 108.62it/s]\u001b[A\n",
      " 79%|███████▉  | 198/250 [00:01<00:00, 108.55it/s]\u001b[A\n",
      " 84%|████████▎ | 209/250 [00:01<00:00, 108.36it/s]\u001b[A\n",
      " 88%|████████▊ | 220/250 [00:02<00:00, 108.43it/s]\u001b[A\n",
      " 92%|█████████▏| 231/250 [00:02<00:00, 108.10it/s]\u001b[A\n",
      "100%|██████████| 250/250 [00:02<00:00, 108.12it/s]\u001b[A\n"
     ]
    },
    {
     "name": "stdout",
     "output_type": "stream",
     "text": [
      "video_name: ('유튜브_음식_17341',), inputs.shape: torch.Size([1, 250, 3, 224, 224]), labels.shape: torch.Size([1, 250])\n"
     ]
    },
    {
     "name": "stderr",
     "output_type": "stream",
     "text": [
      "\n",
      "  0%|          | 0/250 [00:00<?, ?it/s]\u001b[A\n",
      "  4%|▍         | 10/250 [00:00<00:02, 93.95it/s]\u001b[A\n",
      "  8%|▊         | 21/250 [00:00<00:02, 99.49it/s]\u001b[A\n",
      " 13%|█▎        | 32/250 [00:00<00:02, 103.27it/s]\u001b[A\n",
      " 17%|█▋        | 43/250 [00:00<00:01, 105.57it/s]\u001b[A\n",
      " 22%|██▏       | 54/250 [00:00<00:01, 106.36it/s]\u001b[A\n",
      " 26%|██▌       | 65/250 [00:00<00:01, 107.02it/s]\u001b[A\n",
      " 30%|███       | 76/250 [00:00<00:01, 107.47it/s]\u001b[A\n",
      " 35%|███▍      | 87/250 [00:00<00:01, 107.91it/s]\u001b[A\n",
      " 39%|███▉      | 98/250 [00:00<00:01, 108.30it/s]\u001b[A\n",
      " 44%|████▎     | 109/250 [00:01<00:01, 108.54it/s]\u001b[A\n",
      " 48%|████▊     | 120/250 [00:01<00:01, 108.66it/s]\u001b[A\n",
      " 52%|█████▏    | 131/250 [00:01<00:01, 108.59it/s]\u001b[A\n",
      " 57%|█████▋    | 142/250 [00:01<00:00, 108.60it/s]\u001b[A\n",
      " 61%|██████    | 153/250 [00:01<00:00, 108.77it/s]\u001b[A\n",
      " 66%|██████▌   | 164/250 [00:01<00:00, 108.85it/s]\u001b[A\n",
      " 70%|███████   | 175/250 [00:01<00:00, 108.96it/s]\u001b[A\n",
      " 74%|███████▍  | 186/250 [00:01<00:00, 108.96it/s]\u001b[A\n",
      " 79%|███████▉  | 197/250 [00:01<00:00, 108.77it/s]\u001b[A\n",
      " 83%|████████▎ | 208/250 [00:01<00:00, 108.18it/s]\u001b[A\n",
      " 88%|████████▊ | 219/250 [00:02<00:00, 108.41it/s]\u001b[A\n",
      " 92%|█████████▏| 230/250 [00:02<00:00, 108.62it/s]\u001b[A\n",
      "100%|██████████| 250/250 [00:02<00:00, 107.68it/s]\u001b[A\n"
     ]
    },
    {
     "name": "stdout",
     "output_type": "stream",
     "text": [
      "video_name: ('유튜브_음식_17341',), inputs.shape: torch.Size([1, 67, 3, 224, 224]), labels.shape: torch.Size([1, 67])\n"
     ]
    },
    {
     "name": "stderr",
     "output_type": "stream",
     "text": [
      "\n",
      "  0%|          | 0/67 [00:00<?, ?it/s]\u001b[A\n",
      " 16%|█▋        | 11/67 [00:00<00:00, 105.30it/s]\u001b[A\n",
      " 33%|███▎      | 22/67 [00:00<00:00, 107.88it/s]\u001b[A\n",
      " 51%|█████     | 34/67 [00:00<00:00, 108.81it/s]\u001b[A\n",
      " 69%|██████▊   | 46/67 [00:00<00:00, 109.51it/s]\u001b[A\n",
      "100%|██████████| 67/67 [00:00<00:00, 108.99it/s]\u001b[A\n"
     ]
    }
   ],
   "source": [
    "from tqdm.notebook import tqdm_notebook\n",
    "\n",
    "d = SummaryDataset(args.videos, args.data_directory, args.video_features_file)\n",
    "dl = DataLoader(d, batch_size=1)\n",
    "\n",
    "vit_features = []\n",
    "y_pred=[]\n",
    "\n",
    "for video_name, inputs, labels in tqdm_notebook(dl,total=len(dl), desc='Processing dataset' ):\n",
    "    with torch.no_grad():\n",
    "        model.eval()\n",
    "        y_pred_list = []\n",
    "        vit_features_list=[]\n",
    "        print(f'video_name: {video_name}, inputs.shape: {inputs.shape}, labels.shape: {labels.shape}')\n",
    "        for f in tqdm(inputs.squeeze(0)):\n",
    "#             print(f.unsqueeze(0).shape)\n",
    "        #     print(frame.unsqueeze(0).shape)\n",
    "            y_p, y_f = model(f.cuda().unsqueeze(0))\n",
    "#            print(y_f.shape)\n",
    "#             print(y_f.cpu().detach().numpy().shape)\n",
    "            y_p = torch.sigmoid(y_p)\n",
    "            y_pred_list.append(y_p.cpu().detach().numpy().squeeze())    \n",
    "            vit_features_list.append(y_f.cpu().detach().numpy().squeeze())        \n",
    "        y_pred.append(np.array(y_pred_list))    \n",
    "        vit_features.append(np.array(vit_features_list)) \n",
    "y_pred = np.array(y_pred)"
   ]
  },
  {
   "cell_type": "code",
   "execution_count": 10,
   "metadata": {},
   "outputs": [],
   "source": [
    "vit_features = [torch.tensor(a) for a in vit_features]"
   ]
  },
  {
   "cell_type": "code",
   "execution_count": 11,
   "metadata": {},
   "outputs": [
    {
     "data": {
      "text/plain": [
       "[tensor([[ 0.3657, -0.5553, -0.6734,  ...,  0.3182, -0.3054, -0.0409],\n",
       "         [-0.0605, -0.4531, -0.7279,  ...,  0.2190, -0.4074,  0.1458],\n",
       "         [-0.1821, -0.5016, -0.6912,  ...,  0.0088, -0.4518,  0.0636],\n",
       "         ...,\n",
       "         [ 0.1141, -0.3323, -0.6371,  ...,  0.5243,  0.3008,  0.3631],\n",
       "         [ 0.1662, -0.2568, -0.7158,  ...,  0.4472,  0.1646,  0.2294],\n",
       "         [ 0.1062, -0.2085, -0.7234,  ...,  0.4424,  0.2549,  0.2020]]),\n",
       " tensor([[ 0.2073, -0.3905, -0.6590,  ...,  0.3863,  0.3534,  0.1935],\n",
       "         [ 0.3785, -0.6881, -0.5155,  ...,  0.5178, -0.0008, -0.0515],\n",
       "         [ 0.3220, -0.5566, -0.2910,  ...,  0.2623,  0.3088,  0.3238],\n",
       "         ...,\n",
       "         [ 0.0114, -0.4992, -0.6723,  ...,  0.3997, -0.1041, -0.0627],\n",
       "         [ 0.0619, -0.3843, -0.6765,  ...,  0.3933,  0.0124, -0.1047],\n",
       "         [ 0.1660, -0.5196, -0.7116,  ...,  0.4666,  0.1052, -0.0909]]),\n",
       " tensor([[-1.1717e-01, -3.9073e-01, -6.6894e-01,  ...,  2.6184e-01,\n",
       "           8.8164e-02, -2.2633e-01],\n",
       "         [ 1.8046e-02, -3.4640e-01, -6.4902e-01,  ...,  3.8356e-01,\n",
       "           1.0796e-01, -1.1575e-01],\n",
       "         [ 1.0219e-01, -4.3507e-01, -7.0584e-01,  ...,  3.6760e-01,\n",
       "           6.6669e-02, -3.5304e-04],\n",
       "         ...,\n",
       "         [ 6.9406e-01,  8.4032e-02, -5.2955e-02,  ...,  4.8355e-01,\n",
       "           1.5388e-01,  2.0592e-01],\n",
       "         [ 5.7719e-01,  5.5499e-02, -1.5875e-01,  ...,  5.6988e-01,\n",
       "           7.4952e-02,  2.1453e-01],\n",
       "         [ 1.6191e-02, -1.1951e-01, -4.8306e-01,  ...,  3.1179e-01,\n",
       "           1.6119e-01,  1.4287e-02]]),\n",
       " tensor([[ 0.3253, -0.4068, -0.5932,  ...,  0.4511,  0.2966,  0.2575],\n",
       "         [ 0.3468, -0.3645, -0.5076,  ...,  0.3602,  0.3333,  0.0390],\n",
       "         [ 0.3490, -0.3644, -0.5067,  ...,  0.3583,  0.3352,  0.0534],\n",
       "         ...,\n",
       "         [ 0.3666, -0.4237, -0.6296,  ...,  0.3894,  0.1329,  0.3337],\n",
       "         [ 0.3632, -0.4243, -0.6344,  ...,  0.3907,  0.1324,  0.3426],\n",
       "         [ 0.3692, -0.4340, -0.6415,  ...,  0.3839,  0.1286,  0.3331]]),\n",
       " tensor([[ 0.3804, -0.4285, -0.6346,  ...,  0.3807,  0.1119,  0.3285],\n",
       "         [ 0.3760, -0.4218, -0.6371,  ...,  0.3960,  0.1381,  0.3505],\n",
       "         [ 0.3558, -0.4266, -0.6381,  ...,  0.3903,  0.1389,  0.3591],\n",
       "         ...,\n",
       "         [ 0.4356, -0.4128, -0.6085,  ...,  0.4549,  0.3991,  0.3437],\n",
       "         [ 0.4499, -0.4325, -0.6046,  ...,  0.4663,  0.4249,  0.2911],\n",
       "         [ 0.4319, -0.4038, -0.6049,  ...,  0.4683,  0.4013,  0.3470]]),\n",
       " tensor([[ 0.4530, -0.3984, -0.5934,  ...,  0.4586,  0.3760,  0.3497],\n",
       "         [ 0.4531, -0.3868, -0.6000,  ...,  0.4729,  0.3987,  0.3568],\n",
       "         [ 0.4456, -0.4398, -0.6063,  ...,  0.4561,  0.4206,  0.2955],\n",
       "         ...,\n",
       "         [ 0.3565, -0.4022, -0.5644,  ...,  0.4408,  0.2443,  0.1636],\n",
       "         [ 0.3130, -0.3928, -0.6150,  ...,  0.4311,  0.2664,  0.2501],\n",
       "         [ 0.3842, -0.3645, -0.5616,  ...,  0.5110,  0.3080,  0.2193]]),\n",
       " tensor([[ 0.3878, -0.3819, -0.5383,  ...,  0.5052,  0.2938,  0.1810],\n",
       "         [ 0.3324, -0.3936, -0.5577,  ...,  0.4757,  0.2384,  0.1674],\n",
       "         [ 0.3177, -0.3401, -0.5330,  ...,  0.4926,  0.2917,  0.2422],\n",
       "         ...,\n",
       "         [ 0.2841, -0.2486, -0.6963,  ...,  0.4601,  0.3224,  0.3677],\n",
       "         [ 0.2878, -0.2558, -0.7010,  ...,  0.4570,  0.3590,  0.3410],\n",
       "         [ 0.2375, -0.2461, -0.6619,  ...,  0.4245,  0.3835,  0.3336]]),\n",
       " tensor([[ 0.0897, -0.5725, -0.5552,  ...,  0.2860, -0.3259,  0.4412],\n",
       "         [ 0.4355, -0.5282, -0.3292,  ...,  0.5148, -0.3708, -0.0433],\n",
       "         [ 0.5345, -0.4009, -0.4651,  ...,  0.4661, -0.0185, -0.0438],\n",
       "         ...,\n",
       "         [ 0.0060, -0.8183, -0.7698,  ..., -0.1566,  0.6287,  0.0082],\n",
       "         [-0.0318, -0.8115, -0.6323,  ...,  0.1073,  0.5890,  0.1373],\n",
       "         [ 0.2014, -0.6561, -0.2209,  ..., -0.1161,  0.4123,  0.0563]]),\n",
       " tensor([[ 0.0503, -0.5309, -0.6031,  ...,  0.2458,  0.2733, -0.1774],\n",
       "         [ 0.1171, -0.4127, -0.5065,  ...,  0.4079,  0.1909, -0.2697],\n",
       "         [ 0.0402, -0.4510, -0.3526,  ...,  0.3333,  0.2425, -0.4044],\n",
       "         ...,\n",
       "         [ 0.0935, -0.6328, -0.4383,  ...,  0.1684,  0.4418,  0.1009],\n",
       "         [ 0.2130, -0.6087, -0.5615,  ...,  0.2298,  0.0047,  0.1911],\n",
       "         [-0.0052, -0.5156, -0.5195,  ...,  0.2178,  0.3375,  0.2776]]),\n",
       " tensor([[-0.0035, -0.7148, -0.4781,  ...,  0.1203,  0.3331, -0.1768],\n",
       "         [ 0.1508, -0.4382, -0.5818,  ...,  0.3275,  0.2699,  0.1161],\n",
       "         [ 0.3457, -0.4990, -0.4263,  ...,  0.2761,  0.4890,  0.2757],\n",
       "         ...,\n",
       "         [ 0.1052, -0.4600, -0.6411,  ...,  0.4929,  0.0462,  0.2774],\n",
       "         [ 0.2270, -0.3573, -0.6020,  ...,  0.5429,  0.1600,  0.1774],\n",
       "         [ 0.2028, -0.3933, -0.6414,  ...,  0.5162,  0.1162,  0.2080]]),\n",
       " tensor([[ 0.1301, -0.4000, -0.6200,  ...,  0.4925,  0.0840,  0.2190],\n",
       "         [ 0.0463, -0.4506, -0.6371,  ...,  0.4822, -0.0259,  0.2446],\n",
       "         [ 0.2586, -0.4218, -0.6438,  ...,  0.5058,  0.0825,  0.1782],\n",
       "         ...,\n",
       "         [ 0.3883, -0.5690, -0.6048,  ...,  0.3152, -0.4803, -0.1025],\n",
       "         [ 0.4521, -0.2559, -0.2961,  ...,  0.3294,  0.1153,  0.1513],\n",
       "         [ 0.5484, -0.4205, -0.4488,  ...,  0.2665, -0.3041,  0.0883]]),\n",
       " tensor([[ 0.4477, -0.2589, -0.3807,  ...,  0.2646,  0.0074,  0.2097],\n",
       "         [ 0.4946, -0.3500, -0.3807,  ...,  0.2386, -0.1785,  0.1422],\n",
       "         [ 0.4423, -0.6189, -0.5584,  ...,  0.4247, -0.1377,  0.1273],\n",
       "         ...,\n",
       "         [ 0.2976, -0.5134, -0.3842,  ...,  0.4855, -0.2318,  0.0893],\n",
       "         [ 0.3695, -0.3654, -0.4900,  ...,  0.3201,  0.0206, -0.2601],\n",
       "         [ 0.3474, -0.4007, -0.3438,  ...,  0.3753, -0.0941, -0.3216]]),\n",
       " tensor([[-0.0239, -0.0704, -0.5028,  ...,  0.3010,  0.1828,  0.0227],\n",
       "         [ 0.1443, -0.5516, -0.6764,  ...,  0.3454,  0.1125,  0.1433],\n",
       "         [ 0.1437, -0.1156, -0.4108,  ...,  0.5185,  0.1714,  0.0421],\n",
       "         ...,\n",
       "         [-0.1254, -0.4722, -0.5429,  ...,  0.5060,  0.2548, -0.1170],\n",
       "         [-0.1092, -0.5392, -0.5345,  ...,  0.5419,  0.2574, -0.0125],\n",
       "         [-0.1036, -0.5147, -0.5337,  ...,  0.4757,  0.3455,  0.0855]]),\n",
       " tensor([[ 0.0900, -0.3016, -0.6761,  ...,  0.5547,  0.3578,  0.5256],\n",
       "         [ 0.2039, -0.5713, -0.2997,  ...,  0.5315,  0.3220, -0.0768],\n",
       "         [ 0.1525, -0.5138, -0.3346,  ...,  0.5568,  0.3925,  0.0126],\n",
       "         ...,\n",
       "         [ 0.0377, -0.5541, -0.2461,  ...,  0.6124,  0.5825,  0.0052],\n",
       "         [ 0.1407, -0.4142, -0.1709,  ...,  0.5780,  0.5258,  0.1318],\n",
       "         [ 0.1703, -0.5471, -0.3461,  ...,  0.6859,  0.5795,  0.1886]]),\n",
       " tensor([[ 0.0360, -0.5074, -0.3350,  ...,  0.3795,  0.5650,  0.0738],\n",
       "         [ 0.1263, -0.4388, -0.3293,  ...,  0.3841,  0.5029,  0.0329],\n",
       "         [ 0.2307, -0.1939, -0.2092,  ...,  0.4008,  0.4197,  0.1098],\n",
       "         ...,\n",
       "         [ 0.0994, -0.0522, -0.2126,  ...,  0.1975,  0.5270,  0.0984],\n",
       "         [ 0.0862, -0.0283, -0.3163,  ...,  0.4049,  0.6013,  0.0953],\n",
       "         [-0.0058, -0.0787, -0.3868,  ...,  0.3873,  0.6644,  0.0888]]),\n",
       " tensor([[ 0.1834, -0.1278, -0.1606,  ...,  0.3349,  0.8329,  0.1813],\n",
       "         [ 0.0837, -0.1808, -0.3499,  ...,  0.3871,  0.6390,  0.0347],\n",
       "         [ 0.2264, -0.0543, -0.3368,  ...,  0.3657,  0.6805,  0.1637],\n",
       "         ...,\n",
       "         [ 0.1078, -0.2944, -0.3847,  ...,  0.1631,  0.4247,  0.0192],\n",
       "         [ 0.1800, -0.3227, -0.4145,  ...,  0.1925,  0.3243,  0.0219],\n",
       "         [-0.0226, -0.3575, -0.3912,  ...,  0.2094,  0.3126,  0.0483]]),\n",
       " tensor([[ 0.1576, -0.4010, -0.4358,  ...,  0.3006,  0.3101,  0.0128],\n",
       "         [ 0.0810, -0.3727, -0.4485,  ...,  0.3753,  0.4257,  0.0722],\n",
       "         [ 0.0185, -0.3921, -0.4296,  ...,  0.3141,  0.4342,  0.0885],\n",
       "         ...,\n",
       "         [ 0.2127, -0.3691, -0.0636,  ...,  0.3888,  0.5627, -0.0457],\n",
       "         [ 0.0846, -0.3175, -0.4932,  ...,  0.5310,  0.5782,  0.2995],\n",
       "         [ 0.1457, -0.2627, -0.4543,  ...,  0.3802,  0.5495,  0.2314]]),\n",
       " tensor([[ 0.1335, -0.2734, -0.4463,  ...,  0.3488,  0.5546,  0.1942],\n",
       "         [ 0.1351, -0.3357, -0.3678,  ...,  0.3189,  0.5625,  0.1934],\n",
       "         [ 0.1255, -0.3453, -0.3600,  ...,  0.2387,  0.6237,  0.1098],\n",
       "         ...,\n",
       "         [ 0.1550, -0.1041, -0.2104,  ...,  0.2283,  0.5606,  0.2300],\n",
       "         [ 0.1008, -0.1765, -0.2395,  ...,  0.1892,  0.6634,  0.2193],\n",
       "         [ 0.1563,  0.0052, -0.2123,  ...,  0.3297,  0.5212,  0.1721]]),\n",
       " tensor([[ 0.4313, -0.1202, -0.2714,  ...,  0.2438,  0.3935,  0.0104],\n",
       "         [ 0.4741, -0.1085, -0.2708,  ...,  0.2339,  0.3266,  0.1255],\n",
       "         [ 0.1722, -0.4018, -0.2847,  ...,  0.4232,  0.0719, -0.0109],\n",
       "         ...,\n",
       "         [ 0.2501, -0.0795, -0.3342,  ...,  0.3179,  0.4223,  0.0422],\n",
       "         [ 0.3640, -0.1368, -0.2669,  ...,  0.3355,  0.3810, -0.0804],\n",
       "         [ 0.2540, -0.0265, -0.2766,  ...,  0.3425,  0.4358, -0.0459]]),\n",
       " tensor([[ 0.3669, -0.1481, -0.3620,  ...,  0.3883,  0.4763, -0.0188],\n",
       "         [ 0.2116, -0.0558, -0.3192,  ...,  0.3659,  0.5096, -0.1239],\n",
       "         [ 0.1917, -0.0926, -0.3320,  ...,  0.3809,  0.4908, -0.1538],\n",
       "         ...,\n",
       "         [ 0.2569, -0.2899, -0.2715,  ...,  0.4854,  0.1064,  0.1045],\n",
       "         [ 0.3468, -0.1863, -0.2602,  ...,  0.2973,  0.4070, -0.0393],\n",
       "         [ 0.3468, -0.1863, -0.2603,  ...,  0.2972,  0.4070, -0.0394]]),\n",
       " tensor([[ 0.2046, -0.4014, -0.3749,  ...,  0.3395,  0.1760, -0.1564],\n",
       "         [ 0.1902, -0.4263, -0.3765,  ...,  0.3325,  0.1624, -0.2180],\n",
       "         [ 0.2345, -0.4590, -0.4787,  ...,  0.2999,  0.0577, -0.0160],\n",
       "         ...,\n",
       "         [ 0.1875, -0.2799, -0.4239,  ...,  0.4826,  0.1858, -0.0839],\n",
       "         [ 0.3540, -0.2430, -0.6565,  ...,  0.6834,  0.1764, -0.3269],\n",
       "         [ 0.3128, -0.4011, -0.6035,  ...,  0.6545,  0.3629, -0.4068]]),\n",
       " tensor([[ 0.3044, -0.2797, -0.5341,  ...,  0.3791,  0.3661, -0.0744],\n",
       "         [ 0.2683, -0.3024, -0.4642,  ...,  0.3511,  0.3573, -0.0671],\n",
       "         [ 0.3269, -0.4580, -0.4224,  ...,  0.5031,  0.1104,  0.2017],\n",
       "         ...,\n",
       "         [ 0.3035, -0.5398, -0.4635,  ...,  0.0941,  0.3395, -0.2511],\n",
       "         [ 0.3275, -0.5133, -0.4911,  ...,  0.1574,  0.3216, -0.2356],\n",
       "         [ 0.2475, -0.4865, -0.5023,  ...,  0.2177,  0.3326, -0.1985]]),\n",
       " tensor([[ 0.1241, -0.4536, -0.5659,  ...,  0.4281, -0.2166, -0.4586],\n",
       "         [ 0.3032, -0.4346, -0.5868,  ...,  0.4335, -0.1366, -0.2448],\n",
       "         [ 0.2797, -0.4238, -0.5649,  ...,  0.4670, -0.1598, -0.3117],\n",
       "         ...,\n",
       "         [ 0.2065, -0.1331, -0.5478,  ...,  0.4301, -0.0895, -0.0699],\n",
       "         [ 0.1942, -0.1566, -0.5721,  ...,  0.4413, -0.0984, -0.0153],\n",
       "         [ 0.0638, -0.0417, -0.5306,  ...,  0.4193,  0.3218, -0.0628]]),\n",
       " tensor([[ 0.1093, -0.0756, -0.3173,  ...,  0.4020,  0.3333, -0.0237],\n",
       "         [ 0.1269, -0.0089, -0.2639,  ...,  0.4044,  0.2184, -0.0546],\n",
       "         [ 0.1378, -0.0904, -0.2610,  ...,  0.4861,  0.4513, -0.0013],\n",
       "         ...,\n",
       "         [ 0.4608, -0.2571, -0.2979,  ...,  0.3787,  0.4015,  0.2328],\n",
       "         [ 0.3814, -0.0764, -0.2022,  ...,  0.6607,  0.6815, -0.1754],\n",
       "         [ 0.4220, -0.2832, -0.1175,  ...,  0.3480,  0.5968, -0.0647]]),\n",
       " tensor([[ 0.4064, -0.1695, -0.1667,  ...,  0.4602,  0.6481, -0.0050],\n",
       "         [ 0.3429, -0.2052, -0.2225,  ...,  0.4751,  0.6389,  0.1709],\n",
       "         [ 0.2553, -0.3224, -0.3502,  ...,  0.6051,  0.0979, -0.0083],\n",
       "         ...,\n",
       "         [ 0.6470, -0.4855, -0.4787,  ...,  0.3369, -0.0351,  0.1473],\n",
       "         [ 0.6459, -0.4873, -0.4782,  ...,  0.3369, -0.0363,  0.1453],\n",
       "         [ 0.6373, -0.4740, -0.4644,  ...,  0.3445, -0.0722,  0.1424]]),\n",
       " tensor([[-0.1219, -0.4147, -0.4086,  ...,  0.2167,  0.6221, -0.1309],\n",
       "         [-0.0447, -0.1329, -0.4317,  ...,  0.2918,  0.6374, -0.1569],\n",
       "         [-0.1080, -0.1915, -0.4756,  ...,  0.2395,  0.5258, -0.2272],\n",
       "         ...,\n",
       "         [ 0.2229, -0.2745, -0.3980,  ...,  0.3014,  0.4938,  0.0148],\n",
       "         [ 0.3652, -0.3097, -0.5844,  ...,  0.5058,  0.1419, -0.0252],\n",
       "         [ 0.5106, -0.5291, -0.6617,  ...,  0.2241,  0.0628, -0.1785]]),\n",
       " tensor([[ 0.0875, -0.3013, -0.3869,  ...,  0.4392,  0.4194,  0.0575],\n",
       "         [ 0.1040, -0.3324, -0.4326,  ...,  0.5323,  0.2828,  0.0111],\n",
       "         [ 0.0880, -0.3060, -0.4505,  ...,  0.5865,  0.5162,  0.0532],\n",
       "         ...,\n",
       "         [ 0.0530, -0.4078, -0.4251,  ...,  0.5420,  0.2040, -0.2499],\n",
       "         [ 0.0227, -0.3648, -0.3555,  ...,  0.4092,  0.2277, -0.1841],\n",
       "         [ 0.0100, -0.3996, -0.5551,  ...,  0.4632,  0.3269, -0.1994]]),\n",
       " tensor([[ 0.0387, -0.3975, -0.5046,  ...,  0.4520,  0.1724, -0.2861],\n",
       "         [-0.0228, -0.4022, -0.4034,  ...,  0.4249,  0.1121, -0.2451],\n",
       "         [-0.1172, -0.2086, -0.2410,  ...,  0.4217,  0.2115, -0.1851],\n",
       "         ...,\n",
       "         [ 0.1177, -0.3782, -0.2311,  ...,  0.3706,  0.5691, -0.0013],\n",
       "         [ 0.0184, -0.3203, -0.2100,  ...,  0.3350,  0.3379, -0.2589],\n",
       "         [ 0.0470, -0.2942, -0.2566,  ...,  0.2447,  0.4283, -0.1422]]),\n",
       " tensor([[ 1.6473e-01, -3.6256e-01, -1.3723e-01,  ...,  2.5914e-01,\n",
       "           5.3956e-01, -1.1997e-01],\n",
       "         [ 1.2882e-01, -3.3674e-01, -3.4293e-01,  ...,  4.1501e-01,\n",
       "           2.4418e-01,  2.3337e-01],\n",
       "         [-6.1046e-02, -2.4779e-01, -4.0574e-04,  ...,  5.0629e-01,\n",
       "           4.2748e-01,  4.1376e-03],\n",
       "         ...,\n",
       "         [ 2.7291e-01, -2.9857e-01, -5.2627e-01,  ...,  4.6365e-01,\n",
       "           4.1486e-01, -5.5857e-04],\n",
       "         [ 2.5417e-01, -2.4532e-01, -3.6899e-01,  ...,  3.0246e-01,\n",
       "           3.9925e-01,  5.0151e-02],\n",
       "         [ 2.3277e-01, -2.2107e-01, -3.8102e-01,  ...,  3.8439e-01,\n",
       "           3.5759e-01,  2.0252e-02]]),\n",
       " tensor([[ 0.3857, -0.1636, -0.4615,  ...,  0.4348,  0.5464,  0.0350],\n",
       "         [ 0.3026, -0.3493, -0.5660,  ...,  0.4225,  0.2898,  0.1555],\n",
       "         [ 0.3012, -0.2297, -0.5272,  ...,  0.4059,  0.3383,  0.1681],\n",
       "         ...,\n",
       "         [ 0.2269, -0.0445, -0.3356,  ...,  0.0353,  0.3553,  0.2904],\n",
       "         [ 0.3114, -0.1605, -0.3586,  ...,  0.0053,  0.3935,  0.3316],\n",
       "         [ 0.3753, -0.3295, -0.4037,  ...,  0.0659,  0.3506,  0.1610]]),\n",
       " tensor([[ 0.4959,  0.1280, -0.3485,  ...,  0.0147,  0.1395,  0.1205],\n",
       "         [ 0.0752, -0.1210, -0.3211,  ...,  0.0033,  0.4807,  0.3955],\n",
       "         [ 0.2936, -0.3666, -0.4034,  ...,  0.2210,  0.2510,  0.2464],\n",
       "         ...,\n",
       "         [ 0.3102, -0.0645, -0.2113,  ...,  0.2880,  0.4212,  0.4903],\n",
       "         [-0.0256, -0.0676, -0.5029,  ...,  0.3018,  0.1832,  0.0232],\n",
       "         [-0.0256, -0.0676, -0.5029,  ...,  0.3018,  0.1832,  0.0232]])]"
      ]
     },
     "execution_count": 11,
     "metadata": {},
     "output_type": "execute_result"
    }
   ],
   "source": [
    "vit_features"
   ]
  },
  {
   "cell_type": "code",
   "execution_count": 12,
   "metadata": {},
   "outputs": [
    {
     "data": {
      "text/plain": [
       "torch.Size([250, 768])"
      ]
     },
     "execution_count": 12,
     "metadata": {},
     "output_type": "execute_result"
    }
   ],
   "source": [
    "vit_features[0].shape"
   ]
  },
  {
   "cell_type": "markdown",
   "metadata": {},
   "source": [
    "# audio "
   ]
  },
  {
   "cell_type": "code",
   "execution_count": 13,
   "metadata": {},
   "outputs": [],
   "source": [
    "import json\n",
    "import math\n",
    "import librosa\n",
    "from collections import defaultdict\n",
    "from pathlib import Path\n",
    "import torch\n",
    "import numpy as np\n",
    "from torch.utils.data import DataLoader, Dataset"
   ]
  },
  {
   "cell_type": "code",
   "execution_count": 14,
   "metadata": {},
   "outputs": [],
   "source": [
    "class SummaryDataset(Dataset):\n",
    "    def __init__(self, video_dir, wav_dir, directory, max_seq_len=250):\n",
    "        self.directory = directory\n",
    "        self.video_names = self.get_video_names(video_dir)\n",
    "        self.wav_dir = wav_dir\n",
    "        self.max_seq_len = max_seq_len\n",
    "\n",
    "        # Because we can't use DDP with IterableDataset,\n",
    "        # data must be pre-chunked to combat OOM.\n",
    "        self.label_files = self.prefetch_label_files()\n",
    "        self.data_size, self.index_to_chunk, self.labels = self.prefetch_and_index()\n",
    "\n",
    "    def get_video_names(self, mp4_dir):\n",
    "        # mp4 파일이 있는 디렉토리 경로\n",
    "        # mp4_dir = \"/workspace/EmotionShortForm/aihub/2.Validation/Video_data/VS_유튜브_04\"\n",
    "\n",
    "        video_names = []\n",
    "        for filename in os.listdir(mp4_dir):\n",
    "            if filename.endswith('.mp4'):\n",
    "                name = os.path.splitext(filename)[0]\n",
    "                video_names.append(name)\n",
    "        return video_names\n",
    "\n",
    "    def prefetch_label_files(self):\n",
    "        # video_names 는 이름만 들어있을것 .mp4 제거\n",
    "        name_set = set(self.video_names)\n",
    "\n",
    "        label_files = defaultdict(list)\n",
    "\n",
    "        for label_file in Path(self.directory).glob(f\"**/*.json\"):\n",
    "\n",
    "            file_name = label_file.stem\n",
    "\n",
    "            # 예시: [KBS]kim370_대법원 업무 과부하…상고 법원이 대안_18567498.json\n",
    "            # annotator id 제거하면 비디오 이름 추출.\n",
    "            # 파일 이름 reverse ([::-1]) 후 \"_\" 찾음.\n",
    "            annotator_id_index = len(file_name) - file_name[::-1].find(\"_\") - 1\n",
    "            video_name = file_name[:annotator_id_index]\n",
    "\n",
    "            if video_name in name_set:\n",
    "                label_files[video_name].append(label_file)\n",
    "\n",
    "        return label_files\n",
    "\n",
    "    def prefetch_and_index(self):\n",
    "        index = 0\n",
    "        index_to_chunk = {}\n",
    "        all_labels = {}\n",
    "\n",
    "        for video_name in self.video_names:\n",
    "\n",
    "            labels = self.extract_label(video_name)\n",
    "\n",
    "            all_labels[video_name] = labels\n",
    "\n",
    "            chunk_count = math.ceil(len(labels[0]) / self.max_seq_len)\n",
    "            for chunk_index in range(0, chunk_count):\n",
    "                index_to_chunk[index + chunk_index] = (video_name, chunk_index)\n",
    "\n",
    "            index += chunk_count\n",
    "\n",
    "        return index, index_to_chunk, all_labels\n",
    "\n",
    "    def __len__(self):\n",
    "        return self.data_size\n",
    "\n",
    "    def __getitem__(self, index):        \n",
    "        video_name, chunk_index = self.index_to_chunk[index]\n",
    "        start = chunk_index * self.max_seq_len\n",
    "        end = start + self.max_seq_len\n",
    "        \n",
    "        labels = self.labels[video_name][:,start:end]\n",
    "\n",
    "        # audio_data: 음성 데이터, sr: sampling rate, max_seq_len: chunk 단위 길이\n",
    "        audio_data, sr = librosa.load(f\"{self.wav_dir}/{video_name}.wav\", sr=None)\n",
    "        # print(f'audio_data 길이: {len(audio_data)/sr}')\n",
    "        # print(f'sr: {sr}')\n",
    "        \n",
    "        audio_data = audio_data[start*sr:end*sr]\n",
    "        # print(f'audio_data 길이: {len(audio_data)/sr}')\n",
    "        \n",
    "        max_seq_len = labels.shape[-1]\n",
    "\n",
    "        \n",
    "        # 1초 단위로 MFCC 추출하여 리스트에 추가\n",
    "        sec = 1\n",
    "        mfcc_list = []\n",
    "        for i in range(0, len(audio_data), sec*sr):\n",
    "            audio_segment = audio_data[i : i + sec*sr]\n",
    "                \n",
    "            mfcc = librosa.feature.mfcc(y=audio_segment, sr=sr, n_mfcc=32).T\n",
    "            mfcc_mean = np.mean(mfcc, axis=0)\n",
    "            mfcc_list.append(mfcc_mean)\n",
    "\n",
    "        # 리스트를 배열로 변환\n",
    "        mfcc_array = np.vstack(mfcc_list)\n",
    "        \n",
    "        # Convert labels to 1D array\n",
    "        labels = torch.from_numpy(labels)\n",
    "        # majority voting\n",
    "        labels = labels.squeeze(0)\n",
    "        labels = torch.sum(labels, dim=0) \n",
    "        labels = torch.min(\n",
    "            labels,\n",
    "            torch.ones(\n",
    "                labels.shape[0],\n",
    "            ).to(labels.device),\n",
    "        )\n",
    "        return video_name, mfcc_array, labels\n",
    "\n",
    "    def extract_label(self, video_name):\n",
    "\n",
    "        label_files = self.label_files[video_name]\n",
    "        labels = []\n",
    "\n",
    "        for label_file in label_files:\n",
    "\n",
    "            with open(label_file, \"r\") as rf:\n",
    "                data = json.load(rf)\n",
    "\n",
    "            metadata = data[\"metadata\"]\n",
    "            video_length = math.ceil(metadata[\"length\"])\n",
    "            annotator_label = np.zeros((video_length,))\n",
    "\n",
    "            for timeline in data[\"timelines\"]:\n",
    "                for time_index in range(timeline[\"start\"], timeline[\"end\"] + 1):\n",
    "                    # annotator_label[time_index] += 1\n",
    "                    if time_index < video_length:\n",
    "                        annotator_label[time_index] = 1\n",
    "\n",
    "            labels.append(annotator_label)\n",
    "\n",
    "        labels = np.array(labels)\n",
    "        return labels\n"
   ]
  },
  {
   "cell_type": "code",
   "execution_count": 15,
   "metadata": {},
   "outputs": [],
   "source": [
    "# 라벨링 디렉토리 경로\n",
    "train_label_path = \"/workspace/EmotionShortForm/data_AIHub/1.Training/Labeling_data/TL_youtube\"\n",
    "val_label_path = \"/workspace/EmotionShortForm/data_AIHub/2.Validation/Labeling_data/VL_youtube\"\n",
    "\n",
    "# mp4 파일이 있는 디렉토리 경로\n",
    "mp4_dir = \"/workspace/EmotionShortForm/data_AIHub/2.Validation/Video_data/VS_유튜브_01\"\n",
    "\n",
    "# wav 파일이 있는 디렉토리 경로\n",
    "wav_dir = \"/workspace/EmotionShortForm/data_AIHub/2.Validation/Audio_data/VS_유튜브_01\""
   ]
  },
  {
   "cell_type": "code",
   "execution_count": 16,
   "metadata": {},
   "outputs": [],
   "source": [
    "sd = SummaryDataset(mp4_dir, wav_dir, val_label_path)\n",
    "\n",
    "dl = DataLoader(sd,batch_size=1)"
   ]
  },
  {
   "cell_type": "markdown",
   "metadata": {},
   "source": [
    "## model"
   ]
  },
  {
   "cell_type": "code",
   "execution_count": 17,
   "metadata": {},
   "outputs": [],
   "source": [
    "import torch\n",
    "import torch.nn as nn\n",
    "\n",
    "class LSTM(nn.Module):\n",
    "    def __init__(self, input_size, hidden_size, num_layers, output_size):\n",
    "        super(LSTM, self).__init__()\n",
    "        self.hidden_size = hidden_size\n",
    "        self.num_layers = num_layers\n",
    "        self.lstm = nn.LSTM(input_size, hidden_size, num_layers, batch_first=True)\n",
    "        self.fc = nn.Linear(hidden_size, output_size)\n",
    "    \n",
    "    def forward(self, x):\n",
    "        h0 = torch.zeros(self.num_layers, x.size(0), self.hidden_size).to(x.device)\n",
    "        c0 = torch.zeros(self.num_layers, x.size(0), self.hidden_size).to(x.device)\n",
    "        out, (hidden_state, cell_state) = self.lstm(x, (h0, c0))\n",
    "        output = self.fc(out[:,-1,:])\n",
    "        hidden = self.fc(hidden_state[-1])\n",
    "        return output, hidden, out[:,-1,:]"
   ]
  },
  {
   "cell_type": "code",
   "execution_count": 19,
   "metadata": {},
   "outputs": [
    {
     "data": {
      "text/plain": [
       "<All keys matched successfully>"
      ]
     },
     "execution_count": 19,
     "metadata": {},
     "output_type": "execute_result"
    }
   ],
   "source": [
    "# load model\n",
    "input_size = 32\n",
    "hidden_size = 128\n",
    "num_layers=3\n",
    "output_size=7\n",
    "\n",
    "emotion_model = LSTM(input_size, hidden_size, num_layers, output_size)\n",
    "emotion_model.load_state_dict(torch.load('../model/lstm_emotion_classification_model.pt'))\n",
    "\n",
    "input_size = 32\n",
    "hidden_size = 64\n",
    "num_layers = 3\n",
    "output_size = 1\n",
    "\n",
    "arousal_model = LSTM(input_size, hidden_size, num_layers, output_size)\n",
    "arousal_model.load_state_dict(torch.load('../model/lstm_arousal_model_best.pt'))\n",
    "\n",
    "input_size = 32\n",
    "hidden_size = 32\n",
    "num_layers=4\n",
    "output_size=1\n",
    "\n",
    "valence_model = LSTM(input_size, hidden_size, num_layers, output_size)\n",
    "valence_model.load_state_dict(torch.load('../model/lstm_valence_model.pt'))"
   ]
  },
  {
   "cell_type": "code",
   "execution_count": 20,
   "metadata": {
    "scrolled": true
   },
   "outputs": [
    {
     "data": {
      "application/vnd.jupyter.widget-view+json": {
       "model_id": "cd3a87c525ec479b85b8f41169680cbe",
       "version_major": 2,
       "version_minor": 0
      },
      "text/plain": [
       "Extracting emotion features:   0%|          | 0/31 [00:00<?, ?it/s]"
      ]
     },
     "metadata": {},
     "output_type": "display_data"
    }
   ],
   "source": [
    "from tqdm.notebook import tqdm_notebook\n",
    "\n",
    "emotion_lstm_features = []\n",
    "label = []\n",
    "for video_name, inputs, labels in tqdm_notebook(dl,total=len(dl), desc='Extracting emotion features'):\n",
    "    label.append(labels)\n",
    "    with torch.no_grad():\n",
    "        emotion_model.eval()\n",
    "        outputs, hidden, out = emotion_model(inputs.reshape(-1,1,32))\n",
    "        emotion_lstm_features.append(out)\n"
   ]
  },
  {
   "cell_type": "code",
   "execution_count": 22,
   "metadata": {},
   "outputs": [
    {
     "data": {
      "application/vnd.jupyter.widget-view+json": {
       "model_id": "e39cebd1f950427197f7e8680c84f235",
       "version_major": 2,
       "version_minor": 0
      },
      "text/plain": [
       "Extracting arousal features:   0%|          | 0/31 [00:00<?, ?it/s]"
      ]
     },
     "metadata": {},
     "output_type": "display_data"
    }
   ],
   "source": [
    "from tqdm.notebook import tqdm_notebook\n",
    "\n",
    "arousal_lstm_features = []\n",
    "\n",
    "for video_name, inputs, labels in tqdm_notebook(dl,total=len(dl), desc='Extracting arousal features'):\n",
    "    with torch.no_grad():\n",
    "        arousal_model.eval()\n",
    "        outputs, hidden, out = arousal_model(inputs.reshape(-1,1,32))\n",
    "        arousal_lstm_features.append(out)\n"
   ]
  },
  {
   "cell_type": "code",
   "execution_count": 23,
   "metadata": {},
   "outputs": [
    {
     "data": {
      "application/vnd.jupyter.widget-view+json": {
       "model_id": "56e1078860114acbbc9420ae89e3b01b",
       "version_major": 2,
       "version_minor": 0
      },
      "text/plain": [
       "Extracting valence features:   0%|          | 0/31 [00:00<?, ?it/s]"
      ]
     },
     "metadata": {},
     "output_type": "display_data"
    }
   ],
   "source": [
    "from tqdm.notebook import tqdm_notebook\n",
    "\n",
    "valence_lstm_features = []\n",
    "\n",
    "for video_name, inputs, labels in tqdm_notebook(dl,total=len(dl), desc='Extracting valence features'):\n",
    "    with torch.no_grad():\n",
    "        valence_model.eval()\n",
    "        outputs, hidden, out = valence_model(inputs.reshape(-1,1,32))\n",
    "        valence_lstm_features.append(out)\n"
   ]
  },
  {
   "cell_type": "code",
   "execution_count": 24,
   "metadata": {},
   "outputs": [],
   "source": [
    "concatenate_lstm_features = []\n",
    "for e, a, v in zip(emotion_lstm_features, arousal_lstm_features, valence_lstm_features):\n",
    "    concatenate_lstm_features.append(torch.cat((e,a,v),dim=1))"
   ]
  },
  {
   "cell_type": "code",
   "execution_count": 25,
   "metadata": {},
   "outputs": [
    {
     "data": {
      "text/plain": [
       "31"
      ]
     },
     "execution_count": 25,
     "metadata": {},
     "output_type": "execute_result"
    }
   ],
   "source": [
    "len(concatenate_lstm_features)"
   ]
  },
  {
   "cell_type": "code",
   "execution_count": 26,
   "metadata": {},
   "outputs": [
    {
     "data": {
      "text/plain": [
       "torch.Size([250, 224])"
      ]
     },
     "execution_count": 26,
     "metadata": {},
     "output_type": "execute_result"
    }
   ],
   "source": [
    "concatenate_lstm_features[0].shape # emotion + arousal + valence"
   ]
  },
  {
   "cell_type": "markdown",
   "metadata": {},
   "source": [
    "## Audio LSTMClassifier, multimodal LSTMClassifier"
   ]
  },
  {
   "cell_type": "code",
   "execution_count": 27,
   "metadata": {},
   "outputs": [],
   "source": [
    "class LSTMClassifier(nn.Module):\n",
    "    def __init__(self, input_size, hidden_size, num_layers, output_size):\n",
    "        super(LSTMClassifier, self).__init__()\n",
    "        self.hidden_size = hidden_size\n",
    "        self.num_layers = num_layers\n",
    "        self.lstm = nn.LSTM(input_size, hidden_size, num_layers, batch_first=True)\n",
    "        self.fc = nn.Linear(hidden_size, output_size)\n",
    "        self.sigmoid = nn.Sigmoid()\n",
    "        \n",
    "    def forward(self, x):\n",
    "        # Set initial hidden and cell states\n",
    "        h0 = torch.zeros(self.num_layers, x.size(0), self.hidden_size).to(x.device)\n",
    "        c0 = torch.zeros(self.num_layers, x.size(0), self.hidden_size).to(x.device)\n",
    "        \n",
    "        # Forward propagate LSTM\n",
    "        out, _ = self.lstm(x, (h0, c0))\n",
    "        \n",
    "        # Decode the hidden state of the last time step\n",
    "        output = self.fc(out[:, -1, :])\n",
    "        \n",
    "        # Apply sigmoid activation function to output\n",
    "        output = self.sigmoid(output)\n",
    "        \n",
    "        return output, out[:, -1, :]"
   ]
  },
  {
   "cell_type": "code",
   "execution_count": 28,
   "metadata": {},
   "outputs": [
    {
     "data": {
      "text/plain": [
       "<All keys matched successfully>"
      ]
     },
     "execution_count": 28,
     "metadata": {},
     "output_type": "execute_result"
    }
   ],
   "source": [
    "input_size = 224\n",
    "hidden_size = 128\n",
    "num_layers = 3\n",
    "output_size = 1\n",
    "audio_concat_model = LSTMClassifier(input_size, hidden_size, num_layers, output_size)\n",
    "audio_concat_model.load_state_dict(torch.load('concatenate_lstm_model.pt'))"
   ]
  },
  {
   "cell_type": "code",
   "execution_count": 29,
   "metadata": {
    "scrolled": true
   },
   "outputs": [
    {
     "data": {
      "application/vnd.jupyter.widget-view+json": {
       "model_id": "6352ff9aeed9413e9c6389058650a705",
       "version_major": 2,
       "version_minor": 0
      },
      "text/plain": [
       "Extracting audio features:   0%|          | 0/31 [00:00<?, ?it/s]"
      ]
     },
     "metadata": {},
     "output_type": "display_data"
    }
   ],
   "source": [
    "audio_concat_features = []\n",
    "\n",
    "for inputs in tqdm_notebook(concatenate_lstm_features,total=len(concatenate_lstm_features), desc='Extracting audio features'):\n",
    "    with torch.no_grad():\n",
    "        audio_concat_model.eval()\n",
    "        outputs, out = audio_concat_model(inputs.reshape(-1,1,input_size))\n",
    "        audio_concat_features.append(out)"
   ]
  },
  {
   "cell_type": "code",
   "execution_count": 30,
   "metadata": {},
   "outputs": [
    {
     "data": {
      "text/plain": [
       "(31, torch.Size([250, 128]))"
      ]
     },
     "execution_count": 30,
     "metadata": {},
     "output_type": "execute_result"
    }
   ],
   "source": [
    "len(audio_concat_features), audio_concat_features[0].shape"
   ]
  },
  {
   "cell_type": "markdown",
   "metadata": {},
   "source": [
    "## Feature concatenate w/o lstm\n",
    "+ audio lstm 없이! -> model input size를 바꿔줘야 해서 나중에 비교!"
   ]
  },
  {
   "cell_type": "code",
   "execution_count": 31,
   "metadata": {},
   "outputs": [],
   "source": [
    "# final_concat_lstm_feature  =  torch.cat((concatenate_lstm_feature, video_features_torch), dim=1)"
   ]
  },
  {
   "cell_type": "code",
   "execution_count": 32,
   "metadata": {},
   "outputs": [],
   "source": [
    "# final_concat_lstm_feature.shape"
   ]
  },
  {
   "cell_type": "markdown",
   "metadata": {},
   "source": [
    "## Feature concatenate"
   ]
  },
  {
   "cell_type": "code",
   "execution_count": 33,
   "metadata": {},
   "outputs": [],
   "source": [
    "final_concat_lstm_features = []\n",
    "for v, a in zip(vit_features, audio_concat_features):\n",
    "    final_concat_lstm_features.append(torch.cat((v,a),dim=1))\n",
    "    "
   ]
  },
  {
   "cell_type": "code",
   "execution_count": 34,
   "metadata": {},
   "outputs": [
    {
     "data": {
      "text/plain": [
       "(31, torch.Size([250, 896]))"
      ]
     },
     "execution_count": 34,
     "metadata": {},
     "output_type": "execute_result"
    }
   ],
   "source": [
    "len(final_concat_lstm_features), final_concat_lstm_features[0].shape"
   ]
  },
  {
   "cell_type": "markdown",
   "metadata": {},
   "source": [
    "## Multimodal Classification"
   ]
  },
  {
   "cell_type": "code",
   "execution_count": 35,
   "metadata": {},
   "outputs": [
    {
     "data": {
      "text/plain": [
       "<All keys matched successfully>"
      ]
     },
     "execution_count": 35,
     "metadata": {},
     "output_type": "execute_result"
    }
   ],
   "source": [
    "input_size = 896\n",
    "hidden_size = 128\n",
    "num_layers = 3\n",
    "output_size = 1\n",
    "multimodal_model = LSTMClassifier(input_size, hidden_size, num_layers, output_size)\n",
    "multimodal_model.load_state_dict(torch.load('multimodal_model.pt'))\n"
   ]
  },
  {
   "cell_type": "code",
   "execution_count": 36,
   "metadata": {},
   "outputs": [
    {
     "name": "stdout",
     "output_type": "stream",
     "text": [
      "Layer: lstm.weight_ih_l0 | Size: torch.Size([512, 896]) | Values: Parameter containing:\n",
      "tensor([[ 0.0543, -0.0745,  0.0368,  ...,  0.0624,  0.0884,  0.0764],\n",
      "        [-0.0340, -0.0045,  0.0922,  ...,  0.0761, -0.0428, -0.0006],\n",
      "        [ 0.0380, -0.0371,  0.0752,  ..., -0.0566, -0.0255,  0.0659],\n",
      "        ...,\n",
      "        [ 0.0564, -0.0709,  0.0388,  ..., -0.0301, -0.0873, -0.0689],\n",
      "        [-0.0336,  0.0649, -0.0350,  ..., -0.0551, -0.0876,  0.0136],\n",
      "        [-0.0776,  0.0725,  0.0590,  ..., -0.0473, -0.0096, -0.0564]],\n",
      "       requires_grad=True)\n",
      "Layer: lstm.weight_hh_l0 | Size: torch.Size([512, 128]) | Values: Parameter containing:\n",
      "tensor([[-0.0285, -0.0611,  0.0753,  ..., -0.0482, -0.0624,  0.0263],\n",
      "        [-0.0717, -0.0497,  0.0677,  ...,  0.0656, -0.0667,  0.0761],\n",
      "        [-0.0453,  0.0222, -0.0692,  ...,  0.0117, -0.0460, -0.0663],\n",
      "        ...,\n",
      "        [-0.0045, -0.0769, -0.0119,  ...,  0.0205, -0.0650, -0.0752],\n",
      "        [-0.0819,  0.0063,  0.0330,  ..., -0.0162,  0.0361,  0.0852],\n",
      "        [ 0.0286,  0.0848, -0.0517,  ..., -0.0005,  0.0433,  0.0554]],\n",
      "       requires_grad=True)\n",
      "Layer: lstm.bias_ih_l0 | Size: torch.Size([512]) | Values: Parameter containing:\n",
      "tensor([ 5.0471e-02, -4.4805e-02, -5.2544e-02,  8.3457e-02, -1.5203e-03,\n",
      "        -4.9527e-02,  7.4680e-02, -2.5855e-02, -5.4817e-02, -5.2988e-02,\n",
      "         1.4916e-02, -6.6649e-02,  2.2060e-02, -5.0100e-02,  9.1878e-02,\n",
      "         1.9100e-02, -7.9123e-02, -1.4391e-02, -5.0399e-02,  3.1037e-02,\n",
      "         4.1339e-02, -8.3557e-02, -5.3965e-02, -3.3472e-02, -4.2409e-02,\n",
      "        -3.4381e-02,  3.6484e-02, -1.8957e-03, -7.8169e-03,  7.6700e-03,\n",
      "         7.5741e-02, -1.1287e-03, -5.8054e-02,  1.4952e-02, -3.7087e-02,\n",
      "        -5.2832e-02,  4.4709e-02, -6.7932e-02, -7.7164e-02,  8.4751e-02,\n",
      "        -5.0142e-02,  6.3331e-02, -2.8484e-02, -8.2030e-02,  6.0566e-02,\n",
      "         4.2137e-02,  6.2705e-02, -3.1944e-03, -6.3931e-02,  8.0714e-02,\n",
      "         2.0929e-02, -1.0987e-03, -2.3788e-02, -5.4155e-02, -7.5674e-02,\n",
      "        -3.5829e-02, -3.1065e-02, -3.1394e-02, -3.9570e-02,  4.5268e-02,\n",
      "         2.4153e-02,  3.7577e-03,  1.5471e-02,  1.6797e-02, -1.7062e-02,\n",
      "         8.0315e-02, -4.7587e-02, -4.0578e-02,  4.9574e-02,  7.8385e-02,\n",
      "        -4.5988e-02,  1.6071e-02, -8.1884e-02,  6.8323e-02, -6.1724e-02,\n",
      "         1.4305e-02,  5.9774e-02,  4.5081e-02, -6.3740e-03,  6.7486e-02,\n",
      "        -3.3228e-02,  5.9353e-02,  5.2706e-02, -1.2192e-02, -8.5364e-02,\n",
      "        -3.1086e-02, -8.7483e-02, -4.1473e-02,  8.6725e-02, -3.9328e-02,\n",
      "         2.8400e-02, -6.2453e-02,  3.5825e-02, -8.1212e-02,  5.7355e-03,\n",
      "         7.8575e-02,  3.2546e-02,  8.9477e-02, -2.0071e-02,  3.6050e-02,\n",
      "         8.5336e-02,  2.7880e-02,  1.6560e-02,  5.9663e-02,  4.7950e-02,\n",
      "         2.4381e-02, -1.3576e-02, -1.7703e-02,  3.7975e-02, -1.1292e-02,\n",
      "         5.1088e-03, -5.6002e-02, -4.7548e-02,  2.7317e-02, -7.2250e-02,\n",
      "         5.8215e-02,  3.0994e-02, -1.9011e-02,  1.3402e-02,  4.9027e-02,\n",
      "        -4.0929e-02,  6.3040e-02,  6.9688e-04,  7.2080e-02,  9.4973e-03,\n",
      "        -8.5102e-03,  4.7929e-02, -5.7444e-02, -5.1152e-02, -2.2395e-03,\n",
      "        -1.3621e-02, -2.2991e-03,  6.0876e-02, -3.9067e-02,  5.1262e-02,\n",
      "        -4.1029e-02, -7.6333e-02,  7.5189e-02,  2.2722e-02,  5.8189e-02,\n",
      "        -6.9012e-02, -2.1815e-02, -4.3097e-02,  8.5778e-02, -1.2090e-02,\n",
      "         9.7957e-03, -5.3254e-02, -6.6238e-02, -3.6882e-02, -5.5586e-03,\n",
      "        -3.3165e-02,  2.5369e-02, -1.7718e-02, -9.7394e-03,  3.4694e-02,\n",
      "        -5.1158e-02, -9.4777e-03, -8.2508e-02, -6.6331e-02,  5.3183e-02,\n",
      "        -5.5370e-02,  2.9377e-02, -3.5164e-02, -8.7209e-02, -2.8195e-02,\n",
      "        -6.9713e-02, -7.3263e-02, -4.2852e-02,  8.0729e-02, -5.6784e-02,\n",
      "         2.9304e-02,  5.3221e-03,  2.5345e-02,  2.1423e-02,  3.2451e-02,\n",
      "         2.1485e-02, -2.7241e-02, -3.3795e-02,  6.8035e-02,  5.6527e-03,\n",
      "        -3.0510e-02, -2.5175e-02,  7.1687e-02, -5.9664e-02,  6.0570e-03,\n",
      "        -1.9645e-02, -5.3445e-02,  7.0662e-02, -8.7173e-02,  2.9500e-02,\n",
      "         6.7284e-02,  4.6007e-02, -7.0503e-02,  2.0398e-04,  4.1299e-02,\n",
      "         1.8239e-02,  5.5866e-02,  8.5141e-02,  1.9593e-02,  4.9784e-02,\n",
      "         7.9343e-02, -3.8237e-02,  6.1072e-02,  5.0381e-02,  7.1309e-02,\n",
      "         6.2122e-02,  6.7833e-02,  2.2122e-02, -5.4920e-02,  5.7961e-02,\n",
      "         6.3633e-04,  3.9867e-02, -3.2541e-03,  2.0271e-02,  8.3619e-02,\n",
      "         3.0545e-03, -4.5758e-03, -3.4417e-02,  8.0340e-02, -6.9701e-02,\n",
      "        -6.8528e-02, -8.4401e-02, -5.3947e-02, -1.6126e-02,  3.3048e-02,\n",
      "         2.4620e-02, -5.7929e-02, -1.7199e-02,  1.5382e-02,  1.3714e-02,\n",
      "        -2.4835e-02,  1.8741e-02, -2.1050e-02, -7.4965e-02,  4.6992e-02,\n",
      "         3.6782e-02,  8.0011e-02, -7.5879e-02,  8.0858e-02,  7.4158e-02,\n",
      "        -8.5199e-02,  3.4755e-02, -4.5813e-02, -3.9787e-02, -1.3566e-02,\n",
      "        -7.1465e-02, -7.3831e-02, -5.2554e-04,  5.0094e-03, -8.7011e-02,\n",
      "        -6.9312e-02, -4.6712e-03, -7.8559e-02,  2.1120e-02,  2.5131e-02,\n",
      "        -8.7534e-02, -1.9499e-02,  1.5180e-03, -7.6742e-02,  2.0679e-02,\n",
      "        -5.8883e-03, -1.8875e-02,  3.1894e-02,  3.7181e-02,  1.4687e-02,\n",
      "         6.2449e-02, -4.4436e-02,  8.7580e-02, -6.0887e-02,  1.1316e-02,\n",
      "        -4.4138e-02,  2.7818e-02,  5.1568e-02,  3.4165e-02,  3.5222e-02,\n",
      "        -6.5124e-02,  8.8493e-02, -6.4026e-02,  3.4038e-02, -5.1837e-02,\n",
      "         1.9358e-04,  2.4860e-02, -4.2062e-02, -4.3083e-03,  3.2859e-02,\n",
      "        -6.0782e-02,  2.1834e-02,  7.4981e-03,  8.4348e-02,  6.9736e-02,\n",
      "        -6.9236e-02, -2.8855e-02, -4.9984e-02, -3.4586e-02,  7.9701e-02,\n",
      "         7.4931e-02,  2.2779e-02, -7.9383e-02, -1.0001e-02, -4.3108e-02,\n",
      "        -1.0460e-02,  7.3666e-02,  7.3383e-02,  5.3875e-02, -5.4119e-02,\n",
      "        -5.3734e-02,  2.3490e-02,  3.1379e-02, -1.9610e-02, -5.9540e-03,\n",
      "        -1.6152e-02,  4.4713e-02, -6.6053e-02, -3.9484e-02, -1.5626e-02,\n",
      "        -8.6083e-03, -4.5563e-02,  5.7226e-02,  6.0321e-02, -5.6886e-02,\n",
      "         2.6836e-02, -4.0867e-02, -7.4820e-02,  2.2144e-02, -2.4447e-02,\n",
      "         9.4083e-03,  2.8890e-02, -4.6121e-02,  2.8137e-02, -4.3352e-02,\n",
      "         7.9273e-02, -4.4760e-03, -2.0423e-02, -4.5343e-02, -5.2473e-02,\n",
      "        -2.9964e-02, -8.4860e-03,  1.6329e-02,  7.0073e-02,  1.1720e-02,\n",
      "        -2.3390e-02, -8.6875e-02, -5.1825e-02, -7.6766e-02,  8.5436e-02,\n",
      "        -7.5609e-02, -5.5350e-02, -2.3612e-02, -7.7887e-02, -8.3862e-03,\n",
      "        -3.3808e-02,  7.1195e-02, -1.0367e-02,  4.6534e-02, -2.2310e-02,\n",
      "        -6.1791e-02,  2.4247e-02, -7.7234e-02, -6.4710e-02,  7.0804e-03,\n",
      "        -7.1516e-02,  7.6756e-02, -3.7622e-02, -5.2244e-02,  6.0241e-04,\n",
      "        -6.7960e-02, -1.8564e-02,  7.3957e-02, -4.0989e-02,  6.5172e-02,\n",
      "        -4.3618e-02, -5.6542e-02,  7.7464e-02, -7.0670e-02,  4.6336e-02,\n",
      "         3.0457e-02, -8.4097e-02, -1.0897e-02,  8.4664e-02,  6.4693e-02,\n",
      "         7.4201e-02,  4.6393e-02, -4.2401e-02,  5.2448e-03,  4.1937e-03,\n",
      "        -6.2914e-02,  3.0589e-02,  2.1606e-02,  3.1323e-03, -5.3931e-02,\n",
      "        -5.1172e-02, -3.8880e-02,  8.7666e-02, -7.7527e-02,  8.1674e-02,\n",
      "         7.3827e-03,  5.3097e-02,  6.2657e-02, -6.7296e-02, -6.3024e-02,\n",
      "         7.4749e-02, -7.5072e-02, -5.3049e-02,  6.4164e-02,  1.1574e-02,\n",
      "        -5.5683e-02,  1.2619e-05,  3.4938e-02,  5.9520e-02,  2.2837e-02,\n",
      "        -3.6480e-02,  2.9042e-02,  3.8888e-02,  7.9136e-02, -1.2359e-02,\n",
      "         3.8575e-02, -7.4248e-02,  3.3274e-02, -4.6719e-02, -3.9023e-03,\n",
      "         7.4587e-02,  5.3749e-02, -8.2027e-02,  5.6743e-02, -3.3913e-02,\n",
      "        -6.3319e-02,  4.1931e-02, -7.2071e-02,  3.1526e-03, -8.3481e-02,\n",
      "        -8.3789e-02,  3.7097e-02,  5.2447e-02, -9.0826e-02,  5.2234e-02,\n",
      "         2.3718e-02,  2.7052e-02,  8.4017e-02,  7.0382e-02, -3.5487e-02,\n",
      "        -6.4492e-02,  4.6120e-03,  5.0301e-02, -5.4316e-02,  9.3512e-02,\n",
      "         1.1348e-02,  4.7062e-02,  4.7139e-02, -7.9415e-02, -5.0735e-02,\n",
      "        -2.2527e-02, -1.8765e-02,  7.4220e-02,  2.6863e-02,  2.9067e-02,\n",
      "        -4.5877e-02,  4.6821e-02,  8.9490e-02, -7.6134e-03, -4.4547e-02,\n",
      "         4.2640e-02,  1.4120e-02,  2.9747e-03,  2.5674e-02,  5.5075e-02,\n",
      "         4.6780e-02,  7.4023e-04, -3.1164e-02, -6.7022e-02,  7.0927e-02,\n",
      "        -7.7981e-02, -7.2900e-02, -2.1129e-02,  8.2588e-03, -6.1677e-02,\n",
      "        -4.6372e-02,  2.1345e-02,  3.5748e-02,  8.1935e-02,  4.9157e-02,\n",
      "        -8.3438e-02, -5.8545e-02, -6.6836e-03, -6.0361e-02,  6.9019e-02,\n",
      "         2.8544e-02,  4.6169e-02,  1.6775e-02,  6.6451e-03,  3.0023e-02,\n",
      "         5.7838e-02,  5.0520e-02, -2.0090e-02,  1.9037e-02, -2.6131e-02,\n",
      "        -1.5581e-02,  5.8091e-02,  1.8372e-02, -8.0380e-02,  6.1886e-02,\n",
      "         4.5317e-02, -1.9315e-02,  3.3741e-03, -1.5955e-02, -3.8551e-02,\n",
      "        -6.6198e-02, -5.1002e-02,  3.4212e-02,  3.4806e-02,  2.0800e-02,\n",
      "        -3.3898e-02,  3.8406e-03], requires_grad=True)\n",
      "Layer: lstm.bias_hh_l0 | Size: torch.Size([512]) | Values: Parameter containing:\n",
      "tensor([ 0.0710, -0.0621,  0.0684,  0.0470,  0.0352, -0.0015,  0.0873,  0.0656,\n",
      "        -0.0137,  0.0274,  0.0590,  0.0801,  0.0812, -0.0255, -0.0597,  0.0028,\n",
      "         0.0083, -0.0790,  0.0587, -0.0700, -0.0137, -0.0256,  0.0864,  0.0724,\n",
      "        -0.0631,  0.0509, -0.0556,  0.0195,  0.0492, -0.0518,  0.0284,  0.0860,\n",
      "         0.0228,  0.0677,  0.0227,  0.0615,  0.0217,  0.0477,  0.0636,  0.0644,\n",
      "         0.0615,  0.0264,  0.0475,  0.0348,  0.0729,  0.0586,  0.0353,  0.0928,\n",
      "         0.0922, -0.0789, -0.0531,  0.0352,  0.0430, -0.0359, -0.0041, -0.0061,\n",
      "         0.0821, -0.0158,  0.0545,  0.0703, -0.0756,  0.0140,  0.0840, -0.0235,\n",
      "        -0.0639, -0.0845,  0.0989, -0.0648, -0.0483,  0.0211,  0.0937, -0.0844,\n",
      "        -0.0137,  0.0364, -0.0020, -0.0678,  0.0803, -0.0670, -0.0765, -0.0082,\n",
      "         0.0108, -0.0072,  0.0370,  0.0667,  0.0200,  0.0017, -0.0819,  0.0342,\n",
      "         0.0643,  0.0180, -0.0465, -0.0395,  0.0457,  0.0775, -0.0742, -0.0280,\n",
      "        -0.0296,  0.0677,  0.0402, -0.0053, -0.0809,  0.0356, -0.0778, -0.0165,\n",
      "        -0.0833,  0.0316,  0.0432, -0.0255,  0.0166, -0.0452,  0.0231, -0.0120,\n",
      "         0.0041, -0.0603, -0.0029, -0.0048,  0.0095,  0.0294,  0.0422,  0.0445,\n",
      "        -0.0806,  0.0026, -0.0477,  0.0880, -0.0086, -0.0364, -0.0343, -0.0096,\n",
      "        -0.0750,  0.0658,  0.0115,  0.0125,  0.0473,  0.0173, -0.0527,  0.0163,\n",
      "        -0.0371, -0.0780, -0.0498,  0.0561,  0.0280,  0.0506,  0.0361, -0.0687,\n",
      "         0.0008,  0.0744, -0.0770,  0.0662, -0.0299, -0.0144,  0.0064, -0.0604,\n",
      "        -0.0771, -0.0455,  0.0594, -0.0807, -0.0860,  0.0048, -0.0169, -0.0820,\n",
      "         0.0258, -0.0290,  0.0251,  0.0573, -0.0004, -0.0387, -0.0542,  0.0661,\n",
      "        -0.0500, -0.0087,  0.0835,  0.0574, -0.0149,  0.0018,  0.0123, -0.0699,\n",
      "         0.0153, -0.0039, -0.0636,  0.0071,  0.0668,  0.0080, -0.0420, -0.0332,\n",
      "         0.0288, -0.0342, -0.0728,  0.0325, -0.0060, -0.0404, -0.0419, -0.0582,\n",
      "         0.0050,  0.0077,  0.0210,  0.0179,  0.0112, -0.0420, -0.0608, -0.0825,\n",
      "         0.0161,  0.0523, -0.0435,  0.0486,  0.0028,  0.0104,  0.0463, -0.0492,\n",
      "        -0.0188, -0.0408, -0.0307,  0.0754, -0.0461, -0.0690,  0.0134,  0.0624,\n",
      "         0.0084, -0.0877, -0.0152, -0.0701, -0.0368, -0.0307,  0.0224,  0.0305,\n",
      "         0.0113, -0.0101, -0.0590,  0.0433,  0.0176, -0.0416,  0.0103,  0.0213,\n",
      "         0.0499, -0.0581,  0.0391, -0.0422,  0.0230,  0.0191,  0.0789, -0.0178,\n",
      "        -0.0673,  0.0164, -0.0434, -0.0647, -0.0378, -0.0828, -0.0219,  0.0882,\n",
      "        -0.0235,  0.0216,  0.0187,  0.0830,  0.0241,  0.0399, -0.0776,  0.0041,\n",
      "        -0.0032, -0.0527,  0.0054, -0.0765, -0.0055,  0.0069,  0.0678,  0.0793,\n",
      "         0.0408,  0.0405,  0.0786,  0.0628, -0.0697, -0.0830,  0.0776, -0.0550,\n",
      "        -0.0745,  0.0147,  0.0604, -0.0153,  0.0736,  0.0438, -0.0374,  0.0329,\n",
      "         0.0895, -0.0655, -0.0636, -0.0147,  0.0312, -0.0520,  0.0635,  0.0852,\n",
      "         0.0795,  0.0096, -0.0622, -0.0007,  0.0115,  0.0906,  0.0436, -0.0502,\n",
      "         0.0480,  0.0278, -0.0749,  0.0076, -0.0447, -0.0516,  0.0262,  0.0696,\n",
      "         0.0298, -0.0785, -0.0416, -0.0745,  0.0489,  0.0447, -0.0532, -0.0764,\n",
      "        -0.0891, -0.0415, -0.0147,  0.0239, -0.0470, -0.0468, -0.0531,  0.0773,\n",
      "        -0.0674,  0.0615, -0.0510, -0.0311, -0.0292,  0.0052, -0.0432, -0.0890,\n",
      "        -0.0713,  0.0849,  0.0593, -0.0448, -0.0262, -0.0535,  0.0696, -0.0643,\n",
      "         0.0217, -0.0476,  0.0273, -0.0750, -0.0493,  0.0190, -0.0397, -0.0729,\n",
      "        -0.0376,  0.0104,  0.0691, -0.0024,  0.0050, -0.0764,  0.0141,  0.0535,\n",
      "        -0.0595,  0.0712, -0.0561,  0.0099,  0.0023,  0.0342, -0.0795,  0.0491,\n",
      "        -0.0506,  0.0250, -0.0491,  0.0722,  0.0869,  0.0170,  0.0574, -0.0690,\n",
      "        -0.0465,  0.0307,  0.0843,  0.0229,  0.0649, -0.0120,  0.0386,  0.0134,\n",
      "        -0.0973,  0.0308, -0.0430,  0.0629,  0.0848,  0.0733,  0.0183,  0.0493,\n",
      "        -0.0112,  0.0499, -0.0838, -0.0754, -0.0646,  0.0448, -0.0443, -0.0122,\n",
      "         0.0301,  0.0128,  0.0061, -0.0253,  0.0524, -0.0134,  0.0580, -0.0507,\n",
      "         0.0797, -0.0300,  0.0909, -0.0398, -0.0409,  0.0265, -0.0082, -0.0546,\n",
      "         0.0847, -0.0058, -0.0615, -0.0764,  0.0202, -0.0436,  0.0713, -0.0796,\n",
      "        -0.0507,  0.0211,  0.0699,  0.0515, -0.0573, -0.0700,  0.0177, -0.0768,\n",
      "        -0.0510,  0.0193, -0.0362,  0.0784,  0.0521, -0.0244,  0.0352,  0.0205,\n",
      "        -0.0379, -0.0307,  0.0528, -0.0484, -0.0740, -0.0714,  0.0083,  0.0638,\n",
      "         0.0720,  0.0101, -0.0622,  0.0477,  0.0595,  0.0442, -0.0436,  0.0178,\n",
      "        -0.0025,  0.0900,  0.0927,  0.0209, -0.0611, -0.0832,  0.0847,  0.0012,\n",
      "         0.0013,  0.0011,  0.0316, -0.0631, -0.0014, -0.0066, -0.0002, -0.0062,\n",
      "        -0.0802,  0.0136,  0.0579, -0.0056,  0.0858,  0.0754, -0.0336,  0.0483,\n",
      "         0.0724, -0.0717,  0.0467, -0.0318, -0.0752, -0.0674,  0.0755,  0.0224,\n",
      "        -0.0283,  0.0472, -0.0522,  0.0314,  0.0398,  0.0729,  0.0541, -0.0357,\n",
      "        -0.0196,  0.0211,  0.0031, -0.0478, -0.0493,  0.0459, -0.0107, -0.0406,\n",
      "         0.0392, -0.0508,  0.0357,  0.0714, -0.0824, -0.0816,  0.0674,  0.0238,\n",
      "         0.0394,  0.0130, -0.0702, -0.0227, -0.0750,  0.0737, -0.0789, -0.0256],\n",
      "       requires_grad=True)\n",
      "Layer: lstm.weight_ih_l1 | Size: torch.Size([512, 128]) | Values: Parameter containing:\n",
      "tensor([[ 0.0637,  0.0207, -0.0875,  ..., -0.0801,  0.1284, -0.0287],\n",
      "        [ 0.0091, -0.0052,  0.1146,  ...,  0.0929, -0.0004,  0.0992],\n",
      "        [ 0.0638, -0.0419,  0.0089,  ...,  0.0523, -0.0123, -0.0615],\n",
      "        ...,\n",
      "        [-0.0418, -0.0575, -0.0208,  ...,  0.0757, -0.0529,  0.0317],\n",
      "        [ 0.0113, -0.0934,  0.0181,  ...,  0.0603, -0.0378, -0.0728],\n",
      "        [ 0.0517,  0.0536, -0.0535,  ...,  0.0894, -0.0266,  0.0920]],\n",
      "       requires_grad=True)\n",
      "Layer: lstm.weight_hh_l1 | Size: torch.Size([512, 128]) | Values: Parameter containing:\n",
      "tensor([[-6.0696e-02, -5.4212e-02,  3.9233e-02,  ...,  4.7475e-02,\n",
      "         -2.6927e-02, -4.4353e-02],\n",
      "        [-2.0996e-02, -4.4218e-02,  6.6806e-02,  ..., -7.7547e-02,\n",
      "         -1.3888e-02, -8.6349e-02],\n",
      "        [ 8.0484e-02,  2.1072e-02, -5.0239e-02,  ...,  8.3866e-02,\n",
      "          1.2810e-03, -1.5705e-02],\n",
      "        ...,\n",
      "        [-2.4147e-02,  8.2200e-02, -5.9109e-02,  ..., -5.3837e-02,\n",
      "         -6.9843e-02,  3.6961e-02],\n",
      "        [-6.2670e-02, -1.5912e-02,  8.2473e-02,  ..., -1.6364e-05,\n",
      "         -1.2496e-02, -3.8637e-03],\n",
      "        [ 6.5363e-02,  5.2958e-02, -6.1589e-02,  ...,  5.4112e-02,\n",
      "          4.5841e-02,  8.4028e-02]], requires_grad=True)\n",
      "Layer: lstm.bias_ih_l1 | Size: torch.Size([512]) | Values: Parameter containing:\n",
      "tensor([-0.0853, -0.0459,  0.0726,  0.0223, -0.0328,  0.0242,  0.0326, -0.0726,\n",
      "        -0.0589,  0.0607,  0.0245,  0.0069,  0.0141,  0.0927, -0.0115,  0.0914,\n",
      "        -0.0527, -0.0123, -0.0164,  0.1006, -0.0089,  0.0565,  0.0745,  0.0206,\n",
      "         0.0210,  0.0967,  0.0307, -0.0169,  0.0540, -0.0251,  0.0455,  0.0087,\n",
      "         0.0367, -0.0750, -0.0503,  0.0309,  0.0721,  0.0416, -0.0106,  0.0516,\n",
      "        -0.0039, -0.0047, -0.0519, -0.0028, -0.0018, -0.0499,  0.0273,  0.0455,\n",
      "         0.0298,  0.0682, -0.0748,  0.0884, -0.0602, -0.0173, -0.0546, -0.0157,\n",
      "        -0.0489,  0.0890,  0.0322, -0.0046,  0.0869, -0.0638,  0.0080, -0.0240,\n",
      "        -0.0768,  0.0662,  0.0818, -0.0138,  0.0389, -0.0196, -0.0107, -0.0255,\n",
      "         0.0249,  0.0539,  0.0626, -0.0127, -0.0573, -0.0700,  0.0826, -0.0037,\n",
      "        -0.0722, -0.0267,  0.0815,  0.0699, -0.0676, -0.0662,  0.0253,  0.0447,\n",
      "        -0.0379, -0.0282, -0.0187,  0.0782, -0.0103,  0.0921, -0.0201,  0.0916,\n",
      "         0.0350,  0.0297,  0.0247, -0.0079, -0.0144,  0.0875, -0.0411,  0.0064,\n",
      "        -0.0391,  0.0638, -0.0050,  0.0337,  0.0069, -0.0496, -0.0505, -0.0353,\n",
      "         0.0498, -0.0097,  0.0293, -0.0581, -0.0448, -0.0570,  0.0675,  0.0376,\n",
      "        -0.0415,  0.0438,  0.0610,  0.0459,  0.0593,  0.0065, -0.0157, -0.0397,\n",
      "        -0.0480,  0.0108,  0.0094,  0.0101, -0.0559,  0.0349, -0.0220, -0.0254,\n",
      "        -0.0507, -0.0883, -0.0489, -0.0598, -0.0846,  0.0870,  0.0235,  0.0452,\n",
      "         0.0695, -0.0051, -0.0534, -0.0042,  0.0222,  0.0185, -0.0662,  0.0627,\n",
      "        -0.0206,  0.0118, -0.0627,  0.0575, -0.0309, -0.0159, -0.0203, -0.0082,\n",
      "         0.0246, -0.0598,  0.0337, -0.0019, -0.0229,  0.0406, -0.0232,  0.0347,\n",
      "         0.0228,  0.0786,  0.0318,  0.0251,  0.0719, -0.0577, -0.0784, -0.0535,\n",
      "         0.0077, -0.0833, -0.0174,  0.0671,  0.0439,  0.0628, -0.0342, -0.0850,\n",
      "         0.0736, -0.0036, -0.0234,  0.0265,  0.0480, -0.0128, -0.0091,  0.0307,\n",
      "        -0.0667, -0.0221, -0.0087, -0.0814, -0.0038,  0.0427, -0.0511,  0.0238,\n",
      "         0.0291,  0.0572,  0.0837, -0.0299, -0.0187,  0.0677, -0.0040, -0.0679,\n",
      "         0.0468,  0.0415, -0.0821, -0.0193, -0.0392, -0.0230,  0.0033, -0.0467,\n",
      "        -0.0213, -0.0530, -0.0287, -0.0090,  0.0232,  0.0412, -0.0644,  0.0170,\n",
      "         0.0628, -0.0424,  0.0326,  0.0327,  0.0778,  0.0033,  0.0875,  0.0342,\n",
      "         0.0797, -0.0688, -0.0138,  0.0698, -0.0770, -0.0702,  0.0760,  0.0717,\n",
      "         0.0280, -0.0120,  0.0703, -0.0433, -0.0062,  0.0192, -0.0755, -0.0702,\n",
      "         0.0044, -0.0411, -0.0401,  0.0316, -0.0164,  0.0648,  0.0482,  0.0616,\n",
      "        -0.0668, -0.0358, -0.0762,  0.0022,  0.0655, -0.0512,  0.0464, -0.0126,\n",
      "        -0.0373,  0.0382,  0.0640,  0.0219, -0.0031, -0.0641,  0.0078,  0.0880,\n",
      "        -0.0065,  0.0237,  0.0661, -0.0181,  0.0839, -0.0752, -0.0378,  0.0082,\n",
      "         0.0401, -0.0404,  0.0342, -0.0191, -0.0650, -0.0714,  0.0379,  0.0451,\n",
      "         0.0089, -0.0749,  0.0684, -0.0501,  0.0252,  0.0142, -0.0622,  0.0853,\n",
      "        -0.0842, -0.0411, -0.0131,  0.0331,  0.0771, -0.0033,  0.0687, -0.0648,\n",
      "         0.0757, -0.0618, -0.0761, -0.0525,  0.0393, -0.0671,  0.0761,  0.0423,\n",
      "         0.0809, -0.0851, -0.0636,  0.0455, -0.0746,  0.0372, -0.0647,  0.0147,\n",
      "         0.0218, -0.0409, -0.0429,  0.0475, -0.0105,  0.0822,  0.0044,  0.0498,\n",
      "        -0.0700, -0.0138,  0.0229,  0.0027, -0.0299,  0.0345,  0.0390,  0.0013,\n",
      "         0.0051, -0.0297,  0.0048, -0.0762,  0.0563, -0.0544, -0.0385,  0.0473,\n",
      "        -0.0078, -0.0622, -0.0049,  0.0432, -0.0353, -0.0236, -0.0462, -0.0122,\n",
      "         0.0309, -0.0331, -0.0610,  0.0248,  0.0439, -0.0714, -0.0881,  0.0720,\n",
      "        -0.0780, -0.0788,  0.0120, -0.0714, -0.0400, -0.0428, -0.0413, -0.0004,\n",
      "        -0.0034, -0.0336,  0.0513, -0.0122,  0.0032,  0.0019,  0.0804,  0.0047,\n",
      "        -0.0660, -0.0388,  0.0467, -0.0734,  0.0054, -0.0545, -0.0508, -0.0387,\n",
      "        -0.0165,  0.0029,  0.0694, -0.0121, -0.0530,  0.0565, -0.0166,  0.0956,\n",
      "        -0.0289,  0.0549,  0.0610, -0.0546,  0.0085,  0.0478,  0.1020, -0.0446,\n",
      "         0.0723, -0.0197, -0.0192,  0.0784, -0.0026, -0.0649,  0.0327,  0.0837,\n",
      "         0.0721, -0.0118, -0.0304,  0.0303,  0.0300, -0.0659, -0.0366, -0.0151,\n",
      "         0.0237, -0.0584,  0.0169,  0.0292, -0.0669,  0.0950, -0.0647, -0.0194,\n",
      "         0.0422,  0.0082, -0.0454,  0.0183,  0.0527, -0.0676,  0.0055, -0.0330,\n",
      "        -0.0147,  0.0045,  0.0195,  0.0017,  0.0971,  0.0267,  0.0510, -0.0400,\n",
      "        -0.0315, -0.0082,  0.0248, -0.0185,  0.0558,  0.0360, -0.0107,  0.0437,\n",
      "         0.0085, -0.0527,  0.0420,  0.0325, -0.0681, -0.0402, -0.0718,  0.0652,\n",
      "        -0.0104,  0.0504,  0.0383, -0.0739, -0.0065,  0.0123,  0.0781, -0.0037,\n",
      "         0.0120, -0.0453,  0.0540, -0.0218, -0.0340,  0.0305, -0.0229,  0.0461,\n",
      "         0.0185,  0.0823,  0.0959, -0.0556, -0.0433,  0.0488, -0.0725,  0.0418,\n",
      "        -0.0715,  0.0700,  0.0944, -0.0101, -0.0567, -0.0022,  0.0210,  0.0496,\n",
      "        -0.0252, -0.0202,  0.0528,  0.0790,  0.0467,  0.0847,  0.0681, -0.0374,\n",
      "        -0.0076, -0.0445,  0.0615,  0.0602, -0.0551,  0.0608,  0.0183,  0.0374,\n",
      "        -0.0442, -0.0411, -0.0320, -0.0553, -0.0180,  0.0208,  0.0822,  0.0253],\n",
      "       requires_grad=True)\n",
      "Layer: lstm.bias_hh_l1 | Size: torch.Size([512]) | Values: Parameter containing:\n",
      "tensor([-0.0756,  0.0845, -0.0496,  0.0202, -0.0228,  0.0559, -0.0528, -0.0624,\n",
      "         0.0467,  0.0371, -0.0481,  0.0465,  0.0373, -0.0308, -0.0324,  0.0951,\n",
      "         0.0871,  0.0403, -0.0525, -0.0489, -0.0328,  0.0978,  0.0796,  0.0537,\n",
      "         0.0669, -0.0175, -0.0368,  0.0272, -0.0551,  0.0317, -0.0668,  0.0232,\n",
      "         0.0323,  0.0224, -0.0223,  0.0581, -0.0487, -0.0606, -0.0252, -0.0388,\n",
      "         0.0779, -0.0567, -0.0172, -0.0599,  0.0286,  0.0512, -0.0402,  0.0102,\n",
      "         0.0803,  0.0474, -0.0260, -0.0324,  0.0733,  0.0428, -0.0265,  0.0704,\n",
      "         0.0816, -0.0086, -0.0689, -0.0595, -0.0533, -0.0368,  0.0553,  0.0858,\n",
      "        -0.0705, -0.0629,  0.0590, -0.0444,  0.0670, -0.0754, -0.0612,  0.0616,\n",
      "         0.0216,  0.0035, -0.0723,  0.0437, -0.0288, -0.0560,  0.0324, -0.0151,\n",
      "        -0.0467,  0.0917,  0.0266,  0.0870, -0.0249,  0.0473, -0.0573,  0.0530,\n",
      "        -0.0043,  0.0885, -0.0774, -0.0279, -0.0411, -0.0012, -0.0490,  0.0948,\n",
      "        -0.0487, -0.0390, -0.0218,  0.0079,  0.0465,  0.0916, -0.0066, -0.0862,\n",
      "        -0.0711,  0.0230,  0.0949, -0.0314, -0.0468,  0.0284,  0.0738, -0.0051,\n",
      "        -0.0508, -0.0059, -0.0281,  0.0753, -0.0332,  0.0552, -0.0279,  0.0123,\n",
      "         0.0925, -0.0407, -0.0037,  0.0096, -0.0689,  0.0367,  0.0557,  0.0311,\n",
      "         0.0218,  0.0058, -0.0695, -0.0301, -0.0305, -0.0318,  0.0697, -0.0453,\n",
      "        -0.0826,  0.0182, -0.0516,  0.0866, -0.0268, -0.0478,  0.0005, -0.0038,\n",
      "         0.0041,  0.0412,  0.0427,  0.0139, -0.0039, -0.0755, -0.0440,  0.0514,\n",
      "         0.0225, -0.0085,  0.0149,  0.0546, -0.0617, -0.0076,  0.0497,  0.0762,\n",
      "         0.0376,  0.0697, -0.0799,  0.0593, -0.0571,  0.0847,  0.0328, -0.0574,\n",
      "        -0.0114, -0.0249,  0.0670, -0.0233,  0.0190,  0.0501,  0.0648,  0.0714,\n",
      "         0.0866,  0.0721, -0.0453, -0.0430, -0.0853,  0.0374, -0.0560, -0.0022,\n",
      "         0.0829,  0.0814, -0.0877,  0.0603, -0.0824,  0.0232, -0.0651,  0.0085,\n",
      "         0.0147,  0.0461,  0.0144,  0.0728,  0.0091, -0.0337, -0.0264, -0.0169,\n",
      "         0.0138, -0.0827, -0.0246, -0.0115, -0.0454, -0.0855, -0.0329,  0.0506,\n",
      "         0.0696, -0.0186,  0.0310, -0.0438, -0.0477,  0.0197, -0.0744, -0.0261,\n",
      "         0.0196, -0.0159,  0.0808, -0.0270,  0.0476,  0.0646, -0.0349,  0.0369,\n",
      "         0.0057,  0.0237, -0.0491,  0.0010,  0.0024, -0.0095, -0.0327,  0.0021,\n",
      "         0.0022,  0.0790,  0.0042, -0.0558,  0.0718,  0.0497, -0.0815,  0.0307,\n",
      "        -0.0855,  0.0802,  0.0849, -0.0819,  0.0099, -0.0002, -0.0665,  0.0129,\n",
      "        -0.0409, -0.0153, -0.0638, -0.0808,  0.0328, -0.0671,  0.0746,  0.0053,\n",
      "         0.0261,  0.0570,  0.0678,  0.0256,  0.0327, -0.0637,  0.0157,  0.0306,\n",
      "         0.0140,  0.0450,  0.0168,  0.0763, -0.0233, -0.0701, -0.0717,  0.0258,\n",
      "         0.0053, -0.0897,  0.0341, -0.0324,  0.0761, -0.0334,  0.0720,  0.0764,\n",
      "         0.0276, -0.0585,  0.0185, -0.0763, -0.0765,  0.0315, -0.0276, -0.0888,\n",
      "         0.0115,  0.0164, -0.0596, -0.0049,  0.0178, -0.0124, -0.0493, -0.0612,\n",
      "         0.0483,  0.0650,  0.0262,  0.0328,  0.0331, -0.0057,  0.0170, -0.0820,\n",
      "         0.0837,  0.0582, -0.0640, -0.0883,  0.0224, -0.0888,  0.0491,  0.0262,\n",
      "        -0.0332, -0.0445, -0.0051,  0.0694, -0.0786,  0.0163,  0.0625,  0.0358,\n",
      "         0.0468, -0.0137, -0.0721,  0.0073,  0.0639, -0.0605,  0.0649, -0.0207,\n",
      "         0.0891, -0.0130,  0.0844, -0.0176,  0.0393, -0.0068,  0.0124, -0.0583,\n",
      "         0.0164, -0.0013,  0.0008, -0.0821,  0.0619,  0.0579,  0.0438,  0.0596,\n",
      "         0.0041,  0.0619, -0.0391,  0.0205,  0.0039, -0.0167,  0.0308,  0.0127,\n",
      "         0.0199,  0.0418, -0.0177, -0.0662, -0.0868, -0.0965, -0.0161, -0.0598,\n",
      "         0.0259, -0.0178,  0.0127, -0.0608,  0.0297,  0.0521, -0.0946, -0.0612,\n",
      "        -0.0608,  0.0441, -0.0694,  0.0333, -0.0198, -0.0329, -0.0185,  0.0047,\n",
      "         0.0564, -0.0455,  0.0390,  0.0704,  0.0385, -0.0381,  0.0216, -0.0863,\n",
      "         0.0605,  0.0904, -0.0811,  0.0838,  0.0515, -0.0458, -0.0324, -0.0332,\n",
      "        -0.0124,  0.0654, -0.0360, -0.0667, -0.0010, -0.0058, -0.0683,  0.0512,\n",
      "         0.0234,  0.0702, -0.0004,  0.0988, -0.0700, -0.0734,  0.0086, -0.0352,\n",
      "         0.0931,  0.0519,  0.0131, -0.0367,  0.0366, -0.0254,  0.0154,  0.0444,\n",
      "        -0.0357,  0.0614,  0.0674, -0.0031, -0.0181,  0.0534,  0.0221, -0.0617,\n",
      "         0.0845,  0.0945, -0.0795,  0.0511,  0.0276,  0.0264, -0.0348, -0.0517,\n",
      "         0.0084,  0.0254, -0.0555,  0.0323,  0.0466,  0.0376, -0.0011, -0.0111,\n",
      "        -0.0273,  0.0213,  0.0051,  0.0261, -0.0123, -0.0186,  0.0508, -0.0238,\n",
      "         0.0237,  0.0221, -0.0546, -0.0679, -0.0064,  0.0092,  0.0099,  0.0864,\n",
      "         0.0388,  0.0385, -0.0034,  0.0737,  0.0789, -0.0437, -0.0604,  0.0330,\n",
      "         0.0650,  0.0919, -0.0307,  0.0322, -0.0739,  0.0703,  0.0755, -0.0708,\n",
      "        -0.0041,  0.0286,  0.0887,  0.0225, -0.0224,  0.0071, -0.0298, -0.0448,\n",
      "         0.0890,  0.0428, -0.0277,  0.0916, -0.0270,  0.0844, -0.0673, -0.0671,\n",
      "         0.0261, -0.0144, -0.0273,  0.0816, -0.0428, -0.0530,  0.0174,  0.0450,\n",
      "         0.0362, -0.0185,  0.0160, -0.0394,  0.0478,  0.0752,  0.0276,  0.0449,\n",
      "         0.0001, -0.0278,  0.0823,  0.0298,  0.0329,  0.1003,  0.0689,  0.0531],\n",
      "       requires_grad=True)\n",
      "Layer: lstm.weight_ih_l2 | Size: torch.Size([512, 128]) | Values: Parameter containing:\n",
      "tensor([[-0.0584,  0.0540,  0.0344,  ...,  0.0039, -0.0963,  0.0483],\n",
      "        [ 0.0005,  0.0175, -0.0373,  ..., -0.0278, -0.0207,  0.0507],\n",
      "        [-0.0104, -0.0618,  0.0418,  ...,  0.0279,  0.0464, -0.0040],\n",
      "        ...,\n",
      "        [ 0.0101,  0.0541, -0.0556,  ..., -0.0068, -0.0917, -0.0592],\n",
      "        [ 0.0155,  0.0503,  0.0728,  ..., -0.0510, -0.0777, -0.0457],\n",
      "        [ 0.0146,  0.1030, -0.0327,  ..., -0.0419,  0.0063, -0.0099]],\n",
      "       requires_grad=True)\n",
      "Layer: lstm.weight_hh_l2 | Size: torch.Size([512, 128]) | Values: Parameter containing:\n",
      "tensor([[ 0.0860,  0.0435,  0.0394,  ...,  0.0272, -0.0309,  0.0443],\n",
      "        [ 0.0570, -0.0756, -0.0033,  ..., -0.0114,  0.0068, -0.0379],\n",
      "        [-0.0748,  0.0485, -0.0559,  ..., -0.0522,  0.0881, -0.0190],\n",
      "        ...,\n",
      "        [ 0.0733,  0.0118,  0.0515,  ...,  0.0018, -0.0117, -0.0014],\n",
      "        [ 0.0617,  0.0765, -0.0683,  ...,  0.0463,  0.0392,  0.0461],\n",
      "        [ 0.0841, -0.0132,  0.0078,  ...,  0.0362,  0.0248, -0.0846]],\n",
      "       requires_grad=True)\n",
      "Layer: lstm.bias_ih_l2 | Size: torch.Size([512]) | Values: Parameter containing:\n",
      "tensor([-0.0359,  0.0551, -0.0092, -0.0081,  0.0850, -0.0483,  0.0772, -0.0542,\n",
      "        -0.0327, -0.0400,  0.0136,  0.0567, -0.0053, -0.0307, -0.0289, -0.0643,\n",
      "         0.0888,  0.0403,  0.0494,  0.0864, -0.0122,  0.0545, -0.0274,  0.0006,\n",
      "         0.0713, -0.0274, -0.0649, -0.0013,  0.0355,  0.0804,  0.0703, -0.0447,\n",
      "        -0.0503, -0.0497,  0.0877,  0.0453,  0.0569, -0.0040, -0.0591,  0.0326,\n",
      "        -0.0528,  0.0922, -0.0187, -0.0527,  0.0563,  0.0374, -0.0322,  0.0359,\n",
      "         0.0683,  0.0402, -0.1006, -0.0678,  0.0546,  0.0588,  0.0595,  0.0757,\n",
      "         0.0135,  0.0971, -0.0201, -0.0556,  0.0746, -0.0509,  0.1004, -0.0439,\n",
      "        -0.0775,  0.0205, -0.0162,  0.0803, -0.0489, -0.0741, -0.0167, -0.0575,\n",
      "        -0.0063,  0.0806, -0.0415, -0.0028, -0.0286,  0.0707,  0.0901,  0.0548,\n",
      "         0.0435, -0.0882,  0.0797, -0.0279, -0.0604, -0.0108, -0.0627,  0.0579,\n",
      "         0.0523,  0.0016,  0.0039, -0.0679,  0.0802, -0.0639,  0.0604,  0.0709,\n",
      "        -0.0625, -0.0435, -0.0765,  0.0755,  0.0052,  0.0091,  0.0530, -0.0071,\n",
      "        -0.0092, -0.0529, -0.0083, -0.0192,  0.0162, -0.0512,  0.0214, -0.0573,\n",
      "        -0.0438, -0.0476, -0.0335,  0.0668,  0.0472,  0.0766, -0.0428, -0.0109,\n",
      "         0.0912,  0.0487,  0.0430, -0.0093, -0.0673,  0.1009, -0.0649, -0.0759,\n",
      "        -0.0496, -0.0010,  0.0868,  0.0727, -0.0412,  0.0108, -0.0873, -0.0789,\n",
      "        -0.0135,  0.0236,  0.0672, -0.0876, -0.0711, -0.0388, -0.0489, -0.0312,\n",
      "         0.0384, -0.0688,  0.0158,  0.0079,  0.0400, -0.0563, -0.0826,  0.0592,\n",
      "        -0.0357,  0.0363, -0.0465, -0.0527, -0.0109, -0.0014,  0.0499, -0.0698,\n",
      "         0.0290,  0.0616,  0.0477,  0.0101, -0.0201,  0.0307,  0.0154,  0.0321,\n",
      "        -0.0523,  0.0746, -0.0363, -0.0248, -0.0568, -0.0549, -0.0102,  0.0472,\n",
      "        -0.0079,  0.0340,  0.0762,  0.0205,  0.0341,  0.0453, -0.0877,  0.0481,\n",
      "         0.0449,  0.0424, -0.0735, -0.0445,  0.0193,  0.0573, -0.0815,  0.0850,\n",
      "         0.0409,  0.0717, -0.0007,  0.0290, -0.0161, -0.0752, -0.0411,  0.0607,\n",
      "        -0.0084, -0.0182,  0.0687,  0.0733, -0.0870,  0.0417, -0.0096, -0.0088,\n",
      "         0.0635, -0.0251,  0.0523,  0.0546,  0.0857, -0.0268, -0.0245, -0.0554,\n",
      "         0.0647, -0.0525, -0.0601,  0.0611,  0.0171,  0.0782, -0.0724,  0.0323,\n",
      "         0.0424,  0.0636,  0.0082, -0.0729,  0.0876,  0.0531, -0.0126,  0.0007,\n",
      "         0.0176, -0.0227, -0.0307,  0.0520, -0.0361,  0.0123,  0.0261, -0.0835,\n",
      "         0.0798,  0.0759, -0.0153, -0.0190, -0.0540,  0.0742, -0.0301, -0.0234,\n",
      "         0.0795, -0.0718, -0.0432, -0.0723, -0.0311, -0.0682,  0.0153, -0.0161,\n",
      "        -0.0675, -0.0676,  0.0832, -0.0023, -0.0447,  0.0856, -0.0860,  0.0959,\n",
      "         0.0803, -0.0593, -0.0534,  0.0531,  0.0184, -0.0064,  0.0698,  0.0692,\n",
      "         0.0869, -0.0446, -0.0101,  0.0133, -0.0292,  0.0572,  0.0631,  0.0490,\n",
      "        -0.0080,  0.0514,  0.0137, -0.0007,  0.0953, -0.0381,  0.0450, -0.0935,\n",
      "        -0.0911,  0.0030, -0.0664, -0.0261,  0.0297, -0.0563, -0.0148,  0.0525,\n",
      "        -0.0625, -0.0604,  0.0730, -0.0707, -0.0109, -0.0965, -0.0575,  0.0947,\n",
      "         0.0100,  0.0509, -0.0076,  0.0842,  0.0155,  0.0389, -0.0487,  0.0536,\n",
      "         0.0650,  0.0314,  0.0033, -0.0062, -0.0480,  0.0071, -0.0035,  0.0030,\n",
      "         0.0328, -0.0253, -0.0446,  0.0864,  0.0173, -0.0726,  0.0155, -0.0805,\n",
      "         0.0437,  0.0669, -0.0256, -0.0863,  0.0891,  0.0953, -0.0451,  0.0599,\n",
      "        -0.0280,  0.0602,  0.0200, -0.0808, -0.0837,  0.0619,  0.0120, -0.0722,\n",
      "         0.0794, -0.0777,  0.0768, -0.0097, -0.0590,  0.0329,  0.0960, -0.0577,\n",
      "         0.0083, -0.0589,  0.0777, -0.0432, -0.0185, -0.0250, -0.0035, -0.0775,\n",
      "        -0.0830, -0.0080, -0.0502, -0.0933, -0.0560,  0.0716,  0.0332, -0.0264,\n",
      "         0.0412,  0.0124,  0.0768,  0.0479, -0.0486,  0.0084, -0.0340,  0.0092,\n",
      "         0.0321, -0.0113,  0.0704, -0.0284,  0.0184, -0.0542,  0.0249, -0.0575,\n",
      "         0.0109,  0.0580,  0.0498,  0.0544,  0.0099,  0.0248,  0.0627, -0.0383,\n",
      "        -0.0756,  0.0326, -0.0070,  0.0540,  0.0474,  0.0404, -0.0476,  0.0374,\n",
      "         0.0970, -0.0075,  0.0027,  0.0171,  0.0466, -0.0155,  0.0109,  0.0608,\n",
      "        -0.0361, -0.0742, -0.0337,  0.0725, -0.0536,  0.0696,  0.0344,  0.0110,\n",
      "        -0.0319, -0.0097, -0.0307,  0.0840, -0.0483,  0.0737, -0.0310,  0.0049,\n",
      "        -0.0064, -0.0601, -0.0016,  0.0216,  0.0251, -0.0189, -0.0385,  0.0972,\n",
      "         0.0764,  0.0119, -0.0258, -0.0348,  0.0839,  0.0589,  0.0254,  0.0146,\n",
      "         0.0048,  0.0621,  0.0198,  0.0133, -0.0155,  0.0784, -0.0425,  0.0283,\n",
      "        -0.0356, -0.0755, -0.0351,  0.0583, -0.0380, -0.0321, -0.0425,  0.0835,\n",
      "        -0.0177, -0.0096, -0.0623, -0.0412, -0.0725,  0.0925,  0.0697,  0.0924,\n",
      "         0.0037,  0.0150, -0.0131,  0.0979, -0.0333,  0.0385, -0.0670, -0.0632,\n",
      "        -0.0110,  0.0876,  0.0718,  0.0034, -0.0089, -0.0561,  0.0301,  0.0239,\n",
      "        -0.0576, -0.0490,  0.0003, -0.0648, -0.0428,  0.0110,  0.0116, -0.0299,\n",
      "         0.0860, -0.0082, -0.0585,  0.0839, -0.0120,  0.0660,  0.0072, -0.0523,\n",
      "         0.0468,  0.0882, -0.0244,  0.0852,  0.0799, -0.0640,  0.0955, -0.0649,\n",
      "         0.0897,  0.0794, -0.0259,  0.0156, -0.0423,  0.0527,  0.0795,  0.0735],\n",
      "       requires_grad=True)\n",
      "Layer: lstm.bias_hh_l2 | Size: torch.Size([512]) | Values: Parameter containing:\n",
      "tensor([-0.0425,  0.0303,  0.0363, -0.0119,  0.0175,  0.0780,  0.0683, -0.0521,\n",
      "        -0.0098,  0.0263,  0.0391, -0.0592,  0.0153,  0.0734, -0.0220, -0.0205,\n",
      "        -0.0412, -0.0668,  0.0730,  0.0686, -0.0426,  0.0387, -0.0606,  0.0703,\n",
      "        -0.0675,  0.0577, -0.0375, -0.0379,  0.0940,  0.0536, -0.0534, -0.0728,\n",
      "        -0.0045,  0.0219, -0.0697,  0.0921,  0.0270, -0.0660, -0.0460,  0.0425,\n",
      "         0.0692, -0.0625,  0.0655,  0.0023, -0.0380, -0.0507, -0.0622,  0.0011,\n",
      "         0.0230, -0.0505,  0.0095, -0.0556, -0.0561,  0.0344,  0.0433,  0.0880,\n",
      "         0.0289,  0.0695,  0.0758,  0.0697, -0.0378, -0.0088, -0.0556, -0.0036,\n",
      "        -0.0318, -0.0145, -0.0444,  0.0691,  0.0063, -0.0224, -0.0336, -0.0500,\n",
      "         0.0812, -0.0894,  0.0073,  0.0125,  0.0401,  0.0603,  0.0275, -0.0486,\n",
      "         0.0830,  0.0340,  0.0673, -0.0663,  0.1005,  0.0585, -0.0257, -0.0707,\n",
      "         0.0483,  0.0610,  0.0840,  0.1000,  0.0185, -0.0352, -0.0471,  0.0274,\n",
      "        -0.0722,  0.0817,  0.0413,  0.0773, -0.0371,  0.0783,  0.0405,  0.0810,\n",
      "         0.1018,  0.0309, -0.0437,  0.0989,  0.0364, -0.0210, -0.0556, -0.0618,\n",
      "        -0.0108,  0.0366, -0.0458,  0.0310, -0.0307,  0.0547, -0.0431, -0.0248,\n",
      "         0.0211, -0.0391,  0.0345, -0.0526,  0.0846,  0.0229,  0.0292,  0.0064,\n",
      "         0.0101, -0.0153,  0.0817, -0.0004, -0.0183, -0.0593, -0.0162, -0.0071,\n",
      "         0.0515, -0.0713, -0.0749, -0.0818, -0.0877, -0.0407,  0.0029, -0.0441,\n",
      "        -0.0480, -0.0612, -0.0137, -0.0219, -0.0693, -0.0601,  0.0207, -0.0121,\n",
      "         0.0443, -0.0813,  0.0657, -0.0871, -0.0165,  0.0514, -0.0490,  0.0783,\n",
      "         0.0272,  0.0531, -0.0860, -0.0857, -0.0283, -0.0707,  0.0233,  0.0408,\n",
      "         0.0372, -0.0152,  0.0667, -0.0180,  0.0711,  0.0484,  0.0505,  0.0027,\n",
      "         0.0381,  0.0483, -0.0544, -0.0345,  0.0359,  0.0236, -0.0233, -0.0423,\n",
      "         0.0112,  0.0025,  0.0295,  0.0872,  0.0843, -0.0020,  0.0626,  0.0737,\n",
      "         0.0739, -0.0486,  0.0861, -0.0270, -0.0756,  0.0466, -0.0160, -0.0399,\n",
      "        -0.0428, -0.0070, -0.0180, -0.0079, -0.0331, -0.0267,  0.0695, -0.0625,\n",
      "         0.0038,  0.0768, -0.0196, -0.0271, -0.0667,  0.0879,  0.0569,  0.0228,\n",
      "        -0.0599, -0.0708,  0.0757, -0.0095, -0.0024,  0.0193, -0.0226,  0.0588,\n",
      "         0.0337,  0.0397,  0.0436, -0.0744, -0.0141, -0.0156, -0.0249, -0.0211,\n",
      "        -0.0617,  0.0481, -0.0684,  0.0259, -0.0873,  0.0342,  0.0071,  0.0161,\n",
      "         0.0185, -0.0869,  0.0592, -0.0570,  0.0166,  0.0770,  0.0649, -0.0817,\n",
      "         0.0049, -0.0575, -0.0363,  0.0493,  0.0783, -0.0312, -0.0351,  0.0685,\n",
      "         0.0294, -0.0894, -0.0275,  0.0323, -0.0803,  0.0946,  0.0549, -0.0797,\n",
      "         0.0301,  0.0204, -0.0915, -0.0607, -0.0467,  0.0111, -0.0621, -0.0175,\n",
      "         0.0593,  0.0102,  0.0764, -0.0406,  0.0419, -0.0508, -0.0678,  0.0116,\n",
      "         0.0923, -0.0804, -0.0398,  0.0129, -0.0616, -0.0481, -0.0733, -0.0583,\n",
      "        -0.0935,  0.0664, -0.0170,  0.0747, -0.0682, -0.0355,  0.0205, -0.0263,\n",
      "        -0.0760, -0.0585,  0.0276,  0.0875, -0.0928, -0.0932,  0.0960, -0.0039,\n",
      "        -0.0765, -0.0154, -0.0134,  0.0683, -0.0026, -0.0636, -0.0333, -0.0167,\n",
      "        -0.0815, -0.0534,  0.0688,  0.0009,  0.0388, -0.0099, -0.0839, -0.0946,\n",
      "        -0.0566,  0.0614, -0.0314, -0.0081,  0.0528, -0.0418,  0.0688,  0.0612,\n",
      "        -0.0300,  0.0419, -0.0041, -0.0647,  0.0088, -0.0507,  0.0628, -0.0086,\n",
      "         0.0663, -0.0550,  0.0629, -0.0724, -0.0894, -0.0629,  0.0537, -0.0889,\n",
      "        -0.0830, -0.0505,  0.0693, -0.0326,  0.0729, -0.0244,  0.0672, -0.0362,\n",
      "        -0.0760, -0.0041,  0.0527, -0.0453, -0.0868,  0.0676, -0.0546, -0.0513,\n",
      "        -0.0500, -0.0782,  0.0602, -0.0903, -0.0941, -0.0595,  0.0466, -0.0686,\n",
      "        -0.0605,  0.0507, -0.0592,  0.0139,  0.0329,  0.0731,  0.0348, -0.0240,\n",
      "         0.0690,  0.0948, -0.0474,  0.0691, -0.0062,  0.0865,  0.0117, -0.0007,\n",
      "         0.0195,  0.0309,  0.0533,  0.0736, -0.0055, -0.0316, -0.0145,  0.0248,\n",
      "        -0.0245, -0.0134,  0.0067, -0.0712, -0.0037, -0.0514,  0.0155, -0.0994,\n",
      "         0.0444,  0.0224,  0.0331, -0.0144,  0.0216,  0.0930,  0.0342, -0.0756,\n",
      "        -0.0016, -0.0581, -0.0285,  0.0519, -0.0705, -0.0711,  0.0529,  0.0335,\n",
      "         0.0619,  0.0348,  0.0086,  0.0270, -0.0714, -0.0111, -0.0121, -0.0298,\n",
      "         0.0801, -0.0760, -0.0332, -0.0228, -0.0207, -0.0214, -0.0285,  0.0984,\n",
      "         0.0116,  0.0372, -0.0767,  0.0710,  0.0318,  0.0658, -0.0132,  0.0759,\n",
      "         0.0451, -0.0154, -0.0205, -0.0731, -0.0022,  0.0246, -0.0431,  0.0347,\n",
      "         0.0169,  0.0656, -0.0696, -0.0522,  0.0141, -0.0482,  0.0935, -0.0299,\n",
      "         0.0918,  0.0828, -0.0228, -0.0458,  0.0978, -0.0004,  0.0705,  0.0706,\n",
      "         0.0325, -0.0805,  0.0868, -0.0142, -0.0465,  0.0994,  0.0175,  0.0075,\n",
      "        -0.0737,  0.0630,  0.0793, -0.0248, -0.0140,  0.0484, -0.0325,  0.0929,\n",
      "        -0.0797, -0.0034, -0.0663, -0.0627, -0.0300, -0.0504, -0.0247, -0.0441,\n",
      "        -0.0745, -0.0535, -0.0572, -0.0006, -0.0374,  0.0398,  0.0188,  0.0277,\n",
      "         0.0954,  0.0941,  0.0772,  0.0225,  0.0655,  0.0057,  0.0299,  0.0094,\n",
      "        -0.0129,  0.0834, -0.0292,  0.0212,  0.0658,  0.0460,  0.0614, -0.0036],\n",
      "       requires_grad=True)\n",
      "Layer: fc.weight | Size: torch.Size([1, 128]) | Values: Parameter containing:\n",
      "tensor([[ 0.0649,  0.0914, -0.0870, -0.0832,  0.0168, -0.0196,  0.0225, -0.0858,\n",
      "         -0.0564,  0.0367,  0.0328,  0.0961, -0.1000, -0.0562, -0.0707, -0.0041,\n",
      "         -0.0262, -0.0003,  0.0669,  0.0260, -0.0602,  0.0821,  0.0293,  0.0793,\n",
      "         -0.0220, -0.0717,  0.0324,  0.0239, -0.0589,  0.0984, -0.0123,  0.0525,\n",
      "          0.1016, -0.1005, -0.0688, -0.0585, -0.0819,  0.0235, -0.0718, -0.0214,\n",
      "         -0.0445,  0.0225,  0.0739, -0.0775,  0.0738,  0.0318, -0.0237, -0.0859,\n",
      "          0.0787,  0.0325, -0.0011, -0.0494,  0.0919,  0.0191, -0.0458, -0.0682,\n",
      "          0.0490,  0.0376,  0.0519,  0.0901,  0.0828,  0.0648,  0.0702,  0.0920,\n",
      "         -0.0222,  0.0688,  0.0469, -0.0792, -0.0639,  0.0928,  0.0747,  0.0992,\n",
      "         -0.0835,  0.0154, -0.0531,  0.0575, -0.0198, -0.0903,  0.0315,  0.0566,\n",
      "         -0.1046, -0.0133,  0.0331,  0.0762,  0.0648, -0.0753, -0.0993,  0.0561,\n",
      "          0.0359, -0.0537, -0.0543,  0.0927, -0.0837, -0.0534, -0.0985,  0.0565,\n",
      "         -0.0528,  0.0127, -0.0522,  0.0982,  0.0947,  0.0160,  0.0902, -0.0868,\n",
      "          0.0892, -0.0558, -0.0449,  0.0746,  0.0901, -0.0712, -0.0829,  0.0601,\n",
      "         -0.0300, -0.0926,  0.0884, -0.0964,  0.0767,  0.0515,  0.0231,  0.0172,\n",
      "          0.0452, -0.0472, -0.0563, -0.0435, -0.0721, -0.1053, -0.0617,  0.0145]],\n",
      "       requires_grad=True)\n",
      "Layer: fc.bias | Size: torch.Size([1]) | Values: Parameter containing:\n",
      "tensor([-0.0110], requires_grad=True)\n"
     ]
    }
   ],
   "source": [
    "for name, param in multimodal_model.named_parameters():\n",
    "    if 'weight' in name:\n",
    "        print(f'Layer: {name} | Size: {param.size()} | Values: {param}')\n",
    "    if 'bias' in name:\n",
    "        print(f'Layer: {name} | Size: {param.size()} | Values: {param}')\n"
   ]
  },
  {
   "cell_type": "code",
   "execution_count": 39,
   "metadata": {},
   "outputs": [
    {
     "data": {
      "application/vnd.jupyter.widget-view+json": {
       "model_id": "65d4542ecaef434991ee4aad9981c987",
       "version_major": 2,
       "version_minor": 0
      },
      "text/plain": [
       "Evaluation:   0%|          | 0/31 [00:00<?, ?it/s]"
      ]
     },
     "metadata": {},
     "output_type": "display_data"
    }
   ],
   "source": [
    "y_pred = []\n",
    "\n",
    "for inputs in tqdm_notebook(final_concat_lstm_features,total=len(final_concat_lstm_features), desc='Evaluation'):\n",
    "    with torch.no_grad():\n",
    "        multimodal_model.eval()\n",
    "        outputs, out = multimodal_model(inputs.reshape(-1,1,input_size))\n",
    "        y_pred.append(outputs)"
   ]
  },
  {
   "cell_type": "code",
   "execution_count": 40,
   "metadata": {},
   "outputs": [
    {
     "data": {
      "text/plain": [
       "(31, torch.Size([250, 1]), torch.Size([250]))"
      ]
     },
     "execution_count": 40,
     "metadata": {},
     "output_type": "execute_result"
    }
   ],
   "source": [
    "len(y_pred),y_pred[0].shape,y_pred[0].squeeze().shape"
   ]
  },
  {
   "cell_type": "code",
   "execution_count": 41,
   "metadata": {},
   "outputs": [
    {
     "data": {
      "text/plain": [
       "(31, torch.Size([1, 250]), torch.Size([250]))"
      ]
     },
     "execution_count": 41,
     "metadata": {},
     "output_type": "execute_result"
    }
   ],
   "source": [
    "len(label), label[0].shape, label[0].squeeze().shape"
   ]
  },
  {
   "cell_type": "code",
   "execution_count": 42,
   "metadata": {},
   "outputs": [],
   "source": [
    "y_pred_flat = [y.item() for x in y_pred for y in x]\n",
    "\n",
    "label = [t.squeeze().tolist() for t in label]\n",
    "label = sum(label, [])"
   ]
  },
  {
   "cell_type": "code",
   "execution_count": 43,
   "metadata": {},
   "outputs": [
    {
     "data": {
      "text/plain": [
       "(6700, 6700)"
      ]
     },
     "execution_count": 43,
     "metadata": {},
     "output_type": "execute_result"
    }
   ],
   "source": [
    "len(y_pred_flat), len(label)"
   ]
  },
  {
   "cell_type": "code",
   "execution_count": 44,
   "metadata": {},
   "outputs": [],
   "source": [
    "y_pred = np.array(y_pred_flat)\n",
    "y_true = np.array(label)"
   ]
  },
  {
   "cell_type": "code",
   "execution_count": 45,
   "metadata": {},
   "outputs": [
    {
     "data": {
      "text/plain": [
       "(array([0.42905778, 0.42501441, 0.43599096, ..., 0.50213259, 0.11405693,\n",
       "        0.11077652]),\n",
       " array([0., 0., 0., ..., 0., 0., 0.]))"
      ]
     },
     "execution_count": 45,
     "metadata": {},
     "output_type": "execute_result"
    }
   ],
   "source": [
    "y_pred, y_true"
   ]
  },
  {
   "cell_type": "code",
   "execution_count": null,
   "metadata": {},
   "outputs": [],
   "source": []
  },
  {
   "cell_type": "code",
   "execution_count": 51,
   "metadata": {},
   "outputs": [
    {
     "name": "stdout",
     "output_type": "stream",
     "text": [
      "F1 Score:  0.5342146189735615\n",
      "Accuracy:  0.4635820895522388\n",
      "Precision:  0.4152730203505944\n",
      "Recall:  0.7486378496185979\n"
     ]
    }
   ],
   "source": [
    "from sklearn.metrics import f1_score, accuracy_score, precision_score, recall_score\n",
    "\n",
    "# Threshold 하나 일때만\n",
    "THRES = 0.4\n",
    "\n",
    "# calculate scores\n",
    "f1 = f1_score(y_true, np.where(y_pred > THRES, 1, 0), average='binary')\n",
    "acc = accuracy_score(y_true, np.where(y_pred > THRES, 1, 0))\n",
    "prec = precision_score(y_true, np.where(y_pred > THRES, 1, 0))\n",
    "rec = recall_score(y_true, np.where(y_pred > THRES, 1, 0))\n",
    "\n",
    "print(\"F1 Score: \", f1)\n",
    "print(\"Accuracy: \", acc)\n",
    "print(\"Precision: \", prec)\n",
    "print(\"Recall: \", rec)"
   ]
  },
  {
   "cell_type": "code",
   "execution_count": 47,
   "metadata": {},
   "outputs": [
    {
     "data": {
      "image/png": "[encoded data removed]",
      "text/plain": [
       "<Figure size 432x288 with 1 Axes>"
      ]
     },
     "metadata": {},
     "output_type": "display_data"
    }
   ],
   "source": [
    "import matplotlib.pyplot as plt\n",
    "import seaborn as sns\n",
    "\n",
    "# initialize lists for storing results\n",
    "f1_scores = []\n",
    "acc_scores = []\n",
    "prec_scores = []\n",
    "rec_scores = []\n",
    "\n",
    "# vary threshold and calculate scores\n",
    "for THRES in np.arange(0, 1.05, 0.05):\n",
    "    # calculate scores\n",
    "    f1 = f1_score(y_true, np.where(y_pred > THRES, 1, 0), average='binary')\n",
    "    acc = accuracy_score(y_true, np.where(y_pred > THRES, 1, 0))\n",
    "    prec = precision_score(y_true, np.where(y_pred > THRES, 1, 0))\n",
    "    rec = recall_score(y_true, np.where(y_pred > THRES, 1, 0))\n",
    "    \n",
    "    # store scores in lists\n",
    "    f1_scores.append(f1)\n",
    "    acc_scores.append(acc)\n",
    "    prec_scores.append(prec)\n",
    "    rec_scores.append(rec)\n",
    "\n",
    "# plot results\n",
    "sns.set_style(\"whitegrid\")\n",
    "plt.plot(np.arange(0, 1.05, 0.05), f1_scores, label='F1 Score')\n",
    "plt.plot(np.arange(0, 1.05, 0.05), acc_scores, label='Accuracy')\n",
    "plt.plot(np.arange(0, 1.05, 0.05), prec_scores, label='Precision')\n",
    "plt.plot(np.arange(0, 1.05, 0.05), rec_scores, label='Recall')\n",
    "plt.xlabel('Threshold')\n",
    "plt.ylabel('Score')\n",
    "plt.legend()\n",
    "plt.show()\n"
   ]
  },
  {
   "cell_type": "code",
   "execution_count": 48,
   "metadata": {},
   "outputs": [
    {
     "data": {
      "image/png": "[encoded data removed]",
      "text/plain": [
       "<Figure size 432x288 with 1 Axes>"
      ]
     },
     "metadata": {},
     "output_type": "display_data"
    }
   ],
   "source": [
    "import matplotlib.pyplot as plt\n",
    "from sklearn.metrics import roc_curve, auc\n",
    "\n",
    "# calculate fpr and tpr for different thresholds\n",
    "fpr, tpr, thresholds = roc_curve(y_true, y_pred)\n",
    "\n",
    "# calculate AUC\n",
    "roc_auc = auc(fpr, tpr)\n",
    "\n",
    "# plot ROC curve\n",
    "plt.plot(fpr, tpr, label='ROC curve (area = %0.2f)' % roc_auc)\n",
    "plt.plot([0, 1], [0, 1], 'k--')\n",
    "plt.xlim([0.0, 1.0])\n",
    "plt.ylim([0.0, 1.05])\n",
    "plt.xlabel('False Positive Rate')\n",
    "plt.ylabel('True Positive Rate')\n",
    "plt.title('Receiver Operating Characteristic')\n",
    "plt.legend(loc=\"lower right\")\n",
    "plt.show()\n"
   ]
  },
  {
   "cell_type": "code",
   "execution_count": null,
   "metadata": {},
   "outputs": [],
   "source": []
  },
  {
   "cell_type": "code",
   "execution_count": 153,
   "metadata": {},
   "outputs": [
    {
     "data": {
      "text/plain": [
       "[<matplotlib.lines.Line2D at 0x7fb7306e4340>]"
      ]
     },
     "execution_count": 153,
     "metadata": {},
     "output_type": "execute_result"
    },
    {
     "data": {
      "image/png": "[encoded data removed]",
      "text/plain": [
       "<Figure size 432x288 with 1 Axes>"
      ]
     },
     "metadata": {},
     "output_type": "display_data"
    }
   ],
   "source": [
    "import matplotlib.pyplot as plt\n",
    "plt.plot(outputs.detach().numpy())"
   ]
  },
  {
   "cell_type": "code",
   "execution_count": 156,
   "metadata": {},
   "outputs": [
    {
     "data": {
      "text/plain": [
       "<seaborn.axisgrid.FacetGrid at 0x7fb73073ac40>"
      ]
     },
     "execution_count": 156,
     "metadata": {},
     "output_type": "execute_result"
    },
    {
     "data": {
      "image/png": "[encoded data removed]",
      "text/plain": [
       "<Figure size 402.25x360 with 1 Axes>"
      ]
     },
     "metadata": {},
     "output_type": "display_data"
    }
   ],
   "source": [
    "sns.displot(outputs.detach().numpy())"
   ]
  },
  {
   "cell_type": "code",
   "execution_count": null,
   "metadata": {},
   "outputs": [],
   "source": [
    "THRESHOLD = 0.027\n",
    "\n",
    "total_secs = 0\n",
    "\n",
    "for i, y_p in enumerate(outputs.detach().numpy()):\n",
    "    #print(i, y_p)\n",
    "    if y_p >= THRESHOLD:\n",
    "        print(i * SAMPLE_EVERY_SEC)\n",
    "        total_secs += SAMPLE_EVERY_SEC\n",
    "\n",
    "total_secs"
   ]
  },
  {
   "cell_type": "code",
   "execution_count": null,
   "metadata": {},
   "outputs": [],
   "source": [
    "clip = VideoFileClip(video_path)\n",
    "\n",
    "subclips = []\n",
    "\n",
    "for i, y_p in enumerate(outputs.detach().numpy()):\n",
    "    sec = i * SAMPLE_EVERY_SEC\n",
    "\n",
    "    if y_p >= THRESHOLD:\n",
    "        subclip = clip.subclip(sec, sec + SAMPLE_EVERY_SEC)\n",
    "        subclips.append(subclip)\n",
    "\n",
    "result = concatenate_videoclips(subclips)\n",
    "\n",
    "result.write_videofile(\"videos/result.mp4\")\n",
    "\n",
    "result.ipython_display(width=640, maxduration=240)"
   ]
  },
  {
   "cell_type": "markdown",
   "metadata": {},
   "source": [
    "# model evaluation"
   ]
  },
  {
   "cell_type": "code",
   "execution_count": null,
   "metadata": {},
   "outputs": [],
   "source": [
    "def evaluate(y_true, y_pred):\n",
    "    tp = ((y_true == 1) & (y_pred == 1)).sum()\n",
    "    tn = ((y_true == 0) & (y_pred == 0)).sum()\n",
    "    fp = ((y_true == 0) & (y_pred == 1)).sum()\n",
    "    fn = ((y_true == 1) & (y_pred == 0)).sum()\n",
    "    \n",
    "    precision = tp / (tp + fp)\n",
    "    recall = tp / (tp + fn)\n",
    "    f1_score = 2 * (precision * recall) / (precision + recall)\n",
    "    \n",
    "    return f1_score, precision, recall"
   ]
  },
  {
   "cell_type": "code",
   "execution_count": null,
   "metadata": {},
   "outputs": [],
   "source": [
    "## 새로운 데이터로 evaluation  "
   ]
  }
 ],
 "metadata": {
  "kernelspec": {
   "display_name": "Python 3",
   "language": "python",
   "name": "python3"
  },
  "language_info": {
   "codemirror_mode": {
    "name": "ipython",
    "version": 3
   },
   "file_extension": ".py",
   "mimetype": "text/x-python",
   "name": "python",
   "nbconvert_exporter": "python",
   "pygments_lexer": "ipython3",
   "version": "3.8.5"
  }
 },
 "nbformat": 4,
 "nbformat_minor": 4
}
