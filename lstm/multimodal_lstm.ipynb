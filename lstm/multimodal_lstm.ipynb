{
 "cells": [
  {
   "cell_type": "code",
   "execution_count": 3,
   "metadata": {},
   "outputs": [],
   "source": [
    "import os\n",
    "\n",
    "import numpy as np\n",
    "import pandas as pd\n",
    "import torch"
   ]
  },
  {
   "cell_type": "code",
   "execution_count": 4,
   "metadata": {},
   "outputs": [
    {
     "name": "stdout",
     "output_type": "stream",
     "text": [
      "/workspace/EmotionShortForm/data_concatenate\n"
     ]
    }
   ],
   "source": [
    "%cd /workspace/EmotionShortForm/data_concatenate"
   ]
  },
  {
   "cell_type": "code",
   "execution_count": 5,
   "metadata": {},
   "outputs": [],
   "source": [
    "concatenate_vit_features = np.load('concatenate_vit_features_array.npy', allow_pickle=True)\n",
    "concatenate_audio_features = np.load('concatenate_features_array.npy', allow_pickle=True)\n",
    "labels = np.load('labels.npy', allow_pickle=True)"
   ]
  },
  {
   "cell_type": "code",
   "execution_count": 6,
   "metadata": {},
   "outputs": [
    {
     "name": "stdout",
     "output_type": "stream",
     "text": [
      "(556,)\n",
      "(556,)\n"
     ]
    }
   ],
   "source": [
    "print(concatenate_vit_features.shape)\n",
    "print(concatenate_audio_features.shape)"
   ]
  },
  {
   "cell_type": "code",
   "execution_count": 7,
   "metadata": {},
   "outputs": [
    {
     "name": "stdout",
     "output_type": "stream",
     "text": [
      "torch.Size([250, 768])\n",
      "torch.Size([250, 128])\n"
     ]
    }
   ],
   "source": [
    "print(concatenate_vit_features[64].shape)\n",
    "print(concatenate_audio_features[64].shape)"
   ]
  },
  {
   "cell_type": "code",
   "execution_count": 8,
   "metadata": {},
   "outputs": [
    {
     "name": "stdout",
     "output_type": "stream",
     "text": [
      "check2: torch.Size([224, 896])\n",
      "check2: torch.Size([85, 896])\n",
      "check2: torch.Size([88, 896])\n",
      "check2: torch.Size([75, 896])\n",
      "check2: torch.Size([202, 896])\n",
      "check2: torch.Size([245, 896])\n"
     ]
    }
   ],
   "source": [
    "features_concatenate_list = []\n",
    "cnt = 0\n",
    "max_seq_len = 896\n",
    "for vit_features, audio_features in zip(concatenate_vit_features, concatenate_audio_features):\n",
    "    if len(vit_features.cuda()) == len(audio_features):\n",
    "        concated_feature = torch.cat((vit_features.cuda(), audio_features), dim=1)\n",
    "    elif len(vit_features.cuda()) > len(audio_features):\n",
    "        # Split into columns of size 2\n",
    "        pad = torch.zeros((len(vit_features.cuda())-len(audio_features), 128))\n",
    "        audio_features = torch.cat((audio_features, pad), dim=0)\n",
    "        concated_feature =torch.cat((vit_features.cuda(), audio_features), dim=1)\n",
    "        print(f'check1: {concated_feature.shape}')\n",
    "    elif len(vit_features.cuda()) < len(audio_features):\n",
    "        pad = torch.zeros((len(audio_features)-len(vit_features.cuda()), 768))\n",
    "        vit_features = torch.cat((vit_features.cuda(), pad.cuda()), dim=0)\n",
    "        concated_feature =torch.cat((vit_features.cuda(), audio_features), dim=1)\n",
    "        print(f'check2: {concated_feature.shape}')\n",
    "    features_concatenate_list.append(concated_feature)"
   ]
  },
  {
   "cell_type": "code",
   "execution_count": 9,
   "metadata": {},
   "outputs": [
    {
     "data": {
      "text/plain": [
       "(556, torch.Size([250, 896]))"
      ]
     },
     "execution_count": 9,
     "metadata": {},
     "output_type": "execute_result"
    }
   ],
   "source": [
    "len(features_concatenate_list),features_concatenate_list[0].shape"
   ]
  },
  {
   "cell_type": "code",
   "execution_count": 10,
   "metadata": {},
   "outputs": [
    {
     "data": {
      "text/plain": [
       "(556,)"
      ]
     },
     "execution_count": 10,
     "metadata": {},
     "output_type": "execute_result"
    }
   ],
   "source": [
    "labels.shape"
   ]
  },
  {
   "cell_type": "markdown",
   "metadata": {},
   "source": [
    "# Dataset, DataLoader"
   ]
  },
  {
   "cell_type": "code",
   "execution_count": 11,
   "metadata": {},
   "outputs": [],
   "source": [
    "from torch.utils.data import DataLoader, Dataset\n",
    "from sklearn.model_selection import train_test_split"
   ]
  },
  {
   "cell_type": "code",
   "execution_count": 12,
   "metadata": {},
   "outputs": [],
   "source": [
    "class MyDataset(Dataset):\n",
    "    def __init__(self, data, labels):\n",
    "        self.data = data\n",
    "        self.labels = labels\n",
    "        \n",
    "    def __len__(self):\n",
    "        return len(self.data)\n",
    "        \n",
    "    def __getitem__(self, idx):\n",
    "        return self.data[idx], torch.tensor(self.labels[idx])"
   ]
  },
  {
   "cell_type": "code",
   "execution_count": 13,
   "metadata": {},
   "outputs": [],
   "source": [
    "# Create an instance of dataset\n",
    "md = MyDataset(features_concatenate_list,labels)"
   ]
  },
  {
   "cell_type": "code",
   "execution_count": 14,
   "metadata": {},
   "outputs": [],
   "source": [
    "# train, test split\n",
    "train_idx, val_idx = train_test_split(range(len(md)), test_size=0.2)"
   ]
  },
  {
   "cell_type": "code",
   "execution_count": 15,
   "metadata": {},
   "outputs": [
    {
     "name": "stdout",
     "output_type": "stream",
     "text": [
      "444\n",
      "112\n"
     ]
    }
   ],
   "source": [
    "print(len(train_idx))\n",
    "print(len(val_idx))"
   ]
  },
  {
   "cell_type": "code",
   "execution_count": 16,
   "metadata": {},
   "outputs": [],
   "source": [
    "train_dataset = torch.utils.data.Subset(md, train_idx)\n",
    "train_dataloader = DataLoader(train_dataset)\n",
    "\n",
    "val_dataset = torch.utils.data.Subset(md, val_idx)\n",
    "val_dataloader = DataLoader(val_dataset)"
   ]
  },
  {
   "cell_type": "markdown",
   "metadata": {},
   "source": [
    "# Model"
   ]
  },
  {
   "cell_type": "code",
   "execution_count": 17,
   "metadata": {},
   "outputs": [],
   "source": [
    "import torch\n",
    "import torch.nn as nn\n",
    "\n",
    "class LSTMClassifier(nn.Module):\n",
    "    def __init__(self, input_size, hidden_size, num_layers, output_size):\n",
    "        super(LSTMClassifier, self).__init__()\n",
    "        self.hidden_size = hidden_size\n",
    "        self.num_layers = num_layers\n",
    "        self.lstm = nn.LSTM(input_size, hidden_size, num_layers, batch_first=True)\n",
    "        self.fc = nn.Linear(hidden_size, output_size)\n",
    "        self.sigmoid = nn.Sigmoid()\n",
    "        \n",
    "    def forward(self, x):\n",
    "        # Set initial hidden and cell states\n",
    "        h0 = torch.zeros(self.num_layers, x.size(0), self.hidden_size).to(x.device)\n",
    "        c0 = torch.zeros(self.num_layers, x.size(0), self.hidden_size).to(x.device)\n",
    "        \n",
    "        # Forward propagate LSTM\n",
    "        out, _ = self.lstm(x, (h0, c0))\n",
    "        \n",
    "        # Decode the hidden state of the last time step\n",
    "        out = self.fc(out[:, -1, :])\n",
    "        \n",
    "        output = self.sigmoid(out)\n",
    "        \n",
    "        return output, out\n"
   ]
  },
  {
   "cell_type": "markdown",
   "metadata": {},
   "source": [
    "# Training"
   ]
  },
  {
   "cell_type": "code",
   "execution_count": 18,
   "metadata": {},
   "outputs": [],
   "source": [
    "num_epochs = 500\n",
    "learning_rate = 0.0001\n",
    "\n",
    "device = torch.device('cuda' if torch.cuda.is_available() else 'cpu')\n",
    "\n",
    "input_size = 896\n",
    "hidden_size = 128\n",
    "num_layers = 3\n",
    "output_size = 1\n",
    "\n",
    "model = LSTMClassifier(input_size, hidden_size, num_layers, output_size).to(device)\n",
    "\n",
    "criterion = nn.BCELoss()\n",
    "optimizer = torch.optim.Adam(model.parameters(), lr=learning_rate) #SGD(model.parameters(), learning_rate,momentum=0.9,weight_decay=1e-4) "
   ]
  },
  {
   "cell_type": "code",
   "execution_count": 19,
   "metadata": {},
   "outputs": [],
   "source": [
    "class AverageMeter(object):\n",
    "    \"\"\"Computes and stores the average and current value\"\"\"\n",
    "    def __init__(self):\n",
    "        self.reset()\n",
    "\n",
    "    def reset(self):\n",
    "        self.val = 0\n",
    "        self.avg = 0\n",
    "        self.total = 0\n",
    "        self.count = 0\n",
    "\n",
    "    def update(self, val, n=1):\n",
    "        self.val = val\n",
    "        self.total += val * n\n",
    "        self.count += n\n",
    "        self.avg = self.total / self.count\n",
    "        \n",
    "# def fmeasure(output, target):\n",
    "#     _, pred = torch.tensor(output).topk(1, 1, True, True)\n",
    "#     pred = pred.view(-1,1)\n",
    "#     target = target.view(-1,1)\n",
    "      \n",
    "    \n",
    "#     #overlap = ((pred== 1) + (target == 1)).gt(1)\n",
    "#     #overlap = overlap.view(-1,1)\n",
    "   \n",
    "#     TP = len(np.where((pred==1)&(target==1)==True)[0]) # True positive\n",
    "#     FP = len(np.where((pred==1)&(target==0)==True)[0]) # Condition positive = TP + FN\n",
    "#     TN = len(np.where((pred==0)&(target==0)==True)[0])\n",
    "#     FN = len(np.where((pred==0)&(target==1)==True)[0])\n",
    "\n",
    "    \n",
    "#     #overlap_len = overlap.data.long().sum()\n",
    "#     pred_len = pred.data.long().sum()\n",
    "#     gt_len   =  target.data.long().sum()\n",
    "\n",
    "#     return TP,FP,TN,FN,pred_len, gt_len,pred"
   ]
  },
  {
   "cell_type": "code",
   "execution_count": 20,
   "metadata": {},
   "outputs": [],
   "source": [
    "def fmeasure(output, target):\n",
    "    pred = torch.topk(torch.from_numpy(output), 1)[1]\n",
    "    pred = pred.view(-1, 1).float()\n",
    "    target = target.view(-1, 1).float()\n",
    "    \n",
    "    TP = torch.logical_and(pred == 1, target == 1).sum().item()\n",
    "    FP = torch.logical_and(pred == 1, target == 0).sum().item()\n",
    "    TN = torch.logical_and(pred == 0, target == 0).sum().item()\n",
    "    FN = torch.logical_and(pred == 0, target == 1).sum().item()\n",
    "\n",
    "    pred_len = pred.sum().item()\n",
    "    gt_len = target.sum().item()\n",
    "\n",
    "    pred = pred.cpu().numpy()\n",
    "\n",
    "    return TP, FP, TN, FN, pred_len, gt_len, pred"
   ]
  },
  {
   "cell_type": "code",
   "execution_count": 21,
   "metadata": {},
   "outputs": [],
   "source": [
    "def fmeasure(output, target, threshold):\n",
    "    pred = (output > threshold).long() # 예측값을 threshold 기준으로 0 또는 1로 바꿔줍니다.\n",
    "\n",
    "    TP = torch.sum(torch.logical_and(pred == 1, target == 1)).item()\n",
    "    FP = torch.sum(torch.logical_and(pred == 1, target == 0)).item()\n",
    "    TN = torch.sum(torch.logical_and(pred == 0, target == 0)).item()\n",
    "    FN = torch.sum(torch.logical_and(pred == 0, target == 1)).item()\n",
    "    \n",
    "    pred_len = pred.sum().item()\n",
    "    gt_len = target.sum().item()\n",
    "\n",
    "    return TP, FP, TN, FN, pred_len, gt_len, pred\n"
   ]
  },
  {
   "cell_type": "code",
   "execution_count": null,
   "metadata": {
    "scrolled": true
   },
   "outputs": [],
   "source": [
    "### train, test 나눠서 성능 측정 - f1 score\n",
    "\n",
    "from tqdm.notebook import tqdm_notebook\n",
    "# LSTM ADAM\n",
    "\n",
    "weight_dir = '/workspace/EmotionShortForm/lstm/model/weight/'\n",
    "\n",
    "with open('/workspace/EmotionShortForm/lstm/results/train_result','a') as f:\n",
    "    f.write('=====lstm result=======\\n')\n",
    "f1_best=0\n",
    "for epoch in range(num_epochs):\n",
    "    running_loss = 0.0\n",
    "    model.train()\n",
    "    for inputs, labels in tqdm_notebook(train_dataloader, total=len(train_dataloader), desc='Training'):\n",
    "        if inputs.shape[1]!= labels.shape[1] : continue\n",
    "        \n",
    "        inputs = inputs.transpose(0,1).to(device)\n",
    "        labels = labels.squeeze(0).to(device)\n",
    "        \n",
    "        optimizer.zero_grad()\n",
    "        \n",
    "        # Forward pass\n",
    "        # print(inputs[:20])\n",
    "        # print(inputs.shape)\n",
    "        outputs,out = model(inputs)\n",
    "        outputs = outputs.squeeze(1)\n",
    "        # print()\n",
    "        # print(outputs[:20])\n",
    "        \n",
    "        #print(f'outputs:{outputs.shape}, labels:{labels.shape}')\n",
    "        \n",
    "        loss = criterion(outputs, labels.float())\n",
    "\n",
    "        # Backward and optimize\n",
    "        loss.backward()\n",
    "        optimizer.step()\n",
    "\n",
    "        running_loss += loss.item()\n",
    "\n",
    "    # print('Epoch [{}/{}], Loss: {:.4f}'.format(epoch+1, num_epochs, running_loss/len(dataloader)))\n",
    "    \n",
    "    model.eval()\n",
    "    val_losses=AverageMeter()\n",
    "    acc=0\n",
    "    gt_sum=0\n",
    "    tp_sum=0\n",
    "    fp_sum=0\n",
    "    fn_sum=0\n",
    "    thres = 0.2\n",
    "    acc=0\n",
    "    sum=0\n",
    "    pred_sum=0\n",
    "    with open('/workspace/EmotionShortForm/lstm/results/train_result','a') as f:\n",
    "        with torch.no_grad():\n",
    "            for inputs, labels in tqdm_notebook(val_dataloader, total=len(val_dataloader), desc='Validation'):\n",
    "                if inputs.shape[1]!= labels.shape[1] : continue\n",
    "                inputs = inputs.transpose(0,1).to(device)\n",
    "                labels = labels.squeeze(0).to(device)\n",
    "                outputs,out = model(inputs)\n",
    "                \n",
    "                # print(f'outputs.shape: {outputs.shape}, labels.shape: {labels.shape}')\n",
    "                \n",
    "                loss=criterion(outputs.squeeze(1),labels.float())\n",
    "                val_losses.update(loss,labels.size(0))\n",
    "                \n",
    "                TP,FP,TN,FN,pred_len, gt_len,pred=fmeasure(outputs.squeeze(1).cpu(),labels.cpu(),thres)\n",
    "                # print(\"TP: \",TP,\"FP: \", FP,\"TN: \", TN,\"FN\", FN,pred_len, gt_len)\n",
    "                tp_sum += TP\n",
    "                fp_sum += FP\n",
    "                fn_sum += FN\n",
    "                pred_sum += pred_len\n",
    "                gt_sum += gt_len\n",
    "                acc=acc+TP+TN\n",
    "                sum+=len(out)\n",
    "            if tp_sum>0 and fp_sum>0 and fn_sum>0:\n",
    "                precision = tp_sum/(tp_sum+fp_sum)\n",
    "                recall = tp_sum / (tp_sum+fn_sum)\n",
    "                f1 = (2*precision*recall / (precision + recall))\n",
    "                accuracy=acc/sum\n",
    "                print(\"epoch  [{}/{}], train_loss : {} , val_loss : {},p {}, r {}, f {}\\n\".format(epoch+1, num_epochs, running_loss/len(train_dataloader),val_losses.avg,precision,recall,f1))\n",
    "                f.write(\"epoch  [{}/{}], train_loss : {} , val_loss : {},p {}, r {}, f {}\\n\".format(epoch+1, num_epochs, running_loss/len(train_dataloader),val_losses.avg,precision,recall,f1))\n",
    "                # torch.save(model.state_dict(),'{}.pt'.format(weight_dir+str(epoch)+\"_train\"))\n",
    "                if f1_best<f1:\n",
    "                    f.write(\"== best epoch {} train_loss : {} , val_loss : {},p {}, r {}, f {}\\n\".format(epoch+1, num_epochs,running_loss/len(train_dataloader),val_losses.avg,precision,recall,f1))\n",
    "                    torch.save(model.state_dict(),'/workspace/EmotionShortForm/lstm/model/{}.pt'.format(str(epoch)+\"_best\"))\n",
    "                    f1_best=f1\n",
    "            else:\n",
    "                print(\"epoch  [{}/{}], train_loss : {} , val_loss : {},p {}, r {}, f {}\\n\".format(epoch+1, num_epochs,running_loss/len(train_dataloader),val_losses.avg,0,0,0))\n",
    "                f.write(\"epoch [{}/{}], train_loss : {} , val_loss : {},p {}, r {}, f {}\\n\".format(epoch+1, num_epochs,running_loss/len(train_dataloader),val_losses.avg,0,0,0))\n",
    "                # torch.save(model.state_dict(),'/workspace/EmotionShortForm/lstm/model/{}.pt'.format(str(epoch)+\"train\"))        \n",
    "        "
   ]
  },
  {
   "cell_type": "code",
   "execution_count": null,
   "metadata": {},
   "outputs": [],
   "source": []
  },
  {
   "cell_type": "code",
   "execution_count": null,
   "metadata": {},
   "outputs": [],
   "source": [
    "outputs"
   ]
  },
  {
   "cell_type": "code",
   "execution_count": null,
   "metadata": {},
   "outputs": [],
   "source": [
    "fmeasure(outputs.squeeze(1).cpu(), labels.cpu(), 0.2)"
   ]
  },
  {
   "cell_type": "code",
   "execution_count": null,
   "metadata": {},
   "outputs": [],
   "source": []
  },
  {
   "cell_type": "code",
   "execution_count": null,
   "metadata": {},
   "outputs": [],
   "source": []
  },
  {
   "cell_type": "code",
   "execution_count": null,
   "metadata": {},
   "outputs": [],
   "source": []
  },
  {
   "cell_type": "code",
   "execution_count": null,
   "metadata": {},
   "outputs": [],
   "source": []
  },
  {
   "cell_type": "code",
   "execution_count": null,
   "metadata": {},
   "outputs": [],
   "source": []
  },
  {
   "cell_type": "code",
   "execution_count": null,
   "metadata": {},
   "outputs": [],
   "source": []
  },
  {
   "cell_type": "code",
   "execution_count": null,
   "metadata": {},
   "outputs": [],
   "source": []
  },
  {
   "cell_type": "code",
   "execution_count": null,
   "metadata": {},
   "outputs": [],
   "source": []
  },
  {
   "cell_type": "code",
   "execution_count": null,
   "metadata": {},
   "outputs": [],
   "source": []
  },
  {
   "cell_type": "code",
   "execution_count": null,
   "metadata": {},
   "outputs": [],
   "source": []
  },
  {
   "cell_type": "code",
   "execution_count": null,
   "metadata": {},
   "outputs": [],
   "source": [
    "labels[0].shape"
   ]
  },
  {
   "cell_type": "code",
   "execution_count": null,
   "metadata": {},
   "outputs": [],
   "source": [
    "## class weight\n",
    "labels_list = [i.tolist() for i in labels]\n",
    "labels_flat = sum(labels_list, [])\n",
    "len(labels_flat)"
   ]
  },
  {
   "cell_type": "code",
   "execution_count": null,
   "metadata": {},
   "outputs": [],
   "source": [
    "class_count = [len(labels_flat)-sum(labels_flat), sum(labels_flat)]\n",
    "class_weight = torch.tensor([1/count for count in class_count])\n",
    "criterion = nn.BCELoss(weight = class_weight)"
   ]
  },
  {
   "cell_type": "code",
   "execution_count": null,
   "metadata": {},
   "outputs": [],
   "source": [
    "class_count, class_weight"
   ]
  },
  {
   "cell_type": "code",
   "execution_count": null,
   "metadata": {},
   "outputs": [],
   "source": []
  },
  {
   "cell_type": "code",
   "execution_count": null,
   "metadata": {},
   "outputs": [],
   "source": []
  },
  {
   "cell_type": "code",
   "execution_count": 22,
   "metadata": {},
   "outputs": [
    {
     "data": {
      "text/plain": [
       "<All keys matched successfully>"
      ]
     },
     "execution_count": 22,
     "metadata": {},
     "output_type": "execute_result"
    }
   ],
   "source": [
    "model.load_state_dict(torch.load('/workspace/EmotionShortForm/lstm/model/22_best.pt'))"
   ]
  },
  {
   "cell_type": "code",
   "execution_count": 25,
   "metadata": {},
   "outputs": [
    {
     "data": {
      "application/vnd.jupyter.widget-view+json": {
       "model_id": "24acd3dcb73644af8a7224c4cad3afb4",
       "version_major": 2,
       "version_minor": 0
      },
      "text/plain": [
       "Validation:   0%|          | 0/112 [00:00<?, ?it/s]"
      ]
     },
     "metadata": {},
     "output_type": "display_data"
    },
    {
     "name": "stdout",
     "output_type": "stream",
     "text": [
      "val_loss : 0.6365801095962524,p 0.3591287409243846, r 0.9881837008161773, f 0.5268045588856057\n",
      "\n"
     ]
    }
   ],
   "source": [
    "from tqdm.notebook import tqdm_notebook\n",
    "\n",
    "model.eval()\n",
    "val_losses=AverageMeter()\n",
    "acc=0\n",
    "gt_sum=0\n",
    "tp_sum=0\n",
    "fp_sum=0\n",
    "fn_sum=0\n",
    "thres = 0.2\n",
    "acc=0\n",
    "sum=0\n",
    "pred_sum=0\n",
    "with open('/workspace/EmotionShortForm/lstm/results/train_result','a') as f:\n",
    "    with torch.no_grad():\n",
    "        for inputs, labels in tqdm_notebook(val_dataloader, total=len(val_dataloader), desc='Validation'):\n",
    "            if inputs.shape[1]!= labels.shape[1] : continue\n",
    "            inputs = inputs.transpose(0,1).to(device)\n",
    "            labels = labels.squeeze(0).to(device)\n",
    "            outputs,out = model(inputs)\n",
    "\n",
    "            # print(f'outputs.shape: {outputs.shape}, labels.shape: {labels.shape}')\n",
    "\n",
    "            loss=criterion(outputs.squeeze(1),labels.float())\n",
    "            val_losses.update(loss,labels.size(0))\n",
    "\n",
    "            TP,FP,TN,FN,pred_len, gt_len,pred=fmeasure(outputs.squeeze(1).cpu(),labels.cpu(),thres)\n",
    "            # print(\"TP: \",TP,\"FP: \", FP,\"TN: \", TN,\"FN\", FN,pred_len, gt_len)\n",
    "            tp_sum += TP\n",
    "            fp_sum += FP\n",
    "            fn_sum += FN\n",
    "            pred_sum += pred_len\n",
    "            gt_sum += gt_len\n",
    "            acc=acc+TP+TN\n",
    "            sum+=len(out)\n",
    "        if tp_sum>0 and fp_sum>0 and fn_sum>0:\n",
    "            precision = tp_sum/(tp_sum+fp_sum)\n",
    "            recall = tp_sum / (tp_sum+fn_sum)\n",
    "            f1 = (2*precision*recall / (precision + recall))\n",
    "            accuracy=acc/sum\n",
    "            print(\"val_loss : {},p {}, r {}, f {}\\n\".format(val_losses.avg,precision,recall,f1))\n",
    "    \n"
   ]
  },
  {
   "cell_type": "code",
   "execution_count": 33,
   "metadata": {},
   "outputs": [
    {
     "data": {
      "image/png": "[encoded data removed]",
      "text/plain": [
       "<Figure size 720x360 with 1 Axes>"
      ]
     },
     "metadata": {},
     "output_type": "display_data"
    }
   ],
   "source": [
    "import pandas as pd\n",
    "import seaborn as sns\n",
    "import matplotlib.pyplot as plt\n",
    "\n",
    "sns.set_style('whitegrid')\n",
    "plt.figure(figsize=(10,5))\n",
    "ax = sns.barplot(x=['Precision', 'Recall', 'F1-score', 'Accuracy'], y=[precision, recall, f1, accuracy], palette='Blues_r')\n",
    "plt.title('Highlight Detection Performance by Audio Features', fontsize=16)\n",
    "for p in ax.patches:\n",
    "    ax.annotate(f\"{p.get_height():.2f}\", (p.get_x() + p.get_width() / 2., p.get_height()), \n",
    "                ha='center', va='center', fontsize=14, color='gray', xytext=(0, 10), \n",
    "                textcoords='offset points')\n",
    "plt.show()\n"
   ]
  },
  {
   "cell_type": "markdown",
   "metadata": {},
   "source": [
    "# model save"
   ]
  },
  {
   "cell_type": "code",
   "execution_count": 26,
   "metadata": {},
   "outputs": [
    {
     "name": "stdout",
     "output_type": "stream",
     "text": [
      "/workspace/EmotionShortForm/lstm\n"
     ]
    }
   ],
   "source": [
    "%cd /workspace/EmotionShortForm/lstm"
   ]
  },
  {
   "cell_type": "code",
   "execution_count": 27,
   "metadata": {},
   "outputs": [],
   "source": [
    "PATH = 'multimodal_model.pt'\n",
    "\n",
    "# 모델 저장\n",
    "torch.save(model.state_dict(), PATH)"
   ]
  },
  {
   "cell_type": "code",
   "execution_count": 36,
   "metadata": {},
   "outputs": [
    {
     "name": "stdout",
     "output_type": "stream",
     "text": [
      "Wed Apr 19 17:58:59 2023       \r\n",
      "+-----------------------------------------------------------------------------+\r\n",
      "| NVIDIA-SMI 525.85.12    Driver Version: 525.85.12    CUDA Version: 12.0     |\r\n",
      "|-------------------------------+----------------------+----------------------+\r\n",
      "| GPU  Name        Persistence-M| Bus-Id        Disp.A | Volatile Uncorr. ECC |\r\n",
      "| Fan  Temp  Perf  Pwr:Usage/Cap|         Memory-Usage | GPU-Util  Compute M. |\r\n",
      "|                               |                      |               MIG M. |\r\n",
      "|===============================+======================+======================|\r\n",
      "|   0  NVIDIA RTX A4000    Off  | 00000000:65:00.0 Off |                  Off |\r\n",
      "| 41%   31C    P8    15W / 140W |   6186MiB / 16376MiB |      0%      Default |\r\n",
      "|                               |                      |                  N/A |\r\n",
      "+-------------------------------+----------------------+----------------------+\r\n",
      "                                                                               \r\n",
      "+-----------------------------------------------------------------------------+\r\n",
      "| Processes:                                                                  |\r\n",
      "|  GPU   GI   CI        PID   Type   Process name                  GPU Memory |\r\n",
      "|        ID   ID                                                   Usage      |\r\n",
      "|=============================================================================|\r\n",
      "+-----------------------------------------------------------------------------+\r\n"
     ]
    }
   ],
   "source": [
    "!nvidia-smi"
   ]
  },
  {
   "cell_type": "code",
   "execution_count": null,
   "metadata": {},
   "outputs": [],
   "source": []
  }
 ],
 "metadata": {
  "kernelspec": {
   "display_name": "Python 3",
   "language": "python",
   "name": "python3"
  },
  "language_info": {
   "codemirror_mode": {
    "name": "ipython",
    "version": 3
   },
   "file_extension": ".py",
   "mimetype": "text/x-python",
   "name": "python",
   "nbconvert_exporter": "python",
   "pygments_lexer": "ipython3",
   "version": "3.8.5"
  }
 },
 "nbformat": 4,
 "nbformat_minor": 4
}
